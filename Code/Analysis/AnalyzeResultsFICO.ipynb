{
 "cells": [
  {
   "cell_type": "markdown",
   "metadata": {},
   "source": [
    "# Packages"
   ]
  },
  {
   "cell_type": "code",
   "execution_count": 1,
   "metadata": {},
   "outputs": [],
   "source": [
    "import os\n",
    "import itertools\n",
    "import numpy as np\n",
    "import math as math\n",
    "import pandas as pd \n",
    "import random as random\n",
    "import matplotlib.pyplot as plt\n",
    "from scipy.stats import wilcoxon\n",
    "import sys\n",
    "sys.path.append('..')\n",
    "from utils.Auxiliary import *"
   ]
  },
  {
   "cell_type": "markdown",
   "metadata": {},
   "source": [
    "# Input\n"
   ]
  },
  {
   "cell_type": "code",
   "execution_count": null,
   "metadata": {},
   "outputs": [
    {
     "name": "stdout",
     "output_type": "stream",
     "text": [
      "File not found: /Users/simondn/Documents/RashomonActiveLearning/Results/FICO/TreeFarms/ProcessedResults/ErrorVec/UA0.005_ErrorMatrix.csv\n",
      "File not found: /Users/simondn/Documents/RashomonActiveLearning/Results/FICO/TreeFarms/ProcessedResults/ErrorVec/DA0.005_ErrorMatrix.csv\n",
      "File not found: /Users/simondn/Documents/RashomonActiveLearning/Results/FICO/TreeFarms/ProcessedResults/ElapsedTime/UA0.005_TimeMatrix.csv\n",
      "File not found: /Users/simondn/Documents/RashomonActiveLearning/Results/FICO/TreeFarms/ProcessedResults/ElapsedTime/DA0.005_TimeMatrix.csv\n",
      "File not found: /Users/simondn/Documents/RashomonActiveLearning/Results/FICO/TreeFarms/ProcessedResults/SelectionHistory/UA0.005_SelectionHistory.csv\n",
      "File not found: /Users/simondn/Documents/RashomonActiveLearning/Results/FICO/TreeFarms/ProcessedResults/SelectionHistory/DA0.005_SelectionHistory.csv\n",
      "File not found: /Users/simondn/Documents/RashomonActiveLearning/Results/FICO/TreeFarms/ProcessedResults/TreeCount/UA0.005_UniqueTreeCount.csv\n",
      "File not found: /Users/simondn/Documents/RashomonActiveLearning/Results/FICO/TreeFarms/ProcessedResults/TreeCount/DA0.005_UniqueTreeCount.csv\n",
      "File not found: /Users/simondn/Documents/RashomonActiveLearning/Results/FICO/TreeFarms/ProcessedResults/TreeCount/UA0.005_AllTreeCount.csv\n",
      "File not found: /Users/simondn/Documents/RashomonActiveLearning/Results/FICO/TreeFarms/ProcessedResults/TreeCount/DA0.005_AllTreeCount.csv\n"
     ]
    }
   ],
   "source": [
    "DataType = \"FICO\"\n",
    "BaseDirectory = \"/Users/simondn/Documents/RashomonActiveLearning/Results/\"\n",
    "PassiveLearningRF = LoadAnalyzedData(DataType, BaseDirectory, \"RandomForestClassification\", \"PLA0\")\n",
    "RandomForestResults = LoadAnalyzedData(DataType, BaseDirectory, \"RandomForestClassification\", \"RFA0\")\n",
    "AnalyzedDataUNREALDUREAL = LoadAnalyzedData(\"Iris\", BaseDirectory, \"TreeFarms\", 0.005)\n",
    "# AnalyzedDataUNREALDUREAL = LoadAnalyzedData(DataType, BaseDirectory, \"TreeFarms\", 0.005)"
   ]
  },
  {
   "cell_type": "markdown",
   "metadata": {},
   "source": [
    "# Shape"
   ]
  },
  {
   "cell_type": "code",
   "execution_count": 3,
   "metadata": {},
   "outputs": [
    {
     "data": {
      "application/vnd.microsoft.datawrangler.viewer.v0+json": {
       "columns": [
        {
         "name": "index",
         "rawType": "int64",
         "type": "integer"
        },
        {
         "name": "DUREAL",
         "rawType": "int64",
         "type": "integer"
        },
        {
         "name": "UNREAL",
         "rawType": "int64",
         "type": "integer"
        }
       ],
       "conversionMethod": "pd.DataFrame",
       "ref": "20b4c9b2-9127-4f55-8f6c-e2c47f880bbc",
       "rows": [
        [
         "0",
         "100",
         "100"
        ]
       ],
       "shape": {
        "columns": 2,
        "rows": 1
       }
      },
      "text/html": [
       "<div>\n",
       "<style scoped>\n",
       "    .dataframe tbody tr th:only-of-type {\n",
       "        vertical-align: middle;\n",
       "    }\n",
       "\n",
       "    .dataframe tbody tr th {\n",
       "        vertical-align: top;\n",
       "    }\n",
       "\n",
       "    .dataframe thead th {\n",
       "        text-align: right;\n",
       "    }\n",
       "</style>\n",
       "<table border=\"1\" class=\"dataframe\">\n",
       "  <thead>\n",
       "    <tr style=\"text-align: right;\">\n",
       "      <th></th>\n",
       "      <th>DUREAL</th>\n",
       "      <th>UNREAL</th>\n",
       "    </tr>\n",
       "  </thead>\n",
       "  <tbody>\n",
       "    <tr>\n",
       "      <th>0</th>\n",
       "      <td>100</td>\n",
       "      <td>100</td>\n",
       "    </tr>\n",
       "  </tbody>\n",
       "</table>\n",
       "</div>"
      ],
      "text/plain": [
       "   DUREAL  UNREAL\n",
       "0     100     100"
      ]
     },
     "execution_count": 3,
     "metadata": {},
     "output_type": "execute_result"
    }
   ],
   "source": [
    "ShapeTable = {\"DUREAL\":[AnalyzedDataUNREALDUREAL[\"Error_DUREAL\"].shape[0]],\n",
    "              \"UNREAL\": [AnalyzedDataUNREALDUREAL[\"Error_UNREAL\"].shape[0]]}\n",
    "ShapeTable = pd.DataFrame(ShapeTable)\n",
    "ShapeTable"
   ]
  },
  {
   "cell_type": "markdown",
   "metadata": {},
   "source": [
    "# Run Time"
   ]
  },
  {
   "cell_type": "code",
   "execution_count": 4,
   "metadata": {},
   "outputs": [
    {
     "data": {
      "application/vnd.microsoft.datawrangler.viewer.v0+json": {
       "columns": [
        {
         "name": "index",
         "rawType": "int64",
         "type": "integer"
        },
        {
         "name": "DUREAL Mean",
         "rawType": "object",
         "type": "string"
        },
        {
         "name": "UNREAL Mean",
         "rawType": "object",
         "type": "string"
        },
        {
         "name": "DUREAL max",
         "rawType": "object",
         "type": "string"
        },
        {
         "name": "UNREAL max",
         "rawType": "object",
         "type": "string"
        }
       ],
       "conversionMethod": "pd.DataFrame",
       "ref": "3bab5493-966a-45d9-b463-22d111ce8adf",
       "rows": [
        [
         "0",
         "0.16",
         "0.16",
         "0.32",
         "0.32"
        ]
       ],
       "shape": {
        "columns": 4,
        "rows": 1
       }
      },
      "text/html": [
       "<div>\n",
       "<style scoped>\n",
       "    .dataframe tbody tr th:only-of-type {\n",
       "        vertical-align: middle;\n",
       "    }\n",
       "\n",
       "    .dataframe tbody tr th {\n",
       "        vertical-align: top;\n",
       "    }\n",
       "\n",
       "    .dataframe thead th {\n",
       "        text-align: right;\n",
       "    }\n",
       "</style>\n",
       "<table border=\"1\" class=\"dataframe\">\n",
       "  <thead>\n",
       "    <tr style=\"text-align: right;\">\n",
       "      <th></th>\n",
       "      <th>DUREAL Mean</th>\n",
       "      <th>UNREAL Mean</th>\n",
       "      <th>DUREAL max</th>\n",
       "      <th>UNREAL max</th>\n",
       "    </tr>\n",
       "  </thead>\n",
       "  <tbody>\n",
       "    <tr>\n",
       "      <th>0</th>\n",
       "      <td>0.16</td>\n",
       "      <td>0.16</td>\n",
       "      <td>0.32</td>\n",
       "      <td>0.32</td>\n",
       "    </tr>\n",
       "  </tbody>\n",
       "</table>\n",
       "</div>"
      ],
      "text/plain": [
       "  DUREAL Mean UNREAL Mean DUREAL max UNREAL max\n",
       "0        0.16        0.16       0.32       0.32"
      ]
     },
     "execution_count": 4,
     "metadata": {},
     "output_type": "execute_result"
    }
   ],
   "source": [
    "TimeTable = {\"DUREAL Mean\":[str(round(np.mean(AnalyzedDataUNREALDUREAL[\"Time_DUREAL\"])/60,2))],\n",
    "              \"UNREAL Mean\": [str(round(np.mean(AnalyzedDataUNREALDUREAL[\"Time_UNREAL\"])/60,2))],\n",
    "                \"DUREAL max\":[str(round(np.max(AnalyzedDataUNREALDUREAL[\"Time_DUREAL\"])/60,2))],\n",
    "              \"UNREAL max\": [str(round(np.max(AnalyzedDataUNREALDUREAL[\"Time_UNREAL\"])/60,2))]\n",
    "                         }\n",
    "TimeTable = pd.DataFrame(TimeTable)\n",
    "# TimeTable.index = range(10,30,5)\n",
    "TimeTable"
   ]
  },
  {
   "cell_type": "markdown",
   "metadata": {},
   "source": [
    "# Error Vec"
   ]
  },
  {
   "cell_type": "code",
   "execution_count": 5,
   "metadata": {},
   "outputs": [
    {
     "data": {
      "image/png": "[encoded data removed]",
      "text/plain": [
       "<Figure size 1000x400 with 1 Axes>"
      ]
     },
     "metadata": {},
     "output_type": "display_data"
    }
   ],
   "source": [
    "### Set Up ###\n",
    "PlotSubtitle = f\"Data: {DataType} | Iterations: {AnalyzedDataUNREALDUREAL['Error_DUREAL'].shape[0]}\"\n",
    "colors = {\n",
    "    \"PassiveLearning\": \"black\",\n",
    "    \"RandomForest\": \"green\",\n",
    "    \"DUREAL\": \"orange\",\n",
    "    \"UNREAL\": \"blue\"\n",
    "}\n",
    "\n",
    "linestyles = {\n",
    "    \"PassiveLearning\": \"solid\",\n",
    "    \"RandomForest\": \"solid\",\n",
    "    \"DUREAL\": \"solid\",\n",
    "    \"UNREAL\": \"solid\"\n",
    "}\n",
    "\n",
    "LegendMapping = {\n",
    "    \"DUREAL0\": \"DUREAL (ε = 0.xxx)\",\n",
    "    \"UNREAL0\": \"UNREAL (ε = 0.xxx)\",\n",
    "}\n",
    "\n",
    "# markerstyles = {\n",
    "#     \"PassiveLearning\": \"^\",\n",
    "#     \"RandomForest\": \"^\",\n",
    "#     \"DUREAL\": \"^\",\n",
    "#     \"UNREAL\": \"^\"\n",
    "# }\n",
    "\n",
    "### Figure ##\n",
    "MeanPlot = MeanVariancePlot(RelativeError = None,\n",
    "                 PassiveLearning = PassiveLearningRF[\"Error\"],\n",
    "                 RandomForest = RandomForestResults[\"Error\"],\n",
    "                #  DUREAL = AnalyzedDataUNREALDUREAL[\"Error_DUREAL\"],\n",
    "                #  UNREAL = AnalyzedDataUNREALDUREAL[\"Error_UNREAL\"],\n",
    "                 Colors = colors,\n",
    "                LegendMapping=LegendMapping,\n",
    "                 Linestyles=linestyles,\n",
    "                #  Markerstyles = markerstyles,\n",
    "                # xlim = [20,25],\n",
    "                Y_Label = \"F1 Score\",\n",
    "                 Subtitle = PlotSubtitle,\n",
    "                 TransparencyVal = 0.00,\n",
    "                 VarInput = False,\n",
    "                #  FigSize = (10,10),\n",
    "                 CriticalValue = 1.96)"
   ]
  },
  {
   "cell_type": "markdown",
   "metadata": {},
   "source": [
    "# Wilcoxon Ranked Signed Test"
   ]
  },
  {
   "cell_type": "code",
   "execution_count": 6,
   "metadata": {},
   "outputs": [],
   "source": [
    "# WRSTResults = WilcoxonRankSignedTest({\n",
    "#     \"PassiveLearning\" :PassiveLearningRF[\"Error\"],\n",
    "#     \"RandomForest\" : RandomForestResults[\"Error\"],\n",
    "#     \"UNREAL\" : AnalyzedDataUNREALDUREAL[\"Error_UNREAL\"],\n",
    "#     \"DUREAL\" : AnalyzedDataUNREALDUREAL[\"Error_DUREAL\"]},\n",
    "#     5)\n",
    "\n",
    "# WRSTResults_LatexTable = WRSTResults.to_latex()\n",
    "# print(WRSTResults_LatexTable)"
   ]
  },
  {
   "cell_type": "markdown",
   "metadata": {},
   "source": [
    "# Input"
   ]
  },
  {
   "cell_type": "markdown",
   "metadata": {},
   "source": [
    "# Selection History"
   ]
  },
  {
   "cell_type": "code",
   "execution_count": 7,
   "metadata": {},
   "outputs": [],
   "source": [
    "# SelectionHistoryRank_RF = SelectionHistoryRankFunction(RandomForestResults[\"SelectionHistory_RF\"], DataType = DataType)\n",
    "# SelectionHistoryRank_UNREAL = SelectionHistoryRankFunction(AnalyzedDataUNREALDUREAL[\"SelectionHistory_UNREAL\"], DataType = DataType)\n",
    "# SelectionHistoryRank_DUREAL = SelectionHistoryRankFunction(AnalyzedDataUNREALDUREAL[\"SelectionHistory_DUREAL\"], DataType = DataType)\n",
    "# SelectionHistoryRank_RF.sort_values(by = \"AverageRank\").head()\n",
    "# SelectionHistoryRank_UNREAL.sort_values(by = \"AverageRank\").head()\n",
    "# SelectionHistoryRank_DUREAL.sort_values(by = \"AverageRank\").head()"
   ]
  },
  {
   "cell_type": "markdown",
   "metadata": {},
   "source": [
    "# Tree Counts"
   ]
  },
  {
   "cell_type": "code",
   "execution_count": 8,
   "metadata": {},
   "outputs": [],
   "source": [
    "# UNREAL_Average_TreeCountsRatioSmall = np.mean(AnalyzedDataSmall[\"TreeCounts_UNIQUE_UNREAL\"].div(AnalyzedDataSmall[\"TreeCounts_ALL_UNREAL\"]), axis = 0)\n",
    "# DUREAL_Average_TreeCountsRatioSmall = np.mean(AnalyzedDataSmall[\"TreeCounts_UNIQUE_DUREAL\"].div(AnalyzedDataSmall[\"TreeCounts_ALL_DUREAL\"]), axis = 0)\n",
    "# AverageTreeCountRatioSmall = pd.DataFrame(np.column_stack((UNREAL_Average_TreeCountsRatioSmall, \n",
    "#                               DUREAL_Average_TreeCountsRatioSmall,\n",
    "#                               np.round(UNREAL_Average_TreeCountsRatioSmall - DUREAL_Average_TreeCountsRatioSmall,5))), \n",
    "#                              columns = [\"UNREAL\", \"DUREAL\", \"Difference\"])\n",
    "\n",
    "# UNREAL_Average_TreeCountsRatioLarge = np.mean(AnalyzedDataLarge[\"TreeCounts_UNIQUE_UNREAL\"].div(AnalyzedDataLarge[\"TreeCounts_ALL_UNREAL\"]), axis = 0)\n",
    "# DUREAL_Average_TreeCountsRatioLarge = np.mean(AnalyzedDataLarge[\"TreeCounts_UNIQUE_DUREAL\"].div(AnalyzedDataLarge[\"TreeCounts_ALL_DUREAL\"]), axis = 0)\n",
    "# AverageTreeCountRatioLarge = pd.DataFrame(np.column_stack((UNREAL_Average_TreeCountsRatioLarge, \n",
    "#                               DUREAL_Average_TreeCountsRatioLarge,\n",
    "#                               np.round(UNREAL_Average_TreeCountsRatioLarge - DUREAL_Average_TreeCountsRatioLarge,5))), \n",
    "#                              columns = [\"UNREAL\", \"DUREAL\", \"Difference\"])"
   ]
  },
  {
   "cell_type": "markdown",
   "metadata": {},
   "source": [
    "# Number of All Trees"
   ]
  },
  {
   "cell_type": "code",
   "execution_count": 9,
   "metadata": {},
   "outputs": [],
   "source": [
    "# ### Line Styles ###\n",
    "# linestyles = {\"DUREAL005\" : \"solid\",\n",
    "# \"DUREAL010\" : \"solid\",\n",
    "# \"DUREAL015\" : \"solid\",\n",
    "# \"DUREAL020\" : \"solid\",\n",
    "# \"DUREAL025\" : \"solid\"\n",
    "# }\n",
    "\n",
    "# ### Figure ##\n",
    "# MeanPlot = MeanVariancePlot(RelativeError = None,\n",
    "#                  DUREAL010 = np.log(AnalyzedData010[\"TreeCounts_ALL_UNREAL\"]),\n",
    "#                  DUREAL015 = np.log(AnalyzedData015[\"TreeCounts_ALL_UNREAL\"]),\n",
    "#                  DUREAL020 = np.log(AnalyzedData020[\"TreeCounts_ALL_UNREAL\"]),\n",
    "#                  DUREAL025 = np.log(AnalyzedData025[\"TreeCounts_ALL_UNREAL\"]),\n",
    "#                 # Colors = colors,\n",
    "#                  LegendMapping=LegendMapping,\n",
    "#                  Linestyles=linestyles,\n",
    "#                 # xlim = [20,50],\n",
    "#                 Y_Label = \"log(Number of All Trees)\",\n",
    "#                  Subtitle = PlotSubtitle,\n",
    "#                  TransparencyVal = 0.2,\n",
    "#                  VarInput = False,\n",
    "#                  CriticalValue = 1.96)"
   ]
  },
  {
   "cell_type": "markdown",
   "metadata": {},
   "source": [
    "## Number of Unique Trees"
   ]
  },
  {
   "cell_type": "code",
   "execution_count": 10,
   "metadata": {},
   "outputs": [],
   "source": [
    "# ### Linetype ###\n",
    "# linestyles = {\"UNREAL010\" : \"solid\",\n",
    "# \"UNREAL015\" : \"solid\",\n",
    "# \"UNREAL020\" : \"solid\",\n",
    "# \"UNREAL025\" : \"solid\"\n",
    "# }\n",
    "\n",
    "# ### Figure ##\n",
    "# MeanPlot = MeanVariancePlot(RelativeError = None,\n",
    "#                  UNREAL010 = np.log(AnalyzedData010[\"TreeCounts_UNIQUE_UNREAL\"]),\n",
    "#                  UNREAL015 = np.log(AnalyzedData015[\"TreeCounts_UNIQUE_UNREAL\"]),\n",
    "#                  UNREAL020 = np.log(AnalyzedData020[\"TreeCounts_UNIQUE_UNREAL\"]),\n",
    "#                  UNREAL025 = np.log(AnalyzedData025[\"TreeCounts_UNIQUE_UNREAL\"]),\n",
    "#                 # Colors = colors,\n",
    "#                  LegendMapping=LegendMapping,\n",
    "#                  Linestyles=linestyles,\n",
    "#                 # xlim = [20,50],\n",
    "#                 Y_Label = \"log(Number of Unique Trees)\",\n",
    "#                  Subtitle = PlotSubtitle,\n",
    "#                  TransparencyVal = 0.05,\n",
    "#                  VarInput = False,\n",
    "#                  CriticalValue = 1.96)"
   ]
  }
 ],
 "metadata": {
  "kernelspec": {
   "display_name": "rashomon-3.9",
   "language": "python",
   "name": "python3"
  },
  "language_info": {
   "codemirror_mode": {
    "name": "ipython",
    "version": 3
   },
   "file_extension": ".py",
   "mimetype": "text/x-python",
   "name": "python",
   "nbconvert_exporter": "python",
   "pygments_lexer": "ipython3",
   "version": "3.9.20"
  }
 },
 "nbformat": 4,
 "nbformat_minor": 2
}
