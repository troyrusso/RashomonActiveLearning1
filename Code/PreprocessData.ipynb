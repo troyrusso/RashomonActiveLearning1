{
 "cells": [
  {
   "cell_type": "code",
   "execution_count": 1,
   "metadata": {},
   "outputs": [],
   "source": [
    "### Import Packages ###\n",
    "import pickle\n",
    "import numpy as np\n",
    "import pandas as pd\n",
    "import matplotlib.pyplot as plt\n",
    "from sklearn.preprocessing import OneHotEncoder"
   ]
  },
  {
   "cell_type": "markdown",
   "metadata": {},
   "source": [
    "# [Auto MPG](https://archive.ics.uci.edu/dataset/9/auto+mpg)"
   ]
  },
  {
   "cell_type": "markdown",
   "metadata": {},
   "source": [
    "Response: mpg (continuous)\n",
    "\n",
    "Covariates: displacement, Y, cylinders, horsepower, weight, acceleration, model_year, origin"
   ]
  },
  {
   "cell_type": "code",
   "execution_count": 2,
   "metadata": {},
   "outputs": [],
   "source": [
    "### Set up ###\n",
    "labels = [\"low\", \"medium\", \"high\"]\n",
    "\n",
    "### Import data ###\n",
    "Auto = pd.read_csv(\"/Users/simondn/Documents/RashomonActiveLearning/Data/raw/Auto.data\", delim_whitespace= True, header=None)\n",
    "Auto.columns = [\"Y\", \"cylinders\", \"displacement\", \"horsepower\", \"weight\", \"acceleration\", \"model_year\", \"origin\", \"name\"]\n",
    "Auto.drop('name', axis=1, inplace=True)\n",
    "Auto = Auto[Auto[\"horsepower\"] != \"?\"]\n",
    "Auto = Auto.dropna()"
   ]
  },
  {
   "cell_type": "code",
   "execution_count": null,
   "metadata": {},
   "outputs": [
    {
     "name": "stderr",
     "output_type": "stream",
     "text": [
      "/Users/simondn/anaconda3/lib/python3.11/site-packages/sklearn/preprocessing/_encoders.py:972: FutureWarning: `sparse` was renamed to `sparse_output` in version 1.2 and will be removed in 1.4. `sparse_output` is ignored unless you leave `sparse` to its default value.\n",
      "  warnings.warn(\n"
     ]
    }
   ],
   "source": [
    "### Discretize data ###\n",
    "labels = [1,2,3]\n",
    "Auto[\"displacement\"] = pd.qcut(Auto[\"displacement\"], len(labels), labels=labels)\n",
    "Auto[\"cylinders\"] = pd.qcut(Auto[\"cylinders\"], len(labels), labels=labels)\n",
    "Auto[\"horsepower\"] = pd.qcut(pd.to_numeric(Auto[\"horsepower\"]), len(labels), labels=labels)\n",
    "Auto[\"weight\"] = pd.qcut(Auto[\"weight\"], len(labels), labels=labels)\n",
    "Auto[\"acceleration\"] = pd.qcut(Auto[\"acceleration\"], len(labels), labels=labels)\n",
    "Auto[\"model_year\"] = pd.qcut(Auto[\"model_year\"], len(labels), labels=labels)\n",
    "Auto[\"origin\"] = pd.Categorical(Auto[\"origin\"])\n",
    "\n",
    "### One-hot encoding ###\n",
    "categorical_columns = [\"displacement\", \"cylinders\", \"horsepower\", \"weight\", \"acceleration\", \"model_year\", \"origin\"]\n",
    "encoder = OneHotEncoder(sparse=False)\n",
    "encoded = encoder.fit_transform(Auto[categorical_columns])\n",
    "encoded_columns = encoder.get_feature_names_out(categorical_columns)\n",
    "encoded_df = pd.DataFrame(encoded, columns=encoded_columns)\n",
    "Auto_OneHot = pd.concat(encoded_df, [Auto[\"Y\"].reset_index(drop=True)], axis=1)\n"
   ]
  },
  {
   "cell_type": "markdown",
   "metadata": {},
   "source": [
    "# [COMPAS](https://github.com/ubc-systopia/treeFarms/tree/main/experiments/datasets/compas)"
   ]
  },
  {
   "cell_type": "code",
   "execution_count": null,
   "metadata": {},
   "outputs": [
    {
     "data": {
      "text/plain": [
       "sex:Female                  int64\n",
       "age:<21                     int64\n",
       "age:<23                     int64\n",
       "age:<26                     int64\n",
       "age:<46                     int64\n",
       "juvenile-felonies:=0        int64\n",
       "juvenile-misdemeanors:=0    int64\n",
       "juvenile-crimes:=0          int64\n",
       "priors:=0                   int64\n",
       "priors:=1                   int64\n",
       "priors:2-3                  int64\n",
       "priors:>3                   int64\n",
       "Y                           int64\n",
       "dtype: object"
      ]
     },
     "execution_count": 5,
     "metadata": {},
     "output_type": "execute_result"
    }
   ],
   "source": [
    "COMPAS = pd.read_csv(\"/Users/simondn/Documents/RashomonActiveLearning/treeFarms/experiments/datasets/compas/binned.csv\")\n",
    "COMPAS.rename(columns={'recidivate-within-two-years:1': 'Y'}, inplace=True)\n",
    "\n",
    "### Save ###\n",
    "# with open('/Users/simondn/Documents/RashomonActiveLearning/Data/processed/COMPAS.pkl', 'wb') as file:\n",
    "    # pickle.dump(COMPAS, file)\n"
   ]
  }
 ],
 "metadata": {
  "kernelspec": {
   "display_name": "Python 3",
   "language": "python",
   "name": "python3"
  },
  "language_info": {
   "codemirror_mode": {
    "name": "ipython",
    "version": 3
   },
   "file_extension": ".py",
   "mimetype": "text/x-python",
   "name": "python",
   "nbconvert_exporter": "python",
   "pygments_lexer": "ipython3",
   "version": "3.11.4"
  }
 },
 "nbformat": 4,
 "nbformat_minor": 2
}
