{
 "cells": [
  {
   "cell_type": "markdown",
   "metadata": {},
   "source": [
    "# Set Up"
   ]
  },
  {
   "cell_type": "code",
   "execution_count": 1,
   "metadata": {},
   "outputs": [],
   "source": [
    "### Import Packages ###\n",
    "import pickle\n",
    "import numpy as np\n",
    "import pandas as pd\n",
    "import matplotlib.pyplot as plt\n",
    "from collections import Counter\n",
    "from sklearn.preprocessing import OneHotEncoder\n",
    "from sklearn.model_selection import train_test_split\n",
    "\n",
    "### Import packages ###\n",
    "import time\n",
    "import numpy as np\n",
    "import math as math\n",
    "import pandas as pd\n",
    "import random as random\n",
    "\n",
    "### Import functions ###\n",
    "from utils.Main import *\n",
    "from utils.Selector import *\n",
    "from utils.Auxiliary import *\n",
    "from utils.Prediction import *\n",
    "\n",
    "### Set Seed ###\n",
    "SeedVal = 0\n",
    "TrainSizeVal = 200\n",
    "\n"
   ]
  },
  {
   "cell_type": "markdown",
   "metadata": {},
   "source": [
    "# [CarEvaluation](https://github.com/ubc-systopia/treeFarms/blob/main/experiments/datasets/car_evaluation/data.csv)"
   ]
  },
  {
   "cell_type": "code",
   "execution_count": 2,
   "metadata": {},
   "outputs": [],
   "source": [
    "# ### Import ###\n",
    "# CarEvaluation = pd.read_csv(\"/Users/simondn/Documents/RashomonActiveLearning/Data/raw/CarEvaluation.csv\")\n",
    "# CarEvaluation.rename(columns={'class_1': 'Y'}, inplace=True)\n",
    "\n",
    "# ### Reduce Data ###\n",
    "# X_sampled, _, y_sampled, _ = train_test_split(CarEvaluation.drop(columns=[\"Y\"]), \n",
    "#                                         CarEvaluation[\"Y\"], \n",
    "#                                         stratify=CarEvaluation[\"Y\"], \n",
    "#                                         train_size=TrainSizeVal, \n",
    "#                                         random_state=SeedVal)\n",
    "# ### Reform DataFrame ###\n",
    "# CarEvaluation = X_sampled.copy()\n",
    "# CarEvaluation[\"Y\"] = y_sampled.reset_index(drop=True).values\n",
    "\n",
    "# ### Save ###\n",
    "# with open('/Users/simondn/Documents/RashomonActiveLearning/Data/processed/CarEvaluation.pkl', 'wb') as file:\n",
    "#         pickle.dump(CarEvaluation, file)"
   ]
  },
  {
   "cell_type": "markdown",
   "metadata": {},
   "source": [
    "# [Bar7](https://github.com/ubc-systopia/treeFarms/blob/main/experiments/datasets/coupon/bar-7.csv)"
   ]
  },
  {
   "cell_type": "code",
   "execution_count": 2,
   "metadata": {},
   "outputs": [],
   "source": [
    "# ### Proces ###\n",
    "# Bar7 = pd.read_csv(\"/RashomonActiveLearning/Data/raw/bar-7.csv\")\n",
    "\n",
    "# ### Reduce Data ###\n",
    "# X_sampled, _, y_sampled, _ = train_test_split(Bar7.drop(columns=[\"Y\"]), \n",
    "#                                         Bar7[\"Y\"], \n",
    "#                                         stratify=Bar7[\"Y\"], \n",
    "#                                         train_size=TrainSizeVal, \n",
    "#                                         random_state=SeedVal)\n",
    "# ## Reform DataFrame ###\n",
    "# Bar7 = X_sampled.copy()\n",
    "# Bar7[\"Y\"] = y_sampled.reset_index(drop=True).values\n",
    "\n",
    "# ## Save ###\n",
    "# with open('/RashomonActiveLearning/Data/processed/Bar7.pkl', 'wb') as file:\n",
    "#     pickle.dump(Bar7, file)\n"
   ]
  },
  {
   "cell_type": "markdown",
   "metadata": {},
   "source": [
    "# [Breast Cancer](https://archive.ics.uci.edu/dataset/17/breast+cancer+wisconsin+diagnostic)"
   ]
  },
  {
   "cell_type": "code",
   "execution_count": 7,
   "metadata": {},
   "outputs": [],
   "source": [
    "# ### Import ###\n",
    "# BreastCancer = pd.read_csv('https://archive.ics.uci.edu/ml/machine-learning-databases/breast-cancer-wisconsin/breast-cancer-wisconsin.data', header=None)\n",
    "# BreastCancer.columns = [\n",
    "#     'Sample', 'ClumpThickness', 'CellSize', \n",
    "#     'CellShape', 'Adhesion', \n",
    "#     'SingleEpithelialCellSize', 'BareNuclei', 'BlandChromatin', \n",
    "#     'NormalNucleoli', 'Mitoses', 'Class'\n",
    "# ]\n",
    "\n",
    "# ### Process ###\n",
    "# BreastCancer.replace('?', pd.NA, inplace=True)\n",
    "# BreastCancer = BreastCancer.apply(pd.to_numeric, errors='coerce')\n",
    "\n",
    "# ### Threshold ###\n",
    "# thresholds = {\n",
    "#     'ClumpThickness': [10],\n",
    "#     'CellSize': [1, 10],\n",
    "#     'CellShape': [1],\n",
    "#     'Adhesion': [1],\n",
    "#     'SingleEpithelialCellSize': [2],\n",
    "#     'BareNuclei': [1, 10],\n",
    "#     'NormalNucleoli': [1, 10]\n",
    "# }\n",
    "\n",
    "# ### One-hot Encode ###\n",
    "# one_hot_columns = []\n",
    "# for feature, values in thresholds.items():\n",
    "#     for value in values:\n",
    "#         new_col = f\"{feature.replace(' ', '_')}_{value}\"\n",
    "#         BreastCancer[new_col] = (BreastCancer[feature] == value).astype(int)\n",
    "#         one_hot_columns.append(new_col)\n",
    "\n",
    "# ### Select Columns ###\n",
    "# selected_columns = [f\"{feature.replace(' ', '_')}_{value}\" \n",
    "#                     for feature, values in thresholds.items() \n",
    "#                     for value in values] + ['Class']\n",
    "# BreastCancer = BreastCancer[selected_columns]\n",
    "# BreastCancer['Class'] = BreastCancer['Class'].replace({2: 0, 4: 1})\n",
    "# BreastCancer.rename(columns={'Class': 'Y'}, inplace=True)\n",
    "\n",
    "\n",
    "# ### Reduce Data ###\n",
    "# X_sampled, _, y_sampled, _ = train_test_split(BreastCancer.drop(columns=[\"Y\"]), \n",
    "#                                         BreastCancer[\"Y\"], \n",
    "#                                         stratify=BreastCancer[\"Y\"], \n",
    "#                                         train_size=TrainSizeVal, \n",
    "#                                         random_state=SeedVal)\n",
    "# ### Reform DataFrame ###\n",
    "# BreastCancer = X_sampled.copy()\n",
    "# BreastCancer[\"Y\"] = y_sampled.reset_index(drop=True).values\n",
    "\n",
    "# ### Save ###\n",
    "# with open('/RashomonActiveLearning/Data/processed/BreastCancer.pkl', 'wb') as file:\n",
    "#         pickle.dump(BreastCancer, file)"
   ]
  },
  {
   "cell_type": "markdown",
   "metadata": {},
   "source": [
    "# [COMPAS](https://github.com/ubc-systopia/treeFarms/tree/main/experiments/datasets/compas)"
   ]
  },
  {
   "cell_type": "code",
   "execution_count": 5,
   "metadata": {},
   "outputs": [],
   "source": [
    "# ### Import ###\n",
    "# COMPAS = pd.read_csv(\"/RashomonActiveLearning/Data/raw/COMPAS.csv\")\n",
    "# COMPAS.rename(columns={'recidivate-within-two-years:1': 'Y'}, inplace=True)\n",
    "\n",
    "# ### Reduce Data ###\n",
    "# X_sampled, _, y_sampled, _ = train_test_split(COMPAS.drop(columns=[\"Y\"]), \n",
    "#                                         COMPAS[\"Y\"], \n",
    "#                                         stratify=COMPAS[\"Y\"], \n",
    "#                                         train_size=TrainSizeVal, \n",
    "#                                         random_state=SeedVal)\n",
    "# ### Reform DataFrame ###\n",
    "# COMPAS = X_sampled.copy()\n",
    "# COMPAS[\"Y\"] = y_sampled.reset_index(drop=True).values\n",
    "\n",
    "\n",
    "# ## Save ###\n",
    "# with open('/RashomonActiveLearning/Data/processed/COMPAS.pkl', 'wb') as file:\n",
    "#     pickle.dump(COMPAS, file)\n"
   ]
  },
  {
   "cell_type": "markdown",
   "metadata": {},
   "source": [
    "# [FICO](https://github.com/ubc-systopia/treeFarms/tree/main/experiments/datasets/fico)"
   ]
  },
  {
   "cell_type": "code",
   "execution_count": 6,
   "metadata": {},
   "outputs": [],
   "source": [
    "# ### Import ###\n",
    "# FICO = pd.read_csv(\"/Users/simondn/Documents/RashomonActiveLearning/Data/raw/fico-binary.csv\")\n",
    "# FICO.rename(columns={'RiskPerform': 'Y'}, inplace=True)\n",
    "\n",
    "# ### Reduce Data ###\n",
    "# X_sampled, _, y_sampled, _ = train_test_split(FICO.drop(columns=[\"Y\"]), \n",
    "#                                         FICO[\"Y\"], \n",
    "#                                         stratify=FICO[\"Y\"], \n",
    "#                                         train_size=TrainSizeVal, \n",
    "#                                         random_state=SeedVal)\n",
    "# ### Reform DataFrame ###\n",
    "# FICO = X_sampled.copy()\n",
    "# FICO[\"Y\"] = y_sampled.reset_index(drop=True).values\n",
    "\n",
    "# ### Save ###\n",
    "# with open('/Users/simondn/Documents/RashomonActiveLearning/Data/processed/FICO.pkl', 'wb') as file:\n",
    "#         pickle.dump(FICO, file)"
   ]
  },
  {
   "cell_type": "markdown",
   "metadata": {},
   "source": [
    "# Iris"
   ]
  },
  {
   "cell_type": "code",
   "execution_count": 8,
   "metadata": {},
   "outputs": [],
   "source": [
    "# ### Load Iris Data ###\n",
    "# from sklearn.datasets import load_iris\n",
    "# iris = load_iris()\n",
    "\n",
    "# ### Covariates ###\n",
    "# X = pd.DataFrame(iris['data'])\n",
    "# X.columns = [\"SepalLength\", \"SepalWidth\", \"PetalLength\", \"PetalWidth\"]\n",
    "\n",
    "# ### Response ###\n",
    "# y = pd.DataFrame(iris[\"target\"])\n",
    "# y.columns = [\"Y\"]\n",
    "# y['Y'] = y['Y'].astype(\"category\")\n",
    "\n",
    "# ### Discretize data ###\n",
    "# labels = [1,2,3]\n",
    "# X[\"SepalLength\"] = pd.qcut(X[\"SepalLength\"], len(labels), labels=labels)\n",
    "# X[\"SepalWidth\"] = pd.qcut(X[\"SepalWidth\"], len(labels), labels=labels)\n",
    "# X[\"PetalLength\"] = pd.qcut(X[\"PetalLength\"], len(labels), labels=labels)\n",
    "# X[\"PetalWidth\"] = pd.qcut(X[\"PetalWidth\"], len(labels), labels=labels)\n",
    "\n",
    "# ### One-hot encoding ###\n",
    "# categorical_columns = [\"SepalLength\", \"SepalWidth\", \"PetalLength\", \"PetalWidth\"]\n",
    "# encoder = OneHotEncoder(sparse_output=False, drop=None) \n",
    "# encoded = encoder.fit_transform(X[categorical_columns])\n",
    "# encoded_columns = encoder.get_feature_names_out(categorical_columns)\n",
    "# encoded_df = pd.DataFrame(encoded, columns=encoded_columns)\n",
    "# Iris_OneHot = pd.concat([encoded_df, y[\"Y\"].reset_index(drop=True)], axis=1)\n",
    "\n",
    "# # ### Binary Classifcation ###\n",
    "# # Iris_OneHot = Iris_OneHot.loc[(Iris_OneHot[\"Y\"] == 0) | (Iris_OneHot[\"Y\"] == 1)]\n",
    "# with open('/RashomonActiveLearning/Data/processed/Iris.pkl', 'wb') as file:\n",
    "#         pickle.dump(Iris_OneHot, file)"
   ]
  },
  {
   "cell_type": "markdown",
   "metadata": {},
   "source": [
    "# [MONK](https://github.com/ubc-systopia/treeFarms/tree/main/experiments/datasets)"
   ]
  },
  {
   "cell_type": "code",
   "execution_count": 7,
   "metadata": {},
   "outputs": [],
   "source": [
    "# ### Read in columns ###\n",
    "# MONK1 = pd.read_csv(\"/RashomonActiveLearning/Data/raw/MONK1.csv\",delimiter=\",\", header = 0)\n",
    "# MONK3 = pd.read_csv(\"/RashomonActiveLearning/Data/raw/MONK3.csv\",delimiter=\",\", header = 0)\n",
    "\n",
    "# ### Rename columns ###\n",
    "# MONK1.rename(columns={'class_1': 'Y'}, inplace=True)\n",
    "# MONK2.rename(columns={'class_1': 'Y'}, inplace=True)\n",
    "# MONK3.rename(columns={'class_1': 'Y'}, inplace=True)\n",
    "\n",
    "# # ### Change to categorical ###\n",
    "# MONK1 = MONK1.astype('bool')\n",
    "# MONK3 = MONK3.astype('bool')\n",
    "\n",
    "# ### Move columns ###\n",
    "# MONK1 = MONK1.reindex(columns=['Y', 'a1_1', 'a1_2', 'a2_1', 'a2_2', 'a3_1', 'a4_1', 'a4_2', 'a5_1', 'a5_2', 'a5_3', 'a6_1',])\n",
    "# MONK3 = MONK3.reindex(columns=['Y', 'a1_1', 'a1_2', 'a2_1', 'a2_2', 'a3_1', 'a4_1', 'a4_2', 'a5_1', 'a5_2', 'a5_3', 'a6_1',])\n",
    "\n",
    "# ### Save files ###\n",
    "# # with open('/RashomonActiveLearning/Data/processed/MONK1.pkl', 'wb') as file:\n",
    "# #         pickle.dump(MONK1, file)\n",
    "\n",
    "# with open('/RashomonActiveLearning/Data/processed/MONK3.pkl', 'wb') as file:\n",
    "#         pickle.dump(MONK3, file)"
   ]
  }
 ],
 "metadata": {
  "kernelspec": {
   "display_name": "rashomon-3.9",
   "language": "python",
   "name": "python3"
  },
  "language_info": {
   "codemirror_mode": {
    "name": "ipython",
    "version": 3
   },
   "file_extension": ".py",
   "mimetype": "text/x-python",
   "name": "python",
   "nbconvert_exporter": "python",
   "pygments_lexer": "ipython3",
   "version": "3.9.20"
  }
 },
 "nbformat": 4,
 "nbformat_minor": 2
}
