{
 "cells": [
  {
   "cell_type": "markdown",
   "metadata": {},
   "source": [
    "# Simulations"
   ]
  },
  {
   "cell_type": "code",
   "execution_count": 20,
   "metadata": {},
   "outputs": [
    {
     "name": "stdout",
     "output_type": "stream",
     "text": [
      "nulltreefarms reported successful execution\n",
      "\n",
      "Finding Optimal Objective...\n",
      "{\n",
      "  \"false\": {\n",
      "    \"false\": {\n",
      "      \"false\": {\n",
      "        \"complexity\": 0.009999999776482582,\n",
      "        \"loss\": 0.03500000014901161,\n",
      "        \"name\": \"Y\",\n",
      "        \"prediction\": 1\n",
      "      },\n",
      "      \"feature\": 1,\n",
      "      \"name\": \"CellSize_1\",\n",
      "      \"reference\": 1,\n",
      "      \"relation\": \"==\",\n",
      "      \"true\": {\n",
      "        \"complexity\": 0.009999999776482582,\n",
      "        \"loss\": 0.009999999776482582,\n",
      "        \"name\": \"Y\",\n",
      "        \"prediction\": 0\n",
      "      },\n",
      "      \"type\": \"integral\"\n",
      "    },\n",
      "    \"feature\": 6,\n",
      "    \"name\": \"BareNuclei_1\",\n",
      "    \"reference\": 1,\n",
      "    \"relation\": \"==\",\n",
      "    \"true\": {\n",
      "      \"complexity\": 0.009999999776482582,\n",
      "      \"loss\": 0.004999999888241291,\n",
      "      \"name\": \"Y\",\n",
      "      \"prediction\": 0\n",
      "    },\n",
      "    \"type\": \"integral\"\n",
      "  },\n",
      "  \"feature\": 9,\n",
      "  \"model_objective\": 0.09000000357627869,\n",
      "  \"name\": \"NormalNucleoli_10\",\n",
      "  \"reference\": 1,\n",
      "  \"relation\": \"==\",\n",
      "  \"true\": {\n",
      "    \"complexity\": 0.009999999776482582,\n",
      "    \"loss\": 0.0,\n",
      "    \"name\": \"Y\",\n",
      "    \"prediction\": 1\n",
      "  },\n",
      "  \"type\": \"integral\"\n",
      "}\n",
      "{\n",
      "  \"false\": {\n",
      "    \"false\": {\n",
      "      \"complexity\": 0.009999999776482582,\n",
      "      \"loss\": 0.03500000014901161,\n",
      "      \"name\": \"Y\",\n",
      "      \"prediction\": 1\n",
      "    },\n",
      "    \"feature\": 1,\n",
      "    \"name\": \"CellSize_1\",\n",
      "    \"reference\": 1,\n",
      "    \"relation\": \"==\",\n",
      "    \"true\": {\n",
      "      \"complexity\": 0.009999999776482582,\n",
      "      \"loss\": 0.009999999776482582,\n",
      "      \"name\": \"Y\",\n",
      "      \"prediction\": 0\n",
      "    },\n",
      "    \"type\": \"integral\"\n",
      "  },\n",
      "  \"feature\": 6,\n",
      "  \"model_objective\": 0.09000000357627869,\n",
      "  \"name\": \"BareNuclei_1\",\n",
      "  \"reference\": 1,\n",
      "  \"relation\": \"==\",\n",
      "  \"true\": {\n",
      "    \"false\": {\n",
      "      \"complexity\": 0.009999999776482582,\n",
      "      \"loss\": 0.004999999888241291,\n",
      "      \"name\": \"Y\",\n",
      "      \"prediction\": 0\n",
      "    },\n",
      "    \"feature\": 9,\n",
      "    \"name\": \"NormalNucleoli_10\",\n",
      "    \"reference\": 1,\n",
      "    \"relation\": \"==\",\n",
      "    \"true\": {\n",
      "      \"complexity\": 0.009999999776482582,\n",
      "      \"loss\": 0.0,\n",
      "      \"name\": \"Y\",\n",
      "      \"prediction\": 1\n",
      "    },\n",
      "    \"type\": \"integral\"\n",
      "  },\n",
      "  \"type\": \"integral\"\n",
      "}\n",
      "{\n",
      "  \"false\": {\n",
      "    \"false\": {\n",
      "      \"false\": {\n",
      "        \"complexity\": 0.009999999776482582,\n",
      "        \"loss\": 0.03500000014901161,\n",
      "        \"name\": \"Y\",\n",
      "        \"prediction\": 1\n",
      "      },\n",
      "      \"feature\": 6,\n",
      "      \"name\": \"BareNuclei_1\",\n",
      "      \"reference\": 1,\n",
      "      \"relation\": \"==\",\n",
      "      \"true\": {\n",
      "        \"complexity\": 0.009999999776482582,\n",
      "        \"loss\": 0.004999999888241291,\n",
      "        \"name\": \"Y\",\n",
      "        \"prediction\": 0\n",
      "      },\n",
      "      \"type\": \"integral\"\n",
      "    },\n",
      "    \"feature\": 1,\n",
      "    \"name\": \"CellSize_1\",\n",
      "    \"reference\": 1,\n",
      "    \"relation\": \"==\",\n",
      "    \"true\": {\n",
      "      \"complexity\": 0.009999999776482582,\n",
      "      \"loss\": 0.009999999776482582,\n",
      "      \"name\": \"Y\",\n",
      "      \"prediction\": 0\n",
      "    },\n",
      "    \"type\": \"integral\"\n",
      "  },\n",
      "  \"feature\": 9,\n",
      "  \"model_objective\": 0.08999999612569809,\n",
      "  \"name\": \"NormalNucleoli_10\",\n",
      "  \"reference\": 1,\n",
      "  \"relation\": \"==\",\n",
      "  \"true\": {\n",
      "    \"complexity\": 0.009999999776482582,\n",
      "    \"loss\": 0.0,\n",
      "    \"name\": \"Y\",\n",
      "    \"prediction\": 1\n",
      "  },\n",
      "  \"type\": \"integral\"\n",
      "}\n",
      "{\n",
      "  \"false\": {\n",
      "    \"false\": {\n",
      "      \"complexity\": 0.009999999776482582,\n",
      "      \"loss\": 0.03500000014901161,\n",
      "      \"name\": \"Y\",\n",
      "      \"prediction\": 1\n",
      "    },\n",
      "    \"feature\": 6,\n",
      "    \"name\": \"BareNuclei_1\",\n",
      "    \"reference\": 1,\n",
      "    \"relation\": \"==\",\n",
      "    \"true\": {\n",
      "      \"false\": {\n",
      "        \"complexity\": 0.009999999776482582,\n",
      "        \"loss\": 0.004999999888241291,\n",
      "        \"name\": \"Y\",\n",
      "        \"prediction\": 0\n",
      "      },\n",
      "      \"feature\": 9,\n",
      "      \"name\": \"NormalNucleoli_10\",\n",
      "      \"reference\": 1,\n",
      "      \"relation\": \"==\",\n",
      "      \"true\": {\n",
      "        \"complexity\": 0.009999999776482582,\n",
      "        \"loss\": 0.0,\n",
      "        \"name\": \"Y\",\n",
      "        \"prediction\": 1\n",
      "      },\n",
      "      \"type\": \"integral\"\n",
      "    },\n",
      "    \"type\": \"integral\"\n",
      "  },\n",
      "  \"feature\": 1,\n",
      "  \"model_objective\": 0.08999999612569809,\n",
      "  \"name\": \"CellSize_1\",\n",
      "  \"reference\": 1,\n",
      "  \"relation\": \"==\",\n",
      "  \"true\": {\n",
      "    \"complexity\": 0.009999999776482582,\n",
      "    \"loss\": 0.009999999776482582,\n",
      "    \"name\": \"Y\",\n",
      "    \"prediction\": 0\n",
      "  },\n",
      "  \"type\": \"integral\"\n",
      "}\n",
      "{\n",
      "  \"false\": {\n",
      "    \"false\": {\n",
      "      \"false\": {\n",
      "        \"complexity\": 0.009999999776482582,\n",
      "        \"loss\": 0.03500000014901161,\n",
      "        \"name\": \"Y\",\n",
      "        \"prediction\": 1\n",
      "      },\n",
      "      \"feature\": 6,\n",
      "      \"name\": \"BareNuclei_1\",\n",
      "      \"reference\": 1,\n",
      "      \"relation\": \"==\",\n",
      "      \"true\": {\n",
      "        \"complexity\": 0.009999999776482582,\n",
      "        \"loss\": 0.004999999888241291,\n",
      "        \"name\": \"Y\",\n",
      "        \"prediction\": 0\n",
      "      },\n",
      "      \"type\": \"integral\"\n",
      "    },\n",
      "    \"feature\": 9,\n",
      "    \"name\": \"NormalNucleoli_10\",\n",
      "    \"reference\": 1,\n",
      "    \"relation\": \"==\",\n",
      "    \"true\": {\n",
      "      \"complexity\": 0.009999999776482582,\n",
      "      \"loss\": 0.0,\n",
      "      \"name\": \"Y\",\n",
      "      \"prediction\": 1\n",
      "    },\n",
      "    \"type\": \"integral\"\n",
      "  },\n",
      "  \"feature\": 1,\n",
      "  \"model_objective\": 0.08999999612569809,\n",
      "  \"name\": \"CellSize_1\",\n",
      "  \"reference\": 1,\n",
      "  \"relation\": \"==\",\n",
      "  \"true\": {\n",
      "    \"complexity\": 0.009999999776482582,\n",
      "    \"loss\": 0.009999999776482582,\n",
      "    \"name\": \"Y\",\n",
      "    \"prediction\": 0\n",
      "  },\n",
      "  \"type\": \"integral\"\n",
      "}\n",
      "training completed. Number of trees in the Rashomon set: 638089\n"
     ]
    }
   ],
   "source": [
    "### Import Packages ###\n",
    "import os\n",
    "import numpy as np\n",
    "import pandas as pd\n",
    "import math as math\n",
    "import random as random\n",
    "from scipy import stats\n",
    "from sklearn.metrics import f1_score\n",
    "from sklearn.model_selection import train_test_split\n",
    "from treeFarms.treefarms.model.treefarms import TREEFARMS\n",
    "\n",
    "### Local Packages ###\n",
    "from utils.Auxiliary import *\n",
    "\n",
    "# Input #\n",
    "DataFile = \"BreastCancer\"\n",
    "rashomon_bound_adder = 0.04\n",
    "regularization = 0.01\n",
    "TestProportion = 0.2\n",
    "CandidateProportion = 0.8 \n",
    "Seed = 0\n",
    "\n",
    "# Load Data #\n",
    "df = LoadData(DataFile)\n",
    "random.seed(Seed)\n",
    "np.random.seed(Seed)\n",
    "\n",
    "# TreeFarms #\n",
    "config = {\"regularization\": regularization, \"rashomon_bound_adder\": rashomon_bound_adder}\n",
    "TreeFarmsModel = TREEFARMS(config)\n",
    "TreeFarmsModel.fit(df.loc[:, df.columns != \"Y\"], df[\"Y\"])\n",
    "TreeCount = TreeFarmsModel.get_tree_count()"
   ]
  },
  {
   "cell_type": "code",
   "execution_count": 21,
   "metadata": {},
   "outputs": [
    {
     "name": "stdout",
     "output_type": "stream",
     "text": [
      "TreeCount: 638089\n",
      "Difference from 300k: 338089\n",
      "Difference from 500k: 138089\n"
     ]
    }
   ],
   "source": [
    "print(\"TreeCount: \" + str(TreeCount))\n",
    "print(\"Difference from 300k: \" + str(TreeCount- 300000))\n",
    "print(\"Difference from 500k: \" + str(TreeCount- 500000))\n"
   ]
  },
  {
   "cell_type": "code",
   "execution_count": null,
   "metadata": {},
   "outputs": [],
   "source": [
    "\n",
    "# Train Test Candidate Split #\n",
    "from utils.Main import TrainTestCandidateSplit\n",
    "df_Train, df_Test, df_Candidate = TrainTestCandidateSplit(df, TestProportion, CandidateProportion)\n",
    "\n",
    "### TRAIN TREEFARMS ###\n",
    "# TreeFarms #\n",
    "config = {\"regularization\": regularization, \"rashomon_bound_adder\": rashomon_bound_adder}\n",
    "TreeFarmsModel = TREEFARMS(config)\n",
    "TreeFarmsModel.fit(df_Train.loc[:, df_Train.columns != \"Y\"], df_Train[\"Y\"])\n",
    "TreeCount = TreeFarmsModel.get_tree_count()"
   ]
  },
  {
   "cell_type": "code",
   "execution_count": 11,
   "metadata": {},
   "outputs": [
    {
     "name": "stdout",
     "output_type": "stream",
     "text": [
      "TreeCount: 12\n",
      "Difference from 300k: -299988\n",
      "Difference from 500k: -499988\n"
     ]
    }
   ],
   "source": [
    "print(\"TreeCount: \" + str(TreeCount))\n",
    "print(\"Difference from 300k: \" + str(TreeCount- 300000))\n",
    "print(\"Difference from 500k: \" + str(TreeCount- 500000))\n"
   ]
  },
  {
   "cell_type": "markdown",
   "metadata": {},
   "source": [
    "## Prune"
   ]
  },
  {
   "cell_type": "code",
   "execution_count": null,
   "metadata": {},
   "outputs": [],
   "source": [
    "# Duplicate and Unique #\n",
    "PredictionArray_Duplicate = pd.DataFrame(np.array([TreeFarmsModel[i].predict(df_Train.loc[:, df_Train.columns != \"Y\"]) for i in range(TreeCount)]))\n",
    "PredictionArray_Unique = pd.DataFrame(PredictionArray_Duplicate).drop_duplicates(keep='first', ignore_index=False)\n",
    "TrueValues = df_Train[\"Y\"].to_numpy()\n",
    "PredictionArray = PredictionArray_Unique"
   ]
  },
  {
   "cell_type": "markdown",
   "metadata": {},
   "source": [
    "## Training Accuracy"
   ]
  },
  {
   "cell_type": "code",
   "execution_count": null,
   "metadata": {},
   "outputs": [],
   "source": [
    "### TRAINING ACCURACY ###\n",
    "# Training Accuracy #\n",
    "TreeClassificationAccuracy = PredictionArray.eq(TrueValues, axis=1).mean(axis=1)\n",
    "BestAccuracy = float(np.max(TreeClassificationAccuracy))\n",
    "\n",
    "# Threshold Values #\n",
    "EpsilonVec = BestAccuracy - TreeClassificationAccuracy\n",
    "MinEpsilon = float(np.min(EpsilonVec))\n",
    "MaxEpsilon = float(np.max(EpsilonVec))\n",
    "ThresholdValues = np.linspace(MinEpsilon, MaxEpsilon, 1000)\n"
   ]
  },
  {
   "cell_type": "markdown",
   "metadata": {},
   "source": [
    "## Test Accuracy"
   ]
  },
  {
   "cell_type": "code",
   "execution_count": null,
   "metadata": {},
   "outputs": [],
   "source": [
    "\n",
    "### TEST ACCURACY ###\n",
    "# Set Up #\n",
    "ModelIndicesVec = []\n",
    "Epsilon_F1Score = []\n",
    "Epsilon_ClassAccuracy = []\n",
    "for Threshold in ThresholdValues:\n",
    "\n",
    "    # Filter Models Based on Threshold\n",
    "    ModelIndices = EpsilonVec[EpsilonVec <= Threshold].index.tolist()\n",
    "    Test_Predictions = pd.DataFrame(np.array([TreeFarmsModel[i].predict(df_Test.loc[:, df_Test.columns != \"Y\"]) for i in ModelIndices]))\n",
    "    Test_Predictions.columns = df_Test.index.astype(str)\n",
    "\n",
    "    # Compute Ensemble Prediction (Mode)\n",
    "    EnsemblePrediction = pd.Series(stats.mode(Test_Predictions, axis=0, keepdims=True)[0].flatten())\n",
    "    EnsemblePrediction.index = df_Test[\"Y\"].index\n",
    "\n",
    "    # Compute Metrics\n",
    "    F1Score = float(f1_score(df_Test[\"Y\"], EnsemblePrediction, average='micro'))\n",
    "    ClassAccuracy = float(np.mean(EnsemblePrediction == df_Test[\"Y\"]))\n",
    "\n",
    "    # Append Metrics\n",
    "    ModelIndicesVec.append(ModelIndices)\n",
    "    Epsilon_F1Score.append(F1Score)\n",
    "    Epsilon_ClassAccuracy.append(ClassAccuracy)"
   ]
  },
  {
   "cell_type": "markdown",
   "metadata": {},
   "source": [
    "# Analyze"
   ]
  },
  {
   "cell_type": "code",
   "execution_count": 2,
   "metadata": {},
   "outputs": [],
   "source": [
    "### Input ###\n",
    "Dataset = \"Iris\"\n",
    "Directory = \"/Users/simondn/Documents/RashomonActiveLearning/Results/OptimalThreshold/\"\n",
    "\n",
    "### All values ###\n",
    "ThresholdValuesALL = pd.read_csv(os.path.join(Directory,Dataset,\"Processed/ThresholdValuesStorage.csv\"))\n",
    "Epsilon_F1ScoreALL = pd.read_csv(os.path.join(Directory,Dataset,\"Processed/Epsilon_F1ScoreStorage.csv\"))\n",
    "Epsilon_ClassAccuracyALL = pd.read_csv(os.path.join(Directory,Dataset,\"Processed/Epsilon_ClassAccuracyStorage.csv\"))\n",
    "\n",
    "### Average Values ###\n",
    "ThresholdValues_Mean = np.mean(ThresholdValuesALL, axis =0)\n",
    "Epsilon_F1Score_Mean = np.mean(Epsilon_F1ScoreALL, axis =0)\n",
    "Epsilon_ClassAccuracy_Mean = np.mean(Epsilon_ClassAccuracyALL, axis =0)"
   ]
  },
  {
   "cell_type": "markdown",
   "metadata": {},
   "source": [
    "# Accuracy by Rashomon Threshold"
   ]
  },
  {
   "cell_type": "code",
   "execution_count": 9,
   "metadata": {},
   "outputs": [
    {
     "data": {
      "image/png": "[encoded data removed]",
      "text/plain": [
       "<Figure size 640x480 with 1 Axes>"
      ]
     },
     "metadata": {},
     "output_type": "display_data"
    }
   ],
   "source": [
    "### Plot Accuracy ###\n",
    "plt.plot(ThresholdValues_Mean, Epsilon_ClassAccuracy_Mean, label=\"Average Classification Accuracy\")\n",
    "plt.xlabel(\"Rashomon Threshold\")\n",
    "plt.ylabel(\"Average Test Classification Accuracy\")\n",
    "plt.title(\"How increasing the Rashomon threshold affects classification accuracy\")\n",
    "plt.xticks(np.arange(0, 0.05, 0.005)) \n",
    "plt.show()"
   ]
  },
  {
   "cell_type": "markdown",
   "metadata": {},
   "source": [
    "# F1 by Rashomon Threshold"
   ]
  },
  {
   "cell_type": "code",
   "execution_count": 11,
   "metadata": {},
   "outputs": [
    {
     "data": {
      "image/png": "[encoded data removed]",
      "text/plain": [
       "<Figure size 640x480 with 1 Axes>"
      ]
     },
     "metadata": {},
     "output_type": "display_data"
    }
   ],
   "source": [
    "plt.plot(ThresholdValues_Mean, Epsilon_F1Score_Mean, label=\"Average F1 Score Accuracy\")\n",
    "plt.xlabel(\"Rashomon Threshold\")\n",
    "plt.ylabel(\"Average Test F1Score\")\n",
    "plt.title(\"How increasing the Rashomon threshold affects F1Score\")\n",
    "plt.xticks(np.arange(0, 0.05, 0.005)) \n",
    "plt.show()"
   ]
  },
  {
   "cell_type": "code",
   "execution_count": null,
   "metadata": {},
   "outputs": [],
   "source": []
  }
 ],
 "metadata": {
  "kernelspec": {
   "display_name": "rashomon-3.9",
   "language": "python",
   "name": "python3"
  },
  "language_info": {
   "codemirror_mode": {
    "name": "ipython",
    "version": 3
   },
   "file_extension": ".py",
   "mimetype": "text/x-python",
   "name": "python",
   "nbconvert_exporter": "python",
   "pygments_lexer": "ipython3",
   "version": "3.9.20"
  }
 },
 "nbformat": 4,
 "nbformat_minor": 2
}
