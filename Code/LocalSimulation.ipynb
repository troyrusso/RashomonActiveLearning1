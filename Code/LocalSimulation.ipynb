{
 "cells": [
  {
   "cell_type": "code",
   "execution_count": 1,
   "metadata": {},
   "outputs": [],
   "source": [
    "### Import Packages ###\n",
    "import os\n",
    "import ast\n",
    "import numpy as np\n",
    "import math as math\n",
    "import pandas as pd\n",
    "import random as random\n",
    "import matplotlib.pyplot as plt\n",
    "from scipy.spatial.distance import cdist\n",
    "\n",
    "### Local Packages ###\n",
    "from utils.Main import *\n",
    "from utils.Selector import *\n",
    "from utils.Auxiliary import *\n",
    "from utils.Prediction import *\n"
   ]
  },
  {
   "cell_type": "code",
   "execution_count": 2,
   "metadata": {},
   "outputs": [],
   "source": [
    "### Get Directory ###\n",
    "cwd = os.getcwd()\n",
    "ParentDirectory = os.path.abspath(os.path.join(cwd, \"..\"))\n",
    "\n",
    "### DataType ###\n",
    "DataTypeInput = \"BostonHousing\"\n",
    "\n",
    "### Parameter Vector ###\n",
    "ParameterVector = pd.read_csv(os.path.join(ParentDirectory, \"Data\", \"ParameterVectors\", \"ParameterVector\" + DataTypeInput + \".csv\"))"
   ]
  },
  {
   "cell_type": "markdown",
   "metadata": {},
   "source": [
    "# Simulation"
   ]
  },
  {
   "cell_type": "code",
   "execution_count": null,
   "metadata": {},
   "outputs": [
    {
     "name": "stdout",
     "output_type": "stream",
     "text": [
      "0\n",
      "1\n",
      "2\n",
      "3\n",
      "4\n",
      "5\n",
      "6\n",
      "7\n",
      "8\n"
     ]
    }
   ],
   "source": [
    "### Set Up ###\n",
    "ErrorVecSimulation = []\n",
    "HistoryVecSimulation = []\n",
    "\n",
    "### Run Code ###\n",
    "for i in range(0,13):\n",
    "\n",
    "    ### Set Up ###\n",
    "    print(i)\n",
    "\n",
    "    ### Sequential Learning Process ###\n",
    "    SimulationResults = OneIterationFunction(DataFileInput = ParameterVector.iloc[i][\"Data\"],\n",
    "                                                    Seed = int(ParameterVector.iloc[i][\"Seed\"]),\n",
    "                                                    TestProportion = ParameterVector.iloc[i][\"TestProportion\"],\n",
    "                                                    CandidateProportion = ParameterVector.iloc[i][\"CandidateProportion\"],\n",
    "                                                    SelectorType = globals().get(ParameterVector.iloc[i][\"SelectorType\"], None), \n",
    "                                                    ModelType = globals().get(ParameterVector.iloc[i][\"ModelType\"], None), \n",
    "                                                    DataArgs = ast.literal_eval(ast.literal_eval(ParameterVector.iloc[i][\"DataArgs\"])),\n",
    "                                                    SelectorArgs = ast.literal_eval(ast.literal_eval(ParameterVector.iloc[i][\"SelectorArgs\"].replace(\"[\",\"\").replace(\"]\",\"\"))),\n",
    "                                                    ModelArgs = ast.literal_eval(ast.literal_eval(ParameterVector.iloc[i][\"ModelArgs\"].replace(\"[\",\"\").replace(\"]\",\"\")))\n",
    "                                                    )\n",
    "\n",
    "    ErrorVecSimulation.append(SimulationResults[\"ErrorVec\"])\n",
    "    HistoryVecSimulation.append(SimulationResults[\"SelectionHistory\"])\n",
    "\n",
    "    # ErrorVec.to_csv(os.path.join(ParentDirectory, \n",
    "    #          \"Results\",\n",
    "    #          str(DataFileInput).replace(\"Function\", \"\"),\n",
    "    #          \"RandomForest\",\n",
    "    #          ) + str(ParameterVector.iloc[i][\"Output\"]))"
   ]
  },
  {
   "cell_type": "markdown",
   "metadata": {},
   "source": [
    "# One Iteration"
   ]
  },
  {
   "cell_type": "markdown",
   "metadata": {},
   "source": [
    "## Inputs"
   ]
  },
  {
   "cell_type": "code",
   "execution_count": 13,
   "metadata": {},
   "outputs": [],
   "source": [
    "i=1\n",
    "DataFileInput = ParameterVector.iloc[i][\"Data\"],\n",
    "Seed = ParameterVector.iloc[i][\"Seed\"],\n",
    "TestProportion = ParameterVector.iloc[i][\"TestProportion\"],\n",
    "CandidateProportion = ParameterVector.iloc[i][\"CandidateProportion\"],\n",
    "SelectorType = globals().get(ParameterVector.iloc[i][\"SelectorType\"], None), \n",
    "ModelType = globals().get(ParameterVector.iloc[i][\"ModelType\"], None), \n",
    "DataArgs = ast.literal_eval(ast.literal_eval(ParameterVector.iloc[i][\"DataArgs\"])),\n",
    "SelectorArgs = ast.literal_eval(ast.literal_eval(ParameterVector.iloc[i][\"SelectorArgs\"].replace(\"[\",\"\").replace(\"]\",\"\"))),\n",
    "ModelArgs = ast.literal_eval(ast.literal_eval(ParameterVector.iloc[i][\"ModelArgs\"].replace(\"[\",\"\").replace(\"]\",\"\")))\n"
   ]
  },
  {
   "cell_type": "code",
   "execution_count": 15,
   "metadata": {},
   "outputs": [],
   "source": [
    "Seed = int(Seed[0])"
   ]
  },
  {
   "cell_type": "markdown",
   "metadata": {},
   "source": [
    "## One Iteration Function"
   ]
  },
  {
   "cell_type": "markdown",
   "metadata": {},
   "source": [
    "### Set Up"
   ]
  },
  {
   "cell_type": "code",
   "execution_count": 16,
   "metadata": {},
   "outputs": [],
   "source": [
    "### Run Time ###\n",
    "StartTime = time.time()\n",
    "\n",
    "### Set Up ###\n",
    "random.seed(Seed)\n",
    "np.random.seed(Seed)\n",
    "ErrorVec = []\n",
    "SelectedObservationHistory = []"
   ]
  },
  {
   "cell_type": "markdown",
   "metadata": {},
   "source": [
    "### Load Data"
   ]
  },
  {
   "cell_type": "code",
   "execution_count": 19,
   "metadata": {},
   "outputs": [],
   "source": [
    "DataFileInput = \"Auto\""
   ]
  },
  {
   "cell_type": "code",
   "execution_count": 20,
   "metadata": {},
   "outputs": [
    {
     "name": "stdout",
     "output_type": "stream",
     "text": [
      "/Users/simondn/Documents/RashomonActiveLearning/Data/processed/Auto.pkl\n"
     ]
    }
   ],
   "source": [
    "\n",
    "from utils.Main import DataGeneratingProcess                             ### NOTE: Why is this not imported from utils.Main import *\n",
    "### Generate Data ###\n",
    "if(DataFileInput == \"Simulate\"):\n",
    "    df = DataGeneratingProcess(**DataArgs)\n",
    "else:\n",
    "    df = LoadData(DataFileInput)"
   ]
  },
  {
   "cell_type": "code",
   "execution_count": 21,
   "metadata": {},
   "outputs": [],
   "source": [
    "### Directory ###\n",
    "cwd = os.getcwd()\n",
    "ParentDirectory = os.path.abspath(os.path.join(cwd, \"../\"))\n",
    "CurrentDirectory = ParentDirectory                              # NOTE: FOR LOCAL SIMULATIONS\n",
    "# CurrentDirectory = cwd                                        # NOTE: FOR THE CLUSTER\n"
   ]
  },
  {
   "cell_type": "code",
   "execution_count": null,
   "metadata": {},
   "outputs": [
    {
     "data": {
      "text/plain": [
       "'/Users/simondn/Documents/RashomonActiveLearning/Data/processed/Auto.pkl'"
      ]
     },
     "execution_count": 22,
     "metadata": {},
     "output_type": "execute_result"
    }
   ],
   "source": [
    "filepath = os.path.join(CurrentDirectory, \"Data\",\"processed\", DataFileInput +\".pkl\")\n",
    "filepath"
   ]
  },
  {
   "cell_type": "code",
   "execution_count": 7,
   "metadata": {},
   "outputs": [
    {
     "data": {
      "text/plain": [
       "'RidgeRegression.py'"
      ]
     },
     "execution_count": 7,
     "metadata": {},
     "output_type": "execute_result"
    }
   ],
   "source": [
    "filename"
   ]
  },
  {
   "cell_type": "code",
   "execution_count": null,
   "metadata": {},
   "outputs": [],
   "source": [
    "\n",
    "### File Path ###\n",
    "filepath = os.path.join(CurrentDirectory, \"Data\",\"processed\", filename +\".pkl\")\n",
    "print(filepath)\n",
    "with open(filepath, 'rb') as file:\n",
    "    data = pickle.load(file).dropna() #ERROR HERE WITH NOT FINDING PANDAS SOMETHING\n",
    "return data"
   ]
  },
  {
   "cell_type": "markdown",
   "metadata": {},
   "source": [
    "### Train Test Split"
   ]
  },
  {
   "cell_type": "code",
   "execution_count": null,
   "metadata": {},
   "outputs": [],
   "source": [
    "\n",
    "### Train Test Candidate Split\n",
    "from utils.Main import TrainTestCandidateSplit                           ### NOTE: Why is this not imported from utils.Main import *\n",
    "df_Train, df_Test, df_Candidate = TrainTestCandidateSplit(df, TestProportion, CandidateProportion)"
   ]
  },
  {
   "cell_type": "markdown",
   "metadata": {},
   "source": [
    "### Argument Processing"
   ]
  },
  {
   "cell_type": "code",
   "execution_count": null,
   "metadata": {},
   "outputs": [],
   "source": [
    "\n",
    "### Selector Arguments ###\n",
    "SelectorArgs[\"df_Train\"] = df_Test\n",
    "SelectorArgs[\"df_Candidate\"] = df_Candidate\n",
    "SelectorArgs[\"Model\"] = ModelType\n",
    "SelectorArgsFiltered = FilterArguments(SelectorType, SelectorArgs)\n",
    "\n",
    "### Model Arguments ###\n",
    "ModelArgs['df_Train'] = df_Train\n",
    "ModelArgsFiltered = FilterArguments(ModelType, ModelArgs)\n"
   ]
  },
  {
   "cell_type": "markdown",
   "metadata": {},
   "source": [
    "### Learning Process"
   ]
  },
  {
   "cell_type": "code",
   "execution_count": null,
   "metadata": {},
   "outputs": [],
   "source": [
    "\n",
    "### Learning Process ###\n",
    "from utils.Main import LearningProcedure                                 ### NOTE: Why is this not imported from utils.Main import *\n",
    "ErrorVec, SelectedObservationHistory = LearningProcedure(df_Train = df_Train, \n",
    "                                                            df_Test = df_Test, \n",
    "                                                            df_Candidate = df_Candidate, \n",
    "                                                            SelectorType = SelectorType, \n",
    "                                                            SelectorArgs = SelectorArgsFiltered,\n",
    "                                                            ModelType = ModelType, \n",
    "                                                            ModelArgs = ModelArgsFiltered\n",
    "                                                            )"
   ]
  },
  {
   "cell_type": "markdown",
   "metadata": {},
   "source": [
    "### Return"
   ]
  },
  {
   "cell_type": "code",
   "execution_count": null,
   "metadata": {},
   "outputs": [],
   "source": [
    "\n",
    "SimulationParameters = {\"DataFileInput\" : str(DataFileInput),\n",
    "                        \"Seed\" : str(Seed),\n",
    "                        \"TestProportion\" : str(TestProportion),\n",
    "                        \"CandidateProportion\" : str(CandidateProportion),\n",
    "                        \"SelectorType\" : str(SelectorType),\n",
    "                        \"ModelType\" : str(ModelType),\n",
    "                        \"DataArgs\" : str(DataArgs),\n",
    "                        # \"SelectorArgs\" : str(SelectorArgs),\n",
    "                        \"ModelArgs\" : str(ModelArgsFiltered.pop('df_Train', None))\n",
    "                        }\n",
    "\n",
    "ElapsedTime = time.time() - StartTime\n",
    "\n",
    "### Return Dictionary ###\n",
    "SimulationResults = {\"ErrorVec\" : pd.DataFrame(ErrorVec, columns =[\"Error\"]),\n",
    "                            \"SelectionHistory\" : pd.DataFrame(SelectedObservationHistory, columns = [\"ObservationID\"]),\n",
    "                            \"SimulationParameters\" : SimulationParameters,\n",
    "                            \"ElapsedTime\" : ElapsedTime}"
   ]
  }
 ],
 "metadata": {
  "kernelspec": {
   "display_name": "Python 3",
   "language": "python",
   "name": "python3"
  },
  "language_info": {
   "codemirror_mode": {
    "name": "ipython",
    "version": 3
   },
   "file_extension": ".py",
   "mimetype": "text/x-python",
   "name": "python",
   "nbconvert_exporter": "python",
   "pygments_lexer": "ipython3",
   "version": "3.11.4"
  }
 },
 "nbformat": 4,
 "nbformat_minor": 2
}
