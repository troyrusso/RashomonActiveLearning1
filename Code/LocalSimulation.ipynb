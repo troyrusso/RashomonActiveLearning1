{
 "cells": [
  {
   "cell_type": "markdown",
   "metadata": {},
   "source": [
    "# Set Up"
   ]
  },
  {
   "cell_type": "code",
   "execution_count": 1,
   "metadata": {},
   "outputs": [],
   "source": [
    "### Import Packages ###\n",
    "import os\n",
    "import math as math\n",
    "import pandas as pd\n",
    "import random as random\n",
    "\n",
    "### Local Packages ###\n",
    "from utils.Prediction import *\n",
    "from utils.Selector import *\n",
    "from utils.Auxiliary import *\n",
    "from utils.Main import *"
   ]
  },
  {
   "cell_type": "markdown",
   "metadata": {},
   "source": [
    "# Input"
   ]
  },
  {
   "cell_type": "code",
   "execution_count": 2,
   "metadata": {},
   "outputs": [],
   "source": [
    "### Get Directory ###\n",
    "cwd = os.getcwd()\n",
    "ParentDirectory = os.path.abspath(os.path.join(cwd, \"..\"))\n",
    "\n",
    "### DataType ###\n",
    "DataTypeInput = \"MONK1\"\n",
    "\n",
    "### Parameter Vector ###\n",
    "ParameterVector = pd.read_csv(os.path.join(ParentDirectory, \"Data\", \"ParameterVectors\", \"ParameterVector\" + DataTypeInput + \".csv\"))"
   ]
  },
  {
   "cell_type": "markdown",
   "metadata": {},
   "source": [
    "# Local Simulation"
   ]
  },
  {
   "cell_type": "code",
   "execution_count": 9,
   "metadata": {},
   "outputs": [],
   "source": [
    "SimulationConfigInput = {\"DataFileInput\": DataTypeInput,\n",
    "                        \"Seed\": 44,\n",
    "                        \"TestProportion\": 0.2,\n",
    "                        \"CandidateProportion\": 0.8,\n",
    "                        \"SelectorType\": \"TreeEnsembleQBCFunction\", \n",
    "                        \"ModelType\": \"TreeFarmsFunction\", \n",
    "                        \"UniqueErrorsInput\": 0,\n",
    "                        \"n_estimators\": 100,\n",
    "                        \"regularization\": 0.1,\n",
    "                        \"rashomon_bound_adder\": 0.013,\n",
    "                        \"Type\": \"Classification\"\n",
    "                        }\n"
   ]
  },
  {
   "cell_type": "code",
   "execution_count": null,
   "metadata": {},
   "outputs": [
    {
     "name": "stdout",
     "output_type": "stream",
     "text": [
      "ParameterVector Simulation Number:  3\n",
      "Iteration: 0\n",
      "Iteration: 1\n",
      "Iteration: 2\n",
      "Iteration: 3\n",
      "Iteration: 4\n",
      "Iteration: 5\n",
      "Iteration: 6\n",
      "Iteration: 7\n",
      "Iteration: 8\n",
      "Iteration: 9\n",
      "Iteration: 10\n",
      "Iteration: 11\n",
      "Iteration: 12\n",
      "Iteration: 13\n",
      "Iteration: 14\n",
      "Iteration: 15\n",
      "Iteration: 16\n",
      "Iteration: 17\n",
      "Iteration: 18\n",
      "Iteration: 19\n",
      "Iteration: 20\n",
      "Iteration: 21\n",
      "Iteration: 22\n",
      "Iteration: 23\n",
      "Iteration: 24\n",
      "Iteration: 25\n",
      "Iteration: 26\n",
      "Iteration: 27\n",
      "Iteration: 28\n",
      "Iteration: 29\n",
      "Iteration: 30\n",
      "Iteration: 31\n",
      "Iteration: 32\n",
      "Iteration: 33\n",
      "Iteration: 34\n",
      "Iteration: 35\n",
      "Iteration: 36\n",
      "Iteration: 37\n",
      "Iteration: 38\n",
      "Iteration: 39\n",
      "Iteration: 40\n",
      "Iteration: 41\n",
      "Iteration: 42\n",
      "Iteration: 43\n",
      "Iteration: 44\n",
      "Iteration: 45\n",
      "Iteration: 46\n",
      "Iteration: 47\n",
      "Iteration: 48\n",
      "Iteration: 49\n",
      "Iteration: 50\n",
      "Iteration: 51\n",
      "Iteration: 52\n",
      "Iteration: 53\n",
      "Iteration: 54\n",
      "Iteration: 55\n",
      "Iteration: 56\n",
      "Iteration: 57\n",
      "Iteration: 58\n",
      "Iteration: 59\n",
      "Iteration: 60\n",
      "Iteration: 61\n",
      "Iteration: 62\n",
      "Iteration: 63\n",
      "Iteration: 64\n",
      "Iteration: 65\n",
      "Iteration: 66\n",
      "Iteration: 67\n",
      "Iteration: 68\n",
      "Iteration: 69\n",
      "Iteration: 70\n",
      "Iteration: 71\n",
      "Iteration: 72\n",
      "Iteration: 73\n",
      "Iteration: 74\n",
      "Iteration: 75\n",
      "Iteration: 76\n",
      "Iteration: 77\n",
      "Iteration: 78\n",
      "Iteration: 79\n",
      "Iteration: 80\n",
      "Iteration: 81\n",
      "Iteration: 82\n",
      "Iteration: 83\n",
      "Iteration: 84\n",
      "Iteration: 85\n",
      "Iteration: 86\n",
      "Iteration: 87\n",
      "Iteration: 88\n",
      "Iteration: 89\n",
      "Iteration: 90\n",
      "Iteration: 91\n",
      "Iteration: 92\n",
      "Iteration: 93\n",
      "Iteration: 94\n",
      "Iteration: 95\n",
      "Iteration: 96\n",
      "Iteration: 97\n",
      "Iteration: 98\n",
      "Iteration: 99\n",
      "Iteration: 100\n",
      "Iteration: 101\n",
      "Iteration: 102\n",
      "Iteration: 103\n",
      "Iteration: 104\n",
      "Iteration: 105\n",
      "Iteration: 106\n"
     ]
    }
   ],
   "source": [
    "### Set Up ###\n",
    "SimulationResults = []\n",
    "\n",
    "### Run Simulation ###\n",
    "for i in [3,4]:\n",
    "\n",
    "    ### Set Up ###\n",
    "    print(\"ParameterVector Simulation Number: \", i)\n",
    "\n",
    "    ### Parameter Vector ###\n",
    "    SimulationConfigInput = {\"DataFileInput\": ParameterVector.iloc[i][\"Data\"],\n",
    "                            \"Seed\": int(ParameterVector.iloc[i][\"Seed\"]),\n",
    "                            \"TestProportion\": float(ParameterVector.iloc[i][\"TestProportion\"]),\n",
    "                            \"CandidateProportion\": float(ParameterVector.iloc[i][\"CandidateProportion\"]),\n",
    "                            \"SelectorType\": str(ParameterVector.iloc[i][\"SelectorType\"]), \n",
    "                            \"ModelType\": str(ParameterVector.iloc[i][\"ModelType\"]), \n",
    "                            \"UniqueErrorsInput\": int(ParameterVector.iloc[i][\"UniqueErrorsInput\"]),\n",
    "                            \"n_estimators\":int(ParameterVector.iloc[i][\"n_estimators\"]),\n",
    "                            \"regularization\":float(ParameterVector.iloc[i][\"regularization\"]),\n",
    "                            \"rashomon_bound_adder\":float(ParameterVector.iloc[i][\"rashomon_bound_adder\"]),\n",
    "                            \"Type\":ParameterVector.iloc[i][\"Type\"]\n",
    "                            }\n",
    "\n",
    "    ### Sequential Learning Process ###\n",
    "    OneIterationResults = OneIterationFunction(SimulationConfigInput)\n",
    "\n",
    "    ### Append ###\n",
    "    SimulationResults.append(OneIterationResults)\n",
    "\n",
    "with open(os.path.join(SaveDirectory, str(\"MONK2/TreeFarms/Raw/0M2_DPL0.013.pkl\")), 'wb') as f:\n",
    "    pickle.dump(OneIterationResults, f)"
   ]
  },
  {
   "cell_type": "code",
   "execution_count": 13,
   "metadata": {},
   "outputs": [
    {
     "data": {
      "text/plain": [
       "True"
      ]
     },
     "execution_count": 13,
     "metadata": {},
     "output_type": "execute_result"
    }
   ],
   "source": [
    "all(SimulationResults[0][\"ErrorVec\"] ==1)"
   ]
  }
 ],
 "metadata": {
  "kernelspec": {
   "display_name": "rashomon-3.9",
   "language": "python",
   "name": "python3"
  },
  "language_info": {
   "codemirror_mode": {
    "name": "ipython",
    "version": 3
   },
   "file_extension": ".py",
   "mimetype": "text/x-python",
   "name": "python",
   "nbconvert_exporter": "python",
   "pygments_lexer": "ipython3",
   "version": "3.9.20"
  }
 },
 "nbformat": 4,
 "nbformat_minor": 2
}
