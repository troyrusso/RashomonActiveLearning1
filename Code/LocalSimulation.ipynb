{
 "cells": [
  {
   "cell_type": "code",
   "execution_count": 1,
   "metadata": {},
   "outputs": [],
   "source": [
    "### Import Packages ###\n",
    "import os\n",
    "import ast\n",
    "import numpy as np\n",
    "import math as math\n",
    "import pandas as pd\n",
    "import random as random\n",
    "import matplotlib.pyplot as plt\n",
    "from scipy.spatial.distance import cdist\n",
    "\n",
    "### Import functions ###\n",
    "from utils.Main import *\n",
    "from utils.Selector import *\n",
    "from utils.Auxiliary import *\n",
    "from utils.Prediction import *\n",
    "\n",
    "### Get Directory ###\n",
    "cwd = os.getcwd()\n",
    "ParentDirectory = os.path.abspath(os.path.join(cwd, \"..\"))\n",
    "\n",
    "### Parameter Vector ###\n",
    "ParameterVector = pd.read_csv(os.path.join(ParentDirectory, \"Data\", \"raw\", \"ParameterVectorSimulations.csv\"))"
   ]
  },
  {
   "cell_type": "code",
   "execution_count": null,
   "metadata": {},
   "outputs": [
    {
     "name": "stdout",
     "output_type": "stream",
     "text": [
      "0\n"
     ]
    }
   ],
   "source": [
    "### Set Up ###\n",
    "ErrorVecSimulation = []\n",
    "HistoryVecSimulation = []\n",
    "\n",
    "### Run Code ###\n",
    "for i in range(0,ParameterVector.shape[0]):\n",
    "\n",
    "    ### Set Up ###\n",
    "    print(i)\n",
    "    DataFileInput = \"Simulate\"\n",
    "    ModelType =  RandomForestRegressorFunction\n",
    "    ModelArgs = {\"df_Train\" : \"df_Train\",\n",
    "                 \"n_estimators\" : 50,\n",
    "                 \"Seed\" : 1}\n",
    "\n",
    "    ### Sequential Learning Process ###\n",
    "    ErrorVec, HistoryVec, SimulationParameters = OneIterationFunction(DataFileInput = DataFileInput,\n",
    "                                                    Seed = ParameterVector.iloc[i][\"Seed\"],\n",
    "                                                    TestProportion = ParameterVector.iloc[i][\"TestProportion\"],\n",
    "                                                    CandidateProportion = ParameterVector.iloc[i][\"CandidateProportion\"],\n",
    "                                                    SelectorType = globals().get(ParameterVector.iloc[i][\"SelectorType\"], None), \n",
    "                                                    ModelType = ModelType, \n",
    "                                                    DataArgs = ast.literal_eval(ParameterVector.iloc[i][\"DataArgs\"]),\n",
    "                                                    SelectorArgs = ast.literal_eval(ParameterVector.iloc[i][\"SelectorArgs\"].replace(\"[\",\"\").replace(\"]\",\"\")),\n",
    "                                                    ModelArgs = ModelArgs)\n",
    "\n",
    "    ErrorVecSimulation.append(ErrorVec)\n",
    "    HistoryVecSimulation.append(HistoryVec)\n",
    "\n",
    "    ErrorVec.to_csv(os.path.join(ParentDirectory, \n",
    "             \"Results\",\n",
    "             str(DataFileInput).replace(\"Function\", \"\"),\n",
    "             \"RandomForestRegressor\",\n",
    "             ) + str(ParameterVector.iloc[i][\"Output\"]))"
   ]
  }
 ],
 "metadata": {
  "kernelspec": {
   "display_name": "Python 3",
   "language": "python",
   "name": "python3"
  },
  "language_info": {
   "codemirror_mode": {
    "name": "ipython",
    "version": 3
   },
   "file_extension": ".py",
   "mimetype": "text/x-python",
   "name": "python",
   "nbconvert_exporter": "python",
   "pygments_lexer": "ipython3",
   "version": "3.9.6"
  }
 },
 "nbformat": 4,
 "nbformat_minor": 2
}
