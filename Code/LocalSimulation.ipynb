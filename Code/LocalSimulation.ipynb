{
 "cells": [
  {
   "cell_type": "code",
   "execution_count": 1,
   "metadata": {},
   "outputs": [],
   "source": [
    "### Import Packages ###\n",
    "import os\n",
    "import ast\n",
    "import numpy as np\n",
    "import math as math\n",
    "import pandas as pd\n",
    "import random as random\n",
    "import matplotlib.pyplot as plt\n",
    "from scipy.spatial.distance import cdist\n",
    "\n",
    "### Local Packages ###\n",
    "import sys\n",
    "from pathlib import Path\n",
    "\n",
    "# Add the `treeFarms` directory to sys.path\n",
    "treefarms_path = Path(\"/Users/simondn/Documents/RashomonActiveLearning/Code/treeFarms\")\n",
    "sys.path.append(str(treefarms_path))\n",
    "\n",
    "from utils.Prediction import *\n",
    "from utils.Selector import *\n",
    "from utils.Auxiliary import *\n",
    "from utils.Main import *\n"
   ]
  },
  {
   "cell_type": "code",
   "execution_count": 2,
   "metadata": {},
   "outputs": [],
   "source": [
    "### Get Directory ###\n",
    "cwd = os.getcwd()\n",
    "ParentDirectory = os.path.abspath(os.path.join(cwd, \"..\"))\n",
    "\n",
    "### DataType ###\n",
    "DataTypeInput = \"COMPAS\"\n",
    "\n",
    "### Parameter Vector ###\n",
    "# ParameterVector = pd.read_csv(os.path.join(ParentDirectory, \"Data\", \"ParameterVectors\", \"ParameterVector\" + DataTypeInput + \".csv\"))"
   ]
  },
  {
   "cell_type": "markdown",
   "metadata": {},
   "source": [
    "# Test Learning Process"
   ]
  },
  {
   "cell_type": "markdown",
   "metadata": {},
   "source": [
    "## Input"
   ]
  },
  {
   "cell_type": "code",
   "execution_count": 3,
   "metadata": {},
   "outputs": [],
   "source": [
    "DataTypeInput = \"COMPAS\"\n",
    "DataFileInput = DataTypeInput\n",
    "Seed = 1\n",
    "TestProportion = 0.2\n",
    "CandidateProportion = 0.8\n",
    "SelectorType = RashomonQBCFunction\n",
    "ModelType = TreeFarmsFunction\n",
    "DataArgs = {}\n",
    "SelectorArgs = {\"TopCModels\": 10}\n",
    "ModelArgs = {\"TopCModels\": 10, \"config\" : {\"regularization\": 0.01, \"rashomon_bound_multiplier\": 0.03}, \"Type\":\"Classification\"}\n",
    "\n",
    "# SelectorArgs = {\"Model\": Model, \"df_Candidate\": df_Candidate, \"df_Train\": df_Train, \"TopCModels\": TopCModels, \"AllErrors\": AllErrors}\n",
    "\n"
   ]
  },
  {
   "cell_type": "code",
   "execution_count": null,
   "metadata": {},
   "outputs": [],
   "source": [
    "### Run Time ###\n",
    "StartTime = time.time()\n",
    "\n",
    "### Set Up ###\n",
    "random.seed(Seed)\n",
    "np.random.seed(Seed)\n",
    "ErrorVec = []\n",
    "SelectedObservationHistory = []\n",
    "\n",
    "### Generate Data ###\n",
    "if(DataFileInput == \"Simulate\"):\n",
    "    from utils.Main import DataGeneratingProcess                             ### NOTE: Why is this not imported from utils.Main import *\n",
    "    df = DataGeneratingProcess(**DataArgs)\n",
    "else:\n",
    "    df = LoadData(DataFileInput)\n",
    "\n",
    "### Train Test Candidate Split\n",
    "from utils.Main import TrainTestCandidateSplit                           ### NOTE: Why is this not imported from utils.Main import *\n",
    "df_Train, df_Test, df_Candidate = TrainTestCandidateSplit(df, TestProportion, CandidateProportion)\n",
    "\n",
    "### Selector Arguments ###\n",
    "SelectorArgs[\"df_Train\"] = df_Test\n",
    "SelectorArgs[\"df_Candidate\"] = df_Candidate\n",
    "SelectorArgs[\"Model\"] = ModelType\n",
    "SelectorArgsFiltered = FilterArguments(SelectorType, SelectorArgs)\n",
    "\n",
    "### Model Arguments ###\n",
    "ModelArgs['df_Train'] = df_Train\n",
    "ModelArgsFiltered = FilterArguments(ModelType, ModelArgs)"
   ]
  },
  {
   "cell_type": "code",
   "execution_count": null,
   "metadata": {},
   "outputs": [
    {
     "ename": "",
     "evalue": "",
     "output_type": "error",
     "traceback": [
      "\u001b[1;31mThe Kernel crashed while executing code in the current cell or a previous cell. \n",
      "\u001b[1;31mPlease review the code in the cell(s) to identify a possible cause of the failure. \n",
      "\u001b[1;31mClick <a href='https://aka.ms/vscodeJupyterKernelCrash'>here</a> for more info. \n",
      "\u001b[1;31mView Jupyter <a href='command:jupyter.viewOutput'>log</a> for further details."
     ]
    }
   ],
   "source": [
    "### Learning Process ###\n",
    "from utils.Main import LearningProcedure                                 ### NOTE: Why is this not imported from utils.Main import *\n",
    "ErrorVec, SelectedObservationHistory = LearningProcedure(df_Train = df_Train, \n",
    "                                                            df_Test = df_Test, \n",
    "                                                            df_Candidate = df_Candidate, \n",
    "                                                            SelectorType = SelectorType, \n",
    "                                                            SelectorArgs = SelectorArgsFiltered,\n",
    "                                                            ModelType = ModelType, \n",
    "                                                            ModelArgs = ModelArgsFiltered\n",
    "                                                            )"
   ]
  },
  {
   "cell_type": "markdown",
   "metadata": {},
   "source": [
    "# Simulation"
   ]
  },
  {
   "cell_type": "code",
   "execution_count": null,
   "metadata": {},
   "outputs": [
    {
     "name": "stdout",
     "output_type": "stream",
     "text": [
      "0\n",
      "1\n",
      "2\n",
      "3\n",
      "4\n",
      "5\n",
      "6\n",
      "7\n",
      "8\n"
     ]
    }
   ],
   "source": [
    "### Set Up ###\n",
    "ErrorVecSimulation = []\n",
    "HistoryVecSimulation = []\n",
    "\n",
    "### Run Code ###\n",
    "for i in range(0,13):\n",
    "\n",
    "    ### Set Up ###\n",
    "    print(i)\n",
    "\n",
    "    ### Sequential Learning Process ###\n",
    "    SimulationResults = OneIterationFunction(DataFileInput = ParameterVector.iloc[i][\"Data\"],\n",
    "                                                    Seed = int(ParameterVector.iloc[i][\"Seed\"]),\n",
    "                                                    TestProportion = ParameterVector.iloc[i][\"TestProportion\"],\n",
    "                                                    CandidateProportion = ParameterVector.iloc[i][\"CandidateProportion\"],\n",
    "                                                    SelectorType = globals().get(ParameterVector.iloc[i][\"SelectorType\"], None), \n",
    "                                                    ModelType = globals().get(ParameterVector.iloc[i][\"ModelType\"], None), \n",
    "                                                    DataArgs = ast.literal_eval(ast.literal_eval(ParameterVector.iloc[i][\"DataArgs\"])),\n",
    "                                                    SelectorArgs = ast.literal_eval(ast.literal_eval(ParameterVector.iloc[i][\"SelectorArgs\"].replace(\"[\",\"\").replace(\"]\",\"\"))),\n",
    "                                                    ModelArgs = ast.literal_eval(ast.literal_eval(ParameterVector.iloc[i][\"ModelArgs\"].replace(\"[\",\"\").replace(\"]\",\"\")))\n",
    "                                                    )\n",
    "\n",
    "    ErrorVecSimulation.append(SimulationResults[\"ErrorVec\"])\n",
    "    HistoryVecSimulation.append(SimulationResults[\"SelectionHistory\"])\n",
    "\n",
    "    # ErrorVec.to_csv(os.path.join(ParentDirectory, \n",
    "    #          \"Results\",\n",
    "    #          str(DataFileInput).replace(\"Function\", \"\"),\n",
    "    #          \"RandomForest\",\n",
    "    #          ) + str(ParameterVector.iloc[i][\"Output\"]))"
   ]
  }
 ],
 "metadata": {
  "kernelspec": {
   "display_name": "rashomon-3.9",
   "language": "python",
   "name": "python3"
  },
  "language_info": {
   "codemirror_mode": {
    "name": "ipython",
    "version": 3
   },
   "file_extension": ".py",
   "mimetype": "text/x-python",
   "name": "python",
   "nbconvert_exporter": "python",
   "pygments_lexer": "ipython3",
   "version": "3.9.20"
  }
 },
 "nbformat": 4,
 "nbformat_minor": 2
}
