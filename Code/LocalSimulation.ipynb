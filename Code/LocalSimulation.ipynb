{
 "cells": [
  {
   "cell_type": "code",
   "execution_count": 1,
   "metadata": {},
   "outputs": [],
   "source": [
    "### Import Packages ###\n",
    "import os\n",
    "import ast\n",
    "import numpy as np\n",
    "import math as math\n",
    "import pandas as pd\n",
    "import random as random\n",
    "import matplotlib.pyplot as plt\n",
    "from scipy.spatial.distance import cdist\n"
   ]
  },
  {
   "cell_type": "code",
   "execution_count": 9,
   "metadata": {},
   "outputs": [
    {
     "data": {
      "text/plain": [
       "'RidgeRegression.py'"
      ]
     },
     "execution_count": 9,
     "metadata": {},
     "output_type": "execute_result"
    }
   ],
   "source": [
    "\n",
    "### Import functions ###\n",
    "from utils.Main import *\n",
    "filename"
   ]
  },
  {
   "cell_type": "code",
   "execution_count": 8,
   "metadata": {},
   "outputs": [
    {
     "data": {
      "text/plain": [
       "<function utils.Main.TrainTestCandidateSplit.TrainTestCandidateSplit(df, TestProportion, CandidateProportion)>"
      ]
     },
     "execution_count": 8,
     "metadata": {},
     "output_type": "execute_result"
    }
   ],
   "source": [
    "TrainTestCandidateSplit"
   ]
  },
  {
   "cell_type": "code",
   "execution_count": null,
   "metadata": {},
   "outputs": [],
   "source": [
    "\n",
    "from utils.Selector import *\n"
   ]
  },
  {
   "cell_type": "code",
   "execution_count": null,
   "metadata": {},
   "outputs": [],
   "source": [
    "\n",
    "from utils.Auxiliary import *\n"
   ]
  },
  {
   "cell_type": "code",
   "execution_count": null,
   "metadata": {},
   "outputs": [],
   "source": [
    "\n",
    "from utils.Prediction import *\n"
   ]
  },
  {
   "cell_type": "code",
   "execution_count": null,
   "metadata": {},
   "outputs": [],
   "source": [
    "\n",
    "### Get Directory ###\n",
    "cwd = os.getcwd()\n",
    "ParentDirectory = os.path.abspath(os.path.join(cwd, \"..\"))\n",
    "\n",
    "### DataType ###\n",
    "DataTypeInput = \"Auto\"\n",
    "\n",
    "### Parameter Vector ###\n",
    "ParameterVector = pd.read_csv(os.path.join(ParentDirectory, \"Data\", \"ParameterVectors\", \"ParameterVector\" + DataTypeInput + \".csv\"))"
   ]
  },
  {
   "cell_type": "markdown",
   "metadata": {},
   "source": [
    "# Data"
   ]
  },
  {
   "cell_type": "markdown",
   "metadata": {},
   "source": [
    "# One Iteration\n"
   ]
  },
  {
   "cell_type": "markdown",
   "metadata": {},
   "source": [
    "# Simulation"
   ]
  },
  {
   "cell_type": "code",
   "execution_count": null,
   "metadata": {},
   "outputs": [],
   "source": [
    "### Set Up ###\n",
    "ErrorVecSimulation = []\n",
    "HistoryVecSimulation = []\n",
    "\n",
    "### Run Code ###\n",
    "for i in range(0,ParameterVector.shape[0]):\n",
    "\n",
    "    ### Set Up ###\n",
    "    print(i)\n",
    "\n",
    "    ### Sequential Learning Process ###\n",
    "    SimulationResults = OneIterationFunction(DataFileInput = ParameterVector.iloc[i][\"Data\"],\n",
    "                                                    Seed = int(ParameterVector.iloc[i][\"Seed\"]),\n",
    "                                                    TestProportion = ParameterVector.iloc[i][\"TestProportion\"],\n",
    "                                                    CandidateProportion = ParameterVector.iloc[i][\"CandidateProportion\"],\n",
    "                                                    SelectorType = globals().get(ParameterVector.iloc[i][\"SelectorType\"], None), \n",
    "                                                    ModelType = globals().get(ParameterVector.iloc[i][\"ModelType\"], None), \n",
    "                                                    DataArgs = ast.literal_eval(ast.literal_eval(ParameterVector.iloc[i][\"DataArgs\"])),\n",
    "                                                    SelectorArgs = ast.literal_eval(ast.literal_eval(ParameterVector.iloc[i][\"SelectorArgs\"].replace(\"[\",\"\").replace(\"]\",\"\"))),\n",
    "                                                    ModelArgs = ast.literal_eval(ast.literal_eval(ParameterVector.iloc[i][\"ModelArgs\"].replace(\"[\",\"\").replace(\"]\",\"\")))\n",
    "                                                    )\n",
    "\n",
    "    ErrorVecSimulation.append(SimulationResults[\"ErrorVec\"])\n",
    "    HistoryVecSimulation.append(SimulationResults[\"SelectionHistory\"])\n",
    "\n",
    "    # ErrorVec.to_csv(os.path.join(ParentDirectory, \n",
    "    #          \"Results\",\n",
    "    #          str(DataFileInput).replace(\"Function\", \"\"),\n",
    "    #          \"RandomForest\",\n",
    "    #          ) + str(ParameterVector.iloc[i][\"Output\"]))"
   ]
  },
  {
   "cell_type": "markdown",
   "metadata": {},
   "source": [
    "# One Iteration"
   ]
  },
  {
   "cell_type": "markdown",
   "metadata": {},
   "source": [
    "## Inputs"
   ]
  },
  {
   "cell_type": "code",
   "execution_count": 2,
   "metadata": {},
   "outputs": [],
   "source": [
    "i=1\n",
    "DataFileInput = ParameterVector.iloc[i][\"Data\"],\n",
    "Seed = ParameterVector.iloc[i][\"Seed\"],\n",
    "TestProportion = ParameterVector.iloc[i][\"TestProportion\"],\n",
    "CandidateProportion = ParameterVector.iloc[i][\"CandidateProportion\"],\n",
    "SelectorType = globals().get(ParameterVector.iloc[i][\"SelectorType\"], None), \n",
    "ModelType = globals().get(ParameterVector.iloc[i][\"ModelType\"], None), \n",
    "DataArgs = ast.literal_eval(ast.literal_eval(ParameterVector.iloc[i][\"DataArgs\"])),\n",
    "SelectorArgs = ast.literal_eval(ast.literal_eval(ParameterVector.iloc[i][\"SelectorArgs\"].replace(\"[\",\"\").replace(\"]\",\"\"))),\n",
    "ModelArgs = ast.literal_eval(ast.literal_eval(ParameterVector.iloc[i][\"ModelArgs\"].replace(\"[\",\"\").replace(\"]\",\"\")))\n"
   ]
  },
  {
   "cell_type": "code",
   "execution_count": 3,
   "metadata": {},
   "outputs": [],
   "source": [
    "Seed = int(Seed[0])"
   ]
  },
  {
   "cell_type": "markdown",
   "metadata": {},
   "source": [
    "## One Iteration Function"
   ]
  },
  {
   "cell_type": "markdown",
   "metadata": {},
   "source": [
    "### Set Up"
   ]
  },
  {
   "cell_type": "code",
   "execution_count": 4,
   "metadata": {},
   "outputs": [],
   "source": [
    "### Run Time ###\n",
    "StartTime = time.time()\n",
    "\n",
    "### Set Up ###\n",
    "random.seed(Seed)\n",
    "np.random.seed(Seed)\n",
    "ErrorVec = []\n",
    "SelectedObservationHistory = []"
   ]
  },
  {
   "cell_type": "markdown",
   "metadata": {},
   "source": [
    "### Load Data"
   ]
  },
  {
   "cell_type": "code",
   "execution_count": 18,
   "metadata": {},
   "outputs": [
    {
     "ename": "TypeError",
     "evalue": "can only concatenate tuple (not \"str\") to tuple",
     "output_type": "error",
     "traceback": [
      "\u001b[0;31m---------------------------------------------------------------------------\u001b[0m",
      "\u001b[0;31mTypeError\u001b[0m                                 Traceback (most recent call last)",
      "Cell \u001b[0;32mIn[18], line 6\u001b[0m\n\u001b[1;32m      4\u001b[0m     df \u001b[38;5;241m=\u001b[39m DataGeneratingProcess(\u001b[38;5;241m*\u001b[39m\u001b[38;5;241m*\u001b[39mDataArgs)\n\u001b[1;32m      5\u001b[0m \u001b[38;5;28;01melse\u001b[39;00m:\n\u001b[0;32m----> 6\u001b[0m     df \u001b[38;5;241m=\u001b[39m LoadData(DataFileInput)\n",
      "File \u001b[0;32m~/Documents/RashomonActiveLearning/Code/utils/Auxiliary/LoadDataSet.py:18\u001b[0m, in \u001b[0;36mLoadData\u001b[0;34m(filename)\u001b[0m\n\u001b[1;32m     14\u001b[0m CurrentDirectory \u001b[38;5;241m=\u001b[39m ParentDirectory                              \u001b[38;5;66;03m# NOTE: FOR LOCAL SIMULATIONS\u001b[39;00m\n\u001b[1;32m     15\u001b[0m \u001b[38;5;66;03m# CurrentDirectory = cwd                                        # NOTE: FOR THE CLUSTER\u001b[39;00m\n\u001b[1;32m     16\u001b[0m \n\u001b[1;32m     17\u001b[0m \u001b[38;5;66;03m### File Path ###\u001b[39;00m\n\u001b[0;32m---> 18\u001b[0m filepath \u001b[38;5;241m=\u001b[39m os\u001b[38;5;241m.\u001b[39mpath\u001b[38;5;241m.\u001b[39mjoin(CurrentDirectory, \u001b[38;5;124m\"\u001b[39m\u001b[38;5;124mData\u001b[39m\u001b[38;5;124m\"\u001b[39m,\u001b[38;5;124m\"\u001b[39m\u001b[38;5;124mprocessed\u001b[39m\u001b[38;5;124m\"\u001b[39m, filename \u001b[38;5;241m+\u001b[39m\u001b[38;5;124m\"\u001b[39m\u001b[38;5;124m.pkl\u001b[39m\u001b[38;5;124m\"\u001b[39m)\n\u001b[1;32m     19\u001b[0m \u001b[38;5;28mprint\u001b[39m(filepath)\n\u001b[1;32m     20\u001b[0m \u001b[38;5;28;01mwith\u001b[39;00m \u001b[38;5;28mopen\u001b[39m(filepath, \u001b[38;5;124m'\u001b[39m\u001b[38;5;124mrb\u001b[39m\u001b[38;5;124m'\u001b[39m) \u001b[38;5;28;01mas\u001b[39;00m file:\n",
      "\u001b[0;31mTypeError\u001b[0m: can only concatenate tuple (not \"str\") to tuple"
     ]
    }
   ],
   "source": [
    "\n",
    "from utils.Main import DataGeneratingProcess                             ### NOTE: Why is this not imported from utils.Main import *\n",
    "### Generate Data ###\n",
    "if(DataFileInput == \"Simulate\"):\n",
    "    df = DataGeneratingProcess(**DataArgs)\n",
    "else:\n",
    "    df = LoadData(DataFileInput)"
   ]
  },
  {
   "cell_type": "code",
   "execution_count": 5,
   "metadata": {},
   "outputs": [],
   "source": [
    "### Directory ###\n",
    "cwd = os.getcwd()\n",
    "ParentDirectory = os.path.abspath(os.path.join(cwd, \"../\"))\n",
    "CurrentDirectory = ParentDirectory                              # NOTE: FOR LOCAL SIMULATIONS\n",
    "# CurrentDirectory = cwd                                        # NOTE: FOR THE CLUSTER\n"
   ]
  },
  {
   "cell_type": "code",
   "execution_count": 6,
   "metadata": {},
   "outputs": [
    {
     "data": {
      "text/plain": [
       "'/Users/simondn/Documents/RashomonActiveLearning/Data/processed/RidgeRegression.py.pkl'"
      ]
     },
     "execution_count": 6,
     "metadata": {},
     "output_type": "execute_result"
    }
   ],
   "source": [
    "filepath = os.path.join(CurrentDirectory, \"Data\",\"processed\", filename +\".pkl\")\n",
    "filepath"
   ]
  },
  {
   "cell_type": "code",
   "execution_count": 7,
   "metadata": {},
   "outputs": [
    {
     "data": {
      "text/plain": [
       "'RidgeRegression.py'"
      ]
     },
     "execution_count": 7,
     "metadata": {},
     "output_type": "execute_result"
    }
   ],
   "source": [
    "filename"
   ]
  },
  {
   "cell_type": "code",
   "execution_count": null,
   "metadata": {},
   "outputs": [],
   "source": [
    "\n",
    "### File Path ###\n",
    "filepath = os.path.join(CurrentDirectory, \"Data\",\"processed\", filename +\".pkl\")\n",
    "print(filepath)\n",
    "with open(filepath, 'rb') as file:\n",
    "    data = pickle.load(file).dropna() #ERROR HERE WITH NOT FINDING PANDAS SOMETHING\n",
    "return data"
   ]
  },
  {
   "cell_type": "markdown",
   "metadata": {},
   "source": [
    "### Train Test Split"
   ]
  },
  {
   "cell_type": "code",
   "execution_count": null,
   "metadata": {},
   "outputs": [],
   "source": [
    "\n",
    "### Train Test Candidate Split\n",
    "from utils.Main import TrainTestCandidateSplit                           ### NOTE: Why is this not imported from utils.Main import *\n",
    "df_Train, df_Test, df_Candidate = TrainTestCandidateSplit(df, TestProportion, CandidateProportion)"
   ]
  },
  {
   "cell_type": "markdown",
   "metadata": {},
   "source": [
    "### Argument Processing"
   ]
  },
  {
   "cell_type": "code",
   "execution_count": null,
   "metadata": {},
   "outputs": [],
   "source": [
    "\n",
    "### Selector Arguments ###\n",
    "SelectorArgs[\"df_Train\"] = df_Test\n",
    "SelectorArgs[\"df_Candidate\"] = df_Candidate\n",
    "SelectorArgs[\"Model\"] = ModelType\n",
    "SelectorArgsFiltered = FilterArguments(SelectorType, SelectorArgs)\n",
    "\n",
    "### Model Arguments ###\n",
    "ModelArgs['df_Train'] = df_Train\n",
    "ModelArgsFiltered = FilterArguments(ModelType, ModelArgs)\n"
   ]
  },
  {
   "cell_type": "markdown",
   "metadata": {},
   "source": [
    "### Learning Process"
   ]
  },
  {
   "cell_type": "code",
   "execution_count": null,
   "metadata": {},
   "outputs": [],
   "source": [
    "\n",
    "### Learning Process ###\n",
    "from utils.Main import LearningProcedure                                 ### NOTE: Why is this not imported from utils.Main import *\n",
    "ErrorVec, SelectedObservationHistory = LearningProcedure(df_Train = df_Train, \n",
    "                                                            df_Test = df_Test, \n",
    "                                                            df_Candidate = df_Candidate, \n",
    "                                                            SelectorType = SelectorType, \n",
    "                                                            SelectorArgs = SelectorArgsFiltered,\n",
    "                                                            ModelType = ModelType, \n",
    "                                                            ModelArgs = ModelArgsFiltered\n",
    "                                                            )"
   ]
  },
  {
   "cell_type": "markdown",
   "metadata": {},
   "source": [
    "### Return"
   ]
  },
  {
   "cell_type": "code",
   "execution_count": null,
   "metadata": {},
   "outputs": [],
   "source": [
    "\n",
    "SimulationParameters = {\"DataFileInput\" : str(DataFileInput),\n",
    "                        \"Seed\" : str(Seed),\n",
    "                        \"TestProportion\" : str(TestProportion),\n",
    "                        \"CandidateProportion\" : str(CandidateProportion),\n",
    "                        \"SelectorType\" : str(SelectorType),\n",
    "                        \"ModelType\" : str(ModelType),\n",
    "                        \"DataArgs\" : str(DataArgs),\n",
    "                        # \"SelectorArgs\" : str(SelectorArgs),\n",
    "                        \"ModelArgs\" : str(ModelArgsFiltered.pop('df_Train', None))\n",
    "                        }\n",
    "\n",
    "ElapsedTime = time.time() - StartTime\n",
    "\n",
    "### Return Dictionary ###\n",
    "SimulationResults = {\"ErrorVec\" : pd.DataFrame(ErrorVec, columns =[\"Error\"]),\n",
    "                            \"SelectionHistory\" : pd.DataFrame(SelectedObservationHistory, columns = [\"ObservationID\"]),\n",
    "                            \"SimulationParameters\" : SimulationParameters,\n",
    "                            \"ElapsedTime\" : ElapsedTime}"
   ]
  }
 ],
 "metadata": {
  "kernelspec": {
   "display_name": "Python 3",
   "language": "python",
   "name": "python3"
  },
  "language_info": {
   "codemirror_mode": {
    "name": "ipython",
    "version": 3
   },
   "file_extension": ".py",
   "mimetype": "text/x-python",
   "name": "python",
   "nbconvert_exporter": "python",
   "pygments_lexer": "ipython3",
   "version": "3.11.4"
  }
 },
 "nbformat": 4,
 "nbformat_minor": 2
}
