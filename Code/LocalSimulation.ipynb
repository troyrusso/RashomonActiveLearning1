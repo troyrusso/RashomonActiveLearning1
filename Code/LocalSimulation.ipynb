{
 "cells": [
  {
   "cell_type": "markdown",
   "metadata": {},
   "source": [
    "# Set Up"
   ]
  },
  {
   "cell_type": "code",
   "execution_count": 1,
   "metadata": {},
   "outputs": [],
   "source": [
    "### Import Packages ###\n",
    "import os\n",
    "import math as math\n",
    "import pandas as pd\n",
    "import random as random\n",
    "\n",
    "### Local Packages ###\n",
    "from utils.Prediction import *\n",
    "from utils.Selector import *\n",
    "from utils.Auxiliary import *\n",
    "from utils.Main import *"
   ]
  },
  {
   "cell_type": "markdown",
   "metadata": {},
   "source": [
    "# Input"
   ]
  },
  {
   "cell_type": "code",
   "execution_count": 2,
   "metadata": {},
   "outputs": [],
   "source": [
    "### Get Directory ###\n",
    "cwd = os.getcwd()\n",
    "ParentDirectory = os.path.abspath(os.path.join(cwd, \"..\"))\n",
    "\n",
    "### DataType ###\n",
    "DataTypeInput = \"CVR\"\n",
    "\n",
    "### Parameter Vector ###\n",
    "ParameterVector = pd.read_csv(os.path.join(ParentDirectory, \"Data\", \"ParameterVectors\", \"ParameterVector\" + DataTypeInput + \".csv\"))"
   ]
  },
  {
   "cell_type": "markdown",
   "metadata": {},
   "source": [
    "# Local Simulation"
   ]
  },
  {
   "cell_type": "code",
   "execution_count": null,
   "metadata": {},
   "outputs": [
    {
     "name": "stdout",
     "output_type": "stream",
     "text": [
      "ParameterVector Simulation Number:  0\n",
      "Iteration: 0\n",
      "null\n",
      "Finding Optimal Objective...\n",
      "treefarms reported successful execution\n",
      "training completed. Number of trees in the Rashomon set: 4094\n",
      "{\n",
      "  \"false\": {\n",
      "    \"complexity\": 0.009999999776482582,\n",
      "    \"loss\": 0.0,\n",
      "    \"name\": \"Y\",\n",
      "    \"prediction\": 0\n",
      "  },\n",
      "  \"feature\": 7,\n",
      "  \"model_objective\": 0.019999999552965164,\n",
      "  \"name\": \"Physician_y\",\n",
      "  \"reference\": 1.0,\n",
      "  \"relation\": \"==\",\n",
      "  \"true\": {\n",
      "    \"complexity\": 0.009999999776482582,\n",
      "    \"loss\": 0.0,\n",
      "    \"name\": \"Y\",\n",
      "    \"prediction\": 1\n",
      "  },\n",
      "  \"type\": \"rational\"\n",
      "}\n",
      "{\n",
      "  \"false\": {\n",
      "    \"complexity\": 0.009999999776482582,\n",
      "    \"loss\": 0.0,\n",
      "    \"name\": \"Y\",\n",
      "    \"prediction\": 1\n",
      "  },\n",
      "  \"feature\": 6,\n",
      "  \"model_objective\": 0.019999999552965164,\n",
      "  \"name\": \"Physician_n\",\n",
      "  \"reference\": 1.0,\n",
      "  \"relation\": \"==\",\n",
      "  \"true\": {\n",
      "    \"complexity\": 0.009999999776482582,\n",
      "    \"loss\": 0.0,\n",
      "    \"name\": \"Y\",\n",
      "    \"prediction\": 0\n",
      "  },\n",
      "  \"type\": \"rational\"\n",
      "}\n",
      "Iteration: 1\n",
      "null\n",
      "Finding Optimal Objective...\n",
      "treefarms reported successful execution\n",
      "training completed. Number of trees in the Rashomon set: 2062\n",
      "{\n",
      "  \"false\": {\n",
      "    \"complexity\": 0.009999999776482582,\n",
      "    \"loss\": 0.0,\n",
      "    \"name\": \"Y\",\n",
      "    \"prediction\": 0\n",
      "  },\n",
      "  \"feature\": 7,\n",
      "  \"model_objective\": 0.019999999552965164,\n",
      "  \"name\": \"Physician_y\",\n",
      "  \"reference\": 1.0,\n",
      "  \"relation\": \"==\",\n",
      "  \"true\": {\n",
      "    \"complexity\": 0.009999999776482582,\n",
      "    \"loss\": 0.0,\n",
      "    \"name\": \"Y\",\n",
      "    \"prediction\": 1\n",
      "  },\n",
      "  \"type\": \"rational\"\n",
      "}\n",
      "{\n",
      "  \"false\": {\n",
      "    \"complexity\": 0.009999999776482582,\n",
      "    \"loss\": 0.0,\n",
      "    \"name\": \"Y\",\n",
      "    \"prediction\": 1\n",
      "  },\n",
      "  \"feature\": 6,\n",
      "  \"model_objective\": 0.019999999552965164,\n",
      "  \"name\": \"Physician_n\",\n",
      "  \"reference\": 1.0,\n",
      "  \"relation\": \"==\",\n",
      "  \"true\": {\n",
      "    \"complexity\": 0.009999999776482582,\n",
      "    \"loss\": 0.0,\n",
      "    \"name\": \"Y\",\n",
      "    \"prediction\": 0\n",
      "  },\n",
      "  \"type\": \"rational\"\n",
      "}\n"
     ]
    }
   ],
   "source": [
    "### Set Up ###\n",
    "SimulationResults = []\n",
    "\n",
    "### Run Simulation ###\n",
    "for i in [0,1,2]:\n",
    "\n",
    "    ### Set Up ###\n",
    "    print(\"ParameterVector Simulation Number: \", i)\n",
    "\n",
    "    ### Parameter Vector ###\n",
    "    SimulationConfigInput = {\"DataFileInput\": ParameterVector.iloc[i][\"Data\"],\n",
    "                            \"Seed\": int(ParameterVector.iloc[i][\"Seed\"]),\n",
    "                            \"TestProportion\": float(ParameterVector.iloc[i][\"TestProportion\"]),\n",
    "                            \"CandidateProportion\": float(ParameterVector.iloc[i][\"CandidateProportion\"]),\n",
    "                            \"SelectorType\": str(ParameterVector.iloc[i][\"SelectorType\"]), \n",
    "                            \"ModelType\": str(ParameterVector.iloc[i][\"ModelType\"]), \n",
    "                            \"UniqueErrorsInput\": int(ParameterVector.iloc[i][\"UniqueErrorsInput\"]),\n",
    "                            \"n_estimators\":int(ParameterVector.iloc[i][\"n_estimators\"]),\n",
    "                            \"regularization\":float(ParameterVector.iloc[i][\"regularization\"]),\n",
    "                            \"RashomonThresholdType\":ParameterVector.iloc[i][\"RashomonThresholdType\"],\n",
    "                            \"RashomonThreshold\":float(ParameterVector.iloc[i][\"RashomonThreshold\"]),\n",
    "                            \"Type\":ParameterVector.iloc[i][\"Type\"]\n",
    "                            }\n",
    "\n",
    "    ### Sequential Learning Process ###\n",
    "    OneIterationResults = OneIterationFunction(SimulationConfigInput)\n",
    "\n",
    "    ### Append ###\n",
    "    SimulationResults.append(OneIterationResults)"
   ]
  },
  {
   "cell_type": "code",
   "execution_count": null,
   "metadata": {},
   "outputs": [],
   "source": []
  }
 ],
 "metadata": {
  "kernelspec": {
   "display_name": "rashomon-3.9",
   "language": "python",
   "name": "python3"
  },
  "language_info": {
   "codemirror_mode": {
    "name": "ipython",
    "version": 3
   },
   "file_extension": ".py",
   "mimetype": "text/x-python",
   "name": "python",
   "nbconvert_exporter": "python",
   "pygments_lexer": "ipython3",
   "version": "3.9.20"
  }
 },
 "nbformat": 4,
 "nbformat_minor": 2
}
