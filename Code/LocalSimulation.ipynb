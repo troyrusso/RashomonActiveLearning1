{
 "cells": [
  {
   "cell_type": "code",
   "execution_count": 1,
   "metadata": {},
   "outputs": [],
   "source": [
    "### Import Packages ###\n",
    "import os\n",
    "import ast\n",
    "import numpy as np\n",
    "import math as math\n",
    "import pandas as pd\n",
    "import random as random\n",
    "import matplotlib.pyplot as plt\n",
    "from scipy.spatial.distance import cdist\n",
    "\n",
    "### Local Packages ###\n",
    "from utils.Main import *\n",
    "from utils.Selector import *\n",
    "from utils.Auxiliary import *\n",
    "from utils.Prediction import *"
   ]
  },
  {
   "cell_type": "code",
   "execution_count": null,
   "metadata": {},
   "outputs": [],
   "source": [
    "### Get Directory ###\n",
    "cwd = os.getcwd()\n",
    "ParentDirectory = os.path.abspath(os.path.join(cwd, \"..\"))\n",
    "\n",
    "### DataType ###\n",
    "DataTypeInput = \"COMPAS\"\n",
    "\n",
    "### Parameter Vector ###\n",
    "ParameterVector = pd.read_csv(os.path.join(ParentDirectory, \"Data\", \"ParameterVectors\", \"ParameterVector\" + DataTypeInput + \".csv\"))"
   ]
  },
  {
   "cell_type": "markdown",
   "metadata": {},
   "source": [
    "# Simulation"
   ]
  },
  {
   "cell_type": "code",
   "execution_count": null,
   "metadata": {},
   "outputs": [
    {
     "name": "stdout",
     "output_type": "stream",
     "text": [
      "0\n",
      "1\n",
      "2\n",
      "3\n",
      "4\n",
      "5\n",
      "6\n",
      "7\n",
      "8\n"
     ]
    }
   ],
   "source": [
    "### Set Up ###\n",
    "ErrorVecSimulation = []\n",
    "HistoryVecSimulation = []\n",
    "\n",
    "### Run Code ###\n",
    "for i in range(0,13):\n",
    "\n",
    "    ### Set Up ###\n",
    "    print(i)\n",
    "\n",
    "    ### Sequential Learning Process ###\n",
    "    SimulationResults = OneIterationFunction(DataFileInput = ParameterVector.iloc[i][\"Data\"],\n",
    "                                                    Seed = int(ParameterVector.iloc[i][\"Seed\"]),\n",
    "                                                    TestProportion = ParameterVector.iloc[i][\"TestProportion\"],\n",
    "                                                    CandidateProportion = ParameterVector.iloc[i][\"CandidateProportion\"],\n",
    "                                                    SelectorType = globals().get(ParameterVector.iloc[i][\"SelectorType\"], None), \n",
    "                                                    ModelType = globals().get(ParameterVector.iloc[i][\"ModelType\"], None), \n",
    "                                                    DataArgs = ast.literal_eval(ast.literal_eval(ParameterVector.iloc[i][\"DataArgs\"])),\n",
    "                                                    SelectorArgs = ast.literal_eval(ast.literal_eval(ParameterVector.iloc[i][\"SelectorArgs\"].replace(\"[\",\"\").replace(\"]\",\"\"))),\n",
    "                                                    ModelArgs = ast.literal_eval(ast.literal_eval(ParameterVector.iloc[i][\"ModelArgs\"].replace(\"[\",\"\").replace(\"]\",\"\")))\n",
    "                                                    )\n",
    "\n",
    "    ErrorVecSimulation.append(SimulationResults[\"ErrorVec\"])\n",
    "    HistoryVecSimulation.append(SimulationResults[\"SelectionHistory\"])\n",
    "\n",
    "    # ErrorVec.to_csv(os.path.join(ParentDirectory, \n",
    "    #          \"Results\",\n",
    "    #          str(DataFileInput).replace(\"Function\", \"\"),\n",
    "    #          \"RandomForest\",\n",
    "    #          ) + str(ParameterVector.iloc[i][\"Output\"]))"
   ]
  }
 ],
 "metadata": {
  "kernelspec": {
   "display_name": "Python 3",
   "language": "python",
   "name": "python3"
  },
  "language_info": {
   "codemirror_mode": {
    "name": "ipython",
    "version": 3
   },
   "file_extension": ".py",
   "mimetype": "text/x-python",
   "name": "python",
   "nbconvert_exporter": "python",
   "pygments_lexer": "ipython3",
   "version": "3.11.4"
  }
 },
 "nbformat": 4,
 "nbformat_minor": 2
}
