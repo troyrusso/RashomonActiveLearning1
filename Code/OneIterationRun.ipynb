{
 "cells": [
  {
   "cell_type": "code",
   "execution_count": 1,
   "metadata": {},
   "outputs": [],
   "source": [
    "### Import Packages ###\n",
    "import os\n",
    "import ast\n",
    "import numpy as np\n",
    "import math as math\n",
    "import pandas as pd\n",
    "import random as random\n",
    "import matplotlib.pyplot as plt\n",
    "from scipy.spatial.distance import cdist\n",
    "\n",
    "### Local Packages ###\n",
    "from utils.Main import *\n",
    "from utils.Selector import *\n",
    "from utils.Auxiliary import *\n",
    "from utils.Prediction import *"
   ]
  },
  {
   "cell_type": "code",
   "execution_count": 2,
   "metadata": {},
   "outputs": [],
   "source": [
    "### Get Directory ###\n",
    "cwd = os.getcwd()\n",
    "ParentDirectory = os.path.abspath(os.path.join(cwd, \"..\"))\n",
    "\n",
    "### DataType ###\n",
    "DataFileInput = \"BostonHousingBinned\""
   ]
  },
  {
   "cell_type": "markdown",
   "metadata": {},
   "source": [
    "# One Iteration"
   ]
  },
  {
   "cell_type": "markdown",
   "metadata": {},
   "source": [
    "## Inputs"
   ]
  },
  {
   "cell_type": "code",
   "execution_count": 3,
   "metadata": {},
   "outputs": [],
   "source": [
    "TopCModels = 50\n",
    "Seed = 1\n",
    "TestProportion = 0.2\n",
    "CandidateProportion = 0.8\n",
    "SelectorType = TreeEnsembleQBCFunction\n",
    "# ModelType = RandomForestClassificationFunction\n",
    "ModelType = TreeFarmsFunction\n",
    "DataArgs = {}\n",
    "SelectorArgs = {\"TopCModels\": 10}\n",
    "ModelArgs = {\"TopCModels\": TopCModels, \n",
    "             \"config\" : {\"regularization\": 0.01, \n",
    "             \"rashomon_bound_multiplier\": 0.05}, \n",
    "             \"Seed\": Seed,\n",
    "             \"n_estimators\": TopCModels,\n",
    "             \"Type\":\"Classification\"}\n"
   ]
  },
  {
   "cell_type": "code",
   "execution_count": 4,
   "metadata": {},
   "outputs": [],
   "source": [
    "# ### Parameter Vector ###\n",
    "# k=3\n",
    "# ParameterVector = pd.read_csv(os.path.join(ParentDirectory, \"Data\", \"ParameterVectors\", \"ParameterVector\" + DataFileInput + \".csv\"))\n",
    "# Seed = int(ParameterVector.iloc[k][\"Seed\"])\n",
    "# TestProportion = float(ParameterVector.iloc[k][\"TestProportion\"])\n",
    "# CandidateProportion = float(ParameterVector.iloc[k][\"CandidateProportion\"])\n",
    "# SelectorType = globals().get(ParameterVector.iloc[k][\"SelectorType\"], None)\n",
    "# # ModelType = globals().get(ParameterVector.iloc[k][\"ModelType\"], None)\n",
    "# ModelType = RandomForestClassificationFunction\n",
    "# DataArgs = ast.literal_eval(ast.literal_eval(ParameterVector.iloc[k][\"DataArgs\"]))\n",
    "# SelectorArgs = ast.literal_eval(ast.literal_eval(ParameterVector.iloc[k][\"SelectorArgs\"].replace(\"[\",\"\").replace(\"]\",\"\")))\n",
    "# ModelArgs = ast.literal_eval(ast.literal_eval(ParameterVector.iloc[k][\"ModelArgs\"].replace(\"[\",\"\").replace(\"]\",\"\")))\n"
   ]
  },
  {
   "cell_type": "markdown",
   "metadata": {},
   "source": [
    "# Set Up"
   ]
  },
  {
   "cell_type": "code",
   "execution_count": 5,
   "metadata": {},
   "outputs": [],
   "source": [
    "### Run Time ###\n",
    "StartTime = time.time()\n",
    "\n",
    "### Set Up ###\n",
    "random.seed(Seed)\n",
    "np.random.seed(Seed)\n",
    "ErrorVec = []\n",
    "SelectedObservationHistory = []"
   ]
  },
  {
   "cell_type": "code",
   "execution_count": 6,
   "metadata": {},
   "outputs": [],
   "source": [
    "### Generate Data ###\n",
    "if(DataFileInput == \"Simulate\"):\n",
    "    from utils.Main import DataGeneratingProcess                             ### NOTE: Why is this not imported from utils.Main import *\n",
    "    df = DataGeneratingProcess(**DataArgs)\n",
    "else:\n",
    "    df = LoadData(DataFileInput)"
   ]
  },
  {
   "cell_type": "code",
   "execution_count": 7,
   "metadata": {},
   "outputs": [],
   "source": [
    "### Train Test Candidate Split\n",
    "from utils.Main import TrainTestCandidateSplit                           ### NOTE: Why is this not imported from utils.Main import *\n",
    "df_Train, df_Test, df_Candidate = TrainTestCandidateSplit(df, TestProportion, CandidateProportion)"
   ]
  },
  {
   "cell_type": "code",
   "execution_count": 8,
   "metadata": {},
   "outputs": [],
   "source": [
    "df_Train = pd.concat([df_Train, df_Candidate], ignore_index=True)"
   ]
  },
  {
   "cell_type": "code",
   "execution_count": 9,
   "metadata": {},
   "outputs": [],
   "source": [
    "### Selector Arguments ###\n",
    "SelectorArgs[\"df_Train\"] = df_Test                                     # NOTE: Change to df_Test if there is a test set\n",
    "SelectorArgs[\"df_Candidate\"] = df_Candidate\n",
    "SelectorArgs[\"Model\"] = \"\"\n",
    "# SelectorArgsFiltered = FilterArguments(SelectorType, SelectorArgs)"
   ]
  },
  {
   "cell_type": "code",
   "execution_count": 10,
   "metadata": {},
   "outputs": [],
   "source": [
    "### Model Arguments ###\n",
    "ModelArgs['df_Train'] = df_Train\n",
    "# ModelArgsFiltered = FilterArguments(ModelType, ModelArgs)"
   ]
  },
  {
   "cell_type": "markdown",
   "metadata": {},
   "source": [
    "# Learning Procedure"
   ]
  },
  {
   "cell_type": "code",
   "execution_count": 11,
   "metadata": {},
   "outputs": [],
   "source": [
    "### Set Up ###\n",
    "ErrorVec = []\n",
    "SelectedObservationHistory = []"
   ]
  },
  {
   "cell_type": "code",
   "execution_count": 12,
   "metadata": {},
   "outputs": [],
   "source": [
    "i=0"
   ]
  },
  {
   "cell_type": "code",
   "execution_count": 13,
   "metadata": {},
   "outputs": [
    {
     "name": "stdout",
     "output_type": "stream",
     "text": [
      "Iteration: 0\n",
      "null\n",
      "treefarms reported successful execution\n",
      "training completed. Number of trees in the Rashomon set: 9\n",
      "Finding Optimal Objective...\n",
      "{\n",
      "  \"false\": {\n",
      "    \"complexity\": 0.009999999776482582,\n",
      "    \"loss\": 0.037128712981939316,\n",
      "    \"name\": \"Y\",\n",
      "    \"prediction\": \"False\"\n",
      "  },\n",
      "  \"feature\": 8,\n",
      "  \"model_objective\": 0.12415841966867447,\n",
      "  \"name\": \"RM_3\",\n",
      "  \"reference\": 1.0,\n",
      "  \"relation\": \"==\",\n",
      "  \"true\": {\n",
      "    \"false\": {\n",
      "      \"false\": {\n",
      "        \"complexity\": 0.009999999776482582,\n",
      "        \"loss\": 0.012376237660646439,\n",
      "        \"name\": \"Y\",\n",
      "        \"prediction\": \"False\"\n",
      "      },\n",
      "      \"feature\": 9,\n",
      "      \"name\": \"PTRATIO_1\",\n",
      "      \"reference\": 1.0,\n",
      "      \"relation\": \"==\",\n",
      "      \"true\": {\n",
      "        \"complexity\": 0.009999999776482582,\n",
      "        \"loss\": 0.004950494971126318,\n",
      "        \"name\": \"Y\",\n",
      "        \"prediction\": \"True\"\n",
      "      },\n",
      "      \"type\": \"rational\"\n",
      "    },\n",
      "    \"feature\": 3,\n",
      "    \"name\": \"NOX_1\",\n",
      "    \"reference\": 1.0,\n",
      "    \"relation\": \"==\",\n",
      "    \"true\": {\n",
      "      \"complexity\": 0.009999999776482582,\n",
      "      \"loss\": 0.029702968895435333,\n",
      "      \"name\": \"Y\",\n",
      "      \"prediction\": \"True\"\n",
      "    },\n",
      "    \"type\": \"rational\"\n",
      "  },\n",
      "  \"type\": \"rational\"\n",
      "}\n",
      "{\n",
      "  \"false\": {\n",
      "    \"complexity\": 0.009999999776482582,\n",
      "    \"loss\": 0.037128712981939316,\n",
      "    \"name\": \"Y\",\n",
      "    \"prediction\": \"False\"\n",
      "  },\n",
      "  \"feature\": 8,\n",
      "  \"model_objective\": 0.12415841966867447,\n",
      "  \"name\": \"RM_3\",\n",
      "  \"reference\": 1.0,\n",
      "  \"relation\": \"==\",\n",
      "  \"true\": {\n",
      "    \"false\": {\n",
      "      \"false\": {\n",
      "        \"complexity\": 0.009999999776482582,\n",
      "        \"loss\": 0.012376237660646439,\n",
      "        \"name\": \"Y\",\n",
      "        \"prediction\": \"False\"\n",
      "      },\n",
      "      \"feature\": 3,\n",
      "      \"name\": \"NOX_1\",\n",
      "      \"reference\": 1.0,\n",
      "      \"relation\": \"==\",\n",
      "      \"true\": {\n",
      "        \"complexity\": 0.009999999776482582,\n",
      "        \"loss\": 0.009900989942252636,\n",
      "        \"name\": \"Y\",\n",
      "        \"prediction\": \"True\"\n",
      "      },\n",
      "      \"type\": \"rational\"\n",
      "    },\n",
      "    \"feature\": 9,\n",
      "    \"name\": \"PTRATIO_1\",\n",
      "    \"reference\": 1.0,\n",
      "    \"relation\": \"==\",\n",
      "    \"true\": {\n",
      "      \"complexity\": 0.009999999776482582,\n",
      "      \"loss\": 0.024752475321292877,\n",
      "      \"name\": \"Y\",\n",
      "      \"prediction\": \"True\"\n",
      "    },\n",
      "    \"type\": \"rational\"\n",
      "  },\n",
      "  \"type\": \"rational\"\n",
      "}\n",
      "{\n",
      "  \"false\": {\n",
      "    \"false\": {\n",
      "      \"complexity\": 0.009999999776482582,\n",
      "      \"loss\": 0.0222772266715765,\n",
      "      \"name\": \"Y\",\n",
      "      \"prediction\": \"False\"\n",
      "    },\n",
      "    \"feature\": 8,\n",
      "    \"name\": \"RM_3\",\n",
      "    \"reference\": 1.0,\n",
      "    \"relation\": \"==\",\n",
      "    \"true\": {\n",
      "      \"complexity\": 0.009999999776482582,\n",
      "      \"loss\": 0.049504950642585754,\n",
      "      \"name\": \"Y\",\n",
      "      \"prediction\": \"True\"\n",
      "    },\n",
      "    \"type\": \"rational\"\n",
      "  },\n",
      "  \"feature\": 2,\n",
      "  \"model_objective\": 0.12415841966867447,\n",
      "  \"name\": \"CRIM_3\",\n",
      "  \"reference\": 1.0,\n",
      "  \"relation\": \"==\",\n",
      "  \"true\": {\n",
      "    \"false\": {\n",
      "      \"complexity\": 0.009999999776482582,\n",
      "      \"loss\": 0.007425742223858833,\n",
      "      \"name\": \"Y\",\n",
      "      \"prediction\": \"False\"\n",
      "    },\n",
      "    \"feature\": 12,\n",
      "    \"name\": \"LSTAT_1\",\n",
      "    \"reference\": 1.0,\n",
      "    \"relation\": \"==\",\n",
      "    \"true\": {\n",
      "      \"complexity\": 0.009999999776482582,\n",
      "      \"loss\": 0.004950494971126318,\n",
      "      \"name\": \"Y\",\n",
      "      \"prediction\": \"True\"\n",
      "    },\n",
      "    \"type\": \"rational\"\n",
      "  },\n",
      "  \"type\": \"rational\"\n",
      "}\n"
     ]
    }
   ],
   "source": [
    "### Prediction Model ###\n",
    "print(\"Iteration: \" + str(i))\n",
    "ModelArgsFiltered = FilterArguments(ModelType, ModelArgs)\n",
    "Model = ModelType(**ModelArgsFiltered)\n",
    "if \"Model\" in SelectorArgs.keys(): SelectorArgs['Model'] = Model            # NOTE: THIS IS NOT DYNAMIC"
   ]
  },
  {
   "cell_type": "code",
   "execution_count": 14,
   "metadata": {},
   "outputs": [],
   "source": [
    "# ### Current Error ###\n",
    "TestErrorVal = TestErrorFunction(Model, df_Test, ModelArgs[\"Type\"])        # NOTE: Change to df_Test if there is a test set\n",
    "if(len(TestErrorVal) > 1):\n",
    "    AllErrors = TestErrorVal                                                # Rashomon gives all errors of Rashomon\n",
    "    CurrentError = float(np.min(AllErrors))                                 # Extract the best one\n",
    "else: \n",
    "    CurrentError = TestErrorVal                                             # One output for non-Rashomon\n",
    "    AllErrors = [None]\n",
    "SelectorArgs[\"AllErrors\"] = AllErrors                                       # Use AllErrors in RashomonQBC\n",
    "ErrorVec.append(CurrentError)\n"
   ]
  },
  {
   "cell_type": "markdown",
   "metadata": {},
   "source": [
    "---"
   ]
  },
  {
   "cell_type": "code",
   "execution_count": 15,
   "metadata": {},
   "outputs": [
    {
     "data": {
      "image/png": "[encoded data removed]",
      "text/plain": [
       "<Figure size 400x600 with 1 Axes>"
      ]
     },
     "metadata": {},
     "output_type": "display_data"
    }
   ],
   "source": [
    "PlotTreeFarmsDecisionTreeErrors(AllErrors, order_errors=True)\n"
   ]
  },
  {
   "cell_type": "markdown",
   "metadata": {},
   "source": [
    "---"
   ]
  },
  {
   "cell_type": "markdown",
   "metadata": {},
   "source": [
    "# Jump Here"
   ]
  },
  {
   "cell_type": "code",
   "execution_count": 47,
   "metadata": {},
   "outputs": [
    {
     "ename": "TypeError",
     "evalue": "TreeEnsembleQBCFunction() missing 1 required positional argument: 'UniqueErrorsInput'",
     "output_type": "error",
     "traceback": [
      "\u001b[0;31m---------------------------------------------------------------------------\u001b[0m",
      "\u001b[0;31mTypeError\u001b[0m                                 Traceback (most recent call last)",
      "Cell \u001b[0;32mIn[47], line 3\u001b[0m\n\u001b[1;32m      1\u001b[0m \u001b[38;5;66;03m### Sampling Procedure ###\u001b[39;00m\n\u001b[1;32m      2\u001b[0m SelectorArgsFiltered \u001b[38;5;241m=\u001b[39m FilterArguments(SelectorType, SelectorArgs)\n\u001b[0;32m----> 3\u001b[0m QueryObservationIndex \u001b[38;5;241m=\u001b[39m \u001b[43mSelectorType\u001b[49m\u001b[43m(\u001b[49m\u001b[38;5;241;43m*\u001b[39;49m\u001b[38;5;241;43m*\u001b[39;49m\u001b[43mSelectorArgsFiltered\u001b[49m\u001b[43m)\u001b[49m\n\u001b[1;32m      4\u001b[0m QueryObservation \u001b[38;5;241m=\u001b[39m df_Candidate\u001b[38;5;241m.\u001b[39mloc[[QueryObservationIndex]] \u001b[38;5;66;03m# or should this be iloc\u001b[39;00m\n",
      "\u001b[0;31mTypeError\u001b[0m: TreeEnsembleQBCFunction() missing 1 required positional argument: 'UniqueErrorsInput'"
     ]
    }
   ],
   "source": [
    "### Sampling Procedure ###\n",
    "SelectorArgsFiltered = FilterArguments(SelectorType, SelectorArgs)\n",
    "QueryObservationIndex = SelectorType(**SelectorArgsFiltered)\n",
    "QueryObservation = df_Candidate.loc[[QueryObservationIndex]] # or should this be iloc"
   ]
  },
  {
   "cell_type": "code",
   "execution_count": null,
   "metadata": {},
   "outputs": [],
   "source": [
    "### Update Train and Candidate Sets ###\n",
    "df_Train = pd.concat([df_Train, QueryObservation])\n",
    "df_Candidate = df_Candidate.drop(QueryObservationIndex)\n",
    "### Update SelectorArgs and ModelArgs ###                                     # NOTE: THIS IS NOT DYNAMIC\n",
    "if \"df_Train\" in ModelArgs.keys(): ModelArgs['df_Train'] = df_Train\n",
    "if \"df_Train\" in SelectorArgs.keys(): SelectorArgs['df_Train'] = df_Train\n",
    "if \"df_Candidate\" in SelectorArgs.keys(): SelectorArgs['df_Candidate'] = df_Candidate  "
   ]
  },
  {
   "cell_type": "markdown",
   "metadata": {},
   "source": [
    "# Save"
   ]
  },
  {
   "cell_type": "code",
   "execution_count": null,
   "metadata": {},
   "outputs": [],
   "source": [
    "# ### Return Simulation Parameters ###\n",
    "# SimulationParameters = {\"DataFileInput\" : str(DataFileInput),\n",
    "#                         \"Seed\" : str(Seed),\n",
    "#                         \"TestProportion\" : str(TestProportion),\n",
    "#                         \"CandidateProportion\" : str(CandidateProportion),\n",
    "#                         \"SelectorType\" : str(SelectorType),\n",
    "#                         \"ModelType\" : str(ModelType),\n",
    "#                         \"DataArgs\" : str(DataArgs),\n",
    "#                         # \"SelectorArgs\" : str(SelectorArgs),\n",
    "#                         \"ModelArgs\" : str(FilterArguments(ModelType, ModelArgs).pop('df_Train', None))\n",
    "#                         }"
   ]
  },
  {
   "cell_type": "code",
   "execution_count": null,
   "metadata": {},
   "outputs": [],
   "source": [
    "# ### Return Time ###\n",
    "# ElapsedTime = time.time() - StartTime\n",
    "\n",
    "# ### Return Dictionary ###\n",
    "# SimulationResults = {\"ErrorVec\" : pd.DataFrame(ErrorVec, columns =[\"Error\"]),\n",
    "#                             \"SelectionHistory\" : pd.DataFrame(SelectedObservationHistory, columns = [\"ObservationID\"]),\n",
    "#                             \"SimulationParameters\" : SimulationParameters,\n",
    "#                             \"ElapsedTime\" : ElapsedTime}"
   ]
  }
 ],
 "metadata": {
  "kernelspec": {
   "display_name": "rashomon-3.9",
   "language": "python",
   "name": "python3"
  },
  "language_info": {
   "codemirror_mode": {
    "name": "ipython",
    "version": 3
   },
   "file_extension": ".py",
   "mimetype": "text/x-python",
   "name": "python",
   "nbconvert_exporter": "python",
   "pygments_lexer": "ipython3",
   "version": "3.9.20"
  }
 },
 "nbformat": 4,
 "nbformat_minor": 4
}
