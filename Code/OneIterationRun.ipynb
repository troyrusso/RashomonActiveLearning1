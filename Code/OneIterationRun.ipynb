{
 "cells": [
  {
   "cell_type": "code",
   "execution_count": 1,
   "metadata": {},
   "outputs": [],
   "source": [
    "### Import Packages ###\n",
    "import os\n",
    "import ast\n",
    "import numpy as np\n",
    "import math as math\n",
    "import pandas as pd\n",
    "import random as random\n",
    "import matplotlib.pyplot as plt\n",
    "from scipy.spatial.distance import cdist\n",
    "\n",
    "### Local Packages ###\n",
    "from utils.Main import *\n",
    "from utils.Selector import *\n",
    "from utils.Auxiliary import *\n",
    "from utils.Prediction import *"
   ]
  },
  {
   "cell_type": "code",
   "execution_count": 2,
   "metadata": {},
   "outputs": [],
   "source": [
    "### Get Directory ###\n",
    "cwd = os.getcwd()\n",
    "ParentDirectory = os.path.abspath(os.path.join(cwd, \"..\"))\n",
    "\n",
    "### DataType ###\n",
    "DataFileInput = \"BostonHousingBinned\""
   ]
  },
  {
   "cell_type": "markdown",
   "metadata": {},
   "source": [
    "# One Iteration"
   ]
  },
  {
   "cell_type": "markdown",
   "metadata": {},
   "source": [
    "## Inputs"
   ]
  },
  {
   "cell_type": "code",
   "execution_count": 3,
   "metadata": {},
   "outputs": [],
   "source": [
    "# TopCModels = 50\n",
    "# Seed = 1\n",
    "# TestProportion = 0.2\n",
    "# CandidateProportion = 0.8\n",
    "# SelectorType = TreeEnsembleQBCFunction\n",
    "# ModelType = RandomForestClassificationFunction\n",
    "# # ModelType = TreeFarmsFunction\n",
    "# DataArgs = {}\n",
    "# SelectorArgs = {\"TopCModels\": 10}\n",
    "# ModelArgs = {\"TopCModels\": TopCModels, \n",
    "#              \"config\" : {\"regularization\": 0.01, \n",
    "#              \"rashomon_bound_multiplier\": 0.05}, \n",
    "#              \"Seed\": Seed,\n",
    "#              \"n_estimators\": TopCModels,\n",
    "#              \"Type\":\"Classification\"}\n"
   ]
  },
  {
   "cell_type": "code",
   "execution_count": 4,
   "metadata": {},
   "outputs": [],
   "source": [
    "### Parameter Vector ###\n",
    "k=3\n",
    "ParameterVector = pd.read_csv(os.path.join(ParentDirectory, \"Data\", \"ParameterVectors\", \"ParameterVector\" + DataFileInput + \".csv\"))\n",
    "Seed = int(ParameterVector.iloc[k][\"Seed\"])\n",
    "TestProportion = 0.2\n",
    "CandidateProportion = 0.8\n",
    "SelectorType = globals().get(ParameterVector.iloc[k][\"SelectorType\"], None)\n",
    "# ModelType = globals().get(ParameterVector.iloc[k][\"ModelType\"], None)\n",
    "ModelType = TreeFarmsFunction\n",
    "DataArgs = ast.literal_eval(ast.literal_eval(ParameterVector.iloc[k][\"DataArgs\"]))\n",
    "SelectorArgs = ast.literal_eval(ast.literal_eval(ParameterVector.iloc[k][\"SelectorArgs\"].replace(\"[\",\"\").replace(\"]\",\"\")))\n",
    "ModelArgs = ast.literal_eval(ast.literal_eval(ParameterVector.iloc[k][\"ModelArgs\"].replace(\"[\",\"\").replace(\"]\",\"\")))\n"
   ]
  },
  {
   "cell_type": "markdown",
   "metadata": {},
   "source": [
    "# Set Up"
   ]
  },
  {
   "cell_type": "code",
   "execution_count": 5,
   "metadata": {},
   "outputs": [],
   "source": [
    "### Run Time ###\n",
    "StartTime = time.time()\n",
    "\n",
    "### Set Up ###\n",
    "random.seed(Seed)\n",
    "np.random.seed(Seed)\n",
    "ErrorVec = []\n",
    "SelectedObservationHistory = []"
   ]
  },
  {
   "cell_type": "code",
   "execution_count": 6,
   "metadata": {},
   "outputs": [],
   "source": [
    "### Generate Data ###\n",
    "if(DataFileInput == \"Simulate\"):\n",
    "    from utils.Main import DataGeneratingProcess                             ### NOTE: Why is this not imported from utils.Main import *\n",
    "    df = DataGeneratingProcess(**DataArgs)\n",
    "else:\n",
    "    df = LoadData(DataFileInput)"
   ]
  },
  {
   "cell_type": "code",
   "execution_count": 7,
   "metadata": {},
   "outputs": [],
   "source": [
    "### Train Test Candidate Split\n",
    "from utils.Main import TrainTestCandidateSplit                           ### NOTE: Why is this not imported from utils.Main import *\n",
    "df_Train, df_Test, df_Candidate = TrainTestCandidateSplit(df, TestProportion, CandidateProportion)"
   ]
  },
  {
   "cell_type": "code",
   "execution_count": 8,
   "metadata": {},
   "outputs": [],
   "source": [
    "### Selector Arguments ###\n",
    "SelectorArgs[\"df_Train\"] = df_Test                                     # NOTE: Change to df_Test if there is a test set\n",
    "SelectorArgs[\"df_Candidate\"] = df_Candidate\n",
    "SelectorArgs[\"Model\"] = \"\"\n",
    "# SelectorArgsFiltered = FilterArguments(SelectorType, SelectorArgs)"
   ]
  },
  {
   "cell_type": "code",
   "execution_count": 9,
   "metadata": {},
   "outputs": [],
   "source": [
    "### Model Arguments ###\n",
    "ModelArgs['df_Train'] = df_Train\n",
    "# ModelArgsFiltered = FilterArguments(ModelType, ModelArgs)"
   ]
  },
  {
   "cell_type": "markdown",
   "metadata": {},
   "source": [
    "# Learning Procedure"
   ]
  },
  {
   "cell_type": "code",
   "execution_count": 10,
   "metadata": {},
   "outputs": [],
   "source": [
    "### Set Up ###\n",
    "ErrorVec = []\n",
    "SelectedObservationHistory = []"
   ]
  },
  {
   "cell_type": "code",
   "execution_count": 11,
   "metadata": {},
   "outputs": [],
   "source": [
    "i=0"
   ]
  },
  {
   "cell_type": "code",
   "execution_count": 12,
   "metadata": {},
   "outputs": [
    {
     "name": "stdout",
     "output_type": "stream",
     "text": [
      "Iteration: 0\n",
      "null\n",
      "Finding Optimal Objective...\n",
      "treefarms reported successful execution\n",
      "training completed. Number of trees in the Rashomon set: 83\n",
      "{\n",
      "  \"false\": {\n",
      "    \"complexity\": 0.009999999776482582,\n",
      "    \"loss\": 0.07500000298023224,\n",
      "    \"name\": \"Y\",\n",
      "    \"prediction\": \"False\"\n",
      "  },\n",
      "  \"feature\": 9,\n",
      "  \"model_objective\": 0.1550000011920929,\n",
      "  \"name\": \"PTRATIO_1\",\n",
      "  \"reference\": 1.0,\n",
      "  \"relation\": \"==\",\n",
      "  \"true\": {\n",
      "    \"false\": {\n",
      "      \"complexity\": 0.009999999776482582,\n",
      "      \"loss\": 0.0,\n",
      "      \"name\": \"Y\",\n",
      "      \"prediction\": \"False\"\n",
      "    },\n",
      "    \"feature\": 8,\n",
      "    \"name\": \"RM_3\",\n",
      "    \"reference\": 1.0,\n",
      "    \"relation\": \"==\",\n",
      "    \"true\": {\n",
      "      \"complexity\": 0.009999999776482582,\n",
      "      \"loss\": 0.05000000074505806,\n",
      "      \"name\": \"Y\",\n",
      "      \"prediction\": \"True\"\n",
      "    },\n",
      "    \"type\": \"rational\"\n",
      "  },\n",
      "  \"type\": \"rational\"\n",
      "}\n",
      "{\n",
      "  \"false\": {\n",
      "    \"complexity\": 0.009999999776482582,\n",
      "    \"loss\": 0.03750000149011612,\n",
      "    \"name\": \"Y\",\n",
      "    \"prediction\": \"False\"\n",
      "  },\n",
      "  \"feature\": 8,\n",
      "  \"model_objective\": 0.1550000011920929,\n",
      "  \"name\": \"RM_3\",\n",
      "  \"reference\": 1.0,\n",
      "  \"relation\": \"==\",\n",
      "  \"true\": {\n",
      "    \"false\": {\n",
      "      \"complexity\": 0.009999999776482582,\n",
      "      \"loss\": 0.03750000149011612,\n",
      "      \"name\": \"Y\",\n",
      "      \"prediction\": \"False\"\n",
      "    },\n",
      "    \"feature\": 9,\n",
      "    \"name\": \"PTRATIO_1\",\n",
      "    \"reference\": 1.0,\n",
      "    \"relation\": \"==\",\n",
      "    \"true\": {\n",
      "      \"complexity\": 0.009999999776482582,\n",
      "      \"loss\": 0.05000000074505806,\n",
      "      \"name\": \"Y\",\n",
      "      \"prediction\": \"True\"\n",
      "    },\n",
      "    \"type\": \"rational\"\n",
      "  },\n",
      "  \"type\": \"rational\"\n",
      "}\n"
     ]
    }
   ],
   "source": [
    "### Prediction Model ###\n",
    "print(\"Iteration: \" + str(i))\n",
    "ModelArgsFiltered = FilterArguments(ModelType, ModelArgs)\n",
    "Model = ModelType(**ModelArgsFiltered)\n",
    "if \"Model\" in SelectorArgs.keys(): SelectorArgs['Model'] = Model            # NOTE: THIS IS NOT DYNAMIC\n"
   ]
  },
  {
   "cell_type": "code",
   "execution_count": 13,
   "metadata": {},
   "outputs": [],
   "source": [
    "# ### Current Error ###\n",
    "TestErrorVal = TestErrorFunction(Model, df_Test, ModelArgs[\"Type\"])        # NOTE: Change to df_Test if there is a test set\n",
    "if(len(TestErrorVal) > 1):\n",
    "    AllErrors = TestErrorVal                                                # Rashomon gives all errors of Rashomon\n",
    "    CurrentError = float(np.min(AllErrors))                                 # Extract the best one\n",
    "else: \n",
    "    CurrentError = TestErrorVal                                             # One output for non-Rashomon\n",
    "    AllErrors = [None]\n",
    "SelectorArgs[\"AllErrors\"] = AllErrors                                       # Use AllErrors in RashomonQBC\n",
    "ErrorVec.append(CurrentError)\n"
   ]
  },
  {
   "cell_type": "markdown",
   "metadata": {},
   "source": [
    "---"
   ]
  },
  {
   "cell_type": "code",
   "execution_count": 14,
   "metadata": {},
   "outputs": [],
   "source": [
    "TopCModels = ModelArgs[\"TopCModels\"]"
   ]
  },
  {
   "cell_type": "code",
   "execution_count": 15,
   "metadata": {},
   "outputs": [],
   "source": [
    "### Ignore warning (taken care of) ###\n",
    "np.seterr(all = 'ignore') \n",
    "warnings.filterwarnings(\"ignore\", category=UserWarning)\n"
   ]
  },
  {
   "cell_type": "code",
   "execution_count": 16,
   "metadata": {},
   "outputs": [
    {
     "data": {
      "text/plain": [
       "[0.17647058823529416,\n",
       " 0.17647058823529416,\n",
       " 0.17647058823529416,\n",
       " 0.17647058823529416,\n",
       " 0.16666666666666663,\n",
       " 0.16666666666666663,\n",
       " 0.16666666666666663,\n",
       " 0.16666666666666663,\n",
       " 0.16666666666666663,\n",
       " 0.16666666666666663,\n",
       " 0.16666666666666663,\n",
       " 0.16666666666666663,\n",
       " 0.16666666666666663,\n",
       " 0.16666666666666663,\n",
       " 0.16666666666666663,\n",
       " 0.16666666666666663,\n",
       " 0.13725490196078427,\n",
       " 0.17647058823529416,\n",
       " 0.13725490196078427,\n",
       " 0.17647058823529416,\n",
       " 0.16666666666666663,\n",
       " 0.16666666666666663,\n",
       " 0.16666666666666663,\n",
       " 0.16666666666666663,\n",
       " 0.13725490196078427,\n",
       " 0.13725490196078427,\n",
       " 0.17647058823529416,\n",
       " 0.17647058823529416,\n",
       " 0.13725490196078427,\n",
       " 0.17647058823529416,\n",
       " 0.16666666666666663,\n",
       " 0.16666666666666663,\n",
       " 0.13725490196078427,\n",
       " 0.17647058823529416,\n",
       " 0.16666666666666663,\n",
       " 0.16666666666666663,\n",
       " 0.16666666666666663,\n",
       " 0.16666666666666663,\n",
       " 0.16666666666666663,\n",
       " 0.16666666666666663,\n",
       " 0.12745098039215685,\n",
       " 0.12745098039215685,\n",
       " 0.12745098039215685,\n",
       " 0.12745098039215685,\n",
       " 0.12745098039215685,\n",
       " 0.12745098039215685,\n",
       " 0.20588235294117652,\n",
       " 0.20588235294117652,\n",
       " 0.1568627450980392,\n",
       " 0.1568627450980392,\n",
       " 0.16666666666666663,\n",
       " 0.196078431372549,\n",
       " 0.196078431372549,\n",
       " 0.10784313725490191,\n",
       " 0.10784313725490191,\n",
       " 0.196078431372549,\n",
       " 0.196078431372549,\n",
       " 0.196078431372549,\n",
       " 0.196078431372549,\n",
       " 0.18627450980392157,\n",
       " 0.16666666666666663,\n",
       " 0.20588235294117652,\n",
       " 0.18627450980392157,\n",
       " 0.16666666666666663,\n",
       " 0.20588235294117652,\n",
       " 0.11764705882352944,\n",
       " 0.1568627450980392,\n",
       " 0.11764705882352944,\n",
       " 0.196078431372549,\n",
       " 0.196078431372549,\n",
       " 0.11764705882352944,\n",
       " 0.1568627450980392,\n",
       " 0.11764705882352944,\n",
       " 0.196078431372549,\n",
       " 0.196078431372549,\n",
       " 0.10784313725490191,\n",
       " 0.13725490196078427,\n",
       " 0.1568627450980392,\n",
       " 0.10784313725490191,\n",
       " 0.13725490196078427,\n",
       " 0.1568627450980392,\n",
       " 0.11764705882352944,\n",
       " 0.11764705882352944]"
      ]
     },
     "execution_count": 16,
     "metadata": {},
     "output_type": "execute_result"
    }
   ],
   "source": [
    "AllErrors"
   ]
  },
  {
   "cell_type": "code",
   "execution_count": null,
   "metadata": {},
   "outputs": [],
   "source": [
    "### Predicted Values ###\n",
    "if len(AllErrors) < TopCModels:\n",
    "    TopCModels = len(AllErrors)"
   ]
  },
  {
   "cell_type": "code",
   "execution_count": 23,
   "metadata": {},
   "outputs": [],
   "source": [
    "LowestErrorIndices = np.argsort(AllErrors)[:TopCModels]\n"
   ]
  },
  {
   "cell_type": "code",
   "execution_count": 24,
   "metadata": {},
   "outputs": [
    {
     "data": {
      "text/plain": [
       "array([78, 75, 54, 53, 82, 72, 70, 67, 65, 81, 45, 44, 43, 42, 40, 41, 16,\n",
       "       18, 79, 76, 24, 25, 32, 28, 80, 77, 71, 66, 48, 49, 30,  6, 23,  5,\n",
       "        4, 22,  7,  8, 50, 15, 21, 20, 60, 10,  9, 12, 31, 34, 35, 36, 11,\n",
       "       37, 38, 39, 14, 13, 63,  3, 19, 17,  1,  2,  0, 27, 33, 26, 29, 59,\n",
       "       62, 52, 51, 74, 73, 56, 69, 68, 57, 58, 55, 47, 46, 64, 61])"
      ]
     },
     "execution_count": 24,
     "metadata": {},
     "output_type": "execute_result"
    }
   ],
   "source": [
    "LowestErrorIndices"
   ]
  },
  {
   "cell_type": "code",
   "execution_count": 32,
   "metadata": {},
   "outputs": [
    {
     "data": {
      "text/plain": [
       "np.float64(0.10784313725490191)"
      ]
     },
     "execution_count": 32,
     "metadata": {},
     "output_type": "execute_result"
    }
   ],
   "source": [
    "np.min(AllErrors)"
   ]
  },
  {
   "cell_type": "code",
   "execution_count": 31,
   "metadata": {},
   "outputs": [
    {
     "data": {
      "text/plain": [
       "np.float64(0.10784313725490197)"
      ]
     },
     "execution_count": 31,
     "metadata": {},
     "output_type": "execute_result"
    }
   ],
   "source": [
    "np.mean(Model[78].predict(df_Test.loc[:, df_Test.columns != \"Y\"]) != df_Test[\"Y\"])"
   ]
  },
  {
   "cell_type": "code",
   "execution_count": null,
   "metadata": {},
   "outputs": [],
   "source": [
    "\n",
    "PredictedValues = [Model[i].predict(df_Candidate) for i in LowestErrorIndices]                          # RandomForest"
   ]
  },
  {
   "cell_type": "markdown",
   "metadata": {},
   "source": [
    "---"
   ]
  },
  {
   "cell_type": "code",
   "execution_count": 16,
   "metadata": {},
   "outputs": [],
   "source": [
    "### Sampling Procedure ###\n",
    "SelectorArgsFiltered = FilterArguments(SelectorType, SelectorArgs)\n",
    "QueryObservationIndex = SelectorType(**SelectorArgsFiltered)\n",
    "QueryObservation = df_Candidate.loc[[QueryObservationIndex]] # or should this be iloc"
   ]
  },
  {
   "cell_type": "code",
   "execution_count": 17,
   "metadata": {},
   "outputs": [],
   "source": [
    "### Update Train and Candidate Sets ###\n",
    "df_Train = pd.concat([df_Train, QueryObservation])\n",
    "df_Candidate = df_Candidate.drop(QueryObservationIndex)\n",
    "### Update SelectorArgs and ModelArgs ###                                     # NOTE: THIS IS NOT DYNAMIC\n",
    "if \"df_Train\" in ModelArgs.keys(): ModelArgs['df_Train'] = df_Train\n",
    "if \"df_Train\" in SelectorArgs.keys(): SelectorArgs['df_Train'] = df_Train\n",
    "if \"df_Candidate\" in SelectorArgs.keys(): SelectorArgs['df_Candidate'] = df_Candidate  "
   ]
  },
  {
   "cell_type": "markdown",
   "metadata": {},
   "source": [
    "# Save"
   ]
  },
  {
   "cell_type": "code",
   "execution_count": 20,
   "metadata": {},
   "outputs": [],
   "source": [
    "# ### Return Simulation Parameters ###\n",
    "# SimulationParameters = {\"DataFileInput\" : str(DataFileInput),\n",
    "#                         \"Seed\" : str(Seed),\n",
    "#                         \"TestProportion\" : str(TestProportion),\n",
    "#                         \"CandidateProportion\" : str(CandidateProportion),\n",
    "#                         \"SelectorType\" : str(SelectorType),\n",
    "#                         \"ModelType\" : str(ModelType),\n",
    "#                         \"DataArgs\" : str(DataArgs),\n",
    "#                         # \"SelectorArgs\" : str(SelectorArgs),\n",
    "#                         \"ModelArgs\" : str(FilterArguments(ModelType, ModelArgs).pop('df_Train', None))\n",
    "#                         }"
   ]
  },
  {
   "cell_type": "code",
   "execution_count": 21,
   "metadata": {},
   "outputs": [],
   "source": [
    "# ### Return Time ###\n",
    "# ElapsedTime = time.time() - StartTime\n",
    "\n",
    "# ### Return Dictionary ###\n",
    "# SimulationResults = {\"ErrorVec\" : pd.DataFrame(ErrorVec, columns =[\"Error\"]),\n",
    "#                             \"SelectionHistory\" : pd.DataFrame(SelectedObservationHistory, columns = [\"ObservationID\"]),\n",
    "#                             \"SimulationParameters\" : SimulationParameters,\n",
    "#                             \"ElapsedTime\" : ElapsedTime}"
   ]
  }
 ],
 "metadata": {
  "kernelspec": {
   "display_name": "rashomon-3.9",
   "language": "python",
   "name": "python3"
  },
  "language_info": {
   "codemirror_mode": {
    "name": "ipython",
    "version": 3
   },
   "file_extension": ".py",
   "mimetype": "text/x-python",
   "name": "python",
   "nbconvert_exporter": "python",
   "pygments_lexer": "ipython3",
   "version": "3.9.20"
  }
 },
 "nbformat": 4,
 "nbformat_minor": 4
}
