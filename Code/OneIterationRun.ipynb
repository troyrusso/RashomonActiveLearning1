{
 "cells": [
  {
   "cell_type": "code",
   "execution_count": 1,
   "metadata": {},
   "outputs": [],
   "source": [
    "### Import Packages ###\n",
    "import os\n",
    "import numpy as np\n",
    "import math as math\n",
    "import pandas as pd\n",
    "import random as random\n",
    "import matplotlib.pyplot as plt\n",
    "from scipy.spatial.distance import cdist\n",
    "\n",
    "### Local Packages ###\n",
    "from utils.Main import *\n",
    "from utils.Selector import *\n",
    "from utils.Auxiliary import *\n",
    "from utils.Prediction import *"
   ]
  },
  {
   "cell_type": "code",
   "execution_count": 2,
   "metadata": {},
   "outputs": [],
   "source": [
    "### Get Directory ###\n",
    "cwd = os.getcwd()\n",
    "ParentDirectory = os.path.abspath(os.path.join(cwd, \"..\"))\n",
    "\n",
    "### DataType ###\n",
    "DataTypeInput = \"COMPAS\""
   ]
  },
  {
   "cell_type": "markdown",
   "metadata": {},
   "source": [
    "# One Iteration"
   ]
  },
  {
   "cell_type": "markdown",
   "metadata": {},
   "source": [
    "## Inputs"
   ]
  },
  {
   "cell_type": "code",
   "execution_count": 3,
   "metadata": {},
   "outputs": [],
   "source": [
    "i=1\n",
    "DataFileInput = \"COMPAS\"\n",
    "TopCModels = 50\n",
    "Seed = 1\n",
    "TestProportion = 0.2\n",
    "CandidateProportion = 0.8\n",
    "ModelType = TreeFarmsFunction\n",
    "DataArgs = {}\n",
    "ModelArgs = {\"TopCModels\": TopCModels, \"config\" : {\"regularization\": 0.01, \"rashomon_bound_multiplier\": 0.03}, \"Type\":\"Classification\"}\n"
   ]
  },
  {
   "cell_type": "markdown",
   "metadata": {},
   "source": [
    "## One Iteration Function"
   ]
  },
  {
   "cell_type": "markdown",
   "metadata": {},
   "source": [
    "### Set Up"
   ]
  },
  {
   "cell_type": "code",
   "execution_count": 4,
   "metadata": {},
   "outputs": [],
   "source": [
    "### Run Time ###\n",
    "StartTime = time.time()\n",
    "\n",
    "### Set Up ###\n",
    "random.seed(Seed)\n",
    "np.random.seed(Seed)\n",
    "ErrorVec = []\n",
    "SelectedObservationHistory = []"
   ]
  },
  {
   "cell_type": "markdown",
   "metadata": {},
   "source": [
    "### Load Data"
   ]
  },
  {
   "cell_type": "code",
   "execution_count": 5,
   "metadata": {},
   "outputs": [],
   "source": [
    "from utils.Main import DataGeneratingProcess                             ### NOTE: Why is this not imported from utils.Main import *\n",
    "### Generate Data ###\n",
    "if(DataFileInput == \"Simulate\"):\n",
    "    df = DataGeneratingProcess(**DataArgs)\n",
    "else:\n",
    "    df = LoadData(DataFileInput)"
   ]
  },
  {
   "cell_type": "markdown",
   "metadata": {},
   "source": [
    "### Train Test Split"
   ]
  },
  {
   "cell_type": "code",
   "execution_count": 6,
   "metadata": {},
   "outputs": [],
   "source": [
    "### Train Test Candidate Split\n",
    "from utils.Main import TrainTestCandidateSplit                           ### NOTE: Why is this not imported from utils.Main import *\n",
    "df_Train, df_Test, df_Candidate = TrainTestCandidateSplit(df, TestProportion, CandidateProportion)"
   ]
  },
  {
   "cell_type": "markdown",
   "metadata": {},
   "source": [
    "### Argument Processing"
   ]
  },
  {
   "cell_type": "markdown",
   "metadata": {},
   "source": [
    "# Learning Process Function"
   ]
  },
  {
   "cell_type": "code",
   "execution_count": 7,
   "metadata": {},
   "outputs": [],
   "source": [
    "### Set Up ###\n",
    "ErrorVec = []\n",
    "SelectedObservationHistory = []\n"
   ]
  },
  {
   "cell_type": "code",
   "execution_count": 8,
   "metadata": {},
   "outputs": [],
   "source": [
    "i=1"
   ]
  },
  {
   "cell_type": "code",
   "execution_count": 9,
   "metadata": {},
   "outputs": [],
   "source": [
    "# SelectorArgs = {\"Model\" : Model, \"df_Candidate\" : df_Candidate, \"df_Train\" : df_Train, \"TopCModels\" : TopCModels},\n",
    "\n",
    "# ### Selector Arguments ###\n",
    "# SelectorArgs[\"df_Train\"] = df_Test\n",
    "# SelectorArgs[\"df_Candidate\"] = df_Candidate\n",
    "# SelectorArgs[\"Model\"] = ModelType\n",
    "# SelectorArgsFiltered = FilterArguments(SelectorType, SelectorArgs)\n"
   ]
  },
  {
   "cell_type": "code",
   "execution_count": 10,
   "metadata": {},
   "outputs": [],
   "source": [
    "### Model Arguments ###\n",
    "ModelArgs['df_Train'] = df_Train\n",
    "ModelArgsFiltered = FilterArguments(ModelType, ModelArgs)"
   ]
  },
  {
   "cell_type": "code",
   "execution_count": 11,
   "metadata": {},
   "outputs": [],
   "source": [
    "import sys\n",
    "import pandas as pd\n",
    "import numpy as np\n",
    "import pathlib\n",
    "from sklearn.ensemble import GradientBoostingClassifier\n",
    "from sklearn.model_selection import train_test_split\n",
    "from treefarms.model.threshold_guess import compute_thresholds, cut\n",
    "from treefarms import TREEFARMS\n",
    "from treefarms.model.model_set import ModelSetContainer\n",
    "sys.path.append('/Users/simondn/Documents/RashomonActiveLearning/Code')\n",
    "# from treeFarms.treefarms.model.threshold_guess import compute_thresholds"
   ]
  },
  {
   "cell_type": "code",
   "execution_count": 12,
   "metadata": {},
   "outputs": [],
   "source": [
    "# Summary: Initializes and fits a treefarms model.\n",
    "# Input:\n",
    "#   df_Train: The training data.\n",
    "#   TopCModels: TopCModels top models\n",
    "#   config:\n",
    "# Output:\n",
    "# treeFarmsModel: A treefarms model.\n",
    "\n",
    "### Libraries ###\n",
    "from treeFarms.treefarms import TREEFARMS\n",
    "\n",
    "# import sys\n",
    "# sys.path.append('/Users/simondn/Documents/RashomonActiveLearning/Code')\n",
    "# from treeFarms.treefarms.model.threshold_guess import compute_thresholds\n",
    "# from utils.Prediction.TreeFARMS import <function_or_class_name>\n",
    "\n",
    "### Function ###\n",
    "def TreeFarmsFunction(df_Train, config, TopCModels):\n",
    "   ### Train TreeFarms Model ###\n",
    "    TreeFarmsModel = TREEFARMS(\"config\")\n",
    "    TreeFarmsModel.fit(df_Train.loc[:, df_Train.columns != \"Y\"], df_Train[\"Y\"])\n",
    "    \n",
    "    ### Return ###\n",
    "    return TreeFarmsModel\n",
    "\n",
    "\n",
    "# NOTE: Is there a way to prune the tree such that only the top models are given back? Look into this\n"
   ]
  },
  {
   "cell_type": "code",
   "execution_count": 13,
   "metadata": {},
   "outputs": [],
   "source": [
    "# TreeFarmsModel = TREEFARMS(\"config\")\n",
    "# TreeFarmsModel.fit(df_Train.loc[:, df_Train.columns != \"Y\"], df_Train[\"Y\"])"
   ]
  },
  {
   "cell_type": "code",
   "execution_count": 14,
   "metadata": {},
   "outputs": [],
   "source": [
    "# TreeFarmsFunction(df_Train = df_Train, config = ModelArgs[\"config\"], TopCModels= ModelArgs[\"TopCModels\"])"
   ]
  },
  {
   "cell_type": "code",
   "execution_count": 15,
   "metadata": {},
   "outputs": [],
   "source": [
    "# TreeFarmsFunction(**ModelArgsFiltered)"
   ]
  },
  {
   "cell_type": "code",
   "execution_count": 16,
   "metadata": {},
   "outputs": [],
   "source": [
    "# ### Prediction Model ###\n",
    "# Model = ModelType(**ModelArgsFiltered)\n",
    "# if \"Model\" in SelectorArgs.keys(): SelectorArgs['Model'] = Model            # NOTE: THIS IS NOT DYNAMIC"
   ]
  },
  {
   "cell_type": "code",
   "execution_count": 17,
   "metadata": {},
   "outputs": [
    {
     "name": "stdout",
     "output_type": "stream",
     "text": [
      "null\n",
      "Finding Optimal Objective...\n",
      "treefarms reported successful execution{\n",
      "  \"false\": {\n",
      "    \"false\": {\n",
      "      \"complexity\": 0.009999999776482582,\n",
      "      \"loss\": 0.1556561142206192,\n",
      "      \"name\": \"Y\",\n",
      "      \"prediction\": 0\n",
      "    },\n",
      "    \"feature\": 2,\n",
      "    \"name\": \"age:<23\",\n",
      "    \"reference\": 1,\n",
      "    \"relation\": \"==\",\n",
      "    \"true\": {\n",
      "      \"complexity\": 0.009999999776482582,\n",
      "      \"loss\": 0.07963801175355911,\n",
      "      \"name\": \"Y\",\n",
      "      \"prediction\": 1\n",
      "    },\n",
      "    \"type\": \"integral\"\n",
      "  },\n",
      "  \"feature\": 11,\n",
      "  \"model_objective\": 0.375701367855072,\n",
      "  \"name\": \"priors:>3\",\n",
      "  \"reference\": 1,\n",
      "  \"relation\": \"==\",\n",
      "  \"true\": {\n",
      "    \"complexity\": 0.009999999776482582,\n",
      "    \"loss\": 0.11040724068880081,\n",
      "    \"name\": \"Y\",\n",
      "    \"prediction\": 1\n",
      "  },\n",
      "  \"type\": \"integral\"\n",
      "}\n",
      "{\n",
      "  \"false\": {\n",
      "    \"false\": {\n",
      "      \"complexity\": 0.009999999776482582,\n",
      "      \"loss\": 0.1556561142206192,\n",
      "      \"name\": \"Y\",\n",
      "      \"prediction\": 0\n",
      "    },\n",
      "    \"feature\": 11,\n",
      "    \"name\": \"priors:>3\",\n",
      "    \"reference\": 1,\n",
      "    \"relation\": \"==\",\n",
      "    \"true\": {\n",
      "      \"complexity\": 0.009999999776482582,\n",
      "      \"loss\": 0.1085972860455513\n",
      "training completed. Number of trees in the Rashomon set: 272\n",
      ",\n",
      "      \"name\": \"Y\",\n",
      "      \"prediction\": 1\n",
      "    },\n",
      "    \"type\": \"integral\"\n",
      "  },\n",
      "  \"feature\": 2,\n",
      "  \"model_objective\": 0.375701367855072,\n",
      "  \"name\": \"age:<23\",\n",
      "  \"reference\": 1,\n",
      "  \"relation\": \"==\",\n",
      "  \"true\": {\n",
      "    \"complexity\": 0.009999999776482582,\n",
      "    \"loss\": 0.08144796639680862,\n",
      "    \"name\": \"Y\",\n",
      "    \"prediction\": 1\n",
      "  },\n",
      "  \"type\": \"integral\"\n",
      "}\n"
     ]
    },
    {
     "data": {
      "text/plain": [
       "<treefarms.model.treefarms.TREEFARMS at 0x146f28ac0>"
      ]
     },
     "execution_count": 17,
     "metadata": {},
     "output_type": "execute_result"
    }
   ],
   "source": [
    "config = {\"regularization\": 0.01, \"rashomon_bound_multiplier\": 0.03}\n",
    "Model = TREEFARMS(config)\n",
    "Model.fit(df_Train.loc[:, df_Train.columns != \"Y\"], df_Train[\"Y\"])\n"
   ]
  },
  {
   "cell_type": "code",
   "execution_count": 18,
   "metadata": {},
   "outputs": [],
   "source": [
    "### Current Error ###\n",
    "TestErrorVal = TestErrorFunction(Model, df_Test, ModelArgs)\n",
    "if(len(TestErrorVal) > 1):\n",
    "    AllErrors = TestErrorVal                               # Rashomon gives all errors of Rashomon\n",
    "    CurrentError = float(np.min(AllErrors))                       # Extract the best one\n",
    "else: \n",
    "    CurrentError = TestErrorVal                            # One output for non-Rashomon\n",
    "ErrorVec.append(CurrentError)"
   ]
  },
  {
   "cell_type": "code",
   "execution_count": 19,
   "metadata": {},
   "outputs": [],
   "source": [
    "# RashomonQBCSelector #\n",
    "def RashomonQBCFunction(Model, df_Candidate, df_Train, TopCModels, AllErrors):\n",
    "\n",
    "    # ### GSx ### Incorporate? Good for tie breakers.\n",
    "    # d_nmX = cdist(df_Candidate.loc[:,df_Candidate.columns!= \"Y\"], df_Train.loc[:,df_Train.columns!= \"Y\"], metric = distance)\n",
    "    # d_nX = d_nmX.min(axis=1)\n",
    "\n",
    "    ### Extract Errors ###\n",
    "    LowestErrorIndices = np.argsort(AllErrors)[:TopCModels]\n",
    "\n",
    "    ### Prediction ###\n",
    "    PredictedValues = [Model[i].predict(df_Candidate) for i in LowestErrorIndices]\n",
    "    RashomonMean = np.array(PredictedValues).mean(axis =0)\n",
    "\n",
    "    ### Uncertainty Metric ###\n",
    "    df_Candidate[\"UncertaintyMetric\"] = abs(RashomonMean - 0.5)\n",
    "    IndexRecommendation = int(df_Candidate.sort_values(by = \"UncertaintyMetric\", ascending = True).index[0])\n",
    "\n",
    "    return(IndexRecommendation)\n",
    "\n"
   ]
  },
  {
   "cell_type": "code",
   "execution_count": 20,
   "metadata": {},
   "outputs": [
    {
     "ename": "NameError",
     "evalue": "name 'SelectorType' is not defined",
     "output_type": "error",
     "traceback": [
      "\u001b[0;31m---------------------------------------------------------------------------\u001b[0m",
      "\u001b[0;31mNameError\u001b[0m                                 Traceback (most recent call last)",
      "Cell \u001b[0;32mIn[20], line 2\u001b[0m\n\u001b[1;32m      1\u001b[0m \u001b[38;5;66;03m### Sampling Procedure ###\u001b[39;00m\n\u001b[0;32m----> 2\u001b[0m QueryObservationIndex \u001b[38;5;241m=\u001b[39m \u001b[43mSelectorType\u001b[49m(\u001b[38;5;241m*\u001b[39m\u001b[38;5;241m*\u001b[39mSelectorArgs)\n\u001b[1;32m      3\u001b[0m QueryObservation \u001b[38;5;241m=\u001b[39m df_Candidate\u001b[38;5;241m.\u001b[39mloc[[QueryObservationIndex]]                  \u001b[38;5;66;03m# or should this be iloc nah I think its loc lol\u001b[39;00m\n\u001b[1;32m      4\u001b[0m SelectedObservationHistory\u001b[38;5;241m.\u001b[39mappend(QueryObservationIndex)\n",
      "\u001b[0;31mNameError\u001b[0m: name 'SelectorType' is not defined"
     ]
    }
   ],
   "source": [
    "### Sampling Procedure ###\n",
    "QueryObservationIndex = SelectorType(**SelectorArgs)\n",
    "QueryObservation = df_Candidate.loc[[QueryObservationIndex]]                  # or should this be iloc nah I think its loc lol\n",
    "SelectedObservationHistory.append(QueryObservationIndex)\n",
    "\n",
    "### Update Train and Candidate Sets ###\n",
    "df_Train = pd.concat([df_Train, QueryObservation])\n",
    "df_Candidate = df_Candidate.drop(QueryObservationIndex)\n",
    "\n",
    "### Update SelectorArgs and ModelArgs ###                                     # NOTE: THIS IS NOT DYNAMIC\n",
    "if \"df_Train\" in ModelArgs.keys(): ModelArgs['df_Train'] = df_Train\n",
    "if \"df_Train\" in SelectorArgs.keys(): SelectorArgs['df_Train'] = df_Train\n",
    "if \"df_Candidate\" in SelectorArgs.keys(): SelectorArgs['df_Candidate'] = df_Candidate      "
   ]
  }
 ],
 "metadata": {
  "kernelspec": {
   "display_name": "rashomon-3.9",
   "language": "python",
   "name": "python3"
  },
  "language_info": {
   "codemirror_mode": {
    "name": "ipython",
    "version": 3
   },
   "file_extension": ".py",
   "mimetype": "text/x-python",
   "name": "python",
   "nbconvert_exporter": "python",
   "pygments_lexer": "ipython3",
   "version": "3.9.20"
  }
 },
 "nbformat": 4,
 "nbformat_minor": 4
}
