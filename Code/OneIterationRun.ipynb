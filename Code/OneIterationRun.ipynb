{
 "cells": [
  {
   "cell_type": "code",
   "execution_count": 1,
   "metadata": {},
   "outputs": [],
   "source": [
    "### Import Packages ###\n",
    "import os\n",
    "import ast\n",
    "import numpy as np\n",
    "import math as math\n",
    "import pandas as pd\n",
    "import random as random\n",
    "import matplotlib.pyplot as plt\n",
    "from scipy.spatial.distance import cdist\n",
    "\n",
    "### Local Packages ###\n",
    "from utils.Main import *\n",
    "from utils.Selector import *\n",
    "from utils.Auxiliary import *\n",
    "from utils.Prediction import *"
   ]
  },
  {
   "cell_type": "code",
   "execution_count": 2,
   "metadata": {},
   "outputs": [],
   "source": [
    "### Get Directory ###\n",
    "cwd = os.getcwd()\n",
    "ParentDirectory = os.path.abspath(os.path.join(cwd, \"..\"))\n",
    "\n",
    "### DataType ###\n",
    "DataFileInput = \"COMPAS\""
   ]
  },
  {
   "cell_type": "markdown",
   "metadata": {},
   "source": [
    "# One Iteration"
   ]
  },
  {
   "cell_type": "markdown",
   "metadata": {},
   "source": [
    "## Inputs"
   ]
  },
  {
   "cell_type": "code",
   "execution_count": 3,
   "metadata": {},
   "outputs": [],
   "source": [
    "# myscript_Seed0_DataCOMPAS_TP0.7_CP0.8_STRashomonQBC_MTTreeFarms_1643306.err\n",
    "# myscript_Seed0_DataCOMPAS_TP0.7_CP0.8_STPassiveLearning_MTTreeFarms_1643305.err"
   ]
  },
  {
   "cell_type": "code",
   "execution_count": 4,
   "metadata": {},
   "outputs": [],
   "source": [
    "# TopCModels = 50\n",
    "# Seed = 1\n",
    "# TestProportion = 0.99\n",
    "# CandidateProportion = 0.7\n",
    "# SelectorType = RashomonQBCFunction\n",
    "# ModelType = TreeFarmsFunction\n",
    "# DataArgs = {}\n",
    "# SelectorArgs = {\"TopCModels\": 10}\n",
    "# ModelArgs = {\"TopCModels\": TopCModels, \"config\" : {\"regularization\": 0.01, \"rashomon_bound_multiplier\": 0.05}, \"Type\":\"Classification\"}\n"
   ]
  },
  {
   "cell_type": "code",
   "execution_count": 5,
   "metadata": {},
   "outputs": [],
   "source": [
    "### Parameter Vector ###\n",
    "k=2\n",
    "ParameterVector = pd.read_csv(os.path.join(ParentDirectory, \"Data\", \"ParameterVectors\", \"ParameterVector\" + DataFileInput + \".csv\"))\n",
    "Seed = int(ParameterVector.iloc[k][\"Seed\"])\n",
    "TestProportion = ParameterVector.iloc[k][\"TestProportion\"]\n",
    "CandidateProportion = ParameterVector.iloc[k][\"CandidateProportion\"]\n",
    "SelectorType = globals().get(ParameterVector.iloc[k][\"SelectorType\"], None)\n",
    "ModelType = globals().get(ParameterVector.iloc[k][\"ModelType\"], None)\n",
    "DataArgs = ast.literal_eval(ast.literal_eval(ParameterVector.iloc[k][\"DataArgs\"]))\n",
    "SelectorArgs = ast.literal_eval(ast.literal_eval(ParameterVector.iloc[k][\"SelectorArgs\"].replace(\"[\",\"\").replace(\"]\",\"\")))\n",
    "ModelArgs = ast.literal_eval(ast.literal_eval(ParameterVector.iloc[k][\"ModelArgs\"].replace(\"[\",\"\").replace(\"]\",\"\")))\n"
   ]
  },
  {
   "cell_type": "markdown",
   "metadata": {},
   "source": [
    "# Set Up"
   ]
  },
  {
   "cell_type": "code",
   "execution_count": 6,
   "metadata": {},
   "outputs": [],
   "source": [
    "### Run Time ###\n",
    "StartTime = time.time()\n",
    "\n",
    "### Set Up ###\n",
    "random.seed(Seed)\n",
    "np.random.seed(Seed)\n",
    "ErrorVec = []\n",
    "SelectedObservationHistory = []"
   ]
  },
  {
   "cell_type": "code",
   "execution_count": 7,
   "metadata": {},
   "outputs": [],
   "source": [
    "### Generate Data ###\n",
    "if(DataFileInput == \"Simulate\"):\n",
    "    from utils.Main import DataGeneratingProcess                             ### NOTE: Why is this not imported from utils.Main import *\n",
    "    df = DataGeneratingProcess(**DataArgs)\n",
    "else:\n",
    "    df = LoadData(DataFileInput)"
   ]
  },
  {
   "cell_type": "code",
   "execution_count": 8,
   "metadata": {},
   "outputs": [],
   "source": [
    "### Train Test Candidate Split\n",
    "from utils.Main import TrainTestCandidateSplit                           ### NOTE: Why is this not imported from utils.Main import *\n",
    "df_Train, df_Test, df_Candidate = TrainTestCandidateSplit(df, TestProportion, CandidateProportion)"
   ]
  },
  {
   "cell_type": "code",
   "execution_count": 9,
   "metadata": {},
   "outputs": [],
   "source": [
    "### Selector Arguments ###\n",
    "SelectorArgs[\"df_Train\"] = df_Test                                     # NOTE: Change to df_Test if there is a test set\n",
    "SelectorArgs[\"df_Candidate\"] = df_Candidate\n",
    "SelectorArgs[\"Model\"] = \"\"\n",
    "# SelectorArgsFiltered = FilterArguments(SelectorType, SelectorArgs)"
   ]
  },
  {
   "cell_type": "code",
   "execution_count": 10,
   "metadata": {},
   "outputs": [],
   "source": [
    "### Model Arguments ###\n",
    "ModelArgs['df_Train'] = df_Train\n",
    "# ModelArgsFiltered = FilterArguments(ModelType, ModelArgs)"
   ]
  },
  {
   "cell_type": "markdown",
   "metadata": {},
   "source": [
    "# Learning Procedure"
   ]
  },
  {
   "cell_type": "code",
   "execution_count": 35,
   "metadata": {},
   "outputs": [],
   "source": [
    "### Set Up ###\n",
    "ErrorVec = []\n",
    "SelectedObservationHistory = []\n",
    "i=1"
   ]
  },
  {
   "cell_type": "code",
   "execution_count": 36,
   "metadata": {},
   "outputs": [
    {
     "name": "stdout",
     "output_type": "stream",
     "text": [
      "Iteration: 1\n",
      "null\n",
      "treefarms reported successful execution\n",
      "training completed. Number of trees in the Rashomon set: 627\n",
      "Finding Optimal Objective...\n",
      "{\n",
      "  \"false\": {\n",
      "    \"false\": {\n",
      "      \"complexity\": 0.009999999776482582,\n",
      "      \"loss\": 0.12289156764745712,\n",
      "      \"name\": \"Y\",\n",
      "      \"prediction\": 0\n",
      "    },\n",
      "    \"feature\": 3,\n",
      "    \"name\": \"age:<26\",\n",
      "    \"reference\": 1,\n",
      "    \"relation\": \"==\",\n",
      "    \"true\": {\n",
      "      \"false\": {\n",
      "        \"complexity\": 0.009999999776482582,\n",
      "        \"loss\": 0.04819277301430702,\n",
      "        \"name\": \"Y\",\n",
      "        \"prediction\": 1\n",
      "      },\n",
      "      \"feature\": 8,\n",
      "      \"name\": \"priors:=0\",\n",
      "      \"reference\": 1,\n",
      "      \"relation\": \"==\",\n",
      "      \"true\": {\n",
      "        \"complexity\": 0.009999999776482582,\n",
      "        \"loss\": 0.04819277301430702,\n",
      "        \"name\": \"Y\",\n",
      "        \"prediction\": 0\n",
      "      },\n",
      "      \"type\": \"integral\"\n",
      "    },\n",
      "    \"type\": \"integral\"\n",
      "  },\n",
      "  \"feature\": 11,\n",
      "  \"model_objective\": 0.3508433699607849,\n",
      "  \"name\": \"priors:>3\",\n",
      "  \"reference\": 1,\n",
      "  \"relation\": \"==\",\n",
      "  \"true\": {\n",
      "    \"complexity\": 0.009999999776482582,\n",
      "    \"loss\": 0.09156626462936401,\n",
      "    \"name\": \"Y\",\n",
      "    \"prediction\": 1\n",
      "  },\n",
      "  \"type\": \"integral\"\n",
      "}\n",
      "{\n",
      "  \"false\": {\n",
      "    \"false\": {\n",
      "      \"false\": {\n",
      "        \"complexity\": 0.009999999776482582,\n",
      "        \"loss\": 0.07228916138410568,\n",
      "        \"name\": \"Y\",\n",
      "        \"prediction\": 0\n",
      "      },\n",
      "      \"feature\": 3,\n",
      "      \"name\": \"age:<26\",\n",
      "      \"reference\": 1,\n",
      "      \"relation\": \"==\",\n",
      "      \"true\": {\n",
      "        \"complexity\": 0.009999999776482582,\n",
      "        \"loss\": 0.04819277301430702,\n",
      "        \"name\": \"Y\",\n",
      "        \"prediction\": 1\n",
      "      },\n",
      "      \"type\": \"integral\"\n",
      "    },\n",
      "    \"feature\": 8,\n",
      "    \"name\": \"priors:=0\",\n",
      "    \"reference\": 1,\n",
      "    \"relation\": \"==\",\n",
      "    \"true\": {\n",
      "      \"complexity\": 0.009999999776482582,\n",
      "      \"loss\": 0.09879518300294876,\n",
      "      \"name\": \"Y\",\n",
      "      \"prediction\": 0\n",
      "    },\n",
      "    \"type\": \"integral\"\n",
      "  },\n",
      "  \"feature\": 11,\n",
      "  \"model_objective\": 0.3508433699607849,\n",
      "  \"name\": \"priors:>3\",\n",
      "  \"reference\": 1,\n",
      "  \"relation\": \"==\",\n",
      "  \"true\": {\n",
      "    \"complexity\": 0.009999999776482582,\n",
      "    \"loss\": 0.09156626462936401,\n",
      "    \"name\": \"Y\",\n",
      "    \"prediction\": 1\n",
      "  },\n",
      "  \"type\": \"integral\"\n",
      "}\n",
      "{\n",
      "  \"false\": {\n",
      "    \"false\": {\n",
      "      \"false\": {\n",
      "        \"complexity\": 0.009999999776482582,\n",
      "        \"loss\": 0.07228916138410568,\n",
      "        \"name\": \"Y\",\n",
      "        \"prediction\": 0\n",
      "      },\n",
      "      \"feature\": 11,\n",
      "      \"name\": \"priors:>3\",\n",
      "      \"reference\": 1,\n",
      "      \"relation\": \"==\",\n",
      "      \"true\": {\n",
      "        \"complexity\": 0.009999999776482582,\n",
      "        \"loss\": 0.07710843533277512,\n",
      "        \"name\": \"Y\",\n",
      "        \"prediction\": 1\n",
      "      },\n",
      "      \"type\": \"integral\"\n",
      "    },\n",
      "    \"feature\": 3,\n",
      "    \"name\": \"age:<26\",\n",
      "    \"reference\": 1,\n",
      "    \"relation\": \"==\",\n",
      "    \"true\": {\n",
      "      \"complexity\": 0.009999999776482582,\n",
      "      \"loss\": 0.06265060603618622,\n",
      "      \"name\": \"Y\",\n",
      "      \"prediction\": 1\n",
      "    },\n",
      "    \"type\": \"integral\"\n",
      "  },\n",
      "  \"feature\": 8,\n",
      "  \"model_objective\": 0.3508433699607849,\n",
      "  \"name\": \"priors:=0\",\n",
      "  \"reference\": 1,\n",
      "  \"relation\": \"==\",\n",
      "  \"true\": {\n",
      "    \"complexity\": 0.009999999776482582,\n",
      "    \"loss\": 0.09879518300294876,\n",
      "    \"name\": \"Y\",\n",
      "    \"prediction\": 0\n",
      "  },\n",
      "  \"type\": \"integral\"\n",
      "}\n",
      "{\n",
      "  \"false\": {\n",
      "    \"false\": {\n",
      "      \"false\": {\n",
      "        \"complexity\": 0.009999999776482582,\n",
      "        \"loss\": 0.07228916138410568,\n",
      "        \"name\": \"Y\",\n",
      "        \"prediction\": 0\n",
      "      },\n",
      "      \"feature\": 3,\n",
      "      \"name\": \"age:<26\",\n",
      "      \"reference\": 1,\n",
      "      \"relation\": \"==\",\n",
      "      \"true\": {\n",
      "        \"complexity\": 0.009999999776482582,\n",
      "        \"loss\": 0.04819277301430702,\n",
      "        \"name\": \"Y\",\n",
      "        \"prediction\": 1\n",
      "      },\n",
      "      \"type\": \"integral\"\n",
      "    },\n",
      "    \"feature\": 11,\n",
      "    \"name\": \"priors:>3\",\n",
      "    \"reference\": 1,\n",
      "    \"relation\": \"==\",\n",
      "    \"true\": {\n",
      "      \"complexity\": 0.009999999776482582,\n",
      "      \"loss\": 0.09156626462936401,\n",
      "      \"name\": \"Y\",\n",
      "      \"prediction\": 1\n",
      "    },\n",
      "    \"type\": \"integral\"\n",
      "  },\n",
      "  \"feature\": 8,\n",
      "  \"model_objective\": 0.3508433699607849,\n",
      "  \"name\": \"priors:=0\",\n",
      "  \"reference\": 1,\n",
      "  \"relation\": \"==\",\n",
      "  \"true\": {\n",
      "    \"complexity\": 0.009999999776482582,\n",
      "    \"loss\": 0.09879518300294876,\n",
      "    \"name\": \"Y\",\n",
      "    \"prediction\": 0\n",
      "  },\n",
      "  \"type\": \"integral\"\n",
      "}\n",
      "{\n",
      "  \"false\": {\n",
      "    \"false\": {\n",
      "      \"complexity\": 0.009999999776482582,\n",
      "      \"loss\": 0.12289156764745712,\n",
      "      \"name\": \"Y\",\n",
      "      \"prediction\": 0\n",
      "    },\n",
      "    \"feature\": 11,\n",
      "    \"name\": \"priors:>3\",\n",
      "    \"reference\": 1,\n",
      "    \"relation\": \"==\",\n",
      "    \"true\": {\n",
      "      \"complexity\": 0.009999999776482582,\n",
      "      \"loss\": 0.07710843533277512,\n",
      "      \"name\": \"Y\",\n",
      "      \"prediction\": 1\n",
      "    },\n",
      "    \"type\": \"integral\"\n",
      "  },\n",
      "  \"feature\": 3,\n",
      "  \"model_objective\": 0.3508433699607849,\n",
      "  \"name\": \"age:<26\",\n",
      "  \"reference\": 1,\n",
      "  \"relation\": \"==\",\n",
      "  \"true\": {\n",
      "    \"false\": {\n",
      "      \"complexity\": 0.009999999776482582,\n",
      "      \"loss\": 0.06265060603618622,\n",
      "      \"name\": \"Y\",\n",
      "      \"prediction\": 1\n",
      "    },\n",
      "    \"feature\": 8,\n",
      "    \"name\": \"priors:=0\",\n",
      "    \"reference\": 1,\n",
      "    \"relation\": \"==\",\n",
      "    \"true\": {\n",
      "      \"complexity\": 0.009999999776482582,\n",
      "      \"loss\": 0.04819277301430702,\n",
      "      \"name\": \"Y\",\n",
      "      \"prediction\": 0\n",
      "    },\n",
      "    \"type\": \"integral\"\n",
      "  },\n",
      "  \"type\": \"integral\"\n",
      "}\n"
     ]
    }
   ],
   "source": [
    "### Prediction Model ###\n",
    "print(\"Iteration: \" + str(i))\n",
    "ModelArgsFiltered = FilterArguments(ModelType, ModelArgs)\n",
    "Model = ModelType(**ModelArgsFiltered)\n",
    "if \"Model\" in SelectorArgs.keys(): SelectorArgs['Model'] = Model            # NOTE: THIS IS NOT DYNAMIC"
   ]
  },
  {
   "cell_type": "code",
   "execution_count": 37,
   "metadata": {},
   "outputs": [],
   "source": [
    "### Current Error ###\n",
    "TestErrorVal = TestErrorFunction(Model, df_Test, ModelArgs[\"Type\"])        # NOTE: Change to df_Test if there is a test set\n",
    "if(len(TestErrorVal) > 1):\n",
    "    AllErrors = TestErrorVal                                                # Rashomon gives all errors of Rashomon\n",
    "    CurrentError = float(np.min(AllErrors))                                 # Extract the best one\n",
    "    SelectorArgs[\"AllErrors\"] = AllErrors                           # Use AllErrors in RashomonQBC\n",
    "else: \n",
    "    CurrentError = TestErrorVal                                             # One output for non-Rashomon\n",
    "ErrorVec.append(CurrentError)"
   ]
  },
  {
   "cell_type": "code",
   "execution_count": 38,
   "metadata": {},
   "outputs": [],
   "source": [
    "### Sampling Procedure ###\n",
    "SelectorArgsFiltered = FilterArguments(SelectorType, SelectorArgs)"
   ]
  },
  {
   "cell_type": "code",
   "execution_count": 39,
   "metadata": {},
   "outputs": [],
   "source": [
    "QueryObservationIndex = SelectorType(**SelectorArgsFiltered)"
   ]
  },
  {
   "cell_type": "code",
   "execution_count": 40,
   "metadata": {},
   "outputs": [
    {
     "name": "stdout",
     "output_type": "stream",
     "text": [
      "QueryObservationIndex: 3999\n"
     ]
    }
   ],
   "source": [
    "print(\"QueryObservationIndex: \" + str(QueryObservationIndex))"
   ]
  },
  {
   "cell_type": "code",
   "execution_count": 41,
   "metadata": {},
   "outputs": [],
   "source": [
    "QueryObservation = df_Candidate.loc[[QueryObservationIndex]] # or should this be iloc"
   ]
  },
  {
   "cell_type": "code",
   "execution_count": 42,
   "metadata": {},
   "outputs": [
    {
     "data": {
      "text/html": [
       "<div>\n",
       "<style scoped>\n",
       "    .dataframe tbody tr th:only-of-type {\n",
       "        vertical-align: middle;\n",
       "    }\n",
       "\n",
       "    .dataframe tbody tr th {\n",
       "        vertical-align: top;\n",
       "    }\n",
       "\n",
       "    .dataframe thead th {\n",
       "        text-align: right;\n",
       "    }\n",
       "</style>\n",
       "<table border=\"1\" class=\"dataframe\">\n",
       "  <thead>\n",
       "    <tr style=\"text-align: right;\">\n",
       "      <th></th>\n",
       "      <th>Y</th>\n",
       "      <th>sex:Female</th>\n",
       "      <th>age:&lt;21</th>\n",
       "      <th>age:&lt;23</th>\n",
       "      <th>age:&lt;26</th>\n",
       "      <th>age:&lt;46</th>\n",
       "      <th>juvenile-felonies:=0</th>\n",
       "      <th>juvenile-misdemeanors:=0</th>\n",
       "      <th>juvenile-crimes:=0</th>\n",
       "      <th>priors:=0</th>\n",
       "      <th>priors:=1</th>\n",
       "      <th>priors:2-3</th>\n",
       "      <th>priors:&gt;3</th>\n",
       "    </tr>\n",
       "  </thead>\n",
       "  <tbody>\n",
       "    <tr>\n",
       "      <th>3999</th>\n",
       "      <td>1</td>\n",
       "      <td>0</td>\n",
       "      <td>1</td>\n",
       "      <td>1</td>\n",
       "      <td>1</td>\n",
       "      <td>1</td>\n",
       "      <td>1</td>\n",
       "      <td>0</td>\n",
       "      <td>0</td>\n",
       "      <td>0</td>\n",
       "      <td>0</td>\n",
       "      <td>0</td>\n",
       "      <td>1</td>\n",
       "    </tr>\n",
       "  </tbody>\n",
       "</table>\n",
       "</div>"
      ],
      "text/plain": [
       "      Y  sex:Female  age:<21  age:<23  age:<26  age:<46  juvenile-felonies:=0  \\\n",
       "3999  1           0        1        1        1        1                     1   \n",
       "\n",
       "      juvenile-misdemeanors:=0  juvenile-crimes:=0  priors:=0  priors:=1  \\\n",
       "3999                         0                   0          0          0   \n",
       "\n",
       "      priors:2-3  priors:>3  \n",
       "3999           0          1  "
      ]
     },
     "execution_count": 42,
     "metadata": {},
     "output_type": "execute_result"
    }
   ],
   "source": [
    "QueryObservation"
   ]
  },
  {
   "cell_type": "code",
   "execution_count": 43,
   "metadata": {},
   "outputs": [],
   "source": [
    "### Update Train and Candidate Sets ###\n",
    "df_Train = pd.concat([df_Train, QueryObservation])\n",
    "df_Candidate = df_Candidate.drop(QueryObservationIndex)"
   ]
  },
  {
   "cell_type": "code",
   "execution_count": 44,
   "metadata": {},
   "outputs": [
    {
     "data": {
      "text/plain": [
       "False"
      ]
     },
     "execution_count": 44,
     "metadata": {},
     "output_type": "execute_result"
    }
   ],
   "source": [
    "QueryObservationIndex in df_Candidate.index"
   ]
  },
  {
   "cell_type": "code",
   "execution_count": 45,
   "metadata": {},
   "outputs": [
    {
     "data": {
      "text/plain": [
       "True"
      ]
     },
     "execution_count": 45,
     "metadata": {},
     "output_type": "execute_result"
    }
   ],
   "source": [
    "QueryObservationIndex in df_Train.index"
   ]
  },
  {
   "cell_type": "code",
   "execution_count": 46,
   "metadata": {},
   "outputs": [],
   "source": [
    "### Update SelectorArgs and ModelArgs ###                                     # NOTE: THIS IS NOT DYNAMIC\n",
    "if \"df_Train\" in ModelArgs.keys(): ModelArgs['df_Train'] = df_Train\n",
    "if \"df_Train\" in SelectorArgs.keys(): SelectorArgs['df_Train'] = df_Train\n",
    "if \"df_Candidate\" in SelectorArgs.keys(): SelectorArgs['df_Candidate'] = df_Candidate  "
   ]
  },
  {
   "cell_type": "markdown",
   "metadata": {},
   "source": [
    "# Save"
   ]
  },
  {
   "cell_type": "code",
   "execution_count": null,
   "metadata": {},
   "outputs": [],
   "source": [
    "### Return Simulation Parameters ###\n",
    "SimulationParameters = {\"DataFileInput\" : str(DataFileInput),\n",
    "                        \"Seed\" : str(Seed),\n",
    "                        \"TestProportion\" : str(TestProportion),\n",
    "                        \"CandidateProportion\" : str(CandidateProportion),\n",
    "                        \"SelectorType\" : str(SelectorType),\n",
    "                        \"ModelType\" : str(ModelType),\n",
    "                        \"DataArgs\" : str(DataArgs),\n",
    "                        # \"SelectorArgs\" : str(SelectorArgs),\n",
    "                        \"ModelArgs\" : str(FilterArguments(ModelType, ModelArgs).pop('df_Train', None))\n",
    "                        }"
   ]
  },
  {
   "cell_type": "code",
   "execution_count": null,
   "metadata": {},
   "outputs": [],
   "source": [
    "### Return Time ###\n",
    "ElapsedTime = time.time() - StartTime\n",
    "\n",
    "### Return Dictionary ###\n",
    "SimulationResults = {\"ErrorVec\" : pd.DataFrame(ErrorVec, columns =[\"Error\"]),\n",
    "                            \"SelectionHistory\" : pd.DataFrame(SelectedObservationHistory, columns = [\"ObservationID\"]),\n",
    "                            \"SimulationParameters\" : SimulationParameters,\n",
    "                            \"ElapsedTime\" : ElapsedTime}"
   ]
  }
 ],
 "metadata": {
  "kernelspec": {
   "display_name": "rashomon-3.9",
   "language": "python",
   "name": "python3"
  },
  "language_info": {
   "codemirror_mode": {
    "name": "ipython",
    "version": 3
   },
   "file_extension": ".py",
   "mimetype": "text/x-python",
   "name": "python",
   "nbconvert_exporter": "python",
   "pygments_lexer": "ipython3",
   "version": "3.9.20"
  }
 },
 "nbformat": 4,
 "nbformat_minor": 4
}
