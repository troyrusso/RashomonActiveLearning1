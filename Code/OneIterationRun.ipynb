{
 "cells": [
  {
   "cell_type": "code",
   "execution_count": 1,
   "metadata": {},
   "outputs": [],
   "source": [
    "### Import Packages ###\n",
    "import os\n",
    "import ast\n",
    "import numpy as np\n",
    "import math as math\n",
    "import pandas as pd\n",
    "import random as random\n",
    "import matplotlib.pyplot as plt\n",
    "from scipy.spatial.distance import cdist\n",
    "\n",
    "### Local Packages ###\n",
    "from utils.Main import *\n",
    "from utils.Selector import *\n",
    "from utils.Auxiliary import *\n",
    "from utils.Prediction import *"
   ]
  },
  {
   "cell_type": "code",
   "execution_count": 3,
   "metadata": {},
   "outputs": [],
   "source": [
    "### Get Directory ###\n",
    "cwd = os.getcwd()\n",
    "ParentDirectory = os.path.abspath(os.path.join(cwd, \"..\"))\n",
    "\n",
    "### DataType ###\n",
    "DataFileInput = \"BostonHousingBinned\""
   ]
  },
  {
   "cell_type": "markdown",
   "metadata": {},
   "source": [
    "# One Iteration"
   ]
  },
  {
   "cell_type": "markdown",
   "metadata": {},
   "source": [
    "## Inputs"
   ]
  },
  {
   "cell_type": "code",
   "execution_count": 4,
   "metadata": {},
   "outputs": [],
   "source": [
    "TopCModels = 50\n",
    "Seed = 1\n",
    "TestProportion = 0.2\n",
    "CandidateProportion = 0.8\n",
    "SelectorType = RashomonQBCFunction\n",
    "ModelType = TreeFarmsFunction\n",
    "DataArgs = {}\n",
    "SelectorArgs = {\"TopCModels\": 10}\n",
    "ModelArgs = {\"TopCModels\": TopCModels, \"config\" : {\"regularization\": 0.01, \"rashomon_bound_multiplier\": 0.05}, \"Type\":\"Classification\"}\n"
   ]
  },
  {
   "cell_type": "code",
   "execution_count": 5,
   "metadata": {},
   "outputs": [],
   "source": [
    "# ### Parameter Vector ###\n",
    "# k=0\n",
    "# ParameterVector = pd.read_csv(os.path.join(ParentDirectory, \"Data\", \"ParameterVectors\", \"ParameterVector\" + DataFileInput + \".csv\"))\n",
    "# Seed = int(ParameterVector.iloc[k][\"Seed\"])\n",
    "# TestProportion = 0.2\n",
    "# CandidateProportion = 0.8\n",
    "# SelectorType = globals().get(ParameterVector.iloc[k][\"SelectorType\"], None)\n",
    "# ModelType = globals().get(ParameterVector.iloc[k][\"ModelType\"], None)\n",
    "# DataArgs = ast.literal_eval(ast.literal_eval(ParameterVector.iloc[k][\"DataArgs\"]))\n",
    "# SelectorArgs = ast.literal_eval(ast.literal_eval(ParameterVector.iloc[k][\"SelectorArgs\"].replace(\"[\",\"\").replace(\"]\",\"\")))\n",
    "# ModelArgs = ast.literal_eval(ast.literal_eval(ParameterVector.iloc[k][\"ModelArgs\"].replace(\"[\",\"\").replace(\"]\",\"\")))\n"
   ]
  },
  {
   "cell_type": "markdown",
   "metadata": {},
   "source": [
    "# Set Up"
   ]
  },
  {
   "cell_type": "code",
   "execution_count": 6,
   "metadata": {},
   "outputs": [],
   "source": [
    "### Run Time ###\n",
    "StartTime = time.time()\n",
    "\n",
    "### Set Up ###\n",
    "random.seed(Seed)\n",
    "np.random.seed(Seed)\n",
    "ErrorVec = []\n",
    "SelectedObservationHistory = []"
   ]
  },
  {
   "cell_type": "code",
   "execution_count": 7,
   "metadata": {},
   "outputs": [],
   "source": [
    "### Generate Data ###\n",
    "if(DataFileInput == \"Simulate\"):\n",
    "    from utils.Main import DataGeneratingProcess                             ### NOTE: Why is this not imported from utils.Main import *\n",
    "    df = DataGeneratingProcess(**DataArgs)\n",
    "else:\n",
    "    df = LoadData(DataFileInput)"
   ]
  },
  {
   "cell_type": "code",
   "execution_count": 9,
   "metadata": {},
   "outputs": [],
   "source": [
    "### Train Test Candidate Split\n",
    "from utils.Main import TrainTestCandidateSplit                           ### NOTE: Why is this not imported from utils.Main import *\n",
    "df_Train, df_Test, df_Candidate = TrainTestCandidateSplit(df, TestProportion, CandidateProportion)"
   ]
  },
  {
   "cell_type": "code",
   "execution_count": 10,
   "metadata": {},
   "outputs": [],
   "source": [
    "### Selector Arguments ###\n",
    "SelectorArgs[\"df_Train\"] = df_Test                                     # NOTE: Change to df_Test if there is a test set\n",
    "SelectorArgs[\"df_Candidate\"] = df_Candidate\n",
    "SelectorArgs[\"Model\"] = \"\"\n",
    "# SelectorArgsFiltered = FilterArguments(SelectorType, SelectorArgs)"
   ]
  },
  {
   "cell_type": "code",
   "execution_count": 11,
   "metadata": {},
   "outputs": [],
   "source": [
    "### Model Arguments ###\n",
    "ModelArgs['df_Train'] = df_Train\n",
    "# ModelArgsFiltered = FilterArguments(ModelType, ModelArgs)"
   ]
  },
  {
   "cell_type": "markdown",
   "metadata": {},
   "source": [
    "# Learning Procedure"
   ]
  },
  {
   "cell_type": "code",
   "execution_count": 12,
   "metadata": {},
   "outputs": [],
   "source": [
    "### Set Up ###\n",
    "ErrorVec = []\n",
    "SelectedObservationHistory = []"
   ]
  },
  {
   "cell_type": "code",
   "execution_count": 30,
   "metadata": {},
   "outputs": [],
   "source": [
    "i=1"
   ]
  },
  {
   "cell_type": "code",
   "execution_count": 31,
   "metadata": {},
   "outputs": [
    {
     "name": "stdout",
     "output_type": "stream",
     "text": [
      "Iteration: 1\n",
      "treefarms reported successful execution\n",
      "training completed. Number of trees in the Rashomon set: 4\n",
      "null\n",
      "Finding Optimal Objective...\n",
      "{\n",
      "  \"false\": {\n",
      "    \"false\": {\n",
      "      \"complexity\": 0.009999999776482582,\n",
      "      \"loss\": 0.024390242993831635,\n",
      "      \"name\": \"Y\",\n",
      "      \"prediction\": \"False\"\n",
      "    },\n",
      "    \"feature\": 12,\n",
      "    \"name\": \"LSTAT_1\",\n",
      "    \"reference\": 1.0,\n",
      "    \"relation\": \"==\",\n",
      "    \"true\": {\n",
      "      \"complexity\": 0.009999999776482582,\n",
      "      \"loss\": 0.03658536449074745,\n",
      "      \"name\": \"Y\",\n",
      "      \"prediction\": \"True\"\n",
      "    },\n",
      "    \"type\": \"rational\"\n",
      "  },\n",
      "  \"feature\": 4,\n",
      "  \"model_objective\": 0.12317072600126266,\n",
      "  \"name\": \"NOX_2\",\n",
      "  \"reference\": 1.0,\n",
      "  \"relation\": \"==\",\n",
      "  \"true\": {\n",
      "    \"false\": {\n",
      "      \"complexity\": 0.009999999776482582,\n",
      "      \"loss\": 0.012195121496915817,\n",
      "      \"name\": \"Y\",\n",
      "      \"prediction\": \"False\"\n",
      "    },\n",
      "    \"feature\": 1,\n",
      "    \"name\": \"CRIM_2\",\n",
      "    \"reference\": 1.0,\n",
      "    \"relation\": \"==\",\n",
      "    \"true\": {\n",
      "      \"false\": {\n",
      "        \"complexity\": 0.009999999776482582,\n",
      "        \"loss\": 0.0,\n",
      "        \"name\": \"Y\",\n",
      "        \"prediction\": \"False\"\n",
      "      },\n",
      "      \"feature\": 8,\n",
      "      \"name\": \"RM_3\",\n",
      "      \"reference\": 1.0,\n",
      "      \"relation\": \"==\",\n",
      "      \"true\": {\n",
      "        \"complexity\": 0.009999999776482582,\n",
      "        \"loss\": 0.0,\n",
      "        \"name\": \"Y\",\n",
      "        \"prediction\": \"True\"\n",
      "      },\n",
      "      \"type\": \"rational\"\n",
      "    },\n",
      "    \"type\": \"rational\"\n",
      "  },\n",
      "  \"type\": \"rational\"\n",
      "}\n",
      "{\n",
      "  \"false\": {\n",
      "    \"false\": {\n",
      "      \"complexity\": 0.009999999776482582,\n",
      "      \"loss\": 0.024390242993831635,\n",
      "      \"name\": \"Y\",\n",
      "      \"prediction\": \"False\"\n",
      "    },\n",
      "    \"feature\": 12,\n",
      "    \"name\": \"LSTAT_1\",\n",
      "    \"reference\": 1.0,\n",
      "    \"relation\": \"==\",\n",
      "    \"true\": {\n",
      "      \"complexity\": 0.009999999776482582,\n",
      "      \"loss\": 0.03658536449074745,\n",
      "      \"name\": \"Y\",\n",
      "      \"prediction\": \"True\"\n",
      "    },\n",
      "    \"type\": \"rational\"\n",
      "  },\n",
      "  \"feature\": 4,\n",
      "  \"model_objective\": 0.12317072600126266,\n",
      "  \"name\": \"NOX_2\",\n",
      "  \"reference\": 1.0,\n",
      "  \"relation\": \"==\",\n",
      "  \"true\": {\n",
      "    \"false\": {\n",
      "      \"complexity\": 0.009999999776482582,\n",
      "      \"loss\": 0.0,\n",
      "      \"name\": \"Y\",\n",
      "      \"prediction\": \"False\"\n",
      "    },\n",
      "    \"feature\": 8,\n",
      "    \"name\": \"RM_3\",\n",
      "    \"reference\": 1.0,\n",
      "    \"relation\": \"==\",\n",
      "    \"true\": {\n",
      "      \"false\": {\n",
      "        \"complexity\": 0.009999999776482582,\n",
      "        \"loss\": 0.012195121496915817,\n",
      "        \"name\": \"Y\",\n",
      "        \"prediction\": \"False\"\n",
      "      },\n",
      "      \"feature\": 1,\n",
      "      \"name\": \"CRIM_2\",\n",
      "      \"reference\": 1.0,\n",
      "      \"relation\": \"==\",\n",
      "      \"true\": {\n",
      "        \"complexity\": 0.009999999776482582,\n",
      "        \"loss\": 0.0,\n",
      "        \"name\": \"Y\",\n",
      "        \"prediction\": \"True\"\n",
      "      },\n",
      "      \"type\": \"rational\"\n",
      "    },\n",
      "    \"type\": \"rational\"\n",
      "  },\n",
      "  \"type\": \"rational\"\n",
      "}\n"
     ]
    }
   ],
   "source": [
    "### Prediction Model ###\n",
    "print(\"Iteration: \" + str(i))\n",
    "ModelArgsFiltered = FilterArguments(ModelType, ModelArgs)\n",
    "Model = ModelType(**ModelArgsFiltered)\n",
    "if \"Model\" in SelectorArgs.keys(): SelectorArgs['Model'] = Model            # NOTE: THIS IS NOT DYNAMIC"
   ]
  },
  {
   "cell_type": "code",
   "execution_count": 32,
   "metadata": {},
   "outputs": [],
   "source": [
    "### Current Error ###\n",
    "TestErrorVal = TestErrorFunction(Model, df_Test, ModelArgs[\"Type\"])        # NOTE: Change to df_Test if there is a test set\n",
    "if(len(TestErrorVal) > 1):\n",
    "    AllErrors = TestErrorVal                                                # Rashomon gives all errors of Rashomon\n",
    "    CurrentError = float(np.min(AllErrors))                                 # Extract the best one\n",
    "    SelectorArgs[\"AllErrors\"] = AllErrors                           # Use AllErrors in RashomonQBC\n",
    "else: \n",
    "    CurrentError = TestErrorVal                                             # One output for non-Rashomon\n",
    "ErrorVec.append(CurrentError)"
   ]
  },
  {
   "cell_type": "code",
   "execution_count": 33,
   "metadata": {},
   "outputs": [
    {
     "name": "stderr",
     "output_type": "stream",
     "text": [
      "/Users/simondn/Documents/RashomonActiveLearning/Code/utils/Selector/RashomonQBC.py:40: RuntimeWarning: divide by zero encountered in log\n",
      "  LogVoteC[classes] = np.log(VoteC[classes])\n",
      "/Users/simondn/Documents/RashomonActiveLearning/Code/utils/Selector/RashomonQBC.py:41: RuntimeWarning: invalid value encountered in multiply\n",
      "  VoteEntropy[classes] =  - VoteC[classes] * LogVoteC[classes]\n"
     ]
    }
   ],
   "source": [
    "### Sampling Procedure ###\n",
    "SelectorArgsFiltered = FilterArguments(SelectorType, SelectorArgs)\n",
    "QueryObservationIndex = SelectorType(**SelectorArgsFiltered)\n",
    "QueryObservation = df_Candidate.loc[[QueryObservationIndex]] # or should this be iloc"
   ]
  },
  {
   "cell_type": "code",
   "execution_count": 34,
   "metadata": {},
   "outputs": [
    {
     "data": {
      "text/html": [
       "<div>\n",
       "<style scoped>\n",
       "    .dataframe tbody tr th:only-of-type {\n",
       "        vertical-align: middle;\n",
       "    }\n",
       "\n",
       "    .dataframe tbody tr th {\n",
       "        vertical-align: top;\n",
       "    }\n",
       "\n",
       "    .dataframe thead th {\n",
       "        text-align: right;\n",
       "    }\n",
       "</style>\n",
       "<table border=\"1\" class=\"dataframe\">\n",
       "  <thead>\n",
       "    <tr style=\"text-align: right;\">\n",
       "      <th></th>\n",
       "      <th>Y</th>\n",
       "      <th>CRIM_1</th>\n",
       "      <th>CRIM_2</th>\n",
       "      <th>CRIM_3</th>\n",
       "      <th>NOX_1</th>\n",
       "      <th>NOX_2</th>\n",
       "      <th>NOX_3</th>\n",
       "      <th>RM_1</th>\n",
       "      <th>RM_2</th>\n",
       "      <th>RM_3</th>\n",
       "      <th>PTRATIO_1</th>\n",
       "      <th>PTRATIO_2</th>\n",
       "      <th>PTRATIO_3</th>\n",
       "      <th>LSTAT_1</th>\n",
       "      <th>LSTAT_2</th>\n",
       "      <th>LSTAT_3</th>\n",
       "    </tr>\n",
       "  </thead>\n",
       "  <tbody>\n",
       "    <tr>\n",
       "      <th>91</th>\n",
       "      <td>False</td>\n",
       "      <td>1.0</td>\n",
       "      <td>0.0</td>\n",
       "      <td>0.0</td>\n",
       "      <td>1.0</td>\n",
       "      <td>0.0</td>\n",
       "      <td>0.0</td>\n",
       "      <td>0.0</td>\n",
       "      <td>1.0</td>\n",
       "      <td>0.0</td>\n",
       "      <td>1.0</td>\n",
       "      <td>0.0</td>\n",
       "      <td>0.0</td>\n",
       "      <td>1.0</td>\n",
       "      <td>0.0</td>\n",
       "      <td>0.0</td>\n",
       "    </tr>\n",
       "  </tbody>\n",
       "</table>\n",
       "</div>"
      ],
      "text/plain": [
       "        Y  CRIM_1  CRIM_2  CRIM_3  NOX_1  NOX_2  NOX_3  RM_1  RM_2  RM_3  \\\n",
       "91  False     1.0     0.0     0.0    1.0    0.0    0.0   0.0   1.0   0.0   \n",
       "\n",
       "    PTRATIO_1  PTRATIO_2  PTRATIO_3  LSTAT_1  LSTAT_2  LSTAT_3  \n",
       "91        1.0        0.0        0.0      1.0      0.0      0.0  "
      ]
     },
     "execution_count": 34,
     "metadata": {},
     "output_type": "execute_result"
    }
   ],
   "source": [
    "QueryObservation"
   ]
  },
  {
   "cell_type": "code",
   "execution_count": 35,
   "metadata": {},
   "outputs": [],
   "source": [
    "### Update Train and Candidate Sets ###\n",
    "df_Train = pd.concat([df_Train, QueryObservation])\n",
    "df_Candidate = df_Candidate.drop(QueryObservationIndex)"
   ]
  },
  {
   "cell_type": "code",
   "execution_count": 36,
   "metadata": {},
   "outputs": [],
   "source": [
    "### Update SelectorArgs and ModelArgs ###                                     # NOTE: THIS IS NOT DYNAMIC\n",
    "if \"df_Train\" in ModelArgs.keys(): ModelArgs['df_Train'] = df_Train\n",
    "if \"df_Train\" in SelectorArgs.keys(): SelectorArgs['df_Train'] = df_Train\n",
    "if \"df_Candidate\" in SelectorArgs.keys(): SelectorArgs['df_Candidate'] = df_Candidate  "
   ]
  },
  {
   "cell_type": "markdown",
   "metadata": {},
   "source": [
    "# Save"
   ]
  },
  {
   "cell_type": "code",
   "execution_count": 17,
   "metadata": {},
   "outputs": [],
   "source": [
    "# ### Return Simulation Parameters ###\n",
    "# SimulationParameters = {\"DataFileInput\" : str(DataFileInput),\n",
    "#                         \"Seed\" : str(Seed),\n",
    "#                         \"TestProportion\" : str(TestProportion),\n",
    "#                         \"CandidateProportion\" : str(CandidateProportion),\n",
    "#                         \"SelectorType\" : str(SelectorType),\n",
    "#                         \"ModelType\" : str(ModelType),\n",
    "#                         \"DataArgs\" : str(DataArgs),\n",
    "#                         # \"SelectorArgs\" : str(SelectorArgs),\n",
    "#                         \"ModelArgs\" : str(FilterArguments(ModelType, ModelArgs).pop('df_Train', None))\n",
    "#                         }"
   ]
  },
  {
   "cell_type": "code",
   "execution_count": 18,
   "metadata": {},
   "outputs": [],
   "source": [
    "# ### Return Time ###\n",
    "# ElapsedTime = time.time() - StartTime\n",
    "\n",
    "# ### Return Dictionary ###\n",
    "# SimulationResults = {\"ErrorVec\" : pd.DataFrame(ErrorVec, columns =[\"Error\"]),\n",
    "#                             \"SelectionHistory\" : pd.DataFrame(SelectedObservationHistory, columns = [\"ObservationID\"]),\n",
    "#                             \"SimulationParameters\" : SimulationParameters,\n",
    "#                             \"ElapsedTime\" : ElapsedTime}"
   ]
  }
 ],
 "metadata": {
  "kernelspec": {
   "display_name": "rashomon-3.9",
   "language": "python",
   "name": "python3"
  },
  "language_info": {
   "codemirror_mode": {
    "name": "ipython",
    "version": 3
   },
   "file_extension": ".py",
   "mimetype": "text/x-python",
   "name": "python",
   "nbconvert_exporter": "python",
   "pygments_lexer": "ipython3",
   "version": "3.9.20"
  }
 },
 "nbformat": 4,
 "nbformat_minor": 4
}
