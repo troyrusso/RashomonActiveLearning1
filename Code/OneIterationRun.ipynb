{
 "cells": [
  {
   "cell_type": "code",
   "execution_count": 1,
   "metadata": {},
   "outputs": [],
   "source": [
    "### Import Packages ###\n",
    "import os\n",
    "import ast\n",
    "import numpy as np\n",
    "import math as math\n",
    "import pandas as pd\n",
    "import random as random\n",
    "import matplotlib.pyplot as plt\n",
    "from scipy.spatial.distance import cdist\n",
    "\n",
    "### Local Packages ###\n",
    "from utils.Main import *\n",
    "from utils.Selector import *\n",
    "from utils.Auxiliary import *\n",
    "from utils.Prediction import *"
   ]
  },
  {
   "cell_type": "code",
   "execution_count": 2,
   "metadata": {},
   "outputs": [],
   "source": [
    "### Get Directory ###\n",
    "cwd = os.getcwd()\n",
    "ParentDirectory = os.path.abspath(os.path.join(cwd, \"..\"))\n",
    "\n",
    "### DataType ###\n",
    "DataTypeInput = \"COMPAS\""
   ]
  },
  {
   "cell_type": "markdown",
   "metadata": {},
   "source": [
    "# One Iteration"
   ]
  },
  {
   "cell_type": "markdown",
   "metadata": {},
   "source": [
    "## Inputs"
   ]
  },
  {
   "cell_type": "code",
   "execution_count": 13,
   "metadata": {},
   "outputs": [],
   "source": [
    "i=1\n",
    "DataFileInput = \"COMPAS\",\n",
    "Seed = 1,\n",
    "TestProportion = 0.2,\n",
    "CandidateProportion = 0.8,\n",
    "# SelectorType = , \n",
    "# ModelType = TreeFARMS, \n",
    "DataArgs = {},\n",
    "# SelectorArgs = {},\n",
    "ModelArgs = {\"TopCModels\": 10, \"config\" : {\"regularization\": 0.01, \"rashomon_bound_multiplier\": 0.03}}\n"
   ]
  },
  {
   "cell_type": "markdown",
   "metadata": {},
   "source": [
    "## One Iteration Function"
   ]
  },
  {
   "cell_type": "markdown",
   "metadata": {},
   "source": [
    "### Set Up"
   ]
  },
  {
   "cell_type": "code",
   "execution_count": 5,
   "metadata": {},
   "outputs": [],
   "source": [
    "### Run Time ###\n",
    "StartTime = time.time()\n",
    "\n",
    "### Set Up ###\n",
    "random.seed(Seed[0])\n",
    "np.random.seed(Seed[0])\n",
    "ErrorVec = []\n",
    "SelectedObservationHistory = []"
   ]
  },
  {
   "cell_type": "markdown",
   "metadata": {},
   "source": [
    "### Load Data"
   ]
  },
  {
   "cell_type": "code",
   "execution_count": 6,
   "metadata": {},
   "outputs": [],
   "source": [
    "DataFileInput = \"COMPAS\""
   ]
  },
  {
   "cell_type": "code",
   "execution_count": 7,
   "metadata": {},
   "outputs": [],
   "source": [
    "\n",
    "from utils.Main import DataGeneratingProcess                             ### NOTE: Why is this not imported from utils.Main import *\n",
    "### Generate Data ###\n",
    "if(DataFileInput == \"Simulate\"):\n",
    "    df = DataGeneratingProcess(**DataArgs)\n",
    "else:\n",
    "    df = LoadData(DataFileInput)"
   ]
  },
  {
   "cell_type": "markdown",
   "metadata": {},
   "source": [
    "### Train Test Split"
   ]
  },
  {
   "cell_type": "code",
   "execution_count": 12,
   "metadata": {},
   "outputs": [],
   "source": [
    "### Train Test Candidate Split\n",
    "from utils.Main import TrainTestCandidateSplit                           ### NOTE: Why is this not imported from utils.Main import *\n",
    "df_Train, df_Test, df_Candidate = TrainTestCandidateSplit(df, TestProportion[0], CandidateProportion[0])"
   ]
  },
  {
   "cell_type": "markdown",
   "metadata": {},
   "source": [
    "### Argument Processing"
   ]
  },
  {
   "cell_type": "code",
   "execution_count": null,
   "metadata": {},
   "outputs": [],
   "source": [
    "\n",
    "### Selector Arguments ###\n",
    "SelectorArgs[\"df_Train\"] = df_Test\n",
    "SelectorArgs[\"df_Candidate\"] = df_Candidate\n",
    "SelectorArgs[\"Model\"] = ModelType\n",
    "SelectorArgsFiltered = FilterArguments(SelectorType, SelectorArgs)\n",
    "\n",
    "### Model Arguments ###\n",
    "ModelArgs['df_Train'] = df_Train\n",
    "ModelArgsFiltered = FilterArguments(ModelType, ModelArgs)\n"
   ]
  },
  {
   "cell_type": "markdown",
   "metadata": {},
   "source": [
    "### Learning Process"
   ]
  },
  {
   "cell_type": "code",
   "execution_count": null,
   "metadata": {},
   "outputs": [],
   "source": [
    "### Set Up ###\n",
    "ErrorVec = []\n",
    "SelectedObservationHistory = []\n"
   ]
  },
  {
   "cell_type": "code",
   "execution_count": null,
   "metadata": {},
   "outputs": [],
   "source": [
    "i=1"
   ]
  },
  {
   "cell_type": "code",
   "execution_count": null,
   "metadata": {},
   "outputs": [],
   "source": [
    "### Prediction Model ###\n",
    "Model = ModelType(**ModelArgs)\n",
    "if \"Model\" in SelectorArgs.keys(): SelectorArgs['Model'] = Model            # NOTE: THIS IS NOT DYNAMIC\n",
    "\n",
    "### Current Error ###\n",
    "CurrentError = TestErrorFunction(Model, df_Test)\n",
    "ErrorVec.append(CurrentError)\n",
    "\n",
    "### Sampling Procedure ###\n",
    "QueryObservationIndex = SelectorType(**SelectorArgs)\n",
    "QueryObservation = df_Candidate.loc[[QueryObservationIndex]] # or should this be iloc\n",
    "SelectedObservationHistory.append(QueryObservationIndex)\n",
    "\n",
    "### Update Train and Candidate Sets ###\n",
    "df_Train = pd.concat([df_Train, QueryObservation])\n",
    "df_Candidate = df_Candidate.drop(QueryObservationIndex)\n",
    "\n",
    "### Update SelectorArgs and ModelArgs ###                                     # NOTE: THIS IS NOT DYNAMIC\n",
    "if \"df_Train\" in ModelArgs.keys(): ModelArgs['df_Train'] = df_Train\n",
    "if \"df_Train\" in SelectorArgs.keys(): SelectorArgs['df_Train'] = df_Train\n",
    "if \"df_Candidate\" in SelectorArgs.keys(): SelectorArgs['df_Candidate'] = df_Candidate      "
   ]
  },
  {
   "cell_type": "markdown",
   "metadata": {},
   "source": [
    "### Return"
   ]
  },
  {
   "cell_type": "code",
   "execution_count": null,
   "metadata": {},
   "outputs": [],
   "source": [
    "\n",
    "SimulationParameters = {\"DataFileInput\" : str(DataFileInput),\n",
    "                        \"Seed\" : str(Seed),\n",
    "                        \"TestProportion\" : str(TestProportion),\n",
    "                        \"CandidateProportion\" : str(CandidateProportion),\n",
    "                        \"SelectorType\" : str(SelectorType),\n",
    "                        \"ModelType\" : str(ModelType),\n",
    "                        \"DataArgs\" : str(DataArgs),\n",
    "                        # \"SelectorArgs\" : str(SelectorArgs),\n",
    "                        \"ModelArgs\" : str(ModelArgsFiltered.pop('df_Train', None))\n",
    "                        }\n",
    "\n",
    "ElapsedTime = time.time() - StartTime\n",
    "\n",
    "### Return Dictionary ###\n",
    "SimulationResults = {\"ErrorVec\" : pd.DataFrame(ErrorVec, columns =[\"Error\"]),\n",
    "                            \"SelectionHistory\" : pd.DataFrame(SelectedObservationHistory, columns = [\"ObservationID\"]),\n",
    "                            \"SimulationParameters\" : SimulationParameters,\n",
    "                            \"ElapsedTime\" : ElapsedTime}"
   ]
  }
 ],
 "metadata": {
  "kernelspec": {
   "display_name": "Python 3",
   "language": "python",
   "name": "python3"
  },
  "language_info": {
   "codemirror_mode": {
    "name": "ipython",
    "version": 3
   },
   "file_extension": ".py",
   "mimetype": "text/x-python",
   "name": "python",
   "nbconvert_exporter": "python",
   "pygments_lexer": "ipython3",
   "version": "3.11.4"
  }
 },
 "nbformat": 4,
 "nbformat_minor": 2
}
