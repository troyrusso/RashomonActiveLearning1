{
 "cells": [
  {
   "cell_type": "code",
   "execution_count": 1,
   "metadata": {},
   "outputs": [],
   "source": [
    "### Import Packages ###\n",
    "import os\n",
    "import numpy as np\n",
    "import math as math\n",
    "import pandas as pd\n",
    "import random as random\n",
    "import matplotlib.pyplot as plt\n",
    "from scipy.spatial.distance import cdist\n",
    "\n",
    "### Local Packages ###\n",
    "from utils.Main import *\n",
    "from utils.Selector import *\n",
    "from utils.Auxiliary import *\n",
    "from utils.Prediction import *"
   ]
  },
  {
   "cell_type": "code",
   "execution_count": 2,
   "metadata": {},
   "outputs": [],
   "source": [
    "### Get Directory ###\n",
    "cwd = os.getcwd()\n",
    "ParentDirectory = os.path.abspath(os.path.join(cwd, \"..\"))\n",
    "\n",
    "### DataType ###\n",
    "DataFileInput = \"COMPAS\""
   ]
  },
  {
   "cell_type": "markdown",
   "metadata": {},
   "source": [
    "# One Iteration"
   ]
  },
  {
   "cell_type": "markdown",
   "metadata": {},
   "source": [
    "## Inputs"
   ]
  },
  {
   "cell_type": "code",
   "execution_count": 3,
   "metadata": {},
   "outputs": [],
   "source": [
    "i=1\n",
    "TopCModels = 50\n",
    "Seed = 1\n",
    "TestProportion = 0.2\n",
    "CandidateProportion = 0.8\n",
    "SelectorType = RashomonQBCFunction\n",
    "ModelType = TreeFarmsFunction\n",
    "DataArgs = {}\n",
    "ModelArgs = {\"TopCModels\": TopCModels, \"config\" : {\"regularization\": 0.01, \"rashomon_bound_multiplier\": 0.05}, \"Type\":\"Classification\"}\n",
    "SelectorArgs = {\"TopCModels\": 10}\n"
   ]
  },
  {
   "cell_type": "markdown",
   "metadata": {},
   "source": [
    "## One Iteration Function"
   ]
  },
  {
   "cell_type": "markdown",
   "metadata": {},
   "source": [
    "### Set Up"
   ]
  },
  {
   "cell_type": "code",
   "execution_count": 4,
   "metadata": {},
   "outputs": [],
   "source": [
    "### Run Time ###\n",
    "StartTime = time.time()\n",
    "\n",
    "### Set Up ###\n",
    "random.seed(Seed)\n",
    "np.random.seed(Seed)\n",
    "ErrorVec = []\n",
    "SelectedObservationHistory = []"
   ]
  },
  {
   "cell_type": "markdown",
   "metadata": {},
   "source": [
    "### Load Data"
   ]
  },
  {
   "cell_type": "code",
   "execution_count": 5,
   "metadata": {},
   "outputs": [],
   "source": [
    "### Generate Data ###\n",
    "if(DataFileInput == \"Simulate\"):\n",
    "    from utils.Main import DataGeneratingProcess                             ### NOTE: Why is this not imported from utils.Main import *\n",
    "    df = DataGeneratingProcess(**DataArgs)\n",
    "else:\n",
    "    df = LoadData(DataFileInput)"
   ]
  },
  {
   "cell_type": "markdown",
   "metadata": {},
   "source": [
    "### Train Test Split"
   ]
  },
  {
   "cell_type": "code",
   "execution_count": 6,
   "metadata": {},
   "outputs": [],
   "source": [
    "### Train Test Candidate Split\n",
    "from utils.Main import TrainTestCandidateSplit                           ### NOTE: Why is this not imported from utils.Main import *\n",
    "df_Train, df_Test, df_Candidate = TrainTestCandidateSplit(df, TestProportion, CandidateProportion)"
   ]
  },
  {
   "cell_type": "code",
   "execution_count": 7,
   "metadata": {},
   "outputs": [],
   "source": [
    "### Model Arguments ###\n",
    "ModelArgs['df_Train'] = df_Train\n",
    "ModelArgsFiltered = FilterArguments(ModelType, ModelArgs)"
   ]
  },
  {
   "cell_type": "markdown",
   "metadata": {},
   "source": [
    "### Argument Processing"
   ]
  },
  {
   "cell_type": "code",
   "execution_count": 8,
   "metadata": {},
   "outputs": [],
   "source": [
    "### Selector Arguments ###\n",
    "SelectorArgs[\"df_Train\"] = df_Test\n",
    "SelectorArgs[\"df_Candidate\"] = df_Candidate\n",
    "SelectorArgs[\"Model\"] = \"\"\n",
    "SelectorArgsFiltered = FilterArguments(SelectorType, SelectorArgs)"
   ]
  },
  {
   "cell_type": "markdown",
   "metadata": {},
   "source": [
    "# Learning Process Function"
   ]
  },
  {
   "cell_type": "code",
   "execution_count": 9,
   "metadata": {},
   "outputs": [],
   "source": [
    "### Set Up ###\n",
    "ErrorVec = []\n",
    "SelectedObservationHistory = []\n",
    "ModelArgsFiltered = FilterArguments(ModelType, ModelArgs)\n",
    "SelectorArgsFiltered = FilterArguments(SelectorType, SelectorArgs)"
   ]
  },
  {
   "cell_type": "markdown",
   "metadata": {},
   "source": [
    "## Iteration"
   ]
  },
  {
   "cell_type": "code",
   "execution_count": 10,
   "metadata": {},
   "outputs": [],
   "source": [
    "i=0"
   ]
  },
  {
   "cell_type": "markdown",
   "metadata": {},
   "source": [
    "## Prediction Model"
   ]
  },
  {
   "cell_type": "code",
   "execution_count": 11,
   "metadata": {},
   "outputs": [
    {
     "name": "stdout",
     "output_type": "stream",
     "text": [
      "Iteration: 0\n",
      "null\n",
      "Finding Optimal Objective...\n",
      "treefarms reported successful execution{\n",
      "  \"false\": {\n",
      "    \"false\": {\n",
      "      \"complexity\": 0.009999999776482582,\n",
      "      \"loss\": 0.1556561142206192,\n",
      "      \"name\": \"Y\",\n",
      "      \"prediction\": 0\n",
      "    },\n",
      "    \"feature\": 2,\n",
      "    \"name\": \"age:<23\",\n",
      "    \"reference\": 1,\n",
      "    \"relation\": \"==\",\n",
      "    \"true\": {\n",
      "      \"complexity\": 0.009999999776482582,\n",
      "      \"loss\": 0.07963801175355911,\n",
      "      \"name\": \"Y\",\n",
      "      \"prediction\": 1\n",
      "    },\n",
      "    \"type\": \"integral\"\n",
      "  },\n",
      "  \"feature\": 11,\n",
      "  \"model_objective\": 0.375701367855072,\n",
      "  \"name\": \"priors:>3\",\n",
      "  \"reference\": 1,\n",
      "  \"relation\": \"==\",\n",
      "  \"true\": {\n",
      "    \"complexity\": 0.009999999776482582,\n",
      "    \"loss\": 0.11040724068880081,\n",
      "    \"name\": \"Y\",\n",
      "    \"prediction\": 1\n",
      "  },\n",
      "  \"type\": \"integral\"\n",
      "}\n",
      "{\n",
      "  \"false\": {\n",
      "    \"false\": {\n",
      "      \"complexity\": 0.009999999776482582,\n",
      "      \"loss\": 0.1556561142206192,\n",
      "      \"name\": \"Y\",\n",
      "      \"prediction\": 0\n",
      "    },\n",
      "    \"feature\": 11,\n",
      "    \"name\": \"priors:>3\",\n",
      "    \"reference\": 1,\n",
      "    \"relation\": \"==\",\n",
      "    \"true\": {\n",
      "      \"complexity\": 0.009999999776482582,\n",
      "      \"loss\": 0.1085972860455513,\n",
      "      \"name\": \"Y\",\n",
      "      \"prediction\": 1\n",
      "    },\n",
      "    \"type\": \"integral\"\n",
      "  },\n",
      "  \"feature\": 2,\n",
      "  \"model_objective\": 0.375701367855072,\n",
      "  \"name\": \"age:<23\",\n",
      "  \"reference\": 1,\n",
      "  \"relation\": \"==\",\n",
      "  \"true\": {\n",
      "    \"complexity\": 0.009999999776482582,\n",
      "    \"loss\": 0.08144796639680862,\n",
      "    \"name\": \"Y\",\n",
      "    \"prediction\": 1\n",
      "  },\n",
      "  \"type\": \"integral\"\n",
      "}\n",
      "\n",
      "training completed. Number of trees in the Rashomon set: 2246\n"
     ]
    }
   ],
   "source": [
    "### Prediction Model ###\n",
    "print(\"Iteration: \" + str(i))\n",
    "Model = ModelType(**ModelArgsFiltered)\n",
    "if \"Model\" in SelectorArgsFiltered.keys(): SelectorArgsFiltered['Model'] = Model            # NOTE: THIS IS NOT DYNAMIC\n"
   ]
  },
  {
   "cell_type": "markdown",
   "metadata": {},
   "source": [
    "## CurrentError"
   ]
  },
  {
   "cell_type": "code",
   "execution_count": 19,
   "metadata": {},
   "outputs": [],
   "source": [
    "### Current Error ###\n",
    "TestErrorVal = TestErrorFunction(Model, df_Test, ModelArgs[\"Type\"])\n",
    "if(len(TestErrorVal) > 1):\n",
    "    AllErrors = TestErrorVal                                                # Rashomon gives all errors of Rashomon\n",
    "    CurrentError = float(np.min(AllErrors))                                 # Extract the best one\n",
    "    SelectorArgsFiltered[\"AllErrors\"] = AllErrors                                   # Use AllErrors in RashomonQBC\n",
    "else: \n",
    "    CurrentError = TestErrorVal                                             # One output for non-Rashomon\n",
    "ErrorVec.append(CurrentError)"
   ]
  },
  {
   "cell_type": "markdown",
   "metadata": {},
   "source": [
    "## Sampling Procedure"
   ]
  },
  {
   "cell_type": "code",
   "execution_count": 20,
   "metadata": {},
   "outputs": [],
   "source": [
    "### Sampling Procedure ###\n",
    "QueryObservationIndex = SelectorType(**SelectorArgsFiltered)\n",
    "QueryObservation = df_Candidate.loc[[QueryObservationIndex]] # or should this be iloc\n",
    "SelectedObservationHistory.append(QueryObservationIndex)"
   ]
  },
  {
   "cell_type": "code",
   "execution_count": 21,
   "metadata": {},
   "outputs": [],
   "source": [
    "### Update Train and Candidate Sets ###\n",
    "df_Train = pd.concat([df_Train, QueryObservation])\n",
    "df_Candidate = df_Candidate.drop(QueryObservationIndex)"
   ]
  },
  {
   "cell_type": "code",
   "execution_count": 22,
   "metadata": {},
   "outputs": [],
   "source": [
    "### Update SelectorArgs and ModelArgs ###                                     # NOTE: THIS IS NOT DYNAMIC\n",
    "if \"df_Train\" in ModelArgsFiltered.keys(): ModelArgsFiltered['df_Train'] = df_Train\n",
    "if \"df_Train\" in SelectorArgsFiltered.keys(): SelectorArgsFiltered['df_Train'] = df_Train\n",
    "if \"df_Candidate\" in SelectorArgsFiltered.keys(): SelectorArgsFiltered['df_Candidate'] = df_Candidate     "
   ]
  },
  {
   "cell_type": "code",
   "execution_count": null,
   "metadata": {},
   "outputs": [],
   "source": []
  }
 ],
 "metadata": {
  "kernelspec": {
   "display_name": "rashomon-3.9",
   "language": "python",
   "name": "python3"
  },
  "language_info": {
   "codemirror_mode": {
    "name": "ipython",
    "version": 3
   },
   "file_extension": ".py",
   "mimetype": "text/x-python",
   "name": "python",
   "nbconvert_exporter": "python",
   "pygments_lexer": "ipython3",
   "version": "3.9.20"
  }
 },
 "nbformat": 4,
 "nbformat_minor": 4
}
