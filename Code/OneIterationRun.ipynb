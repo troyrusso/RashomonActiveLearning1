{
 "cells": [
  {
   "cell_type": "code",
   "execution_count": 1,
   "metadata": {},
   "outputs": [],
   "source": [
    "### Import Packages ###\n",
    "import os\n",
    "import ast\n",
    "import numpy as np\n",
    "import math as math\n",
    "import pandas as pd\n",
    "import random as random\n",
    "import matplotlib.pyplot as plt\n",
    "from scipy.spatial.distance import cdist\n",
    "\n",
    "### Local Packages ###\n",
    "from utils.Main import *\n",
    "from utils.Selector import *\n",
    "from utils.Auxiliary import *\n",
    "from utils.Prediction import *"
   ]
  },
  {
   "cell_type": "code",
   "execution_count": 2,
   "metadata": {},
   "outputs": [],
   "source": [
    "### Get Directory ###\n",
    "cwd = os.getcwd()\n",
    "ParentDirectory = os.path.abspath(os.path.join(cwd, \"..\"))\n",
    "\n",
    "### DataType ###\n",
    "DataTypeInput = \"COMPAS\""
   ]
  },
  {
   "cell_type": "markdown",
   "metadata": {},
   "source": [
    "# One Iteration"
   ]
  },
  {
   "cell_type": "markdown",
   "metadata": {},
   "source": [
    "## Inputs"
   ]
  },
  {
   "cell_type": "code",
   "execution_count": 3,
   "metadata": {},
   "outputs": [],
   "source": [
    "i=1\n",
    "DataFileInput = \"COMPAS\"\n",
    "TopCModels = 100\n",
    "Seed = 1\n",
    "TestProportion = 0.2\n",
    "CandidateProportion = 0.8\n",
    "SelectorType = \"RashomonQBCFunction\"\n",
    "ModelType = TreeFarmsFunction\n",
    "DataArgs = {}\n",
    "ModelArgs = {\"TopCModels\": TopCModels, \"config\" : {\"regularization\": 0.01, \"rashomon_bound_multiplier\": 0.03}, \"Type\":\"Classification\"}\n"
   ]
  },
  {
   "cell_type": "markdown",
   "metadata": {},
   "source": [
    "## One Iteration Function"
   ]
  },
  {
   "cell_type": "markdown",
   "metadata": {},
   "source": [
    "### Set Up"
   ]
  },
  {
   "cell_type": "code",
   "execution_count": 4,
   "metadata": {},
   "outputs": [],
   "source": [
    "### Run Time ###\n",
    "StartTime = time.time()\n",
    "\n",
    "### Set Up ###\n",
    "random.seed(Seed)\n",
    "np.random.seed(Seed)\n",
    "ErrorVec = []\n",
    "SelectedObservationHistory = []"
   ]
  },
  {
   "cell_type": "markdown",
   "metadata": {},
   "source": [
    "### Load Data"
   ]
  },
  {
   "cell_type": "code",
   "execution_count": 5,
   "metadata": {},
   "outputs": [],
   "source": [
    "from utils.Main import DataGeneratingProcess                             ### NOTE: Why is this not imported from utils.Main import *\n",
    "### Generate Data ###\n",
    "if(DataFileInput == \"Simulate\"):\n",
    "    df = DataGeneratingProcess(**DataArgs)\n",
    "else:\n",
    "    df = LoadData(DataFileInput)"
   ]
  },
  {
   "cell_type": "markdown",
   "metadata": {},
   "source": [
    "### Train Test Split"
   ]
  },
  {
   "cell_type": "code",
   "execution_count": 6,
   "metadata": {},
   "outputs": [],
   "source": [
    "### Train Test Candidate Split\n",
    "from utils.Main import TrainTestCandidateSplit                           ### NOTE: Why is this not imported from utils.Main import *\n",
    "df_Train, df_Test, df_Candidate = TrainTestCandidateSplit(df, TestProportion, CandidateProportion)"
   ]
  },
  {
   "cell_type": "markdown",
   "metadata": {},
   "source": [
    "### Argument Processing"
   ]
  },
  {
   "cell_type": "markdown",
   "metadata": {},
   "source": [
    "### Learning Process"
   ]
  },
  {
   "cell_type": "code",
   "execution_count": 7,
   "metadata": {},
   "outputs": [],
   "source": [
    "### Set Up ###\n",
    "ErrorVec = []\n",
    "SelectedObservationHistory = []\n"
   ]
  },
  {
   "cell_type": "code",
   "execution_count": 8,
   "metadata": {},
   "outputs": [],
   "source": [
    "i=1"
   ]
  },
  {
   "cell_type": "code",
   "execution_count": 9,
   "metadata": {},
   "outputs": [],
   "source": [
    "# SelectorArgs = {\"Model\" : Model, \"df_Candidate\" : df_Candidate, \"df_Train\" : df_Train, \"TopCModels\" : TopCModels},\n",
    "\n",
    "# ### Selector Arguments ###\n",
    "# SelectorArgs[\"df_Train\"] = df_Test\n",
    "# SelectorArgs[\"df_Candidate\"] = df_Candidate\n",
    "# SelectorArgs[\"Model\"] = ModelType\n",
    "# SelectorArgsFiltered = FilterArguments(SelectorType, SelectorArgs)\n"
   ]
  },
  {
   "cell_type": "code",
   "execution_count": 10,
   "metadata": {},
   "outputs": [],
   "source": [
    "### Model Arguments ###\n",
    "ModelArgs['df_Train'] = df_Train\n",
    "ModelArgsFiltered = FilterArguments(ModelType, ModelArgs)"
   ]
  },
  {
   "cell_type": "code",
   "execution_count": 11,
   "metadata": {},
   "outputs": [],
   "source": [
    "# Summary: Initializes and fits a treefarms model.\n",
    "# Input:\n",
    "#   df_Train: The training data.\n",
    "#   TopCModels: TopCModels top models\n",
    "#   config:\n",
    "# Output:\n",
    "# treeFarmsModel: A treefarms model.\n",
    "\n",
    "### Libraries ###\n",
    "from treeFarms.treefarms import TREEFARMS\n",
    "\n",
    "# import sys\n",
    "# sys.path.append('/Users/simondn/Documents/RashomonActiveLearning/Code')\n",
    "# from treeFarms.treefarms.model.threshold_guess import compute_thresholds\n",
    "# from utils.Prediction.TreeFARMS import <function_or_class_name>\n",
    "\n",
    "### Function ###\n",
    "def TreeFarmsFunction(df_Train, config, TopCModels):\n",
    "   ### Train TreeFarms Model ###\n",
    "    TreeFarmsModel = TREEFARMS(\"config\")\n",
    "    TreeFarmsModel.fit(df_Train.loc[:, df_Train.columns != \"Y\"], df_Train[\"Y\"])\n",
    "    \n",
    "    ### Return ###\n",
    "    return TreeFarmsModel\n",
    "\n",
    "\n",
    "# NOTE: Is there a way to prune the tree such that only the top models are given back? Look into this\n"
   ]
  },
  {
   "cell_type": "code",
   "execution_count": null,
   "metadata": {},
   "outputs": [
    {
     "ename": "",
     "evalue": "",
     "output_type": "error",
     "traceback": [
      "\u001b[1;31mThe Kernel crashed while executing code in the current cell or a previous cell. \n",
      "\u001b[1;31mPlease review the code in the cell(s) to identify a possible cause of the failure. \n",
      "\u001b[1;31mClick <a href='https://aka.ms/vscodeJupyterKernelCrash'>here</a> for more info. \n",
      "\u001b[1;31mView Jupyter <a href='command:jupyter.viewOutput'>log</a> for further details."
     ]
    }
   ],
   "source": [
    "TreeFarmsModel = TREEFARMS(\"config\")\n",
    "TreeFarmsModel.fit(df_Train.loc[:, df_Train.columns != \"Y\"], df_Train[\"Y\"])"
   ]
  },
  {
   "cell_type": "code",
   "execution_count": null,
   "metadata": {},
   "outputs": [
    {
     "ename": "",
     "evalue": "",
     "output_type": "error",
     "traceback": [
      "\u001b[1;31mThe Kernel crashed while executing code in the current cell or a previous cell. \n",
      "\u001b[1;31mPlease review the code in the cell(s) to identify a possible cause of the failure. \n",
      "\u001b[1;31mClick <a href='https://aka.ms/vscodeJupyterKernelCrash'>here</a> for more info. \n",
      "\u001b[1;31mView Jupyter <a href='command:jupyter.viewOutput'>log</a> for further details."
     ]
    }
   ],
   "source": [
    "TreeFarmsFunction(df_Train = df_Train, config = ModelArgs[\"config\"], TopCModels= ModelArgs[\"TopCModels\"])"
   ]
  },
  {
   "cell_type": "code",
   "execution_count": null,
   "metadata": {},
   "outputs": [
    {
     "ename": "",
     "evalue": "",
     "output_type": "error",
     "traceback": [
      "\u001b[1;31mThe Kernel crashed while executing code in the current cell or a previous cell. \n",
      "\u001b[1;31mPlease review the code in the cell(s) to identify a possible cause of the failure. \n",
      "\u001b[1;31mClick <a href='https://aka.ms/vscodeJupyterKernelCrash'>here</a> for more info. \n",
      "\u001b[1;31mView Jupyter <a href='command:jupyter.viewOutput'>log</a> for further details."
     ]
    }
   ],
   "source": [
    "TreeFarmsFunction(**ModelArgsFiltered)"
   ]
  },
  {
   "cell_type": "code",
   "execution_count": null,
   "metadata": {},
   "outputs": [],
   "source": [
    "### Prediction Model ###\n",
    "Model = ModelType(**ModelArgsFiltered)\n",
    "if \"Model\" in SelectorArgs.keys(): SelectorArgs['Model'] = Model            # NOTE: THIS IS NOT DYNAMIC"
   ]
  },
  {
   "cell_type": "code",
   "execution_count": 14,
   "metadata": {},
   "outputs": [],
   "source": [
    "### Current Error ###\n",
    "CurrentError = TestErrorFunction(Model, df_Test, ModelArgs)\n",
    "ErrorVec.append(CurrentError)"
   ]
  },
  {
   "cell_type": "code",
   "execution_count": null,
   "metadata": {},
   "outputs": [],
   "source": [
    "\n",
    "# RashomonQBCSelector #\n",
    "\n",
    "def RashomonQBCSelector(TreeFarmsModel, df_Candidate, df_Train, SelectorArgs):\n",
    "\n",
    "    # ### GSx ### Incorporate? Good for tie breakers.\n",
    "    # d_nmX = cdist(df_Candidate.loc[:,df_Candidate.columns!= \"Y\"], df_Train.loc[:,df_Train.columns!= \"Y\"], metric = distance)\n",
    "    # d_nX = d_nmX.min(axis=1)\n",
    "\n",
    "    ### Extract Errors ###\n",
    "    AllErrors = [TreeFarmsModel[i].score(df_Candidate.loc[:, df_Candidate.columns != \"Y\"], df_Candidate[\"Y\"]) for i in range(TreeFarmsModel.get_tree_count())]\n",
    "    HighestAccuracyIndices = np.argsort(AllErrors)[::-1][0:SelectorArgs[\"TopCModels\"]]\n",
    "\n",
    "    ### Prediction ###\n",
    "    PredictedValues = [TreeFarmsModel[i].predict(df_Candidate) for i in HighestAccuracyIndices]\n",
    "    RashomonMean = np.array(PredictedValues).mean(axis =0)\n",
    "\n",
    "    ### Uncertainty Metric ###\n",
    "    df_Candidate[\"UncertaintyMetric\"] = np.sort(abs(RashomonMean - 0.5))\n",
    "    IndexRecommendation = df_Candidate.sort_values(by = \"UncertaintyMetric\", ascending = True).index[0]\n",
    "\n",
    "    return(IndexRecommendation)\n",
    "\n"
   ]
  },
  {
   "cell_type": "code",
   "execution_count": 18,
   "metadata": {},
   "outputs": [
    {
     "data": {
      "text/plain": [
       "np.int64(4055)"
      ]
     },
     "execution_count": 18,
     "metadata": {},
     "output_type": "execute_result"
    }
   ],
   "source": [
    "RashomonQBCSelector(Model, df_Candidate, df_Train, SelectorArgs)"
   ]
  },
  {
   "cell_type": "code",
   "execution_count": null,
   "metadata": {},
   "outputs": [],
   "source": [
    "\n",
    "### Sampling Procedure ###\n",
    "QueryObservationIndex = SelectorType(**SelectorArgs)\n",
    "QueryObservation = df_Candidate.loc[[QueryObservationIndex]] # or should this be iloc\n",
    "SelectedObservationHistory.append(QueryObservationIndex)\n",
    "\n",
    "### Update Train and Candidate Sets ###\n",
    "df_Train = pd.concat([df_Train, QueryObservation])\n",
    "df_Candidate = df_Candidate.drop(QueryObservationIndex)\n",
    "\n",
    "### Update SelectorArgs and ModelArgs ###                                     # NOTE: THIS IS NOT DYNAMIC\n",
    "if \"df_Train\" in ModelArgs.keys(): ModelArgs['df_Train'] = df_Train\n",
    "if \"df_Train\" in SelectorArgs.keys(): SelectorArgs['df_Train'] = df_Train\n",
    "if \"df_Candidate\" in SelectorArgs.keys(): SelectorArgs['df_Candidate'] = df_Candidate      "
   ]
  },
  {
   "cell_type": "markdown",
   "metadata": {},
   "source": [
    "### Return"
   ]
  },
  {
   "cell_type": "code",
   "execution_count": null,
   "metadata": {},
   "outputs": [],
   "source": [
    "\n",
    "SimulationParameters = {\"DataFileInput\" : str(DataFileInput),\n",
    "                        \"Seed\" : str(Seed),\n",
    "                        \"TestProportion\" : str(TestProportion),\n",
    "                        \"CandidateProportion\" : str(CandidateProportion),\n",
    "                        \"SelectorType\" : str(SelectorType),\n",
    "                        \"ModelType\" : str(ModelType),\n",
    "                        \"DataArgs\" : str(DataArgs),\n",
    "                        # \"SelectorArgs\" : str(SelectorArgs),\n",
    "                        \"ModelArgs\" : str(ModelArgsFiltered.pop('df_Train', None))\n",
    "                        }\n",
    "\n",
    "ElapsedTime = time.time() - StartTime\n",
    "\n",
    "### Return Dictionary ###\n",
    "SimulationResults = {\"ErrorVec\" : pd.DataFrame(ErrorVec, columns =[\"Error\"]),\n",
    "                            \"SelectionHistory\" : pd.DataFrame(SelectedObservationHistory, columns = [\"ObservationID\"]),\n",
    "                            \"SimulationParameters\" : SimulationParameters,\n",
    "                            \"ElapsedTime\" : ElapsedTime}"
   ]
  },
  {
   "cell_type": "code",
   "execution_count": null,
   "metadata": {},
   "outputs": [],
   "source": []
  },
  {
   "cell_type": "code",
   "execution_count": null,
   "metadata": {},
   "outputs": [],
   "source": []
  }
 ],
 "metadata": {
  "kernelspec": {
   "display_name": "rashomon-3.9",
   "language": "python",
   "name": "python3"
  },
  "language_info": {
   "codemirror_mode": {
    "name": "ipython",
    "version": 3
   },
   "file_extension": ".py",
   "mimetype": "text/x-python",
   "name": "python",
   "nbconvert_exporter": "python",
   "pygments_lexer": "ipython3",
   "version": "3.9.20"
  }
 },
 "nbformat": 4,
 "nbformat_minor": 2
}
