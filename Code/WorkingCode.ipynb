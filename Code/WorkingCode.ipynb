{
 "cells": [
  {
   "cell_type": "code",
   "execution_count": 13,
   "metadata": {},
   "outputs": [],
   "source": [
    "### Import Packages ###\n",
    "import ast\n",
    "import numpy as np\n",
    "import math as math\n",
    "import pandas as pd\n",
    "import random as random\n",
    "import matplotlib.pyplot as plt\n",
    "from scipy.spatial.distance import cdist\n",
    "\n",
    "### Import functions ###\n",
    "from utils.Main import *\n",
    "from utils.Selector import *\n",
    "from utils.Auxiliary import *\n",
    "from utils.Prediction import *\n",
    "\n",
    "### Parameter Vector ###\n",
    "ParameterVector = pd.read_csv(\"/Users/simondn/Documents/RashomonActiveLearning/Data/raw/ParameterVectorSimulations.csv\")"
   ]
  },
  {
   "cell_type": "code",
   "execution_count": 27,
   "metadata": {},
   "outputs": [
    {
     "data": {
      "text/plain": [
       "Index(['Seed', 'Data', 'TestProportion', 'CandidateProportion', 'SelectorType',\n",
       "       'ModelType', 'DataArgs', 'SelectorArgs', 'ModelArgs', 'JobName',\n",
       "       'Output'],\n",
       "      dtype='object')"
      ]
     },
     "execution_count": 27,
     "metadata": {},
     "output_type": "execute_result"
    }
   ],
   "source": [
    "ParameterVector.columns"
   ]
  },
  {
   "cell_type": "code",
   "execution_count": 14,
   "metadata": {},
   "outputs": [
    {
     "name": "stdout",
     "output_type": "stream",
     "text": [
      "0\n",
      "1\n",
      "2\n",
      "3\n",
      "4\n",
      "5\n",
      "6\n",
      "7\n",
      "8\n",
      "9\n",
      "10\n",
      "11\n",
      "12\n",
      "13\n",
      "14\n",
      "15\n",
      "16\n",
      "17\n",
      "18\n",
      "19\n",
      "20\n",
      "21\n",
      "22\n",
      "23\n"
     ]
    }
   ],
   "source": [
    "### Set Up ###\n",
    "ErrorVecSimulation = []\n",
    "HistoryVecSimulation = []\n",
    "\n",
    "### Run Code ###\n",
    "for i in range(0,ParameterVector.shape[0]):\n",
    "    print(i)\n",
    "    ErrorVec, HistoryVec = OneIterationFunction(DataFileInput = ParameterVector.iloc[i][\"Data\"],\n",
    "                                                    Seed = ParameterVector.iloc[i][\"Seed\"],\n",
    "                                                    TestProportion = ParameterVector.iloc[i][\"TestProportion\"],\n",
    "                                                    CandidateProportion = ParameterVector.iloc[i][\"CandidateProportion\"],\n",
    "                                                    SelectorType = globals().get(ParameterVector.iloc[i][\"SelectorType\"], None), \n",
    "                                                    ModelType = globals().get(ParameterVector.iloc[i][\"ModelType\"], None), \n",
    "                                                    DataArgs = ast.literal_eval(ParameterVector.iloc[i][\"DataArgs\"]),\n",
    "                                                    SelectorArgs = ast.literal_eval(ParameterVector.iloc[i][\"SelectorArgs\"].replace(\"[\",\"\").replace(\"]\",\"\")),\n",
    "                                                    ModelArgs = ast.literal_eval(ParameterVector.iloc[i][\"ModelArgs\"])\n",
    "                                                    )\n",
    "    ErrorVecSimulation.append(ErrorVec)\n",
    "    HistoryVecSimulation.append(HistoryVec)"
   ]
  }
 ],
 "metadata": {
  "kernelspec": {
   "display_name": "Python 3",
   "language": "python",
   "name": "python3"
  },
  "language_info": {
   "codemirror_mode": {
    "name": "ipython",
    "version": 3
   },
   "file_extension": ".py",
   "mimetype": "text/x-python",
   "name": "python",
   "nbconvert_exporter": "python",
   "pygments_lexer": "ipython3",
   "version": "3.9.6"
  }
 },
 "nbformat": 4,
 "nbformat_minor": 2
}
