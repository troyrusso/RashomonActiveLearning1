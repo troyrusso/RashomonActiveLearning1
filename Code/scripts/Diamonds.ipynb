{
 "cells": [
  {
   "cell_type": "markdown",
   "metadata": {},
   "source": [
    "# Import Packages"
   ]
  },
  {
   "cell_type": "code",
   "execution_count": 1,
   "metadata": {},
   "outputs": [],
   "source": [
    "import numpy as np\n",
    "import math as math\n",
    "import pandas as pd\n",
    "import random as random\n",
    "import matplotlib.pyplot as plt\n",
    "import scikit_posthocs as sp\n",
    "from scipy.spatial.distance import cdist\n",
    "\n",
    "from sklearn import metrics\n",
    "import random"
   ]
  },
  {
   "cell_type": "markdown",
   "metadata": {},
   "source": [
    "# Import Functions"
   ]
  },
  {
   "cell_type": "code",
   "execution_count": 2,
   "metadata": {},
   "outputs": [],
   "source": [
    "import importlib.util\n",
    "import os\n",
    "\n",
    "def source_directory(directory_path):\n",
    "    for filename in os.listdir(directory_path):\n",
    "        if filename.endswith(\".py\"):\n",
    "            # Define the module name and path\n",
    "            module_name = filename[:-3]  # Remove the .py extension\n",
    "            module_path = os.path.join(directory_path, filename)\n",
    "            \n",
    "            # Dynamically load the module\n",
    "            spec = importlib.util.spec_from_file_location(module_name, module_path)\n",
    "            module = importlib.util.module_from_spec(spec)\n",
    "            spec.loader.exec_module(module)\n",
    "            \n",
    "            # Inject all functions and variables into the global namespace\n",
    "            globals().update({name: getattr(module, name) for name in dir(module) if not name.startswith(\"__\")})\n",
    "\n",
    "# Example usage\n",
    "source_directory(\"../functions\")\n"
   ]
  },
  {
   "cell_type": "code",
   "execution_count": 3,
   "metadata": {},
   "outputs": [],
   "source": [
    "source_directory(\"/Users/simondn/Documents/RashomonActiveLearning/Code/functions/Main\")\n",
    "source_directory(\"/Users/simondn/Documents/RashomonActiveLearning/Code/functions/Prediction\")\n",
    "source_directory(\"/Users/simondn/Documents/RashomonActiveLearning/Code/functions/Selector\")"
   ]
  },
  {
   "cell_type": "code",
   "execution_count": 4,
   "metadata": {},
   "outputs": [],
   "source": [
    "def RunLearningProcedure(df_Train, df_Test, df_Candidate, \n",
    "                         SelectorType, selector_args,\n",
    "                         ModelType, model_args):\n",
    "\n",
    "    ### Set Up ###\n",
    "    ErrorVec = []\n",
    "    SelectedObservationHistory = []\n",
    "\n",
    "    ### Algorithm\n",
    "    for i in range(0, len(df_Candidate)):\n",
    "\n",
    "        ### Prediction Model ###\n",
    "        Model = ModelType(**model_args)\n",
    "        if \"Model\" in selector_args.keys(): selector_args['Model'] = Model            # NOTE: THIS IS NOT DYNAMIC\n",
    "\n",
    "        CurrentError = TestErrorFunction(Model, df_Test)\n",
    "        ErrorVec.append(CurrentError)\n",
    "\n",
    "        ### Sampling Procedure ###\n",
    "        QueryObservationIndex = SelectorType(**selector_args)\n",
    "        QueryObservation = df_Candidate.loc[[QueryObservationIndex]] # or should this be iloc\n",
    "        SelectedObservationHistory.append(QueryObservationIndex)\n",
    "\n",
    "        # print(\"Iteration: \", i, \"| QueryIndex: \", QueryObservationIndex, \"| Inclusion: \", QueryObservationIndex in df_Candidate.index)\n",
    "        # print(df_Train)\n",
    "        # print(df_Candidate)\n",
    "        # print(\"---\")\n",
    "        \n",
    "        ### Update Train and Candidate Sets ###\n",
    "        df_Train = pd.concat([df_Train, QueryObservation])\n",
    "        df_Candidate = df_Candidate.drop(QueryObservationIndex)\n",
    "\n",
    "        ### Update selector_args and model_args ###                                     # NOTE: THIS IS NOT DYNAMIC\n",
    "        if \"df_Train\" in model_args.keys(): model_args['df_Train'] = df_Train\n",
    "        if \"df_Train\" in selector_args.keys(): selector_args['df_Train'] = df_Train\n",
    "        if \"df_Candidate\" in selector_args.keys(): selector_args['df_Candidate'] = df_Candidate            \n",
    "\n",
    "    return ErrorVec, SelectedObservationHistory"
   ]
  },
  {
   "cell_type": "markdown",
   "metadata": {},
   "source": [
    "# Data "
   ]
  },
  {
   "cell_type": "code",
   "execution_count": 5,
   "metadata": {},
   "outputs": [],
   "source": [
    "### Import ###\n",
    "from plotnine.data import diamonds\n",
    "df = diamonds.copy()\n",
    "df.rename(columns={'price': 'Y'}, inplace=True)\n",
    "\n",
    "### Ordinal Variable ###\n",
    "# CutMapper = {1:\"Fair\", 2:\"Good\", 3:\"Very Good\", 4:\"Premiu \", 5:\"Ideal\"}\n",
    "# ColorMapper = {1:\"J\", 2:\"I\", 3:\"H\", 4:\"G\", 5:\"F\", 6:\"E\", 7:\"D\"}\n",
    "# ClarityMapper = {1:\"I1\", 2:\"SI1\", 3:\"SI2\", 4:\"VS1\", 5:\"VS2\", 6:\"VVS1\", 7:\"VVS2\", 8:\"IF\"}\n",
    "# df[\"cut\"] = df[\"cut\"].replace(CutMapper)\n",
    "# df[\"color\"] = df[\"color\"].replace(ColorMapper)\n",
    "# df[\"clarity\"] = df[\"clarity\"].replace(ClarityMapper)\n",
    "\n",
    "## Order ##\n",
    "CutOrder = ['Fair', 'Good', 'Very Good', 'Premium', 'Ideal']\n",
    "ColorOrder = ['J', 'I', 'H', 'G', 'F', 'E', 'D']\n",
    "ClarityOrder = [\"I1\", \"SI1\", \"SI2\", \"VS1\", \"VS2\", \"VVS1\", \"VVS2\", \"IF\"]\n",
    "\n",
    "## Reassign ##\n",
    "df['cut'] = pd.Categorical(df['cut'], categories=CutOrder, ordered=True)\n",
    "df['color'] = pd.Categorical(df['color'], categories=ColorOrder, ordered=True)\n",
    "df['clarity'] = pd.Categorical(df['clarity'], categories=ClarityOrder, ordered=True)\n",
    "\n",
    "# Numbering ##\n",
    "df['cut'] = df['cut'].cat.codes\n",
    "df['color'] = df['color'].cat.codes\n",
    "df['clarity'] = df['clarity'].cat.codes"
   ]
  },
  {
   "cell_type": "markdown",
   "metadata": {},
   "source": [
    "# Simulation"
   ]
  },
  {
   "cell_type": "markdown",
   "metadata": {},
   "source": [
    "## Set Up"
   ]
  },
  {
   "cell_type": "code",
   "execution_count": 6,
   "metadata": {},
   "outputs": [],
   "source": [
    "### Input ###\n",
    "SimulationN = 50\n",
    "TestProportion = 0.2\n",
    "CandidateProportion = 0.8\n",
    "alpha = 0.01\n",
    "\n",
    "### Set Up ###\n",
    "SimulationErrorResultsPassive = []\n",
    "SimulationErrorResultsGSx = []\n",
    "SimulationErrorResultsGSy_Test = []\n",
    "SimulationErrorResultsGSy = []\n",
    "SimulationErrorResultsiGS = []\n",
    "SimulationErrorResultsiGS_Test = []"
   ]
  },
  {
   "cell_type": "markdown",
   "metadata": {},
   "source": [
    "## Simulation"
   ]
  },
  {
   "cell_type": "code",
   "execution_count": 7,
   "metadata": {},
   "outputs": [
    {
     "name": "stdout",
     "output_type": "stream",
     "text": [
      "Simulation iter:  0\n"
     ]
    },
    {
     "ename": "KeyboardInterrupt",
     "evalue": "",
     "output_type": "error",
     "traceback": [
      "\u001b[0;31m---------------------------------------------------------------------------\u001b[0m",
      "\u001b[0;31mKeyboardInterrupt\u001b[0m                         Traceback (most recent call last)",
      "Cell \u001b[0;32mIn[7], line 29\u001b[0m\n\u001b[1;32m     19\u001b[0m ErrorVecPassive, SelectedObservationHistoryPassive \u001b[38;5;241m=\u001b[39m RunLearningProcedure(df_Train \u001b[38;5;241m=\u001b[39m df_Train, \n\u001b[1;32m     20\u001b[0m                  df_Test \u001b[38;5;241m=\u001b[39m df_Test, \n\u001b[1;32m     21\u001b[0m                  df_Candidate \u001b[38;5;241m=\u001b[39m df_Candidate, \n\u001b[0;32m   (...)\u001b[0m\n\u001b[1;32m     25\u001b[0m                  model_args \u001b[38;5;241m=\u001b[39m {\u001b[38;5;124m'\u001b[39m\u001b[38;5;124mdf_Train\u001b[39m\u001b[38;5;124m'\u001b[39m : df_Train}\n\u001b[1;32m     26\u001b[0m                  )\n\u001b[1;32m     28\u001b[0m \u001b[38;5;66;03m## GSx ##\u001b[39;00m\n\u001b[0;32m---> 29\u001b[0m ErrorVecGSx, SelectedObservationHistoryGSx \u001b[38;5;241m=\u001b[39m \u001b[43mRunLearningProcedure\u001b[49m\u001b[43m(\u001b[49m\u001b[43mdf_Train\u001b[49m\u001b[43m \u001b[49m\u001b[38;5;241;43m=\u001b[39;49m\u001b[43m \u001b[49m\u001b[43mdf_Train\u001b[49m\u001b[43m,\u001b[49m\u001b[43m \u001b[49m\n\u001b[1;32m     30\u001b[0m \u001b[43m                 \u001b[49m\u001b[43mdf_Test\u001b[49m\u001b[43m \u001b[49m\u001b[38;5;241;43m=\u001b[39;49m\u001b[43m \u001b[49m\u001b[43mdf_Test\u001b[49m\u001b[43m,\u001b[49m\u001b[43m \u001b[49m\n\u001b[1;32m     31\u001b[0m \u001b[43m                 \u001b[49m\u001b[43mdf_Candidate\u001b[49m\u001b[43m \u001b[49m\u001b[38;5;241;43m=\u001b[39;49m\u001b[43m \u001b[49m\u001b[43mdf_Candidate\u001b[49m\u001b[43m,\u001b[49m\u001b[43m \u001b[49m\n\u001b[1;32m     32\u001b[0m \u001b[43m                 \u001b[49m\u001b[43mSelectorType\u001b[49m\u001b[43m \u001b[49m\u001b[38;5;241;43m=\u001b[39;49m\u001b[43m \u001b[49m\u001b[43mGSxFunction\u001b[49m\u001b[43m,\u001b[49m\u001b[43m \u001b[49m\n\u001b[1;32m     33\u001b[0m \u001b[43m                 \u001b[49m\u001b[43mselector_args\u001b[49m\u001b[43m \u001b[49m\u001b[38;5;241;43m=\u001b[39;49m\u001b[43m \u001b[49m\u001b[43m{\u001b[49m\u001b[38;5;124;43m'\u001b[39;49m\u001b[38;5;124;43mdf_Train\u001b[39;49m\u001b[38;5;124;43m'\u001b[39;49m\u001b[43m \u001b[49m\u001b[43m:\u001b[49m\u001b[43m \u001b[49m\u001b[43mdf_Train\u001b[49m\u001b[43m,\u001b[49m\n\u001b[1;32m     34\u001b[0m \u001b[43m                                  \u001b[49m\u001b[38;5;124;43m'\u001b[39;49m\u001b[38;5;124;43mdf_Candidate\u001b[39;49m\u001b[38;5;124;43m'\u001b[39;49m\u001b[43m \u001b[49m\u001b[43m:\u001b[49m\u001b[43m \u001b[49m\u001b[43mdf_Candidate\u001b[49m\u001b[43m,\u001b[49m\n\u001b[1;32m     35\u001b[0m \u001b[43m                                  \u001b[49m\u001b[38;5;124;43m'\u001b[39;49m\u001b[38;5;124;43mdistance\u001b[39;49m\u001b[38;5;124;43m'\u001b[39;49m\u001b[43m \u001b[49m\u001b[43m:\u001b[49m\u001b[43m \u001b[49m\u001b[38;5;124;43m'\u001b[39;49m\u001b[38;5;124;43meuclidean\u001b[39;49m\u001b[38;5;124;43m'\u001b[39;49m\u001b[43m}\u001b[49m\u001b[43m,\u001b[49m\n\u001b[1;32m     36\u001b[0m \u001b[43m                 \u001b[49m\u001b[43mModelType\u001b[49m\u001b[43m \u001b[49m\u001b[38;5;241;43m=\u001b[39;49m\u001b[43m \u001b[49m\u001b[43mLinearRegressionFunction\u001b[49m\u001b[43m,\u001b[49m\u001b[43m \u001b[49m\n\u001b[1;32m     37\u001b[0m \u001b[43m                 \u001b[49m\u001b[43mmodel_args\u001b[49m\u001b[43m \u001b[49m\u001b[38;5;241;43m=\u001b[39;49m\u001b[43m \u001b[49m\u001b[43m{\u001b[49m\u001b[38;5;124;43m'\u001b[39;49m\u001b[38;5;124;43mdf_Train\u001b[39;49m\u001b[38;5;124;43m'\u001b[39;49m\u001b[43m \u001b[49m\u001b[43m:\u001b[49m\u001b[43m \u001b[49m\u001b[43mdf_Train\u001b[49m\u001b[43m}\u001b[49m\n\u001b[1;32m     38\u001b[0m \u001b[43m                 \u001b[49m\u001b[43m)\u001b[49m\n\u001b[1;32m     40\u001b[0m \u001b[38;5;66;03m## GSy - Training ##\u001b[39;00m\n\u001b[1;32m     41\u001b[0m ErrorVecGSy, SelectedObservationHistoryGSy \u001b[38;5;241m=\u001b[39m RunLearningProcedure(df_Train \u001b[38;5;241m=\u001b[39m df_Train, \n\u001b[1;32m     42\u001b[0m                  df_Test \u001b[38;5;241m=\u001b[39m df_Test, \n\u001b[1;32m     43\u001b[0m                  df_Candidate \u001b[38;5;241m=\u001b[39m df_Candidate, \n\u001b[0;32m   (...)\u001b[0m\n\u001b[1;32m     50\u001b[0m                  model_args \u001b[38;5;241m=\u001b[39m {\u001b[38;5;124m'\u001b[39m\u001b[38;5;124mdf_Train\u001b[39m\u001b[38;5;124m'\u001b[39m : df_Train}\n\u001b[1;32m     51\u001b[0m                  )\n",
      "Cell \u001b[0;32mIn[4], line 20\u001b[0m, in \u001b[0;36mRunLearningProcedure\u001b[0;34m(df_Train, df_Test, df_Candidate, SelectorType, selector_args, ModelType, model_args)\u001b[0m\n\u001b[1;32m     17\u001b[0m ErrorVec\u001b[38;5;241m.\u001b[39mappend(CurrentError)\n\u001b[1;32m     19\u001b[0m \u001b[38;5;66;03m### Sampling Procedure ###\u001b[39;00m\n\u001b[0;32m---> 20\u001b[0m QueryObservationIndex \u001b[38;5;241m=\u001b[39m \u001b[43mSelectorType\u001b[49m\u001b[43m(\u001b[49m\u001b[38;5;241;43m*\u001b[39;49m\u001b[38;5;241;43m*\u001b[39;49m\u001b[43mselector_args\u001b[49m\u001b[43m)\u001b[49m\n\u001b[1;32m     21\u001b[0m QueryObservation \u001b[38;5;241m=\u001b[39m df_Candidate\u001b[38;5;241m.\u001b[39mloc[[QueryObservationIndex]] \u001b[38;5;66;03m# or should this be iloc\u001b[39;00m\n\u001b[1;32m     22\u001b[0m SelectedObservationHistory\u001b[38;5;241m.\u001b[39mappend(QueryObservationIndex)\n",
      "File \u001b[0;32m~/Documents/RashomonActiveLearning/Code/functions/Selector/GreedySampling.py:10\u001b[0m, in \u001b[0;36mGSxFunction\u001b[0;34m(df_Train, df_Candidate, distance)\u001b[0m\n\u001b[1;32m      7\u001b[0m \u001b[38;5;28;01mdef\u001b[39;00m \u001b[38;5;21mGSxFunction\u001b[39m(df_Train, df_Candidate, distance \u001b[38;5;241m=\u001b[39m \u001b[38;5;124m\"\u001b[39m\u001b[38;5;124meuclidean\u001b[39m\u001b[38;5;124m\"\u001b[39m):\n\u001b[1;32m      8\u001b[0m \n\u001b[1;32m      9\u001b[0m     \u001b[38;5;66;03m### Calculate n*m distance from df_Candidate_n to df_Train_m\u001b[39;00m\n\u001b[0;32m---> 10\u001b[0m     d_nmX \u001b[38;5;241m=\u001b[39m \u001b[43mcdist\u001b[49m\u001b[43m(\u001b[49m\u001b[43mdf_Candidate\u001b[49m\u001b[38;5;241;43m.\u001b[39;49m\u001b[43mloc\u001b[49m\u001b[43m[\u001b[49m\u001b[43m:\u001b[49m\u001b[43m,\u001b[49m\u001b[43mdf_Candidate\u001b[49m\u001b[38;5;241;43m.\u001b[39;49m\u001b[43mcolumns\u001b[49m\u001b[38;5;241;43m!=\u001b[39;49m\u001b[43m \u001b[49m\u001b[38;5;124;43m\"\u001b[39;49m\u001b[38;5;124;43mY\u001b[39;49m\u001b[38;5;124;43m\"\u001b[39;49m\u001b[43m]\u001b[49m\u001b[43m,\u001b[49m\u001b[43m \u001b[49m\u001b[43mdf_Train\u001b[49m\u001b[38;5;241;43m.\u001b[39;49m\u001b[43mloc\u001b[49m\u001b[43m[\u001b[49m\u001b[43m:\u001b[49m\u001b[43m,\u001b[49m\u001b[43mdf_Train\u001b[49m\u001b[38;5;241;43m.\u001b[39;49m\u001b[43mcolumns\u001b[49m\u001b[38;5;241;43m!=\u001b[39;49m\u001b[43m \u001b[49m\u001b[38;5;124;43m\"\u001b[39;49m\u001b[38;5;124;43mY\u001b[39;49m\u001b[38;5;124;43m\"\u001b[39;49m\u001b[43m]\u001b[49m\u001b[43m,\u001b[49m\u001b[43m \u001b[49m\u001b[43mmetric\u001b[49m\u001b[43m \u001b[49m\u001b[38;5;241;43m=\u001b[39;49m\u001b[43m \u001b[49m\u001b[43mdistance\u001b[49m\u001b[43m)\u001b[49m\n\u001b[1;32m     12\u001b[0m     \u001b[38;5;66;03m### Find the nearest neighbor for each of the n observation in df_Train_n ###\u001b[39;00m\n\u001b[1;32m     13\u001b[0m     d_nX \u001b[38;5;241m=\u001b[39m d_nmX\u001b[38;5;241m.\u001b[39mmin(axis\u001b[38;5;241m=\u001b[39m\u001b[38;5;241m1\u001b[39m)\n",
      "File \u001b[0;32m~/Library/Python/3.9/lib/python/site-packages/scipy/spatial/distance.py:2980\u001b[0m, in \u001b[0;36mcdist\u001b[0;34m(XA, XB, metric, out, **kwargs)\u001b[0m\n\u001b[1;32m   2978\u001b[0m \u001b[38;5;28;01mif\u001b[39;00m metric_info \u001b[38;5;129;01mis\u001b[39;00m \u001b[38;5;129;01mnot\u001b[39;00m \u001b[38;5;28;01mNone\u001b[39;00m:\n\u001b[1;32m   2979\u001b[0m     cdist_fn \u001b[38;5;241m=\u001b[39m metric_info\u001b[38;5;241m.\u001b[39mcdist_func\n\u001b[0;32m-> 2980\u001b[0m     \u001b[38;5;28;01mreturn\u001b[39;00m \u001b[43mcdist_fn\u001b[49m\u001b[43m(\u001b[49m\u001b[43mXA\u001b[49m\u001b[43m,\u001b[49m\u001b[43m \u001b[49m\u001b[43mXB\u001b[49m\u001b[43m,\u001b[49m\u001b[43m \u001b[49m\u001b[43mout\u001b[49m\u001b[38;5;241;43m=\u001b[39;49m\u001b[43mout\u001b[49m\u001b[43m,\u001b[49m\u001b[43m \u001b[49m\u001b[38;5;241;43m*\u001b[39;49m\u001b[38;5;241;43m*\u001b[39;49m\u001b[43mkwargs\u001b[49m\u001b[43m)\u001b[49m\n\u001b[1;32m   2981\u001b[0m \u001b[38;5;28;01melif\u001b[39;00m mstr\u001b[38;5;241m.\u001b[39mstartswith(\u001b[38;5;124m\"\u001b[39m\u001b[38;5;124mtest_\u001b[39m\u001b[38;5;124m\"\u001b[39m):\n\u001b[1;32m   2982\u001b[0m     metric_info \u001b[38;5;241m=\u001b[39m _TEST_METRICS\u001b[38;5;241m.\u001b[39mget(mstr, \u001b[38;5;28;01mNone\u001b[39;00m)\n",
      "\u001b[0;31mKeyboardInterrupt\u001b[0m: "
     ]
    }
   ],
   "source": [
    "for seed in range(0,SimulationN):\n",
    "\n",
    "    print(\"Simulation iter: \", seed)\n",
    "\n",
    "    ### Set Seed ###\n",
    "    random.seed(seed)\n",
    "    np.random.seed(seed)\n",
    "\n",
    "    ### Set Up ###\n",
    "    ErrorVec = []\n",
    "    SelectedObservationHistory = []\n",
    "\n",
    "    ### Train Test Candidate Split ###\n",
    "    df_Train, df_Test, df_Candidate = TrainTestCandidateSplit(df, TestProportion, CandidateProportion)\n",
    "\n",
    "    ### Learning Algorithm ###\n",
    "\n",
    "    ## Passive ##\n",
    "    ErrorVecPassive, SelectedObservationHistoryPassive = RunLearningProcedure(df_Train = df_Train, \n",
    "                     df_Test = df_Test, \n",
    "                     df_Candidate = df_Candidate, \n",
    "                     SelectorType = PassiveLearning, \n",
    "                     selector_args = {'df_Candidate' : df_Candidate},\n",
    "                     ModelType = LinearRegressionFunction, \n",
    "                     model_args = {'df_Train' : df_Train}\n",
    "                     )\n",
    "    \n",
    "    ## GSx ##\n",
    "    ErrorVecGSx, SelectedObservationHistoryGSx = RunLearningProcedure(df_Train = df_Train, \n",
    "                     df_Test = df_Test, \n",
    "                     df_Candidate = df_Candidate, \n",
    "                     SelectorType = GSxFunction, \n",
    "                     selector_args = {'df_Train' : df_Train,\n",
    "                                      'df_Candidate' : df_Candidate,\n",
    "                                      'distance' : 'euclidean'},\n",
    "                     ModelType = LinearRegressionFunction, \n",
    "                     model_args = {'df_Train' : df_Train}\n",
    "                     )\n",
    "    \n",
    "    ## GSy - Training ##\n",
    "    ErrorVecGSy, SelectedObservationHistoryGSy = RunLearningProcedure(df_Train = df_Train, \n",
    "                     df_Test = df_Test, \n",
    "                     df_Candidate = df_Candidate, \n",
    "                     SelectorType = GSyFunction, \n",
    "                     selector_args = {'df_Train' : df_Train,                  #  NOTE: or should this be df_Test\n",
    "                                      'df_Candidate' : df_Candidate,\n",
    "                                      'Model': None,\n",
    "                                      'distance' : 'euclidean'},\n",
    "                     ModelType = LinearRegressionFunction, \n",
    "                     model_args = {'df_Train' : df_Train}\n",
    "                     )\n",
    "    \n",
    "    ## iGS ##\n",
    "    ErrorVeciGS, SelectedObservationHistoryiGS = RunLearningProcedure(df_Train = df_Train, \n",
    "                     df_Test = df_Test, \n",
    "                     df_Candidate = df_Candidate, \n",
    "                     SelectorType = iGSFunction, \n",
    "                     selector_args = {'df_Train' : df_Train,                  #  NOTE: or should this be df_Test\n",
    "                                      'df_Candidate' : df_Candidate,\n",
    "                                      'Model': None,\n",
    "                                      'distance' : 'euclidean'},\n",
    "                     ModelType = LinearRegressionFunction, \n",
    "                     model_args = {'df_Train' : df_Train}\n",
    "                     )\n",
    "\n",
    "    ## GSy - Test ##\n",
    "    ErrorVecGSy_Test, SelectedObservationHistoryGSy_Test = RunLearningProcedure(df_Train = df_Train, \n",
    "                     df_Test = df_Test, \n",
    "                     df_Candidate = df_Candidate, \n",
    "                     SelectorType = GSyFunction, \n",
    "                     selector_args = {'df_Train' : df_Test,                  #  NOTE: or should this be df_Test\n",
    "                                      'df_Candidate' : df_Candidate,\n",
    "                                      'Model': None,\n",
    "                                      'distance' : 'euclidean'},\n",
    "                     ModelType = LinearRegressionFunction, \n",
    "                     model_args = {'df_Train' : df_Train}\n",
    "                     )\n",
    "    \n",
    "    ## iGS - Test ##\n",
    "    ErrorVeciGS_Test, SelectedObservationHistoryiGS_Test = RunLearningProcedure(df_Train = df_Train, \n",
    "                     df_Test = df_Test, \n",
    "                     df_Candidate = df_Candidate, \n",
    "                     SelectorType = iGSFunction, \n",
    "                     selector_args = {'df_Train' : df_Test,                  #  NOTE: or should this be df_Test\n",
    "                                      'df_Candidate' : df_Candidate,\n",
    "                                      'Model': None,\n",
    "                                      'distance' : 'euclidean'},\n",
    "                     ModelType = LinearRegressionFunction, \n",
    "                     model_args = {'df_Train' : df_Train}\n",
    "                     )\n",
    "    \n",
    "    ### Save ###\n",
    "    SimulationErrorResultsPassive.append(ErrorVecPassive)\n",
    "    SimulationErrorResultsGSx.append(ErrorVecGSx)\n",
    "    SimulationErrorResultsGSy.append(ErrorVecGSy)\n",
    "    SimulationErrorResultsGSy_Test.append(ErrorVecGSy_Test)\n",
    "    SimulationErrorResultsiGS.append(ErrorVeciGS)\n",
    "    SimulationErrorResultsiGS_Test.append(ErrorVeciGS_Test)\n"
   ]
  },
  {
   "cell_type": "code",
   "execution_count": null,
   "metadata": {},
   "outputs": [],
   "source": [
    "np.savetxt(\"/Users/simondn/Documents/RashomonActiveLearning/Results/Diamonds_Linear_Passive.csv\", \n",
    "              SimulationErrorResultsPassive, \n",
    "              delimiter=\",\")\n",
    "np.savetxt(\"/Users/simondn/Documents/RashomonActiveLearning/Results/Diamonds_Linear_GSx.csv\", \n",
    "              SimulationErrorResultsGSx, \n",
    "              delimiter=\",\")\n",
    "np.savetxt(\"/Users/simondn/Documents/RashomonActiveLearning/Results/Diamonds_Linear_GSy.csv\", \n",
    "              SimulationErrorResultsGSy,\n",
    "              delimiter=\",\")\n",
    "np.savetxt(\"/Users/simondn/Documents/RashomonActiveLearning/Results/Diamonds_Linear_iGS.csv\", \n",
    "              SimulationErrorResultsiGS, \n",
    "              delimiter=\",\")\n",
    "np.savetxt(\"/Users/simondn/Documents/RashomonActiveLearning/Results/Diamonds_Linear_GSy_Test.csv\", \n",
    "              SimulationErrorResultsGSy_Test, \n",
    "              delimiter=\",\")\n",
    "np.savetxt(\"/Users/simondn/Documents/RashomonActiveLearning/Results/Diamonds_Linear_iGS_Test.csv\", \n",
    "              SimulationErrorResultsiGS_Test, \n",
    "              delimiter=\",\")"
   ]
  },
  {
   "cell_type": "markdown",
   "metadata": {},
   "source": [
    "# Plots"
   ]
  },
  {
   "cell_type": "code",
   "execution_count": null,
   "metadata": {},
   "outputs": [],
   "source": [
    "### Means ###\n",
    "SimulationMean_Passive = np.mean(SimulationErrorResultsPassive, axis =0)\n",
    "SimulationMean_GSx = np.mean(SimulationErrorResultsGSx, axis =0)\n",
    "SimulationMean_GSy = np.mean(SimulationErrorResultsGSy, axis =0)\n",
    "SimulationMean_iGS = np.mean(SimulationErrorResultsiGS, axis =0)\n",
    "SimulationMean_GSy_Test = np.mean(SimulationErrorResultsGSy_Test, axis =0)\n",
    "SimulationMean_iGS_Test = np.mean(SimulationErrorResultsiGS_Test, axis =0)\n",
    "\n",
    "### Standard Errors ###\n",
    "SimulationStd_Passive = np.std(SimulationErrorResultsPassive, axis=0) / np.sqrt(len(SimulationErrorResultsPassive))\n",
    "SimulationStd_GSx = np.std(SimulationErrorResultsGSx, axis=0) / np.sqrt(len(SimulationErrorResultsGSx))\n",
    "SimulationStd_GSy = np.std(SimulationErrorResultsGSy, axis=0) / np.sqrt(len(SimulationErrorResultsGSy))\n",
    "SimulationStd_iGS = np.std(SimulationErrorResultsiGS, axis=0) / np.sqrt(len(SimulationErrorResultsiGS))\n",
    "SimulationStd_GS_Test = np.std(SimulationErrorResultsGSy_Test, axis=0) / np.sqrt(len(SimulationErrorResultsGSy_Test))\n",
    "SimulationStd_iGS_Test = np.std(SimulationErrorResultsiGS_Test, axis=0) / np.sqrt(len(SimulationErrorResultsiGS_Test))"
   ]
  },
  {
   "cell_type": "code",
   "execution_count": null,
   "metadata": {},
   "outputs": [
    {
     "data": {
      "image/png": "[encoded data removed]",
      "text/plain": [
       "<Figure size 640x480 with 1 Axes>"
      ]
     },
     "metadata": {},
     "output_type": "display_data"
    }
   ],
   "source": [
    "### Plots ###\n",
    "# Define the x-axis points\n",
    "ZScore = 1.65\n",
    "TransparencyVal = 0\n",
    "XValues = range(len(SimulationMean_Passive))\n",
    "\n",
    "# Plot each mean line with confidence bands\n",
    "plt.plot(XValues, SimulationMean_Passive, label=\"Passive\")\n",
    "plt.fill_between(XValues,\n",
    "                 SimulationMean_Passive - ZScore * SimulationStd_Passive,\n",
    "                 SimulationMean_Passive + ZScore * SimulationStd_Passive,\n",
    "                 color='blue', alpha = TransparencyVal)\n",
    "\n",
    "plt.plot(XValues, SimulationMean_GSx, label=\"GSx\")\n",
    "plt.fill_between(XValues,\n",
    "                 SimulationMean_GSx - ZScore * SimulationStd_GSx,\n",
    "                 SimulationMean_GSx + ZScore * SimulationStd_GSx,\n",
    "                 color='orange', alpha = TransparencyVal)\n",
    "\n",
    "plt.plot(XValues, SimulationMean_GSy, label=\"GSy\")\n",
    "plt.fill_between(XValues,\n",
    "                 SimulationMean_GSy - ZScore * SimulationStd_GSy,\n",
    "                 SimulationMean_GSy + ZScore * SimulationStd_GSy,\n",
    "                 color='green', alpha = TransparencyVal)\n",
    "\n",
    "plt.plot(XValues, SimulationMean_iGS, label=\"iGS\")\n",
    "plt.fill_between(XValues,\n",
    "                 SimulationMean_iGS - ZScore * SimulationStd_iGS,\n",
    "                 SimulationMean_iGS + ZScore * SimulationStd_iGS,\n",
    "                 color='red', alpha = TransparencyVal)\n",
    "\n",
    "# Add legend and labels\n",
    "plt.legend()\n",
    "plt.xlabel(\"Observation\")\n",
    "plt.ylabel(\"Error\")\n",
    "plt.title(\"Active Learning Methods with 95% Confidence Bands\")\n",
    "plt.show()"
   ]
  },
  {
   "cell_type": "code",
   "execution_count": null,
   "metadata": {},
   "outputs": [],
   "source": []
  },
  {
   "cell_type": "markdown",
   "metadata": {},
   "source": [
    "# Statistical Testing - Dunn's Procedure"
   ]
  },
  {
   "cell_type": "code",
   "execution_count": 12,
   "metadata": {},
   "outputs": [],
   "source": [
    "### Set Up ###\n",
    "SimulationResults = pd.DataFrame({\"Passive\": SimulationMean_Passive,\n",
    "                                  \"GSx\": SimulationMean_GSx,\n",
    "                                  \"GSy\": SimulationMean_GSy,\n",
    "                                  \"iGS\": SimulationMean_iGS,})\n",
    "SimulationResults_Long = SimulationResults.melt(var_name=\"Algorithm\", value_name=\"RMSE\")\n"
   ]
  },
  {
   "cell_type": "code",
   "execution_count": 13,
   "metadata": {},
   "outputs": [
    {
     "name": "stdout",
     "output_type": "stream",
     "text": [
      "           GSx    GSy  Passive    iGS\n",
      "GSx      False   True     True   True\n",
      "GSy       True  False     True  False\n",
      "Passive   True   True    False   True\n",
      "iGS       True  False     True  False\n"
     ]
    }
   ],
   "source": [
    "### Results ###\n",
    "DunnResults = sp.posthoc_dunn(SimulationResults_Long, val_col='RMSE', group_col='Algorithm', p_adjust='fdr_bh')\n",
    "\n",
    "print(DunnResults<0.05)"
   ]
  }
 ],
 "metadata": {
  "kernelspec": {
   "display_name": "Python 3",
   "language": "python",
   "name": "python3"
  },
  "language_info": {
   "codemirror_mode": {
    "name": "ipython",
    "version": 3
   },
   "file_extension": ".py",
   "mimetype": "text/x-python",
   "name": "python",
   "nbconvert_exporter": "python",
   "pygments_lexer": "ipython3",
   "version": "3.9.6"
  }
 },
 "nbformat": 4,
 "nbformat_minor": 2
}
