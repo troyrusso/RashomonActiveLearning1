{
 "cells": [
  {
   "cell_type": "markdown",
   "metadata": {},
   "source": [
    "# Packages"
   ]
  },
  {
   "cell_type": "code",
   "execution_count": 1,
   "metadata": {},
   "outputs": [],
   "source": [
    "import pandas as pd "
   ]
  },
  {
   "cell_type": "markdown",
   "metadata": {},
   "source": [
    "# Input"
   ]
  },
  {
   "cell_type": "code",
   "execution_count": 2,
   "metadata": {},
   "outputs": [],
   "source": [
    "Abbrv = \"M3\""
   ]
  },
  {
   "cell_type": "code",
   "execution_count": 3,
   "metadata": {},
   "outputs": [],
   "source": [
    "words =[\"0M3_DPL0.011.pkl\",\"18M3_UNQ0.011.pkl\",\"27M3_DPL0.011.pkl\",\"35M3_UNQ0.011.pkl\",\"44M3_DPL0.011.pkl\",\"52M3_UNQ0.011.pkl\",\"61M3_DPL0.011.pkl\",\"6M3_UNQ0.011.pkl\",\"79M3_UNQ0.011.pkl\",\"88M3_DPL0.011.pkl\",\"96M3_UNQ0.011.pkl\",\n",
    "\"0M3_UNQ0.011.pkl\",\"19M3_DPL0.011.pkl\",\"27M3_UNQ0.011.pkl\",\"36M3_DPL0.011.pkl\",\"44M3_UNQ0.011.pkl\",\"53M3_DPL0.011.pkl\",\"61M3_UNQ0.011.pkl\",\"70M3_DPL0.011.pkl\",\"7M3_DPL0.011.pkl\",\"88M3_UNQ0.011.pkl\",\"97M3_DPL0.011.pkl\",\n",
    "\"10M3_DPL0.011.pkl\",\"19M3_UNQ0.011.pkl\",\"28M3_DPL0.011.pkl\",\"36M3_UNQ0.011.pkl\",\"45M3_DPL0.011.pkl\",\"53M3_UNQ0.011.pkl\",\"62M3_DPL0.011.pkl\",\"70M3_UNQ0.011.pkl\",\"7M3_UNQ0.011.pkl\",\"89M3_DPL0.011.pkl\",\"97M3_UNQ0.011.pkl\",\n",
    "\"10M3_UNQ0.011.pkl\",\"1M3_DPL0.011.pkl\",\"28M3_UNQ0.011.pkl\",\"37M3_DPL0.011.pkl\",\"45M3_UNQ0.011.pkl\",\"54M3_DPL0.011.pkl\",\"62M3_UNQ0.011.pkl\",\"71M3_DPL0.011.pkl\",\"80M3_DPL0.011.pkl\",\"89M3_UNQ0.011.pkl\",\"98M3_DPL0.011.pkl\",\n",
    "\"11M3_DPL0.011.pkl\",\"1M3_UNQ0.011.pkl\",\"29M3_DPL0.011.pkl\",\"37M3_UNQ0.011.pkl\",\"46M3_DPL0.011.pkl\",\"54M3_UNQ0.011.pkl\",\"63M3_DPL0.011.pkl\",\"71M3_UNQ0.011.pkl\",\"80M3_UNQ0.011.pkl\",\"8M3_DPL0.011.pkl\",\"98M3_UNQ0.011.pkl\",\n",
    "\"11M3_UNQ0.011.pkl\",\"20M3_DPL0.011.pkl\",\"29M3_UNQ0.011.pkl\",\"38M3_DPL0.011.pkl\",\"46M3_UNQ0.011.pkl\",\"55M3_DPL0.011.pkl\",\"63M3_UNQ0.011.pkl\",\"72M3_DPL0.011.pkl\",\"81M3_DPL0.011.pkl\",\"8M3_UNQ0.011.pkl\",\"99M3_DPL0.011.pkl\",\n",
    "\"12M3_DPL0.011.pkl\",\"20M3_UNQ0.011.pkl\",\"2M3_DPL0.011.pkl\",\"38M3_UNQ0.011.pkl\",\"47M3_DPL0.011.pkl\",\"55M3_UNQ0.011.pkl\",\"64M3_DPL0.011.pkl\",\"72M3_UNQ0.011.pkl\",\"81M3_UNQ0.011.pkl\",\"90M3_DPL0.011.pkl\",\"99M3_UNQ0.011.pkl\",\n",
    "\"12M3_UNQ0.011.pkl\",\"21M3_DPL0.011.pkl\",\"2M3_UNQ0.011.pkl\",\"39M3_DPL0.011.pkl\",\"47M3_UNQ0.011.pkl\",\"56M3_DPL0.011.pkl\",\"64M3_UNQ0.011.pkl\",\"73M3_UNQ0.011.pkl\",\"82M3_DPL0.011.pkl\",\"90M3_UNQ0.011.pkl\",\"9M3_DPL0.011.pkl\",\n",
    "\"13M3_DPL0.011.pkl\",\"21M3_UNQ0.011.pkl\",\"30M3_DPL0.011.pkl\",\"39M3_UNQ0.011.pkl\",\"48M3_DPL0.011.pkl\",\"56M3_UNQ0.011.pkl\",\"65M3_DPL0.011.pkl\",\"74M3_DPL0.011.pkl\",\"82M3_UNQ0.011.pkl\",\"91M3_DPL0.011.pkl\",\"9M3_UNQ0.011.pkl\",\n",
    "\"13M3_UNQ0.011.pkl\",\"22M3_DPL0.011.pkl\",\"30M3_UNQ0.011.pkl\",\"3M3_DPL0.011.pkl\",\"48M3_UNQ0.011.pkl\",\"57M3_DPL0.011.pkl\",\"65M3_UNQ0.011.pkl\",\"74M3_UNQ0.011.pkl\",\"83M3_DPL0.011.pkl\",\"91M3_UNQ0.011.pkl\",\n",
    "\"14M3_DPL0.011.pkl\",\"22M3_UNQ0.011.pkl\",\"31M3_DPL0.011.pkl\",\"3M3_UNQ0.011.pkl\",\"49M3_DPL0.011.pkl\",\"57M3_UNQ0.011.pkl\",\"66M3_DPL0.011.pkl\",\"75M3_DPL0.011.pkl\",\"83M3_UNQ0.011.pkl\",\"92M3_DPL0.011.pkl\",\n",
    "\"14M3_UNQ0.011.pkl\",\"23M3_DPL0.011.pkl\",\"31M3_UNQ0.011.pkl\",\"40M3_DPL0.011.pkl\",\"49M3_UNQ0.011.pkl\",\"58M3_DPL0.011.pkl\",\"66M3_UNQ0.011.pkl\",\"75M3_UNQ0.011.pkl\",\"84M3_DPL0.011.pkl\",\"92M3_UNQ0.011.pkl\",\n",
    "\"15M3_DPL0.011.pkl\",\"23M3_UNQ0.011.pkl\",\"32M3_DPL0.011.pkl\",\"40M3_UNQ0.011.pkl\",\"4M3_DPL0.011.pkl\",\"58M3_UNQ0.011.pkl\",\"67M3_DPL0.011.pkl\",\"76M3_DPL0.011.pkl\",\"84M3_UNQ0.011.pkl\",\"93M3_DPL0.011.pkl\",\n",
    "\"15M3_UNQ0.011.pkl\",\"24M3_DPL0.011.pkl\",\"32M3_UNQ0.011.pkl\",\"41M3_DPL0.011.pkl\",\"4M3_UNQ0.011.pkl\",\"59M3_DPL0.011.pkl\",\"67M3_UNQ0.011.pkl\",\"76M3_UNQ0.011.pkl\",\"85M3_DPL0.011.pkl\",\"93M3_UNQ0.011.pkl\",\n",
    "\"16M3_DPL0.011.pkl\",\"24M3_UNQ0.011.pkl\",\"33M3_DPL0.011.pkl\",\"41M3_UNQ0.011.pkl\",\"50M3_DPL0.011.pkl\",\"59M3_UNQ0.011.pkl\",\"68M3_DPL0.011.pkl\",\"77M3_DPL0.011.pkl\",\"85M3_UNQ0.011.pkl\",\"94M3_DPL0.011.pkl\",\n",
    "\"16M3_UNQ0.011.pkl\",\"25M3_DPL0.011.pkl\",\"33M3_UNQ0.011.pkl\",\"42M3_DPL0.011.pkl\",\"50M3_UNQ0.011.pkl\",\"5M3_DPL0.011.pkl\",\"68M3_UNQ0.011.pkl\",\"77M3_UNQ0.011.pkl\",\"86M3_DPL0.011.pkl\",\"94M3_UNQ0.011.pkl\",\n",
    "\"17M3_DPL0.011.pkl\",\"25M3_UNQ0.011.pkl\",\"34M3_DPL0.011.pkl\",\"42M3_UNQ0.011.pkl\",\"51M3_DPL0.011.pkl\",\"5M3_UNQ0.011.pkl\",\"69M3_DPL0.011.pkl\",\"78M3_DPL0.011.pkl\",\"86M3_UNQ0.011.pkl\",\"95M3_DPL0.011.pkl\",\n",
    "\"17M3_UNQ0.011.pkl\",\"26M3_DPL0.011.pkl\",\"34M3_UNQ0.011.pkl\",\"43M3_DPL0.011.pkl\",\"51M3_UNQ0.011.pkl\",\"60M3_DPL0.011.pkl\",\"69M3_UNQ0.011.pkl\",\"78M3_UNQ0.011.pkl\",\"87M3_DPL0.011.pkl\",\"95M3_UNQ0.011.pkl\",\n",
    "\"18M3_DPL0.011.pkl\",\"26M3_UNQ0.011.pkl\",\"35M3_DPL0.011.pkl\",\"43M3_UNQ0.011.pkl\",\"52M3_DPL0.011.pkl\",\"60M3_UNQ0.011.pkl\",\"6M3_DPL0.011.pkl\",\"79M3_DPL0.011.pkl\",\"87M3_UNQ0.011.pkl\",\"96M3_DPL0.011.pkl\"]\n"
   ]
  },
  {
   "cell_type": "code",
   "execution_count": 4,
   "metadata": {},
   "outputs": [
    {
     "data": {
      "text/plain": [
       "199"
      ]
     },
     "execution_count": 4,
     "metadata": {},
     "output_type": "execute_result"
    }
   ],
   "source": [
    "len(words)"
   ]
  },
  {
   "cell_type": "markdown",
   "metadata": {},
   "source": [
    "# Algorithm"
   ]
  },
  {
   "cell_type": "markdown",
   "metadata": {},
   "source": [
    "## Missing"
   ]
  },
  {
   "cell_type": "code",
   "execution_count": 5,
   "metadata": {},
   "outputs": [
    {
     "name": "stdout",
     "output_type": "stream",
     "text": [
      "Missing Indices for UNQ: []\n",
      "Missing Indices for DPL: [73]\n",
      "Duplicate Indices for UNQ: []\n",
      "Duplicate Indices for DPL: []\n"
     ]
    }
   ],
   "source": [
    "### Combined Analysis for Unique and Duplicate ###\n",
    "TotalCountUnique = []\n",
    "TotalCountDuplicate = []\n",
    "TotalCountDuplicateUNQ = []\n",
    "TotalCountDuplicateDPL = []\n",
    "\n",
    "for i in range(0, 100):\n",
    "    substringUNQ = str(i) + Abbrv + \"_UNQ\"\n",
    "    substringDPL = str(i) + Abbrv + \"_DPL\"\n",
    "\n",
    "    # Unique occurrences\n",
    "    unique_occurrencesUNQ = {word for word in words if word.startswith(substringUNQ)}\n",
    "    unique_occurrencesDPL = {word for word in words if word.startswith(substringDPL)}\n",
    "\n",
    "    countUNQ = len(unique_occurrencesUNQ)\n",
    "    countDPL = len(unique_occurrencesDPL)\n",
    "\n",
    "    TotalCountUnique.append(countUNQ)\n",
    "    TotalCountDuplicate.append(countDPL)\n",
    "\n",
    "    # Duplicate occurrences\n",
    "    occurrencesUNQ = [word for word in words if word.startswith(substringUNQ)]\n",
    "    occurrencesDPL = [word for word in words if word.startswith(substringDPL)]\n",
    "\n",
    "    countDuplicatesUNQ = len(occurrencesUNQ)\n",
    "    countDuplicatesDPL = len(occurrencesDPL)\n",
    "\n",
    "    TotalCountDuplicateUNQ.append(countDuplicatesUNQ)\n",
    "    TotalCountDuplicateDPL.append(countDuplicatesDPL)\n",
    "\n",
    "### Convert to DataFrames ###\n",
    "TotalCountUnique = pd.DataFrame(TotalCountUnique, columns=[\"Unique\"])\n",
    "TotalCountDuplicate = pd.DataFrame(TotalCountDuplicate, columns=[\"Duplicate\"])\n",
    "TotalCountDuplicateUNQ = pd.DataFrame(TotalCountDuplicateUNQ, columns=[\"Duplicate_UNQ\"])\n",
    "TotalCountDuplicateDPL = pd.DataFrame(TotalCountDuplicateDPL, columns=[\"Duplicate_DPL\"])\n",
    "\n",
    "### Identify Missing ###\n",
    "MissingUNQ = list(TotalCountUnique[TotalCountUnique[\"Unique\"] < 1].index)\n",
    "MissingDPL = list(TotalCountDuplicate[TotalCountDuplicate[\"Duplicate\"] < 1].index)\n",
    "\n",
    "### Identify Duplicates ###\n",
    "DuplicateIndicesUNQ = list(TotalCountDuplicateUNQ[TotalCountDuplicateUNQ[\"Duplicate_UNQ\"] > 1].index)\n",
    "DuplicateIndicesDPL = list(TotalCountDuplicateDPL[TotalCountDuplicateDPL[\"Duplicate_DPL\"] > 1].index)\n",
    "\n",
    "### Outputs ###\n",
    "print(\"Missing Indices for UNQ:\", MissingUNQ)\n",
    "print(\"Missing Indices for DPL:\", MissingDPL)\n",
    "print(\"Duplicate Indices for UNQ:\", DuplicateIndicesUNQ)\n",
    "print(\"Duplicate Indices for DPL:\", DuplicateIndicesDPL)\n"
   ]
  },
  {
   "cell_type": "markdown",
   "metadata": {},
   "source": [
    "# Results"
   ]
  },
  {
   "cell_type": "markdown",
   "metadata": {},
   "source": [
    "### Missing"
   ]
  },
  {
   "cell_type": "code",
   "execution_count": 6,
   "metadata": {},
   "outputs": [
    {
     "name": "stdout",
     "output_type": "stream",
     "text": [
      "Unique: []\n",
      "Duplicate: [73]\n"
     ]
    }
   ],
   "source": [
    "print(\"Unique: \"+  str(MissingUNQ))\n",
    "print(\"Duplicate: \"+  str(MissingDPL))"
   ]
  },
  {
   "cell_type": "markdown",
   "metadata": {},
   "source": [
    "### Duplicate"
   ]
  },
  {
   "cell_type": "code",
   "execution_count": 7,
   "metadata": {},
   "outputs": [
    {
     "name": "stdout",
     "output_type": "stream",
     "text": [
      "Unique: []\n",
      "Duplicate: []\n"
     ]
    }
   ],
   "source": [
    "print(\"Unique: \"+  str(DuplicateIndicesUNQ))\n",
    "print(\"Duplicate: \"+  str(DuplicateIndicesDPL))"
   ]
  }
 ],
 "metadata": {
  "kernelspec": {
   "display_name": "Python 3",
   "language": "python",
   "name": "python3"
  },
  "language_info": {
   "codemirror_mode": {
    "name": "ipython",
    "version": 3
   },
   "file_extension": ".py",
   "mimetype": "text/x-python",
   "name": "python",
   "nbconvert_exporter": "python",
   "pygments_lexer": "ipython3",
   "version": "3.9.6"
  }
 },
 "nbformat": 4,
 "nbformat_minor": 2
}
