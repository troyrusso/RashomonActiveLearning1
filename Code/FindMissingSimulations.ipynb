{
 "cells": [
  {
   "cell_type": "markdown",
   "metadata": {},
   "source": [
    "# Packages"
   ]
  },
  {
   "cell_type": "code",
   "execution_count": 1,
   "metadata": {},
   "outputs": [],
   "source": [
    "import pandas as pd"
   ]
  },
  {
   "cell_type": "markdown",
   "metadata": {},
   "source": [
    "# Input"
   ]
  },
  {
   "cell_type": "code",
   "execution_count": 2,
   "metadata": {},
   "outputs": [],
   "source": [
    "Abbrv=\"M1\""
   ]
  },
  {
   "cell_type": "code",
   "execution_count": 3,
   "metadata": {},
   "outputs": [],
   "source": [
    "# Input text\n",
    "text = \"\"\"\n",
    "0M1_DA0.02.pkl   16M1_UA0.02.pkl  23M1_UA0.02.pkl  30M1_DA0.02.pkl  37M1_UA0.02.pkl  44M1_DA0.02.pkl  50M1_UA0.02.pkl  58M1_DA0.02.pkl  65M1_UA0.02.pkl  72M1_DA0.02.pkl  79M1_UA0.02.pkl  86M1_DA0.02.pkl  92M1_UA0.02.pkl  9M1_DA0.02.pkl\n",
    "0M1_UA0.02.pkl   17M1_DA0.02.pkl  24M1_DA0.02.pkl  30M1_UA0.02.pkl  38M1_DA0.02.pkl  44M1_UA0.02.pkl  51M1_DA0.02.pkl  58M1_UA0.02.pkl  66M1_DA0.02.pkl  72M1_UA0.02.pkl  7M1_DA0.02.pkl   86M1_UA0.02.pkl  93M1_DA0.02.pkl  9M1_UA0.02.pkl\n",
    "10M1_DA0.02.pkl  17M1_UA0.02.pkl  24M1_UA0.02.pkl  31M1_DA0.02.pkl  38M1_UA0.02.pkl  45M1_DA0.02.pkl  51M1_UA0.02.pkl  59M1_DA0.02.pkl  66M1_UA0.02.pkl  73M1_DA0.02.pkl  7M1_UA0.02.pkl   87M1_DA0.02.pkl  93M1_UA0.02.pkl\n",
    "10M1_UA0.02.pkl  18M1_DA0.02.pkl  25M1_DA0.02.pkl  31M1_UA0.02.pkl  39M1_DA0.02.pkl  45M1_UA0.02.pkl  52M1_DA0.02.pkl  59M1_UA0.02.pkl  67M1_DA0.02.pkl  73M1_UA0.02.pkl  80M1_DA0.02.pkl  87M1_UA0.02.pkl  94M1_DA0.02.pkl\n",
    "11M1_DA0.02.pkl  18M1_UA0.02.pkl  25M1_UA0.02.pkl  32M1_DA0.02.pkl  39M1_UA0.02.pkl  46M1_DA0.02.pkl  52M1_UA0.02.pkl  5M1_DA0.02.pkl   67M1_UA0.02.pkl  74M1_DA0.02.pkl  80M1_UA0.02.pkl  88M1_DA0.02.pkl  94M1_UA0.02.pkl\n",
    "11M1_UA0.02.pkl  19M1_UA0.02.pkl  26M1_DA0.02.pkl  32M1_UA0.02.pkl  3M1_DA0.02.pkl   46M1_UA0.02.pkl  53M1_DA0.02.pkl  5M1_UA0.02.pkl   68M1_DA0.02.pkl  74M1_UA0.02.pkl  81M1_DA0.02.pkl  88M1_UA0.02.pkl  95M1_DA0.02.pkl\n",
    "12M1_DA0.02.pkl  1M1_DA0.02.pkl   26M1_UA0.02.pkl  33M1_DA0.02.pkl  3M1_UA0.02.pkl   47M1_DA0.02.pkl  53M1_UA0.02.pkl  60M1_DA0.02.pkl  68M1_UA0.02.pkl  75M1_DA0.02.pkl  81M1_UA0.02.pkl  89M1_DA0.02.pkl  95M1_UA0.02.pkl\n",
    "12M1_UA0.02.pkl  1M1_UA0.02.pkl   27M1_DA0.02.pkl  33M1_UA0.02.pkl  40M1_DA0.02.pkl  47M1_UA0.02.pkl  54M1_DA0.02.pkl  60M1_UA0.02.pkl  69M1_DA0.02.pkl  75M1_UA0.02.pkl  82M1_DA0.02.pkl  89M1_UA0.02.pkl  96M1_DA0.02.pkl\n",
    "13M1_DA0.02.pkl  20M1_DA0.02.pkl  27M1_UA0.02.pkl  34M1_DA0.02.pkl  40M1_UA0.02.pkl  48M1_DA0.02.pkl  54M1_UA0.02.pkl  61M1_DA0.02.pkl  69M1_UA0.02.pkl  76M1_DA0.02.pkl  82M1_UA0.02.pkl  8M1_DA0.02.pkl   96M1_UA0.02.pkl\n",
    "13M1_UA0.02.pkl  20M1_UA0.02.pkl  28M1_DA0.02.pkl  34M1_UA0.02.pkl  41M1_DA0.02.pkl  48M1_UA0.02.pkl  55M1_DA0.02.pkl  61M1_UA0.02.pkl  6M1_DA0.02.pkl   76M1_UA0.02.pkl  83M1_DA0.02.pkl  8M1_UA0.02.pkl   97M1_DA0.02.pkl\n",
    "14M1_DA0.02.pkl  21M1_DA0.02.pkl  28M1_UA0.02.pkl  35M1_DA0.02.pkl  41M1_UA0.02.pkl  49M1_DA0.02.pkl  55M1_UA0.02.pkl  62M1_DA0.02.pkl  6M1_UA0.02.pkl   77M1_DA0.02.pkl  83M1_UA0.02.pkl  90M1_DA0.02.pkl  97M1_UA0.02.pkl\n",
    "14M1_UA0.02.pkl  21M1_UA0.02.pkl  29M1_DA0.02.pkl  35M1_UA0.02.pkl  42M1_DA0.02.pkl  49M1_UA0.02.pkl  56M1_DA0.02.pkl  62M1_UA0.02.pkl  70M1_DA0.02.pkl  77M1_UA0.02.pkl  84M1_DA0.02.pkl  90M1_UA0.02.pkl  98M1_DA0.02.pkl\n",
    "15M1_DA0.02.pkl  22M1_DA0.02.pkl  29M1_UA0.02.pkl  36M1_DA0.02.pkl  42M1_UA0.02.pkl  4M1_DA0.02.pkl   56M1_UA0.02.pkl  63M1_DA0.02.pkl  70M1_UA0.02.pkl  78M1_DA0.02.pkl  84M1_UA0.02.pkl  91M1_DA0.02.pkl  98M1_UA0.02.pkl\n",
    "15M1_UA0.02.pkl  22M1_UA0.02.pkl  2M1_DA0.02.pkl   36M1_UA0.02.pkl  43M1_DA0.02.pkl  4M1_UA0.02.pkl   57M1_DA0.02.pkl  63M1_UA0.02.pkl  71M1_DA0.02.pkl  78M1_UA0.02.pkl  85M1_DA0.02.pkl  91M1_UA0.02.pkl  99M1_DA0.02.pkl\n",
    "16M1_DA0.02.pkl  23M1_DA0.02.pkl  2M1_UA0.02.pkl   37M1_DA0.02.pkl  43M1_UA0.02.pkl  50M1_DA0.02.pkl  57M1_UA0.02.pkl  65M1_DA0.02.pkl  71M1_UA0.02.pkl  79M1_DA0.02.pkl  85M1_UA0.02.pkl  92M1_DA0.02.pkl  99M1_UA0.02.pkl\n",
    "\"\"\""
   ]
  },
  {
   "cell_type": "code",
   "execution_count": 5,
   "metadata": {},
   "outputs": [
    {
     "data": {
      "text/plain": [
       "197"
      ]
     },
     "execution_count": 5,
     "metadata": {},
     "output_type": "execute_result"
    }
   ],
   "source": [
    "words = text.split()\n",
    "len(words)"
   ]
  },
  {
   "cell_type": "markdown",
   "metadata": {},
   "source": [
    "# Algorithm"
   ]
  },
  {
   "cell_type": "markdown",
   "metadata": {},
   "source": [
    "##Missing"
   ]
  },
  {
   "cell_type": "code",
   "execution_count": 6,
   "metadata": {},
   "outputs": [],
   "source": [
    "### Combined Analysis for Unique and Duplicate ###\n",
    "TotalCountUnique = []\n",
    "TotalCountDuplicate = []\n",
    "TotalCountDuplicateUNQ = []\n",
    "TotalCountDuplicateDPL = []\n",
    "\n",
    "for i in range(0, 100):\n",
    "    substringUNQ = str(i) + Abbrv + \"_U\"\n",
    "    substringDPL = str(i) + Abbrv + \"_D\"\n",
    "\n",
    "    # Unique occurrences\n",
    "    unique_occurrencesUNQ = {word for word in words if word.startswith(substringUNQ)}\n",
    "    unique_occurrencesDPL = {word for word in words if word.startswith(substringDPL)}\n",
    "\n",
    "    countUNQ = len(unique_occurrencesUNQ)\n",
    "    countDPL = len(unique_occurrencesDPL)\n",
    "\n",
    "    TotalCountUnique.append(countUNQ)\n",
    "    TotalCountDuplicate.append(countDPL)\n",
    "\n",
    "    # Duplicate occurrences\n",
    "    occurrencesUNQ = [word for word in words if word.startswith(substringUNQ)]\n",
    "    occurrencesDPL = [word for word in words if word.startswith(substringDPL)]\n",
    "\n",
    "    countDuplicatesUNQ = len(occurrencesUNQ)\n",
    "    countDuplicatesDPL = len(occurrencesDPL)\n",
    "\n",
    "    TotalCountDuplicateUNQ.append(countDuplicatesUNQ)\n",
    "    TotalCountDuplicateDPL.append(countDuplicatesDPL)\n",
    "\n",
    "### Convert to DataFrames ###\n",
    "TotalCountUnique = pd.DataFrame(TotalCountUnique, columns=[\"Unique\"])\n",
    "TotalCountDuplicate = pd.DataFrame(TotalCountDuplicate, columns=[\"Duplicate\"])\n",
    "TotalCountDuplicateUNQ = pd.DataFrame(TotalCountDuplicateUNQ, columns=[\"Duplicate_UNQ\"])\n",
    "TotalCountDuplicateDPL = pd.DataFrame(TotalCountDuplicateDPL, columns=[\"Duplicate_DPL\"])\n",
    "\n",
    "### Identify Missing ###\n",
    "MissingUNQ = list(TotalCountUnique[TotalCountUnique[\"Unique\"] < 1].index)\n",
    "MissingDPL = list(TotalCountDuplicate[TotalCountDuplicate[\"Duplicate\"] < 1].index)\n",
    "\n",
    "### Identify Duplicates ###\n",
    "DuplicateIndicesUNQ = list(TotalCountDuplicateUNQ[TotalCountDuplicateUNQ[\"Duplicate_UNQ\"] > 1].index)\n",
    "DuplicateIndicesDPL = list(TotalCountDuplicateDPL[TotalCountDuplicateDPL[\"Duplicate_DPL\"] > 1].index)\n"
   ]
  },
  {
   "cell_type": "markdown",
   "metadata": {},
   "source": [
    "# Results"
   ]
  },
  {
   "cell_type": "code",
   "execution_count": 7,
   "metadata": {},
   "outputs": [
    {
     "name": "stdout",
     "output_type": "stream",
     "text": [
      "Missing Indices for UNQ: [64]\n",
      "Missing Indices for DPL: [19, 64]\n",
      "Duplicate Indices for UNQ: []\n",
      "Duplicate Indices for DPL: []\n"
     ]
    }
   ],
   "source": [
    "### Outputs ###\n",
    "print(\"Missing Indices for UNQ:\", MissingUNQ)\n",
    "print(\"Missing Indices for DPL:\", MissingDPL)\n",
    "print(\"Duplicate Indices for UNQ:\", DuplicateIndicesUNQ)\n",
    "print(\"Duplicate Indices for DPL:\", DuplicateIndicesDPL)"
   ]
  },
  {
   "cell_type": "code",
   "execution_count": 8,
   "metadata": {},
   "outputs": [],
   "source": [
    "# MissingDPL_List = [str(item) + Abbrv + \"_D\" + str(\"0M3_DM0.1.pkl\")[5:9] for item in MissingDPL]\n",
    "# MissingUNQ_List = [str(item) + Abbrv + \"_U\" + str(\"0M3_DM0.1.pkl\")[5:9] for item in MissingUNQ]"
   ]
  },
  {
   "cell_type": "code",
   "execution_count": 9,
   "metadata": {},
   "outputs": [],
   "source": [
    "# print(\"Missing JobNames for UNQ:\", MissingUNQ_List)\n",
    "# print(\"Missing JobNames for DPL:\", MissingDPL_List)\n",
    "# print(\"Missing (combined) JobNames:\", MissingDPL_List + MissingUNQ_List)"
   ]
  },
  {
   "cell_type": "code",
   "execution_count": 10,
   "metadata": {},
   "outputs": [],
   "source": [
    "# MissingDPL_List + MissingUNQ_List"
   ]
  }
 ],
 "metadata": {
  "kernelspec": {
   "display_name": "Python 3",
   "language": "python",
   "name": "python3"
  },
  "language_info": {
   "codemirror_mode": {
    "name": "ipython",
    "version": 3
   },
   "file_extension": ".py",
   "mimetype": "text/x-python",
   "name": "python",
   "nbconvert_exporter": "python",
   "pygments_lexer": "ipython3",
   "version": "3.9.6"
  }
 },
 "nbformat": 4,
 "nbformat_minor": 2
}
