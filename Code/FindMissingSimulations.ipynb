{
 "cells": [
  {
   "cell_type": "markdown",
   "metadata": {},
   "source": [
    "# Packages"
   ]
  },
  {
   "cell_type": "code",
   "execution_count": 1,
   "metadata": {},
   "outputs": [],
   "source": [
    "import pandas as pd"
   ]
  },
  {
   "cell_type": "markdown",
   "metadata": {},
   "source": [
    "# Input"
   ]
  },
  {
   "cell_type": "code",
   "execution_count": 2,
   "metadata": {},
   "outputs": [],
   "source": [
    "Abbrv=\"BC\"\n",
    "Threshold = 0.02"
   ]
  },
  {
   "cell_type": "code",
   "execution_count": 3,
   "metadata": {},
   "outputs": [],
   "source": [
    "# Input text\n",
    "text = \"\"\"\n",
    "90BC_DA0.02.pkl   91BC_DA0.02.pkl   92BC_DA0.02.pkl   93BC_DA0.02.pkl   94BC_DA0.02.pkl   95BC_DA0.02.pkl   96BC_DA0.02.pkl   97BC_DA0.02.pkl   98BC_DA0.02.pkl   99BC_DA0.02.pkl   9BC_DA0.02.pkl   delete_results.sh\n",
    " 90BC_UA0.02.pkl   91BC_UA0.02.pkl   92BC_UA0.02.pkl   93BC_UA0.02.pkl   94BC_UA0.02.pkl   95BC_UA0.02.pkl   96BC_UA0.02.pkl   97BC_UA0.02.pkl   98BC_UA0.02.pkl   99BC_UA0.02.pkl   9BC_UA0.02.pkl  ' .foo.png'\n",
    " \"\"\""
   ]
  },
  {
   "cell_type": "code",
   "execution_count": 4,
   "metadata": {},
   "outputs": [
    {
     "data": {
      "text/plain": [
       "47"
      ]
     },
     "execution_count": 4,
     "metadata": {},
     "output_type": "execute_result"
    }
   ],
   "source": [
    "words = text.split()\n",
    "len(words)"
   ]
  },
  {
   "cell_type": "markdown",
   "metadata": {},
   "source": [
    "# Algorithm"
   ]
  },
  {
   "cell_type": "markdown",
   "metadata": {},
   "source": [
    "##Missing"
   ]
  },
  {
   "cell_type": "code",
   "execution_count": 5,
   "metadata": {},
   "outputs": [],
   "source": [
    "### Combined Analysis for Unique and Duplicate ###\n",
    "TotalCountUnique = []\n",
    "TotalCountDuplicate = []\n",
    "TotalCountDuplicateUNQ = []\n",
    "TotalCountDuplicateDPL = []\n",
    "\n",
    "for i in range(0, 100):\n",
    "    substringUNQ = str(i) + Abbrv + \"_U\"\n",
    "    substringDPL = str(i) + Abbrv + \"_D\"\n",
    "\n",
    "    # Unique occurrences\n",
    "    unique_occurrencesUNQ = {word for word in words if word.startswith(substringUNQ)}\n",
    "    unique_occurrencesDPL = {word for word in words if word.startswith(substringDPL)}\n",
    "\n",
    "    countUNQ = len(unique_occurrencesUNQ)\n",
    "    countDPL = len(unique_occurrencesDPL)\n",
    "\n",
    "    TotalCountUnique.append(countUNQ)\n",
    "    TotalCountDuplicate.append(countDPL)\n",
    "\n",
    "    # Duplicate occurrences\n",
    "    occurrencesUNQ = [word for word in words if word.startswith(substringUNQ)]\n",
    "    occurrencesDPL = [word for word in words if word.startswith(substringDPL)]\n",
    "\n",
    "    countDuplicatesUNQ = len(occurrencesUNQ)\n",
    "    countDuplicatesDPL = len(occurrencesDPL)\n",
    "\n",
    "    TotalCountDuplicateUNQ.append(countDuplicatesUNQ)\n",
    "    TotalCountDuplicateDPL.append(countDuplicatesDPL)\n",
    "\n",
    "### Convert to DataFrames ###\n",
    "TotalCountUnique = pd.DataFrame(TotalCountUnique, columns=[\"Unique\"])\n",
    "TotalCountDuplicate = pd.DataFrame(TotalCountDuplicate, columns=[\"Duplicate\"])\n",
    "TotalCountDuplicateUNQ = pd.DataFrame(TotalCountDuplicateUNQ, columns=[\"Duplicate_UNQ\"])\n",
    "TotalCountDuplicateDPL = pd.DataFrame(TotalCountDuplicateDPL, columns=[\"Duplicate_DPL\"])\n",
    "\n",
    "### Identify Missing ###\n",
    "MissingUNQ = list(TotalCountUnique[TotalCountUnique[\"Unique\"] < 1].index)\n",
    "MissingDPL = list(TotalCountDuplicate[TotalCountDuplicate[\"Duplicate\"] < 1].index)\n",
    "\n",
    "### Identify Duplicates ###\n",
    "DuplicateIndicesUNQ = list(TotalCountDuplicateUNQ[TotalCountDuplicateUNQ[\"Duplicate_UNQ\"] > 1].index)\n",
    "DuplicateIndicesDPL = list(TotalCountDuplicateDPL[TotalCountDuplicateDPL[\"Duplicate_DPL\"] > 1].index)\n",
    "\n",
    "### Have Both ###\n",
    "InBothBoolean = (TotalCountUnique[\"Unique\"] == 1) & (TotalCountDuplicate[\"Duplicate\"] == 1)\n",
    "HaveBoth = list(InBothBoolean[InBothBoolean == True].index)"
   ]
  },
  {
   "cell_type": "markdown",
   "metadata": {},
   "source": [
    "# Results"
   ]
  },
  {
   "cell_type": "code",
   "execution_count": 6,
   "metadata": {},
   "outputs": [
    {
     "name": "stdout",
     "output_type": "stream",
     "text": [
      "Missing Indices for UNQ: [1, 5, 6, 7, 8, 9, 10, 11, 13, 14, 15, 16, 17, 18, 19, 20, 21, 22, 23, 24, 26, 27, 28, 29, 32, 33, 34, 35, 36, 39, 40, 41, 42, 43, 45, 46, 47, 48, 49, 50, 51, 52, 53, 54, 55, 58, 59, 60, 61, 62, 63, 64, 65, 66, 67, 68, 69, 70, 71, 72, 73, 74, 77, 78, 80, 81, 83, 84, 86, 89, 90, 93, 94, 96, 97, 98]\n",
      "Missing Indices for DPL: [1, 4, 5, 6, 7, 8, 9, 10, 11, 13, 14, 15, 16, 17, 18, 19, 20, 21, 22, 23, 24, 26, 27, 28, 29, 30, 32, 33, 34, 35, 36, 38, 39, 40, 41, 42, 43, 45, 47, 48, 49, 50, 51, 53, 54, 55, 57, 58, 59, 60, 61, 62, 63, 64, 65, 66, 67, 69, 70, 71, 72, 74, 76, 77, 78, 81, 82, 83, 84, 86, 87, 89, 90, 92, 93, 94, 96, 97, 98, 99]\n",
      "Duplicate Indices for UNQ: []\n",
      "Duplicate Indices for DPL: []\n"
     ]
    }
   ],
   "source": [
    "### Outputs ###\n",
    "print(\"Missing Indices for UNQ:\", MissingUNQ)\n",
    "print(\"Missing Indices for DPL:\", MissingDPL)\n",
    "print(\"Duplicate Indices for UNQ:\", DuplicateIndicesUNQ)\n",
    "print(\"Duplicate Indices for DPL:\", DuplicateIndicesDPL)"
   ]
  },
  {
   "cell_type": "markdown",
   "metadata": {},
   "source": [
    "# Generate Missing JobNames"
   ]
  },
  {
   "cell_type": "code",
   "execution_count": 7,
   "metadata": {},
   "outputs": [],
   "source": [
    "MissingDPL_List = [str(item) + Abbrv + \"_DA\" + str(str(Threshold)) for item in MissingDPL]\n",
    "MissingUNQ_List = [str(item) + Abbrv + \"_UA\" + str(str(Threshold)) for item in MissingUNQ]\n",
    "# HaveBothDPL_List = [str(item) + Abbrv + \"_DA\" + str(str(Threshold)) for item in HaveBoth[0:UpToNum]]\n",
    "# HaveBothUNQ_List = [str(item) + Abbrv + \"_UA\" + str(str(Threshold)) for item in HaveBoth[0:UpToNum]]\n",
    "\n",
    "HaveBothDPL_List = [str(item) + Abbrv + \"_DA\" + str(str(Threshold)) for item in HaveBoth]\n",
    "HaveBothUNQ_List = [str(item) + Abbrv + \"_UA\" + str(str(Threshold)) for item in HaveBoth]"
   ]
  },
  {
   "cell_type": "code",
   "execution_count": 8,
   "metadata": {},
   "outputs": [
    {
     "name": "stdout",
     "output_type": "stream",
     "text": [
      "Missing (combined) JobNames:\n",
      "['1B7_DA0.02', '4B7_DA0.02', '5B7_DA0.02', '6B7_DA0.02', '7B7_DA0.02', '8B7_DA0.02', '9B7_DA0.02', '10B7_DA0.02', '11B7_DA0.02', '13B7_DA0.02', '14B7_DA0.02', '15B7_DA0.02', '16B7_DA0.02', '17B7_DA0.02', '18B7_DA0.02', '19B7_DA0.02', '20B7_DA0.02', '21B7_DA0.02', '22B7_DA0.02', '23B7_DA0.02', '24B7_DA0.02', '26B7_DA0.02', '27B7_DA0.02', '28B7_DA0.02', '29B7_DA0.02', '30B7_DA0.02', '32B7_DA0.02', '33B7_DA0.02', '34B7_DA0.02', '35B7_DA0.02', '36B7_DA0.02', '38B7_DA0.02', '39B7_DA0.02', '40B7_DA0.02', '41B7_DA0.02', '42B7_DA0.02', '43B7_DA0.02', '45B7_DA0.02', '47B7_DA0.02', '48B7_DA0.02', '49B7_DA0.02', '50B7_DA0.02', '51B7_DA0.02', '53B7_DA0.02', '54B7_DA0.02', '55B7_DA0.02', '57B7_DA0.02', '58B7_DA0.02', '59B7_DA0.02', '60B7_DA0.02', '61B7_DA0.02', '62B7_DA0.02', '63B7_DA0.02', '64B7_DA0.02', '65B7_DA0.02', '66B7_DA0.02', '67B7_DA0.02', '69B7_DA0.02', '70B7_DA0.02', '71B7_DA0.02', '72B7_DA0.02', '74B7_DA0.02', '76B7_DA0.02', '77B7_DA0.02', '78B7_DA0.02', '81B7_DA0.02', '82B7_DA0.02', '83B7_DA0.02', '84B7_DA0.02', '86B7_DA0.02', '87B7_DA0.02', '89B7_DA0.02', '90B7_DA0.02', '92B7_DA0.02', '93B7_DA0.02', '94B7_DA0.02', '96B7_DA0.02', '97B7_DA0.02', '98B7_DA0.02', '99B7_DA0.02', '1B7_UA0.02', '5B7_UA0.02', '6B7_UA0.02', '7B7_UA0.02', '8B7_UA0.02', '9B7_UA0.02', '10B7_UA0.02', '11B7_UA0.02', '13B7_UA0.02', '14B7_UA0.02', '15B7_UA0.02', '16B7_UA0.02', '17B7_UA0.02', '18B7_UA0.02', '19B7_UA0.02', '20B7_UA0.02', '21B7_UA0.02', '22B7_UA0.02', '23B7_UA0.02', '24B7_UA0.02', '26B7_UA0.02', '27B7_UA0.02', '28B7_UA0.02', '29B7_UA0.02', '32B7_UA0.02', '33B7_UA0.02', '34B7_UA0.02', '35B7_UA0.02', '36B7_UA0.02', '39B7_UA0.02', '40B7_UA0.02', '41B7_UA0.02', '42B7_UA0.02', '43B7_UA0.02', '45B7_UA0.02', '46B7_UA0.02', '47B7_UA0.02', '48B7_UA0.02', '49B7_UA0.02', '50B7_UA0.02', '51B7_UA0.02', '52B7_UA0.02', '53B7_UA0.02', '54B7_UA0.02', '55B7_UA0.02', '58B7_UA0.02', '59B7_UA0.02', '60B7_UA0.02', '61B7_UA0.02', '62B7_UA0.02', '63B7_UA0.02', '64B7_UA0.02', '65B7_UA0.02', '66B7_UA0.02', '67B7_UA0.02', '68B7_UA0.02', '69B7_UA0.02', '70B7_UA0.02', '71B7_UA0.02', '72B7_UA0.02', '73B7_UA0.02', '74B7_UA0.02', '77B7_UA0.02', '78B7_UA0.02', '80B7_UA0.02', '81B7_UA0.02', '83B7_UA0.02', '84B7_UA0.02', '86B7_UA0.02', '89B7_UA0.02', '90B7_UA0.02', '93B7_UA0.02', '94B7_UA0.02', '96B7_UA0.02', '97B7_UA0.02', '98B7_UA0.02']\n"
     ]
    }
   ],
   "source": [
    "# print(\"Missing JobNames for UNQ:\", MissingUNQ_List)\n",
    "# print(\"Missing JobNames for DPL:\", MissingDPL_List)\n",
    "print(\"Missing (combined) JobNames:\")\n",
    "print(MissingDPL_List + MissingUNQ_List)"
   ]
  },
  {
   "cell_type": "code",
   "execution_count": 9,
   "metadata": {},
   "outputs": [
    {
     "data": {
      "text/plain": [
       "156"
      ]
     },
     "execution_count": 9,
     "metadata": {},
     "output_type": "execute_result"
    }
   ],
   "source": [
    "len(MissingDPL_List + MissingUNQ_List)"
   ]
  },
  {
   "cell_type": "code",
   "execution_count": 10,
   "metadata": {},
   "outputs": [
    {
     "name": "stdout",
     "output_type": "stream",
     "text": [
      "Have both JobNames:\n",
      "[0, 2, 3, 12, 25, 31, 37, 44, 56, 75, 79, 85, 88, 91, 95]\n",
      "['0B7_DA0.02', '2B7_DA0.02', '3B7_DA0.02', '12B7_DA0.02', '25B7_DA0.02', '31B7_DA0.02', '37B7_DA0.02', '44B7_DA0.02', '56B7_DA0.02', '75B7_DA0.02', '79B7_DA0.02', '85B7_DA0.02', '88B7_DA0.02', '91B7_DA0.02', '95B7_DA0.02', '0B7_UA0.02', '2B7_UA0.02', '3B7_UA0.02', '12B7_UA0.02', '25B7_UA0.02', '31B7_UA0.02', '37B7_UA0.02', '44B7_UA0.02', '56B7_UA0.02', '75B7_UA0.02', '79B7_UA0.02', '85B7_UA0.02', '88B7_UA0.02', '91B7_UA0.02', '95B7_UA0.02']\n"
     ]
    }
   ],
   "source": [
    "print(\"Have both JobNames:\")\n",
    "print(HaveBoth)\n",
    "print(HaveBothDPL_List + HaveBothUNQ_List)"
   ]
  },
  {
   "cell_type": "code",
   "execution_count": null,
   "metadata": {},
   "outputs": [],
   "source": []
  }
 ],
 "metadata": {
  "kernelspec": {
   "display_name": "Python 3",
   "language": "python",
   "name": "python3"
  },
  "language_info": {
   "codemirror_mode": {
    "name": "ipython",
    "version": 3
   },
   "file_extension": ".py",
   "mimetype": "text/x-python",
   "name": "python",
   "nbconvert_exporter": "python",
   "pygments_lexer": "ipython3",
   "version": "3.9.6"
  }
 },
 "nbformat": 4,
 "nbformat_minor": 2
}
