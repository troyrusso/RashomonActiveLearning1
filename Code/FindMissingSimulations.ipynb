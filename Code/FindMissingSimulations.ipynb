{
 "cells": [
  {
   "cell_type": "markdown",
   "metadata": {},
   "source": [
    "# Packages"
   ]
  },
  {
   "cell_type": "code",
   "execution_count": 1,
   "metadata": {},
   "outputs": [],
   "source": [
    "import pandas as pd "
   ]
  },
  {
   "cell_type": "markdown",
   "metadata": {},
   "source": [
    "# Input"
   ]
  },
  {
   "cell_type": "code",
   "execution_count": 2,
   "metadata": {},
   "outputs": [],
   "source": [
    "words = [\"0IS_DPL0.041.pkl\",\"18IS_DPL0.041.pkl\",\"26IS_DPL0.041.pkl\",\"34IS_DPL0.041.pkl\",\"42IS_DPL0.041.pkl\",\"50IS_DPL0.041.pkl\",\"59IS_DPL0.041.pkl\",\"68IS_DPL0.041.pkl\",\"76IS_DPL0.041.pkl\",\"84IS_DPL0.041.pkl\",\"92IS_DPL0.041.pkl\",\n",
    "\"10IS_DPL0.041.pkl\",\"19IS_DPL0.041.pkl\",\"27IS_DPL0.041.pkl\",\"35IS_DPL0.041.pkl\",\"43IS_DPL0.041.pkl\",\"51IS_DPL0.041.pkl\",\"5IS_DPL0.041.pkl\",\"69IS_DPL0.041.pkl\",\"77IS_DPL0.041.pkl\",\"85IS_DPL0.041.pkl\",\"93IS_DPL0.041.pkl\",\n",
    "\"11IS_DPL0.041.pkl\",\"1IS_DPL0.041.pkl\",\"28IS_DPL0.041.pkl\",\"36IS_DPL0.041.pkl\",\"44IS_DPL0.041.pkl\",\"52IS_DPL0.041.pkl\",\"60IS_DPL0.041.pkl\",\"6IS_DPL0.041.pkl\",\"78IS_DPL0.041.pkl\",\"86IS_DPL0.041.pkl\",\"94IS_DPL0.041.pkl\",\n",
    "\"12IS_DPL0.041.pkl\",\"20IS_DPL0.041.pkl\",\"29IS_DPL0.041.pkl\",\"37IS_DPL0.041.pkl\",\"45IS_DPL0.041.pkl\",\"53IS_DPL0.041.pkl\",\"61IS_DPL0.041.pkl\",\"70IS_DPL0.041.pkl\",\"79IS_DPL0.041.pkl\",\"87IS_DPL0.041.pkl\",\"95IS_DPL0.041.pkl\",\n",
    "\"13IS_DPL0.041.pkl\",\"21IS_DPL0.041.pkl\",\"2IS_DPL0.041.pkl\",\"38IS_DPL0.041.pkl\",\"46IS_DPL0.041.pkl\",\"54IS_DPL0.041.pkl\",\"62IS_DPL0.041.pkl\",\"71IS_DPL0.041.pkl\",\"7IS_DPL0.041.pkl\",\"88IS_DPL0.041.pkl\",\"96IS_DPL0.041.pkl\",\n",
    "\"14IS_DPL0.041.pkl\",\"22IS_DPL0.041.pkl\",\"30IS_DPL0.041.pkl\",\"39IS_DPL0.041.pkl\",\"47IS_DPL0.041.pkl\",\"55IS_DPL0.041.pkl\",\"63IS_DPL0.041.pkl\",\"72IS_DPL0.041.pkl\",\"80IS_DPL0.041.pkl\",\"89IS_DPL0.041.pkl\",\"97IS_DPL0.041.pkl\",\n",
    "\"15IS_DPL0.041.pkl\",\"23IS_DPL0.041.pkl\",\"31IS_DPL0.041.pkl\",\"3IS_DPL0.041.pkl\",\"48IS_DPL0.041.pkl\",\"56IS_DPL0.041.pkl\",\"64IS_DPL0.041.pkl\",\"73IS_DPL0.041.pkl\",\"81IS_DPL0.041.pkl\",\"8IS_DPL0.041.pkl\",\"98IS_DPL0.041.pkl\",\n",
    "\"16IS_DPL0.041.pkl\",\"24IS_DPL0.041.pkl\",\"32IS_DPL0.041.pkl\",\"40IS_DPL0.041.pkl\",\"49IS_DPL0.041.pkl\",\"57IS_DPL0.041.pkl\",\"65IS_DPL0.041.pkl\",\"74IS_DPL0.041.pkl\",\"82IS_DPL0.041.pkl\",\"90IS_DPL0.041.pkl\",\"99IS_DPL0.041.pkl\",\n",
    "\"17IS_DPL0.041.pkl\",\"25IS_DPL0.041.pkl\",\"33IS_DPL0.041.pkl\",\"41IS_DPL0.041.pkl\",\"4IS_DPL0.041.pkl\",\"58IS_DPL0.041.pkl\",\"67IS_DPL0.041.pkl\",\"75IS_DPL0.041.pkl\",\"83IS_DPL0.041.pkl\",\"91IS_DPL0.041.pkl\",\"9IS_DPL0.041.pkl\"]\n"
   ]
  },
  {
   "cell_type": "code",
   "execution_count": 3,
   "metadata": {},
   "outputs": [
    {
     "data": {
      "text/plain": [
       "99"
      ]
     },
     "execution_count": 3,
     "metadata": {},
     "output_type": "execute_result"
    }
   ],
   "source": [
    "len(words)"
   ]
  },
  {
   "cell_type": "markdown",
   "metadata": {},
   "source": [
    "# Algorithm"
   ]
  },
  {
   "cell_type": "code",
   "execution_count": null,
   "metadata": {},
   "outputs": [],
   "source": [
    "### Unique ###\n",
    "TotalCountUnique = []\n",
    "TotalCountDuplicate = []\n",
    "for i in range(0,99):\n",
    "    substringUNQ = str(i)+\"IS _UNQ\"\n",
    "    substringDPL = str(i)+\"IS _DPL\"\n",
    "    unique_occurrencesUNQ = {word for word in words if word.startswith(substringUNQ)}\n",
    "    unique_occurrencesDPL = {word for word in words if word.startswith(substringDPL)}\n",
    "\n",
    "    countUNQ = len(unique_occurrencesUNQ)\n",
    "    countDPL = len(unique_occurrencesDPL)\n",
    "\n",
    "    TotalCountUnique.append(countUNQ)\n",
    "    TotalCountDuplicate.append(countDPL)\n",
    "\n",
    "### Output ###\n",
    "TotalCountUnique = pd.DataFrame(TotalCountUnique, columns = [\"Unique\"])\n",
    "TotalCountDuplicate = pd.DataFrame(TotalCountDuplicate, columns = [\"Duplicate\"])\n",
    "\n",
    "### Missing ###\n",
    "MissingUNQ = list(TotalCountUnique[TotalCountUnique[\"Unique\"]<1].index)\n",
    "MissingDPL = list(TotalCountDuplicate[TotalCountDuplicate[\"Duplicate\"]<1].index)"
   ]
  },
  {
   "cell_type": "code",
   "execution_count": 5,
   "metadata": {},
   "outputs": [
    {
     "name": "stdout",
     "output_type": "stream",
     "text": [
      "Unique: [0, 1, 2, 3, 4, 5, 6, 7, 8, 9, 10, 11, 12, 13, 14, 15, 16, 17, 18, 19, 20, 21, 22, 23, 24, 25, 26, 27, 28, 29, 30, 31, 32, 33, 34, 35, 36, 37, 38, 39, 40, 41, 42, 43, 44, 45, 46, 47, 48, 49, 50, 51, 52, 53, 54, 55, 56, 57, 58, 59, 60, 61, 62, 63, 64, 65, 66, 67, 68, 69, 70, 71, 72, 73, 74, 75, 76, 77, 78, 79, 80, 81, 82, 83, 84, 85, 86, 87, 88, 89, 90, 91, 92, 93, 94, 95, 96, 97, 98]\n",
      "Duplicate: [66]\n"
     ]
    }
   ],
   "source": [
    "print(\"Unique: \"+  str(MissingUNQ))\n",
    "print(\"Duplicate: \"+  str(MissingDPL))"
   ]
  }
 ],
 "metadata": {
  "kernelspec": {
   "display_name": "Python 3",
   "language": "python",
   "name": "python3"
  },
  "language_info": {
   "codemirror_mode": {
    "name": "ipython",
    "version": 3
   },
   "file_extension": ".py",
   "mimetype": "text/x-python",
   "name": "python",
   "nbconvert_exporter": "python",
   "pygments_lexer": "ipython3",
   "version": "3.9.6"
  }
 },
 "nbformat": 4,
 "nbformat_minor": 2
}
