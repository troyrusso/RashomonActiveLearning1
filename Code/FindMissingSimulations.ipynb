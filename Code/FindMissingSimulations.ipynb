{
 "cells": [
  {
   "cell_type": "markdown",
   "metadata": {},
   "source": [
    "# Packages"
   ]
  },
  {
   "cell_type": "code",
   "execution_count": 1,
   "metadata": {},
   "outputs": [],
   "source": [
    "import pandas as pd"
   ]
  },
  {
   "cell_type": "markdown",
   "metadata": {},
   "source": [
    "# Input"
   ]
  },
  {
   "cell_type": "code",
   "execution_count": 2,
   "metadata": {},
   "outputs": [],
   "source": [
    "Abbrv=\"CP\"\n",
    "Threshold = 0.025"
   ]
  },
  {
   "cell_type": "code",
   "execution_count": 3,
   "metadata": {},
   "outputs": [],
   "source": [
    "# Input text\n",
    "text = \"\"\"\n",
    " 0CP_DA0.025.pkl    15CP_DA0.025.pkl   23CP_UA0.025.pkl   30CP_UA0.025.pkl   40CP_DA0.025.pkl   45CP_UA0.025.pkl   54CP_UA0.025.pkl   64CP_DA0.025.pkl   6CP_UA0.025.pkl    76CP_UA0.025.pkl   87CP_UA0.025.pkl   96CP_DA0.025.pkl\n",
    " 10CP_DA0.025.pkl   17CP_DA0.025.pkl   24CP_DA0.025.pkl   31CP_DA0.025.pkl   40CP_UA0.025.pkl   46CP_DA0.025.pkl   56CP_DA0.025.pkl   64CP_UA0.025.pkl   70CP_DA0.025.pkl   77CP_DA0.025.pkl   89CP_DA0.025.pkl   96CP_UA0.025.pkl\n",
    " 10CP_UA0.025.pkl   17CP_UA0.025.pkl   26CP_DA0.025.pkl   31CP_UA0.025.pkl   41CP_DA0.025.pkl   46CP_UA0.025.pkl   56CP_UA0.025.pkl   65CP_DA0.025.pkl   70CP_UA0.025.pkl   77CP_UA0.025.pkl   89CP_UA0.025.pkl   98CP_DA0.025.pkl\n",
    " 11CP_DA0.025.pkl   18CP_DA0.025.pkl   26CP_UA0.025.pkl   32CP_DA0.025.pkl   41CP_UA0.025.pkl   48CP_DA0.025.pkl   59CP_DA0.025.pkl   65CP_UA0.025.pkl   71CP_DA0.025.pkl   79CP_UA0.025.pkl   91CP_DA0.025.pkl   98CP_UA0.025.pkl\n",
    " 11CP_UA0.025.pkl   18CP_UA0.025.pkl   27CP_DA0.025.pkl   34CP_DA0.025.pkl   42CP_DA0.025.pkl   48CP_UA0.025.pkl   59CP_UA0.025.pkl   66CP_DA0.025.pkl   71CP_UA0.025.pkl   7CP_DA0.025.pkl    91CP_UA0.025.pkl   9CP_DA0.025.pkl\n",
    " 12CP_DA0.025.pkl   1CP_DA0.025.pkl    27CP_UA0.025.pkl   34CP_UA0.025.pkl   42CP_UA0.025.pkl   49CP_DA0.025.pkl   5CP_DA0.025.pkl    66CP_UA0.025.pkl   72CP_DA0.025.pkl   7CP_UA0.025.pkl    92CP_DA0.025.pkl   9CP_UA0.025.pkl\n",
    " 12CP_UA0.025.pkl   1CP_UA0.025.pkl    28CP_DA0.025.pkl   36CP_DA0.025.pkl   43CP_DA0.025.pkl   49CP_UA0.025.pkl   5CP_UA0.025.pkl    67CP_DA0.025.pkl   72CP_UA0.025.pkl   81CP_DA0.025.pkl   92CP_UA0.025.pkl   Alone\n",
    " 13CP_DA0.025.pkl   21CP_DA0.025.pkl   28CP_UA0.025.pkl   36CP_UA0.025.pkl   43CP_UA0.025.pkl   4CP_UA0.025.pkl    61CP_DA0.025.pkl   67CP_UA0.025.pkl   73CP_DA0.025.pkl   81CP_UA0.025.pkl   93CP_DA0.025.pkl   delete_results.sh\n",
    " 13CP_UA0.025.pkl   21CP_UA0.025.pkl   2CP_DA0.025.pkl    37CP_DA0.025.pkl   44CP_DA0.025.pkl   50CP_DA0.025.pkl   61CP_UA0.025.pkl   68CP_DA0.025.pkl   74CP_DA0.025.pkl   85CP_DA0.025.pkl   93CP_UA0.025.pkl  ' .foo.png'\n",
    " 14CP_DA0.025.pkl   22CP_UA0.025.pkl   2CP_UA0.025.pkl    37CP_UA0.025.pkl   44CP_UA0.025.pkl   50CP_UA0.025.pkl   63CP_DA0.025.pkl   68CP_UA0.025.pkl   74CP_UA0.025.pkl   85CP_UA0.025.pkl   95CP_DA0.025.pkl\n",
    " 14CP_UA0.025.pkl   23CP_DA0.025.pkl   30CP_DA0.025.pkl   3CP_DA0.025.pkl    45CP_DA0.025.pkl   54CP_DA0.025.pkl   63CP_UA0.025.pkl   6CP_DA0.025.pkl    76CP_DA0.025.pkl   87CP_DA0.025.pkl   95CP_UA0.025.pkl\n",
    "\"\"\""
   ]
  },
  {
   "cell_type": "code",
   "execution_count": 4,
   "metadata": {},
   "outputs": [
    {
     "data": {
      "text/plain": [
       "131"
      ]
     },
     "execution_count": 4,
     "metadata": {},
     "output_type": "execute_result"
    }
   ],
   "source": [
    "words = text.split()\n",
    "len(words)"
   ]
  },
  {
   "cell_type": "markdown",
   "metadata": {},
   "source": [
    "# Algorithm"
   ]
  },
  {
   "cell_type": "markdown",
   "metadata": {},
   "source": [
    "##Missing"
   ]
  },
  {
   "cell_type": "code",
   "execution_count": 5,
   "metadata": {},
   "outputs": [],
   "source": [
    "### Combined Analysis for Unique and Duplicate ###\n",
    "TotalCountUnique = []\n",
    "TotalCountDuplicate = []\n",
    "TotalCountDuplicateUNQ = []\n",
    "TotalCountDuplicateDPL = []\n",
    "\n",
    "for i in range(0, 100):\n",
    "    substringUNQ = str(i) + Abbrv + \"_U\"\n",
    "    substringDPL = str(i) + Abbrv + \"_D\"\n",
    "\n",
    "    # Unique occurrences\n",
    "    unique_occurrencesUNQ = {word for word in words if word.startswith(substringUNQ)}\n",
    "    unique_occurrencesDPL = {word for word in words if word.startswith(substringDPL)}\n",
    "\n",
    "    countUNQ = len(unique_occurrencesUNQ)\n",
    "    countDPL = len(unique_occurrencesDPL)\n",
    "\n",
    "    TotalCountUnique.append(countUNQ)\n",
    "    TotalCountDuplicate.append(countDPL)\n",
    "\n",
    "    # Duplicate occurrences\n",
    "    occurrencesUNQ = [word for word in words if word.startswith(substringUNQ)]\n",
    "    occurrencesDPL = [word for word in words if word.startswith(substringDPL)]\n",
    "\n",
    "    countDuplicatesUNQ = len(occurrencesUNQ)\n",
    "    countDuplicatesDPL = len(occurrencesDPL)\n",
    "\n",
    "    TotalCountDuplicateUNQ.append(countDuplicatesUNQ)\n",
    "    TotalCountDuplicateDPL.append(countDuplicatesDPL)\n",
    "\n",
    "### Convert to DataFrames ###\n",
    "TotalCountUnique = pd.DataFrame(TotalCountUnique, columns=[\"Unique\"])\n",
    "TotalCountDuplicate = pd.DataFrame(TotalCountDuplicate, columns=[\"Duplicate\"])\n",
    "TotalCountDuplicateUNQ = pd.DataFrame(TotalCountDuplicateUNQ, columns=[\"Duplicate_UNQ\"])\n",
    "TotalCountDuplicateDPL = pd.DataFrame(TotalCountDuplicateDPL, columns=[\"Duplicate_DPL\"])\n",
    "\n",
    "### Identify Missing ###\n",
    "MissingUNQ = list(TotalCountUnique[TotalCountUnique[\"Unique\"] < 1].index)\n",
    "MissingDPL = list(TotalCountDuplicate[TotalCountDuplicate[\"Duplicate\"] < 1].index)\n",
    "\n",
    "### Identify Duplicates ###\n",
    "DuplicateIndicesUNQ = list(TotalCountDuplicateUNQ[TotalCountDuplicateUNQ[\"Duplicate_UNQ\"] > 1].index)\n",
    "DuplicateIndicesDPL = list(TotalCountDuplicateDPL[TotalCountDuplicateDPL[\"Duplicate_DPL\"] > 1].index)\n",
    "\n",
    "### Have Both ###\n",
    "InBothBoolean = (TotalCountUnique[\"Unique\"] == 1) & (TotalCountDuplicate[\"Duplicate\"] == 1)\n",
    "HaveBoth = list(InBothBoolean[InBothBoolean == True].index)"
   ]
  },
  {
   "cell_type": "markdown",
   "metadata": {},
   "source": [
    "# Results"
   ]
  },
  {
   "cell_type": "code",
   "execution_count": 6,
   "metadata": {},
   "outputs": [
    {
     "name": "stdout",
     "output_type": "stream",
     "text": [
      "Missing Indices for UNQ: [0, 3, 8, 15, 16, 19, 20, 24, 25, 29, 32, 33, 35, 38, 39, 47, 51, 52, 53, 55, 57, 58, 60, 62, 69, 73, 75, 78, 80, 82, 83, 84, 86, 88, 90, 94, 97, 99]\n",
      "Missing Indices for DPL: [4, 8, 16, 19, 20, 22, 25, 29, 33, 35, 38, 39, 47, 51, 52, 53, 55, 57, 58, 60, 62, 69, 75, 78, 79, 80, 82, 83, 84, 86, 88, 90, 94, 97, 99]\n",
      "Duplicate Indices for UNQ: []\n",
      "Duplicate Indices for DPL: []\n"
     ]
    }
   ],
   "source": [
    "### Outputs ###\n",
    "print(\"Missing Indices for UNQ:\", MissingUNQ)\n",
    "print(\"Missing Indices for DPL:\", MissingDPL)\n",
    "print(\"Duplicate Indices for UNQ:\", DuplicateIndicesUNQ)\n",
    "print(\"Duplicate Indices for DPL:\", DuplicateIndicesDPL)"
   ]
  },
  {
   "cell_type": "markdown",
   "metadata": {},
   "source": [
    "# Generate Missing JobNames"
   ]
  },
  {
   "cell_type": "code",
   "execution_count": 7,
   "metadata": {},
   "outputs": [],
   "source": [
    "MissingDPL_List = [str(item) + Abbrv + \"_DA\" + str(str(Threshold)) for item in MissingDPL]\n",
    "MissingUNQ_List = [str(item) + Abbrv + \"_UA\" + str(str(Threshold)) for item in MissingUNQ]\n",
    "# HaveBothDPL_List = [str(item) + Abbrv + \"_DA\" + str(str(Threshold)) for item in HaveBoth[0:UpToNum]]\n",
    "# HaveBothUNQ_List = [str(item) + Abbrv + \"_UA\" + str(str(Threshold)) for item in HaveBoth[0:UpToNum]]\n",
    "\n",
    "HaveBothDPL_List = [str(item) + Abbrv + \"_DA\" + str(str(Threshold)) for item in HaveBoth]\n",
    "HaveBothUNQ_List = [str(item) + Abbrv + \"_UA\" + str(str(Threshold)) for item in HaveBoth]"
   ]
  },
  {
   "cell_type": "code",
   "execution_count": 8,
   "metadata": {},
   "outputs": [
    {
     "name": "stdout",
     "output_type": "stream",
     "text": [
      "Missing (combined) JobNames:\n",
      "['4CP_DA0.025', '8CP_DA0.025', '16CP_DA0.025', '19CP_DA0.025', '20CP_DA0.025', '22CP_DA0.025', '25CP_DA0.025', '29CP_DA0.025', '33CP_DA0.025', '35CP_DA0.025', '38CP_DA0.025', '39CP_DA0.025', '47CP_DA0.025', '51CP_DA0.025', '52CP_DA0.025', '53CP_DA0.025', '55CP_DA0.025', '57CP_DA0.025', '58CP_DA0.025', '60CP_DA0.025', '62CP_DA0.025', '69CP_DA0.025', '75CP_DA0.025', '78CP_DA0.025', '79CP_DA0.025', '80CP_DA0.025', '82CP_DA0.025', '83CP_DA0.025', '84CP_DA0.025', '86CP_DA0.025', '88CP_DA0.025', '90CP_DA0.025', '94CP_DA0.025', '97CP_DA0.025', '99CP_DA0.025', '0CP_UA0.025', '3CP_UA0.025', '8CP_UA0.025', '15CP_UA0.025', '16CP_UA0.025', '19CP_UA0.025', '20CP_UA0.025', '24CP_UA0.025', '25CP_UA0.025', '29CP_UA0.025', '32CP_UA0.025', '33CP_UA0.025', '35CP_UA0.025', '38CP_UA0.025', '39CP_UA0.025', '47CP_UA0.025', '51CP_UA0.025', '52CP_UA0.025', '53CP_UA0.025', '55CP_UA0.025', '57CP_UA0.025', '58CP_UA0.025', '60CP_UA0.025', '62CP_UA0.025', '69CP_UA0.025', '73CP_UA0.025', '75CP_UA0.025', '78CP_UA0.025', '80CP_UA0.025', '82CP_UA0.025', '83CP_UA0.025', '84CP_UA0.025', '86CP_UA0.025', '88CP_UA0.025', '90CP_UA0.025', '94CP_UA0.025', '97CP_UA0.025', '99CP_UA0.025']\n"
     ]
    }
   ],
   "source": [
    "# print(\"Missing JobNames for UNQ:\", MissingUNQ_List)\n",
    "# print(\"Missing JobNames for DPL:\", MissingDPL_List)\n",
    "print(\"Missing (combined) JobNames:\")\n",
    "print(MissingDPL_List + MissingUNQ_List)"
   ]
  },
  {
   "cell_type": "code",
   "execution_count": 9,
   "metadata": {},
   "outputs": [
    {
     "data": {
      "text/plain": [
       "73"
      ]
     },
     "execution_count": 9,
     "metadata": {},
     "output_type": "execute_result"
    }
   ],
   "source": [
    "len(MissingDPL_List + MissingUNQ_List)"
   ]
  },
  {
   "cell_type": "code",
   "execution_count": 10,
   "metadata": {},
   "outputs": [
    {
     "name": "stdout",
     "output_type": "stream",
     "text": [
      "Have both JobNames:\n",
      "[1, 2, 5, 6, 7, 9, 10, 11, 12, 13, 14, 17, 18, 21, 23, 26, 27, 28, 30, 31, 34, 36, 37, 40, 41, 42, 43, 44, 45, 46, 48, 49, 50, 54, 56, 59, 61, 63, 64, 65, 66, 67, 68, 70, 71, 72, 74, 76, 77, 81, 85, 87, 89, 91, 92, 93, 95, 96, 98]\n",
      "['1CP_DA0.025', '2CP_DA0.025', '5CP_DA0.025', '6CP_DA0.025', '7CP_DA0.025', '9CP_DA0.025', '10CP_DA0.025', '11CP_DA0.025', '12CP_DA0.025', '13CP_DA0.025', '14CP_DA0.025', '17CP_DA0.025', '18CP_DA0.025', '21CP_DA0.025', '23CP_DA0.025', '26CP_DA0.025', '27CP_DA0.025', '28CP_DA0.025', '30CP_DA0.025', '31CP_DA0.025', '34CP_DA0.025', '36CP_DA0.025', '37CP_DA0.025', '40CP_DA0.025', '41CP_DA0.025', '42CP_DA0.025', '43CP_DA0.025', '44CP_DA0.025', '45CP_DA0.025', '46CP_DA0.025', '48CP_DA0.025', '49CP_DA0.025', '50CP_DA0.025', '54CP_DA0.025', '56CP_DA0.025', '59CP_DA0.025', '61CP_DA0.025', '63CP_DA0.025', '64CP_DA0.025', '65CP_DA0.025', '66CP_DA0.025', '67CP_DA0.025', '68CP_DA0.025', '70CP_DA0.025', '71CP_DA0.025', '72CP_DA0.025', '74CP_DA0.025', '76CP_DA0.025', '77CP_DA0.025', '81CP_DA0.025', '85CP_DA0.025', '87CP_DA0.025', '89CP_DA0.025', '91CP_DA0.025', '92CP_DA0.025', '93CP_DA0.025', '95CP_DA0.025', '96CP_DA0.025', '98CP_DA0.025', '1CP_UA0.025', '2CP_UA0.025', '5CP_UA0.025', '6CP_UA0.025', '7CP_UA0.025', '9CP_UA0.025', '10CP_UA0.025', '11CP_UA0.025', '12CP_UA0.025', '13CP_UA0.025', '14CP_UA0.025', '17CP_UA0.025', '18CP_UA0.025', '21CP_UA0.025', '23CP_UA0.025', '26CP_UA0.025', '27CP_UA0.025', '28CP_UA0.025', '30CP_UA0.025', '31CP_UA0.025', '34CP_UA0.025', '36CP_UA0.025', '37CP_UA0.025', '40CP_UA0.025', '41CP_UA0.025', '42CP_UA0.025', '43CP_UA0.025', '44CP_UA0.025', '45CP_UA0.025', '46CP_UA0.025', '48CP_UA0.025', '49CP_UA0.025', '50CP_UA0.025', '54CP_UA0.025', '56CP_UA0.025', '59CP_UA0.025', '61CP_UA0.025', '63CP_UA0.025', '64CP_UA0.025', '65CP_UA0.025', '66CP_UA0.025', '67CP_UA0.025', '68CP_UA0.025', '70CP_UA0.025', '71CP_UA0.025', '72CP_UA0.025', '74CP_UA0.025', '76CP_UA0.025', '77CP_UA0.025', '81CP_UA0.025', '85CP_UA0.025', '87CP_UA0.025', '89CP_UA0.025', '91CP_UA0.025', '92CP_UA0.025', '93CP_UA0.025', '95CP_UA0.025', '96CP_UA0.025', '98CP_UA0.025']\n"
     ]
    }
   ],
   "source": [
    "print(\"Have both JobNames:\")\n",
    "print(HaveBoth)\n",
    "print(HaveBothDPL_List + HaveBothUNQ_List)"
   ]
  },
  {
   "cell_type": "code",
   "execution_count": 11,
   "metadata": {},
   "outputs": [
    {
     "data": {
      "text/plain": [
       "59"
      ]
     },
     "execution_count": 11,
     "metadata": {},
     "output_type": "execute_result"
    }
   ],
   "source": [
    "len(HaveBoth)"
   ]
  },
  {
   "cell_type": "code",
   "execution_count": null,
   "metadata": {},
   "outputs": [],
   "source": [
    "TotalCountUnique[TotalCountUnique[\"Unique\"] == 1].index"
   ]
  }
 ],
 "metadata": {
  "kernelspec": {
   "display_name": "Python 3",
   "language": "python",
   "name": "python3"
  },
  "language_info": {
   "codemirror_mode": {
    "name": "ipython",
    "version": 3
   },
   "file_extension": ".py",
   "mimetype": "text/x-python",
   "name": "python",
   "nbconvert_exporter": "python",
   "pygments_lexer": "ipython3",
   "version": "3.9.6"
  }
 },
 "nbformat": 4,
 "nbformat_minor": 2
}
