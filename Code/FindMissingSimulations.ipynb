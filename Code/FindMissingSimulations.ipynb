{
 "cells": [
  {
   "cell_type": "markdown",
   "metadata": {},
   "source": [
    "# Packages"
   ]
  },
  {
   "cell_type": "code",
   "execution_count": 1,
   "metadata": {},
   "outputs": [],
   "source": [
    "import pandas as pd"
   ]
  },
  {
   "cell_type": "markdown",
   "metadata": {},
   "source": [
    "# Input"
   ]
  },
  {
   "cell_type": "code",
   "execution_count": 2,
   "metadata": {},
   "outputs": [],
   "source": [
    "Abbrv=\"BC\""
   ]
  },
  {
   "cell_type": "code",
   "execution_count": 3,
   "metadata": {},
   "outputs": [],
   "source": [
    "# Input text\n",
    "text = \"\"\"\n",
    "0BC_DA0.005.pkl    16BC_UNQ0.005.pkl  24BC_UA0.005.pkl   31BC_UA0.005.pkl   3BC_UNQ0.005.pkl   47BC_UNQ0.005.pkl  55BC_UA0.005.pkl   63BC_UA0.005.pkl   70BC_UNQ0.005.pkl  79BC_DA0.005.pkl   87BC_DPL0.005.pkl  94BC_UA0.005.pkl\n",
    "0BC_DPL0.005.pkl   17BC_DA0.005.pkl   25BC_DA0.005.pkl   31BC_UNQ0.005.pkl  40BC_DA0.005.pkl   48BC_DA0.005.pkl   55BC_UNQ0.005.pkl  63BC_UNQ0.005.pkl  71BC_DA0.005.pkl   79BC_DPL0.005.pkl  87BC_UA0.005.pkl   94BC_UNQ0.005.pkl\n",
    "0BC_UA0.005.pkl    17BC_DPL0.005.pkl  25BC_DPL0.005.pkl  32BC_DA0.005.pkl   40BC_DPL0.005.pkl  48BC_DPL0.005.pkl  56BC_DPL0.005.pkl  64BC_DA0.005.pkl   71BC_DPL0.005.pkl  79BC_UA0.005.pkl   87BC_UNQ0.005.pkl  95BC_DA0.005.pkl\n",
    "0BC_UNQ0.005.pkl   17BC_UA0.005.pkl   25BC_UA0.005.pkl   32BC_DPL0.005.pkl  40BC_UNQ0.005.pkl  48BC_UA0.005.pkl   56BC_UA0.005.pkl   64BC_DPL0.005.pkl  71BC_UA0.005.pkl   79BC_UNQ0.005.pkl  88BC_DA0.005.pkl   95BC_DPL0.005.pkl\n",
    "10BC_DA0.005.pkl   17BC_UNQ0.005.pkl  25BC_UNQ0.005.pkl  32BC_UA0.005.pkl   41BC_DA0.005.pkl   48BC_UNQ0.005.pkl  56BC_UNQ0.005.pkl  64BC_UA0.005.pkl   71BC_UNQ0.005.pkl  7BC_DA0.005.pkl    88BC_DPL0.005.pkl  95BC_UA0.005.pkl\n",
    "10BC_DPL0.005.pkl  18BC_DA0.005.pkl   26BC_DA0.005.pkl   32BC_UNQ0.005.pkl  41BC_DPL0.005.pkl  49BC_DA0.005.pkl   57BC_DA0.005.pkl   64BC_UNQ0.005.pkl  72BC_DA0.005.pkl   7BC_DPL0.005.pkl   88BC_UA0.005.pkl   95BC_UNQ0.005.pkl\n",
    "10BC_UA0.005.pkl   18BC_DPL0.005.pkl  26BC_DPL0.005.pkl  33BC_DA0.005.pkl   41BC_UA0.005.pkl   49BC_DPL0.005.pkl  57BC_DPL0.005.pkl  65BC_DA0.005.pkl   72BC_DPL0.005.pkl  7BC_UA0.005.pkl    88BC_UNQ0.005.pkl  96BC_DA0.005.pkl\n",
    "10BC_UNQ0.005.pkl  18BC_UA0.005.pkl   26BC_UA0.005.pkl   33BC_DPL0.005.pkl  41BC_UNQ0.005.pkl  49BC_UNQ0.005.pkl  57BC_UA0.005.pkl   65BC_DPL0.005.pkl  72BC_UA0.005.pkl   7BC_UNQ0.005.pkl   89BC_DA0.005.pkl   96BC_DPL0.005.pkl\n",
    "11BC_DA0.005.pkl   18BC_UNQ0.005.pkl  26BC_UNQ0.005.pkl  33BC_UA0.005.pkl   42BC_DA0.005.pkl   4BC_DA0.005.pkl    57BC_UNQ0.005.pkl  65BC_UA0.005.pkl   72BC_UNQ0.005.pkl  80BC_DA0.005.pkl   89BC_DPL0.005.pkl  96BC_UA0.005.pkl\n",
    "11BC_DPL0.005.pkl  19BC_DA0.005.pkl   27BC_DA0.005.pkl   33BC_UNQ0.005.pkl  42BC_DPL0.005.pkl  4BC_DPL0.005.pkl   58BC_DA0.005.pkl   65BC_UNQ0.005.pkl  73BC_DA0.005.pkl   80BC_DPL0.005.pkl  89BC_UA0.005.pkl   96BC_UNQ0.005.pkl\n",
    "11BC_UA0.005.pkl   19BC_DPL0.005.pkl  27BC_DPL0.005.pkl  35BC_DA0.005.pkl   42BC_UA0.005.pkl   4BC_UA0.005.pkl    58BC_DPL0.005.pkl  66BC_UA0.005.pkl   73BC_DPL0.005.pkl  80BC_UA0.005.pkl   89BC_UNQ0.005.pkl  97BC_DA0.005.pkl\n",
    "11BC_UNQ0.005.pkl  19BC_UA0.005.pkl   27BC_UA0.005.pkl   35BC_DPL0.005.pkl  42BC_UNQ0.005.pkl  4BC_UNQ0.005.pkl   58BC_UA0.005.pkl   66BC_UNQ0.005.pkl  74BC_DA0.005.pkl   80BC_UNQ0.005.pkl  8BC_DA0.005.pkl    97BC_DPL0.005.pkl\n",
    "12BC_DA0.005.pkl   19BC_UNQ0.005.pkl  27BC_UNQ0.005.pkl  36BC_DA0.005.pkl   43BC_DA0.005.pkl   50BC_DA0.005.pkl   58BC_UNQ0.005.pkl  67BC_DA0.005.pkl   74BC_DPL0.005.pkl  81BC_DA0.005.pkl   8BC_DPL0.005.pkl   97BC_UA0.005.pkl\n",
    "12BC_DPL0.005.pkl  20BC_DA0.005.pkl   28BC_DA0.005.pkl   36BC_DPL0.005.pkl  43BC_DPL0.005.pkl  50BC_DPL0.005.pkl  59BC_DA0.005.pkl   67BC_DPL0.005.pkl  74BC_UA0.005.pkl   81BC_DPL0.005.pkl  8BC_UA0.005.pkl    97BC_UNQ0.005.pkl\n",
    "12BC_UA0.005.pkl   20BC_DPL0.005.pkl  28BC_DPL0.005.pkl  36BC_UA0.005.pkl   43BC_UA0.005.pkl   50BC_UA0.005.pkl   59BC_DPL0.005.pkl  67BC_UA0.005.pkl   74BC_UNQ0.005.pkl  81BC_UA0.005.pkl   8BC_UNQ0.005.pkl   98BC_DA0.005.pkl\n",
    "12BC_UNQ0.005.pkl  20BC_UA0.005.pkl   28BC_UA0.005.pkl   36BC_UNQ0.005.pkl  43BC_UNQ0.005.pkl  50BC_UNQ0.005.pkl  59BC_UA0.005.pkl   67BC_UNQ0.005.pkl  75BC_DA0.005.pkl   81BC_UNQ0.005.pkl  90BC_DA0.005.pkl   98BC_DPL0.005.pkl\n",
    "13BC_DA0.005.pkl   20BC_UNQ0.005.pkl  28BC_UNQ0.005.pkl  37BC_DA0.005.pkl   44BC_DA0.005.pkl   51BC_DA0.005.pkl   59BC_UNQ0.005.pkl  68BC_DA0.005.pkl   75BC_DPL0.005.pkl  82BC_DA0.005.pkl   90BC_DPL0.005.pkl  98BC_UA0.005.pkl\n",
    "13BC_DPL0.005.pkl  21BC_DA0.005.pkl   29BC_DA0.005.pkl   37BC_DPL0.005.pkl  44BC_DPL0.005.pkl  51BC_DPL0.005.pkl  5BC_DA0.005.pkl    68BC_DPL0.005.pkl  75BC_UA0.005.pkl   82BC_DPL0.005.pkl  90BC_UA0.005.pkl   98BC_UNQ0.005.pkl\n",
    "13BC_UA0.005.pkl   21BC_DPL0.005.pkl  29BC_DPL0.005.pkl  37BC_UA0.005.pkl   44BC_UA0.005.pkl   51BC_UA0.005.pkl   5BC_DPL0.005.pkl   68BC_UA0.005.pkl   75BC_UNQ0.005.pkl  82BC_UA0.005.pkl   90BC_UNQ0.005.pkl  99BC_DA0.005.pkl\n",
    "13BC_UNQ0.005.pkl  21BC_UA0.005.pkl   29BC_UA0.005.pkl   37BC_UNQ0.005.pkl  44BC_UNQ0.005.pkl  51BC_UNQ0.005.pkl  5BC_UA0.005.pkl    68BC_UNQ0.005.pkl  76BC_DA0.005.pkl   82BC_UNQ0.005.pkl  91BC_DA0.005.pkl   99BC_UA0.005.pkl\n",
    "14BC_DA0.005.pkl   21BC_UNQ0.005.pkl  29BC_UNQ0.005.pkl  38BC_DA0.005.pkl   45BC_DA0.005.pkl   52BC_DA0.005.pkl   5BC_UNQ0.005.pkl   69BC_DA0.005.pkl   76BC_DPL0.005.pkl  83BC_DA0.005.pkl   91BC_DPL0.005.pkl  9BC_DA0.005.pkl\n",
    "14BC_DPL0.005.pkl  22BC_DA0.005.pkl   2BC_DA0.005.pkl    38BC_DPL0.005.pkl  45BC_DPL0.005.pkl  52BC_DPL0.005.pkl  60BC_DA0.005.pkl   69BC_DPL0.005.pkl  76BC_UA0.005.pkl   83BC_DPL0.005.pkl  91BC_UA0.005.pkl   9BC_DPL0.005.pkl\n",
    "14BC_UA0.005.pkl   22BC_DPL0.005.pkl  2BC_DPL0.005.pkl   38BC_UA0.005.pkl   45BC_UA0.005.pkl   52BC_UA0.005.pkl   60BC_DPL0.005.pkl  69BC_UA0.005.pkl   76BC_UNQ0.005.pkl  83BC_UA0.005.pkl   91BC_UNQ0.005.pkl  9BC_UA0.005.pkl\n",
    "14BC_UNQ0.005.pkl  22BC_UA0.005.pkl   2BC_UA0.005.pkl    38BC_UNQ0.005.pkl  45BC_UNQ0.005.pkl  53BC_DA0.005.pkl   60BC_UA0.005.pkl   69BC_UNQ0.005.pkl  77BC_DA0.005.pkl   83BC_UNQ0.005.pkl  92BC_UA0.005.pkl   9BC_UNQ0.005.pkl\n",
    "15BC_DA0.005.pkl   22BC_UNQ0.005.pkl  2BC_UNQ0.005.pkl   39BC_DA0.005.pkl   46BC_DA0.005.pkl   53BC_DPL0.005.pkl  60BC_UNQ0.005.pkl  6BC_DA0.005.pkl    77BC_DPL0.005.pkl  84BC_DA0.005.pkl   92BC_UNQ0.005.pkl\n",
    "15BC_DPL0.005.pkl  23BC_DA0.005.pkl   30BC_DA0.005.pkl   39BC_DPL0.005.pkl  46BC_DPL0.005.pkl  53BC_UA0.005.pkl   62BC_DA0.005.pkl   6BC_DPL0.005.pkl   77BC_UA0.005.pkl   84BC_DPL0.005.pkl  93BC_DA0.005.pkl\n",
    "15BC_UA0.005.pkl   23BC_DPL0.005.pkl  30BC_DPL0.005.pkl  39BC_UA0.005.pkl   46BC_UA0.005.pkl   53BC_UNQ0.005.pkl  62BC_DPL0.005.pkl  6BC_UA0.005.pkl    77BC_UNQ0.005.pkl  86BC_DA0.005.pkl   93BC_DPL0.005.pkl\n",
    "15BC_UNQ0.005.pkl  23BC_UA0.005.pkl   30BC_UA0.005.pkl   39BC_UNQ0.005.pkl  46BC_UNQ0.005.pkl  54BC_DA0.005.pkl   62BC_UA0.005.pkl   6BC_UNQ0.005.pkl   78BC_DA0.005.pkl   86BC_DPL0.005.pkl  93BC_UA0.005.pkl\n",
    "16BC_DA0.005.pkl   23BC_UNQ0.005.pkl  30BC_UNQ0.005.pkl  3BC_DA0.005.pkl    47BC_DA0.005.pkl   54BC_DPL0.005.pkl  62BC_UNQ0.005.pkl  70BC_DA0.005.pkl   78BC_DPL0.005.pkl  86BC_UA0.005.pkl   93BC_UNQ0.005.pkl\n",
    "16BC_DPL0.005.pkl  24BC_DA0.005.pkl   31BC_DA0.005.pkl   3BC_DPL0.005.pkl   47BC_DPL0.005.pkl  54BC_UA0.005.pkl   63BC_DA0.005.pkl   70BC_DPL0.005.pkl  78BC_UA0.005.pkl   86BC_UNQ0.005.pkl  94BC_DA0.005.pkl\n",
    "16BC_UA0.005.pkl   24BC_DPL0.005.pkl  31BC_DPL0.005.pkl  3BC_UA0.005.pkl    47BC_UA0.005.pkl   54BC_UNQ0.005.pkl  63BC_DPL0.005.pkl  70BC_UA0.005.pkl   78BC_UNQ0.005.pkl  87BC_DA0.005.pkl   94BC_DPL0.005.pkl\n",
    "\"\"\""
   ]
  },
  {
   "cell_type": "code",
   "execution_count": 4,
   "metadata": {},
   "outputs": [
    {
     "data": {
      "text/plain": [
       "365"
      ]
     },
     "execution_count": 4,
     "metadata": {},
     "output_type": "execute_result"
    }
   ],
   "source": [
    "words = text.split()\n",
    "len(words)"
   ]
  },
  {
   "cell_type": "markdown",
   "metadata": {},
   "source": [
    "# Algorithm"
   ]
  },
  {
   "cell_type": "markdown",
   "metadata": {},
   "source": [
    "##Missing"
   ]
  },
  {
   "cell_type": "code",
   "execution_count": 5,
   "metadata": {},
   "outputs": [],
   "source": [
    "### Combined Analysis for Unique and Duplicate ###\n",
    "TotalCountUnique = []\n",
    "TotalCountDuplicate = []\n",
    "TotalCountDuplicateUNQ = []\n",
    "TotalCountDuplicateDPL = []\n",
    "\n",
    "for i in range(0, 100):\n",
    "    substringUNQ = str(i) + Abbrv + \"_U\"\n",
    "    substringDPL = str(i) + Abbrv + \"_D\"\n",
    "\n",
    "    # Unique occurrences\n",
    "    unique_occurrencesUNQ = {word for word in words if word.startswith(substringUNQ)}\n",
    "    unique_occurrencesDPL = {word for word in words if word.startswith(substringDPL)}\n",
    "\n",
    "    countUNQ = len(unique_occurrencesUNQ)\n",
    "    countDPL = len(unique_occurrencesDPL)\n",
    "\n",
    "    TotalCountUnique.append(countUNQ)\n",
    "    TotalCountDuplicate.append(countDPL)\n",
    "\n",
    "    # Duplicate occurrences\n",
    "    occurrencesUNQ = [word for word in words if word.startswith(substringUNQ)]\n",
    "    occurrencesDPL = [word for word in words if word.startswith(substringDPL)]\n",
    "\n",
    "    countDuplicatesUNQ = len(occurrencesUNQ)\n",
    "    countDuplicatesDPL = len(occurrencesDPL)\n",
    "\n",
    "    TotalCountDuplicateUNQ.append(countDuplicatesUNQ)\n",
    "    TotalCountDuplicateDPL.append(countDuplicatesDPL)\n",
    "\n",
    "### Convert to DataFrames ###\n",
    "TotalCountUnique = pd.DataFrame(TotalCountUnique, columns=[\"Unique\"])\n",
    "TotalCountDuplicate = pd.DataFrame(TotalCountDuplicate, columns=[\"Duplicate\"])\n",
    "TotalCountDuplicateUNQ = pd.DataFrame(TotalCountDuplicateUNQ, columns=[\"Duplicate_UNQ\"])\n",
    "TotalCountDuplicateDPL = pd.DataFrame(TotalCountDuplicateDPL, columns=[\"Duplicate_DPL\"])\n",
    "\n",
    "### Identify Missing ###\n",
    "MissingUNQ = list(TotalCountUnique[TotalCountUnique[\"Unique\"] < 1].index)\n",
    "MissingDPL = list(TotalCountDuplicate[TotalCountDuplicate[\"Duplicate\"] < 1].index)\n",
    "\n",
    "### Identify Duplicates ###\n",
    "DuplicateIndicesUNQ = list(TotalCountDuplicateUNQ[TotalCountDuplicateUNQ[\"Duplicate_UNQ\"] > 1].index)\n",
    "DuplicateIndicesDPL = list(TotalCountDuplicateDPL[TotalCountDuplicateDPL[\"Duplicate_DPL\"] > 1].index)\n"
   ]
  },
  {
   "cell_type": "markdown",
   "metadata": {},
   "source": [
    "# Results"
   ]
  },
  {
   "cell_type": "code",
   "execution_count": 6,
   "metadata": {},
   "outputs": [
    {
     "name": "stdout",
     "output_type": "stream",
     "text": [
      "Missing Indices for UNQ: [1, 34, 35, 61, 73, 84, 85]\n",
      "Missing Indices for DPL: [1, 34, 55, 61, 66, 85, 92]\n",
      "Duplicate Indices for UNQ: [0, 2, 3, 4, 5, 6, 7, 8, 9, 10, 11, 12, 13, 14, 15, 16, 17, 18, 19, 20, 21, 22, 23, 25, 26, 27, 28, 29, 30, 31, 32, 33, 36, 37, 38, 39, 41, 42, 43, 44, 45, 46, 47, 48, 50, 51, 53, 54, 55, 56, 57, 58, 59, 60, 62, 63, 64, 65, 66, 67, 68, 69, 70, 71, 72, 74, 75, 76, 77, 78, 79, 80, 81, 82, 83, 86, 87, 88, 89, 90, 91, 92, 93, 94, 95, 96, 97, 98]\n",
      "Duplicate Indices for DPL: [0, 2, 3, 4, 5, 6, 7, 8, 9, 10, 11, 12, 13, 14, 15, 16, 17, 18, 19, 20, 21, 22, 23, 24, 25, 26, 27, 28, 29, 30, 31, 32, 33, 35, 36, 37, 38, 39, 40, 41, 42, 43, 44, 45, 46, 47, 48, 49, 50, 51, 52, 53, 54, 57, 58, 59, 60, 62, 63, 64, 65, 67, 68, 69, 70, 71, 72, 73, 74, 75, 76, 77, 78, 79, 80, 81, 82, 83, 84, 86, 87, 88, 89, 90, 91, 93, 94, 95, 96, 97, 98]\n"
     ]
    }
   ],
   "source": [
    "### Outputs ###\n",
    "print(\"Missing Indices for UNQ:\", MissingUNQ)\n",
    "print(\"Missing Indices for DPL:\", MissingDPL)\n",
    "print(\"Duplicate Indices for UNQ:\", DuplicateIndicesUNQ)\n",
    "print(\"Duplicate Indices for DPL:\", DuplicateIndicesDPL)"
   ]
  },
  {
   "cell_type": "code",
   "execution_count": 7,
   "metadata": {},
   "outputs": [],
   "source": [
    "# MissingDPL_List = [str(item) + Abbrv + \"_D\" + str(\"0M3_DM0.1.pkl\")[5:9] for item in MissingDPL]\n",
    "# MissingUNQ_List = [str(item) + Abbrv + \"_U\" + str(\"0M3_DM0.1.pkl\")[5:9] for item in MissingUNQ]"
   ]
  },
  {
   "cell_type": "code",
   "execution_count": 8,
   "metadata": {},
   "outputs": [],
   "source": [
    "# print(\"Missing JobNames for UNQ:\", MissingUNQ_List)\n",
    "# print(\"Missing JobNames for DPL:\", MissingDPL_List)\n",
    "# print(\"Missing (combined) JobNames:\", MissingDPL_List + MissingUNQ_List)"
   ]
  },
  {
   "cell_type": "code",
   "execution_count": 9,
   "metadata": {},
   "outputs": [],
   "source": [
    "# MissingDPL_List + MissingUNQ_List"
   ]
  }
 ],
 "metadata": {
  "kernelspec": {
   "display_name": "Python 3",
   "language": "python",
   "name": "python3"
  },
  "language_info": {
   "codemirror_mode": {
    "name": "ipython",
    "version": 3
   },
   "file_extension": ".py",
   "mimetype": "text/x-python",
   "name": "python",
   "nbconvert_exporter": "python",
   "pygments_lexer": "ipython3",
   "version": "3.9.6"
  }
 },
 "nbformat": 4,
 "nbformat_minor": 2
}
