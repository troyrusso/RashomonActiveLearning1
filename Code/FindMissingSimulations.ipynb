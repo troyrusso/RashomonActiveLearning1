{
 "cells": [
  {
   "cell_type": "markdown",
   "metadata": {},
   "source": [
    "# Packages"
   ]
  },
  {
   "cell_type": "code",
   "execution_count": 1,
   "metadata": {},
   "outputs": [],
   "source": [
    "import pandas as pd"
   ]
  },
  {
   "cell_type": "markdown",
   "metadata": {},
   "source": [
    "# Input"
   ]
  },
  {
   "cell_type": "code",
   "execution_count": 2,
   "metadata": {},
   "outputs": [],
   "source": [
    "Abbrv=\"IS\""
   ]
  },
  {
   "cell_type": "code",
   "execution_count": 3,
   "metadata": {},
   "outputs": [],
   "source": [
    "words=[\"0IS_DM0.4.pkl\",\"16IS_DM0.4.pkl\",\"22IS_DM0.4.pkl\",\"29IS_DM0.4.pkl\",\"35IS_DM0.4.pkl\",\"42IS_DM0.4.pkl\",\"49IS_DM0.4.pkl\",\"55IS_DM0.4.pkl\",\"61IS_DM0.4.pkl\",\"68IS_DM0.4.pkl\",\"74IS_DM0.4.pkl\",\"80IS_DM0.4.pkl\",\"87IS_DM0.4.pkl\",\"93IS_DM0.4.pkl\",\"9IS_DM0.4.pkl\",\n",
    "\"10IS_DM0.4.pkl\",\"17IS_DM0.4.pkl\",\"23IS_DM0.4.pkl\",\"2IS_DM0.4.pkl\",\"36IS_DM0.4.pkl\",\"43IS_DM0.4.pkl\",\"4IS_DM0.4.pkl\",\"56IS_DM0.4.pkl\",\"62IS_DM0.4.pkl\",\"69IS_DM0.4.pkl\",\"75IS_DM0.4.pkl\",\"81IS_DM0.4.pkl\",\"88IS_DM0.4.pkl\",\"94IS_DM0.4.pkl\",\n",
    "\"11IS_DM0.4.pkl\",\"18IS_DM0.4.pkl\",\"24IS_DM0.4.pkl\",\"30IS_DM0.4.pkl\",\"38IS_DM0.4.pkl\",\"44IS_DM0.4.pkl\",\"50IS_DM0.4.pkl\",\"57IS_DM0.4.pkl\",\"63IS_DM0.4.pkl\",\"6IS_DM0.4.pkl\",\"76IS_DM0.4.pkl\",\"82IS_DM0.4.pkl\",\"89IS_DM0.4.pkl\",\"95IS_DM0.4.pkl\",\n",
    "\"12IS_DM0.4.pkl\",\"19IS_DM0.4.pkl\",\"25IS_DM0.4.pkl\",\"31IS_DM0.4.pkl\",\"39IS_DM0.4.pkl\",\"45IS_DM0.4.pkl\",\"51IS_DM0.4.pkl\",\"58IS_DM0.4.pkl\",\"64IS_DM0.4.pkl\",\"70IS_DM0.4.pkl\",\"77IS_DM0.4.pkl\",\"83IS_DM0.4.pkl\",\"8IS_DM0.4.pkl\",\"96IS_DM0.4.pkl\",\n",
    "\"13IS_DM0.4.pkl\",\"1IS_DM0.4.pkl\",\"26IS_DM0.4.pkl\",\"32IS_DM0.4.pkl\",\"3IS_DM0.4.pkl\",\"46IS_DM0.4.pkl\",\"52IS_DM0.4.pkl\",\"59IS_DM0.4.pkl\",\"65IS_DM0.4.pkl\",\"71IS_DM0.4.pkl\",\"78IS_DM0.4.pkl\",\"84IS_DM0.4.pkl\",\"90IS_DM0.4.pkl\",\"97IS_DM0.4.pkl\",\n",
    "\"14IS_DM0.4.pkl\",\"20IS_DM0.4.pkl\",\"27IS_DM0.4.pkl\",\"33IS_DM0.4.pkl\",\"40IS_DM0.4.pkl\",\"47IS_DM0.4.pkl\",\"53IS_DM0.4.pkl\",\"5IS_DM0.4.pkl\",\"66IS_DM0.4.pkl\",\"72IS_DM0.4.pkl\",\"79IS_DM0.4.pkl\",\"85IS_DM0.4.pkl\",\"91IS_DM0.4.pkl\",\"98IS_DM0.4.pkl\",\n",
    "\"15IS_DM0.4.pkl\",\"21IS_DM0.4.pkl\",\"28IS_DM0.4.pkl\",\"34IS_DM0.4.pkl\",\"41IS_DM0.4.pkl\",\"48IS_DM0.4.pkl54IS_DM0.4.pkl60IS_DM0.4.pkl67IS_DM0.4.pkl\",\"73IS_DM0.4.pkl\",\"7IS_DM0.4.pkl\",\" 86IS_DM0.4.pkl\",\"92IS_DM0.4.pkl\",\"99IS_DM0.4.pkl\"]"
   ]
  },
  {
   "cell_type": "code",
   "execution_count": 4,
   "metadata": {},
   "outputs": [
    {
     "data": {
      "text/plain": [
       "96"
      ]
     },
     "execution_count": 4,
     "metadata": {},
     "output_type": "execute_result"
    }
   ],
   "source": [
    "len(words)"
   ]
  },
  {
   "cell_type": "markdown",
   "metadata": {},
   "source": [
    "# Algorithm"
   ]
  },
  {
   "cell_type": "markdown",
   "metadata": {},
   "source": [
    "##Missing"
   ]
  },
  {
   "cell_type": "code",
   "execution_count": 5,
   "metadata": {},
   "outputs": [],
   "source": [
    "### Combined Analysis for Unique and Duplicate ###\n",
    "TotalCountUnique = []\n",
    "TotalCountDuplicate = []\n",
    "TotalCountDuplicateUNQ = []\n",
    "TotalCountDuplicateDPL = []\n",
    "\n",
    "for i in range(0, 100):\n",
    "    substringUNQ = str(i) + Abbrv + \"_U\"\n",
    "    substringDPL = str(i) + Abbrv + \"_D\"\n",
    "\n",
    "    # Unique occurrences\n",
    "    unique_occurrencesUNQ = {word for word in words if word.startswith(substringUNQ)}\n",
    "    unique_occurrencesDPL = {word for word in words if word.startswith(substringDPL)}\n",
    "\n",
    "    countUNQ = len(unique_occurrencesUNQ)\n",
    "    countDPL = len(unique_occurrencesDPL)\n",
    "\n",
    "    TotalCountUnique.append(countUNQ)\n",
    "    TotalCountDuplicate.append(countDPL)\n",
    "\n",
    "    # Duplicate occurrences\n",
    "    occurrencesUNQ = [word for word in words if word.startswith(substringUNQ)]\n",
    "    occurrencesDPL = [word for word in words if word.startswith(substringDPL)]\n",
    "\n",
    "    countDuplicatesUNQ = len(occurrencesUNQ)\n",
    "    countDuplicatesDPL = len(occurrencesDPL)\n",
    "\n",
    "    TotalCountDuplicateUNQ.append(countDuplicatesUNQ)\n",
    "    TotalCountDuplicateDPL.append(countDuplicatesDPL)\n",
    "\n",
    "### Convert to DataFrames ###\n",
    "TotalCountUnique = pd.DataFrame(TotalCountUnique, columns=[\"Unique\"])\n",
    "TotalCountDuplicate = pd.DataFrame(TotalCountDuplicate, columns=[\"Duplicate\"])\n",
    "TotalCountDuplicateUNQ = pd.DataFrame(TotalCountDuplicateUNQ, columns=[\"Duplicate_UNQ\"])\n",
    "TotalCountDuplicateDPL = pd.DataFrame(TotalCountDuplicateDPL, columns=[\"Duplicate_DPL\"])\n",
    "\n",
    "### Identify Missing ###\n",
    "MissingUNQ = list(TotalCountUnique[TotalCountUnique[\"Unique\"] < 1].index)\n",
    "MissingDPL = list(TotalCountDuplicate[TotalCountDuplicate[\"Duplicate\"] < 1].index)\n",
    "\n",
    "### Identify Duplicates ###\n",
    "DuplicateIndicesUNQ = list(TotalCountDuplicateUNQ[TotalCountDuplicateUNQ[\"Duplicate_UNQ\"] > 1].index)\n",
    "DuplicateIndicesDPL = list(TotalCountDuplicateDPL[TotalCountDuplicateDPL[\"Duplicate_DPL\"] > 1].index)\n"
   ]
  },
  {
   "cell_type": "markdown",
   "metadata": {},
   "source": [
    "# Results"
   ]
  },
  {
   "cell_type": "code",
   "execution_count": 6,
   "metadata": {},
   "outputs": [
    {
     "name": "stdout",
     "output_type": "stream",
     "text": [
      "Missing Indices for UNQ: [0, 1, 2, 3, 4, 5, 6, 7, 8, 9, 10, 11, 12, 13, 14, 15, 16, 17, 18, 19, 20, 21, 22, 23, 24, 25, 26, 27, 28, 29, 30, 31, 32, 33, 34, 35, 36, 37, 38, 39, 40, 41, 42, 43, 44, 45, 46, 47, 48, 49, 50, 51, 52, 53, 54, 55, 56, 57, 58, 59, 60, 61, 62, 63, 64, 65, 66, 67, 68, 69, 70, 71, 72, 73, 74, 75, 76, 77, 78, 79, 80, 81, 82, 83, 84, 85, 86, 87, 88, 89, 90, 91, 92, 93, 94, 95, 96, 97, 98, 99]\n",
      "Missing Indices for DPL: [37, 54, 60, 67, 86]\n",
      "Duplicate Indices for UNQ: []\n",
      "Duplicate Indices for DPL: []\n"
     ]
    }
   ],
   "source": [
    "\n",
    "### Outputs ###\n",
    "print(\"Missing Indices for UNQ:\", MissingUNQ)\n",
    "print(\"Missing Indices for DPL:\", MissingDPL)\n",
    "print(\"Duplicate Indices for UNQ:\", DuplicateIndicesUNQ)\n",
    "print(\"Duplicate Indices for DPL:\", DuplicateIndicesDPL)\n"
   ]
  }
 ],
 "metadata": {
  "kernelspec": {
   "display_name": "Python 3",
   "language": "python",
   "name": "python3"
  },
  "language_info": {
   "codemirror_mode": {
    "name": "ipython",
    "version": 3
   },
   "file_extension": ".py",
   "mimetype": "text/x-python",
   "name": "python",
   "nbconvert_exporter": "python",
   "pygments_lexer": "ipython3",
   "version": "3.9.6"
  }
 },
 "nbformat": 4,
 "nbformat_minor": 2
}
