{
 "cells": [
  {
   "cell_type": "markdown",
   "metadata": {},
   "source": [
    "# Packages"
   ]
  },
  {
   "cell_type": "code",
   "execution_count": 1,
   "metadata": {},
   "outputs": [],
   "source": [
    "import pandas as pd"
   ]
  },
  {
   "cell_type": "markdown",
   "metadata": {},
   "source": [
    "# Input"
   ]
  },
  {
   "cell_type": "code",
   "execution_count": 2,
   "metadata": {},
   "outputs": [],
   "source": [
    "Abbrv=\"M3\""
   ]
  },
  {
   "cell_type": "code",
   "execution_count": 3,
   "metadata": {},
   "outputs": [],
   "source": [
    "words=[\"0M3_DM0.1.pkl\",\"15M3_UM0.1.pkl\",\"22M3_DM0.1.pkl\",\"28M3_UM0.1.pkl\",\"34M3_UM0.1.pkl\",\"42M3_UM0.1.pkl\",\"49M3_DM0.1.pkl\",\"55M3_UM0.1.pkl\",\"61M3_DM0.1.pkl\",\"67M3_UM0.1.pkl\",\"74M3_DM0.1.pkl\",\"7M3_UM0.1.pkl\",\"86M3_UM0.1.pkl\",\"92M3_DM0.1.pkl\",\"9M3_UM0.1.pkl\",\n",
    "\"0M3_UM0.1.pkl\",\"16M3_DM0.1.pkl\",\"22M3_UM0.1.pkl\",\"29M3_DM0.1.pkl\",\"35M3_DM0.1.pkl\",\"43M3_DM0.1.pkl\",\"49M3_UM0.1.pkl\",\"56M3_DM0.1.pkl\",\"61M3_UM0.1.pkl\",\"68M3_DM0.1.pkl\",\"74M3_UM0.1.pkl\",\"80M3_DM0.1.pkl\",\"87M3_DM0.1.pkl\",\"92M3_UM0.1.pkl\",\n",
    "\"10M3_DM0.1.pkl\",\"16M3_UM0.1.pkl\",\"23M3_DM0.1.pkl\",\"29M3_UM0.1.pkl\",\"35M3_UM0.1.pkl\",\"43M3_UM0.1.pkl\",\"50M3_DM0.1.pkl\",\"56M3_UM0.1.pkl\",\"62M3_DM0.1.pkl\",\"68M3_UM0.1.pkl\",\"75M3_DM0.1.pkl\",\"80M3_UM0.1.pkl\",\"87M3_UM0.1.pkl\",\"93M3_DM0.1.pkl\",\n",
    "\"10M3_UM0.1.pkl\",\"18M3_DM0.1.pkl\",\"23M3_UM0.1.pkl\",\"2M3_DM0.1.pkl\",\"37M3_DM0.1.pkl\",\"44M3_DM0.1.pkl\",\"50M3_UM0.1.pkl\",\"57M3_DM0.1.pkl\",\"62M3_UM0.1.pkl\",\"69M3_DM0.1.pkl\",\"75M3_UM0.1.pkl\",\"81M3_DM0.1.pkl\",\"88M3_DM0.1.pkl\",\"93M3_UM0.1.pkl\",\n",
    "\"11M3_DM0.1.pkl\",\"18M3_UM0.1.pkl\",\"24M3_DM0.1.pkl\",\"2M3_UM0.1.pkl\",\"37M3_UM0.1.pkl\",\"44M3_UM0.1.pkl\",\"51M3_DM0.1.pkl\",\"57M3_UM0.1.pkl\",\"63M3_DM0.1.pkl\",\"69M3_UM0.1.pkl\",\"76M3_DM0.1.pkl\",\"81M3_UM0.1.pkl\",\"88M3_UM0.1.pkl\",\"94M3_DM0.1.pkl\",\n",
    "\"11M3_UM0.1.pkl\",\"19M3_DM0.1.pkl\",\"24M3_UM0.1.pkl\",\"30M3_DM0.1.pkl\",\"38M3_DM0.1.pkl\",\"45M3_DM0.1.pkl\",\"51M3_UM0.1.pkl\",\"58M3_DM0.1.pkl\",\"63M3_UM0.1.pkl\",\"6M3_DM0.1.pkl\",\"76M3_UM0.1.pkl\",\"82M3_DM0.1.pkl\",\"89M3_DM0.1.pkl\",\"94M3_UM0.1.pkl\",\n",
    "\"12M3_DM0.1.pkl\",\"19M3_UM0.1.pkl\",\"25M3_DM0.1.pkl\",\"30M3_UM0.1.pkl\",\"39M3_DM0.1.pkl\",\"45M3_UM0.1.pkl\",\"52M3_DM0.1.pkl\",\"58M3_UM0.1.pkl\",\"64M3_DM0.1.pkl\",\"6M3_UM0.1.pkl\",\"77M3_DM0.1.pkl\",\"83M3_DM0.1.pkl\",\"89M3_UM0.1.pkl\",\"95M3_DM0.1.pkl\",\n",
    "\"12M3_UM0.1.pkl\",\"1M3_DM0.1.pkl\",\"25M3_UM0.1.pkl\",\"31M3_DM0.1.pkl\",\"39M3_UM0.1.pkl\",\"46M3_DM0.1.pkl\",\"52M3_UM0.1.pkl\",\"59M3_DM0.1.pkl\",\"64M3_UM0.1.pkl\",\"71M3_DM0.1.pkl\",\"77M3_UM0.1.pkl\",\"83M3_UM0.1.pkl\",\"8M3_DM0.1.pkl\",\"95M3_UM0.1.pkl\",\n",
    "\"13M3_DM0.1.pkl\",\"1M3_UM0.1.pkl\",\"26M3_DM0.1.pkl\",\"32M3_DM0.1.pkl\",\"3M3_DM0.1.pkl\",\"46M3_UM0.1.pkl\",\"53M3_DM0.1.pkl\",\"59M3_UM0.1.pkl\",\"65M3_DM0.1.pkl\",\"71M3_UM0.1.pkl\",\"78M3_DM0.1.pkl\",\"84M3_DM0.1.pkl\",\"8M3_UM0.1.pkl\",\"98M3_DM0.1.pkl\",\n",
    "\"13M3_UM0.1.pkl\",\"20M3_DM0.1.pkl\",\"26M3_UM0.1.pkl\",\"32M3_UM0.1.pkl\",\"3M3_UM0.1.pkl\",\"47M3_DM0.1.pkl\",\"53M3_UM0.1.pkl\",\"5M3_DM0.1.pkl\",\"65M3_UM0.1.pkl\",\"72M3_DM0.1.pkl\",\"78M3_UM0.1.pkl\",\"84M3_UM0.1.pkl\",\"90M3_DM0.1.pkl\",\"98M3_UM0.1.pkl\",\n",
    "\"14M3_DM0.1.pkl\",\"20M3_UM0.1.pkl\",\"27M3_DM0.1.pkl\",\"33M3_DM0.1.pkl\",\"41M3_DM0.1.pkl\",\"47M3_UM0.1.pkl\",\"54M3_DM0.1.pkl\",\"5M3_UM0.1.pkl\",\"66M3_DM0.1.pkl\",\"72M3_UM0.1.pkl\",\"79M3_DM0.1.pkl\",\"85M3_DM0.1.pkl\",\"90M3_UM0.1.pkl\",\"99M3_DM0.1.pkl\",\n",
    "\"14M3_UM0.1.pkl\",\"21M3_DM0.1.pkl\",\"27M3_UM0.1.pkl\",\"33M3_UM0.1.pkl\",\"41M3_UM0.1.pkl\",\"48M3_DM0.1.pkl\",\"54M3_UM0.1.pkl\",\"60M3_DM0.1.pkl\",\"66M3_UM0.1.pkl\",\"73M3_DM0.1.pkl\",\"79M3_UM0.1.pkl\",\"85M3_UM0.1.pkl\",\"91M3_DM0.1.pkl\",\"99M3_UM0.1.pkl\",\n",
    "\"15M3_DM0.1.pkl\",\"21M3_UM0.1.pkl\",\"28M3_DM0.1.pkl\",\"34M3_DM0.1.pkl\",\"42M3_DM0.1.pkl\",\"48M3_UM0.1.pkl\",\"55M3_DM0.1.pkl\",\"60M3_UM0.1.pkl\",\"67M3_DM0.1.pkl\",\"73M3_UM0.1.pkl\",\"7M3_DM0.1.pkl\",\"86M3_DM0.1.pkl\",\"91M3_UM0.1.pkl\",\"9M3_DM0.1.pkl\"]\n"
   ]
  },
  {
   "cell_type": "code",
   "execution_count": 4,
   "metadata": {},
   "outputs": [
    {
     "data": {
      "text/plain": [
       "183"
      ]
     },
     "execution_count": 4,
     "metadata": {},
     "output_type": "execute_result"
    }
   ],
   "source": [
    "len(words)"
   ]
  },
  {
   "cell_type": "markdown",
   "metadata": {},
   "source": [
    "# Algorithm"
   ]
  },
  {
   "cell_type": "markdown",
   "metadata": {},
   "source": [
    "##Missing"
   ]
  },
  {
   "cell_type": "code",
   "execution_count": 5,
   "metadata": {},
   "outputs": [],
   "source": [
    "### Combined Analysis for Unique and Duplicate ###\n",
    "TotalCountUnique = []\n",
    "TotalCountDuplicate = []\n",
    "TotalCountDuplicateUNQ = []\n",
    "TotalCountDuplicateDPL = []\n",
    "\n",
    "for i in range(0, 100):\n",
    "    substringUNQ = str(i) + Abbrv + \"_U\"\n",
    "    substringDPL = str(i) + Abbrv + \"_D\"\n",
    "\n",
    "    # Unique occurrences\n",
    "    unique_occurrencesUNQ = {word for word in words if word.startswith(substringUNQ)}\n",
    "    unique_occurrencesDPL = {word for word in words if word.startswith(substringDPL)}\n",
    "\n",
    "    countUNQ = len(unique_occurrencesUNQ)\n",
    "    countDPL = len(unique_occurrencesDPL)\n",
    "\n",
    "    TotalCountUnique.append(countUNQ)\n",
    "    TotalCountDuplicate.append(countDPL)\n",
    "\n",
    "    # Duplicate occurrences\n",
    "    occurrencesUNQ = [word for word in words if word.startswith(substringUNQ)]\n",
    "    occurrencesDPL = [word for word in words if word.startswith(substringDPL)]\n",
    "\n",
    "    countDuplicatesUNQ = len(occurrencesUNQ)\n",
    "    countDuplicatesDPL = len(occurrencesDPL)\n",
    "\n",
    "    TotalCountDuplicateUNQ.append(countDuplicatesUNQ)\n",
    "    TotalCountDuplicateDPL.append(countDuplicatesDPL)\n",
    "\n",
    "### Convert to DataFrames ###\n",
    "TotalCountUnique = pd.DataFrame(TotalCountUnique, columns=[\"Unique\"])\n",
    "TotalCountDuplicate = pd.DataFrame(TotalCountDuplicate, columns=[\"Duplicate\"])\n",
    "TotalCountDuplicateUNQ = pd.DataFrame(TotalCountDuplicateUNQ, columns=[\"Duplicate_UNQ\"])\n",
    "TotalCountDuplicateDPL = pd.DataFrame(TotalCountDuplicateDPL, columns=[\"Duplicate_DPL\"])\n",
    "\n",
    "### Identify Missing ###\n",
    "MissingUNQ = list(TotalCountUnique[TotalCountUnique[\"Unique\"] < 1].index)\n",
    "MissingDPL = list(TotalCountDuplicate[TotalCountDuplicate[\"Duplicate\"] < 1].index)\n",
    "\n",
    "### Identify Duplicates ###\n",
    "DuplicateIndicesUNQ = list(TotalCountDuplicateUNQ[TotalCountDuplicateUNQ[\"Duplicate_UNQ\"] > 1].index)\n",
    "DuplicateIndicesDPL = list(TotalCountDuplicateDPL[TotalCountDuplicateDPL[\"Duplicate_DPL\"] > 1].index)\n"
   ]
  },
  {
   "cell_type": "markdown",
   "metadata": {},
   "source": [
    "# Results"
   ]
  },
  {
   "cell_type": "code",
   "execution_count": 6,
   "metadata": {},
   "outputs": [
    {
     "name": "stdout",
     "output_type": "stream",
     "text": [
      "Missing Indices for UNQ: [4, 17, 31, 36, 38, 40, 70, 82, 96, 97]\n",
      "Missing Indices for DPL: [4, 17, 36, 40, 70, 96, 97]\n",
      "Duplicate Indices for UNQ: []\n",
      "Duplicate Indices for DPL: []\n"
     ]
    }
   ],
   "source": [
    "\n",
    "### Outputs ###\n",
    "print(\"Missing Indices for UNQ:\", MissingUNQ)\n",
    "print(\"Missing Indices for DPL:\", MissingDPL)\n",
    "print(\"Duplicate Indices for UNQ:\", DuplicateIndicesUNQ)\n",
    "print(\"Duplicate Indices for DPL:\", DuplicateIndicesDPL)\n"
   ]
  },
  {
   "cell_type": "code",
   "execution_count": 32,
   "metadata": {},
   "outputs": [],
   "source": [
    "MissingDPL_List = [str(item) + Abbrv + \"_D\" + str(\"0M3_DM0.1.pkl\")[5:9] for item in MissingDPL]\n",
    "MissingUNQ_List = [str(item) + Abbrv + \"_U\" + str(\"0M3_DM0.1.pkl\")[5:9] for item in MissingUNQ]"
   ]
  },
  {
   "cell_type": "code",
   "execution_count": 39,
   "metadata": {},
   "outputs": [
    {
     "name": "stdout",
     "output_type": "stream",
     "text": [
      "Missing JobNames for UNQ: ['4M3_UM0.1', '17M3_UM0.1', '31M3_UM0.1', '36M3_UM0.1', '38M3_UM0.1', '40M3_UM0.1', '70M3_UM0.1', '82M3_UM0.1', '96M3_UM0.1', '97M3_UM0.1']\n",
      "Missing JobNames for DPL: ['4M3_DM0.1', '17M3_DM0.1', '36M3_DM0.1', '40M3_DM0.1', '70M3_DM0.1', '96M3_DM0.1', '97M3_DM0.1']\n",
      "Missing (combined) JobNames: ['4M3_DM0.1', '17M3_DM0.1', '36M3_DM0.1', '40M3_DM0.1', '70M3_DM0.1', '96M3_DM0.1', '97M3_DM0.1', '4M3_UM0.1', '17M3_UM0.1', '31M3_UM0.1', '36M3_UM0.1', '38M3_UM0.1', '40M3_UM0.1', '70M3_UM0.1', '82M3_UM0.1', '96M3_UM0.1', '97M3_UM0.1']\n"
     ]
    }
   ],
   "source": [
    "print(\"Missing JobNames for UNQ:\", MissingUNQ_List)\n",
    "print(\"Missing JobNames for DPL:\", MissingDPL_List)\n",
    "print(\"Missing (combined) JobNames:\", MissingDPL_List + MissingUNQ_List)"
   ]
  },
  {
   "cell_type": "code",
   "execution_count": 36,
   "metadata": {},
   "outputs": [
    {
     "data": {
      "text/plain": [
       "['4M3_DM0.1',\n",
       " '17M3_DM0.1',\n",
       " '36M3_DM0.1',\n",
       " '40M3_DM0.1',\n",
       " '70M3_DM0.1',\n",
       " '96M3_DM0.1',\n",
       " '97M3_DM0.1',\n",
       " '4M3_UM0.1',\n",
       " '17M3_UM0.1',\n",
       " '31M3_UM0.1',\n",
       " '36M3_UM0.1',\n",
       " '38M3_UM0.1',\n",
       " '40M3_UM0.1',\n",
       " '70M3_UM0.1',\n",
       " '82M3_UM0.1',\n",
       " '96M3_UM0.1',\n",
       " '97M3_UM0.1']"
      ]
     },
     "execution_count": 36,
     "metadata": {},
     "output_type": "execute_result"
    }
   ],
   "source": [
    "MissingDPL_List + MissingUNQ_List"
   ]
  }
 ],
 "metadata": {
  "kernelspec": {
   "display_name": "Python 3",
   "language": "python",
   "name": "python3"
  },
  "language_info": {
   "codemirror_mode": {
    "name": "ipython",
    "version": 3
   },
   "file_extension": ".py",
   "mimetype": "text/x-python",
   "name": "python",
   "nbconvert_exporter": "python",
   "pygments_lexer": "ipython3",
   "version": "3.9.6"
  }
 },
 "nbformat": 4,
 "nbformat_minor": 2
}
