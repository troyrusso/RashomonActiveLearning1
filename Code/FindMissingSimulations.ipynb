{
 "cells": [
  {
   "cell_type": "markdown",
   "metadata": {},
   "source": [
    "# Packages"
   ]
  },
  {
   "cell_type": "code",
   "execution_count": 1,
   "metadata": {},
   "outputs": [],
   "source": [
    "import pandas as pd"
   ]
  },
  {
   "cell_type": "markdown",
   "metadata": {},
   "source": [
    "# Input"
   ]
  },
  {
   "cell_type": "code",
   "execution_count": 2,
   "metadata": {},
   "outputs": [],
   "source": [
    "Abbrv=\"BC\"\n",
    "Threshold = 0.02"
   ]
  },
  {
   "cell_type": "code",
   "execution_count": 3,
   "metadata": {},
   "outputs": [],
   "source": [
    "# Input text\n",
    "text = \"\"\"\n",
    "90BC_DA0.02.pkl   91BC_DA0.02.pkl   92BC_DA0.02.pkl   93BC_DA0.02.pkl   94BC_DA0.02.pkl   95BC_DA0.02.pkl   96BC_DA0.02.pkl   97BC_DA0.02.pkl   98BC_DA0.02.pkl   99BC_DA0.02.pkl   9BC_DA0.02.pkl   delete_results.sh\n",
    " 90BC_UA0.02.pkl   91BC_UA0.02.pkl   92BC_UA0.02.pkl   93BC_UA0.02.pkl   94BC_UA0.02.pkl   95BC_UA0.02.pkl   96BC_UA0.02.pkl   97BC_UA0.02.pkl   98BC_UA0.02.pkl   99BC_UA0.02.pkl   9BC_UA0.02.pkl  ' .foo.png'\n",
    " \"\"\""
   ]
  },
  {
   "cell_type": "code",
   "execution_count": 4,
   "metadata": {},
   "outputs": [
    {
     "data": {
      "text/plain": [
       "25"
      ]
     },
     "execution_count": 4,
     "metadata": {},
     "output_type": "execute_result"
    }
   ],
   "source": [
    "words = text.split()\n",
    "len(words)"
   ]
  },
  {
   "cell_type": "markdown",
   "metadata": {},
   "source": [
    "# Algorithm"
   ]
  },
  {
   "cell_type": "markdown",
   "metadata": {},
   "source": [
    "##Missing"
   ]
  },
  {
   "cell_type": "code",
   "execution_count": 5,
   "metadata": {},
   "outputs": [],
   "source": [
    "### Combined Analysis for Unique and Duplicate ###\n",
    "TotalCountUnique = []\n",
    "TotalCountDuplicate = []\n",
    "TotalCountDuplicateUNQ = []\n",
    "TotalCountDuplicateDPL = []\n",
    "\n",
    "for i in range(0, 100):\n",
    "    substringUNQ = str(i) + Abbrv + \"_U\"\n",
    "    substringDPL = str(i) + Abbrv + \"_D\"\n",
    "\n",
    "    # Unique occurrences\n",
    "    unique_occurrencesUNQ = {word for word in words if word.startswith(substringUNQ)}\n",
    "    unique_occurrencesDPL = {word for word in words if word.startswith(substringDPL)}\n",
    "\n",
    "    countUNQ = len(unique_occurrencesUNQ)\n",
    "    countDPL = len(unique_occurrencesDPL)\n",
    "\n",
    "    TotalCountUnique.append(countUNQ)\n",
    "    TotalCountDuplicate.append(countDPL)\n",
    "\n",
    "    # Duplicate occurrences\n",
    "    occurrencesUNQ = [word for word in words if word.startswith(substringUNQ)]\n",
    "    occurrencesDPL = [word for word in words if word.startswith(substringDPL)]\n",
    "\n",
    "    countDuplicatesUNQ = len(occurrencesUNQ)\n",
    "    countDuplicatesDPL = len(occurrencesDPL)\n",
    "\n",
    "    TotalCountDuplicateUNQ.append(countDuplicatesUNQ)\n",
    "    TotalCountDuplicateDPL.append(countDuplicatesDPL)\n",
    "\n",
    "### Convert to DataFrames ###\n",
    "TotalCountUnique = pd.DataFrame(TotalCountUnique, columns=[\"Unique\"])\n",
    "TotalCountDuplicate = pd.DataFrame(TotalCountDuplicate, columns=[\"Duplicate\"])\n",
    "TotalCountDuplicateUNQ = pd.DataFrame(TotalCountDuplicateUNQ, columns=[\"Duplicate_UNQ\"])\n",
    "TotalCountDuplicateDPL = pd.DataFrame(TotalCountDuplicateDPL, columns=[\"Duplicate_DPL\"])\n",
    "\n",
    "### Identify Missing ###\n",
    "MissingUNQ = list(TotalCountUnique[TotalCountUnique[\"Unique\"] < 1].index)\n",
    "MissingDPL = list(TotalCountDuplicate[TotalCountDuplicate[\"Duplicate\"] < 1].index)\n",
    "\n",
    "### Identify Duplicates ###\n",
    "DuplicateIndicesUNQ = list(TotalCountDuplicateUNQ[TotalCountDuplicateUNQ[\"Duplicate_UNQ\"] > 1].index)\n",
    "DuplicateIndicesDPL = list(TotalCountDuplicateDPL[TotalCountDuplicateDPL[\"Duplicate_DPL\"] > 1].index)\n",
    "\n",
    "### Have Both ###\n",
    "InBothBoolean = (TotalCountUnique[\"Unique\"] == 1) & (TotalCountDuplicate[\"Duplicate\"] == 1)\n",
    "HaveBoth = list(InBothBoolean[InBothBoolean == True].index)"
   ]
  },
  {
   "cell_type": "markdown",
   "metadata": {},
   "source": [
    "# Results"
   ]
  },
  {
   "cell_type": "code",
   "execution_count": 6,
   "metadata": {},
   "outputs": [
    {
     "name": "stdout",
     "output_type": "stream",
     "text": [
      "Missing Indices for UNQ: [0, 1, 2, 3, 4, 5, 6, 7, 8, 10, 11, 12, 13, 14, 15, 16, 17, 18, 19, 20, 21, 22, 23, 24, 25, 26, 27, 28, 29, 30, 31, 32, 33, 34, 35, 36, 37, 38, 39, 40, 41, 42, 43, 44, 45, 46, 47, 48, 49, 50, 51, 52, 53, 54, 55, 56, 57, 58, 59, 60, 61, 62, 63, 64, 65, 66, 67, 68, 69, 70, 71, 72, 73, 74, 75, 76, 77, 78, 79, 80, 81, 82, 83, 84, 85, 86, 87, 88, 89]\n",
      "Missing Indices for DPL: [0, 1, 2, 3, 4, 5, 6, 7, 8, 10, 11, 12, 13, 14, 15, 16, 17, 18, 19, 20, 21, 22, 23, 24, 25, 26, 27, 28, 29, 30, 31, 32, 33, 34, 35, 36, 37, 38, 39, 40, 41, 42, 43, 44, 45, 46, 47, 48, 49, 50, 51, 52, 53, 54, 55, 56, 57, 58, 59, 60, 61, 62, 63, 64, 65, 66, 67, 68, 69, 70, 71, 72, 73, 74, 75, 76, 77, 78, 79, 80, 81, 82, 83, 84, 85, 86, 87, 88, 89]\n",
      "Duplicate Indices for UNQ: []\n",
      "Duplicate Indices for DPL: []\n"
     ]
    }
   ],
   "source": [
    "### Outputs ###\n",
    "print(\"Missing Indices for UNQ:\", MissingUNQ)\n",
    "print(\"Missing Indices for DPL:\", MissingDPL)\n",
    "print(\"Duplicate Indices for UNQ:\", DuplicateIndicesUNQ)\n",
    "print(\"Duplicate Indices for DPL:\", DuplicateIndicesDPL)"
   ]
  },
  {
   "cell_type": "markdown",
   "metadata": {},
   "source": [
    "# Generate Missing JobNames"
   ]
  },
  {
   "cell_type": "code",
   "execution_count": 7,
   "metadata": {},
   "outputs": [],
   "source": [
    "MissingDPL_List = [str(item) + Abbrv + \"_DA\" + str(str(Threshold)) for item in MissingDPL]\n",
    "MissingUNQ_List = [str(item) + Abbrv + \"_UA\" + str(str(Threshold)) for item in MissingUNQ]\n",
    "# HaveBothDPL_List = [str(item) + Abbrv + \"_DA\" + str(str(Threshold)) for item in HaveBoth[0:UpToNum]]\n",
    "# HaveBothUNQ_List = [str(item) + Abbrv + \"_UA\" + str(str(Threshold)) for item in HaveBoth[0:UpToNum]]\n",
    "\n",
    "HaveBothDPL_List = [str(item) + Abbrv + \"_DA\" + str(str(Threshold)) for item in HaveBoth]\n",
    "HaveBothUNQ_List = [str(item) + Abbrv + \"_UA\" + str(str(Threshold)) for item in HaveBoth]"
   ]
  },
  {
   "cell_type": "code",
   "execution_count": 8,
   "metadata": {},
   "outputs": [
    {
     "name": "stdout",
     "output_type": "stream",
     "text": [
      "Missing (combined) JobNames:\n",
      "['0BC_DA0.02', '1BC_DA0.02', '2BC_DA0.02', '3BC_DA0.02', '4BC_DA0.02', '5BC_DA0.02', '6BC_DA0.02', '7BC_DA0.02', '8BC_DA0.02', '10BC_DA0.02', '11BC_DA0.02', '12BC_DA0.02', '13BC_DA0.02', '14BC_DA0.02', '15BC_DA0.02', '16BC_DA0.02', '17BC_DA0.02', '18BC_DA0.02', '19BC_DA0.02', '20BC_DA0.02', '21BC_DA0.02', '22BC_DA0.02', '23BC_DA0.02', '24BC_DA0.02', '25BC_DA0.02', '26BC_DA0.02', '27BC_DA0.02', '28BC_DA0.02', '29BC_DA0.02', '30BC_DA0.02', '31BC_DA0.02', '32BC_DA0.02', '33BC_DA0.02', '34BC_DA0.02', '35BC_DA0.02', '36BC_DA0.02', '37BC_DA0.02', '38BC_DA0.02', '39BC_DA0.02', '40BC_DA0.02', '41BC_DA0.02', '42BC_DA0.02', '43BC_DA0.02', '44BC_DA0.02', '45BC_DA0.02', '46BC_DA0.02', '47BC_DA0.02', '48BC_DA0.02', '49BC_DA0.02', '50BC_DA0.02', '51BC_DA0.02', '52BC_DA0.02', '53BC_DA0.02', '54BC_DA0.02', '55BC_DA0.02', '56BC_DA0.02', '57BC_DA0.02', '58BC_DA0.02', '59BC_DA0.02', '60BC_DA0.02', '61BC_DA0.02', '62BC_DA0.02', '63BC_DA0.02', '64BC_DA0.02', '65BC_DA0.02', '66BC_DA0.02', '67BC_DA0.02', '68BC_DA0.02', '69BC_DA0.02', '70BC_DA0.02', '71BC_DA0.02', '72BC_DA0.02', '73BC_DA0.02', '74BC_DA0.02', '75BC_DA0.02', '76BC_DA0.02', '77BC_DA0.02', '78BC_DA0.02', '79BC_DA0.02', '80BC_DA0.02', '81BC_DA0.02', '82BC_DA0.02', '83BC_DA0.02', '84BC_DA0.02', '85BC_DA0.02', '86BC_DA0.02', '87BC_DA0.02', '88BC_DA0.02', '89BC_DA0.02', '0BC_UA0.02', '1BC_UA0.02', '2BC_UA0.02', '3BC_UA0.02', '4BC_UA0.02', '5BC_UA0.02', '6BC_UA0.02', '7BC_UA0.02', '8BC_UA0.02', '10BC_UA0.02', '11BC_UA0.02', '12BC_UA0.02', '13BC_UA0.02', '14BC_UA0.02', '15BC_UA0.02', '16BC_UA0.02', '17BC_UA0.02', '18BC_UA0.02', '19BC_UA0.02', '20BC_UA0.02', '21BC_UA0.02', '22BC_UA0.02', '23BC_UA0.02', '24BC_UA0.02', '25BC_UA0.02', '26BC_UA0.02', '27BC_UA0.02', '28BC_UA0.02', '29BC_UA0.02', '30BC_UA0.02', '31BC_UA0.02', '32BC_UA0.02', '33BC_UA0.02', '34BC_UA0.02', '35BC_UA0.02', '36BC_UA0.02', '37BC_UA0.02', '38BC_UA0.02', '39BC_UA0.02', '40BC_UA0.02', '41BC_UA0.02', '42BC_UA0.02', '43BC_UA0.02', '44BC_UA0.02', '45BC_UA0.02', '46BC_UA0.02', '47BC_UA0.02', '48BC_UA0.02', '49BC_UA0.02', '50BC_UA0.02', '51BC_UA0.02', '52BC_UA0.02', '53BC_UA0.02', '54BC_UA0.02', '55BC_UA0.02', '56BC_UA0.02', '57BC_UA0.02', '58BC_UA0.02', '59BC_UA0.02', '60BC_UA0.02', '61BC_UA0.02', '62BC_UA0.02', '63BC_UA0.02', '64BC_UA0.02', '65BC_UA0.02', '66BC_UA0.02', '67BC_UA0.02', '68BC_UA0.02', '69BC_UA0.02', '70BC_UA0.02', '71BC_UA0.02', '72BC_UA0.02', '73BC_UA0.02', '74BC_UA0.02', '75BC_UA0.02', '76BC_UA0.02', '77BC_UA0.02', '78BC_UA0.02', '79BC_UA0.02', '80BC_UA0.02', '81BC_UA0.02', '82BC_UA0.02', '83BC_UA0.02', '84BC_UA0.02', '85BC_UA0.02', '86BC_UA0.02', '87BC_UA0.02', '88BC_UA0.02', '89BC_UA0.02']\n"
     ]
    }
   ],
   "source": [
    "# print(\"Missing JobNames for UNQ:\", MissingUNQ_List)\n",
    "# print(\"Missing JobNames for DPL:\", MissingDPL_List)\n",
    "print(\"Missing (combined) JobNames:\")\n",
    "print(MissingDPL_List + MissingUNQ_List)"
   ]
  },
  {
   "cell_type": "code",
   "execution_count": 9,
   "metadata": {},
   "outputs": [
    {
     "data": {
      "text/plain": [
       "178"
      ]
     },
     "execution_count": 9,
     "metadata": {},
     "output_type": "execute_result"
    }
   ],
   "source": [
    "len(MissingDPL_List + MissingUNQ_List)"
   ]
  },
  {
   "cell_type": "code",
   "execution_count": 10,
   "metadata": {},
   "outputs": [
    {
     "name": "stdout",
     "output_type": "stream",
     "text": [
      "Have both JobNames:\n",
      "[9, 90, 91, 92, 93, 94, 95, 96, 97, 98, 99]\n",
      "['9BC_DA0.02', '90BC_DA0.02', '91BC_DA0.02', '92BC_DA0.02', '93BC_DA0.02', '94BC_DA0.02', '95BC_DA0.02', '96BC_DA0.02', '97BC_DA0.02', '98BC_DA0.02', '99BC_DA0.02', '9BC_UA0.02', '90BC_UA0.02', '91BC_UA0.02', '92BC_UA0.02', '93BC_UA0.02', '94BC_UA0.02', '95BC_UA0.02', '96BC_UA0.02', '97BC_UA0.02', '98BC_UA0.02', '99BC_UA0.02']\n"
     ]
    }
   ],
   "source": [
    "print(\"Have both JobNames:\")\n",
    "print(HaveBoth)\n",
    "print(HaveBothDPL_List + HaveBothUNQ_List)"
   ]
  },
  {
   "cell_type": "code",
   "execution_count": 12,
   "metadata": {},
   "outputs": [
    {
     "data": {
      "text/plain": [
       "11"
      ]
     },
     "execution_count": 12,
     "metadata": {},
     "output_type": "execute_result"
    }
   ],
   "source": [
    "len(HaveBoth)"
   ]
  }
 ],
 "metadata": {
  "kernelspec": {
   "display_name": "Python 3",
   "language": "python",
   "name": "python3"
  },
  "language_info": {
   "codemirror_mode": {
    "name": "ipython",
    "version": 3
   },
   "file_extension": ".py",
   "mimetype": "text/x-python",
   "name": "python",
   "nbconvert_exporter": "python",
   "pygments_lexer": "ipython3",
   "version": "3.9.6"
  }
 },
 "nbformat": 4,
 "nbformat_minor": 2
}
