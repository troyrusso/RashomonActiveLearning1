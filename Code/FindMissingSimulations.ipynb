{
 "cells": [
  {
   "cell_type": "markdown",
   "metadata": {},
   "source": [
    "# Packages"
   ]
  },
  {
   "cell_type": "code",
   "execution_count": 1,
   "metadata": {},
   "outputs": [],
   "source": [
    "import pandas as pd "
   ]
  },
  {
   "cell_type": "markdown",
   "metadata": {},
   "source": [
    "# Input"
   ]
  },
  {
   "cell_type": "code",
   "execution_count": 2,
   "metadata": {},
   "outputs": [],
   "source": [
    "Abbrv = \"BC\""
   ]
  },
  {
   "cell_type": "code",
   "execution_count": 3,
   "metadata": {},
   "outputs": [],
   "source": [
    "words = [\"0BC_DPL0.009.pkl\",\"16BC_DPL0.009.pkl\",\"22BC_DPL0.009.pkl\",\"29BC_DPL0.009.pkl\",\"35BC_DPL0.009.pkl\",\"41BC_DPL0.009.pkl\",\"48BC_DPL0.009.pkl\",\"55BC_DPL0.009.pkl\",\"61BC_DPL0.009.pkl\",\"68BC_DPL0.009.pkl\",\"74BC_DPL0.009.pkl\",\"80BC_DPL0.009.pkl\",\"87BC_DPL0.009.pkl\",\"93BC_DPL0.009.pkl\",\"9BC_DPL0.009.pkl\",\n",
    "\"10BC_DPL0.009.pkl\",\"17BC_DPL0.009.pkl\",\"23BC_DPL0.009.pkl\",\"2BC_DPL0.009.pkl\",\"36BC_DPL0.009.pkl\",\"42BC_DPL0.009.pkl\",\"49BC_DPL0.009.pkl\",\"56BC_DPL0.009.pkl\",\"62BC_DPL0.009.pkl\",\"69BC_DPL0.009.pkl\",\"75BC_DPL0.009.pkl\",\"81BC_DPL0.009.pkl\",\"88BC_DPL0.009.pkl\",\"94BC_DPL0.009.pkl\",\n",
    "\"11BC_DPL0.009.pkl\",\"18BC_DPL0.009.pkl\",\"24BC_DPL0.009.pkl\",\"30BC_DPL0.009.pkl\",\"37BC_DPL0.009.pkl\",\"43BC_DPL0.009.pkl\",\"50BC_DPL0.009.pkl\",\"57BC_DPL0.009.pkl\",\"63BC_DPL0.009.pkl\",\"6BC_DPL0.009.pkl\",\"76BC_DPL0.009.pkl\",\"82BC_DPL0.009.pkl\",\"89BC_DPL0.009.pkl\",\"95BC_DPL0.009.pkl\",\n",
    "\"12BC_DPL0.009.pkl\",\"19BC_DPL0.009.pkl\",\"25BC_DPL0.009.pkl\",\"31BC_DPL0.009.pkl\",\"38BC_DPL0.009.pkl\",\"44BC_DPL0.009.pkl\",\"51BC_DPL0.009.pkl\",\"58BC_DPL0.009.pkl\",\"64BC_DPL0.009.pkl\",\"70BC_DPL0.009.pkl\",\"77BC_DPL0.009.pkl\",\"83BC_DPL0.009.pkl\",\"8BC_DPL0.009.pkl\",\"96BC_DPL0.009.pkl\",\n",
    "\"13BC_DPL0.009.pkl\",\"1BC_DPL0.009.pkl\",\"26BC_DPL0.009.pkl\",\"32BC_DPL0.009.pkl\",\"39BC_DPL0.009.pkl\",\"45BC_DPL0.009.pkl\",\"52BC_DPL0.009.pkl\",\"59BC_DPL0.009.pkl\",\"65BC_DPL0.009.pkl\",\"71BC_DPL0.009.pkl\",\"78BC_DPL0.009.pkl\",\"84BC_DPL0.009.pkl\",\"90BC_DPL0.009.pkl\",\"97BC_DPL0.009.pkl\",\n",
    "\"14BC_DPL0.009.pkl\",\"20BC_DPL0.009.pkl\",\"27BC_DPL0.009.pkl\",\"33BC_DPL0.009.pkl\",\"3BC_DPL0.009.pkl\",\"46BC_DPL0.009.pkl\",\"53BC_DPL0.009.pkl\",\"5BC_DPL0.009.pkl\",\"66BC_DPL0.009.pkl\",\"72BC_DPL0.009.pkl\",\"79BC_DPL0.009.pkl\",\"85BC_DPL0.009.pkl\",\"91BC_DPL0.009.pkl\",\"98BC_DPL0.009.pkl\",\n",
    "\"15BC_DPL0.009.pkl\",\"21BC_DPL0.009.pkl\",\"28BC_DPL0.009.pkl\",\"34BC_DPL0.009.pkl\",\"40BC_DPL0.009.pkl\",\"47BC_DPL0.009.pkl\",\"54BC_DPL0.009.pkl\",\"60BC_DPL0.009.pkl\",\"67BC_DPL0.009.pkl\",\"73BC_DPL0.009.pkl\",\"7BC_DPL0.009.pkl\",\"86BC_DPL0.009.pkl\",\"92BC_DPL0.009.pkl\",\"99BC_DPL0.009.pkl\"]\n"
   ]
  },
  {
   "cell_type": "code",
   "execution_count": 4,
   "metadata": {},
   "outputs": [
    {
     "data": {
      "text/plain": [
       "99"
      ]
     },
     "execution_count": 4,
     "metadata": {},
     "output_type": "execute_result"
    }
   ],
   "source": [
    "len(words)"
   ]
  },
  {
   "cell_type": "markdown",
   "metadata": {},
   "source": [
    "# Algorithm"
   ]
  },
  {
   "cell_type": "markdown",
   "metadata": {},
   "source": [
    "## Missing"
   ]
  },
  {
   "cell_type": "code",
   "execution_count": 5,
   "metadata": {},
   "outputs": [
    {
     "name": "stdout",
     "output_type": "stream",
     "text": [
      "Missing Indices for UNQ: [0, 1, 2, 3, 4, 5, 6, 7, 8, 9, 10, 11, 12, 13, 14, 15, 16, 17, 18, 19, 20, 21, 22, 23, 24, 25, 26, 27, 28, 29, 30, 31, 32, 33, 34, 35, 36, 37, 38, 39, 40, 41, 42, 43, 44, 45, 46, 47, 48, 49, 50, 51, 52, 53, 54, 55, 56, 57, 58, 59, 60, 61, 62, 63, 64, 65, 66, 67, 68, 69, 70, 71, 72, 73, 74, 75, 76, 77, 78, 79, 80, 81, 82, 83, 84, 85, 86, 87, 88, 89, 90, 91, 92, 93, 94, 95, 96, 97, 98, 99]\n",
      "Missing Indices for DPL: [4]\n",
      "Duplicate Indices for UNQ: []\n",
      "Duplicate Indices for DPL: []\n"
     ]
    }
   ],
   "source": [
    "### Combined Analysis for Unique and Duplicate ###\n",
    "TotalCountUnique = []\n",
    "TotalCountDuplicate = []\n",
    "TotalCountDuplicateUNQ = []\n",
    "TotalCountDuplicateDPL = []\n",
    "\n",
    "for i in range(0, 100):\n",
    "    substringUNQ = str(i) + Abbrv + \"_UNQ\"\n",
    "    substringDPL = str(i) + Abbrv + \"_DPL\"\n",
    "\n",
    "    # Unique occurrences\n",
    "    unique_occurrencesUNQ = {word for word in words if word.startswith(substringUNQ)}\n",
    "    unique_occurrencesDPL = {word for word in words if word.startswith(substringDPL)}\n",
    "\n",
    "    countUNQ = len(unique_occurrencesUNQ)\n",
    "    countDPL = len(unique_occurrencesDPL)\n",
    "\n",
    "    TotalCountUnique.append(countUNQ)\n",
    "    TotalCountDuplicate.append(countDPL)\n",
    "\n",
    "    # Duplicate occurrences\n",
    "    occurrencesUNQ = [word for word in words if word.startswith(substringUNQ)]\n",
    "    occurrencesDPL = [word for word in words if word.startswith(substringDPL)]\n",
    "\n",
    "    countDuplicatesUNQ = len(occurrencesUNQ)\n",
    "    countDuplicatesDPL = len(occurrencesDPL)\n",
    "\n",
    "    TotalCountDuplicateUNQ.append(countDuplicatesUNQ)\n",
    "    TotalCountDuplicateDPL.append(countDuplicatesDPL)\n",
    "\n",
    "### Convert to DataFrames ###\n",
    "TotalCountUnique = pd.DataFrame(TotalCountUnique, columns=[\"Unique\"])\n",
    "TotalCountDuplicate = pd.DataFrame(TotalCountDuplicate, columns=[\"Duplicate\"])\n",
    "TotalCountDuplicateUNQ = pd.DataFrame(TotalCountDuplicateUNQ, columns=[\"Duplicate_UNQ\"])\n",
    "TotalCountDuplicateDPL = pd.DataFrame(TotalCountDuplicateDPL, columns=[\"Duplicate_DPL\"])\n",
    "\n",
    "### Identify Missing ###\n",
    "MissingUNQ = list(TotalCountUnique[TotalCountUnique[\"Unique\"] < 1].index)\n",
    "MissingDPL = list(TotalCountDuplicate[TotalCountDuplicate[\"Duplicate\"] < 1].index)\n",
    "\n",
    "### Identify Duplicates ###\n",
    "DuplicateIndicesUNQ = list(TotalCountDuplicateUNQ[TotalCountDuplicateUNQ[\"Duplicate_UNQ\"] > 1].index)\n",
    "DuplicateIndicesDPL = list(TotalCountDuplicateDPL[TotalCountDuplicateDPL[\"Duplicate_DPL\"] > 1].index)\n",
    "\n",
    "### Outputs ###\n",
    "print(\"Missing Indices for UNQ:\", MissingUNQ)\n",
    "print(\"Missing Indices for DPL:\", MissingDPL)\n",
    "print(\"Duplicate Indices for UNQ:\", DuplicateIndicesUNQ)\n",
    "print(\"Duplicate Indices for DPL:\", DuplicateIndicesDPL)\n"
   ]
  },
  {
   "cell_type": "markdown",
   "metadata": {},
   "source": [
    "# Results"
   ]
  },
  {
   "cell_type": "markdown",
   "metadata": {},
   "source": [
    "### Missing"
   ]
  },
  {
   "cell_type": "code",
   "execution_count": 6,
   "metadata": {},
   "outputs": [
    {
     "name": "stdout",
     "output_type": "stream",
     "text": [
      "Unique: [0, 1, 2, 3, 4, 5, 6, 7, 8, 9, 10, 11, 12, 13, 14, 15, 16, 17, 18, 19, 20, 21, 22, 23, 24, 25, 26, 27, 28, 29, 30, 31, 32, 33, 34, 35, 36, 37, 38, 39, 40, 41, 42, 43, 44, 45, 46, 47, 48, 49, 50, 51, 52, 53, 54, 55, 56, 57, 58, 59, 60, 61, 62, 63, 64, 65, 66, 67, 68, 69, 70, 71, 72, 73, 74, 75, 76, 77, 78, 79, 80, 81, 82, 83, 84, 85, 86, 87, 88, 89, 90, 91, 92, 93, 94, 95, 96, 97, 98, 99]\n",
      "Duplicate: [4]\n"
     ]
    }
   ],
   "source": [
    "print(\"Unique: \"+  str(MissingUNQ))\n",
    "print(\"Duplicate: \"+  str(MissingDPL))"
   ]
  },
  {
   "cell_type": "markdown",
   "metadata": {},
   "source": [
    "### Duplicate"
   ]
  },
  {
   "cell_type": "code",
   "execution_count": 7,
   "metadata": {},
   "outputs": [
    {
     "name": "stdout",
     "output_type": "stream",
     "text": [
      "Unique: []\n",
      "Duplicate: []\n"
     ]
    }
   ],
   "source": [
    "print(\"Unique: \"+  str(DuplicateIndicesUNQ))\n",
    "print(\"Duplicate: \"+  str(DuplicateIndicesDPL))"
   ]
  }
 ],
 "metadata": {
  "kernelspec": {
   "display_name": "Python 3",
   "language": "python",
   "name": "python3"
  },
  "language_info": {
   "codemirror_mode": {
    "name": "ipython",
    "version": 3
   },
   "file_extension": ".py",
   "mimetype": "text/x-python",
   "name": "python",
   "nbconvert_exporter": "python",
   "pygments_lexer": "ipython3",
   "version": "3.9.6"
  }
 },
 "nbformat": 4,
 "nbformat_minor": 2
}
