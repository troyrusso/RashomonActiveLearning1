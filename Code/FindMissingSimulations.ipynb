{
 "cells": [
  {
   "cell_type": "markdown",
   "metadata": {},
   "source": [
    "# Packages"
   ]
  },
  {
   "cell_type": "code",
   "execution_count": 1,
   "metadata": {},
   "outputs": [],
   "source": [
    "import pandas as pd"
   ]
  },
  {
   "cell_type": "markdown",
   "metadata": {},
   "source": [
    "# Input"
   ]
  },
  {
   "cell_type": "code",
   "execution_count": 2,
   "metadata": {},
   "outputs": [],
   "source": [
    "Abbrv=\"M1\""
   ]
  },
  {
   "cell_type": "code",
   "execution_count": null,
   "metadata": {},
   "outputs": [],
   "source": [
    "words=[\"0M1_UNQ0.041.pkl\",\"16M1_UNQ0.041.pkl\",\"22M1_UNQ0.041.pkl\",\"29M1_UNQ0.041.pkl\",\"34M1_UNQ0.041.pkl\",\"40M1_UNQ0.041.pkl\",\"47M1_UNQ0.041.pkl\",\"53M1_UNQ0.041.pkl\",\"59M1_UNQ0.041.pkl\",\"66M1_UNQ0.041.pkl\",\"72M1_UNQ0.041.pkl\",\"79M1_UNQ0.041.pkl\",\"85M1_UNQ0.041.pkl\",\"91M1_UNQ0.041.pkl\",\"98M1_UNQ0.041.pkl\",\n",
    "\"11M1_UNQ0.041.pkl\",\"17M1_UNQ0.041.pkl\",\"23M1_UNQ0.041.pkl\",\"2M1_UNQ0.041.pkl\",\"35M1_UNQ0.041.pkl\",\"41M1_UNQ0.041.pkl\",\"48M1_UNQ0.041.pkl\",\"54M1_UNQ0.041.pkl\",\"5M1_UNQ0.041.pkl\",\"67M1_UNQ0.041.pkl\",\"73M1_UNQ0.041.pkl\",\"80M1_UNQ0.041.pkl\",\"86M1_UNQ0.041.pkl\",\"92M1_UNQ0.041.pkl\",\"99M1_UNQ0.041.pkl\",\n",
    "\"12M1_UNQ0.041.pkl\",\"18M1_UNQ0.041.pkl\",\"24M1_UNQ0.041.pkl\",\"30M1_UNQ0.041.pkl\",\"36M1_UNQ0.041.pkl\",\"42M1_UNQ0.041.pkl\",\"4M1_UNQ0.041.pkl\",\"55M1_UNQ0.041.pkl\",\"60M1_UNQ0.041.pkl\",\"68M1_UNQ0.041.pkl\",\"74M1_UNQ0.041.pkl\",\"81M1_UNQ0.041.pkl\",\"87M1_UNQ0.041.pkl\",\"93M1_UNQ0.041.pkl\",\"9M1_UNQ0.041.pkl\",\n",
    "\"13M1_UNQ0.041.pkl\",\"1M1_UNQ0.041.pkl\",\"26M1_UNQ0.041.pkl\",\"31M1_UNQ0.041.pkl\",\"37M1_UNQ0.041.pkl\",\"43M1_UNQ0.041.pkl\",\"50M1_UNQ0.041.pkl\",\"56M1_UNQ0.041.pkl\",\"61M1_UNQ0.041.pkl\",\"69M1_UNQ0.041.pkl\",\"75M1_UNQ0.041.pkl\",\"82M1_UNQ0.041.pkl\",\"88M1_UNQ0.041.pkl\",\"95M1_UNQ0.041.pkl\",\n",
    "\"14M1_UNQ0.041.pkl\",\"20M1_UNQ0.041.pkl\",\"27M1_UNQ0.041.pkl\",\"32M1_UNQ0.041.pkl\",\"38M1_UNQ0.041.pkl\",\"44M1_UNQ0.041.pkl\",\"51M1_UNQ0.041.pkl\",\"57M1_UNQ0.041.pkl\",\"62M1_UNQ0.041.pkl\",\"6M1_UNQ0.041.pkl\",\"76M1_UNQ0.041.pkl\",\"83M1_UNQ0.041.pkl\",\"89M1_UNQ0.041.pkl\",\"96M1_UNQ0.041.pkl\",\n",
    "\"15M1_UNQ0.041.pkl\",\"21M1_UNQ0.041.pkl\",\"28M1_UNQ0.041.pkl\",\"33M1_UNQ0.041.pkl\",\"39M1_UNQ0.041.pkl\",\"46M1_UNQ0.041.pkl\",\"52M1_UNQ0.041.pkl\",\"58M1_UNQ0.041.pkl\",\"65M1_UNQ0.041.pkl\",\"71M1_UNQ0.041.pkl\",\"78M1_UNQ0.041.pkl\",\"84M1_UNQ0.041.pkl\",\"8M1_UNQ0.041.pkl\",\"97M1_UNQ0.041.pkl\"]\n"
   ]
  },
  {
   "cell_type": "code",
   "execution_count": 4,
   "metadata": {},
   "outputs": [
    {
     "data": {
      "text/plain": [
       "87"
      ]
     },
     "execution_count": 4,
     "metadata": {},
     "output_type": "execute_result"
    }
   ],
   "source": [
    "len(words)"
   ]
  },
  {
   "cell_type": "markdown",
   "metadata": {},
   "source": [
    "# Algorithm"
   ]
  },
  {
   "cell_type": "markdown",
   "metadata": {},
   "source": [
    "##Missing"
   ]
  },
  {
   "cell_type": "code",
   "execution_count": 5,
   "metadata": {},
   "outputs": [],
   "source": [
    "### Combined Analysis for Unique and Duplicate ###\n",
    "TotalCountUnique = []\n",
    "TotalCountDuplicate = []\n",
    "TotalCountDuplicateUNQ = []\n",
    "TotalCountDuplicateDPL = []\n",
    "\n",
    "for i in range(0, 100):\n",
    "    substringUNQ = str(i) + Abbrv + \"_UNQ\"\n",
    "    substringDPL = str(i) + Abbrv + \"_DPL\"\n",
    "\n",
    "    # Unique occurrences\n",
    "    unique_occurrencesUNQ = {word for word in words if word.startswith(substringUNQ)}\n",
    "    unique_occurrencesDPL = {word for word in words if word.startswith(substringDPL)}\n",
    "\n",
    "    countUNQ = len(unique_occurrencesUNQ)\n",
    "    countDPL = len(unique_occurrencesDPL)\n",
    "\n",
    "    TotalCountUnique.append(countUNQ)\n",
    "    TotalCountDuplicate.append(countDPL)\n",
    "\n",
    "    # Duplicate occurrences\n",
    "    occurrencesUNQ = [word for word in words if word.startswith(substringUNQ)]\n",
    "    occurrencesDPL = [word for word in words if word.startswith(substringDPL)]\n",
    "\n",
    "    countDuplicatesUNQ = len(occurrencesUNQ)\n",
    "    countDuplicatesDPL = len(occurrencesDPL)\n",
    "\n",
    "    TotalCountDuplicateUNQ.append(countDuplicatesUNQ)\n",
    "    TotalCountDuplicateDPL.append(countDuplicatesDPL)\n",
    "\n",
    "### Convert to DataFrames ###\n",
    "TotalCountUnique = pd.DataFrame(TotalCountUnique, columns=[\"Unique\"])\n",
    "TotalCountDuplicate = pd.DataFrame(TotalCountDuplicate, columns=[\"Duplicate\"])\n",
    "TotalCountDuplicateUNQ = pd.DataFrame(TotalCountDuplicateUNQ, columns=[\"Duplicate_UNQ\"])\n",
    "TotalCountDuplicateDPL = pd.DataFrame(TotalCountDuplicateDPL, columns=[\"Duplicate_DPL\"])\n",
    "\n",
    "### Identify Missing ###\n",
    "MissingUNQ = list(TotalCountUnique[TotalCountUnique[\"Unique\"] < 1].index)\n",
    "MissingDPL = list(TotalCountDuplicate[TotalCountDuplicate[\"Duplicate\"] < 1].index)\n",
    "\n",
    "### Identify Duplicates ###\n",
    "DuplicateIndicesUNQ = list(TotalCountDuplicateUNQ[TotalCountDuplicateUNQ[\"Duplicate_UNQ\"] > 1].index)\n",
    "DuplicateIndicesDPL = list(TotalCountDuplicateDPL[TotalCountDuplicateDPL[\"Duplicate_DPL\"] > 1].index)\n"
   ]
  },
  {
   "cell_type": "markdown",
   "metadata": {},
   "source": [
    "# Results"
   ]
  },
  {
   "cell_type": "code",
   "execution_count": 6,
   "metadata": {},
   "outputs": [
    {
     "name": "stdout",
     "output_type": "stream",
     "text": [
      "Missing Indices for UNQ: [3, 7, 10, 19, 25, 45, 49, 63, 64, 70, 77, 90, 94]\n",
      "Missing Indices for DPL: [0, 1, 2, 3, 4, 5, 6, 7, 8, 9, 10, 11, 12, 13, 14, 15, 16, 17, 18, 19, 20, 21, 22, 23, 24, 25, 26, 27, 28, 29, 30, 31, 32, 33, 34, 35, 36, 37, 38, 39, 40, 41, 42, 43, 44, 45, 46, 47, 48, 49, 50, 51, 52, 53, 54, 55, 56, 57, 58, 59, 60, 61, 62, 63, 64, 65, 66, 67, 68, 69, 70, 71, 72, 73, 74, 75, 76, 77, 78, 79, 80, 81, 82, 83, 84, 85, 86, 87, 88, 89, 90, 91, 92, 93, 94, 95, 96, 97, 98, 99]\n",
      "Duplicate Indices for UNQ: []\n",
      "Duplicate Indices for DPL: []\n"
     ]
    }
   ],
   "source": [
    "\n",
    "### Outputs ###\n",
    "print(\"Missing Indices for UNQ:\", MissingUNQ)\n",
    "print(\"Missing Indices for DPL:\", MissingDPL)\n",
    "print(\"Duplicate Indices for UNQ:\", DuplicateIndicesUNQ)\n",
    "print(\"Duplicate Indices for DPL:\", DuplicateIndicesDPL)\n"
   ]
  }
 ],
 "metadata": {
  "kernelspec": {
   "display_name": "Python 3",
   "language": "python",
   "name": "python3"
  },
  "language_info": {
   "codemirror_mode": {
    "name": "ipython",
    "version": 3
   },
   "file_extension": ".py",
   "mimetype": "text/x-python",
   "name": "python",
   "nbconvert_exporter": "python",
   "pygments_lexer": "ipython3",
   "version": "3.9.6"
  }
 },
 "nbformat": 4,
 "nbformat_minor": 2
}
