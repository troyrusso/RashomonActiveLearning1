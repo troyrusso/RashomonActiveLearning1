{
 "cells": [
  {
   "cell_type": "markdown",
   "metadata": {},
   "source": [
    "# Packages"
   ]
  },
  {
   "cell_type": "code",
   "execution_count": 1,
   "metadata": {},
   "outputs": [],
   "source": [
    "import pandas as pd"
   ]
  },
  {
   "cell_type": "markdown",
   "metadata": {},
   "source": [
    "# Input"
   ]
  },
  {
   "cell_type": "code",
   "execution_count": 2,
   "metadata": {},
   "outputs": [],
   "source": [
    "Abbrv=\"BC\"\n",
    "Threshold = 0.04"
   ]
  },
  {
   "cell_type": "code",
   "execution_count": 3,
   "metadata": {},
   "outputs": [],
   "source": [
    "# Input text\n",
    "text = \"\"\"\n",
    " .foo.png\t\t15BC_DA0.04.pkl\t\t25BC_UA0.04.pkl\t\t39BC_DA0.04.pkl\t\t4BC_UA0.04.pkl\t\t76BC_DA0.04.pkl\t\t81BC_UA0.04.pkl\t\t93BC_DA0.04.pkl\t\tdelete_results.sh\n",
    "0BC_DA0.04.pkl\t\t15BC_UA0.04.pkl\t\t26BC_DA0.04.pkl\t\t39BC_UA0.04.pkl\t\t51BC_DA0.04.pkl\t\t76BC_UA0.04.pkl\t\t82BC_DA0.04.pkl\t\t93BC_UA0.04.pkl\n",
    "0BC_UA0.04.pkl\t\t18BC_DA0.04.pkl\t\t26BC_UA0.04.pkl\t\t40BC_DA0.04.pkl\t\t51BC_UA0.04.pkl\t\t78BC_DA0.04.pkl\t\t82BC_UA0.04.pkl\t\t95BC_DA0.04.pkl\n",
    "12BC_DA0.04.pkl\t\t18BC_UA0.04.pkl\t\t2BC_DA0.04.pkl\t\t40BC_UA0.04.pkl\t\t52BC_DA0.04.pkl\t\t78BC_UA0.04.pkl\t\t88BC_DA0.04.pkl\t\t95BC_UA0.04.pkl\n",
    "12BC_UA0.04.pkl\t\t19BC_DA0.04.pkl\t\t2BC_UA0.04.pkl\t\t42BC_DA0.04.pkl\t\t52BC_UA0.04.pkl\t\t7BC_DA0.04.pkl\t\t88BC_UA0.04.pkl\t\t97BC_DA0.04.pkl\n",
    "13BC_DA0.04.pkl\t\t19BC_UA0.04.pkl\t\t34BC_DA0.04.pkl\t\t42BC_UA0.04.pkl\t\t64BC_DA0.04.pkl\t\t7BC_UA0.04.pkl\t\t89BC_DA0.04.pkl\t\t97BC_UA0.04.pkl\n",
    "13BC_UA0.04.pkl\t\t21BC_DA0.04.pkl\t\t34BC_UA0.04.pkl\t\t47BC_DA0.04.pkl\t\t64BC_UA0.04.pkl\t\t80BC_DA0.04.pkl\t\t89BC_UA0.04.pkl\t\t99BC_DA0.04.pkl\n",
    "14BC_DA0.04.pkl\t\t21BC_UA0.04.pkl\t\t37BC_DA0.04.pkl\t\t47BC_UA0.04.pkl\t\t70BC_DA0.04.pkl\t\t80BC_UA0.04.pkl\t\t8BC_DA0.04.pkl\t\t99BC_UA0.04.pkl\n",
    "14BC_UA0.04.pkl\t\t25BC_DA0.04.pkl\t\t37BC_UA0.04.pkl\t\t4BC_DA0.04.pkl\t\t70BC_UA0.04.pkl\t\t81BC_DA0.04.pkl\t\t8BC_UA0.04.pkl\t\tAlone\n",
    "\"\"\""
   ]
  },
  {
   "cell_type": "code",
   "execution_count": 4,
   "metadata": {},
   "outputs": [
    {
     "data": {
      "text/plain": [
       "73"
      ]
     },
     "execution_count": 4,
     "metadata": {},
     "output_type": "execute_result"
    }
   ],
   "source": [
    "words = text.split()\n",
    "len(words)"
   ]
  },
  {
   "cell_type": "markdown",
   "metadata": {},
   "source": [
    "# Algorithm"
   ]
  },
  {
   "cell_type": "markdown",
   "metadata": {},
   "source": [
    "##Missing"
   ]
  },
  {
   "cell_type": "code",
   "execution_count": 5,
   "metadata": {},
   "outputs": [],
   "source": [
    "### Combined Analysis for Unique and Duplicate ###\n",
    "TotalCountUnique = []\n",
    "TotalCountDuplicate = []\n",
    "TotalCountDuplicateUNQ = []\n",
    "TotalCountDuplicateDPL = []\n",
    "\n",
    "for i in range(0, 100):\n",
    "    substringUNQ = str(i) + Abbrv + \"_U\"\n",
    "    substringDPL = str(i) + Abbrv + \"_D\"\n",
    "\n",
    "    # Unique occurrences\n",
    "    unique_occurrencesUNQ = {word for word in words if word.startswith(substringUNQ)}\n",
    "    unique_occurrencesDPL = {word for word in words if word.startswith(substringDPL)}\n",
    "\n",
    "    countUNQ = len(unique_occurrencesUNQ)\n",
    "    countDPL = len(unique_occurrencesDPL)\n",
    "\n",
    "    TotalCountUnique.append(countUNQ)\n",
    "    TotalCountDuplicate.append(countDPL)\n",
    "\n",
    "    # Duplicate occurrences\n",
    "    occurrencesUNQ = [word for word in words if word.startswith(substringUNQ)]\n",
    "    occurrencesDPL = [word for word in words if word.startswith(substringDPL)]\n",
    "\n",
    "    countDuplicatesUNQ = len(occurrencesUNQ)\n",
    "    countDuplicatesDPL = len(occurrencesDPL)\n",
    "\n",
    "    TotalCountDuplicateUNQ.append(countDuplicatesUNQ)\n",
    "    TotalCountDuplicateDPL.append(countDuplicatesDPL)\n",
    "\n",
    "### Convert to DataFrames ###\n",
    "TotalCountUnique = pd.DataFrame(TotalCountUnique, columns=[\"Unique\"])\n",
    "TotalCountDuplicate = pd.DataFrame(TotalCountDuplicate, columns=[\"Duplicate\"])\n",
    "TotalCountDuplicateUNQ = pd.DataFrame(TotalCountDuplicateUNQ, columns=[\"Duplicate_UNQ\"])\n",
    "TotalCountDuplicateDPL = pd.DataFrame(TotalCountDuplicateDPL, columns=[\"Duplicate_DPL\"])\n",
    "\n",
    "### Identify Missing ###\n",
    "MissingUNQ = list(TotalCountUnique[TotalCountUnique[\"Unique\"] < 1].index)\n",
    "MissingDPL = list(TotalCountDuplicate[TotalCountDuplicate[\"Duplicate\"] < 1].index)\n",
    "\n",
    "### Identify Duplicates ###\n",
    "DuplicateIndicesUNQ = list(TotalCountDuplicateUNQ[TotalCountDuplicateUNQ[\"Duplicate_UNQ\"] > 1].index)\n",
    "DuplicateIndicesDPL = list(TotalCountDuplicateDPL[TotalCountDuplicateDPL[\"Duplicate_DPL\"] > 1].index)\n",
    "\n",
    "### Have Both ###\n",
    "InBothBoolean = (TotalCountUnique[\"Unique\"] == 1) & (TotalCountDuplicate[\"Duplicate\"] == 1)\n",
    "HaveBoth = list(InBothBoolean[InBothBoolean == True].index)"
   ]
  },
  {
   "cell_type": "markdown",
   "metadata": {},
   "source": [
    "# Results"
   ]
  },
  {
   "cell_type": "code",
   "execution_count": 6,
   "metadata": {},
   "outputs": [
    {
     "name": "stdout",
     "output_type": "stream",
     "text": [
      "Missing Indices for UNQ: [1, 3, 5, 6, 9, 10, 11, 16, 17, 20, 22, 23, 24, 27, 28, 29, 30, 31, 32, 33, 35, 36, 38, 41, 43, 44, 45, 46, 48, 49, 50, 53, 54, 55, 56, 57, 58, 59, 60, 61, 62, 63, 65, 66, 67, 68, 69, 71, 72, 73, 74, 75, 77, 79, 83, 84, 85, 86, 87, 90, 91, 92, 94, 96, 98]\n",
      "Missing Indices for DPL: [1, 3, 5, 6, 9, 10, 11, 16, 17, 20, 22, 23, 24, 27, 28, 29, 30, 31, 32, 33, 35, 36, 38, 41, 43, 44, 45, 46, 48, 49, 50, 53, 54, 55, 56, 57, 58, 59, 60, 61, 62, 63, 65, 66, 67, 68, 69, 71, 72, 73, 74, 75, 77, 79, 83, 84, 85, 86, 87, 90, 91, 92, 94, 96, 98]\n",
      "Duplicate Indices for UNQ: []\n",
      "Duplicate Indices for DPL: []\n"
     ]
    }
   ],
   "source": [
    "### Outputs ###\n",
    "print(\"Missing Indices for UNQ:\", MissingUNQ)\n",
    "print(\"Missing Indices for DPL:\", MissingDPL)\n",
    "print(\"Duplicate Indices for UNQ:\", DuplicateIndicesUNQ)\n",
    "print(\"Duplicate Indices for DPL:\", DuplicateIndicesDPL)"
   ]
  },
  {
   "cell_type": "markdown",
   "metadata": {},
   "source": [
    "# Generate Missing JobNames"
   ]
  },
  {
   "cell_type": "code",
   "execution_count": 7,
   "metadata": {},
   "outputs": [],
   "source": [
    "MissingDPL_List = [str(item) + Abbrv + \"_DA\" + str(str(Threshold)) for item in MissingDPL]\n",
    "MissingUNQ_List = [str(item) + Abbrv + \"_UA\" + str(str(Threshold)) for item in MissingUNQ]\n",
    "# HaveBothDPL_List = [str(item) + Abbrv + \"_DA\" + str(str(Threshold)) for item in HaveBoth[0:UpToNum]]\n",
    "# HaveBothUNQ_List = [str(item) + Abbrv + \"_UA\" + str(str(Threshold)) for item in HaveBoth[0:UpToNum]]\n",
    "\n",
    "HaveBothDPL_List = [str(item) + Abbrv + \"_DA\" + str(str(Threshold)) for item in HaveBoth]\n",
    "HaveBothUNQ_List = [str(item) + Abbrv + \"_UA\" + str(str(Threshold)) for item in HaveBoth]"
   ]
  },
  {
   "cell_type": "code",
   "execution_count": 8,
   "metadata": {},
   "outputs": [
    {
     "name": "stdout",
     "output_type": "stream",
     "text": [
      "Missing (combined) JobNames:\n",
      "['1BC_DA0.04', '3BC_DA0.04', '5BC_DA0.04', '6BC_DA0.04', '9BC_DA0.04', '10BC_DA0.04', '11BC_DA0.04', '16BC_DA0.04', '17BC_DA0.04', '20BC_DA0.04', '22BC_DA0.04', '23BC_DA0.04', '24BC_DA0.04', '27BC_DA0.04', '28BC_DA0.04', '29BC_DA0.04', '30BC_DA0.04', '31BC_DA0.04', '32BC_DA0.04', '33BC_DA0.04', '35BC_DA0.04', '36BC_DA0.04', '38BC_DA0.04', '41BC_DA0.04', '43BC_DA0.04', '44BC_DA0.04', '45BC_DA0.04', '46BC_DA0.04', '48BC_DA0.04', '49BC_DA0.04', '50BC_DA0.04', '53BC_DA0.04', '54BC_DA0.04', '55BC_DA0.04', '56BC_DA0.04', '57BC_DA0.04', '58BC_DA0.04', '59BC_DA0.04', '60BC_DA0.04', '61BC_DA0.04', '62BC_DA0.04', '63BC_DA0.04', '65BC_DA0.04', '66BC_DA0.04', '67BC_DA0.04', '68BC_DA0.04', '69BC_DA0.04', '71BC_DA0.04', '72BC_DA0.04', '73BC_DA0.04', '74BC_DA0.04', '75BC_DA0.04', '77BC_DA0.04', '79BC_DA0.04', '83BC_DA0.04', '84BC_DA0.04', '85BC_DA0.04', '86BC_DA0.04', '87BC_DA0.04', '90BC_DA0.04', '91BC_DA0.04', '92BC_DA0.04', '94BC_DA0.04', '96BC_DA0.04', '98BC_DA0.04', '1BC_UA0.04', '3BC_UA0.04', '5BC_UA0.04', '6BC_UA0.04', '9BC_UA0.04', '10BC_UA0.04', '11BC_UA0.04', '16BC_UA0.04', '17BC_UA0.04', '20BC_UA0.04', '22BC_UA0.04', '23BC_UA0.04', '24BC_UA0.04', '27BC_UA0.04', '28BC_UA0.04', '29BC_UA0.04', '30BC_UA0.04', '31BC_UA0.04', '32BC_UA0.04', '33BC_UA0.04', '35BC_UA0.04', '36BC_UA0.04', '38BC_UA0.04', '41BC_UA0.04', '43BC_UA0.04', '44BC_UA0.04', '45BC_UA0.04', '46BC_UA0.04', '48BC_UA0.04', '49BC_UA0.04', '50BC_UA0.04', '53BC_UA0.04', '54BC_UA0.04', '55BC_UA0.04', '56BC_UA0.04', '57BC_UA0.04', '58BC_UA0.04', '59BC_UA0.04', '60BC_UA0.04', '61BC_UA0.04', '62BC_UA0.04', '63BC_UA0.04', '65BC_UA0.04', '66BC_UA0.04', '67BC_UA0.04', '68BC_UA0.04', '69BC_UA0.04', '71BC_UA0.04', '72BC_UA0.04', '73BC_UA0.04', '74BC_UA0.04', '75BC_UA0.04', '77BC_UA0.04', '79BC_UA0.04', '83BC_UA0.04', '84BC_UA0.04', '85BC_UA0.04', '86BC_UA0.04', '87BC_UA0.04', '90BC_UA0.04', '91BC_UA0.04', '92BC_UA0.04', '94BC_UA0.04', '96BC_UA0.04', '98BC_UA0.04']\n"
     ]
    }
   ],
   "source": [
    "# print(\"Missing JobNames for UNQ:\", MissingUNQ_List)\n",
    "# print(\"Missing JobNames for DPL:\", MissingDPL_List)\n",
    "print(\"Missing (combined) JobNames:\")\n",
    "print(MissingDPL_List + MissingUNQ_List)"
   ]
  },
  {
   "cell_type": "code",
   "execution_count": 9,
   "metadata": {},
   "outputs": [
    {
     "data": {
      "text/plain": [
       "130"
      ]
     },
     "execution_count": 9,
     "metadata": {},
     "output_type": "execute_result"
    }
   ],
   "source": [
    "len(MissingDPL_List + MissingUNQ_List)"
   ]
  },
  {
   "cell_type": "code",
   "execution_count": 10,
   "metadata": {},
   "outputs": [
    {
     "name": "stdout",
     "output_type": "stream",
     "text": [
      "Have both JobNames:\n",
      "[0, 2, 4, 7, 8, 12, 13, 14, 15, 18, 19, 21, 25, 26, 34, 37, 39, 40, 42, 47, 51, 52, 64, 70, 76, 78, 80, 81, 82, 88, 89, 93, 95, 97, 99]\n",
      "['0BC_DA0.04', '2BC_DA0.04', '4BC_DA0.04', '7BC_DA0.04', '8BC_DA0.04', '12BC_DA0.04', '13BC_DA0.04', '14BC_DA0.04', '15BC_DA0.04', '18BC_DA0.04', '19BC_DA0.04', '21BC_DA0.04', '25BC_DA0.04', '26BC_DA0.04', '34BC_DA0.04', '37BC_DA0.04', '39BC_DA0.04', '40BC_DA0.04', '42BC_DA0.04', '47BC_DA0.04', '51BC_DA0.04', '52BC_DA0.04', '64BC_DA0.04', '70BC_DA0.04', '76BC_DA0.04', '78BC_DA0.04', '80BC_DA0.04', '81BC_DA0.04', '82BC_DA0.04', '88BC_DA0.04', '89BC_DA0.04', '93BC_DA0.04', '95BC_DA0.04', '97BC_DA0.04', '99BC_DA0.04', '0BC_UA0.04', '2BC_UA0.04', '4BC_UA0.04', '7BC_UA0.04', '8BC_UA0.04', '12BC_UA0.04', '13BC_UA0.04', '14BC_UA0.04', '15BC_UA0.04', '18BC_UA0.04', '19BC_UA0.04', '21BC_UA0.04', '25BC_UA0.04', '26BC_UA0.04', '34BC_UA0.04', '37BC_UA0.04', '39BC_UA0.04', '40BC_UA0.04', '42BC_UA0.04', '47BC_UA0.04', '51BC_UA0.04', '52BC_UA0.04', '64BC_UA0.04', '70BC_UA0.04', '76BC_UA0.04', '78BC_UA0.04', '80BC_UA0.04', '81BC_UA0.04', '82BC_UA0.04', '88BC_UA0.04', '89BC_UA0.04', '93BC_UA0.04', '95BC_UA0.04', '97BC_UA0.04', '99BC_UA0.04']\n"
     ]
    }
   ],
   "source": [
    "print(\"Have both JobNames:\")\n",
    "print(HaveBoth)\n",
    "print(HaveBothDPL_List + HaveBothUNQ_List)"
   ]
  },
  {
   "cell_type": "code",
   "execution_count": 11,
   "metadata": {},
   "outputs": [
    {
     "data": {
      "text/plain": [
       "35"
      ]
     },
     "execution_count": 11,
     "metadata": {},
     "output_type": "execute_result"
    }
   ],
   "source": [
    "len(HaveBoth)"
   ]
  }
 ],
 "metadata": {
  "kernelspec": {
   "display_name": "Python 3",
   "language": "python",
   "name": "python3"
  },
  "language_info": {
   "codemirror_mode": {
    "name": "ipython",
    "version": 3
   },
   "file_extension": ".py",
   "mimetype": "text/x-python",
   "name": "python",
   "nbconvert_exporter": "python",
   "pygments_lexer": "ipython3",
   "version": "3.9.6"
  }
 },
 "nbformat": 4,
 "nbformat_minor": 2
}
