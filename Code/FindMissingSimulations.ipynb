{
 "cells": [
  {
   "cell_type": "markdown",
   "metadata": {},
   "source": [
    "# Packages"
   ]
  },
  {
   "cell_type": "code",
   "execution_count": 1,
   "metadata": {},
   "outputs": [],
   "source": [
    "import pandas as pd "
   ]
  },
  {
   "cell_type": "markdown",
   "metadata": {},
   "source": [
    "# Input"
   ]
  },
  {
   "cell_type": "code",
   "execution_count": 2,
   "metadata": {},
   "outputs": [],
   "source": [
    "words = [\"0IS_UNQ0.011.pkl\",\"1IS_UNQ0.011.pkl\",\"2IS_UNQ0.011.pkl\",\"3IS_UNQ0.011.pkl\",\"4IS_UNQ0.011.pkl\",\"5IS_UNQ0.011.pkl\",\"6IS_UNQ0.011.pkl\",\"7IS_UNQ0.011.pkl\",\"8IS_UNQ0.011.pkl\",\n",
    "\"10IS_UNQ0.011.pkl\",\"20IS_UNQ0.011.pkl\",\"30IS_UNQ0.011.pkl\",\"40IS_UNQ0.011.pkl\",\"50IS_UNQ0.011.pkl\",\"60IS_UNQ0.011.pkl\",\"70IS_UNQ0.011.pkl\",\"80IS_UNQ0.011.pkl\",\"90IS_UNQ0.011.pkl\",\n",
    "\"11IS_UNQ0.011.pkl\",\"21IS_UNQ0.011.pkl\",\"31IS_UNQ0.011.pkl\",\"41IS_UNQ0.011.pkl\",\"51IS_UNQ0.011.pkl\",\"61IS_UNQ0.011.pkl\",\"71IS_UNQ0.011.pkl\",\"81IS_UNQ0.011.pkl\",\"91IS_UNQ0.011.pkl\",\n",
    "\"12IS_UNQ0.011.pkl\",\"22IS_UNQ0.011.pkl\",\"32IS_UNQ0.011.pkl\",\"42IS_UNQ0.011.pkl\",\"52IS_UNQ0.011.pkl\",\"62IS_UNQ0.011.pkl\",\"72IS_UNQ0.011.pkl\",\"82IS_UNQ0.011.pkl\",\"92IS_UNQ0.011.pkl\",\n",
    "\"13IS_UNQ0.011.pkl\",\"23IS_UNQ0.011.pkl\",\"33IS_UNQ0.011.pkl\",\"43IS_UNQ0.011.pkl\",\"53IS_UNQ0.011.pkl\",\"63IS_UNQ0.011.pkl\",\"73IS_UNQ0.011.pkl\",\"83IS_UNQ0.011.pkl\",\"93IS_UNQ0.011.pkl\",\n",
    "\"14IS_UNQ0.011.pkl\",\"24IS_UNQ0.011.pkl\",\"34IS_UNQ0.011.pkl\",\"44IS_UNQ0.011.pkl\",\"54IS_UNQ0.011.pkl\",\"64IS_UNQ0.011.pkl\",\"74IS_UNQ0.011.pkl\",\"84IS_UNQ0.011.pkl\",\"94IS_UNQ0.011.pkl\",\n",
    "\"15IS_UNQ0.011.pkl\",\"25IS_UNQ0.011.pkl\",\"35IS_UNQ0.011.pkl\",\"45IS_UNQ0.011.pkl\",\"55IS_UNQ0.011.pkl\",\"65IS_UNQ0.011.pkl\",\"75IS_UNQ0.011.pkl\",\"85IS_UNQ0.011.pkl\",\"95IS_UNQ0.011.pkl\",\n",
    "\"16IS_UNQ0.011.pkl\",\"26IS_UNQ0.011.pkl\",\"36IS_UNQ0.011.pkl\",\"46IS_UNQ0.011.pkl\",\"56IS_UNQ0.011.pkl\",\"66IS_UNQ0.011.pkl\",\"76IS_UNQ0.011.pkl\",\"86IS_UNQ0.011.pkl\",\"96IS_UNQ0.011.pkl\",\n",
    "\"17IS_UNQ0.011.pkl\",\"27IS_UNQ0.011.pkl\",\"37IS_UNQ0.011.pkl\",\"47IS_UNQ0.011.pkl\",\"57IS_UNQ0.011.pkl\",\"67IS_UNQ0.011.pkl\",\"77IS_UNQ0.011.pkl\",\"87IS_UNQ0.011.pkl\",\"97IS_UNQ0.011.pkl\",\n",
    "\"18IS_UNQ0.011.pkl\",\"28IS_UNQ0.011.pkl\",\"38IS_UNQ0.011.pkl\",\"48IS_UNQ0.011.pkl\",\"58IS_UNQ0.011.pkl\",\"68IS_UNQ0.011.pkl\",\"78IS_UNQ0.011.pkl\",\"88IS_UNQ0.011.pkl\",\"98IS_UNQ0.011.pkl\",\n",
    "\"19IS_UNQ0.011.pkl\",\"29IS_UNQ0.011.pkl\",\"39IS_UNQ0.011.pkl\",\"49IS_UNQ0.011.pkl\",\"59IS_UNQ0.011.pkl\",\"69IS_UNQ0.011.pkl\",\"79IS_UNQ0.011.pkl\",\"89IS_UNQ0.011.pkl\",\"9IS_UNQ0.011.pkl\"]\n"
   ]
  },
  {
   "cell_type": "markdown",
   "metadata": {},
   "source": [
    "# Algorithm"
   ]
  },
  {
   "cell_type": "code",
   "execution_count": 3,
   "metadata": {},
   "outputs": [],
   "source": [
    "### Unique ###\n",
    "TotalCountUnique = []\n",
    "TotalCountDuplicate = []\n",
    "for i in range(0,99):\n",
    "    substringUNQ = str(i)+\"IS_UNQ\"\n",
    "    substringDPL = str(i)+\"IS_DPL\"\n",
    "    unique_occurrencesUNQ = {word for word in words if word.startswith(substringUNQ)}\n",
    "    unique_occurrencesDPL = {word for word in words if word.startswith(substringDPL)}\n",
    "\n",
    "    countUNQ = len(unique_occurrencesUNQ)\n",
    "    countDPL = len(unique_occurrencesDPL)\n",
    "\n",
    "    TotalCountUnique.append(countUNQ)\n",
    "    TotalCountDuplicate.append(countDPL)\n",
    "\n",
    "### Output ###\n",
    "TotalCountUnique = pd.DataFrame(TotalCountUnique, columns = [\"Unique\"])\n",
    "TotalCountDuplicate = pd.DataFrame(TotalCountDuplicate, columns = [\"Duplicate\"])\n",
    "\n",
    "### Missing ###\n",
    "MissingUNQ = list(TotalCountUnique[TotalCountUnique[\"Unique\"]<1].index)\n",
    "MissingDPL = list(TotalCountDuplicate[TotalCountDuplicate[\"Duplicate\"]<1].index)"
   ]
  },
  {
   "cell_type": "code",
   "execution_count": 4,
   "metadata": {},
   "outputs": [
    {
     "name": "stdout",
     "output_type": "stream",
     "text": [
      "Unique: []\n",
      "Duplicate: [0, 1, 2, 3, 4, 5, 6, 7, 8, 9, 10, 11, 12, 13, 14, 15, 16, 17, 18, 19, 20, 21, 22, 23, 24, 25, 26, 27, 28, 29, 30, 31, 32, 33, 34, 35, 36, 37, 38, 39, 40, 41, 42, 43, 44, 45, 46, 47, 48, 49, 50, 51, 52, 53, 54, 55, 56, 57, 58, 59, 60, 61, 62, 63, 64, 65, 66, 67, 68, 69, 70, 71, 72, 73, 74, 75, 76, 77, 78, 79, 80, 81, 82, 83, 84, 85, 86, 87, 88, 89, 90, 91, 92, 93, 94, 95, 96, 97, 98]\n"
     ]
    }
   ],
   "source": [
    "print(\"Unique: \"+  str(MissingUNQ))\n",
    "print(\"Duplicate: \"+  str(MissingDPL))\n"
   ]
  }
 ],
 "metadata": {
  "kernelspec": {
   "display_name": "Python 3",
   "language": "python",
   "name": "python3"
  },
  "language_info": {
   "codemirror_mode": {
    "name": "ipython",
    "version": 3
   },
   "file_extension": ".py",
   "mimetype": "text/x-python",
   "name": "python",
   "nbconvert_exporter": "python",
   "pygments_lexer": "ipython3",
   "version": "3.9.6"
  }
 },
 "nbformat": 4,
 "nbformat_minor": 2
}
