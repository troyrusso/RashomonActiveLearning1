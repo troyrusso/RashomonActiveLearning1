{
 "cells": [
  {
   "cell_type": "markdown",
   "metadata": {},
   "source": [
    "# Packages"
   ]
  },
  {
   "cell_type": "code",
   "execution_count": 1,
   "metadata": {},
   "outputs": [],
   "source": [
    "import pandas as pd"
   ]
  },
  {
   "cell_type": "markdown",
   "metadata": {},
   "source": [
    "# Input"
   ]
  },
  {
   "cell_type": "code",
   "execution_count": 2,
   "metadata": {},
   "outputs": [],
   "source": [
    "Abbrv=\"BC\""
   ]
  },
  {
   "cell_type": "code",
   "execution_count": 3,
   "metadata": {},
   "outputs": [],
   "source": [
    "# Input text\n",
    "text = \"\"\"\n",
    " 0BC_DA0.03.pkl    17BC_UA0.03.pkl   24BC_DA0.03.pkl   32BC_DA0.03.pkl    3BC_UA0.03.pkl    46BC_UA0.03.pkl   52BC_UA0.03.pkl    59BC_UA0.03.pkl   66BC_DA0.03.pkl   72BC_DA0.03.pkl   79BC_DA0.03.pkl   85BC_DA0.03.pkl   93BC_UA0.03.pkl\n",
    " 0BC_UA0.03.pkl    18BC_DA0.03.pkl   24BC_UA0.03.pkl   32BC_UA0.03.pkl    40BC_DA0.03.pkl   47BC_DA0.03.pkl   53BC_DA0.03.pkl    5BC_UA0.03.pkl    66BC_UA0.03.pkl   72BC_UA0.03.pkl   79BC_UA0.03.pkl   85BC_UA0.03.pkl   94BC_DA0.03.pkl\n",
    " 10BC_DA0.03.pkl   18BC_UA0.03.pkl   25BC_DA0.03.pkl   33BC_DA0.03.pkl    40BC_UA0.03.pkl   47BC_UA0.03.pkl   53BC_UA0.03.pkl    60BC_DA0.03.pkl   67BC_DA0.03.pkl   73BC_DA0.03.pkl   7BC_DA0.03.pkl    87BC_DA0.03.pkl   95BC_DA0.03.pkl\n",
    " 10BC_UA0.03.pkl   19BC_DA0.03.pkl   25BC_UA0.03.pkl   33BC_UA0.03.pkl    41BC_DA0.03.pkl   48BC_DA0.03.pkl   54BC_UA0.03.pkl    60BC_UA0.03.pkl   67BC_UA0.03.pkl   73BC_UA0.03.pkl   7BC_UA0.03.pkl    87BC_UA0.03.pkl   95BC_UA0.03.pkl\n",
    " 11BC_DA0.03.pkl   1BC_DA0.03.pkl    26BC_DA0.03.pkl   34BC_DA0.03.pkl    41BC_UA0.03.pkl   48BC_UA0.03.pkl   55BC_DA0.03.pkl    61BC_DA0.03.pkl   68BC_DA0.03.pkl   74BC_DA0.03.pkl   80BC_DA0.03.pkl   88BC_DA0.03.pkl   97BC_DA0.03.pkl\n",
    " 11BC_UA0.03.pkl   1BC_UA0.03.pkl    26BC_UA0.03.pkl   34BC_UA0.03.pkl    42BC_DA0.03.pkl   49BC_DA0.03.pkl   55BC_UA0.03.pkl    61BC_UA0.03.pkl   68BC_UA0.03.pkl   74BC_UA0.03.pkl   80BC_UA0.03.pkl   88BC_UA0.03.pkl   97BC_UA0.03.pkl\n",
    " 12BC_DA0.03.pkl   20BC_DA0.03.pkl   27BC_DA0.03.pkl   35BC_DA0.03.pkl    42BC_UA0.03.pkl   49BC_UA0.03.pkl   56BC_DA0.03.pkl    62BC_DA0.03.pkl   69BC_DA0.03.pkl   75BC_DA0.03.pkl   81BC_DA0.03.pkl   89BC_DA0.03.pkl   98BC_DA0.03.pkl\n",
    " 12BC_UA0.03.pkl   20BC_UA0.03.pkl   27BC_UA0.03.pkl   35BC_UA0.035.pkl   43BC_DA0.03.pkl   4BC_DA0.03.pkl    56BC_UA0.03.pkl    62BC_UA0.03.pkl   69BC_UA0.03.pkl   75BC_UA0.03.pkl   81BC_UA0.03.pkl   89BC_UA0.03.pkl   98BC_UA0.03.pkl\n",
    " 13BC_DA0.03.pkl   21BC_DA0.03.pkl   28BC_DA0.03.pkl   35BC_UA0.03.pkl    43BC_UA0.03.pkl   4BC_UA0.03.pkl    57BC_DA0.03.pkl    63BC_DA0.03.pkl   6BC_DA0.03.pkl    76BC_DA0.03.pkl   82BC_DA0.03.pkl   8BC_UA0.03.pkl    99BC_UA0.03.pkl\n",
    " 13BC_UA0.03.pkl   21BC_UA0.03.pkl   28BC_UA0.03.pkl   36BC_DA0.03.pkl    44BC_DA0.03.pkl   50BC_DA0.03.pkl   57BC_UA0.03.pkl    63BC_UA0.03.pkl   6BC_UA0.03.pkl    76BC_UA0.03.pkl   82BC_UA0.03.pkl   90BC_DA0.03.pkl   9BC_DA0.03.pkl\n",
    " 14BC_DA0.03.pkl   22BC_DA0.03.pkl   29BC_DA0.03.pkl   36BC_UA0.03.pkl    44BC_UA0.03.pkl   50BC_UA0.03.pkl   58BC_DA0.035.pkl   64BC_DA0.03.pkl   70BC_DA0.03.pkl   77BC_DA0.03.pkl   83BC_DA0.03.pkl   90BC_UA0.03.pkl   9BC_UA0.03.pkl\n",
    " 14BC_UA0.03.pkl   22BC_UA0.03.pkl   29BC_UA0.03.pkl   39BC_DA0.03.pkl    45BC_DA0.03.pkl   51BC_DA0.03.pkl   58BC_DA0.03.pkl    64BC_UA0.03.pkl   70BC_UA0.03.pkl   77BC_UA0.03.pkl   83BC_UA0.03.pkl   91BC_DA0.03.pkl   delete_results.sh\n",
    " 16BC_DA0.03.pkl   23BC_DA0.03.pkl   30BC_DA0.03.pkl   39BC_UA0.03.pkl    45BC_UA0.03.pkl   51BC_UA0.03.pkl   58BC_UA0.03.pkl    65BC_DA0.03.pkl   71BC_DA0.03.pkl   78BC_DA0.03.pkl   84BC_DA0.03.pkl   91BC_UA0.03.pkl  ' .foo.png'\n",
    " 17BC_DA0.03.pkl   23BC_UA0.03.pkl   30BC_UA0.03.pkl   3BC_DA0.03.pkl     46BC_DA0.03.pkl   52BC_DA0.03.pkl   59BC_DA0.03.pkl    65BC_UA0.03.pkl   71BC_UA0.03.pkl   78BC_UA0.03.pkl   84BC_UA0.03.pkl   93BC_DA0.03.pkl\n",
    "\"\"\""
   ]
  },
  {
   "cell_type": "code",
   "execution_count": 4,
   "metadata": {},
   "outputs": [
    {
     "data": {
      "text/plain": [
       "182"
      ]
     },
     "execution_count": 4,
     "metadata": {},
     "output_type": "execute_result"
    }
   ],
   "source": [
    "words = text.split()\n",
    "len(words)"
   ]
  },
  {
   "cell_type": "markdown",
   "metadata": {},
   "source": [
    "# Algorithm"
   ]
  },
  {
   "cell_type": "markdown",
   "metadata": {},
   "source": [
    "##Missing"
   ]
  },
  {
   "cell_type": "code",
   "execution_count": 5,
   "metadata": {},
   "outputs": [],
   "source": [
    "### Combined Analysis for Unique and Duplicate ###\n",
    "TotalCountUnique = []\n",
    "TotalCountDuplicate = []\n",
    "TotalCountDuplicateUNQ = []\n",
    "TotalCountDuplicateDPL = []\n",
    "\n",
    "for i in range(0, 100):\n",
    "    substringUNQ = str(i) + Abbrv + \"_U\"\n",
    "    substringDPL = str(i) + Abbrv + \"_D\"\n",
    "\n",
    "    # Unique occurrences\n",
    "    unique_occurrencesUNQ = {word for word in words if word.startswith(substringUNQ)}\n",
    "    unique_occurrencesDPL = {word for word in words if word.startswith(substringDPL)}\n",
    "\n",
    "    countUNQ = len(unique_occurrencesUNQ)\n",
    "    countDPL = len(unique_occurrencesDPL)\n",
    "\n",
    "    TotalCountUnique.append(countUNQ)\n",
    "    TotalCountDuplicate.append(countDPL)\n",
    "\n",
    "    # Duplicate occurrences\n",
    "    occurrencesUNQ = [word for word in words if word.startswith(substringUNQ)]\n",
    "    occurrencesDPL = [word for word in words if word.startswith(substringDPL)]\n",
    "\n",
    "    countDuplicatesUNQ = len(occurrencesUNQ)\n",
    "    countDuplicatesDPL = len(occurrencesDPL)\n",
    "\n",
    "    TotalCountDuplicateUNQ.append(countDuplicatesUNQ)\n",
    "    TotalCountDuplicateDPL.append(countDuplicatesDPL)\n",
    "\n",
    "### Convert to DataFrames ###\n",
    "TotalCountUnique = pd.DataFrame(TotalCountUnique, columns=[\"Unique\"])\n",
    "TotalCountDuplicate = pd.DataFrame(TotalCountDuplicate, columns=[\"Duplicate\"])\n",
    "TotalCountDuplicateUNQ = pd.DataFrame(TotalCountDuplicateUNQ, columns=[\"Duplicate_UNQ\"])\n",
    "TotalCountDuplicateDPL = pd.DataFrame(TotalCountDuplicateDPL, columns=[\"Duplicate_DPL\"])\n",
    "\n",
    "### Identify Missing ###\n",
    "MissingUNQ = list(TotalCountUnique[TotalCountUnique[\"Unique\"] < 1].index)\n",
    "MissingDPL = list(TotalCountDuplicate[TotalCountDuplicate[\"Duplicate\"] < 1].index)\n",
    "\n",
    "### Identify Duplicates ###\n",
    "DuplicateIndicesUNQ = list(TotalCountDuplicateUNQ[TotalCountDuplicateUNQ[\"Duplicate_UNQ\"] > 1].index)\n",
    "DuplicateIndicesDPL = list(TotalCountDuplicateDPL[TotalCountDuplicateDPL[\"Duplicate_DPL\"] > 1].index)\n",
    "\n",
    "### Have Both ###\n",
    "InBothBoolean = (TotalCountUnique[\"Unique\"] == 1) & (TotalCountDuplicate[\"Duplicate\"] == 1)\n",
    "HaveBoth = list(InBothBoolean[InBothBoolean == True].index)"
   ]
  },
  {
   "cell_type": "markdown",
   "metadata": {},
   "source": [
    "# Results"
   ]
  },
  {
   "cell_type": "code",
   "execution_count": 6,
   "metadata": {},
   "outputs": [
    {
     "name": "stdout",
     "output_type": "stream",
     "text": [
      "Missing Indices for UNQ: [2, 15, 16, 19, 31, 37, 38, 86, 92, 94, 96]\n",
      "Missing Indices for DPL: [2, 5, 8, 15, 31, 37, 38, 54, 86, 92, 96, 99]\n",
      "Duplicate Indices for UNQ: [35]\n",
      "Duplicate Indices for DPL: [58]\n"
     ]
    }
   ],
   "source": [
    "### Outputs ###\n",
    "print(\"Missing Indices for UNQ:\", MissingUNQ)\n",
    "print(\"Missing Indices for DPL:\", MissingDPL)\n",
    "print(\"Duplicate Indices for UNQ:\", DuplicateIndicesUNQ)\n",
    "print(\"Duplicate Indices for DPL:\", DuplicateIndicesDPL)"
   ]
  },
  {
   "cell_type": "code",
   "execution_count": 7,
   "metadata": {},
   "outputs": [
    {
     "name": "stdout",
     "output_type": "stream",
     "text": [
      "Have both:  [0, 1, 3, 4, 6, 7, 9, 10, 11, 12, 13, 14, 17, 18, 20, 21, 22, 23, 24, 25, 26, 27, 28, 29, 30, 32, 33, 34, 36, 39, 40, 41, 42, 43, 44, 45, 46, 47, 48, 49, 50, 51, 52, 53, 55, 56, 57, 59, 60, 61, 62, 63, 64, 65, 66, 67, 68, 69, 70, 71, 72, 73, 74, 75, 76, 77, 78, 79, 80, 81, 82, 83, 84, 85, 87, 88, 89, 90, 91, 93, 95, 97, 98]\n"
     ]
    }
   ],
   "source": [
    "print(\"Have both: \", HaveBoth)\n"
   ]
  },
  {
   "cell_type": "markdown",
   "metadata": {},
   "source": [
    "# Generate Missing JobNames"
   ]
  },
  {
   "cell_type": "code",
   "execution_count": 8,
   "metadata": {},
   "outputs": [],
   "source": [
    "### Threshold ###\n",
    "Threshold = 0.05\n",
    "UpToNum = 20\n",
    "# UpToNum = len(HaveBoth)+2"
   ]
  },
  {
   "cell_type": "code",
   "execution_count": 9,
   "metadata": {},
   "outputs": [
    {
     "data": {
      "text/plain": [
       "83"
      ]
     },
     "execution_count": 9,
     "metadata": {},
     "output_type": "execute_result"
    }
   ],
   "source": [
    "len(HaveBoth)"
   ]
  },
  {
   "cell_type": "code",
   "execution_count": 10,
   "metadata": {},
   "outputs": [],
   "source": [
    "MissingDPL_List = [str(item) + Abbrv + \"_DA\" + str(str(Threshold)) for item in MissingDPL]\n",
    "MissingUNQ_List = [str(item) + Abbrv + \"_UA\" + str(str(Threshold)) for item in MissingUNQ]\n",
    "# HaveBothDPL_List = [str(item) + Abbrv + \"_DA\" + str(str(Threshold)) for item in HaveBoth[0:UpToNum]]\n",
    "# HaveBothUNQ_List = [str(item) + Abbrv + \"_UA\" + str(str(Threshold)) for item in HaveBoth[0:UpToNum]]\n",
    "\n",
    "HaveBothDPL_List = [str(item) + Abbrv + \"_DA\" + str(str(Threshold)) for item in HaveBoth[UpToNum : 2*UpToNum]]\n",
    "HaveBothUNQ_List = [str(item) + Abbrv + \"_UA\" + str(str(Threshold)) for item in HaveBoth[UpToNum : 2*UpToNum]]"
   ]
  },
  {
   "cell_type": "code",
   "execution_count": 11,
   "metadata": {},
   "outputs": [
    {
     "name": "stdout",
     "output_type": "stream",
     "text": [
      "Missing (combined) JobNames:\n",
      "['2BC_DA0.05', '5BC_DA0.05', '8BC_DA0.05', '15BC_DA0.05', '31BC_DA0.05', '37BC_DA0.05', '38BC_DA0.05', '54BC_DA0.05', '86BC_DA0.05', '92BC_DA0.05', '96BC_DA0.05', '99BC_DA0.05', '2BC_UA0.05', '15BC_UA0.05', '16BC_UA0.05', '19BC_UA0.05', '31BC_UA0.05', '37BC_UA0.05', '38BC_UA0.05', '86BC_UA0.05', '92BC_UA0.05', '94BC_UA0.05', '96BC_UA0.05']\n"
     ]
    }
   ],
   "source": [
    "# print(\"Missing JobNames for UNQ:\", MissingUNQ_List)\n",
    "# print(\"Missing JobNames for DPL:\", MissingDPL_List)\n",
    "print(\"Missing (combined) JobNames:\")\n",
    "print(MissingDPL_List + MissingUNQ_List)"
   ]
  },
  {
   "cell_type": "code",
   "execution_count": 13,
   "metadata": {},
   "outputs": [
    {
     "name": "stdout",
     "output_type": "stream",
     "text": [
      "Have both JobNames:\n",
      "[26, 27, 28, 29, 30, 32, 33, 34, 36, 39, 40, 41, 42, 43, 44, 45, 46, 47, 48, 49]\n",
      "['26BC_DA0.05', '27BC_DA0.05', '28BC_DA0.05', '29BC_DA0.05', '30BC_DA0.05', '32BC_DA0.05', '33BC_DA0.05', '34BC_DA0.05', '36BC_DA0.05', '39BC_DA0.05', '40BC_DA0.05', '41BC_DA0.05', '42BC_DA0.05', '43BC_DA0.05', '44BC_DA0.05', '45BC_DA0.05', '46BC_DA0.05', '47BC_DA0.05', '48BC_DA0.05', '49BC_DA0.05', '26BC_UA0.05', '27BC_UA0.05', '28BC_UA0.05', '29BC_UA0.05', '30BC_UA0.05', '32BC_UA0.05', '33BC_UA0.05', '34BC_UA0.05', '36BC_UA0.05', '39BC_UA0.05', '40BC_UA0.05', '41BC_UA0.05', '42BC_UA0.05', '43BC_UA0.05', '44BC_UA0.05', '45BC_UA0.05', '46BC_UA0.05', '47BC_UA0.05', '48BC_UA0.05', '49BC_UA0.05']\n"
     ]
    }
   ],
   "source": [
    "print(\"Have both JobNames:\")\n",
    "# print(HaveBoth[0:UpToNum])\n",
    "print(HaveBoth[UpToNum : 2*UpToNum])\n",
    "print(HaveBothDPL_List + HaveBothUNQ_List)"
   ]
  }
 ],
 "metadata": {
  "kernelspec": {
   "display_name": "Python 3",
   "language": "python",
   "name": "python3"
  },
  "language_info": {
   "codemirror_mode": {
    "name": "ipython",
    "version": 3
   },
   "file_extension": ".py",
   "mimetype": "text/x-python",
   "name": "python",
   "nbconvert_exporter": "python",
   "pygments_lexer": "ipython3",
   "version": "3.9.6"
  }
 },
 "nbformat": 4,
 "nbformat_minor": 2
}
