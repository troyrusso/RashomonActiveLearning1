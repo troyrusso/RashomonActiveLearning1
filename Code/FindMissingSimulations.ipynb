{
 "cells": [
  {
   "cell_type": "markdown",
   "metadata": {},
   "source": [
    "# Packages"
   ]
  },
  {
   "cell_type": "code",
   "execution_count": 1,
   "metadata": {},
   "outputs": [],
   "source": [
    "import pandas as pd "
   ]
  },
  {
   "cell_type": "markdown",
   "metadata": {},
   "source": [
    "# Input"
   ]
  },
  {
   "cell_type": "code",
   "execution_count": 2,
   "metadata": {},
   "outputs": [],
   "source": [
    "Abbrv = \"BC\""
   ]
  },
  {
   "cell_type": "code",
   "execution_count": 3,
   "metadata": {},
   "outputs": [],
   "source": [
    "words =[\"0BC_UNQ0.029.pkl\",\"19BC_UNQ0.029.pkl\",\"27BC_UNQ0.029.pkl\",\"35BC_UNQ0.029.pkl\",\"44BC_UNQ0.029.pkl\",\"52BC_UNQ0.029.pkl\",\"60BC_UNQ0.029.pkl\",\"69BC_UNQ0.029.pkl\",\"77BC_UNQ0.029.pkl\",\"85BC_UNQ0.029.pkl\",\"93BC_UNQ0.029.pkl\",\n",
    "\"10BC_UNQ0.029.pkl\",\"1BC_UNQ0.029.pkl\",\"28BC_UNQ0.029.pkl\",\"36BC_UNQ0.029.pkl\",\"45BC_UNQ0.029.pkl\",\"53BC_UNQ0.029.pkl\",\"61BC_UNQ0.029.pkl\",\"6BC_UNQ0.029.pkl\",\"78BC_UNQ0.029.pkl\",\"86BC_UNQ0.029.pkl\",\"94BC_UNQ0.029.pkl\",\n",
    "\"11BC_UNQ0.029.pkl\",\"20BC_UNQ0.029.pkl\",\"29BC_UNQ0.029.pkl\",\"37BC_UNQ0.029.pkl\",\"46BC_UNQ0.029.pkl\",\"54BC_UNQ0.029.pkl\",\"62BC_UNQ0.029.pkl\",\"70BC_UNQ0.029.pkl\",\"79BC_UNQ0.029.pkl\",\"87BC_UNQ0.029.pkl\",\"95BC_UNQ0.029.pkl\",\n",
    "\"12BC_UNQ0.029.pkl\",\"21BC_UNQ0.029.pkl\",\"2BC_UNQ0.029.pkl\",\"39BC_UNQ0.029.pkl\",\"47BC_UNQ0.029.pkl\",\"55BC_UNQ0.029.pkl\",\"63BC_UNQ0.029.pkl\",\"71BC_UNQ0.029.pkl\",\"7BC_UNQ0.029.pkl\",\"88BC_UNQ0.029.pkl\",\"96BC_UNQ0.029.pkl\",\n",
    "\"13BC_UNQ0.029.pkl\",\"22BC_UNQ0.029.pkl\",\"30BC_UNQ0.029.pkl\",\"3BC_UNQ0.029.pkl\",\"48BC_UNQ0.029.pkl\",\"56BC_UNQ0.029.pkl\",\"64BC_UNQ0.029.pkl\",\"72BC_UNQ0.029.pkl\",\"80BC_UNQ0.029.pkl\",\"89BC_UNQ0.029.pkl\",\"97BC_UNQ0.029.pkl\",\n",
    "\"14BC_UNQ0.029.pkl\",\"23BC_UNQ0.029.pkl\",\"31BC_UNQ0.029.pkl\",\"40BC_UNQ0.029.pkl\",\"49BC_UNQ0.029.pkl\",\"57BC_UNQ0.029.pkl\",\"65BC_UNQ0.029.pkl\",\"73BC_UNQ0.029.pkl\",\"81BC_UNQ0.029.pkl\",\"8BC_UNQ0.029.pkl\",\"98BC_UNQ0.029.pkl\",\n",
    "\"16BC_UNQ0.029.pkl\",\"24BC_UNQ0.029.pkl\",\"32BC_UNQ0.029.pkl\",\"41BC_UNQ0.029.pkl\",\"4BC_UNQ0.029.pkl\",\"58BC_UNQ0.029.pkl\",\"66BC_UNQ0.029.pkl\",\"74BC_UNQ0.029.pkl\",\"82BC_UNQ0.029.pkl\",\"90BC_UNQ0.029.pkl\",\"99BC_UNQ0.029.pkl\",\n",
    "\"17BC_UNQ0.029.pkl\",\"25BC_UNQ0.029.pkl\",\"33BC_UNQ0.029.pkl\",\"42BC_UNQ0.029.pkl\",\"50BC_UNQ0.029.pkl\",\"59BC_UNQ0.029.pkl\",\"67BC_UNQ0.029.pkl\",\"75BC_UNQ0.029.pkl\",\"83BC_UNQ0.029.pkl\",\"91BC_UNQ0.029.pkl\",\"9BC_UNQ0.029.pkl\",\n",
    "\"18BC_UNQ0.029.pkl\",\"26BC_UNQ0.029.pkl\",\"34BC_UNQ0.029.pkl\",\"43BC_UNQ0.029.pkl\",\"51BC_UNQ0.029.pkl\",\"5BC_UNQ0.029.pkl\",\"68BC_UNQ0.029.pkl\",\"76BC_UNQ0.029.pkl\",\"84BC_UNQ0.029.pkl\",\"92BC_UNQ0.029.pkl\"]\n"
   ]
  },
  {
   "cell_type": "code",
   "execution_count": 4,
   "metadata": {},
   "outputs": [
    {
     "data": {
      "text/plain": [
       "98"
      ]
     },
     "execution_count": 4,
     "metadata": {},
     "output_type": "execute_result"
    }
   ],
   "source": [
    "len(words)"
   ]
  },
  {
   "cell_type": "markdown",
   "metadata": {},
   "source": [
    "# Algorithm"
   ]
  },
  {
   "cell_type": "markdown",
   "metadata": {},
   "source": [
    "## Missing"
   ]
  },
  {
   "cell_type": "code",
   "execution_count": 5,
   "metadata": {},
   "outputs": [
    {
     "name": "stdout",
     "output_type": "stream",
     "text": [
      "Missing Indices for UNQ: [15, 38]\n",
      "Missing Indices for DPL: [0, 1, 2, 3, 4, 5, 6, 7, 8, 9, 10, 11, 12, 13, 14, 15, 16, 17, 18, 19, 20, 21, 22, 23, 24, 25, 26, 27, 28, 29, 30, 31, 32, 33, 34, 35, 36, 37, 38, 39, 40, 41, 42, 43, 44, 45, 46, 47, 48, 49, 50, 51, 52, 53, 54, 55, 56, 57, 58, 59, 60, 61, 62, 63, 64, 65, 66, 67, 68, 69, 70, 71, 72, 73, 74, 75, 76, 77, 78, 79, 80, 81, 82, 83, 84, 85, 86, 87, 88, 89, 90, 91, 92, 93, 94, 95, 96, 97, 98, 99]\n",
      "Duplicate Indices for UNQ: []\n",
      "Duplicate Indices for DPL: []\n"
     ]
    }
   ],
   "source": [
    "### Combined Analysis for Unique and Duplicate ###\n",
    "TotalCountUnique = []\n",
    "TotalCountDuplicate = []\n",
    "TotalCountDuplicateUNQ = []\n",
    "TotalCountDuplicateDPL = []\n",
    "\n",
    "for i in range(0, 100):\n",
    "    substringUNQ = str(i) + Abbrv + \"_UNQ\"\n",
    "    substringDPL = str(i) + Abbrv + \"_DPL\"\n",
    "\n",
    "    # Unique occurrences\n",
    "    unique_occurrencesUNQ = {word for word in words if word.startswith(substringUNQ)}\n",
    "    unique_occurrencesDPL = {word for word in words if word.startswith(substringDPL)}\n",
    "\n",
    "    countUNQ = len(unique_occurrencesUNQ)\n",
    "    countDPL = len(unique_occurrencesDPL)\n",
    "\n",
    "    TotalCountUnique.append(countUNQ)\n",
    "    TotalCountDuplicate.append(countDPL)\n",
    "\n",
    "    # Duplicate occurrences\n",
    "    occurrencesUNQ = [word for word in words if word.startswith(substringUNQ)]\n",
    "    occurrencesDPL = [word for word in words if word.startswith(substringDPL)]\n",
    "\n",
    "    countDuplicatesUNQ = len(occurrencesUNQ)\n",
    "    countDuplicatesDPL = len(occurrencesDPL)\n",
    "\n",
    "    TotalCountDuplicateUNQ.append(countDuplicatesUNQ)\n",
    "    TotalCountDuplicateDPL.append(countDuplicatesDPL)\n",
    "\n",
    "### Convert to DataFrames ###\n",
    "TotalCountUnique = pd.DataFrame(TotalCountUnique, columns=[\"Unique\"])\n",
    "TotalCountDuplicate = pd.DataFrame(TotalCountDuplicate, columns=[\"Duplicate\"])\n",
    "TotalCountDuplicateUNQ = pd.DataFrame(TotalCountDuplicateUNQ, columns=[\"Duplicate_UNQ\"])\n",
    "TotalCountDuplicateDPL = pd.DataFrame(TotalCountDuplicateDPL, columns=[\"Duplicate_DPL\"])\n",
    "\n",
    "### Identify Missing ###\n",
    "MissingUNQ = list(TotalCountUnique[TotalCountUnique[\"Unique\"] < 1].index)\n",
    "MissingDPL = list(TotalCountDuplicate[TotalCountDuplicate[\"Duplicate\"] < 1].index)\n",
    "\n",
    "### Identify Duplicates ###\n",
    "DuplicateIndicesUNQ = list(TotalCountDuplicateUNQ[TotalCountDuplicateUNQ[\"Duplicate_UNQ\"] > 1].index)\n",
    "DuplicateIndicesDPL = list(TotalCountDuplicateDPL[TotalCountDuplicateDPL[\"Duplicate_DPL\"] > 1].index)\n",
    "\n",
    "### Outputs ###\n",
    "print(\"Missing Indices for UNQ:\", MissingUNQ)\n",
    "print(\"Missing Indices for DPL:\", MissingDPL)\n",
    "print(\"Duplicate Indices for UNQ:\", DuplicateIndicesUNQ)\n",
    "print(\"Duplicate Indices for DPL:\", DuplicateIndicesDPL)\n"
   ]
  },
  {
   "cell_type": "markdown",
   "metadata": {},
   "source": [
    "# Results"
   ]
  },
  {
   "cell_type": "markdown",
   "metadata": {},
   "source": [
    "### Missing"
   ]
  },
  {
   "cell_type": "code",
   "execution_count": 6,
   "metadata": {},
   "outputs": [
    {
     "name": "stdout",
     "output_type": "stream",
     "text": [
      "Unique: [15, 38]\n",
      "Duplicate: [0, 1, 2, 3, 4, 5, 6, 7, 8, 9, 10, 11, 12, 13, 14, 15, 16, 17, 18, 19, 20, 21, 22, 23, 24, 25, 26, 27, 28, 29, 30, 31, 32, 33, 34, 35, 36, 37, 38, 39, 40, 41, 42, 43, 44, 45, 46, 47, 48, 49, 50, 51, 52, 53, 54, 55, 56, 57, 58, 59, 60, 61, 62, 63, 64, 65, 66, 67, 68, 69, 70, 71, 72, 73, 74, 75, 76, 77, 78, 79, 80, 81, 82, 83, 84, 85, 86, 87, 88, 89, 90, 91, 92, 93, 94, 95, 96, 97, 98, 99]\n"
     ]
    }
   ],
   "source": [
    "print(\"Unique: \"+  str(MissingUNQ))\n",
    "print(\"Duplicate: \"+  str(MissingDPL))"
   ]
  },
  {
   "cell_type": "markdown",
   "metadata": {},
   "source": [
    "### Duplicate"
   ]
  },
  {
   "cell_type": "code",
   "execution_count": 7,
   "metadata": {},
   "outputs": [
    {
     "name": "stdout",
     "output_type": "stream",
     "text": [
      "Unique: []\n",
      "Duplicate: []\n"
     ]
    }
   ],
   "source": [
    "print(\"Unique: \"+  str(DuplicateIndicesUNQ))\n",
    "print(\"Duplicate: \"+  str(DuplicateIndicesDPL))"
   ]
  }
 ],
 "metadata": {
  "kernelspec": {
   "display_name": "Python 3",
   "language": "python",
   "name": "python3"
  },
  "language_info": {
   "codemirror_mode": {
    "name": "ipython",
    "version": 3
   },
   "file_extension": ".py",
   "mimetype": "text/x-python",
   "name": "python",
   "nbconvert_exporter": "python",
   "pygments_lexer": "ipython3",
   "version": "3.9.6"
  }
 },
 "nbformat": 4,
 "nbformat_minor": 2
}
