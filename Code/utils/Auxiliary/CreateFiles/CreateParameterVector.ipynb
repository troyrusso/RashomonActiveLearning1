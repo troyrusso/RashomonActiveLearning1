{
 "cells": [
  {
   "cell_type": "code",
   "execution_count": 1,
   "metadata": {},
   "outputs": [],
   "source": [
    "### Import packages ###\n",
    "import numpy as np\n",
    "import pandas as pd\n",
    "import itertools"
   ]
  },
  {
   "cell_type": "markdown",
   "metadata": {},
   "source": [
    "# Input Data Set "
   ]
  },
  {
   "cell_type": "code",
   "execution_count": 2,
   "metadata": {},
   "outputs": [],
   "source": [
    "### Regression ###\n",
    "# Data =[\"Auto\"]\n",
    "# Data =[\"BostonHousing\"]\n",
    "# Data =[\"CPS\"]\n",
    "# Data =[\"Simulate\"]\n",
    "# Data =[\"Yacht\"]\n",
    "\n",
    "### Classification ###\n",
    "Data =[\"BostonHousingBinned\"]\n"
   ]
  },
  {
   "cell_type": "markdown",
   "metadata": {},
   "source": [
    "# Input directory"
   ]
  },
  {
   "cell_type": "code",
   "execution_count": 3,
   "metadata": {},
   "outputs": [],
   "source": [
    "# Directory\n",
    "dir_path = \"/Users/simondn/Documents/RashomonActiveLearning/Code/raw\""
   ]
  },
  {
   "cell_type": "markdown",
   "metadata": {},
   "source": [
    "## Input Rashomon Parameters"
   ]
  },
  {
   "cell_type": "code",
   "execution_count": 4,
   "metadata": {},
   "outputs": [],
   "source": [
    "# Rashomon QBC parameters\n",
    "Seed = range(0,10)\n",
    "TestProportion = [0.2]\n",
    "CandidateProportion = [0.8]\n",
    "SelectorType = [\"RashomonQBCFunction\", \"PassiveLearning\"]\n",
    "ModelType = [\"TreeFarmsFunction\"]\n",
    "DataArgs = [{\"N\": 1000, \"K\": 5}]\n",
    "SelectorArgs = [{\"TopCModels\": 1}, {\"TopCModels\": 10}, {\"TopCModels\": 100}]\n",
    "ModelArgs = [{\"TopCModels\": 1, \"config\" : {\"regularization\": 0.01, \"rashomon_bound_multiplier\": 0.15}, \"Type\":\"Classification\"},\n",
    "             {\"TopCModels\": 10, \"config\" : {\"regularization\": 0.01, \"rashomon_bound_multiplier\": 0.15}, \"Type\":\"Classification\"},\n",
    "             {\"TopCModels\": 100, \"config\" : {\"regularization\": 0.01, \"rashomon_bound_multiplier\": 0.15}, \"Type\":\"Classification\"}]\n",
    "\n",
    "filtered_combinations = [\n",
    "    (seed, data, test_prop, cand_prop, selector_type, model_type, data_arg, sel_arg, mod_arg)\n",
    "    for seed, data, test_prop, cand_prop, selector_type, model_type, data_arg, sel_arg, mod_arg in itertools.product(\n",
    "        Seed, Data, TestProportion, CandidateProportion, SelectorType, ModelType, DataArgs, SelectorArgs, ModelArgs\n",
    "    )\n",
    "    if sel_arg[\"TopCModels\"] == mod_arg[\"TopCModels\"] and \n",
    "       (selector_type != \"PassiveLearning\" or sel_arg[\"TopCModels\"] == 1)\n",
    "]\n",
    "\n",
    "df = pd.DataFrame(filtered_combinations, columns=[\n",
    "    \"Seed\", \"Data\", \"TestProportion\", \"CandidateProportion\", \"SelectorType\", \n",
    "    \"ModelType\", \"DataArgs\", \"SelectorArgs\", \"ModelArgs\"])\n",
    "\n",
    "### Rashomon numbering ###\n",
    "df[\"RashomonNumbering\"] = df['SelectorArgs'].apply(lambda x: str(x['TopCModels']))\n"
   ]
  },
  {
   "cell_type": "markdown",
   "metadata": {},
   "source": [
    "# Input Non-Rashomon parameters"
   ]
  },
  {
   "cell_type": "code",
   "execution_count": 5,
   "metadata": {},
   "outputs": [],
   "source": [
    "# # Regression parameters\n",
    "# Seed = range(1,3)\n",
    "# TestProportion = [0.2]\n",
    "# CandidateProportion = [0.8]\n",
    "# SelectorType = [\"PassiveLearning\", \"GSxFunction\", \"GSyFunction\", \"iGSFunction\"]\n",
    "# ModelType = [\"LinearRegressionFunction\", \"RidgeRegressionFunction\", \"RandomForestRegressorFunction\"]\n",
    "# DataArgs = [{\"N\": 1000, \"K\": 5}]\n",
    "# SelectorArgs = [{\"df_Candidate\" : \"df_Candidate\"}]\n",
    "# ModelArgs = [{\"alpha_val\": 0.1,\n",
    "#               \"n_estimators\" :100,\n",
    "#               \"Seed\" : 1}]\n",
    "\n",
    "# ### Combinations ###\n",
    "# Combinations = list(itertools.product(\n",
    "#     Seed, Data, TestProportion, CandidateProportion, SelectorType, ModelType, DataArgs, SelectorArgs, ModelArgs\n",
    "# ))\n",
    "\n",
    "# ### Data Frame ###\n",
    "# df = pd.DataFrame(Combinations,\n",
    "#                   columns = [\"Seed\", \n",
    "#                   \"Data\", \n",
    "#                   \"TestProportion\", \n",
    "#                   \"CandidateProportion\", \n",
    "#                   \"SelectorType\", \n",
    "#                   \"ModelType\", \n",
    "#                   \"DataArgs\", \n",
    "#                   \"SelectorArgs\", \n",
    "#                   \"ModelArgs\"])"
   ]
  },
  {
   "cell_type": "code",
   "execution_count": 6,
   "metadata": {},
   "outputs": [],
   "source": [
    "### Job Name ###\n",
    "ReplacementCharacters = {\":\": \"\",  \" \": \"\", \"{\": \"\", \"}\": \"\", \"\"\": \"\", \",\": \"_\", \"\"\": \"\", \"[\": \"\", \"]\": \"\"}\n",
    "DataArgsReplacement = \"\".join([ReplacementCharacters.get(char, char) for char in str(DataArgs)])\n",
    "ModelArgsReplacement = \"\".join([ReplacementCharacters.get(char, char) for char in str(ModelArgs)])\n",
    "SelectorArgsReplacement = \"\".join([ReplacementCharacters.get(char, char) for char in str(ModelArgs)])\n",
    "ModelTypeReplacement = str(ModelType).replace(\"Function\",\"\")\n",
    "DataReplacement = \"\".join([ReplacementCharacters.get(char, char) for char in str(Data)])\n",
    "\n",
    "df[\"JobName\"] = (\"Seed\" + df[\"Seed\"].astype(str) +\n",
    "                 \"_Data\" + df[\"Data\"].astype(str) +\n",
    "                 \"_TP\" + df[\"TestProportion\"].astype(str) +\n",
    "                 \"_CP\" + df[\"CandidateProportion\"].astype(str) +\n",
    "                 \"_ST\" + df[\"SelectorType\"].astype(str) +\n",
    "                 \"_MT\" + df[\"ModelType\"].astype(str) + \n",
    "                 \"RashomonNum\" + df[\"RashomonNumbering\"]\n",
    "                #  DataArgsReplacement + \"_\" +\n",
    "                #  ModelArgsReplacement\n",
    "                 )\n"
   ]
  },
  {
   "cell_type": "code",
   "execution_count": 7,
   "metadata": {},
   "outputs": [],
   "source": [
    "### Output Name ###\n",
    "df[\"JobName\"] = df[\"JobName\"].str.replace(\"Function\", \"\", regex=False)\n",
    "df[\"Output\"] =  df[\"Data\"].astype(str) + \"/\" + df[\"ModelType\"].astype(str) + \"/Raw/\" + df[\"JobName\"]+ df[\"RashomonNumbering\"] + \".pkl\"\n",
    "df[\"Output\"] = df[\"Output\"].str.replace(\"Function\", \"\", regex=False)\n",
    "df.drop('RashomonNumbering', axis=1, inplace=True)\n"
   ]
  },
  {
   "cell_type": "code",
   "execution_count": 8,
   "metadata": {},
   "outputs": [],
   "source": [
    "# Define the columns to process\n",
    "columns_to_process = ['DataArgs', 'SelectorArgs', 'ModelArgs']\n",
    "for col in columns_to_process:\n",
    "    df[col] = \"'\" + df[col].apply(lambda x: str(x).replace(\"'\", '\"') if pd.notna(x) else x) + \"'\"\n"
   ]
  },
  {
   "cell_type": "code",
   "execution_count": 9,
   "metadata": {},
   "outputs": [],
   "source": [
    "### Save Parameter Vector ###\n",
    "output_path = \"/Users/simondn/Documents/RashomonActiveLearning/Data/ParameterVectors/ParameterVector\" + str(Data[0]) + \".csv\"\n",
    "df.to_csv(output_path, index=False)"
   ]
  },
  {
   "cell_type": "code",
   "execution_count": null,
   "metadata": {},
   "outputs": [],
   "source": []
  }
 ],
 "metadata": {
  "kernelspec": {
   "display_name": "Python 3",
   "language": "python",
   "name": "python3"
  },
  "language_info": {
   "codemirror_mode": {
    "name": "ipython",
    "version": 3
   },
   "file_extension": ".py",
   "mimetype": "text/x-python",
   "name": "python",
   "nbconvert_exporter": "python",
   "pygments_lexer": "ipython3",
   "version": "3.9.6"
  }
 },
 "nbformat": 4,
 "nbformat_minor": 2
}
