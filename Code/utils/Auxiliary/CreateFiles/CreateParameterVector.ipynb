{
 "cells": [
  {
   "cell_type": "code",
   "execution_count": 1,
   "metadata": {},
   "outputs": [],
   "source": [
    "### Import packages ###\n",
    "import ast\n",
    "import itertools\n",
    "import numpy as np\n",
    "import pandas as pd"
   ]
  },
  {
   "cell_type": "markdown",
   "metadata": {},
   "source": [
    "# Input"
   ]
  },
  {
   "cell_type": "code",
   "execution_count": 2,
   "metadata": {},
   "outputs": [],
   "source": [
    "# Input Data Set #\n",
    "Data =\"BostonHousing\"\n",
    "\n",
    "# Input directory #\n",
    "dir_path = \"/Users/simondn/Documents/RashomonActiveLearning/Code/raw\"\n",
    "\n",
    "# Input Parameters #\n",
    "ParameterDictionary = {\"Data\":[Data],\n",
    "                       \"Seed\":list(range(0,1)),\n",
    "                       \"TestProportion\":[0.2],\n",
    "                       \"CandidateProportion\":[0.8],\n",
    "                       \"SelectorType\":[\"TreeEnsembleQBCFunction\"],\n",
    "                       \"ModelType\":[\"RandomForestClassificationFunction\", \"TreeFarmsFunction\"],\n",
    "                       \"TopCModels\":[10],                                                                  # DELETE EVENTUALLY\n",
    "                       \"UniqueErrorsInput\": [0,1],\n",
    "                       \"n_estimators\": [100], \n",
    "                       \"regularization\": [0.01],\n",
    "                       \"rashomon_bound_adder\": [0.01],\n",
    "                       \"Type\": [\"Classification\"]}\n",
    "\n"
   ]
  },
  {
   "cell_type": "markdown",
   "metadata": {},
   "source": [
    "# Create Parameter Vector"
   ]
  },
  {
   "cell_type": "code",
   "execution_count": 3,
   "metadata": {},
   "outputs": [],
   "source": [
    "# Create Parameter Vector #\n",
    "ParameterVector = pd.DataFrame.from_records(itertools.product(*ParameterDictionary.values()), columns=ParameterDictionary.keys())\n",
    "\n",
    "# Filter #\n",
    "IndexDrop = ParameterVector[(ParameterVector[\"ModelType\"] == \"RandomForestClassificationFunction\") & (ParameterVector[\"UniqueErrorsInput\"]== 1)].index\n",
    "ParameterVector.drop(IndexDrop , inplace=True)\n",
    "ParameterVector.index = range(0,ParameterVector.shape[0])\n",
    "\n",
    "# Generate JobName #\n",
    "ParameterVector[\"JobName\"] = (\n",
    "    \"Seed\" + ParameterVector[\"Seed\"].astype(str) +\n",
    "    \"_Data\" + ParameterVector[\"Data\"].astype(str) +\n",
    "    \"_TP\" + ParameterVector[\"TestProportion\"].astype(str) +\n",
    "    \"_CP\" + ParameterVector[\"CandidateProportion\"].astype(str) +\n",
    "    \"_ST\" + ParameterVector[\"SelectorType\"].astype(str) +\n",
    "    \"_MT\" + ParameterVector[\"ModelType\"].astype(str) +\n",
    "    \"_UEI\" + ParameterVector[\"UniqueErrorsInput\"].astype(str) +\n",
    "    \"_NE\" + ParameterVector[\"n_estimators\"].astype(str) +\n",
    "    \"_Reg\" + ParameterVector[\"regularization\"].astype(str) +\n",
    "    \"_RBA\" + ParameterVector[\"rashomon_bound_adder\"].astype(str)\n",
    "    )\n",
    "\n",
    "# Output Name #\n",
    "ParameterVector[\"JobName\"] = ParameterVector[\"JobName\"].str.replace(\"Function\", \"\", regex=False)\n",
    "ParameterVector[\"Output\"] =  ParameterVector[\"Data\"].astype(str) + \"/\" + ParameterVector[\"ModelType\"].astype(str) + \"/Raw/\" + ParameterVector[\"JobName\"] + \".pkl\"\n",
    "ParameterVector[\"Output\"] = ParameterVector[\"Output\"].str.replace(\"Function\", \"\", regex=False)"
   ]
  },
  {
   "cell_type": "markdown",
   "metadata": {},
   "source": [
    "# Save Parameter Vector"
   ]
  },
  {
   "cell_type": "code",
   "execution_count": 4,
   "metadata": {},
   "outputs": [],
   "source": [
    "# Save \n",
    "output_path = \"/Users/simondn/Documents/RashomonActiveLearning/Data/ParameterVectors/ParameterVector\" + str(Data) + \".csv\"\n",
    "ParameterVector.to_csv(output_path, index=False)"
   ]
  },
  {
   "cell_type": "code",
   "execution_count": 6,
   "metadata": {},
   "outputs": [
    {
     "data": {
      "text/plain": [
       "Index(['Data', 'Seed', 'TestProportion', 'CandidateProportion', 'SelectorType',\n",
       "       'ModelType', 'TopCModels', 'UniqueErrorsInput', 'n_estimators',\n",
       "       'regularization', 'rashomon_bound_adder', 'Type', 'JobName', 'Output'],\n",
       "      dtype='object')"
      ]
     },
     "execution_count": 6,
     "metadata": {},
     "output_type": "execute_result"
    }
   ],
   "source": [
    "ParameterVector.columns"
   ]
  }
 ],
 "metadata": {
  "kernelspec": {
   "display_name": "Python 3",
   "language": "python",
   "name": "python3"
  },
  "language_info": {
   "codemirror_mode": {
    "name": "ipython",
    "version": 3
   },
   "file_extension": ".py",
   "mimetype": "text/x-python",
   "name": "python",
   "nbconvert_exporter": "python",
   "pygments_lexer": "ipython3",
   "version": "3.9.6"
  }
 },
 "nbformat": 4,
 "nbformat_minor": 2
}
