{
 "cells": [
  {
   "cell_type": "code",
   "execution_count": 1,
   "metadata": {},
   "outputs": [],
   "source": [
    "### Import packages ###\n",
    "import ast\n",
    "import itertools\n",
    "import numpy as np\n",
    "import pandas as pd"
   ]
  },
  {
   "cell_type": "markdown",
   "metadata": {},
   "source": [
    "# Input Data Set "
   ]
  },
  {
   "cell_type": "code",
   "execution_count": 2,
   "metadata": {},
   "outputs": [],
   "source": [
    "### Regression ###\n",
    "# Data =[\"Auto\"]\n",
    "# Data =[\"BostonHousing\"]\n",
    "# Data =[\"CPS\"]\n",
    "# Data =[\"Simulate\"]\n",
    "# Data =[\"Yacht\"]\n",
    "\n",
    "### Classification ###\n",
    "Data =[\"BostonHousingBinned\"]\n"
   ]
  },
  {
   "cell_type": "markdown",
   "metadata": {},
   "source": [
    "# Input directory"
   ]
  },
  {
   "cell_type": "code",
   "execution_count": 3,
   "metadata": {},
   "outputs": [],
   "source": [
    "# Directory\n",
    "dir_path = \"/Users/simondn/Documents/RashomonActiveLearning/Code/raw\""
   ]
  },
  {
   "cell_type": "markdown",
   "metadata": {},
   "source": [
    "# Input Rashomon Parameters"
   ]
  },
  {
   "cell_type": "code",
   "execution_count": 4,
   "metadata": {},
   "outputs": [],
   "source": [
    "import itertools\n",
    "import pandas as pd\n",
    "\n",
    "# Rashomon QBC parameters\n",
    "Seed = range(0, 100)\n",
    "Data = [\"BostonHousingBinned\"]  # Example Data\n",
    "TestProportion = [0.2]\n",
    "CandidateProportion = [0.8]\n",
    "SelectorType = [\"TreeEnsembleQBCFunction\"]\n",
    "ModelType = [\"TreeFarmsFunction\"]\n",
    "DataArgs = [{\"N\": 1000, \"K\": 5}]\n",
    "SelectorArgs = [\n",
    "    {\"TopCModels\": 5, \"UniqueErrorsInput\": 1},\n",
    "    {\"TopCModels\": 5, \"UniqueErrorsInput\": 0}\n",
    "]\n",
    "ModelArgs = [\n",
    "    {\"n_estimators\": 100,\n",
    "     \"Seed\": 1,\n",
    "     \"TopCModels\": 5, \n",
    "     \"config\": {\"regularization\": 0.01, \"rashomon_bound_multiplier\": 0.1}, \"Type\": \"Classification\"}\n",
    "]\n",
    "\n",
    "\n",
    "# Generate filtered combinations\n",
    "filtered_combinations = [\n",
    "    (seed, data, test_prop, cand_prop, selector_type, model_type, data_arg, sel_arg, mod_arg)\n",
    "    for seed, data, test_prop, cand_prop, selector_type, model_type, data_arg, sel_arg, mod_arg in itertools.product(\n",
    "        Seed, Data, TestProportion, CandidateProportion, SelectorType, ModelType, DataArgs, SelectorArgs, ModelArgs\n",
    "    )\n",
    "    if (model_type == \"TreeFarmsFunction\" and sel_arg[\"TopCModels\"] == mod_arg[\"TopCModels\"]) or\n",
    "       (model_type == \"RandomForestClassificationFunction\" and \n",
    "        sel_arg[\"TopCModels\"] == 10 and \n",
    "        mod_arg[\"TopCModels\"] == 10 and \n",
    "        sel_arg[\"UniqueErrorsInput\"] == 1) \n",
    "]\n",
    "\n",
    "# Create DataFrame\n",
    "df = pd.DataFrame(filtered_combinations, columns=[\n",
    "    \"Seed\", \"Data\", \"TestProportion\", \"CandidateProportion\", \"SelectorType\", \n",
    "    \"ModelType\", \"DataArgs\", \"SelectorArgs\", \"ModelArgs\"\n",
    "])\n"
   ]
  },
  {
   "cell_type": "markdown",
   "metadata": {},
   "source": [
    "# Create JobName and Output"
   ]
  },
  {
   "cell_type": "code",
   "execution_count": 5,
   "metadata": {},
   "outputs": [],
   "source": [
    "# Replacement dictionary for formatting\n",
    "ReplacementCharacters = {\":\": \"\",  \" \": \"\", \"{\": \"\", \"}\": \"\", \"\\\"\": \"\", \",\": \"_\", \"[\": \"\", \"]\": \"\"}\n",
    "\n",
    "# Generate JobName\n",
    "df[\"JobName\"] = (\n",
    "    \"Seed\" + df[\"Seed\"].astype(str) +\n",
    "    \"_Data\" + df[\"Data\"].astype(str) +\n",
    "    \"_TP\" + df[\"TestProportion\"].astype(str) +\n",
    "    \"_CP\" + df[\"CandidateProportion\"].astype(str) +\n",
    "    \"_ST\" + df[\"SelectorType\"].astype(str) +\n",
    "    \"_MT\" + df[\"ModelType\"].astype(str) +\n",
    "    \"_UEI\" + df[\"SelectorArgs\"].apply(lambda x: str(x[\"UniqueErrorsInput\"])) +\n",
    "    \"_RashomonNum\" + df[\"SelectorArgs\"].apply(lambda x: str(x[\"TopCModels\"]))\n",
    ")\n",
    "\n",
    "### Output Name ###\n",
    "df[\"JobName\"] = df[\"JobName\"].str.replace(\"Function\", \"\", regex=False)\n",
    "df[\"Output\"] =  df[\"Data\"].astype(str) + \"/\" + df[\"ModelType\"].astype(str) + \"/Raw/\" + df[\"JobName\"] + \".pkl\"\n",
    "df[\"Output\"] = df[\"Output\"].str.replace(\"Function\", \"\", regex=False)"
   ]
  },
  {
   "cell_type": "code",
   "execution_count": 6,
   "metadata": {},
   "outputs": [],
   "source": [
    "### Change types ###\n",
    "df[\"DataArgs\"] = df[\"DataArgs\"].astype(str)\n",
    "df[\"SelectorArgs\"] = df[\"SelectorArgs\"].astype(str)\n",
    "df[\"ModelArgs\"] = df[\"ModelArgs\"].astype(str)\n",
    "\n",
    "df[\"DataArgs\"] = \"'\"+ df[\"DataArgs\"].apply(lambda x: str(x).replace(\"'\", '\"')) +\"'\"\n",
    "df[\"SelectorArgs\"] = \"'\"+ df[\"SelectorArgs\"].apply(lambda x: str(x).replace(\"'\", '\"')) +\"'\"\n",
    "df[\"ModelArgs\"] = \"'\"+ df[\"ModelArgs\"].apply(lambda x: str(x).replace(\"'\", '\"')) +\"'\"\n"
   ]
  },
  {
   "cell_type": "code",
   "execution_count": 7,
   "metadata": {},
   "outputs": [],
   "source": [
    "### Save Parameter Vector ###\n",
    "output_path = \"/Users/simondn/Documents/RashomonActiveLearning/Data/ParameterVectors/ParameterVector\" + str(Data[0]) + \".csv\"\n",
    "df.to_csv(output_path, index=False)"
   ]
  },
  {
   "cell_type": "code",
   "execution_count": 8,
   "metadata": {},
   "outputs": [
    {
     "data": {
      "text/plain": [
       "200"
      ]
     },
     "execution_count": 8,
     "metadata": {},
     "output_type": "execute_result"
    }
   ],
   "source": [
    "len(set(df[\"JobName\"]))"
   ]
  },
  {
   "cell_type": "code",
   "execution_count": 9,
   "metadata": {},
   "outputs": [
    {
     "data": {
      "text/plain": [
       "200"
      ]
     },
     "execution_count": 9,
     "metadata": {},
     "output_type": "execute_result"
    }
   ],
   "source": [
    "len(set(df[\"Output\"]))"
   ]
  },
  {
   "cell_type": "code",
   "execution_count": 10,
   "metadata": {},
   "outputs": [
    {
     "data": {
      "text/plain": [
       "(200, 11)"
      ]
     },
     "execution_count": 10,
     "metadata": {},
     "output_type": "execute_result"
    }
   ],
   "source": [
    "df.shape"
   ]
  },
  {
   "cell_type": "code",
   "execution_count": 11,
   "metadata": {},
   "outputs": [
    {
     "data": {
      "text/plain": [
       "'BostonHousingBinned/TreeFarms/Raw/Seed0_DataBostonHousingBinned_TP0.2_CP0.8_STTreeEnsembleQBC_MTTreeFarms_UEI1_RashomonNum5.pkl'"
      ]
     },
     "execution_count": 11,
     "metadata": {},
     "output_type": "execute_result"
    }
   ],
   "source": [
    "df[\"Output\"][0]"
   ]
  }
 ],
 "metadata": {
  "kernelspec": {
   "display_name": "Python 3",
   "language": "python",
   "name": "python3"
  },
  "language_info": {
   "codemirror_mode": {
    "name": "ipython",
    "version": 3
   },
   "file_extension": ".py",
   "mimetype": "text/x-python",
   "name": "python",
   "nbconvert_exporter": "python",
   "pygments_lexer": "ipython3",
   "version": "3.11.4"
  }
 },
 "nbformat": 4,
 "nbformat_minor": 2
}
