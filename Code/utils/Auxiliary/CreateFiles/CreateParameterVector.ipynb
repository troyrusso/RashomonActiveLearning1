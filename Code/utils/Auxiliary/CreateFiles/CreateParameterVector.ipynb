{
 "cells": [
  {
   "cell_type": "code",
   "execution_count": 1,
   "metadata": {},
   "outputs": [],
   "source": [
    "### Import packages ###\n",
    "import numpy as np\n",
    "import pandas as pd\n",
    "import itertools"
   ]
  },
  {
   "cell_type": "markdown",
   "metadata": {},
   "source": [
    "# Input Data Set "
   ]
  },
  {
   "cell_type": "code",
   "execution_count": 2,
   "metadata": {},
   "outputs": [],
   "source": [
    "### Regression ###\n",
    "# Data =[\"Auto\"]\n",
    "# Data =[\"BostonHousing\"]\n",
    "# Data =[\"CPS\"]\n",
    "# Data =[\"Simulate\"]\n",
    "# Data =[\"Yacht\"]\n",
    "\n",
    "### Classification ###\n",
    "Data =[\"MONK2\"]\n"
   ]
  },
  {
   "cell_type": "markdown",
   "metadata": {},
   "source": [
    "# Input Other Parameters"
   ]
  },
  {
   "cell_type": "code",
   "execution_count": 3,
   "metadata": {},
   "outputs": [
    {
     "ename": "NameError",
     "evalue": "name 'regularization' is not defined",
     "output_type": "error",
     "traceback": [
      "\u001b[0;31m---------------------------------------------------------------------------\u001b[0m",
      "\u001b[0;31mNameError\u001b[0m                                 Traceback (most recent call last)",
      "Cell \u001b[0;32mIn[3], line 1\u001b[0m\n\u001b[0;32m----> 1\u001b[0m \u001b[43mregularization\u001b[49m\n",
      "\u001b[0;31mNameError\u001b[0m: name 'regularization' is not defined"
     ]
    }
   ],
   "source": [
    "regularization"
   ]
  },
  {
   "cell_type": "code",
   "execution_count": 4,
   "metadata": {},
   "outputs": [],
   "source": [
    "# Directory\n",
    "dir_path = \"/Users/simondn/Documents/RashomonActiveLearning/Code/raw\""
   ]
  },
  {
   "cell_type": "code",
   "execution_count": 5,
   "metadata": {},
   "outputs": [],
   "source": [
    "\n",
    "# Rashomon QBC parameters\n",
    "Seed = range(1,3)\n",
    "TestProportion = [0.2]\n",
    "CandidateProportion = [0.8]\n",
    "SelectorType = [\"RashomonQBCFunction\"]\n",
    "ModelType = [\"TreeFarmsFunction\"]\n",
    "DataArgs = [{\"N\": 1000, \"K\": 5}]\n",
    "SelectorArgs = [{\"TopCModels\": 1}, {\"TopCModels\": 10}, {\"TopCModels\": 100}]\n",
    "ModelArgs = [{\"TopCModels\": 1, \"config\" : {\"regularization\": 0.01, \"rashomon_bound_multiplier\": 0.05}, \"Type\":\"Classification\"},\n",
    "             {\"TopCModels\": 10, \"config\" : {\"regularization\": 0.01, \"rashomon_bound_multiplier\": 0.05}, \"Type\":\"Classification\"},\n",
    "             {\"TopCModels\": 100, \"config\" : {\"regularization\": 0.01, \"rashomon_bound_multiplier\": 0.05}, \"Type\":\"Classification\"}]\n",
    "\n",
    "filtered_combinations = [\n",
    "    (seed, data, test_prop, cand_prop, selector_type, model_type, data_arg, sel_arg, mod_arg)\n",
    "    for seed, data, test_prop, cand_prop, selector_type, model_type, data_arg, sel_arg, mod_arg in itertools.product(\n",
    "        Seed, Data, TestProportion, CandidateProportion, SelectorType, ModelType, DataArgs, SelectorArgs, ModelArgs\n",
    "    )\n",
    "    if sel_arg[\"TopCModels\"] == mod_arg[\"TopCModels\"]\n",
    "]\n",
    "\n",
    "df = pd.DataFrame(filtered_combinations, columns=[\n",
    "    \"Seed\", \"Data\", \"TestProportion\", \"CandidateProportion\", \"SelectorType\", \n",
    "    \"ModelType\", \"DataArgs\", \"SelectorArgs\", \"ModelArgs\"])\n"
   ]
  },
  {
   "cell_type": "code",
   "execution_count": 6,
   "metadata": {},
   "outputs": [
    {
     "data": {
      "text/html": [
       "<div>\n",
       "<style scoped>\n",
       "    .dataframe tbody tr th:only-of-type {\n",
       "        vertical-align: middle;\n",
       "    }\n",
       "\n",
       "    .dataframe tbody tr th {\n",
       "        vertical-align: top;\n",
       "    }\n",
       "\n",
       "    .dataframe thead th {\n",
       "        text-align: right;\n",
       "    }\n",
       "</style>\n",
       "<table border=\"1\" class=\"dataframe\">\n",
       "  <thead>\n",
       "    <tr style=\"text-align: right;\">\n",
       "      <th></th>\n",
       "      <th>Seed</th>\n",
       "      <th>Data</th>\n",
       "      <th>TestProportion</th>\n",
       "      <th>CandidateProportion</th>\n",
       "      <th>SelectorType</th>\n",
       "      <th>ModelType</th>\n",
       "      <th>DataArgs</th>\n",
       "      <th>SelectorArgs</th>\n",
       "      <th>ModelArgs</th>\n",
       "    </tr>\n",
       "  </thead>\n",
       "  <tbody>\n",
       "    <tr>\n",
       "      <th>0</th>\n",
       "      <td>1</td>\n",
       "      <td>MONK2</td>\n",
       "      <td>0.2</td>\n",
       "      <td>0.8</td>\n",
       "      <td>RashomonQBCFunction</td>\n",
       "      <td>TreeFarmsFunction</td>\n",
       "      <td>{'N': 1000, 'K': 5}</td>\n",
       "      <td>{'TopCModels': 1}</td>\n",
       "      <td>{'TopCModels': 1, 'config': {'regularization':...</td>\n",
       "    </tr>\n",
       "    <tr>\n",
       "      <th>1</th>\n",
       "      <td>1</td>\n",
       "      <td>MONK2</td>\n",
       "      <td>0.2</td>\n",
       "      <td>0.8</td>\n",
       "      <td>RashomonQBCFunction</td>\n",
       "      <td>TreeFarmsFunction</td>\n",
       "      <td>{'N': 1000, 'K': 5}</td>\n",
       "      <td>{'TopCModels': 10}</td>\n",
       "      <td>{'TopCModels': 10, 'config': {'regularization'...</td>\n",
       "    </tr>\n",
       "    <tr>\n",
       "      <th>2</th>\n",
       "      <td>1</td>\n",
       "      <td>MONK2</td>\n",
       "      <td>0.2</td>\n",
       "      <td>0.8</td>\n",
       "      <td>RashomonQBCFunction</td>\n",
       "      <td>TreeFarmsFunction</td>\n",
       "      <td>{'N': 1000, 'K': 5}</td>\n",
       "      <td>{'TopCModels': 100}</td>\n",
       "      <td>{'TopCModels': 100, 'config': {'regularization...</td>\n",
       "    </tr>\n",
       "    <tr>\n",
       "      <th>3</th>\n",
       "      <td>2</td>\n",
       "      <td>MONK2</td>\n",
       "      <td>0.2</td>\n",
       "      <td>0.8</td>\n",
       "      <td>RashomonQBCFunction</td>\n",
       "      <td>TreeFarmsFunction</td>\n",
       "      <td>{'N': 1000, 'K': 5}</td>\n",
       "      <td>{'TopCModels': 1}</td>\n",
       "      <td>{'TopCModels': 1, 'config': {'regularization':...</td>\n",
       "    </tr>\n",
       "    <tr>\n",
       "      <th>4</th>\n",
       "      <td>2</td>\n",
       "      <td>MONK2</td>\n",
       "      <td>0.2</td>\n",
       "      <td>0.8</td>\n",
       "      <td>RashomonQBCFunction</td>\n",
       "      <td>TreeFarmsFunction</td>\n",
       "      <td>{'N': 1000, 'K': 5}</td>\n",
       "      <td>{'TopCModels': 10}</td>\n",
       "      <td>{'TopCModels': 10, 'config': {'regularization'...</td>\n",
       "    </tr>\n",
       "    <tr>\n",
       "      <th>5</th>\n",
       "      <td>2</td>\n",
       "      <td>MONK2</td>\n",
       "      <td>0.2</td>\n",
       "      <td>0.8</td>\n",
       "      <td>RashomonQBCFunction</td>\n",
       "      <td>TreeFarmsFunction</td>\n",
       "      <td>{'N': 1000, 'K': 5}</td>\n",
       "      <td>{'TopCModels': 100}</td>\n",
       "      <td>{'TopCModels': 100, 'config': {'regularization...</td>\n",
       "    </tr>\n",
       "  </tbody>\n",
       "</table>\n",
       "</div>"
      ],
      "text/plain": [
       "   Seed   Data  TestProportion  CandidateProportion         SelectorType  \\\n",
       "0     1  MONK2             0.2                  0.8  RashomonQBCFunction   \n",
       "1     1  MONK2             0.2                  0.8  RashomonQBCFunction   \n",
       "2     1  MONK2             0.2                  0.8  RashomonQBCFunction   \n",
       "3     2  MONK2             0.2                  0.8  RashomonQBCFunction   \n",
       "4     2  MONK2             0.2                  0.8  RashomonQBCFunction   \n",
       "5     2  MONK2             0.2                  0.8  RashomonQBCFunction   \n",
       "\n",
       "           ModelType             DataArgs         SelectorArgs  \\\n",
       "0  TreeFarmsFunction  {'N': 1000, 'K': 5}    {'TopCModels': 1}   \n",
       "1  TreeFarmsFunction  {'N': 1000, 'K': 5}   {'TopCModels': 10}   \n",
       "2  TreeFarmsFunction  {'N': 1000, 'K': 5}  {'TopCModels': 100}   \n",
       "3  TreeFarmsFunction  {'N': 1000, 'K': 5}    {'TopCModels': 1}   \n",
       "4  TreeFarmsFunction  {'N': 1000, 'K': 5}   {'TopCModels': 10}   \n",
       "5  TreeFarmsFunction  {'N': 1000, 'K': 5}  {'TopCModels': 100}   \n",
       "\n",
       "                                           ModelArgs  \n",
       "0  {'TopCModels': 1, 'config': {'regularization':...  \n",
       "1  {'TopCModels': 10, 'config': {'regularization'...  \n",
       "2  {'TopCModels': 100, 'config': {'regularization...  \n",
       "3  {'TopCModels': 1, 'config': {'regularization':...  \n",
       "4  {'TopCModels': 10, 'config': {'regularization'...  \n",
       "5  {'TopCModels': 100, 'config': {'regularization...  "
      ]
     },
     "execution_count": 6,
     "metadata": {},
     "output_type": "execute_result"
    }
   ],
   "source": [
    "df"
   ]
  },
  {
   "cell_type": "code",
   "execution_count": null,
   "metadata": {},
   "outputs": [],
   "source": [
    "# # Regression parameters\n",
    "# Seed = range(1,3)\n",
    "# TestProportion = [0.2]\n",
    "# CandidateProportion = [0.8]\n",
    "# SelectorType = [\"PassiveLearning\", \"GSxFunction\", \"GSyFunction\", \"iGSFunction\"]\n",
    "# ModelType = [\"LinearRegressionFunction\", \"RidgeRegressionFunction\", \"RandomForestRegressorFunction\"]\n",
    "# DataArgs = [{\"N\": 1000, \"K\": 5}]\n",
    "# SelectorArgs = [{\"df_Candidate\" : \"df_Candidate\"}]\n",
    "# ModelArgs = [{\"alpha_val\": 0.1,\n",
    "#               \"n_estimators\" :100,\n",
    "#               \"Seed\" : 1}]\n",
    "\n",
    "# ### Combinations ###\n",
    "# Combinations = list(itertools.product(\n",
    "#     Seed, Data, TestProportion, CandidateProportion, SelectorType, ModelType, DataArgs, SelectorArgs, ModelArgs\n",
    "# ))\n",
    "\n",
    "# ### Data Frame ###\n",
    "# df = pd.DataFrame(Combinations,\n",
    "#                   columns = [\"Seed\", \n",
    "#                   \"Data\", \n",
    "#                   \"TestProportion\", \n",
    "#                   \"CandidateProportion\", \n",
    "#                   \"SelectorType\", \n",
    "#                   \"ModelType\", \n",
    "#                   \"DataArgs\", \n",
    "#                   \"SelectorArgs\", \n",
    "#                   \"ModelArgs\"])"
   ]
  },
  {
   "cell_type": "code",
   "execution_count": 7,
   "metadata": {},
   "outputs": [],
   "source": [
    "### Job Name ###\n",
    "ReplacementCharacters = {\":\": \"\",  \" \": \"\", \"{\": \"\", \"}\": \"\", \"\"\": \"\", \",\": \"_\", \"\"\": \"\", \"[\": \"\", \"]\": \"\"}\n",
    "DataArgsReplacement = \"\".join([ReplacementCharacters.get(char, char) for char in str(DataArgs)])\n",
    "ModelArgsReplacement = \"\".join([ReplacementCharacters.get(char, char) for char in str(ModelArgs)])\n",
    "SelectorArgsReplacement = \"\".join([ReplacementCharacters.get(char, char) for char in str(ModelArgs)])\n",
    "ModelTypeReplacement = str(ModelType).replace(\"Function\",\"\")\n",
    "DataReplacement = \"\".join([ReplacementCharacters.get(char, char) for char in str(Data)])\n",
    "\n",
    "df[\"JobName\"] = (\"Seed\" + df[\"Seed\"].astype(str) +\n",
    "                 \"_Data\" + df[\"Data\"].astype(str) +\n",
    "                 \"_TP\" + df[\"TestProportion\"].astype(str) +\n",
    "                 \"_CP\" + df[\"CandidateProportion\"].astype(str) +\n",
    "                 \"_ST\" + df[\"SelectorType\"].astype(str) +\n",
    "                 \"_MT\" + df[\"ModelType\"].astype(str)\n",
    "                #  DataArgsReplacement + \"_\" +\n",
    "                #  ModelArgsReplacement\n",
    "                 )\n",
    "\n",
    "### Output Name ###\n",
    "df[\"JobName\"] = df[\"JobName\"].str.replace(\"Function\", \"\", regex=False)\n",
    "df[\"Output\"] =  df[\"Data\"].astype(str) + \"/\" + df[\"ModelType\"].astype(str) + \"/Raw/\" + df[\"JobName\"]+\".pkl\"\n",
    "df[\"Output\"] = df[\"Output\"].str.replace(\"Function\", \"\", regex=False)\n"
   ]
  },
  {
   "cell_type": "code",
   "execution_count": 8,
   "metadata": {},
   "outputs": [],
   "source": [
    "# Define the columns to process\n",
    "columns_to_process = ['DataArgs', 'SelectorArgs', 'ModelArgs']\n",
    "for col in columns_to_process:\n",
    "    df[col] = \"'\" + df[col].apply(lambda x: str(x).replace(\"'\", '\"') if pd.notna(x) else x) + \"'\"\n"
   ]
  },
  {
   "cell_type": "code",
   "execution_count": 10,
   "metadata": {},
   "outputs": [],
   "source": [
    "### Save Parameter Vector ###\n",
    "output_path = \"/Users/simondn/Documents/RashomonActiveLearning/Data/ParameterVectors/ParameterVector\" + str(Data[0]) + \".csv\"\n",
    "df.to_csv(output_path, index=False)"
   ]
  }
 ],
 "metadata": {
  "kernelspec": {
   "display_name": "Python 3",
   "language": "python",
   "name": "python3"
  },
  "language_info": {
   "codemirror_mode": {
    "name": "ipython",
    "version": 3
   },
   "file_extension": ".py",
   "mimetype": "text/x-python",
   "name": "python",
   "nbconvert_exporter": "python",
   "pygments_lexer": "ipython3",
   "version": "3.9.6"
  }
 },
 "nbformat": 4,
 "nbformat_minor": 2
}
