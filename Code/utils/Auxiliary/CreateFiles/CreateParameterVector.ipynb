{
 "cells": [
  {
   "cell_type": "code",
   "execution_count": 1,
   "metadata": {},
   "outputs": [],
   "source": [
    "### Import packages ###\n",
    "import ast\n",
    "import itertools\n",
    "import numpy as np\n",
    "import pandas as pd"
   ]
  },
  {
   "cell_type": "markdown",
   "metadata": {},
   "source": [
    "# Input Data Set "
   ]
  },
  {
   "cell_type": "code",
   "execution_count": 2,
   "metadata": {},
   "outputs": [],
   "source": [
    "### Regression ###\n",
    "# Data =[\"Auto\"]\n",
    "# Data =[\"BostonHousing\"]\n",
    "# Data =[\"CPS\"]\n",
    "# Data =[\"Simulate\"]\n",
    "# Data =[\"Yacht\"]\n",
    "\n",
    "### Classification ###\n",
    "Data =[\"BostonHousingBinned\"]\n"
   ]
  },
  {
   "cell_type": "markdown",
   "metadata": {},
   "source": [
    "# Input directory"
   ]
  },
  {
   "cell_type": "code",
   "execution_count": 3,
   "metadata": {},
   "outputs": [],
   "source": [
    "# Directory\n",
    "dir_path = \"/Users/simondn/Documents/RashomonActiveLearning/Code/raw\""
   ]
  },
  {
   "cell_type": "markdown",
   "metadata": {},
   "source": [
    "# Input Rashomon Parameters"
   ]
  },
  {
   "cell_type": "code",
   "execution_count": 4,
   "metadata": {},
   "outputs": [],
   "source": [
    "# sbatch Seed0_DataBostonHousingBinned_TP0.2_CP0.8_STTreeEnsembleQBC_MTRandomForestClassification_UEIFalse_RashomonNum10.sbatch\n",
    "# sbatch Seed0_DataBostonHousingBinned_TP0.2_CP0.8_STTreeEnsembleQBC_MTTreeFarms_UEIFalse_RashomonNum100.sbatch\n",
    "# sbatch Seed0_DataBostonHousingBinned_TP0.2_CP0.8_STTreeEnsembleQBC_MTTreeFarms_UEIFalse_RashomonNum10.sbatch\n",
    "# sbatch Seed0_DataBostonHousingBinned_TP0.2_CP0.8_STTreeEnsembleQBC_MTTreeFarms_UEITrue_RashomonNum100.sbatch\n",
    "# sbatch Seed0_DataBostonHousingBinned_TP0.2_CP0.8_STTreeEnsembleQBC_MTTreeFarms_UEITrue_RashomonNum10.sbatch"
   ]
  },
  {
   "cell_type": "code",
   "execution_count": 5,
   "metadata": {},
   "outputs": [],
   "source": [
    "import itertools\n",
    "import pandas as pd\n",
    "\n",
    "# Rashomon QBC parameters\n",
    "Seed = range(0, 1)\n",
    "Data = [\"BostonHousingBinned\"]  # Example Data\n",
    "TestProportion = [0.2]\n",
    "CandidateProportion = [0.8]\n",
    "SelectorType = [\"TreeEnsembleQBCFunction\"]\n",
    "ModelType = [\"RandomForestClassificationFunction\", \"TreeFarmsFunction\"]\n",
    "DataArgs = [{\"N\": 1000, \"K\": 5}]\n",
    "SelectorArgs = [\n",
    "    {\"TopCModels\": 10, \"UniqueErrorsInput\": True},\n",
    "    {\"TopCModels\": 10, \"UniqueErrorsInput\": False},\n",
    "    {\"TopCModels\": 100, \"UniqueErrorsInput\": True},\n",
    "    {\"TopCModels\": 100, \"UniqueErrorsInput\": False},\n",
    "]\n",
    "ModelArgs = [\n",
    "    {\"n_estimators\": 100,\n",
    "     \"Seed\": 1,\n",
    "     \"TopCModels\": 10, \n",
    "     \"config\": {\"regularization\": 0.01, \"rashomon_bound_multiplier\": 0.1}, \"Type\": \"Classification\"},\n",
    "    {\"n_estimators\": 100,\n",
    "     \"Seed\": 1,\n",
    "     \"TopCModels\": 100, \n",
    "     \"config\": {\"regularization\": 0.01, \"rashomon_bound_multiplier\": 0.1}, \"Type\": \"Classification\"}\n",
    "]\n"
   ]
  },
  {
   "cell_type": "code",
   "execution_count": 6,
   "metadata": {},
   "outputs": [],
   "source": [
    "\n",
    "# Generate filtered combinations\n",
    "filtered_combinations = [\n",
    "    (seed, data, test_prop, cand_prop, selector_type, model_type, data_arg, sel_arg, mod_arg)\n",
    "    for seed, data, test_prop, cand_prop, selector_type, model_type, data_arg, sel_arg, mod_arg in itertools.product(\n",
    "        Seed, Data, TestProportion, CandidateProportion, SelectorType, ModelType, DataArgs, SelectorArgs, ModelArgs\n",
    "    )\n",
    "    if (model_type == \"TreeFarmsFunction\" and sel_arg[\"TopCModels\"] == mod_arg[\"TopCModels\"]) or\n",
    "       (model_type == \"RandomForestClassificationFunction\" and sel_arg[\"TopCModels\"] == 10 and sel_arg[\"UniqueErrorsInput\"] == True) \n",
    "]\n",
    "\n",
    "# Create DataFrame\n",
    "df = pd.DataFrame(filtered_combinations, columns=[\n",
    "    \"Seed\", \"Data\", \"TestProportion\", \"CandidateProportion\", \"SelectorType\", \n",
    "    \"ModelType\", \"DataArgs\", \"SelectorArgs\", \"ModelArgs\"\n",
    "])\n"
   ]
  },
  {
   "cell_type": "code",
   "execution_count": 7,
   "metadata": {},
   "outputs": [
    {
     "name": "stderr",
     "output_type": "stream",
     "text": [
      "/var/folders/10/2lfzfs1j0j933_mjkrskp5kh0000gq/T/ipykernel_17517/1600418422.py:9: FutureWarning: DataFrame.applymap has been deprecated. Use DataFrame.map instead.\n",
      "  df = df.applymap(make_hashable)  # Apply the function to every cell\n"
     ]
    }
   ],
   "source": [
    "def make_hashable(value):\n",
    "    \"\"\"Convert dictionaries or lists to a hashable representation.\"\"\"\n",
    "    if isinstance(value, dict):\n",
    "        return str(value)  # Convert dictionary to string\n",
    "    elif isinstance(value, list):\n",
    "        return tuple(value)  # Convert list to tuple\n",
    "    return value\n",
    "\n",
    "df = df.applymap(make_hashable)  # Apply the function to every cell\n",
    "df = df.drop_duplicates()  # Now drop duplicates\n",
    "df.index = range(0,df.shape[0])"
   ]
  },
  {
   "cell_type": "markdown",
   "metadata": {},
   "source": [
    "# Create JobName and Output"
   ]
  },
  {
   "cell_type": "code",
   "execution_count": 8,
   "metadata": {},
   "outputs": [],
   "source": [
    "# Replacement dictionary for formatting\n",
    "ReplacementCharacters = {\":\": \"\",  \" \": \"\", \"{\": \"\", \"}\": \"\", \"\\\"\": \"\", \",\": \"_\", \"[\": \"\", \"]\": \"\"}\n",
    "\n",
    "# Generate JobName\n",
    "df[\"JobName\"] = (\n",
    "    \"Seed\" + df[\"Seed\"].astype(str) +\n",
    "    \"_Data\" + df[\"Data\"].astype(str) +\n",
    "    \"_TP\" + df[\"TestProportion\"].astype(str) +\n",
    "    \"_CP\" + df[\"CandidateProportion\"].astype(str) +\n",
    "    \"_ST\" + df[\"SelectorType\"].astype(str) +\n",
    "    \"_MT\" + df[\"ModelType\"].astype(str) +\n",
    "    \"_UEI\" + df[\"SelectorArgs\"].apply(lambda x: str(ast.literal_eval(x)[\"UniqueErrorsInput\"])) +\n",
    "    \"_RashomonNum\" + df[\"SelectorArgs\"].apply(lambda x: str(ast.literal_eval(x)[\"TopCModels\"]))\n",
    ")\n",
    "# Remove duplicates (if needed)\n",
    "df = df.drop_duplicates(subset=[\"JobName\"]).reset_index(drop=True)\n"
   ]
  },
  {
   "cell_type": "code",
   "execution_count": 9,
   "metadata": {},
   "outputs": [],
   "source": [
    "### Output Name ###\n",
    "df[\"JobName\"] = df[\"JobName\"].str.replace(\"Function\", \"\", regex=False)\n",
    "df[\"Output\"] =  df[\"Data\"].astype(str) + \"/\" + df[\"ModelType\"].astype(str) + \"/Raw/\" + df[\"JobName\"] + \".pkl\"\n",
    "df[\"Output\"] = df[\"Output\"].str.replace(\"Function\", \"\", regex=False)\n"
   ]
  },
  {
   "cell_type": "code",
   "execution_count": 10,
   "metadata": {},
   "outputs": [],
   "source": [
    "# Define the columns to process\n",
    "columns_to_process = ['DataArgs', 'SelectorArgs', 'ModelArgs']\n",
    "for col in columns_to_process:\n",
    "    df[col] = \"'\" + df[col].apply(lambda x: str(x).replace(\"'\", '\"') if pd.notna(x) else x) + \"'\"\n"
   ]
  },
  {
   "cell_type": "code",
   "execution_count": 11,
   "metadata": {},
   "outputs": [],
   "source": [
    "### Save Parameter Vector ###\n",
    "output_path = \"/Users/simondn/Documents/RashomonActiveLearning/Data/ParameterVectors/ParameterVector\" + str(Data[0]) + \".csv\"\n",
    "df.to_csv(output_path, index=False)"
   ]
  },
  {
   "cell_type": "code",
   "execution_count": 12,
   "metadata": {},
   "outputs": [
    {
     "data": {
      "text/html": [
       "<div>\n",
       "<style scoped>\n",
       "    .dataframe tbody tr th:only-of-type {\n",
       "        vertical-align: middle;\n",
       "    }\n",
       "\n",
       "    .dataframe tbody tr th {\n",
       "        vertical-align: top;\n",
       "    }\n",
       "\n",
       "    .dataframe thead th {\n",
       "        text-align: right;\n",
       "    }\n",
       "</style>\n",
       "<table border=\"1\" class=\"dataframe\">\n",
       "  <thead>\n",
       "    <tr style=\"text-align: right;\">\n",
       "      <th></th>\n",
       "      <th>Seed</th>\n",
       "      <th>Data</th>\n",
       "      <th>TestProportion</th>\n",
       "      <th>CandidateProportion</th>\n",
       "      <th>SelectorType</th>\n",
       "      <th>ModelType</th>\n",
       "      <th>DataArgs</th>\n",
       "      <th>SelectorArgs</th>\n",
       "      <th>ModelArgs</th>\n",
       "      <th>JobName</th>\n",
       "      <th>Output</th>\n",
       "    </tr>\n",
       "  </thead>\n",
       "  <tbody>\n",
       "    <tr>\n",
       "      <th>0</th>\n",
       "      <td>0</td>\n",
       "      <td>BostonHousingBinned</td>\n",
       "      <td>0.2</td>\n",
       "      <td>0.8</td>\n",
       "      <td>TreeEnsembleQBCFunction</td>\n",
       "      <td>RandomForestClassificationFunction</td>\n",
       "      <td>'{\"N\": 1000, \"K\": 5}'</td>\n",
       "      <td>'{\"TopCModels\": 10, \"UniqueErrorsInput\": True}'</td>\n",
       "      <td>'{\"n_estimators\": 100, \"Seed\": 1, \"TopCModels\"...</td>\n",
       "      <td>Seed0_DataBostonHousingBinned_TP0.2_CP0.8_STTr...</td>\n",
       "      <td>BostonHousingBinned/RandomForestClassification...</td>\n",
       "    </tr>\n",
       "    <tr>\n",
       "      <th>1</th>\n",
       "      <td>0</td>\n",
       "      <td>BostonHousingBinned</td>\n",
       "      <td>0.2</td>\n",
       "      <td>0.8</td>\n",
       "      <td>TreeEnsembleQBCFunction</td>\n",
       "      <td>TreeFarmsFunction</td>\n",
       "      <td>'{\"N\": 1000, \"K\": 5}'</td>\n",
       "      <td>'{\"TopCModels\": 10, \"UniqueErrorsInput\": True}'</td>\n",
       "      <td>'{\"n_estimators\": 100, \"Seed\": 1, \"TopCModels\"...</td>\n",
       "      <td>Seed0_DataBostonHousingBinned_TP0.2_CP0.8_STTr...</td>\n",
       "      <td>BostonHousingBinned/TreeFarms/Raw/Seed0_DataBo...</td>\n",
       "    </tr>\n",
       "    <tr>\n",
       "      <th>2</th>\n",
       "      <td>0</td>\n",
       "      <td>BostonHousingBinned</td>\n",
       "      <td>0.2</td>\n",
       "      <td>0.8</td>\n",
       "      <td>TreeEnsembleQBCFunction</td>\n",
       "      <td>TreeFarmsFunction</td>\n",
       "      <td>'{\"N\": 1000, \"K\": 5}'</td>\n",
       "      <td>'{\"TopCModels\": 10, \"UniqueErrorsInput\": False}'</td>\n",
       "      <td>'{\"n_estimators\": 100, \"Seed\": 1, \"TopCModels\"...</td>\n",
       "      <td>Seed0_DataBostonHousingBinned_TP0.2_CP0.8_STTr...</td>\n",
       "      <td>BostonHousingBinned/TreeFarms/Raw/Seed0_DataBo...</td>\n",
       "    </tr>\n",
       "    <tr>\n",
       "      <th>3</th>\n",
       "      <td>0</td>\n",
       "      <td>BostonHousingBinned</td>\n",
       "      <td>0.2</td>\n",
       "      <td>0.8</td>\n",
       "      <td>TreeEnsembleQBCFunction</td>\n",
       "      <td>TreeFarmsFunction</td>\n",
       "      <td>'{\"N\": 1000, \"K\": 5}'</td>\n",
       "      <td>'{\"TopCModels\": 100, \"UniqueErrorsInput\": True}'</td>\n",
       "      <td>'{\"n_estimators\": 100, \"Seed\": 1, \"TopCModels\"...</td>\n",
       "      <td>Seed0_DataBostonHousingBinned_TP0.2_CP0.8_STTr...</td>\n",
       "      <td>BostonHousingBinned/TreeFarms/Raw/Seed0_DataBo...</td>\n",
       "    </tr>\n",
       "    <tr>\n",
       "      <th>4</th>\n",
       "      <td>0</td>\n",
       "      <td>BostonHousingBinned</td>\n",
       "      <td>0.2</td>\n",
       "      <td>0.8</td>\n",
       "      <td>TreeEnsembleQBCFunction</td>\n",
       "      <td>TreeFarmsFunction</td>\n",
       "      <td>'{\"N\": 1000, \"K\": 5}'</td>\n",
       "      <td>'{\"TopCModels\": 100, \"UniqueErrorsInput\": False}'</td>\n",
       "      <td>'{\"n_estimators\": 100, \"Seed\": 1, \"TopCModels\"...</td>\n",
       "      <td>Seed0_DataBostonHousingBinned_TP0.2_CP0.8_STTr...</td>\n",
       "      <td>BostonHousingBinned/TreeFarms/Raw/Seed0_DataBo...</td>\n",
       "    </tr>\n",
       "  </tbody>\n",
       "</table>\n",
       "</div>"
      ],
      "text/plain": [
       "   Seed                 Data  TestProportion  CandidateProportion  \\\n",
       "0     0  BostonHousingBinned             0.2                  0.8   \n",
       "1     0  BostonHousingBinned             0.2                  0.8   \n",
       "2     0  BostonHousingBinned             0.2                  0.8   \n",
       "3     0  BostonHousingBinned             0.2                  0.8   \n",
       "4     0  BostonHousingBinned             0.2                  0.8   \n",
       "\n",
       "              SelectorType                           ModelType  \\\n",
       "0  TreeEnsembleQBCFunction  RandomForestClassificationFunction   \n",
       "1  TreeEnsembleQBCFunction                   TreeFarmsFunction   \n",
       "2  TreeEnsembleQBCFunction                   TreeFarmsFunction   \n",
       "3  TreeEnsembleQBCFunction                   TreeFarmsFunction   \n",
       "4  TreeEnsembleQBCFunction                   TreeFarmsFunction   \n",
       "\n",
       "                DataArgs                                       SelectorArgs  \\\n",
       "0  '{\"N\": 1000, \"K\": 5}'    '{\"TopCModels\": 10, \"UniqueErrorsInput\": True}'   \n",
       "1  '{\"N\": 1000, \"K\": 5}'    '{\"TopCModels\": 10, \"UniqueErrorsInput\": True}'   \n",
       "2  '{\"N\": 1000, \"K\": 5}'   '{\"TopCModels\": 10, \"UniqueErrorsInput\": False}'   \n",
       "3  '{\"N\": 1000, \"K\": 5}'   '{\"TopCModels\": 100, \"UniqueErrorsInput\": True}'   \n",
       "4  '{\"N\": 1000, \"K\": 5}'  '{\"TopCModels\": 100, \"UniqueErrorsInput\": False}'   \n",
       "\n",
       "                                           ModelArgs  \\\n",
       "0  '{\"n_estimators\": 100, \"Seed\": 1, \"TopCModels\"...   \n",
       "1  '{\"n_estimators\": 100, \"Seed\": 1, \"TopCModels\"...   \n",
       "2  '{\"n_estimators\": 100, \"Seed\": 1, \"TopCModels\"...   \n",
       "3  '{\"n_estimators\": 100, \"Seed\": 1, \"TopCModels\"...   \n",
       "4  '{\"n_estimators\": 100, \"Seed\": 1, \"TopCModels\"...   \n",
       "\n",
       "                                             JobName  \\\n",
       "0  Seed0_DataBostonHousingBinned_TP0.2_CP0.8_STTr...   \n",
       "1  Seed0_DataBostonHousingBinned_TP0.2_CP0.8_STTr...   \n",
       "2  Seed0_DataBostonHousingBinned_TP0.2_CP0.8_STTr...   \n",
       "3  Seed0_DataBostonHousingBinned_TP0.2_CP0.8_STTr...   \n",
       "4  Seed0_DataBostonHousingBinned_TP0.2_CP0.8_STTr...   \n",
       "\n",
       "                                              Output  \n",
       "0  BostonHousingBinned/RandomForestClassification...  \n",
       "1  BostonHousingBinned/TreeFarms/Raw/Seed0_DataBo...  \n",
       "2  BostonHousingBinned/TreeFarms/Raw/Seed0_DataBo...  \n",
       "3  BostonHousingBinned/TreeFarms/Raw/Seed0_DataBo...  \n",
       "4  BostonHousingBinned/TreeFarms/Raw/Seed0_DataBo...  "
      ]
     },
     "execution_count": 12,
     "metadata": {},
     "output_type": "execute_result"
    }
   ],
   "source": [
    "df"
   ]
  },
  {
   "cell_type": "code",
   "execution_count": 13,
   "metadata": {},
   "outputs": [
    {
     "data": {
      "text/plain": [
       "5"
      ]
     },
     "execution_count": 13,
     "metadata": {},
     "output_type": "execute_result"
    }
   ],
   "source": [
    "len(set(df[\"JobName\"]))"
   ]
  },
  {
   "cell_type": "code",
   "execution_count": 14,
   "metadata": {},
   "outputs": [
    {
     "data": {
      "text/plain": [
       "5"
      ]
     },
     "execution_count": 14,
     "metadata": {},
     "output_type": "execute_result"
    }
   ],
   "source": [
    "len(set(df[\"Output\"]))"
   ]
  },
  {
   "cell_type": "code",
   "execution_count": 15,
   "metadata": {},
   "outputs": [
    {
     "data": {
      "text/plain": [
       "(5, 11)"
      ]
     },
     "execution_count": 15,
     "metadata": {},
     "output_type": "execute_result"
    }
   ],
   "source": [
    "df.shape"
   ]
  }
 ],
 "metadata": {
  "kernelspec": {
   "display_name": "Python 3",
   "language": "python",
   "name": "python3"
  },
  "language_info": {
   "codemirror_mode": {
    "name": "ipython",
    "version": 3
   },
   "file_extension": ".py",
   "mimetype": "text/x-python",
   "name": "python",
   "nbconvert_exporter": "python",
   "pygments_lexer": "ipython3",
   "version": "3.9.6"
  }
 },
 "nbformat": 4,
 "nbformat_minor": 2
}
