{
 "cells": [
  {
   "cell_type": "code",
   "execution_count": 1,
   "metadata": {},
   "outputs": [],
   "source": [
    "### Import packages ###\n",
    "import ast\n",
    "import itertools\n",
    "import numpy as np\n",
    "import pandas as pd"
   ]
  },
  {
   "cell_type": "markdown",
   "metadata": {},
   "source": [
    "# Input"
   ]
  },
  {
   "cell_type": "code",
   "execution_count": 2,
   "metadata": {},
   "outputs": [],
   "source": [
    "# Input Data Set #\n",
    "Data =\"BostonHousing\"\n",
    "\n",
    "# Input directory #\n",
    "dir_path = \"/Users/simondn/Documents/RashomonActiveLearning/Code/raw\"\n",
    "\n",
    "# Input Parameters #\n",
    "ParameterDictionary = {\"Data\":[Data],\n",
    "                       \"Seed\":list(range(0,1)),\n",
    "                       \"TestProportion\":[0.2],\n",
    "                       \"CandidateProportion\":[0.8],\n",
    "                       \"SelectorType\":[\"TreeEnsembleQBCFunction\"],\n",
    "                       \"ModelType\":[\"RandomForestClassificationFunction\", \"TreeFarmsFunction\"],\n",
    "                       \"TopCModels\":[10],                                                                  # DELETE EVENTUALLY\n",
    "                       \"UniqueErrorsInput\": [0,1],\n",
    "                       \"n_estimators\": [100], \n",
    "                       \"regularization\": [0.01],\n",
    "                       \"rashomon_bound_adder\": [0.01],\n",
    "                       \"Type\": [\"Classification\"]}\n",
    "\n"
   ]
  },
  {
   "cell_type": "markdown",
   "metadata": {},
   "source": [
    "# Create Parameter Vector"
   ]
  },
  {
   "cell_type": "code",
   "execution_count": 3,
   "metadata": {},
   "outputs": [],
   "source": [
    "# Create Parameter Vector #\n",
    "ParameterVector = pd.DataFrame.from_records(itertools.product(*ParameterDictionary.values()), columns=ParameterDictionary.keys())\n",
    "\n",
    "# Filter #\n",
    "IndexDrop = ParameterVector[(ParameterVector[\"ModelType\"] == \"RandomForestClassificationFunction\") & (ParameterVector[\"UniqueErrorsInput\"]== 1)].index\n",
    "ParameterVector.drop(IndexDrop , inplace=True)\n",
    "ParameterVector.index = range(0,ParameterVector.shape[0])\n",
    "\n",
    "# Generate JobName #\n",
    "ParameterVector[\"JobName\"] = (\n",
    "    \"Seed\" + ParameterVector[\"Seed\"].astype(str) +\n",
    "    \"_Data\" + ParameterVector[\"Data\"].astype(str) +\n",
    "    \"_TP\" + ParameterVector[\"TestProportion\"].astype(str) +\n",
    "    \"_CP\" + ParameterVector[\"CandidateProportion\"].astype(str) +\n",
    "    \"_ST\" + ParameterVector[\"SelectorType\"].astype(str) +\n",
    "    \"_MT\" + ParameterVector[\"ModelType\"].astype(str) +\n",
    "    \"_UEI\" + ParameterVector[\"UniqueErrorsInput\"].astype(str) +\n",
    "    \"_NE\" + ParameterVector[\"n_estimators\"].astype(str) +\n",
    "    \"_Reg\" + ParameterVector[\"regularization\"].astype(str) +\n",
    "    \"_RBA\" + ParameterVector[\"rashomon_bound_adder\"].astype(str)\n",
    "    )\n",
    "\n",
    "# Output Name #\n",
    "ParameterVector[\"JobName\"] = ParameterVector[\"JobName\"].str.replace(\"Function\", \"\", regex=False)\n",
    "ParameterVector[\"Output\"] =  ParameterVector[\"Data\"].astype(str) + \"/\" + ParameterVector[\"ModelType\"].astype(str) + \"/Raw/\" + ParameterVector[\"JobName\"] + \".pkl\"\n",
    "ParameterVector[\"Output\"] = ParameterVector[\"Output\"].str.replace(\"Function\", \"\", regex=False)"
   ]
  },
  {
   "cell_type": "markdown",
   "metadata": {},
   "source": [
    "# Save Parameter Vector"
   ]
  },
  {
   "cell_type": "code",
   "execution_count": 4,
   "metadata": {},
   "outputs": [],
   "source": [
    "# Save \n",
    "output_path = \"/Users/simondn/Documents/RashomonActiveLearning/Data/ParameterVectors/ParameterVector\" + str(Data) + \".csv\"\n",
    "ParameterVector.to_csv(output_path, index=False)"
   ]
  },
  {
   "cell_type": "code",
   "execution_count": 5,
   "metadata": {},
   "outputs": [
    {
     "data": {
      "text/html": [
       "<div>\n",
       "<style scoped>\n",
       "    .dataframe tbody tr th:only-of-type {\n",
       "        vertical-align: middle;\n",
       "    }\n",
       "\n",
       "    .dataframe tbody tr th {\n",
       "        vertical-align: top;\n",
       "    }\n",
       "\n",
       "    .dataframe thead th {\n",
       "        text-align: right;\n",
       "    }\n",
       "</style>\n",
       "<table border=\"1\" class=\"dataframe\">\n",
       "  <thead>\n",
       "    <tr style=\"text-align: right;\">\n",
       "      <th></th>\n",
       "      <th>Data</th>\n",
       "      <th>Seed</th>\n",
       "      <th>TestProportion</th>\n",
       "      <th>CandidateProportion</th>\n",
       "      <th>SelectorType</th>\n",
       "      <th>ModelType</th>\n",
       "      <th>TopCModels</th>\n",
       "      <th>UniqueErrorsInput</th>\n",
       "      <th>n_estimators</th>\n",
       "      <th>regularization</th>\n",
       "      <th>rashomon_bound_adder</th>\n",
       "      <th>Type</th>\n",
       "      <th>JobName</th>\n",
       "      <th>Output</th>\n",
       "    </tr>\n",
       "  </thead>\n",
       "  <tbody>\n",
       "    <tr>\n",
       "      <th>0</th>\n",
       "      <td>BostonHousing</td>\n",
       "      <td>0</td>\n",
       "      <td>0.2</td>\n",
       "      <td>0.8</td>\n",
       "      <td>TreeEnsembleQBCFunction</td>\n",
       "      <td>RandomForestClassificationFunction</td>\n",
       "      <td>10</td>\n",
       "      <td>0</td>\n",
       "      <td>100</td>\n",
       "      <td>0.01</td>\n",
       "      <td>0.01</td>\n",
       "      <td>Classification</td>\n",
       "      <td>Seed0_DataBostonHousing_TP0.2_CP0.8_STTreeEnse...</td>\n",
       "      <td>BostonHousing/RandomForestClassification/Raw/S...</td>\n",
       "    </tr>\n",
       "    <tr>\n",
       "      <th>1</th>\n",
       "      <td>BostonHousing</td>\n",
       "      <td>0</td>\n",
       "      <td>0.2</td>\n",
       "      <td>0.8</td>\n",
       "      <td>TreeEnsembleQBCFunction</td>\n",
       "      <td>TreeFarmsFunction</td>\n",
       "      <td>10</td>\n",
       "      <td>0</td>\n",
       "      <td>100</td>\n",
       "      <td>0.01</td>\n",
       "      <td>0.01</td>\n",
       "      <td>Classification</td>\n",
       "      <td>Seed0_DataBostonHousing_TP0.2_CP0.8_STTreeEnse...</td>\n",
       "      <td>BostonHousing/TreeFarms/Raw/Seed0_DataBostonHo...</td>\n",
       "    </tr>\n",
       "    <tr>\n",
       "      <th>2</th>\n",
       "      <td>BostonHousing</td>\n",
       "      <td>0</td>\n",
       "      <td>0.2</td>\n",
       "      <td>0.8</td>\n",
       "      <td>TreeEnsembleQBCFunction</td>\n",
       "      <td>TreeFarmsFunction</td>\n",
       "      <td>10</td>\n",
       "      <td>1</td>\n",
       "      <td>100</td>\n",
       "      <td>0.01</td>\n",
       "      <td>0.01</td>\n",
       "      <td>Classification</td>\n",
       "      <td>Seed0_DataBostonHousing_TP0.2_CP0.8_STTreeEnse...</td>\n",
       "      <td>BostonHousing/TreeFarms/Raw/Seed0_DataBostonHo...</td>\n",
       "    </tr>\n",
       "  </tbody>\n",
       "</table>\n",
       "</div>"
      ],
      "text/plain": [
       "            Data  Seed  TestProportion  CandidateProportion  \\\n",
       "0  BostonHousing     0             0.2                  0.8   \n",
       "1  BostonHousing     0             0.2                  0.8   \n",
       "2  BostonHousing     0             0.2                  0.8   \n",
       "\n",
       "              SelectorType                           ModelType  TopCModels  \\\n",
       "0  TreeEnsembleQBCFunction  RandomForestClassificationFunction          10   \n",
       "1  TreeEnsembleQBCFunction                   TreeFarmsFunction          10   \n",
       "2  TreeEnsembleQBCFunction                   TreeFarmsFunction          10   \n",
       "\n",
       "   UniqueErrorsInput  n_estimators  regularization  rashomon_bound_adder  \\\n",
       "0                  0           100            0.01                  0.01   \n",
       "1                  0           100            0.01                  0.01   \n",
       "2                  1           100            0.01                  0.01   \n",
       "\n",
       "             Type                                            JobName  \\\n",
       "0  Classification  Seed0_DataBostonHousing_TP0.2_CP0.8_STTreeEnse...   \n",
       "1  Classification  Seed0_DataBostonHousing_TP0.2_CP0.8_STTreeEnse...   \n",
       "2  Classification  Seed0_DataBostonHousing_TP0.2_CP0.8_STTreeEnse...   \n",
       "\n",
       "                                              Output  \n",
       "0  BostonHousing/RandomForestClassification/Raw/S...  \n",
       "1  BostonHousing/TreeFarms/Raw/Seed0_DataBostonHo...  \n",
       "2  BostonHousing/TreeFarms/Raw/Seed0_DataBostonHo...  "
      ]
     },
     "execution_count": 5,
     "metadata": {},
     "output_type": "execute_result"
    }
   ],
   "source": [
    "ParameterVector"
   ]
  }
 ],
 "metadata": {
  "kernelspec": {
   "display_name": "Python 3",
   "language": "python",
   "name": "python3"
  },
  "language_info": {
   "codemirror_mode": {
    "name": "ipython",
    "version": 3
   },
   "file_extension": ".py",
   "mimetype": "text/x-python",
   "name": "python",
   "nbconvert_exporter": "python",
   "pygments_lexer": "ipython3",
   "version": "3.9.6"
  }
 },
 "nbformat": 4,
 "nbformat_minor": 2
}
