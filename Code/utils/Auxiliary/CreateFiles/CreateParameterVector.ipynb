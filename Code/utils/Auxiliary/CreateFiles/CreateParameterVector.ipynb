{
 "cells": [
  {
   "cell_type": "code",
   "execution_count": 1,
   "metadata": {},
   "outputs": [],
   "source": [
    "### Import packages ###\n",
    "import ast\n",
    "import itertools\n",
    "import numpy as np\n",
    "import pandas as pd"
   ]
  },
  {
   "cell_type": "markdown",
   "metadata": {},
   "source": [
    "# Input Data Set "
   ]
  },
  {
   "cell_type": "code",
   "execution_count": 2,
   "metadata": {},
   "outputs": [],
   "source": [
    "### Regression ###\n",
    "# Data =[\"Auto\"]\n",
    "# Data =[\"BostonHousing\"]\n",
    "# Data =[\"CPS\"]\n",
    "# Data =[\"Simulate\"]\n",
    "# Data =[\"Yacht\"]\n",
    "\n",
    "### Classification ###\n",
    "Data =[\"BostonHousingBinned\"]\n"
   ]
  },
  {
   "cell_type": "markdown",
   "metadata": {},
   "source": [
    "# Input directory"
   ]
  },
  {
   "cell_type": "code",
   "execution_count": 3,
   "metadata": {},
   "outputs": [],
   "source": [
    "# Directory\n",
    "dir_path = \"/Users/simondn/Documents/RashomonActiveLearning/Code/raw\""
   ]
  },
  {
   "cell_type": "markdown",
   "metadata": {},
   "source": [
    "# Input Rashomon Parameters"
   ]
  },
  {
   "cell_type": "code",
   "execution_count": 4,
   "metadata": {},
   "outputs": [],
   "source": [
    "# Rashomon QBC parameters\n",
    "Seed = range(0, 50)\n",
    "Data = [\"BostonHousingBinned\"]  # Example Data\n",
    "TestProportion = [0.2]\n",
    "CandidateProportion = [0.8]\n",
    "SelectorType = [\"TreeEnsembleQBCFunction\"]\n",
    "ModelType = [\"RandomForestClassificationFunction\", \"TreeFarmsFunction\"]\n",
    "DataArgs = [{\"N\": 1000, \"K\": 5}]\n",
    "SelectorArgs = [\n",
    "    {\"TopCModels\": 10, \"UniqueErrorsInput\": True},\n",
    "    {\"TopCModels\": 10, \"UniqueErrorsInput\": False},\n",
    "    {\"TopCModels\": 100, \"UniqueErrorsInput\": True},\n",
    "    {\"TopCModels\": 100, \"UniqueErrorsInput\": False},\n",
    "]\n",
    "ModelArgs = [\n",
    "    {\"n_estimators\": 100,\n",
    "     \"Seed\": 1,\n",
    "     \"TopCModels\": 10, \n",
    "     \"config\": {\"regularization\": 0.01, \"rashomon_bound_multiplier\": 0.1}, \"Type\": \"Classification\"},\n",
    "    {\"n_estimators\": 100,\n",
    "     \"Seed\": 1,\n",
    "     \"TopCModels\": 100, \n",
    "     \"config\": {\"regularization\": 0.01, \"rashomon_bound_multiplier\": 0.1}, \"Type\": \"Classification\"}\n",
    "]\n",
    "\n",
    "# Generate filtered combinations\n",
    "filtered_combinations = [\n",
    "    (seed, data, test_prop, cand_prop, selector_type, model_type, data_arg, sel_arg, mod_arg)\n",
    "    for seed, data, test_prop, cand_prop, selector_type, model_type, data_arg, sel_arg, mod_arg in itertools.product(\n",
    "        Seed, Data, TestProportion, CandidateProportion, SelectorType, ModelType, DataArgs, SelectorArgs, ModelArgs\n",
    "    )\n",
    "    if (model_type == \"TreeFarmsFunction\" and sel_arg[\"TopCModels\"] == mod_arg[\"TopCModels\"]) or\n",
    "       (model_type == \"RandomForestClassificationFunction\" and sel_arg[\"TopCModels\"] == mod_arg[\"TopCModels\"])\n",
    "]\n",
    "\n",
    "df = pd.DataFrame(filtered_combinations, columns=[\n",
    "    \"Seed\", \"Data\", \"TestProportion\", \"CandidateProportion\", \"SelectorType\", \n",
    "    \"ModelType\", \"DataArgs\", \"SelectorArgs\", \"ModelArgs\"])\n",
    "\n",
    "df.loc[df[\"ModelType\"] == \"RandomForestClassificationFunction\", \"SelectorArgs\"] = \"{'TopCModels': 10, 'UniqueErrorsInput': False}\"\n",
    "df.loc[df[\"ModelType\"] == \"RandomForestClassificationFunction\", \"ModelArgs\"] = \"{'n_estimators': 100, 'Seed': 1, 'TopCModels': 100, 'config': {'regularization': 0.01, 'rashomon_bound_multiplier': 0.1}, 'Type': 'Classification'}\"\n"
   ]
  },
  {
   "cell_type": "code",
   "execution_count": 5,
   "metadata": {},
   "outputs": [
    {
     "name": "stderr",
     "output_type": "stream",
     "text": [
      "/var/folders/10/2lfzfs1j0j933_mjkrskp5kh0000gq/T/ipykernel_17119/1600418422.py:9: FutureWarning: DataFrame.applymap has been deprecated. Use DataFrame.map instead.\n",
      "  df = df.applymap(make_hashable)  # Apply the function to every cell\n"
     ]
    }
   ],
   "source": [
    "def make_hashable(value):\n",
    "    \"\"\"Convert dictionaries or lists to a hashable representation.\"\"\"\n",
    "    if isinstance(value, dict):\n",
    "        return str(value)  # Convert dictionary to string\n",
    "    elif isinstance(value, list):\n",
    "        return tuple(value)  # Convert list to tuple\n",
    "    return value\n",
    "\n",
    "df = df.applymap(make_hashable)  # Apply the function to every cell\n",
    "df = df.drop_duplicates()  # Now drop duplicates\n",
    "df.index = range(0,df.shape[0])"
   ]
  },
  {
   "cell_type": "markdown",
   "metadata": {},
   "source": [
    "# Create JobName and Output"
   ]
  },
  {
   "cell_type": "code",
   "execution_count": 6,
   "metadata": {},
   "outputs": [],
   "source": [
    "### Job Name ###\n",
    "ReplacementCharacters = {\":\": \"\",  \" \": \"\", \"{\": \"\", \"}\": \"\", \"\"\": \"\", \",\": \"_\", \"\"\": \"\", \"[\": \"\", \"]\": \"\"}\n",
    "DataArgsReplacement = \"\".join([ReplacementCharacters.get(char, char) for char in str(DataArgs)])\n",
    "ModelArgsReplacement = \"\".join([ReplacementCharacters.get(char, char) for char in str(ModelArgs)])\n",
    "SelectorArgsReplacement = \"\".join([ReplacementCharacters.get(char, char) for char in str(ModelArgs)])\n",
    "ModelTypeReplacement = str(ModelType).replace(\"Function\",\"\")\n",
    "DataReplacement = \"\".join([ReplacementCharacters.get(char, char) for char in str(Data)])\n",
    "\n",
    "df[\"JobName\"] = (\"Seed\" + df[\"Seed\"].astype(str) +\n",
    "                 \"_Data\" + df[\"Data\"].astype(str) +\n",
    "                 \"_TP\" + df[\"TestProportion\"].astype(str) +\n",
    "                 \"_CP\" + df[\"CandidateProportion\"].astype(str) +\n",
    "                 \"_ST\" + df[\"SelectorType\"].astype(str) +\n",
    "                 \"_MT\" + df[\"ModelType\"].astype(str) + \n",
    "                 \"_UEI\" + df[\"SelectorArgs\"].apply(lambda x: str(ast.literal_eval(x)[\"UniqueErrorsInput\"])) +\n",
    "                 \"_RashomonNum\" + df[\"SelectorArgs\"].apply(lambda x: str(ast.literal_eval(x)[\"TopCModels\"]))\n",
    "                 )\n"
   ]
  },
  {
   "cell_type": "code",
   "execution_count": 7,
   "metadata": {},
   "outputs": [],
   "source": [
    "### Output Name ###\n",
    "df[\"JobName\"] = df[\"JobName\"].str.replace(\"Function\", \"\", regex=False)\n",
    "df[\"Output\"] =  df[\"Data\"].astype(str) + \"/\" + df[\"ModelType\"].astype(str) + \"/Raw/\" + df[\"JobName\"] + \".pkl\"\n",
    "df[\"Output\"] = df[\"Output\"].str.replace(\"Function\", \"\", regex=False)\n"
   ]
  },
  {
   "cell_type": "code",
   "execution_count": 8,
   "metadata": {},
   "outputs": [],
   "source": [
    "# Define the columns to process\n",
    "columns_to_process = ['DataArgs', 'SelectorArgs', 'ModelArgs']\n",
    "for col in columns_to_process:\n",
    "    df[col] = \"'\" + df[col].apply(lambda x: str(x).replace(\"'\", '\"') if pd.notna(x) else x) + \"'\"\n"
   ]
  },
  {
   "cell_type": "code",
   "execution_count": 9,
   "metadata": {},
   "outputs": [],
   "source": [
    "### Save Parameter Vector ###\n",
    "output_path = \"/Users/simondn/Documents/RashomonActiveLearning/Data/ParameterVectors/ParameterVector\" + str(Data[0]) + \".csv\"\n",
    "df.to_csv(output_path, index=False)"
   ]
  },
  {
   "cell_type": "code",
   "execution_count": 10,
   "metadata": {},
   "outputs": [
    {
     "data": {
      "text/plain": [
       "250"
      ]
     },
     "execution_count": 10,
     "metadata": {},
     "output_type": "execute_result"
    }
   ],
   "source": [
    "len(set(df[\"JobName\"]))"
   ]
  },
  {
   "cell_type": "code",
   "execution_count": 11,
   "metadata": {},
   "outputs": [
    {
     "data": {
      "text/plain": [
       "250"
      ]
     },
     "execution_count": 11,
     "metadata": {},
     "output_type": "execute_result"
    }
   ],
   "source": [
    "len(set(df[\"Output\"]))"
   ]
  },
  {
   "cell_type": "code",
   "execution_count": 12,
   "metadata": {},
   "outputs": [
    {
     "data": {
      "text/plain": [
       "(250, 11)"
      ]
     },
     "execution_count": 12,
     "metadata": {},
     "output_type": "execute_result"
    }
   ],
   "source": [
    "df.shape"
   ]
  }
 ],
 "metadata": {
  "kernelspec": {
   "display_name": "Python 3",
   "language": "python",
   "name": "python3"
  },
  "language_info": {
   "codemirror_mode": {
    "name": "ipython",
    "version": 3
   },
   "file_extension": ".py",
   "mimetype": "text/x-python",
   "name": "python",
   "nbconvert_exporter": "python",
   "pygments_lexer": "ipython3",
   "version": "3.9.6"
  }
 },
 "nbformat": 4,
 "nbformat_minor": 2
}
