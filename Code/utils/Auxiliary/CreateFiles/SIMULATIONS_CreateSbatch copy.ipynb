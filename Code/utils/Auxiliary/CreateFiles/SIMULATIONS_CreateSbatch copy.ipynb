{
 "cells": [
  {
   "cell_type": "code",
   "execution_count": 1,
   "metadata": {},
   "outputs": [],
   "source": [
    "### Import packages ###\n",
    "import os\n",
    "import re\n",
    "import json\n",
    "import pickle\n",
    "import argparse\n",
    "import numpy as np\n",
    "import pandas as pd"
   ]
  },
  {
   "cell_type": "markdown",
   "metadata": {},
   "source": [
    "# Input Datatype"
   ]
  },
  {
   "cell_type": "code",
   "execution_count": 5,
   "metadata": {},
   "outputs": [],
   "source": [
    "DataTypeInput = \"COMPAS\"\n",
    "PredictorTypeInput = \"TreeFARMS\""
   ]
  },
  {
   "cell_type": "code",
   "execution_count": null,
   "metadata": {},
   "outputs": [],
   "source": [
    "PassiveLearning_MTTreeFarmsRashomonNum11.pkl\n",
    "RashomonQBC_MTTreeFarmsRashomonNum11.pkl\n",
    "RashomonQBC_MTTreeFarmsRashomonNum1010.pkl\n",
    "RashomonQBC_MTTreeFarmsRashomonNum100100.pkl"
   ]
  },
  {
   "cell_type": "code",
   "execution_count": 7,
   "metadata": {},
   "outputs": [
    {
     "ename": "NameError",
     "evalue": "name 'args' is not defined",
     "output_type": "error",
     "traceback": [
      "\u001b[0;31m---------------------------------------------------------------------------\u001b[0m",
      "\u001b[0;31mNameError\u001b[0m                                 Traceback (most recent call last)",
      "Cell \u001b[0;32mIn[7], line 5\u001b[0m\n\u001b[1;32m      3\u001b[0m ResultsDirectory \u001b[38;5;241m=\u001b[39m os\u001b[38;5;241m.\u001b[39mpath\u001b[38;5;241m.\u001b[39mjoin(cwd, \u001b[38;5;124m\"\u001b[39m\u001b[38;5;124mResults\u001b[39m\u001b[38;5;124m\"\u001b[39m,DataTypeInput, PredictorTypeInput)\n\u001b[1;32m      4\u001b[0m SaveDirectory \u001b[38;5;241m=\u001b[39m os\u001b[38;5;241m.\u001b[39mpath\u001b[38;5;241m.\u001b[39mjoin(ResultsDirectory, \u001b[38;5;124m\"\u001b[39m\u001b[38;5;124mProcessedResults\u001b[39m\u001b[38;5;124m\"\u001b[39m)\n\u001b[0;32m----> 5\u001b[0m AllSelectorMethodErrors \u001b[38;5;241m=\u001b[39m {selector: [] \u001b[38;5;28;01mfor\u001b[39;00m selector \u001b[38;5;129;01min\u001b[39;00m json\u001b[38;5;241m.\u001b[39mloads(args\u001b[38;5;241m.\u001b[39mSelectorType)}\n\u001b[1;32m      7\u001b[0m \u001b[38;5;66;03m#### Construct Directory ###\u001b[39;00m\n\u001b[1;32m      8\u001b[0m Directory \u001b[38;5;241m=\u001b[39m os\u001b[38;5;241m.\u001b[39mpath\u001b[38;5;241m.\u001b[39mjoin(ResultsDirectory, \u001b[38;5;124m\"\u001b[39m\u001b[38;5;124mRaw\u001b[39m\u001b[38;5;124m\"\u001b[39m)\n",
      "\u001b[0;31mNameError\u001b[0m: name 'args' is not defined"
     ]
    }
   ],
   "source": [
    "### Set Up  ###\n",
    "cwd = os.getcwd()\n",
    "ResultsDirectory = os.path.join(cwd, \"Results\",DataTypeInput, PredictorTypeInput)\n",
    "SaveDirectory = os.path.join(ResultsDirectory, \"ProcessedResults\")\n",
    "AllSelectorMethodErrors = {selector: [] for selector in json.loads(args.SelectorType)}\n",
    "\n",
    "#### Construct Directory ###\n",
    "Directory = os.path.join(ResultsDirectory, \"Raw\")\n"
   ]
  },
  {
   "cell_type": "code",
   "execution_count": 8,
   "metadata": {},
   "outputs": [
    {
     "name": "stdout",
     "output_type": "stream",
     "text": [
      "Moved: Seed7_DataCOMPAS_TP0.2_CP0.8_STRashomonQBC_MTTreeFarmsRashomonNum100100.pkl -> /Users/simondn/Documents/RashomonActiveLearning/Results/COMPAS/TreeFarms/Raw/RashomonQBC_MTTreeFarmsRashomonNum100100/Seed7_DataCOMPAS_TP0.2_CP0.8_STRashomonQBC_MTTreeFarmsRashomonNum100100.pkl\n",
      "Moved: Seed5_DataCOMPAS_TP0.2_CP0.8_STRashomonQBC_MTTreeFarmsRashomonNum100100.pkl -> /Users/simondn/Documents/RashomonActiveLearning/Results/COMPAS/TreeFarms/Raw/RashomonQBC_MTTreeFarmsRashomonNum100100/Seed5_DataCOMPAS_TP0.2_CP0.8_STRashomonQBC_MTTreeFarmsRashomonNum100100.pkl\n",
      "Moved: Seed3_DataCOMPAS_TP0.2_CP0.8_STRashomonQBC_MTTreeFarmsRashomonNum100100.pkl -> /Users/simondn/Documents/RashomonActiveLearning/Results/COMPAS/TreeFarms/Raw/RashomonQBC_MTTreeFarmsRashomonNum100100/Seed3_DataCOMPAS_TP0.2_CP0.8_STRashomonQBC_MTTreeFarmsRashomonNum100100.pkl\n",
      "Moved: Seed1_DataCOMPAS_TP0.2_CP0.8_STRashomonQBC_MTTreeFarmsRashomonNum100100.pkl -> /Users/simondn/Documents/RashomonActiveLearning/Results/COMPAS/TreeFarms/Raw/RashomonQBC_MTTreeFarmsRashomonNum100100/Seed1_DataCOMPAS_TP0.2_CP0.8_STRashomonQBC_MTTreeFarmsRashomonNum100100.pkl\n",
      "Moved: Seed1_DataCOMPAS_TP0.2_CP0.8_STRashomonQBC_MTTreeFarmsRashomonNum11.pkl -> /Users/simondn/Documents/RashomonActiveLearning/Results/COMPAS/TreeFarms/Raw/RashomonQBC_MTTreeFarmsRashomonNum11/Seed1_DataCOMPAS_TP0.2_CP0.8_STRashomonQBC_MTTreeFarmsRashomonNum11.pkl\n",
      "Moved: Seed7_DataCOMPAS_TP0.2_CP0.8_STRashomonQBC_MTTreeFarmsRashomonNum11.pkl -> /Users/simondn/Documents/RashomonActiveLearning/Results/COMPAS/TreeFarms/Raw/RashomonQBC_MTTreeFarmsRashomonNum11/Seed7_DataCOMPAS_TP0.2_CP0.8_STRashomonQBC_MTTreeFarmsRashomonNum11.pkl\n",
      "Moved: Seed9_DataCOMPAS_TP0.2_CP0.8_STRashomonQBC_MTTreeFarmsRashomonNum1010.pkl -> /Users/simondn/Documents/RashomonActiveLearning/Results/COMPAS/TreeFarms/Raw/RashomonQBC_MTTreeFarmsRashomonNum1010/Seed9_DataCOMPAS_TP0.2_CP0.8_STRashomonQBC_MTTreeFarmsRashomonNum1010.pkl\n",
      "Moved: Seed1_DataCOMPAS_TP0.2_CP0.8_STRashomonQBC_MTTreeFarmsRashomonNum1010.pkl -> /Users/simondn/Documents/RashomonActiveLearning/Results/COMPAS/TreeFarms/Raw/RashomonQBC_MTTreeFarmsRashomonNum1010/Seed1_DataCOMPAS_TP0.2_CP0.8_STRashomonQBC_MTTreeFarmsRashomonNum1010.pkl\n",
      "Moved: Seed6_DataCOMPAS_TP0.2_CP0.8_STRashomonQBC_MTTreeFarmsRashomonNum1010.pkl -> /Users/simondn/Documents/RashomonActiveLearning/Results/COMPAS/TreeFarms/Raw/RashomonQBC_MTTreeFarmsRashomonNum1010/Seed6_DataCOMPAS_TP0.2_CP0.8_STRashomonQBC_MTTreeFarmsRashomonNum1010.pkl\n",
      "Moved: Seed4_DataCOMPAS_TP0.2_CP0.8_STRashomonQBC_MTTreeFarmsRashomonNum1010.pkl -> /Users/simondn/Documents/RashomonActiveLearning/Results/COMPAS/TreeFarms/Raw/RashomonQBC_MTTreeFarmsRashomonNum1010/Seed4_DataCOMPAS_TP0.2_CP0.8_STRashomonQBC_MTTreeFarmsRashomonNum1010.pkl\n",
      "Moved: Seed3_DataCOMPAS_TP0.2_CP0.8_STRashomonQBC_MTTreeFarmsRashomonNum1010.pkl -> /Users/simondn/Documents/RashomonActiveLearning/Results/COMPAS/TreeFarms/Raw/RashomonQBC_MTTreeFarmsRashomonNum1010/Seed3_DataCOMPAS_TP0.2_CP0.8_STRashomonQBC_MTTreeFarmsRashomonNum1010.pkl\n",
      "Moved: Seed8_DataCOMPAS_TP0.2_CP0.8_STRashomonQBC_MTTreeFarmsRashomonNum100100.pkl -> /Users/simondn/Documents/RashomonActiveLearning/Results/COMPAS/TreeFarms/Raw/RashomonQBC_MTTreeFarmsRashomonNum100100/Seed8_DataCOMPAS_TP0.2_CP0.8_STRashomonQBC_MTTreeFarmsRashomonNum100100.pkl\n",
      "Moved: Seed0_DataCOMPAS_TP0.2_CP0.8_STRashomonQBC_MTTreeFarmsRashomonNum11.pkl -> /Users/simondn/Documents/RashomonActiveLearning/Results/COMPAS/TreeFarms/Raw/RashomonQBC_MTTreeFarmsRashomonNum11/Seed0_DataCOMPAS_TP0.2_CP0.8_STRashomonQBC_MTTreeFarmsRashomonNum11.pkl\n",
      "Moved: Seed6_DataCOMPAS_TP0.2_CP0.8_STRashomonQBC_MTTreeFarmsRashomonNum11.pkl -> /Users/simondn/Documents/RashomonActiveLearning/Results/COMPAS/TreeFarms/Raw/RashomonQBC_MTTreeFarmsRashomonNum11/Seed6_DataCOMPAS_TP0.2_CP0.8_STRashomonQBC_MTTreeFarmsRashomonNum11.pkl\n",
      "Moved: Seed8_DataCOMPAS_TP0.2_CP0.8_STPassiveLearning_MTTreeFarmsRashomonNum11.pkl -> /Users/simondn/Documents/RashomonActiveLearning/Results/COMPAS/TreeFarms/Raw/PassiveLearning_MTTreeFarmsRashomonNum11/Seed8_DataCOMPAS_TP0.2_CP0.8_STPassiveLearning_MTTreeFarmsRashomonNum11.pkl\n",
      "Moved: Seed3_DataCOMPAS_TP0.2_CP0.8_STPassiveLearning_MTTreeFarmsRashomonNum11.pkl -> /Users/simondn/Documents/RashomonActiveLearning/Results/COMPAS/TreeFarms/Raw/PassiveLearning_MTTreeFarmsRashomonNum11/Seed3_DataCOMPAS_TP0.2_CP0.8_STPassiveLearning_MTTreeFarmsRashomonNum11.pkl\n",
      "Moved: Seed1_DataCOMPAS_TP0.2_CP0.8_STPassiveLearning_MTTreeFarmsRashomonNum11.pkl -> /Users/simondn/Documents/RashomonActiveLearning/Results/COMPAS/TreeFarms/Raw/PassiveLearning_MTTreeFarmsRashomonNum11/Seed1_DataCOMPAS_TP0.2_CP0.8_STPassiveLearning_MTTreeFarmsRashomonNum11.pkl\n",
      "Moved: Seed7_DataCOMPAS_TP0.2_CP0.8_STPassiveLearning_MTTreeFarmsRashomonNum11.pkl -> /Users/simondn/Documents/RashomonActiveLearning/Results/COMPAS/TreeFarms/Raw/PassiveLearning_MTTreeFarmsRashomonNum11/Seed7_DataCOMPAS_TP0.2_CP0.8_STPassiveLearning_MTTreeFarmsRashomonNum11.pkl\n",
      "Moved: Seed5_DataCOMPAS_TP0.2_CP0.8_STPassiveLearning_MTTreeFarmsRashomonNum11.pkl -> /Users/simondn/Documents/RashomonActiveLearning/Results/COMPAS/TreeFarms/Raw/PassiveLearning_MTTreeFarmsRashomonNum11/Seed5_DataCOMPAS_TP0.2_CP0.8_STPassiveLearning_MTTreeFarmsRashomonNum11.pkl\n",
      "Moved: Seed6_DataCOMPAS_TP0.2_CP0.8_STRashomonQBC_MTTreeFarmsRashomonNum100100.pkl -> /Users/simondn/Documents/RashomonActiveLearning/Results/COMPAS/TreeFarms/Raw/RashomonQBC_MTTreeFarmsRashomonNum100100/Seed6_DataCOMPAS_TP0.2_CP0.8_STRashomonQBC_MTTreeFarmsRashomonNum100100.pkl\n",
      "Moved: Seed4_DataCOMPAS_TP0.2_CP0.8_STRashomonQBC_MTTreeFarmsRashomonNum100100.pkl -> /Users/simondn/Documents/RashomonActiveLearning/Results/COMPAS/TreeFarms/Raw/RashomonQBC_MTTreeFarmsRashomonNum100100/Seed4_DataCOMPAS_TP0.2_CP0.8_STRashomonQBC_MTTreeFarmsRashomonNum100100.pkl\n",
      "Moved: Seed2_DataCOMPAS_TP0.2_CP0.8_STRashomonQBC_MTTreeFarmsRashomonNum100100.pkl -> /Users/simondn/Documents/RashomonActiveLearning/Results/COMPAS/TreeFarms/Raw/RashomonQBC_MTTreeFarmsRashomonNum100100/Seed2_DataCOMPAS_TP0.2_CP0.8_STRashomonQBC_MTTreeFarmsRashomonNum100100.pkl\n",
      "Moved: Seed0_DataCOMPAS_TP0.2_CP0.8_STRashomonQBC_MTTreeFarmsRashomonNum100100.pkl -> /Users/simondn/Documents/RashomonActiveLearning/Results/COMPAS/TreeFarms/Raw/RashomonQBC_MTTreeFarmsRashomonNum100100/Seed0_DataCOMPAS_TP0.2_CP0.8_STRashomonQBC_MTTreeFarmsRashomonNum100100.pkl\n",
      "Moved: Seed5_DataCOMPAS_TP0.2_CP0.8_STRashomonQBC_MTTreeFarmsRashomonNum11.pkl -> /Users/simondn/Documents/RashomonActiveLearning/Results/COMPAS/TreeFarms/Raw/RashomonQBC_MTTreeFarmsRashomonNum11/Seed5_DataCOMPAS_TP0.2_CP0.8_STRashomonQBC_MTTreeFarmsRashomonNum11.pkl\n",
      "Moved: Seed3_DataCOMPAS_TP0.2_CP0.8_STRashomonQBC_MTTreeFarmsRashomonNum11.pkl -> /Users/simondn/Documents/RashomonActiveLearning/Results/COMPAS/TreeFarms/Raw/RashomonQBC_MTTreeFarmsRashomonNum11/Seed3_DataCOMPAS_TP0.2_CP0.8_STRashomonQBC_MTTreeFarmsRashomonNum11.pkl\n",
      "Moved: Seed9_DataCOMPAS_TP0.2_CP0.8_STRashomonQBC_MTTreeFarmsRashomonNum11.pkl -> /Users/simondn/Documents/RashomonActiveLearning/Results/COMPAS/TreeFarms/Raw/RashomonQBC_MTTreeFarmsRashomonNum11/Seed9_DataCOMPAS_TP0.2_CP0.8_STRashomonQBC_MTTreeFarmsRashomonNum11.pkl\n",
      "Moved: Seed8_DataCOMPAS_TP0.2_CP0.8_STRashomonQBC_MTTreeFarmsRashomonNum1010.pkl -> /Users/simondn/Documents/RashomonActiveLearning/Results/COMPAS/TreeFarms/Raw/RashomonQBC_MTTreeFarmsRashomonNum1010/Seed8_DataCOMPAS_TP0.2_CP0.8_STRashomonQBC_MTTreeFarmsRashomonNum1010.pkl\n",
      "Moved: Seed0_DataCOMPAS_TP0.2_CP0.8_STRashomonQBC_MTTreeFarmsRashomonNum1010.pkl -> /Users/simondn/Documents/RashomonActiveLearning/Results/COMPAS/TreeFarms/Raw/RashomonQBC_MTTreeFarmsRashomonNum1010/Seed0_DataCOMPAS_TP0.2_CP0.8_STRashomonQBC_MTTreeFarmsRashomonNum1010.pkl\n",
      "Moved: Seed7_DataCOMPAS_TP0.2_CP0.8_STRashomonQBC_MTTreeFarmsRashomonNum1010.pkl -> /Users/simondn/Documents/RashomonActiveLearning/Results/COMPAS/TreeFarms/Raw/RashomonQBC_MTTreeFarmsRashomonNum1010/Seed7_DataCOMPAS_TP0.2_CP0.8_STRashomonQBC_MTTreeFarmsRashomonNum1010.pkl\n",
      "Moved: Seed5_DataCOMPAS_TP0.2_CP0.8_STRashomonQBC_MTTreeFarmsRashomonNum1010.pkl -> /Users/simondn/Documents/RashomonActiveLearning/Results/COMPAS/TreeFarms/Raw/RashomonQBC_MTTreeFarmsRashomonNum1010/Seed5_DataCOMPAS_TP0.2_CP0.8_STRashomonQBC_MTTreeFarmsRashomonNum1010.pkl\n",
      "Moved: Seed2_DataCOMPAS_TP0.2_CP0.8_STRashomonQBC_MTTreeFarmsRashomonNum1010.pkl -> /Users/simondn/Documents/RashomonActiveLearning/Results/COMPAS/TreeFarms/Raw/RashomonQBC_MTTreeFarmsRashomonNum1010/Seed2_DataCOMPAS_TP0.2_CP0.8_STRashomonQBC_MTTreeFarmsRashomonNum1010.pkl\n",
      "Moved: Seed9_DataCOMPAS_TP0.2_CP0.8_STRashomonQBC_MTTreeFarmsRashomonNum100100.pkl -> /Users/simondn/Documents/RashomonActiveLearning/Results/COMPAS/TreeFarms/Raw/RashomonQBC_MTTreeFarmsRashomonNum100100/Seed9_DataCOMPAS_TP0.2_CP0.8_STRashomonQBC_MTTreeFarmsRashomonNum100100.pkl\n",
      "Moved: Seed4_DataCOMPAS_TP0.2_CP0.8_STRashomonQBC_MTTreeFarmsRashomonNum11.pkl -> /Users/simondn/Documents/RashomonActiveLearning/Results/COMPAS/TreeFarms/Raw/RashomonQBC_MTTreeFarmsRashomonNum11/Seed4_DataCOMPAS_TP0.2_CP0.8_STRashomonQBC_MTTreeFarmsRashomonNum11.pkl\n",
      "Moved: Seed2_DataCOMPAS_TP0.2_CP0.8_STRashomonQBC_MTTreeFarmsRashomonNum11.pkl -> /Users/simondn/Documents/RashomonActiveLearning/Results/COMPAS/TreeFarms/Raw/RashomonQBC_MTTreeFarmsRashomonNum11/Seed2_DataCOMPAS_TP0.2_CP0.8_STRashomonQBC_MTTreeFarmsRashomonNum11.pkl\n",
      "Moved: Seed8_DataCOMPAS_TP0.2_CP0.8_STRashomonQBC_MTTreeFarmsRashomonNum11.pkl -> /Users/simondn/Documents/RashomonActiveLearning/Results/COMPAS/TreeFarms/Raw/RashomonQBC_MTTreeFarmsRashomonNum11/Seed8_DataCOMPAS_TP0.2_CP0.8_STRashomonQBC_MTTreeFarmsRashomonNum11.pkl\n",
      "Moved: Seed9_DataCOMPAS_TP0.2_CP0.8_STPassiveLearning_MTTreeFarmsRashomonNum11.pkl -> /Users/simondn/Documents/RashomonActiveLearning/Results/COMPAS/TreeFarms/Raw/PassiveLearning_MTTreeFarmsRashomonNum11/Seed9_DataCOMPAS_TP0.2_CP0.8_STPassiveLearning_MTTreeFarmsRashomonNum11.pkl\n",
      "Moved: Seed2_DataCOMPAS_TP0.2_CP0.8_STPassiveLearning_MTTreeFarmsRashomonNum11.pkl -> /Users/simondn/Documents/RashomonActiveLearning/Results/COMPAS/TreeFarms/Raw/PassiveLearning_MTTreeFarmsRashomonNum11/Seed2_DataCOMPAS_TP0.2_CP0.8_STPassiveLearning_MTTreeFarmsRashomonNum11.pkl\n",
      "Moved: Seed0_DataCOMPAS_TP0.2_CP0.8_STPassiveLearning_MTTreeFarmsRashomonNum11.pkl -> /Users/simondn/Documents/RashomonActiveLearning/Results/COMPAS/TreeFarms/Raw/PassiveLearning_MTTreeFarmsRashomonNum11/Seed0_DataCOMPAS_TP0.2_CP0.8_STPassiveLearning_MTTreeFarmsRashomonNum11.pkl\n",
      "Moved: Seed6_DataCOMPAS_TP0.2_CP0.8_STPassiveLearning_MTTreeFarmsRashomonNum11.pkl -> /Users/simondn/Documents/RashomonActiveLearning/Results/COMPAS/TreeFarms/Raw/PassiveLearning_MTTreeFarmsRashomonNum11/Seed6_DataCOMPAS_TP0.2_CP0.8_STPassiveLearning_MTTreeFarmsRashomonNum11.pkl\n",
      "Moved: Seed4_DataCOMPAS_TP0.2_CP0.8_STPassiveLearning_MTTreeFarmsRashomonNum11.pkl -> /Users/simondn/Documents/RashomonActiveLearning/Results/COMPAS/TreeFarms/Raw/PassiveLearning_MTTreeFarmsRashomonNum11/Seed4_DataCOMPAS_TP0.2_CP0.8_STPassiveLearning_MTTreeFarmsRashomonNum11.pkl\n"
     ]
    }
   ],
   "source": [
    "import os\n",
    "import shutil\n",
    "\n",
    "# Define the base directory containing the files\n",
    "base_dir = \"/Users/simondn/Documents/RashomonActiveLearning/Results/COMPAS/TreeFarms/Raw\"\n",
    "\n",
    "# Define the categories based on file endings\n",
    "categories = [\n",
    "    \"PassiveLearning_MTTreeFarmsRashomonNum11.pkl\",\n",
    "    \"RashomonQBC_MTTreeFarmsRashomonNum11.pkl\",\n",
    "    \"RashomonQBC_MTTreeFarmsRashomonNum1010.pkl\",\n",
    "    \"RashomonQBC_MTTreeFarmsRashomonNum100100.pkl\",\n",
    "]\n",
    "\n",
    "# Create directories for each category\n",
    "for category in categories:\n",
    "    category_dir = os.path.join(base_dir, category.split(\".\")[0])  # Strip '.pkl' for directory name\n",
    "    os.makedirs(category_dir, exist_ok=True)\n",
    "\n",
    "# Iterate over files and move them to the appropriate category\n",
    "for filename in os.listdir(base_dir):\n",
    "    if filename.endswith(\".pkl\"):\n",
    "        for category in categories:\n",
    "            if filename.endswith(category):\n",
    "                src = os.path.join(base_dir, filename)\n",
    "                dest = os.path.join(base_dir, category.split(\".\")[0], filename)\n",
    "                shutil.move(src, dest)\n",
    "                print(f\"Moved: {filename} -> {dest}\")\n",
    "                break\n"
   ]
  },
  {
   "cell_type": "code",
   "execution_count": null,
   "metadata": {},
   "outputs": [],
   "source": []
  }
 ],
 "metadata": {
  "kernelspec": {
   "display_name": "base",
   "language": "python",
   "name": "python3"
  },
  "language_info": {
   "codemirror_mode": {
    "name": "ipython",
    "version": 3
   },
   "file_extension": ".py",
   "mimetype": "text/x-python",
   "name": "python",
   "nbconvert_exporter": "python",
   "pygments_lexer": "ipython3",
   "version": "3.12.4"
  }
 },
 "nbformat": 4,
 "nbformat_minor": 2
}
