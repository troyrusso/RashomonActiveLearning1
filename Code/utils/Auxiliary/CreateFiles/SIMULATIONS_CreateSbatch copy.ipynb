{
 "cells": [
  {
   "cell_type": "code",
   "execution_count": null,
   "metadata": {},
   "outputs": [],
   "source": [
    "### Summary: The following script creates an sbatch file to run the function RunSimulation.py for each parameter vector variation.\n",
    "\n",
    "### Import packages ###\n",
    "import os\n",
    "import numpy as np\n",
    "import pandas as pd\n",
    "import argparse\n",
    "\n",
    "### Directory ###\n",
    "cwd = os.getcwd()\n",
    "ParentDirectory = os.path.abspath(os.path.join(cwd, \"../..\"))\n"
   ]
  },
  {
   "cell_type": "code",
   "execution_count": null,
   "metadata": {},
   "outputs": [],
   "source": [
    "\n",
    "# Set up argument parser\n",
    "parser = argparse.ArgumentParser(description=\"Parse command line arguments for job parameters\")\n",
    "parser.add_argument(\"--DataType\", type=str, default=\"-1\", help=\"Simulation case number.\")\n",
    "args = parser.parse_args()\n"
   ]
  },
  {
   "cell_type": "code",
   "execution_count": null,
   "metadata": {},
   "outputs": [],
   "source": [
    "\n",
    "### Open Parameter Vector ###\n",
    "ParameterVector = pd.read_csv(os.path.join(cwd, \"Data\", \"ParameterVectors\", \"ParameterVector\" + args.DataType + \".csv\"))\n",
    "\n",
    "# Loop through each row in the DataFrame\n",
    "for i, row in ParameterVector.iterrows():\n",
    "    # Extract parameters for the current row\n",
    "    JobName = row[\"JobName\"]\n",
    "    Seed = row[\"Seed\"]\n",
    "    Data = row[\"Data\"]\n",
    "    TestProportion = row[\"TestProportion\"]\n",
    "    CandidateProportion = row[\"CandidateProportion\"]\n",
    "    SelectorType = row[\"SelectorType\"]\n",
    "    ModelType = row[\"ModelType\"]\n",
    "    DataArgs = row[\"DataArgs\"]\n",
    "    SelectorArgs = row[\"SelectorArgs\"]\n",
    "    ModelArgs = row[\"ModelArgs\"]\n",
    "    Output = row[\"Output\"]\n",
    "    \n",
    "    # Define the path for the .sbatch file\n",
    "    TargetDirectory = os.path.join(cwd,\"Code\", \"Cluster\", Data, \"RunSimulations\")\n",
    "    sbatch_file_path = os.path.join(TargetDirectory, f\"{JobName}.sbatch\")\n",
    "    \n",
    "    # Create the .sbatch file content\n",
    "    sbatch_content = [\n",
    "        \"#!/bin/bash\",\n",
    "        f\"#SBATCH --job-name={JobName}\",\n",
    "        \"#SBATCH --partition=medium\",\n",
    "        \"#SBATCH --ntasks=1\",\n",
    "        \"#SBATCH --time=6-23:59:59\",\n",
    "        \"#SBATCH --mem-per-cpu=30000\",\n",
    "        f\"#SBATCH -o ClusterMessages/out/myscript_{JobName}_%j.out\",\n",
    "        f\"#SBATCH -e ClusterMessages/error/myscript_{JobName}_%j.err\",\n",
    "        \"#SBATCH --mail-type=ALL\",\n",
    "        \"#SBATCH --mail-user=simondn@uw.edu\",\n",
    "        \"\",\n",
    "        \"cd ~/RashomonActiveLearning\",\n",
    "        \"module load Python\",\n",
    "        \"python Code/RunSimulation.py \\\\\",\n",
    "        f\"    --JobName \" + JobName +\" \\\\\",\n",
    "        f\"    --Seed {Seed} \\\\\",\n",
    "        f\"    --Data {Data} \\\\\",\n",
    "        f\"    --TestProportion {TestProportion} \\\\\",\n",
    "        f\"    --CandidateProportion {CandidateProportion} \\\\\",\n",
    "        f\"    --SelectorType {SelectorType} \\\\\",\n",
    "        f\"    --ModelType {ModelType} \\\\\",\n",
    "        f\"    --DataArgs {DataArgs} \\\\\",\n",
    "        f\"    --SelectorArgs {SelectorArgs} \\\\\",\n",
    "        f\"    --ModelArgs {ModelArgs} \\\\\",\n",
    "        f\"    --Output {Output}\"\n",
    "    ]\n",
    "\n",
    "    # Write content to .sbatch file\n",
    "    os.makedirs(os.path.dirname(sbatch_file_path), exist_ok=True)  # Ensure directory exists\n",
    "    with open(sbatch_file_path, \"w\") as sbatch_file:\n",
    "        sbatch_file.write(\"\\n\".join(sbatch_content))\n",
    "\n",
    "print(\"Creation Sbatch files generated successfully.\")\n"
   ]
  },
  {
   "cell_type": "code",
   "execution_count": null,
   "metadata": {},
   "outputs": [],
   "source": []
  }
 ],
 "metadata": {
  "kernelspec": {
   "display_name": "base",
   "language": "python",
   "name": "python3"
  },
  "language_info": {
   "codemirror_mode": {
    "name": "ipython",
    "version": 3
   },
   "file_extension": ".py",
   "mimetype": "text/x-python",
   "name": "python",
   "nbconvert_exporter": "python",
   "pygments_lexer": "ipython3",
   "version": "3.12.4"
  }
 },
 "nbformat": 4,
 "nbformat_minor": 2
}
