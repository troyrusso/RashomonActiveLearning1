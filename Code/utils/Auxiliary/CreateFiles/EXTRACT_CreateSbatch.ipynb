{
 "cells": [
  {
   "cell_type": "code",
   "execution_count": 1,
   "metadata": {},
   "outputs": [],
   "source": [
    "### Import libraries ###\n",
    "import os\n",
    "import pickle\n",
    "import argparse\n",
    "import numpy as np\n",
    "import pandas as pd"
   ]
  },
  {
   "cell_type": "code",
   "execution_count": 2,
   "metadata": {},
   "outputs": [],
   "source": [
    "### Extract Error and Time Function ###\n",
    "def ExtractErrorAndTime(files):\n",
    "    ErrorVec = []\n",
    "    TimeVec = []\n",
    "    for file in files:\n",
    "        try:\n",
    "            with open(file, \"rb\") as f:\n",
    "                data = pickle.load(f)\n",
    "                ErrorVec.append(data[\"ErrorVec\"])\n",
    "                TimeVec.append(data[\"ElapsedTime\"])\n",
    "        except Exception as e:\n",
    "            print(f\"Error loading file {file}: {e}\")\n",
    "    return np.array(ErrorVec), np.array(TimeVec)"
   ]
  },
  {
   "cell_type": "code",
   "execution_count": 3,
   "metadata": {},
   "outputs": [
    {
     "name": "stdout",
     "output_type": "stream",
     "text": [
      "DataType: BostonHousing\n",
      "ModelType: TreeFarms\n",
      "Categories: MTTreeFarms_UEI0_NE100_Reg0.01_RBA0.01.pkl\n"
     ]
    }
   ],
   "source": [
    "# Simulate argparse args object\n",
    "class Args:\n",
    "    def __init__(self, DataType, ModelType, Categories):\n",
    "        self.DataType = DataType\n",
    "        self.ModelType = ModelType\n",
    "        self.Categories = Categories\n",
    "\n",
    "# Manually setting up args\n",
    "args = Args(\n",
    "    DataType=\"BostonHousing\",\n",
    "    ModelType=\"TreeFarms\",\n",
    "    Categories= \"MTTreeFarms_UEI0_NE100_Reg0.01_RBA0.01.pkl\"\n",
    ")\n",
    "\n",
    "# Parsing arguments\n",
    "data_type = args.DataType\n",
    "model_type = args.ModelType\n",
    "categories = args.Categories\n",
    "\n",
    "# Display arguments (for testing)\n",
    "print(\"DataType:\", data_type)\n",
    "print(\"ModelType:\", model_type)\n",
    "print(\"Categories:\", categories)\n",
    "\n",
    "# Add the main script logic below using `data_type`, `model_type`, and `categories`.\n"
   ]
  },
  {
   "cell_type": "code",
   "execution_count": 4,
   "metadata": {},
   "outputs": [
    {
     "data": {
      "text/plain": [
       "'MTTreeFarms_UEI0_NE100_Reg0.01_RBA0.01.pkl'"
      ]
     },
     "execution_count": 4,
     "metadata": {},
     "output_type": "execute_result"
    }
   ],
   "source": [
    "args.Categories"
   ]
  },
  {
   "cell_type": "code",
   "execution_count": 5,
   "metadata": {},
   "outputs": [],
   "source": [
    "### Set Up ###\n",
    "cwd = os.getcwd()\n",
    "ResultsDirectory = os.path.join(cwd, \"Results\", args.DataType, args.ModelType)\n",
    "OutputDirectory = os.path.join(ResultsDirectory, \"ProcessedResults\")\n",
    "# RawDirectory = os.path.join(ResultsDirectory, \"Raw\")\n",
    "RawDirectory = \"/Users/simondn/Documents/RashomonActiveLearning/Results/BostonHousing/TreeFarms/Raw\"\n",
    "Category = args.Categories\n"
   ]
  },
  {
   "cell_type": "code",
   "execution_count": 6,
   "metadata": {},
   "outputs": [],
   "source": [
    "### Extract File Names ###\n",
    "CategoryFileNames = []\n",
    "for filename in os.listdir(RawDirectory):\n",
    "    if filename.endswith(\".pkl\") and filename.endswith(Category):\n",
    "        CategoryFileNames.append(os.path.join(RawDirectory, filename))"
   ]
  },
  {
   "cell_type": "code",
   "execution_count": 7,
   "metadata": {},
   "outputs": [
    {
     "name": "stdout",
     "output_type": "stream",
     "text": [
      "Processing category: MTTreeFarms_UEI0_NE100_Reg0.01_RBA0.01.pkl with 3 files\n"
     ]
    }
   ],
   "source": [
    "# ### Extract Data ###\n",
    "if not CategoryFileNames:\n",
    "    print(f\"Warning: No files found for category {Category}. Exiting.\")\n",
    "    exit(1)\n",
    "print(f\"Processing category: {Category} with {len(CategoryFileNames)} files\")\n",
    "ErrorVec, TimeVec = ExtractErrorAndTime(CategoryFileNames)\n",
    "ErrorMatrix = pd.DataFrame(ErrorVec.squeeze())\n",
    "TimeMatrix = pd.DataFrame(TimeVec.squeeze())\n",
    "\n",
    "### Save ###\n",
    "# ErrorMatrix.to_csv(os.path.join(OutputDirectory, f\"{Category.replace('.pkl', '')}_ErrorMatrix.csv\"), index=False)\n",
    "# TimeMatrix.to_csv(os.path.join(OutputDirectory, f\"{Category.replace('.pkl', '')}_TimeMatrix.csv\"), index=False)"
   ]
  },
  {
   "cell_type": "code",
   "execution_count": 11,
   "metadata": {},
   "outputs": [
    {
     "data": {
      "text/plain": [
       "0                 0.078431\n",
       "1    [0.17647058823529416]\n",
       "2                 0.117647\n",
       "Name: 14, dtype: object"
      ]
     },
     "execution_count": 11,
     "metadata": {},
     "output_type": "execute_result"
    }
   ],
   "source": [
    "ErrorMatrix[14]"
   ]
  }
 ],
 "metadata": {
  "kernelspec": {
   "display_name": "Python 3",
   "language": "python",
   "name": "python3"
  },
  "language_info": {
   "codemirror_mode": {
    "name": "ipython",
    "version": 3
   },
   "file_extension": ".py",
   "mimetype": "text/x-python",
   "name": "python",
   "nbconvert_exporter": "python",
   "pygments_lexer": "ipython3",
   "version": "3.9.6"
  }
 },
 "nbformat": 4,
 "nbformat_minor": 2
}
