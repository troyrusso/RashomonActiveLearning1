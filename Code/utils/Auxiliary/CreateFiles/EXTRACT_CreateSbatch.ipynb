{
 "cells": [
  {
   "cell_type": "code",
   "execution_count": 14,
   "metadata": {},
   "outputs": [],
   "source": [
    "### Import libraries ###\n",
    "import os\n",
    "import pickle\n",
    "import numpy as np\n",
    "import pandas as pd"
   ]
  },
  {
   "cell_type": "code",
   "execution_count": 15,
   "metadata": {},
   "outputs": [],
   "source": [
    "Sim0 = \"/Users/simondn/Documents/RashomonActiveLearning/Results/BostonHousing/TreeFarms/Raw/Seed0_DataBostonHousing_TP0.2_CP0.8_STTreeEnsembleQBC_MTTreeFarms_UEI0_NE100_Reg0.01_RBA0.01.pkl\"\n",
    "Sim1 = \"/Users/simondn/Documents/RashomonActiveLearning/Results/BostonHousing/TreeFarms/Raw/Seed1_DataBostonHousing_TP0.2_CP0.8_STTreeEnsembleQBC_MTTreeFarms_UEI0_NE100_Reg0.01_RBA0.01.pkl\"\n",
    "Sim2 = \"/Users/simondn/Documents/RashomonActiveLearning/Results/BostonHousing/TreeFarms/Raw/Seed2_DataBostonHousing_TP0.2_CP0.8_STTreeEnsembleQBC_MTTreeFarms_UEI0_NE100_Reg0.01_RBA0.01.pkl\"\n"
   ]
  },
  {
   "cell_type": "code",
   "execution_count": 16,
   "metadata": {},
   "outputs": [],
   "source": [
    "with open(Sim0, \"rb\") as f:\n",
    "    data0 = pickle.load(f)\n",
    "with open(Sim1, \"rb\") as f:\n",
    "    data1 = pickle.load(f)\n",
    "with open(Sim2, \"rb\") as f:\n",
    "    data2 = pickle.load(f)"
   ]
  },
  {
   "cell_type": "code",
   "execution_count": 17,
   "metadata": {},
   "outputs": [
    {
     "name": "stdout",
     "output_type": "stream",
     "text": [
      "Seed0:\n",
      "SelectionHistory: 324\n",
      "ErrorVec: 324\n",
      "AllErrorVec: 324\n",
      "UniqueModelsInRashomonSet: 324\n",
      "AllModelsInRashomonSet: 324\n"
     ]
    }
   ],
   "source": [
    "print(\"Seed0:\")\n",
    "print(\"SelectionHistory:\" , len(data0[\"SelectionHistory\"]))\n",
    "print(\"ErrorVec:\" , len(data0[\"ErrorVec\"]))\n",
    "print(\"AllErrorVec:\" , len(data0[\"AllErrorVec\"]))\n",
    "print(\"UniqueModelsInRashomonSet:\" , len(data0[\"RashomonCommitteeDict\"][\"UniqueModelsInRashomonSet\"]))\n",
    "print(\"AllModelsInRashomonSet:\" , len(data0[\"RashomonCommitteeDict\"][\"AllModelsInRashomonSet\"]))"
   ]
  },
  {
   "cell_type": "code",
   "execution_count": 18,
   "metadata": {},
   "outputs": [
    {
     "data": {
      "text/plain": [
       "{'DataFileInput': 'BostonHousing',\n",
       " 'Seed': '1',\n",
       " 'TestProportion': '0.2',\n",
       " 'CandidateProportion': '0.8',\n",
       " 'SelectorType': 'TreeEnsembleQBCFunction',\n",
       " 'ModelType': 'TreeFarmsFunction',\n",
       " 'UniqueErrorsInput': '0',\n",
       " 'n_estimators': '100',\n",
       " 'regularization': '0.01',\n",
       " 'rashomon_bound_adder': '0.01',\n",
       " 'Type': 'Classification'}"
      ]
     },
     "execution_count": 18,
     "metadata": {},
     "output_type": "execute_result"
    }
   ],
   "source": [
    "data1[\"SimulationParameters\"]"
   ]
  },
  {
   "cell_type": "code",
   "execution_count": 19,
   "metadata": {},
   "outputs": [
    {
     "name": "stdout",
     "output_type": "stream",
     "text": [
      "Seed1\n",
      "SelectionHistory: 324\n",
      "ErrorVec: 324\n",
      "AllErrorVec: 324\n",
      "UniqueModelsInRashomonSet: 324\n",
      "AllModelsInRashomonSet: 324\n"
     ]
    }
   ],
   "source": [
    "print(\"Seed1\")\n",
    "print(\"SelectionHistory:\" , len(data1[\"SelectionHistory\"]))\n",
    "print(\"ErrorVec:\" , len(data1[\"ErrorVec\"]))\n",
    "print(\"AllErrorVec:\" , len(data1[\"AllErrorVec\"]))\n",
    "print(\"UniqueModelsInRashomonSet:\" , len(data1[\"RashomonCommitteeDict\"][\"UniqueModelsInRashomonSet\"]))\n",
    "print(\"AllModelsInRashomonSet:\" , len(data1[\"RashomonCommitteeDict\"][\"AllModelsInRashomonSet\"]))"
   ]
  },
  {
   "cell_type": "code",
   "execution_count": 20,
   "metadata": {},
   "outputs": [
    {
     "name": "stdout",
     "output_type": "stream",
     "text": [
      "Seed2\n",
      "SelectionHistory: 324\n",
      "ErrorVec: 324\n",
      "AllErrorVec: 324\n",
      "UniqueModelsInRashomonSet: 324\n",
      "AllModelsInRashomonSet: 324\n"
     ]
    }
   ],
   "source": [
    "print(\"Seed2\")\n",
    "print(\"SelectionHistory:\" , len(data2[\"SelectionHistory\"]))\n",
    "print(\"ErrorVec:\" , len(data2[\"ErrorVec\"]))\n",
    "print(\"AllErrorVec:\" , len(data2[\"AllErrorVec\"]))\n",
    "print(\"UniqueModelsInRashomonSet:\" , len(data2[\"RashomonCommitteeDict\"][\"UniqueModelsInRashomonSet\"]))\n",
    "print(\"AllModelsInRashomonSet:\" , len(data2[\"RashomonCommitteeDict\"][\"AllModelsInRashomonSet\"]))"
   ]
  },
  {
   "cell_type": "code",
   "execution_count": 21,
   "metadata": {},
   "outputs": [],
   "source": [
    "data1AllErrorVec = data1[\"AllErrorVec\"]"
   ]
  },
  {
   "cell_type": "code",
   "execution_count": 22,
   "metadata": {},
   "outputs": [],
   "source": [
    "data1ErrorVec = data1[\"ErrorVec\"]"
   ]
  }
 ],
 "metadata": {
  "kernelspec": {
   "display_name": "Python 3",
   "language": "python",
   "name": "python3"
  },
  "language_info": {
   "codemirror_mode": {
    "name": "ipython",
    "version": 3
   },
   "file_extension": ".py",
   "mimetype": "text/x-python",
   "name": "python",
   "nbconvert_exporter": "python",
   "pygments_lexer": "ipython3",
   "version": "3.9.6"
  }
 },
 "nbformat": 4,
 "nbformat_minor": 2
}
