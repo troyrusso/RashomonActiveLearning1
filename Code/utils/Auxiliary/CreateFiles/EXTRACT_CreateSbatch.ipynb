{
 "cells": [
  {
   "cell_type": "code",
   "execution_count": 1,
   "metadata": {},
   "outputs": [],
   "source": [
    "### Import libraries ###\n",
    "import os\n",
    "import pickle\n",
    "import numpy as np\n",
    "import pandas as pd"
   ]
  },
  {
   "cell_type": "code",
   "execution_count": 2,
   "metadata": {},
   "outputs": [],
   "source": [
    "### Extract Error and Time Function ###\n",
    "def ExtractErrorAndTime(files):\n",
    "    ErrorVec = []\n",
    "    TimeVec = []\n",
    "    for file in files:\n",
    "        try:\n",
    "            with open(file, \"rb\") as f:\n",
    "                data = pickle.load(f)\n",
    "                ErrorVec.append(data[\"ErrorVec\"])\n",
    "                TimeVec.append(data[\"ElapsedTime\"])\n",
    "        except Exception as e:\n",
    "            print(f\"Error loading file {file}: {e}\")\n",
    "    return np.array(ErrorVec), np.array(TimeVec)"
   ]
  },
  {
   "cell_type": "code",
   "execution_count": 3,
   "metadata": {},
   "outputs": [
    {
     "name": "stdout",
     "output_type": "stream",
     "text": [
      "DataType: BostonHousing\n",
      "ModelType: TreeFarms\n",
      "Categories: MTTreeFarms_UEI0_NE100_Reg0.01_RBA0.01.pkl\n"
     ]
    }
   ],
   "source": [
    "# Simulate argparse args object\n",
    "class Args:\n",
    "    def __init__(self, DataType, ModelType, Categories):\n",
    "        self.DataType = DataType\n",
    "        self.ModelType = ModelType\n",
    "        self.Categories = Categories\n",
    "\n",
    "# Manually setting up args\n",
    "args = Args(\n",
    "    DataType=\"BostonHousing\",\n",
    "    ModelType=\"TreeFarms\",\n",
    "    Categories= \"MTTreeFarms_UEI0_NE100_Reg0.01_RBA0.01.pkl\"\n",
    ")\n",
    "\n",
    "# Parsing arguments\n",
    "data_type = args.DataType\n",
    "model_type = args.ModelType\n",
    "categories = args.Categories\n",
    "\n",
    "# Display arguments (for testing)\n",
    "print(\"DataType:\", data_type)\n",
    "print(\"ModelType:\", model_type)\n",
    "print(\"Categories:\", categories)\n",
    "\n",
    "# Add the main script logic below using `data_type`, `model_type`, and `categories`.\n"
   ]
  },
  {
   "cell_type": "code",
   "execution_count": 4,
   "metadata": {},
   "outputs": [
    {
     "data": {
      "text/plain": [
       "'MTTreeFarms_UEI0_NE100_Reg0.01_RBA0.01.pkl'"
      ]
     },
     "execution_count": 4,
     "metadata": {},
     "output_type": "execute_result"
    }
   ],
   "source": [
    "args.Categories"
   ]
  },
  {
   "cell_type": "code",
   "execution_count": 5,
   "metadata": {},
   "outputs": [],
   "source": [
    "### Set Up ###\n",
    "cwd = os.getcwd()\n",
    "ResultsDirectory = os.path.join(cwd, \"Results\", args.DataType, args.ModelType)\n",
    "OutputDirectory = os.path.join(ResultsDirectory, \"ProcessedResults\")\n",
    "# RawDirectory = os.path.join(ResultsDirectory, \"Raw\")\n",
    "RawDirectory = \"/Users/simondn/Documents/RashomonActiveLearning/Results/BostonHousing/TreeFarms/Raw\"\n",
    "Category = args.Categories\n"
   ]
  },
  {
   "cell_type": "code",
   "execution_count": 6,
   "metadata": {},
   "outputs": [],
   "source": [
    "### Extract File Names ###\n",
    "CategoryFileNames = []\n",
    "for filename in os.listdir(RawDirectory):\n",
    "    if filename.endswith(\".pkl\") and filename.endswith(Category):\n",
    "        CategoryFileNames.append(os.path.join(RawDirectory, filename))"
   ]
  },
  {
   "cell_type": "code",
   "execution_count": 7,
   "metadata": {},
   "outputs": [
    {
     "name": "stdout",
     "output_type": "stream",
     "text": [
      "Processing category: MTTreeFarms_UEI0_NE100_Reg0.01_RBA0.01.pkl with 3 files\n"
     ]
    }
   ],
   "source": [
    "# ### Extract Data ###\n",
    "if not CategoryFileNames:\n",
    "    print(f\"Warning: No files found for category {Category}. Exiting.\")\n",
    "    exit(1)\n",
    "print(f\"Processing category: {Category} with {len(CategoryFileNames)} files\")\n",
    "ErrorVec, TimeVec = ExtractErrorAndTime(CategoryFileNames)\n",
    "ErrorMatrix = pd.DataFrame(ErrorVec.squeeze())\n",
    "TimeMatrix = pd.DataFrame(TimeVec.squeeze())\n",
    "\n",
    "### Save ###\n",
    "# ErrorMatrix.to_csv(os.path.join(OutputDirectory, f\"{Category.replace('.pkl', '')}_ErrorMatrix.csv\"), index=False)\n",
    "# TimeMatrix.to_csv(os.path.join(OutputDirectory, f\"{Category.replace('.pkl', '')}_TimeMatrix.csv\"), index=False)"
   ]
  },
  {
   "cell_type": "code",
   "execution_count": 9,
   "metadata": {},
   "outputs": [
    {
     "data": {
      "text/plain": [
       "0                 0.078431\n",
       "1    [0.17647058823529416]\n",
       "2                 0.117647\n",
       "Name: 14, dtype: object"
      ]
     },
     "execution_count": 9,
     "metadata": {},
     "output_type": "execute_result"
    }
   ],
   "source": [
    "ErrorMatrix[14]"
   ]
  },
  {
   "cell_type": "markdown",
   "metadata": {},
   "source": [
    "---"
   ]
  },
  {
   "cell_type": "code",
   "execution_count": 11,
   "metadata": {},
   "outputs": [],
   "source": [
    "Sim0 = \"/Users/simondn/Documents/RashomonActiveLearning/Results/BostonHousing/TreeFarms/Raw/Seed0_DataBostonHousing_TP0.2_CP0.8_STTreeEnsembleQBC_MTTreeFarms_UEI0_NE100_Reg0.01_RBA0.01.pkl\"\n",
    "Sim1 = \"/Users/simondn/Documents/RashomonActiveLearning/Results/BostonHousing/TreeFarms/Raw/Seed1_DataBostonHousing_TP0.2_CP0.8_STTreeEnsembleQBC_MTTreeFarms_UEI0_NE100_Reg0.01_RBA0.01.pkl\"\n",
    "Sim2 = \"/Users/simondn/Documents/RashomonActiveLearning/Results/BostonHousing/TreeFarms/Raw/Seed2_DataBostonHousing_TP0.2_CP0.8_STTreeEnsembleQBC_MTTreeFarms_UEI0_NE100_Reg0.01_RBA0.01.pkl\"\n"
   ]
  },
  {
   "cell_type": "code",
   "execution_count": 12,
   "metadata": {},
   "outputs": [],
   "source": [
    "with open(Sim1, \"rb\") as f:\n",
    "    data = pickle.load(f)\n",
    "    data1 = data[\"ErrorVec\"]\n"
   ]
  },
  {
   "cell_type": "code",
   "execution_count": 17,
   "metadata": {},
   "outputs": [
    {
     "data": {
      "text/html": [
       "<div>\n",
       "<style scoped>\n",
       "    .dataframe tbody tr th:only-of-type {\n",
       "        vertical-align: middle;\n",
       "    }\n",
       "\n",
       "    .dataframe tbody tr th {\n",
       "        vertical-align: top;\n",
       "    }\n",
       "\n",
       "    .dataframe thead th {\n",
       "        text-align: right;\n",
       "    }\n",
       "</style>\n",
       "<table border=\"1\" class=\"dataframe\">\n",
       "  <thead>\n",
       "    <tr style=\"text-align: right;\">\n",
       "      <th></th>\n",
       "      <th>Error</th>\n",
       "    </tr>\n",
       "  </thead>\n",
       "  <tbody>\n",
       "    <tr>\n",
       "      <th>0</th>\n",
       "      <td>0.156863</td>\n",
       "    </tr>\n",
       "    <tr>\n",
       "      <th>1</th>\n",
       "      <td>0.156863</td>\n",
       "    </tr>\n",
       "    <tr>\n",
       "      <th>2</th>\n",
       "      <td>0.156863</td>\n",
       "    </tr>\n",
       "    <tr>\n",
       "      <th>3</th>\n",
       "      <td>0.156863</td>\n",
       "    </tr>\n",
       "    <tr>\n",
       "      <th>4</th>\n",
       "      <td>0.156863</td>\n",
       "    </tr>\n",
       "    <tr>\n",
       "      <th>...</th>\n",
       "      <td>...</td>\n",
       "    </tr>\n",
       "    <tr>\n",
       "      <th>319</th>\n",
       "      <td>0.137255</td>\n",
       "    </tr>\n",
       "    <tr>\n",
       "      <th>320</th>\n",
       "      <td>0.137255</td>\n",
       "    </tr>\n",
       "    <tr>\n",
       "      <th>321</th>\n",
       "      <td>0.137255</td>\n",
       "    </tr>\n",
       "    <tr>\n",
       "      <th>322</th>\n",
       "      <td>0.137255</td>\n",
       "    </tr>\n",
       "    <tr>\n",
       "      <th>323</th>\n",
       "      <td>0.137255</td>\n",
       "    </tr>\n",
       "  </tbody>\n",
       "</table>\n",
       "<p>324 rows × 1 columns</p>\n",
       "</div>"
      ],
      "text/plain": [
       "        Error\n",
       "0    0.156863\n",
       "1    0.156863\n",
       "2    0.156863\n",
       "3    0.156863\n",
       "4    0.156863\n",
       "..        ...\n",
       "319  0.137255\n",
       "320  0.137255\n",
       "321  0.137255\n",
       "322  0.137255\n",
       "323  0.137255\n",
       "\n",
       "[324 rows x 1 columns]"
      ]
     },
     "execution_count": 17,
     "metadata": {},
     "output_type": "execute_result"
    }
   ],
   "source": [
    "data[\"ErrorVec\"]"
   ]
  },
  {
   "cell_type": "code",
   "execution_count": 32,
   "metadata": {},
   "outputs": [
    {
     "data": {
      "text/plain": [
       "324"
      ]
     },
     "execution_count": 32,
     "metadata": {},
     "output_type": "execute_result"
    }
   ],
   "source": [
    "len(data[\"ErrorVec\"])"
   ]
  },
  {
   "cell_type": "code",
   "execution_count": 31,
   "metadata": {},
   "outputs": [
    {
     "data": {
      "text/plain": [
       "321"
      ]
     },
     "execution_count": 31,
     "metadata": {},
     "output_type": "execute_result"
    }
   ],
   "source": [
    "len(data[\"AllErrorVec\"])"
   ]
  },
  {
   "cell_type": "code",
   "execution_count": 29,
   "metadata": {},
   "outputs": [
    {
     "data": {
      "text/plain": [
       "321"
      ]
     },
     "execution_count": 29,
     "metadata": {},
     "output_type": "execute_result"
    }
   ],
   "source": [
    "len(data[\"RashomonCommitteeDict\"][\"UniqueModelsInRashomonSet\"])"
   ]
  },
  {
   "cell_type": "code",
   "execution_count": 28,
   "metadata": {},
   "outputs": [
    {
     "data": {
      "text/plain": [
       "321"
      ]
     },
     "execution_count": 28,
     "metadata": {},
     "output_type": "execute_result"
    }
   ],
   "source": [
    "len(data[\"RashomonCommitteeDict\"][\"AllModelsInRashomonSet\"])"
   ]
  },
  {
   "cell_type": "code",
   "execution_count": 33,
   "metadata": {},
   "outputs": [],
   "source": [
    "AllErrorVec = pd.DataFrame(data[\"AllErrorVec\"])"
   ]
  },
  {
   "cell_type": "code",
   "execution_count": 39,
   "metadata": {},
   "outputs": [
    {
     "data": {
      "text/plain": [
       "0.1568627450980392"
      ]
     },
     "execution_count": 39,
     "metadata": {},
     "output_type": "execute_result"
    }
   ],
   "source": [
    "min(AllErrorVec.loc[16])"
   ]
  }
 ],
 "metadata": {
  "kernelspec": {
   "display_name": "Python 3",
   "language": "python",
   "name": "python3"
  },
  "language_info": {
   "codemirror_mode": {
    "name": "ipython",
    "version": 3
   },
   "file_extension": ".py",
   "mimetype": "text/x-python",
   "name": "python",
   "nbconvert_exporter": "python",
   "pygments_lexer": "ipython3",
   "version": "3.9.6"
  }
 },
 "nbformat": 4,
 "nbformat_minor": 2
}
