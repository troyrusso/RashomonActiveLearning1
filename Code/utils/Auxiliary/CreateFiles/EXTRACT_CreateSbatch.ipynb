{
 "cells": [
  {
   "cell_type": "code",
   "execution_count": 1,
   "metadata": {},
   "outputs": [],
   "source": [
    "### Import libraries ###\n",
    "import os\n",
    "import pickle\n",
    "import argparse\n",
    "import numpy as np\n",
    "import pandas as pd"
   ]
  },
  {
   "cell_type": "code",
   "execution_count": 2,
   "metadata": {},
   "outputs": [],
   "source": [
    "### Extract Error and Time Function ###\n",
    "def ExtractErrorAndTime(files):\n",
    "    ErrorVec = []\n",
    "    TimeVec = []\n",
    "    for file in files:\n",
    "        try:\n",
    "            with open(file, \"rb\") as f:\n",
    "                data = pickle.load(f)\n",
    "                ErrorVec.append(data[\"ErrorVec\"])\n",
    "                TimeVec.append(data[\"ElapsedTime\"])\n",
    "        except Exception as e:\n",
    "            print(f\"Error loading file {file}: {e}\")\n",
    "    return np.array(ErrorVec), np.array(TimeVec)"
   ]
  },
  {
   "cell_type": "code",
   "execution_count": 3,
   "metadata": {},
   "outputs": [
    {
     "name": "stdout",
     "output_type": "stream",
     "text": [
      "DataType: BostonHousing\n",
      "ModelType: TreeFarms\n",
      "Categories: MTTreeFarms_UEI0_NE100_Reg0.01_RBA0.01.pkl\n"
     ]
    }
   ],
   "source": [
    "# Simulate argparse args object\n",
    "class Args:\n",
    "    def __init__(self, DataType, ModelType, Categories):\n",
    "        self.DataType = DataType\n",
    "        self.ModelType = ModelType\n",
    "        self.Categories = Categories\n",
    "\n",
    "# Manually setting up args\n",
    "args = Args(\n",
    "    DataType=\"BostonHousing\",\n",
    "    ModelType=\"TreeFarms\",\n",
    "    Categories= \"MTTreeFarms_UEI0_NE100_Reg0.01_RBA0.01.pkl\"\n",
    ")\n",
    "\n",
    "# Parsing arguments\n",
    "data_type = args.DataType\n",
    "model_type = args.ModelType\n",
    "categories = args.Categories\n",
    "\n",
    "# Display arguments (for testing)\n",
    "print(\"DataType:\", data_type)\n",
    "print(\"ModelType:\", model_type)\n",
    "print(\"Categories:\", categories)\n",
    "\n",
    "# Add the main script logic below using `data_type`, `model_type`, and `categories`.\n"
   ]
  },
  {
   "cell_type": "code",
   "execution_count": 4,
   "metadata": {},
   "outputs": [
    {
     "data": {
      "text/plain": [
       "'MTTreeFarms_UEI0_NE100_Reg0.01_RBA0.01.pkl'"
      ]
     },
     "execution_count": 4,
     "metadata": {},
     "output_type": "execute_result"
    }
   ],
   "source": [
    "args.Categories"
   ]
  },
  {
   "cell_type": "code",
   "execution_count": 5,
   "metadata": {},
   "outputs": [],
   "source": [
    "### Set Up ###\n",
    "cwd = os.getcwd()\n",
    "ResultsDirectory = os.path.join(cwd, \"Results\", args.DataType, args.ModelType)\n",
    "OutputDirectory = os.path.join(ResultsDirectory, \"ProcessedResults\")\n",
    "# RawDirectory = os.path.join(ResultsDirectory, \"Raw\")\n",
    "RawDirectory = \"/Users/simondn/Documents/RashomonActiveLearning/Results/BostonHousing/TreeFarms/Raw\"\n",
    "Category = args.Categories\n"
   ]
  },
  {
   "cell_type": "code",
   "execution_count": 6,
   "metadata": {},
   "outputs": [],
   "source": [
    "### Extract File Names ###\n",
    "CategoryFileNames = []\n",
    "for filename in os.listdir(RawDirectory):\n",
    "    if filename.endswith(\".pkl\") and filename.endswith(Category):\n",
    "        CategoryFileNames.append(os.path.join(RawDirectory, filename))"
   ]
  },
  {
   "cell_type": "code",
   "execution_count": 7,
   "metadata": {},
   "outputs": [
    {
     "name": "stdout",
     "output_type": "stream",
     "text": [
      "Processing category: MTTreeFarms_UEI0_NE100_Reg0.01_RBA0.01.pkl with 3 files\n"
     ]
    }
   ],
   "source": [
    "# ### Extract Data ###\n",
    "if not CategoryFileNames:\n",
    "    print(f\"Warning: No files found for category {Category}. Exiting.\")\n",
    "    exit(1)\n",
    "print(f\"Processing category: {Category} with {len(CategoryFileNames)} files\")\n",
    "ErrorVec, TimeVec = ExtractErrorAndTime(CategoryFileNames)\n",
    "ErrorMatrix = pd.DataFrame(ErrorVec.squeeze())\n",
    "TimeMatrix = pd.DataFrame(TimeVec.squeeze())\n",
    "\n",
    "### Save ###\n",
    "# ErrorMatrix.to_csv(os.path.join(OutputDirectory, f\"{Category.replace('.pkl', '')}_ErrorMatrix.csv\"), index=False)\n",
    "# TimeMatrix.to_csv(os.path.join(OutputDirectory, f\"{Category.replace('.pkl', '')}_TimeMatrix.csv\"), index=False)"
   ]
  },
  {
   "cell_type": "code",
   "execution_count": 8,
   "metadata": {},
   "outputs": [
    {
     "data": {
      "text/plain": [
       "0                 0.078431\n",
       "1    [0.17647058823529416]\n",
       "2                 0.117647\n",
       "Name: 14, dtype: object"
      ]
     },
     "execution_count": 8,
     "metadata": {},
     "output_type": "execute_result"
    }
   ],
   "source": [
    "ErrorMatrix[14]"
   ]
  },
  {
   "cell_type": "code",
   "execution_count": 9,
   "metadata": {},
   "outputs": [],
   "source": [
    "Sim0 = \"/Users/simondn/Documents/RashomonActiveLearning/Results/BostonHousing/TreeFarms/Raw/Seed0_DataBostonHousing_TP0.2_CP0.8_STTreeEnsembleQBC_MTTreeFarms_UEI0_NE100_Reg0.01_RBA0.01.pkl\"\n",
    "Sim1 = \"/Users/simondn/Documents/RashomonActiveLearning/Results/BostonHousing/TreeFarms/Raw/Seed1_DataBostonHousing_TP0.2_CP0.8_STTreeEnsembleQBC_MTTreeFarms_UEI0_NE100_Reg0.01_RBA0.01.pkl\"\n",
    "Sim2 = \"/Users/simondn/Documents/RashomonActiveLearning/Results/BostonHousing/TreeFarms/Raw/Seed2_DataBostonHousing_TP0.2_CP0.8_STTreeEnsembleQBC_MTTreeFarms_UEI0_NE100_Reg0.01_RBA0.01.pkl\"\n"
   ]
  },
  {
   "cell_type": "code",
   "execution_count": 10,
   "metadata": {},
   "outputs": [],
   "source": [
    "with open(Sim1, \"rb\") as f:\n",
    "    data = pickle.load(f)\n",
    "    data1 = data[\"ErrorVec\"]\n"
   ]
  },
  {
   "cell_type": "code",
   "execution_count": 13,
   "metadata": {},
   "outputs": [
    {
     "data": {
      "text/html": [
       "<div>\n",
       "<style scoped>\n",
       "    .dataframe tbody tr th:only-of-type {\n",
       "        vertical-align: middle;\n",
       "    }\n",
       "\n",
       "    .dataframe tbody tr th {\n",
       "        vertical-align: top;\n",
       "    }\n",
       "\n",
       "    .dataframe thead th {\n",
       "        text-align: right;\n",
       "    }\n",
       "</style>\n",
       "<table border=\"1\" class=\"dataframe\">\n",
       "  <thead>\n",
       "    <tr style=\"text-align: right;\">\n",
       "      <th></th>\n",
       "      <th>Error</th>\n",
       "    </tr>\n",
       "  </thead>\n",
       "  <tbody>\n",
       "    <tr>\n",
       "      <th>0</th>\n",
       "      <td>0.156863</td>\n",
       "    </tr>\n",
       "    <tr>\n",
       "      <th>1</th>\n",
       "      <td>0.156863</td>\n",
       "    </tr>\n",
       "    <tr>\n",
       "      <th>2</th>\n",
       "      <td>0.156863</td>\n",
       "    </tr>\n",
       "    <tr>\n",
       "      <th>3</th>\n",
       "      <td>0.156863</td>\n",
       "    </tr>\n",
       "    <tr>\n",
       "      <th>4</th>\n",
       "      <td>0.156863</td>\n",
       "    </tr>\n",
       "    <tr>\n",
       "      <th>5</th>\n",
       "      <td>0.156863</td>\n",
       "    </tr>\n",
       "    <tr>\n",
       "      <th>6</th>\n",
       "      <td>0.156863</td>\n",
       "    </tr>\n",
       "    <tr>\n",
       "      <th>7</th>\n",
       "      <td>0.156863</td>\n",
       "    </tr>\n",
       "    <tr>\n",
       "      <th>8</th>\n",
       "      <td>0.156863</td>\n",
       "    </tr>\n",
       "    <tr>\n",
       "      <th>9</th>\n",
       "      <td>0.156863</td>\n",
       "    </tr>\n",
       "    <tr>\n",
       "      <th>10</th>\n",
       "      <td>0.156863</td>\n",
       "    </tr>\n",
       "    <tr>\n",
       "      <th>11</th>\n",
       "      <td>0.156863</td>\n",
       "    </tr>\n",
       "    <tr>\n",
       "      <th>12</th>\n",
       "      <td>0.156863</td>\n",
       "    </tr>\n",
       "    <tr>\n",
       "      <th>13</th>\n",
       "      <td>0.156863</td>\n",
       "    </tr>\n",
       "    <tr>\n",
       "      <th>14</th>\n",
       "      <td>[0.17647058823529416]</td>\n",
       "    </tr>\n",
       "    <tr>\n",
       "      <th>15</th>\n",
       "      <td>0.166667</td>\n",
       "    </tr>\n",
       "    <tr>\n",
       "      <th>16</th>\n",
       "      <td>[0.17647058823529416]</td>\n",
       "    </tr>\n",
       "    <tr>\n",
       "      <th>17</th>\n",
       "      <td>[0.17647058823529416]</td>\n",
       "    </tr>\n",
       "    <tr>\n",
       "      <th>18</th>\n",
       "      <td>0.156863</td>\n",
       "    </tr>\n",
       "    <tr>\n",
       "      <th>19</th>\n",
       "      <td>0.156863</td>\n",
       "    </tr>\n",
       "  </tbody>\n",
       "</table>\n",
       "</div>"
      ],
      "text/plain": [
       "                    Error\n",
       "0                0.156863\n",
       "1                0.156863\n",
       "2                0.156863\n",
       "3                0.156863\n",
       "4                0.156863\n",
       "5                0.156863\n",
       "6                0.156863\n",
       "7                0.156863\n",
       "8                0.156863\n",
       "9                0.156863\n",
       "10               0.156863\n",
       "11               0.156863\n",
       "12               0.156863\n",
       "13               0.156863\n",
       "14  [0.17647058823529416]\n",
       "15               0.166667\n",
       "16  [0.17647058823529416]\n",
       "17  [0.17647058823529416]\n",
       "18               0.156863\n",
       "19               0.156863"
      ]
     },
     "execution_count": 13,
     "metadata": {},
     "output_type": "execute_result"
    }
   ],
   "source": [
    "data1.head(20)"
   ]
  },
  {
   "cell_type": "code",
   "execution_count": 11,
   "metadata": {},
   "outputs": [
    {
     "data": {
      "text/plain": [
       "{'DataFileInput': 'BostonHousing',\n",
       " 'Seed': '1',\n",
       " 'TestProportion': '0.2',\n",
       " 'CandidateProportion': '0.8',\n",
       " 'SelectorType': 'TreeEnsembleQBCFunction',\n",
       " 'ModelType': 'TreeFarmsFunction',\n",
       " 'UniqueErrorsInput': '0',\n",
       " 'n_estimators': '100',\n",
       " 'regularization': '0.01',\n",
       " 'rashomon_bound_adder': '0.01',\n",
       " 'Type': 'Classification'}"
      ]
     },
     "execution_count": 11,
     "metadata": {},
     "output_type": "execute_result"
    }
   ],
   "source": [
    "data[\"SimulationParameters\"]"
   ]
  }
 ],
 "metadata": {
  "kernelspec": {
   "display_name": "Python 3",
   "language": "python",
   "name": "python3"
  },
  "language_info": {
   "codemirror_mode": {
    "name": "ipython",
    "version": 3
   },
   "file_extension": ".py",
   "mimetype": "text/x-python",
   "name": "python",
   "nbconvert_exporter": "python",
   "pygments_lexer": "ipython3",
   "version": "3.9.6"
  }
 },
 "nbformat": 4,
 "nbformat_minor": 2
}
