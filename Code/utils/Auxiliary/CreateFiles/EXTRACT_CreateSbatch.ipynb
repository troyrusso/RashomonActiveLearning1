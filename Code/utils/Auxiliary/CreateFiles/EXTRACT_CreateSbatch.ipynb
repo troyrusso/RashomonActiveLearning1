{
 "cells": [
  {
   "cell_type": "code",
   "execution_count": 28,
   "metadata": {},
   "outputs": [],
   "source": [
    "### Import libraries ###\n",
    "import os\n",
    "import pickle\n",
    "import argparse\n",
    "import numpy as np\n",
    "import pandas as pd"
   ]
  },
  {
   "cell_type": "markdown",
   "metadata": {},
   "source": [
    "# Arguments "
   ]
  },
  {
   "cell_type": "code",
   "execution_count": 29,
   "metadata": {},
   "outputs": [
    {
     "name": "stdout",
     "output_type": "stream",
     "text": [
      "DataType: BostonHousing\n",
      "ModelType: TreeFarms\n",
      "Categories: DPL0.01.pkl\n"
     ]
    }
   ],
   "source": [
    "# Create a Namespace object to mimic argparse behavior\n",
    "args = argparse.Namespace()\n",
    "\n",
    "# Manually assign values\n",
    "args.DataType = \"BostonHousing\"  # Replace with the actual value if known\n",
    "args.ModelType = \"TreeFarms\"\n",
    "args.Categories = \"DPL0.01.pkl\"\n",
    "\n",
    "# Use the args object\n",
    "print(f\"DataType: {args.DataType}\")\n",
    "print(f\"ModelType: {args.ModelType}\")\n",
    "print(f\"Categories: {args.Categories}\")"
   ]
  },
  {
   "cell_type": "markdown",
   "metadata": {},
   "source": [
    "# Define Function"
   ]
  },
  {
   "cell_type": "code",
   "execution_count": 30,
   "metadata": {},
   "outputs": [],
   "source": [
    "### Extract Error and Time Function ###\n",
    "def ExtractInformation(files):\n",
    "\n",
    "    ### Set Up ###\n",
    "    ErrorVec = []\n",
    "    TimeVec = []\n",
    "    SelectionHistoryVec = []\n",
    "    AllTreeCountVec = []\n",
    "    UniqueTreeCounttVec = []\n",
    "    for file in files:\n",
    "        try:\n",
    "            with open(file, \"rb\") as f:\n",
    "                data = pickle.load(f)\n",
    "                ErrorVec.append(data[\"ErrorVec\"])\n",
    "                TimeVec.append(data[\"ElapsedTime\"])\n",
    "                SelectionHistoryVec.append(data[\"SelectionHistory\"])\n",
    "                AllTreeCountVec.append(data[\"TreeCount\"][\"AllTreeCount\"])\n",
    "                UniqueTreeCounttVec.append(data[\"TreeCount\"][\"UniqueTreeCount\"])\n",
    "        except Exception as e:\n",
    "            print(f\"Error loading file {file}: {e}\")\n",
    "    return np.array(ErrorVec), np.array(TimeVec), np.array(SelectionHistoryVec), np.array(AllTreeCountVec), np.array(UniqueTreeCounttVec)"
   ]
  },
  {
   "cell_type": "markdown",
   "metadata": {},
   "source": [
    "# Extract Data"
   ]
  },
  {
   "cell_type": "code",
   "execution_count": 31,
   "metadata": {},
   "outputs": [],
   "source": [
    "### Set Up ###\n",
    "cwd = '/Users/simondn/Documents/RashomonActiveLearning/'\n",
    "ResultsDirectory = os.path.join(cwd, \"Results\", args.DataType, args.ModelType)\n",
    "OutputDirectory = os.path.join(ResultsDirectory, \"ProcessedResults\")\n",
    "RawDirectory = os.path.join(ResultsDirectory, \"Raw\")\n",
    "Category = args.Categories"
   ]
  },
  {
   "cell_type": "code",
   "execution_count": 32,
   "metadata": {},
   "outputs": [],
   "source": [
    "### Extract File Names ###\n",
    "CategoryFileNames = []\n",
    "for filename in os.listdir(RawDirectory):\n",
    "    if filename.endswith(\".pkl\") and filename.endswith(Category):\n",
    "        CategoryFileNames.append(os.path.join(RawDirectory, filename))"
   ]
  },
  {
   "cell_type": "code",
   "execution_count": 33,
   "metadata": {},
   "outputs": [
    {
     "name": "stdout",
     "output_type": "stream",
     "text": [
      "Processing category: DPL0.01.pkl with 84 files\n"
     ]
    }
   ],
   "source": [
    "### Extract Data ###\n",
    "if not CategoryFileNames:\n",
    "    print(f\"Warning: No files found for category {Category}. Exiting.\")\n",
    "    exit(1)\n",
    "print(f\"Processing category: {Category} with {len(CategoryFileNames)} files\")\n",
    "ErrorVec, TimeVec, SelectionHistoryVec, AllTreeCountVec, UniqueTreeCounttVec = ExtractInformation(CategoryFileNames)\n",
    "ErrorMatrix = pd.DataFrame(ErrorVec.squeeze())\n",
    "TimeMatrix = pd.DataFrame(TimeVec.squeeze())\n",
    "SelectionHistoryVec = pd.DataFrame(SelectionHistoryVec.squeeze())\n",
    "AllTreeCountVec = pd.DataFrame(AllTreeCountVec.squeeze())\n",
    "UniqueTreeCounttVec = pd.DataFrame(UniqueTreeCounttVec.squeeze())\n"
   ]
  },
  {
   "cell_type": "code",
   "execution_count": 34,
   "metadata": {},
   "outputs": [],
   "source": [
    "\n",
    "### Save ###\n",
    "ErrorMatrix.to_csv(os.path.join(OutputDirectory, \"ErrorVec\", f\"{Category.replace('.pkl', '')}_ErrorMatrix.csv\"), index=False)\n",
    "TimeMatrix.to_csv(os.path.join(OutputDirectory, \"ElapsedTime\", f\"{Category.replace('.pkl', '')}_TimeMatrix.csv\"), index=False)\n",
    "AllTreeCountVec.to_csv(os.path.join(OutputDirectory, \"TreeCount\", f\"{Category.replace('.pkl', '')}_AllTreeCount.csv\"), index=False)\n",
    "UniqueTreeCounttVec.to_csv(os.path.join(OutputDirectory, \"TreeCount\", f\"{Category.replace('.pkl', '')}_UniqueTreeCount.csv\"), index=False)\n",
    "SelectionHistoryVec.to_csv(os.path.join(OutputDirectory, \"SelectionHistory\", f\"{Category.replace('.pkl', '')}_SelectionHistory.csv\"), index=False)\n"
   ]
  }
 ],
 "metadata": {
  "kernelspec": {
   "display_name": "Python 3",
   "language": "python",
   "name": "python3"
  },
  "language_info": {
   "codemirror_mode": {
    "name": "ipython",
    "version": 3
   },
   "file_extension": ".py",
   "mimetype": "text/x-python",
   "name": "python",
   "nbconvert_exporter": "python",
   "pygments_lexer": "ipython3",
   "version": "3.9.6"
  }
 },
 "nbformat": 4,
 "nbformat_minor": 2
}
