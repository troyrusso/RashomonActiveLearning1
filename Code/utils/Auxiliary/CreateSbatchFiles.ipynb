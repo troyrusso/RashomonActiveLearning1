{
 "cells": [
  {
   "cell_type": "code",
   "execution_count": 9,
   "metadata": {},
   "outputs": [],
   "source": [
    "### Import packages ###\n",
    "import os\n",
    "import numpy as np\n",
    "import pandas as pd"
   ]
  },
  {
   "cell_type": "code",
   "execution_count": 10,
   "metadata": {},
   "outputs": [],
   "source": [
    "### Directory ###\n",
    "cwd = os.getcwd()\n",
    "ParentDirectory = os.path.abspath(os.path.join(cwd, \"../../..\"))\n",
    "TargetDirectory = os.path.join(ParentDirectory,\"Code\", \"Cluster\", \"Simulations\")\n",
    "\n",
    "### Open Parameter Vector ###\n",
    "ParameterVector = pd.read_csv(os.path.join(ParentDirectory, \"Data\", \"raw\", \"ParameterVectorSimulations.csv\"))"
   ]
  },
  {
   "cell_type": "code",
   "execution_count": null,
   "metadata": {},
   "outputs": [
    {
     "ename": "AttributeError",
     "evalue": "'_io.TextIOWrapper' object has no attribute 'replace'",
     "output_type": "error",
     "traceback": [
      "\u001b[0;31m---------------------------------------------------------------------------\u001b[0m",
      "\u001b[0;31mAttributeError\u001b[0m                            Traceback (most recent call last)",
      "Cell \u001b[0;32mIn[11], line 51\u001b[0m\n\u001b[1;32m     49\u001b[0m     os\u001b[38;5;241m.\u001b[39mmakedirs(os\u001b[38;5;241m.\u001b[39mpath\u001b[38;5;241m.\u001b[39mdirname(sbatch_file_path), exist_ok\u001b[38;5;241m=\u001b[39m\u001b[38;5;28;01mTrue\u001b[39;00m)  \u001b[38;5;66;03m# Ensure directory exists\u001b[39;00m\n\u001b[1;32m     50\u001b[0m     \u001b[38;5;28;01mwith\u001b[39;00m \u001b[38;5;28mopen\u001b[39m(sbatch_file_path, \u001b[38;5;124m\"\u001b[39m\u001b[38;5;124mw\u001b[39m\u001b[38;5;124m\"\u001b[39m) \u001b[38;5;28;01mas\u001b[39;00m sbatch_file:\n\u001b[0;32m---> 51\u001b[0m         sbatch_file \u001b[38;5;241m=\u001b[39m \u001b[43msbatch_file\u001b[49m\u001b[38;5;241;43m.\u001b[39;49m\u001b[43mreplace\u001b[49m(\u001b[38;5;124m\"\u001b[39m\u001b[38;5;124m'\u001b[39m\u001b[38;5;124m\"\u001b[39m, \u001b[38;5;124m\"\u001b[39m\u001b[38;5;124m\"\u001b[39m)\u001b[38;5;241m.\u001b[39mreplace(\u001b[38;5;124m'\u001b[39m\u001b[38;5;124m\"\u001b[39m\u001b[38;5;124m'\u001b[39m, \u001b[38;5;124m\"\u001b[39m\u001b[38;5;124m\"\u001b[39m)\n\u001b[1;32m     52\u001b[0m         sbatch_file\u001b[38;5;241m.\u001b[39mwrite(\u001b[38;5;124m\"\u001b[39m\u001b[38;5;130;01m\\n\u001b[39;00m\u001b[38;5;124m\"\u001b[39m\u001b[38;5;241m.\u001b[39mjoin(sbatch_content))\n\u001b[1;32m     54\u001b[0m \u001b[38;5;28mprint\u001b[39m(\u001b[38;5;124m\"\u001b[39m\u001b[38;5;124mSbatch files generated successfully.\u001b[39m\u001b[38;5;124m\"\u001b[39m)\n",
      "\u001b[0;31mAttributeError\u001b[0m: '_io.TextIOWrapper' object has no attribute 'replace'"
     ]
    }
   ],
   "source": [
    "\n",
    "# Loop through each row in the DataFrame\n",
    "for i, row in ParameterVector.iterrows():\n",
    "    # Extract parameters for the current row\n",
    "    JobName = row[\"JobName\"]\n",
    "    Seed = row[\"Seed\"]\n",
    "    Data = row[\"Data\"]\n",
    "    TestProportion = row[\"TestProportion\"]\n",
    "    CandidateProportion = row[\"CandidateProportion\"]\n",
    "    SelectorType = row[\"SelectorType\"]\n",
    "    ModelType = row[\"ModelType\"]\n",
    "    DataArgs = row[\"DataArgs\"]\n",
    "    SelectorArgs = row[\"SelectorArgs\"]\n",
    "    ModelArgs = row[\"ModelArgs\"]\n",
    "    Output = row[\"Output\"]\n",
    "    \n",
    "    # Define the path for the .sbatch file\n",
    "    sbatch_file_path = os.path.join(TargetDirectory, f\"{JobName}.sbatch\")\n",
    "    \n",
    "    # Create the .sbatch file content\n",
    "    sbatch_content = [\n",
    "        \"#!/bin/bash\",\n",
    "        f\"#SBATCH --job-name={JobName}\",\n",
    "        \"#SBATCH --partition=short\",\n",
    "        \"#SBATCH --ntasks=1\",\n",
    "        \"#SBATCH --time=11:59:00\",\n",
    "        \"#SBATCH --mem-per-cpu=30000\",\n",
    "        f\"#SBATCH -o ClusterMessages/out/myscript_{JobName}_%j.out\",\n",
    "        f\"#SBATCH -e ClusterMessages/error/myscript_{JobName}_%j.err\",\n",
    "        \"#SBATCH --mail-type=ALL\",\n",
    "        \"#SBATCH --mail-user=simondn@uw.edu\",\n",
    "        \"\",\n",
    "        \"cd ~/RashomonActiveLearning/Code\",\n",
    "        \"module load Python\",\n",
    "        \"python RunSimulation.py \\\\\",\n",
    "        f\"    --JobName \" + JobName +\" \\\\\",\n",
    "        f\"    --Seed {Seed} \\\\\",\n",
    "        f\"    --Data {Data} \\\\\",\n",
    "        f\"    --TestProportion {TestProportion} \\\\\",\n",
    "        f\"    --CandidateProportion {CandidateProportion} \\\\\",\n",
    "        f\"    --SelectorType {SelectorType} \\\\\",\n",
    "        f\"    --ModelType {ModelType} \\\\\",\n",
    "        f\"    --DataArgs {DataArgs} \\\\\",\n",
    "        f\"    --SelectorArgs {SelectorArgs} \\\\\",\n",
    "        f\"    --ModelArgs {ModelArgs} \\\\\",\n",
    "        f\"    --Output {Output}\"\n",
    "    ]\n",
    "\n",
    "    # Write content to .sbatch file\n",
    "    os.makedirs(os.path.dirname(sbatch_file_path), exist_ok=True)  # Ensure directory exists\n",
    "    with open(sbatch_file_path, \"w\") as sbatch_file:\n",
    "        sbatch_file.write(\"\\n\".join(sbatch_content))\n",
    "\n",
    "print(\"Sbatch files generated successfully.\")\n"
   ]
  },
  {
   "cell_type": "code",
   "execution_count": 12,
   "metadata": {},
   "outputs": [
    {
     "data": {
      "text/plain": [
       "\"/Users/simondn/Documents/RashomonActiveLearning/Code/Cluster/Simulations/Seed0_DataSimulate_TP0.2_CP0.8_STPassiveLearning_MTLinearRegression_'N'1000,'K'5_'alpha_val'0.1.sbatch\""
      ]
     },
     "execution_count": 12,
     "metadata": {},
     "output_type": "execute_result"
    }
   ],
   "source": [
    "sbatch_file_path"
   ]
  }
 ],
 "metadata": {
  "kernelspec": {
   "display_name": "Python 3",
   "language": "python",
   "name": "python3"
  },
  "language_info": {
   "codemirror_mode": {
    "name": "ipython",
    "version": 3
   },
   "file_extension": ".py",
   "mimetype": "text/x-python",
   "name": "python",
   "nbconvert_exporter": "python",
   "pygments_lexer": "ipython3",
   "version": "3.9.6"
  }
 },
 "nbformat": 4,
 "nbformat_minor": 2
}
