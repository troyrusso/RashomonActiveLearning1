{
 "cells": [
  {
   "cell_type": "code",
   "execution_count": 9,
   "metadata": {},
   "outputs": [],
   "source": [
    "### Import packages ###\n",
    "import os\n",
    "import numpy as np\n",
    "import pandas as pd"
   ]
  },
  {
   "cell_type": "code",
   "execution_count": 10,
   "metadata": {},
   "outputs": [],
   "source": [
    "### Directory ###\n",
    "cwd = os.getcwd()\n",
    "ParentDirectory = os.path.abspath(os.path.join(cwd, \"../../..\"))\n",
    "TargetDirectory = os.path.join(ParentDirectory,\"Code\", \"Cluster\", \"Simulations\")\n",
    "\n",
    "### Open Parameter Vector ###\n",
    "ParameterVector = pd.read_csv(os.path.join(ParentDirectory, \"Data\", \"raw\", \"ParameterVectorSimulations.csv\"))"
   ]
  },
  {
   "cell_type": "code",
   "execution_count": 11,
   "metadata": {},
   "outputs": [
    {
     "name": "stdout",
     "output_type": "stream",
     "text": [
      "Sbatch files generated successfully.\n"
     ]
    }
   ],
   "source": [
    "# Loop through each row in the DataFrame\n",
    "for i, row in ParameterVector.iterrows():\n",
    "    # Extract parameters for the current row\n",
    "    JobName = row[\"JobName\"]\n",
    "    Seed = row[\"Seed\"]\n",
    "    Data = row[\"Data\"]\n",
    "    TestProportion = row[\"TestProportion\"]\n",
    "    CandidateProportion = row[\"CandidateProportion\"]\n",
    "    SelectorType = row[\"SelectorType\"]\n",
    "    ModelType = row[\"ModelType\"]\n",
    "    DataArgs = row[\"DataArgs\"]\n",
    "    SelectorArgs = row[\"SelectorArgs\"]\n",
    "    ModelArgs = row[\"ModelArgs\"]\n",
    "    Output = row[\"Output\"]\n",
    "    \n",
    "    # Define the path for the .sbatch file\n",
    "    sbatch_file_path = os.path.join(TargetDirectory, f\"{JobName}.sbatch\")\n",
    "    \n",
    "    # Create the .sbatch file content\n",
    "    sbatch_content = [\n",
    "        \"#!/bin/bash\",\n",
    "        f\"#SBATCH --job-name={JobName}\",\n",
    "        \"#SBATCH --partition=short\",\n",
    "        \"#SBATCH --ntasks=1\",\n",
    "        \"#SBATCH --time=11:59:00\",\n",
    "        \"#SBATCH --mem-per-cpu=30000\",\n",
    "        f\"#SBATCH -o ClusterMessages/out/myscript_{JobName}_%j.out\",\n",
    "        f\"#SBATCH -e ClusterMessages/error/myscript_{JobName}_%j.err\",\n",
    "        \"#SBATCH --mail-type=ALL\",\n",
    "        \"#SBATCH --mail-user=simondn@uw.edu\",\n",
    "        \"\",\n",
    "        \"cd ~/RashomonActiveLearning/Code\",\n",
    "        \"module load Python\",\n",
    "        \"python RunSimulation.py \\\\\",\n",
    "        f\"    --JobName \" + JobName +\" \\\\\",\n",
    "        f\"    --Seed {Seed} \\\\\",\n",
    "        f\"    --Data {Data} \\\\\",\n",
    "        f\"    --TestProportion {TestProportion} \\\\\",\n",
    "        f\"    --CandidateProportion {CandidateProportion} \\\\\",\n",
    "        f\"    --SelectorType {SelectorType} \\\\\",\n",
    "        f\"    --ModelType {ModelType} \\\\\",\n",
    "        f\"    --DataArgs {DataArgs} \\\\\",\n",
    "        f\"    --SelectorArgs {SelectorArgs} \\\\\",\n",
    "        f\"    --ModelArgs {ModelArgs} \\\\\",\n",
    "        f\"    --Output {Output}\"\n",
    "    ]\n",
    "\n",
    "    # Write content to .sbatch file\n",
    "    os.makedirs(os.path.dirname(sbatch_file_path), exist_ok=True)  # Ensure directory exists\n",
    "    with open(sbatch_file_path, \"w\") as sbatch_file:\n",
    "        sbatch_file.write(\"\\n\".join(sbatch_content))\n",
    "\n",
    "print(\"Sbatch files generated successfully.\")\n"
   ]
  },
  {
   "cell_type": "code",
   "execution_count": 12,
   "metadata": {},
   "outputs": [
    {
     "data": {
      "text/plain": [
       "'/Users/simondn/Documents/RashomonActiveLearning/Code/Cluster/Simulations/Seed99_DataSimulate_TP0.2_CP0.8_STiGS_MTRidgeRegression.sbatch'"
      ]
     },
     "execution_count": 12,
     "metadata": {},
     "output_type": "execute_result"
    }
   ],
   "source": [
    "sbatch_file_path"
   ]
  }
 ],
 "metadata": {
  "kernelspec": {
   "display_name": "Python 3",
   "language": "python",
   "name": "python3"
  },
  "language_info": {
   "codemirror_mode": {
    "name": "ipython",
    "version": 3
   },
   "file_extension": ".py",
   "mimetype": "text/x-python",
   "name": "python",
   "nbconvert_exporter": "python",
   "pygments_lexer": "ipython3",
   "version": "3.9.6"
  }
 },
 "nbformat": 4,
 "nbformat_minor": 2
}
