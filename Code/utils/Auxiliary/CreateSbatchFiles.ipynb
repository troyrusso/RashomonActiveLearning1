{
 "cells": [
  {
   "cell_type": "code",
   "execution_count": 5,
   "metadata": {},
   "outputs": [],
   "source": [
    "### Import packages ###\n",
    "import os\n",
    "import numpy as np\n",
    "import pandas as pd"
   ]
  },
  {
   "cell_type": "code",
   "execution_count": 6,
   "metadata": {},
   "outputs": [],
   "source": [
    "### Directory ###\n",
    "cwd = os.getcwd()\n",
    "ParentDirectory = os.path.abspath(os.path.join(cwd, \"../../..\"))\n",
    "TargetDirectory = os.path.join(ParentDirectory,\"Code\", \"Cluster\", \"Simulations\")\n",
    "\n",
    "### Open Parameter Vector ###\n",
    "ParameterVector = pd.read_csv(os.path.join(ParentDirectory, \"Data\", \"raw\", \"ParameterVectorSimulations.csv\"))"
   ]
  },
  {
   "cell_type": "code",
   "execution_count": 7,
   "metadata": {},
   "outputs": [
    {
     "name": "stdout",
     "output_type": "stream",
     "text": [
      "Sbatch files generated successfully.\n"
     ]
    }
   ],
   "source": [
    "# Loop through each row in the DataFrame\n",
    "for i, row in ParameterVector.iterrows():\n",
    "    # Extract parameters for the current row\n",
    "    JobName = row[\"JobName\"]\n",
    "    Seed = row[\"Seed\"]\n",
    "    Data = row[\"Data\"]\n",
    "    TestProportion = row[\"TestProportion\"]\n",
    "    CandidateProportion = row[\"CandidateProportion\"]\n",
    "    SelectorType = row[\"SelectorType\"]\n",
    "    ModelType = row[\"ModelType\"]\n",
    "    DataArgs = row[\"DataArgs\"]\n",
    "    SelectorArgs = row[\"SelectorArgs\"]\n",
    "    ModelArgs = row[\"ModelArgs\"]\n",
    "    Output = row[\"Output\"]\n",
    "    \n",
    "    # Define the path for the .sbatch file\n",
    "    sbatch_file_path = os.path.join(TargetDirectory, f\"{JobName}.sbatch\")\n",
    "    \n",
    "    # Create the .sbatch file content\n",
    "    sbatch_content = [\n",
    "        \"#!/bin/bash\",\n",
    "        f\"#SBATCH --job-name={JobName}\",\n",
    "        \"#SBATCH --partition=short\",\n",
    "        \"#SBATCH --ntasks=1\",\n",
    "        \"#SBATCH --time=11:59:00\",\n",
    "        \"#SBATCH --mem-per-cpu=30000\",\n",
    "        f\"#SBATCH -o ClusterMessages/out/myscript_{JobName}_%j.out\",\n",
    "        f\"#SBATCH -e ClusterMessages/error/myscript_{JobName}_%j.err\",\n",
    "        \"#SBATCH --mail-type=ALL\",\n",
    "        \"#SBATCH --mail-user=simondn@uw.edu\",\n",
    "        \"\",\n",
    "        \"cd ~/RashomonActiveLearning\",\n",
    "        \"module load Python\",\n",
    "        \"python Code/RunSimulation.py \\\\\",\n",
    "        f\"    --JobName \" + JobName +\" \\\\\",\n",
    "        f\"    --Seed {Seed} \\\\\",\n",
    "        f\"    --Data {Data} \\\\\",\n",
    "        f\"    --TestProportion {TestProportion} \\\\\",\n",
    "        f\"    --CandidateProportion {CandidateProportion} \\\\\",\n",
    "        f\"    --SelectorType {SelectorType} \\\\\",\n",
    "        f\"    --ModelType {ModelType} \\\\\",\n",
    "        f\"    --DataArgs {DataArgs} \\\\\",\n",
    "        f\"    --SelectorArgs {SelectorArgs} \\\\\",\n",
    "        f\"    --ModelArgs {ModelArgs} \\\\\",\n",
    "        f\"    --Output {Output}\"\n",
    "    ]\n",
    "\n",
    "    # Write content to .sbatch file\n",
    "    os.makedirs(os.path.dirname(sbatch_file_path), exist_ok=True)  # Ensure directory exists\n",
    "    with open(sbatch_file_path, \"w\") as sbatch_file:\n",
    "        sbatch_file.write(\"\\n\".join(sbatch_content))\n",
    "\n",
    "print(\"Sbatch files generated successfully.\")\n"
   ]
  },
  {
   "cell_type": "code",
   "execution_count": 4,
   "metadata": {},
   "outputs": [],
   "source": [
    "import pickle\n",
    "\n",
    "# Open the file in read-binary mode\n",
    "with open(\"/Users/simondn/Documents/RashomonActiveLearning/Results/Seed14_DataSimulate_TP0.2_CP0.8_STiGS_MTRandomForestRegressor.pkl\", \"rb\") as file:\n",
    "    df = pickle.load(file)\n"
   ]
  },
  {
   "cell_type": "code",
   "execution_count": 11,
   "metadata": {},
   "outputs": [],
   "source": [
    "import numpy as np\n",
    "import pandas as pd"
   ]
  },
  {
   "cell_type": "code",
   "execution_count": 15,
   "metadata": {},
   "outputs": [
    {
     "data": {
      "text/plain": [
       "{'DataFileInput': 'Simulate',\n",
       " 'Seed': '14',\n",
       " 'TestProportion': '0.2',\n",
       " 'CandidateProportion': '0.8',\n",
       " 'SelectorType': '<function iGSFunction at 0x7f244bfee020>',\n",
       " 'ModelType': '<function LinearRegressionFunction at 0x7f244bfee5c0>',\n",
       " 'DataArgs': \"{'N': 1000, 'K': 5}\",\n",
       " 'SelectorArgs': \"{'df_Candidate':             Y        X1        X2        X3        X4        X5\\n190 -2.672417  0.315955  0.536081  0.700329  0.507978  0.697347\\n692 -0.108694  0.671742  0.920083  0.004231  0.532617  0.369186\\n659  0.690482  0.979350  0.450078  0.974579  0.630690  0.612384\\n564  1.046877  0.051091  0.426775  0.961120  0.352643  0.133231\\n856 -0.249669  0.655063  0.963146  0.110788  0.266243  0.003216\\n..        ...       ...       ...       ...       ...       ...\\n960 -3.488292  0.088270  0.268384  0.731328  0.814591  0.442803\\n587  1.028138  0.072046  0.631174  0.458126  0.855897  0.706635\\n925 -0.370125  0.520122  0.541692  0.411592  0.836630  0.837720\\n180 -2.621933  0.186245  0.452627  0.603598  0.239082  0.572431\\n413 -0.290827  0.660535  0.631635  0.847396  0.143105  0.836543\\n\\n[640 rows x 6 columns], 'df_Train':             Y        X1        X2        X3        X4        X5\\n820  0.790928  0.640122  0.812412  0.289265  0.856409  0.457684\\n955  1.818746  0.430954  0.751220  0.077432  0.965642  0.937464\\n548  1.840013  0.869599  0.511281  0.897457  0.534537  0.861876\\n759  2.333846  0.943132  0.072726  0.784134  0.003504  0.997678\\n92  -0.582167  0.581597  0.919126  0.286228  0.209147  0.520487\\n..        ...       ...       ...       ...       ...       ...\\n861  2.480889  0.354127  0.971033  0.099392  0.055928  0.597596\\n278 -1.229206  0.723824  0.363367  0.758411  0.514053  0.113815\\n163 -0.923388  0.519169  0.826505  0.450755  0.428871  0.407104\\n700 -0.171483  0.135244  0.381818  0.302802  0.822061  0.513932\\n12   1.116692  0.620944  0.621070  0.150173  0.538275  0.120347\\n\\n[200 rows x 6 columns], 'Model': <function LinearRegressionFunction at 0x7f244bfee5c0>}\",\n",
       " 'ModelArgs': \"{'alpha_val': 0.1, 'n_estimators': 100, 'Seed': 1, 'df_Train':             Y        X1        X2        X3        X4        X5\\n970 -1.635051  0.521826  0.536832  0.446351  0.720005  0.739167\\n1    0.343121  0.957604  0.513117  0.318284  0.539200  0.221255\\n544 -0.508473  0.516902  0.577662  0.029736  0.149303  0.495775\\n525  1.699535  0.372935  0.006228  0.152175  0.826269  0.956453\\n584 -2.753354  0.958379  0.315024  0.256278  0.269573  0.645146\\n..        ...       ...       ...       ...       ...       ...\\n235 -0.662967  0.273870  0.805461  0.794397  0.243281  0.636189\\n211 -1.277066  0.507614  0.756859  0.452883  0.234644  0.122777\\n626  0.091663  0.850078  0.714875  0.212169  0.708556  0.013095\\n867 -0.986067  0.355477  0.291391  0.636648  0.991231  0.781565\\n959 -1.160912  0.396419  0.231736  0.464400  0.758478  0.153996\\n\\n[160 rows x 6 columns]}\"}"
      ]
     },
     "execution_count": 15,
     "metadata": {},
     "output_type": "execute_result"
    }
   ],
   "source": [
    "df[\"SimulationParameters\"]"
   ]
  }
 ],
 "metadata": {
  "kernelspec": {
   "display_name": "Python 3",
   "language": "python",
   "name": "python3"
  },
  "language_info": {
   "codemirror_mode": {
    "name": "ipython",
    "version": 3
   },
   "file_extension": ".py",
   "mimetype": "text/x-python",
   "name": "python",
   "nbconvert_exporter": "python",
   "pygments_lexer": "ipython3",
   "version": "3.9.6"
  }
 },
 "nbformat": 4,
 "nbformat_minor": 2
}
