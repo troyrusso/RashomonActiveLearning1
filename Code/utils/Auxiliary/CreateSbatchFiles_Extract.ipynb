{
 "cells": [
  {
   "cell_type": "markdown",
   "metadata": {},
   "source": [
    "# Set Up"
   ]
  },
  {
   "cell_type": "code",
   "execution_count": null,
   "metadata": {},
   "outputs": [],
   "source": [
    "### Import packages ###\n",
    "import os\n",
    "import itertools\n",
    "import numpy as np\n",
    "import pandas as pd\n",
    "\n",
    "### Directory ###\n",
    "cwd = os.getcwd()\n",
    "ParentDirectory = os.path.abspath(os.path.join(cwd, \"../../..\"))"
   ]
  },
  {
   "cell_type": "markdown",
   "metadata": {},
   "source": [
    "# Parameter Vector"
   ]
  },
  {
   "cell_type": "code",
   "execution_count": null,
   "metadata": {},
   "outputs": [],
   "source": [
    "# Define parameters\n",
    "DataType =[\"Simulate\"]\n",
    "SelectorType = [\"PassiveLearning\", \"GSxFunction\", \"GSyFunction\", \"iGSFunction\"]\n",
    "ModelType = [\"LinearRegression\", \"RidgeRegression\", \"RandomForestRegressor\"]\n",
    "\n",
    "### Combinations ###\n",
    "Combinations = list(itertools.product(DataType, SelectorType, ModelType))\n",
    "\n",
    "### Data Frame ###\n",
    "ParameterVector = pd.DataFrame(Combinations, columns = [\"DataType\", \"SelectorType\", \"ModelType\"])\n",
    "\n",
    "### Job Name ###\n",
    "ParameterVector[\"JobName\"] = (\"ExtractResults_\" + \n",
    "                              \"Data\" + ParameterVector[\"DataType\"].astype(str) +\n",
    "                              \"_ST\" + ParameterVector[\"SelectorType\"].astype(str) +\n",
    "                              \"_MT\" + ParameterVector[\"ModelType\"].astype(str)\n",
    "                              )\n",
    "\n",
    "# ParameterVector[\"ResultsDirectory\"] = os.path.join(ParentDirectory, \n",
    "#                                                    \"Results\", \n",
    "#                                                    ParameterVector[\"DataType\"],\n",
    "#                                                    ParameterVector[\"ModelType\"],\n",
    "#                                                    \"ProcessedResults\")\n",
    "# ResultsDirectory = os.path.join(ParentDirectory,\"Results\", \"Cluster\", \"Simulations\", \"ExtractResults\")\n"
   ]
  },
  {
   "cell_type": "markdown",
   "metadata": {},
   "source": [
    "# Create Sbatch file"
   ]
  },
  {
   "cell_type": "code",
   "execution_count": 4,
   "metadata": {},
   "outputs": [
    {
     "name": "stdout",
     "output_type": "stream",
     "text": [
      "Sbatch files for extraction generated successfully.\n"
     ]
    }
   ],
   "source": [
    "\n",
    "# Loop through each row in the DataFrame\n",
    "for i, row in ParameterVector.iterrows():\n",
    "    # Extract parameters for the current row\n",
    "    JobName = row[\"JobName\"]\n",
    "    DataType = row[\"DataType\"]\n",
    "    SelectorType = row[\"SelectorType\"]\n",
    "    ModelType = row[\"ModelType\"]\n",
    "    \n",
    "    # Define the path for the .sbatch file\n",
    "    sbatch_file_path = os.path.join(ResultsDirectory, f\"{JobName}_extract.sbatch\")\n",
    "    \n",
    "    # Create the .sbatch file content\n",
    "    sbatch_content = [\n",
    "        \"#!/bin/bash\",\n",
    "        f\"#SBATCH --job-name={JobName}_extract\",\n",
    "        \"#SBATCH --partition=short\",\n",
    "        \"#SBATCH --ntasks=1\",\n",
    "        \"#SBATCH --time=11:59:00\",\n",
    "        \"#SBATCH --mem-per-cpu=30000\",\n",
    "        f\"#SBATCH -o ClusterMessages/out/extract_{JobName}_%j.out\",\n",
    "        f\"#SBATCH -e ClusterMessages/error/extract_{JobName}_%j.err\",\n",
    "        \"#SBATCH --mail-type=ALL\",\n",
    "        \"#SBATCH --mail-user=simondn@uw.edu\",\n",
    "        \"\",\n",
    "        \"cd ~/RashomonActiveLearning\",\n",
    "        \"module load Python\",\n",
    "        \"python Code/utils/Auxiliary/ExtractError.py \\\\\",\n",
    "        f\"    --ResultsDirectory {ResultsDirectory} \\\\\",\n",
    "        f\"    --DataType {DataType} \\\\\",\n",
    "        f\"    --SelectorType {SelectorType} \\\\\",\n",
    "        f\"    --ModelType {ModelType} \\\\\"\n",
    "    ]\n",
    "    \n",
    "    # Ensure directory exists for SBATCH file\n",
    "    os.makedirs(os.path.dirname(sbatch_file_path), exist_ok=True)\n",
    "    \n",
    "    # Write content to .sbatch file\n",
    "    with open(sbatch_file_path, \"w\") as sbatch_file:\n",
    "        sbatch_file.write(\"\\n\".join(sbatch_content))\n",
    "\n",
    "print(\"Sbatch files for extraction generated successfully.\")\n"
   ]
  }
 ],
 "metadata": {
  "kernelspec": {
   "display_name": "Python 3",
   "language": "python",
   "name": "python3"
  },
  "language_info": {
   "codemirror_mode": {
    "name": "ipython",
    "version": 3
   },
   "file_extension": ".py",
   "mimetype": "text/x-python",
   "name": "python",
   "nbconvert_exporter": "python",
   "pygments_lexer": "ipython3",
   "version": "3.9.6"
  }
 },
 "nbformat": 4,
 "nbformat_minor": 2
}
