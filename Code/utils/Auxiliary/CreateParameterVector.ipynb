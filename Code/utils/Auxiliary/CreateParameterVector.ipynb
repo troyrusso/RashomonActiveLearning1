{
 "cells": [
  {
   "cell_type": "code",
   "execution_count": 1,
   "metadata": {},
   "outputs": [],
   "source": [
    "### Import packages ###\n",
    "import numpy as np\n",
    "import pandas as pd\n",
    "import itertools"
   ]
  },
  {
   "cell_type": "code",
   "execution_count": 2,
   "metadata": {},
   "outputs": [],
   "source": [
    "# Directory\n",
    "dir_path = \"/Users/simondn/Documents/RashomonActiveLearning/Code/raw\"\n",
    "\n",
    "# Define parameters\n",
    "Seed = range(0,100)\n",
    "Data =[\"Simulate\"]\n",
    "TestProportion = [0.2]\n",
    "CandidateProportion = [0.8]\n",
    "SelectorType = [\"PassiveLearning\", \"GSxFunction\", \"GSyFunction\", \"iGSFunction\"]\n",
    "ModelType = [\"LinearRegressionFunction\", \"RidgeRegressionFunction\", \"RandomForestRegressorFunction\"]\n",
    "DataArgs = [{\"N\": 1000, \"K\": 5}]\n",
    "SelectorArgs = [{\"df_Candidate\" : \"df_Candidate\"}]\n",
    "ModelArgs = [{\"alpha_val\": 0.1}]\n",
    "\n",
    "### Combinations ###\n",
    "Combinations = list(itertools.product(\n",
    "    Seed, Data, TestProportion, CandidateProportion, SelectorType, ModelType, DataArgs, SelectorArgs, ModelArgs\n",
    "))\n",
    "\n",
    "### Data Frame ###\n",
    "df = pd.DataFrame(Combinations,\n",
    "                  columns = [\"Seed\", \n",
    "                  \"Data\", \n",
    "                  \"TestProportion\", \n",
    "                  \"CandidateProportion\", \n",
    "                  \"SelectorType\", \n",
    "                  \"ModelType\", \n",
    "                  \"DataArgs\", \n",
    "                  \"SelectorArgs\", \n",
    "                  \"ModelArgs\"])\n",
    "\n"
   ]
  },
  {
   "cell_type": "code",
   "execution_count": 3,
   "metadata": {},
   "outputs": [],
   "source": [
    "### Job Name ###\n",
    "ReplacementCharacters = {\":\": \"\",  \" \": \"\", \"{\": \"\", \"}\": \"\", \"\"\": \"\", \",\": \"_\", \"\"\": \"\", \"[\": \"\", \"]\": \"\"}\n",
    "DataArgsReplacement = \"\".join([ReplacementCharacters.get(char, char) for char in str(DataArgs)])\n",
    "ModelArgsReplacement = \"\".join([ReplacementCharacters.get(char, char) for char in str(ModelArgs)])\n",
    "SelectorArgsReplacement = \"\".join([ReplacementCharacters.get(char, char) for char in str(ModelArgs)])\n",
    "ModelTypeReplacement = str(ModelType).replace(\"Function\",\"\")\n",
    "DataReplacement = \"\".join([ReplacementCharacters.get(char, char) for char in str(Data)])\n",
    "\n",
    "df[\"JobName\"] = (\"Seed\" + df[\"Seed\"].astype(str) +\n",
    "                 \"_Data\" + df[\"Data\"].astype(str) +\n",
    "                 \"_TP\" + df[\"TestProportion\"].astype(str) +\n",
    "                 \"_CP\" + df[\"CandidateProportion\"].astype(str) +\n",
    "                 \"_ST\" + df[\"SelectorType\"].astype(str) +\n",
    "                 \"_MT\" + df[\"ModelType\"].astype(str).replace(\"Function\",\"\")\n",
    "                #  DataArgsReplacement + \"_\" +\n",
    "                #  ModelArgsReplacement\n",
    "                 )\n",
    "\n",
    "### Clean ###\n",
    "df[\"JobName\"] = df[\"JobName\"].str.replace(\"Function\", \"\", regex=False)\n",
    "\n",
    "### Output Name ###\n",
    "df[\"Output\"] = \"/\" + df[\"JobName\"]+\".csv\"\n"
   ]
  },
  {
   "cell_type": "code",
   "execution_count": 4,
   "metadata": {},
   "outputs": [],
   "source": [
    "# Define the columns to process\n",
    "columns_to_process = ['DataArgs', 'SelectorArgs', 'ModelArgs']\n",
    "for col in columns_to_process:\n",
    "    df[col] = \"'\" + df[col].apply(lambda x: str(x).replace(\"'\", '\"') if pd.notna(x) else x) + \"'\"\n"
   ]
  },
  {
   "cell_type": "code",
   "execution_count": 5,
   "metadata": {},
   "outputs": [],
   "source": [
    "### Save Parameter Vector ###\n",
    "output_path = \"/Users/simondn/Documents/RashomonActiveLearning/Data/raw/ParameterVectorSimulations.csv\"\n",
    "df.to_csv(output_path, index=False)"
   ]
  }
 ],
 "metadata": {
  "kernelspec": {
   "display_name": "Python 3",
   "language": "python",
   "name": "python3"
  },
  "language_info": {
   "codemirror_mode": {
    "name": "ipython",
    "version": 3
   },
   "file_extension": ".py",
   "mimetype": "text/x-python",
   "name": "python",
   "nbconvert_exporter": "python",
   "pygments_lexer": "ipython3",
   "version": "3.9.6"
  }
 },
 "nbformat": 4,
 "nbformat_minor": 2
}
