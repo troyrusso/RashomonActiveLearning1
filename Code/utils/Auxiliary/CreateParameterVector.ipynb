{
 "cells": [
  {
   "cell_type": "code",
   "execution_count": 1,
   "metadata": {},
   "outputs": [],
   "source": [
    "### Import packages ###\n",
    "import numpy as np\n",
    "import math as math\n",
    "import pandas as pd\n",
    "import random as random\n",
    "import matplotlib.pyplot as plt\n",
    "from scipy.spatial.distance import cdist"
   ]
  },
  {
   "cell_type": "code",
   "execution_count": 2,
   "metadata": {},
   "outputs": [],
   "source": [
    "import itertools\n",
    "import pandas as pd\n",
    "\n",
    "# Directory\n",
    "dir_path = \"/Users/simondn/Documents/RashomonActiveLearning/Code/raw\"\n",
    "\n",
    "# Define parameters\n",
    "Seed = range(0,3)\n",
    "Data =[\"Simulate\"]\n",
    "TestProportion = [0.2]\n",
    "CandidateProportion = [0.8]\n",
    "SelectorType = [\"PassiveLearning\", \"GSxFunction\", \"GSyFunction\", \"iGSFunction\"]\n",
    "ModelType = [\"LinearRegressionFunction\", \"RidgeRegressionFunction\"]\n",
    "DataArgs = [{\"N\": 1000, \"K\": 5}]\n",
    "SelectorArgs = [{'df_Candidate' : \"df_Candidate\"}],\n",
    "ModelArgs = [{\"alpha_val\": 0.1}]\n",
    "\n",
    "### Combinations ###\n",
    "Combinations = list(itertools.product(\n",
    "    Seed, Data, TestProportion, CandidateProportion, SelectorType, ModelType, DataArgs, SelectorArgs, ModelArgs\n",
    "))\n",
    "\n",
    "### Data Frame ###\n",
    "df = pd.DataFrame(Combinations,\n",
    "                  columns = [\"Seed\", \n",
    "                  \"Data\", \n",
    "                  \"TestProportion\", \n",
    "                  \"CandidateProportion\", \n",
    "                  \"SelectorType\", \n",
    "                  \"ModelType\", \n",
    "                  \"DataArgs\", \n",
    "                  \"SelectorArgs\", \n",
    "                  \"ModelArgs\"])\n",
    "\n"
   ]
  },
  {
   "cell_type": "code",
   "execution_count": 3,
   "metadata": {},
   "outputs": [],
   "source": [
    "### Job Name ###\n",
    "ReplacementCharacters = {':': '',  ' ': '', '{': '', '}': '', '\"': '', ',': '_', \"'\": '', '[': '', ']': ''}\n",
    "DataArgsReplacement = ''.join([ReplacementCharacters.get(char, char) for char in str(DataArgs)])\n",
    "ModelArgsReplacement = ''.join([ReplacementCharacters.get(char, char) for char in str(ModelArgs)])\n",
    "ModelTypeReplacement = str(ModelType).replace(\"Function\",\"\")\n",
    "DataReplacement = ''.join([ReplacementCharacters.get(char, char) for char in str(Data)])\n",
    "\n",
    "df[\"JobName\"] = (\"Seed\" + df[\"Seed\"].astype(str) +\n",
    "                 \"_Data\" + df[\"Data\"].astype(str) +\n",
    "                 \"_TP\" + df[\"TestProportion\"].astype(str) +\n",
    "                 \"_CP\" + df[\"CandidateProportion\"].astype(str) +\n",
    "                 \"_ST\" + df[\"SelectorType\"].astype(str) +\n",
    "                 \"_MT\" + df[\"ModelType\"].astype(str).replace(\"Function\",\"\") + \"_\" +\n",
    "                 DataArgsReplacement + \"_\" +\n",
    "                 ModelArgsReplacement\n",
    "                 )\n",
    "\n",
    "### Remove Function Word ###\n",
    "df[\"JobName\"] = df[\"JobName\"].str.replace(\"Function\", \"\", regex=False)\n",
    "\n",
    "### Output Name ###\n",
    "df[\"Output\"] =  DataReplacement + \"/\" + df[\"JobName\"]+\".pkl\"\n"
   ]
  },
  {
   "cell_type": "code",
   "execution_count": 4,
   "metadata": {},
   "outputs": [
    {
     "data": {
      "text/plain": [
       "0     Simulate/Seed0_DataSimulate_TP0.2_CP0.8_STPassiveLearning_MTLinearRegression_N1000_K5_alpha_val0.1.pkl\n",
       "1      Simulate/Seed0_DataSimulate_TP0.2_CP0.8_STPassiveLearning_MTRidgeRegression_N1000_K5_alpha_val0.1.pkl\n",
       "2                 Simulate/Seed0_DataSimulate_TP0.2_CP0.8_STGSx_MTLinearRegression_N1000_K5_alpha_val0.1.pkl\n",
       "3                  Simulate/Seed0_DataSimulate_TP0.2_CP0.8_STGSx_MTRidgeRegression_N1000_K5_alpha_val0.1.pkl\n",
       "4                 Simulate/Seed0_DataSimulate_TP0.2_CP0.8_STGSy_MTLinearRegression_N1000_K5_alpha_val0.1.pkl\n",
       "5                  Simulate/Seed0_DataSimulate_TP0.2_CP0.8_STGSy_MTRidgeRegression_N1000_K5_alpha_val0.1.pkl\n",
       "6                 Simulate/Seed0_DataSimulate_TP0.2_CP0.8_STiGS_MTLinearRegression_N1000_K5_alpha_val0.1.pkl\n",
       "7                  Simulate/Seed0_DataSimulate_TP0.2_CP0.8_STiGS_MTRidgeRegression_N1000_K5_alpha_val0.1.pkl\n",
       "8     Simulate/Seed1_DataSimulate_TP0.2_CP0.8_STPassiveLearning_MTLinearRegression_N1000_K5_alpha_val0.1.pkl\n",
       "9      Simulate/Seed1_DataSimulate_TP0.2_CP0.8_STPassiveLearning_MTRidgeRegression_N1000_K5_alpha_val0.1.pkl\n",
       "10                Simulate/Seed1_DataSimulate_TP0.2_CP0.8_STGSx_MTLinearRegression_N1000_K5_alpha_val0.1.pkl\n",
       "11                 Simulate/Seed1_DataSimulate_TP0.2_CP0.8_STGSx_MTRidgeRegression_N1000_K5_alpha_val0.1.pkl\n",
       "12                Simulate/Seed1_DataSimulate_TP0.2_CP0.8_STGSy_MTLinearRegression_N1000_K5_alpha_val0.1.pkl\n",
       "13                 Simulate/Seed1_DataSimulate_TP0.2_CP0.8_STGSy_MTRidgeRegression_N1000_K5_alpha_val0.1.pkl\n",
       "14                Simulate/Seed1_DataSimulate_TP0.2_CP0.8_STiGS_MTLinearRegression_N1000_K5_alpha_val0.1.pkl\n",
       "15                 Simulate/Seed1_DataSimulate_TP0.2_CP0.8_STiGS_MTRidgeRegression_N1000_K5_alpha_val0.1.pkl\n",
       "16    Simulate/Seed2_DataSimulate_TP0.2_CP0.8_STPassiveLearning_MTLinearRegression_N1000_K5_alpha_val0.1.pkl\n",
       "17     Simulate/Seed2_DataSimulate_TP0.2_CP0.8_STPassiveLearning_MTRidgeRegression_N1000_K5_alpha_val0.1.pkl\n",
       "18                Simulate/Seed2_DataSimulate_TP0.2_CP0.8_STGSx_MTLinearRegression_N1000_K5_alpha_val0.1.pkl\n",
       "19                 Simulate/Seed2_DataSimulate_TP0.2_CP0.8_STGSx_MTRidgeRegression_N1000_K5_alpha_val0.1.pkl\n",
       "20                Simulate/Seed2_DataSimulate_TP0.2_CP0.8_STGSy_MTLinearRegression_N1000_K5_alpha_val0.1.pkl\n",
       "21                 Simulate/Seed2_DataSimulate_TP0.2_CP0.8_STGSy_MTRidgeRegression_N1000_K5_alpha_val0.1.pkl\n",
       "22                Simulate/Seed2_DataSimulate_TP0.2_CP0.8_STiGS_MTLinearRegression_N1000_K5_alpha_val0.1.pkl\n",
       "23                 Simulate/Seed2_DataSimulate_TP0.2_CP0.8_STiGS_MTRidgeRegression_N1000_K5_alpha_val0.1.pkl\n",
       "Name: Output, dtype: object"
      ]
     },
     "execution_count": 4,
     "metadata": {},
     "output_type": "execute_result"
    }
   ],
   "source": [
    "pd.set_option('display.max_colwidth', None)\n",
    "df[\"Output\"]"
   ]
  },
  {
   "cell_type": "code",
   "execution_count": 5,
   "metadata": {},
   "outputs": [],
   "source": [
    "### Save Parameter Vector ###\n",
    "output_path = \"/Users/simondn/Documents/RashomonActiveLearning/Data/raw/ParameterVectorSimulations.csv\"\n",
    "df.to_csv(output_path, index=False)"
   ]
  }
 ],
 "metadata": {
  "kernelspec": {
   "display_name": "Python 3",
   "language": "python",
   "name": "python3"
  },
  "language_info": {
   "codemirror_mode": {
    "name": "ipython",
    "version": 3
   },
   "file_extension": ".py",
   "mimetype": "text/x-python",
   "name": "python",
   "nbconvert_exporter": "python",
   "pygments_lexer": "ipython3",
   "version": "3.9.6"
  }
 },
 "nbformat": 4,
 "nbformat_minor": 2
}
