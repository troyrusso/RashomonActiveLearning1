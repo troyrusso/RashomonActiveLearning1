{
 "cells": [
  {
   "cell_type": "code",
   "execution_count": 1,
   "metadata": {},
   "outputs": [],
   "source": [
    "### Import libraries ###\n",
    "import os\n",
    "import pickle\n",
    "import argparse\n",
    "\n",
    "# Set up the parser\n",
    "parser = argparse.ArgumentParser(description=\"Aggregate simulation results.\")\n",
    "parser.add_argument(\"--DataType\", type=str, required=True, help=\"Type of data.\")\n",
    "parser.add_argument(\"--ModelType\", type=str, required=True, help=\"Prediction model type.\")\n",
    "parser.add_argument(\"--Categories\", type=str, required=True, help=\"Single category string.\")\n",
    "\n",
    "# Manually set the arguments\n",
    "manual_args = [\n",
    "    \"--DataType\", \"BreastCancer\",\n",
    "    \"--ModelType\", \"TreeFarms\",\n",
    "    \"--Categories\", \"A0.04.pkl\"\n",
    "]\n",
    "\n",
    "# Parse the manually defined arguments\n",
    "args = parser.parse_args(manual_args)\n",
    "### Set Up ###\n",
    "RawDirectory = \"/Users/simondn/Documents/RashomonActiveLearning/Results/BreastCancer/TreeFarms/Raw\"\n",
    "Category = args.Categories\n",
    "\n",
    "### Extract File Names ###\n",
    "CategoryFileNames = []\n",
    "for filename in os.listdir(RawDirectory):\n",
    "    if filename.endswith(\".pkl\") and filename.endswith(Category):\n",
    "        CategoryFileNames.append(os.path.join(RawDirectory, filename))\n"
   ]
  },
  {
   "cell_type": "code",
   "execution_count": 2,
   "metadata": {},
   "outputs": [
    {
     "data": {
      "text/plain": [
       "['/Users/simondn/Documents/RashomonActiveLearning/Results/BreastCancer/TreeFarms/Raw/55BC_DA0.04.pkl',\n",
       " '/Users/simondn/Documents/RashomonActiveLearning/Results/BreastCancer/TreeFarms/Raw/66BC_UA0.04.pkl',\n",
       " '/Users/simondn/Documents/RashomonActiveLearning/Results/BreastCancer/TreeFarms/Raw/26BC_UA0.04.pkl',\n",
       " '/Users/simondn/Documents/RashomonActiveLearning/Results/BreastCancer/TreeFarms/Raw/21BC_UA0.04.pkl',\n",
       " '/Users/simondn/Documents/RashomonActiveLearning/Results/BreastCancer/TreeFarms/Raw/74BC_UA0.04.pkl',\n",
       " '/Users/simondn/Documents/RashomonActiveLearning/Results/BreastCancer/TreeFarms/Raw/15BC_DA0.04.pkl',\n",
       " '/Users/simondn/Documents/RashomonActiveLearning/Results/BreastCancer/TreeFarms/Raw/76BC_DA0.04.pkl',\n",
       " '/Users/simondn/Documents/RashomonActiveLearning/Results/BreastCancer/TreeFarms/Raw/42BC_UA0.04.pkl',\n",
       " '/Users/simondn/Documents/RashomonActiveLearning/Results/BreastCancer/TreeFarms/Raw/24BC_DA0.04.pkl',\n",
       " '/Users/simondn/Documents/RashomonActiveLearning/Results/BreastCancer/TreeFarms/Raw/71BC_DA0.04.pkl',\n",
       " '/Users/simondn/Documents/RashomonActiveLearning/Results/BreastCancer/TreeFarms/Raw/31BC_DA0.04.pkl',\n",
       " '/Users/simondn/Documents/RashomonActiveLearning/Results/BreastCancer/TreeFarms/Raw/41BC_DA0.04.pkl',\n",
       " '/Users/simondn/Documents/RashomonActiveLearning/Results/BreastCancer/TreeFarms/Raw/72BC_UA0.04.pkl',\n",
       " '/Users/simondn/Documents/RashomonActiveLearning/Results/BreastCancer/TreeFarms/Raw/46BC_DA0.04.pkl',\n",
       " '/Users/simondn/Documents/RashomonActiveLearning/Results/BreastCancer/TreeFarms/Raw/13BC_DA0.04.pkl',\n",
       " '/Users/simondn/Documents/RashomonActiveLearning/Results/BreastCancer/TreeFarms/Raw/67BC_UA0.04.pkl',\n",
       " '/Users/simondn/Documents/RashomonActiveLearning/Results/BreastCancer/TreeFarms/Raw/54BC_DA0.04.pkl',\n",
       " '/Users/simondn/Documents/RashomonActiveLearning/Results/BreastCancer/TreeFarms/Raw/60BC_UA0.04.pkl',\n",
       " '/Users/simondn/Documents/RashomonActiveLearning/Results/BreastCancer/TreeFarms/Raw/35BC_UA0.04.pkl',\n",
       " '/Users/simondn/Documents/RashomonActiveLearning/Results/BreastCancer/TreeFarms/Raw/56BC_UA0.04.pkl',\n",
       " '/Users/simondn/Documents/RashomonActiveLearning/Results/BreastCancer/TreeFarms/Raw/65BC_DA0.04.pkl',\n",
       " '/Users/simondn/Documents/RashomonActiveLearning/Results/BreastCancer/TreeFarms/Raw/25BC_DA0.04.pkl',\n",
       " '/Users/simondn/Documents/RashomonActiveLearning/Results/BreastCancer/TreeFarms/Raw/11BC_UA0.04.pkl',\n",
       " '/Users/simondn/Documents/RashomonActiveLearning/Results/BreastCancer/TreeFarms/Raw/77BC_DA0.04.pkl',\n",
       " '/Users/simondn/Documents/RashomonActiveLearning/Results/BreastCancer/TreeFarms/Raw/16BC_UA0.04.pkl',\n",
       " '/Users/simondn/Documents/RashomonActiveLearning/Results/BreastCancer/TreeFarms/Raw/85BC_DA0.04.pkl',\n",
       " '/Users/simondn/Documents/RashomonActiveLearning/Results/BreastCancer/TreeFarms/Raw/68BC_DA0.04.pkl',\n",
       " '/Users/simondn/Documents/RashomonActiveLearning/Results/BreastCancer/TreeFarms/Raw/38BC_UA0.04.pkl',\n",
       " '/Users/simondn/Documents/RashomonActiveLearning/Results/BreastCancer/TreeFarms/Raw/92BC_UA0.04.pkl',\n",
       " '/Users/simondn/Documents/RashomonActiveLearning/Results/BreastCancer/TreeFarms/Raw/59BC_DA0.04.pkl',\n",
       " '/Users/simondn/Documents/RashomonActiveLearning/Results/BreastCancer/TreeFarms/Raw/19BC_DA0.04.pkl',\n",
       " '/Users/simondn/Documents/RashomonActiveLearning/Results/BreastCancer/TreeFarms/Raw/78BC_UA0.04.pkl',\n",
       " '/Users/simondn/Documents/RashomonActiveLearning/Results/BreastCancer/TreeFarms/Raw/80BC_UA0.04.pkl',\n",
       " '/Users/simondn/Documents/RashomonActiveLearning/Results/BreastCancer/TreeFarms/Raw/96BC_DA0.04.pkl',\n",
       " '/Users/simondn/Documents/RashomonActiveLearning/Results/BreastCancer/TreeFarms/Raw/84BC_DA0.04.pkl',\n",
       " '/Users/simondn/Documents/RashomonActiveLearning/Results/BreastCancer/TreeFarms/Raw/83BC_DA0.04.pkl',\n",
       " '/Users/simondn/Documents/RashomonActiveLearning/Results/BreastCancer/TreeFarms/Raw/81BC_UA0.04.pkl',\n",
       " '/Users/simondn/Documents/RashomonActiveLearning/Results/BreastCancer/TreeFarms/Raw/79BC_UA0.04.pkl',\n",
       " '/Users/simondn/Documents/RashomonActiveLearning/Results/BreastCancer/TreeFarms/Raw/93BC_UA0.04.pkl',\n",
       " '/Users/simondn/Documents/RashomonActiveLearning/Results/BreastCancer/TreeFarms/Raw/94BC_UA0.04.pkl',\n",
       " '/Users/simondn/Documents/RashomonActiveLearning/Results/BreastCancer/TreeFarms/Raw/93BC_DA0.04.pkl',\n",
       " '/Users/simondn/Documents/RashomonActiveLearning/Results/BreastCancer/TreeFarms/Raw/58BC_UA0.04.pkl',\n",
       " '/Users/simondn/Documents/RashomonActiveLearning/Results/BreastCancer/TreeFarms/Raw/94BC_DA0.04.pkl',\n",
       " '/Users/simondn/Documents/RashomonActiveLearning/Results/BreastCancer/TreeFarms/Raw/81BC_DA0.04.pkl',\n",
       " '/Users/simondn/Documents/RashomonActiveLearning/Results/BreastCancer/TreeFarms/Raw/79BC_DA0.04.pkl',\n",
       " '/Users/simondn/Documents/RashomonActiveLearning/Results/BreastCancer/TreeFarms/Raw/84BC_UA0.04.pkl',\n",
       " '/Users/simondn/Documents/RashomonActiveLearning/Results/BreastCancer/TreeFarms/Raw/96BC_UA0.04.pkl',\n",
       " '/Users/simondn/Documents/RashomonActiveLearning/Results/BreastCancer/TreeFarms/Raw/19BC_UA0.04.pkl',\n",
       " '/Users/simondn/Documents/RashomonActiveLearning/Results/BreastCancer/TreeFarms/Raw/78BC_DA0.04.pkl',\n",
       " '/Users/simondn/Documents/RashomonActiveLearning/Results/BreastCancer/TreeFarms/Raw/80BC_DA0.04.pkl',\n",
       " '/Users/simondn/Documents/RashomonActiveLearning/Results/BreastCancer/TreeFarms/Raw/92BC_DA0.04.pkl',\n",
       " '/Users/simondn/Documents/RashomonActiveLearning/Results/BreastCancer/TreeFarms/Raw/38BC_DA0.04.pkl',\n",
       " '/Users/simondn/Documents/RashomonActiveLearning/Results/BreastCancer/TreeFarms/Raw/59BC_UA0.04.pkl',\n",
       " '/Users/simondn/Documents/RashomonActiveLearning/Results/BreastCancer/TreeFarms/Raw/68BC_UA0.04.pkl',\n",
       " '/Users/simondn/Documents/RashomonActiveLearning/Results/BreastCancer/TreeFarms/Raw/85BC_UA0.04.pkl',\n",
       " '/Users/simondn/Documents/RashomonActiveLearning/Results/BreastCancer/TreeFarms/Raw/25BC_UA0.04.pkl',\n",
       " '/Users/simondn/Documents/RashomonActiveLearning/Results/BreastCancer/TreeFarms/Raw/88BC_UA0.04.pkl',\n",
       " '/Users/simondn/Documents/RashomonActiveLearning/Results/BreastCancer/TreeFarms/Raw/16BC_DA0.04.pkl',\n",
       " '/Users/simondn/Documents/RashomonActiveLearning/Results/BreastCancer/TreeFarms/Raw/56BC_DA0.04.pkl',\n",
       " '/Users/simondn/Documents/RashomonActiveLearning/Results/BreastCancer/TreeFarms/Raw/65BC_UA0.04.pkl',\n",
       " '/Users/simondn/Documents/RashomonActiveLearning/Results/BreastCancer/TreeFarms/Raw/67BC_DA0.04.pkl',\n",
       " '/Users/simondn/Documents/RashomonActiveLearning/Results/BreastCancer/TreeFarms/Raw/54BC_UA0.04.pkl',\n",
       " '/Users/simondn/Documents/RashomonActiveLearning/Results/BreastCancer/TreeFarms/Raw/35BC_DA0.04.pkl',\n",
       " '/Users/simondn/Documents/RashomonActiveLearning/Results/BreastCancer/TreeFarms/Raw/60BC_DA0.04.pkl',\n",
       " '/Users/simondn/Documents/RashomonActiveLearning/Results/BreastCancer/TreeFarms/Raw/41BC_UA0.04.pkl',\n",
       " '/Users/simondn/Documents/RashomonActiveLearning/Results/BreastCancer/TreeFarms/Raw/72BC_DA0.04.pkl',\n",
       " '/Users/simondn/Documents/RashomonActiveLearning/Results/BreastCancer/TreeFarms/Raw/13BC_UA0.04.pkl',\n",
       " '/Users/simondn/Documents/RashomonActiveLearning/Results/BreastCancer/TreeFarms/Raw/46BC_UA0.04.pkl',\n",
       " '/Users/simondn/Documents/RashomonActiveLearning/Results/BreastCancer/TreeFarms/Raw/31BC_UA0.04.pkl',\n",
       " '/Users/simondn/Documents/RashomonActiveLearning/Results/BreastCancer/TreeFarms/Raw/36BC_UA0.04.pkl',\n",
       " '/Users/simondn/Documents/RashomonActiveLearning/Results/BreastCancer/TreeFarms/Raw/76BC_UA0.04.pkl',\n",
       " '/Users/simondn/Documents/RashomonActiveLearning/Results/BreastCancer/TreeFarms/Raw/42BC_DA0.04.pkl',\n",
       " '/Users/simondn/Documents/RashomonActiveLearning/Results/BreastCancer/TreeFarms/Raw/71BC_UA0.04.pkl',\n",
       " '/Users/simondn/Documents/RashomonActiveLearning/Results/BreastCancer/TreeFarms/Raw/24BC_UA0.04.pkl',\n",
       " '/Users/simondn/Documents/RashomonActiveLearning/Results/BreastCancer/TreeFarms/Raw/26BC_DA0.04.pkl',\n",
       " '/Users/simondn/Documents/RashomonActiveLearning/Results/BreastCancer/TreeFarms/Raw/74BC_DA0.04.pkl',\n",
       " '/Users/simondn/Documents/RashomonActiveLearning/Results/BreastCancer/TreeFarms/Raw/21BC_DA0.04.pkl',\n",
       " '/Users/simondn/Documents/RashomonActiveLearning/Results/BreastCancer/TreeFarms/Raw/15BC_UA0.04.pkl',\n",
       " '/Users/simondn/Documents/RashomonActiveLearning/Results/BreastCancer/TreeFarms/Raw/55BC_UA0.04.pkl',\n",
       " '/Users/simondn/Documents/RashomonActiveLearning/Results/BreastCancer/TreeFarms/Raw/99BC_DA0.04.pkl',\n",
       " '/Users/simondn/Documents/RashomonActiveLearning/Results/BreastCancer/TreeFarms/Raw/66BC_DA0.04.pkl']"
      ]
     },
     "execution_count": 2,
     "metadata": {},
     "output_type": "execute_result"
    }
   ],
   "source": [
    "CategoryFileNames"
   ]
  },
  {
   "cell_type": "code",
   "execution_count": 3,
   "metadata": {},
   "outputs": [],
   "source": [
    "RerunVec = []\n",
    "for file in CategoryFileNames:\n",
    "    try:\n",
    "        with open(file, \"rb\") as f:\n",
    "            data = pickle.load(f)\n",
    "            if len(data[\"ErrorVec\"]) != 96:\n",
    "                # print(file)\n",
    "                # print(\"ErrorVecLen: \", len(data[\"ErrorVec\"]))\n",
    "                RerunVec.append(file.split(\"Raw/\", 1)[1])\n",
    "    except Exception as e:\n",
    "        print(f\"Error loading file {file}: {e}\")\n"
   ]
  },
  {
   "cell_type": "code",
   "execution_count": 4,
   "metadata": {},
   "outputs": [
    {
     "data": {
      "text/plain": [
       "[]"
      ]
     },
     "execution_count": 4,
     "metadata": {},
     "output_type": "execute_result"
    }
   ],
   "source": [
    "RerunVec"
   ]
  }
 ],
 "metadata": {
  "kernelspec": {
   "display_name": "Python 3",
   "language": "python",
   "name": "python3"
  },
  "language_info": {
   "codemirror_mode": {
    "name": "ipython",
    "version": 3
   },
   "file_extension": ".py",
   "mimetype": "text/x-python",
   "name": "python",
   "nbconvert_exporter": "python",
   "pygments_lexer": "ipython3",
   "version": "3.9.6"
  }
 },
 "nbformat": 4,
 "nbformat_minor": 4
}
