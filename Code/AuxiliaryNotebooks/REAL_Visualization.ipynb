{
 "cells": [
  {
   "cell_type": "markdown",
   "metadata": {},
   "source": [
    "# Packages"
   ]
  },
  {
   "cell_type": "code",
   "execution_count": 1,
   "metadata": {},
   "outputs": [],
   "source": [
    "### Import packages ###\n",
    "import time\n",
    "import numpy as np\n",
    "import math as math\n",
    "import pandas as pd\n",
    "import random as random\n",
    "\n",
    "### Append Path ###\n",
    "import sys\n",
    "sys.path.append('..')\n",
    "\n",
    "### Import functions ###\n",
    "from utils.Main import *\n",
    "from utils.Selector import *\n",
    "from utils.Auxiliary import *\n",
    "from utils.Prediction import *"
   ]
  },
  {
   "cell_type": "markdown",
   "metadata": {},
   "source": [
    "# Input "
   ]
  },
  {
   "cell_type": "code",
   "execution_count": 2,
   "metadata": {},
   "outputs": [],
   "source": [
    "# DataType = \"COMPAS\"\n",
    "# RashomonBoundAdder = 0.001\n",
    "RashomonBoundAdder = 0.003\n",
    "\n",
    "### Set Up ###\n",
    "StartTime = time.time()\n",
    "random.seed(0)\n",
    "np.random.seed(0)\n",
    "\n",
    "### Generate Data ###\n",
    "# df = LoadData(DataType)\n",
    "df = pd.read_csv(\"/Users/simondn/Documents/RashomonActiveLearning/Data/raw/bar-7.csv\")\n",
    "df = pd.read_csv(\"/Users/simondn/Documents/RashomonActiveLearning/Data/raw/COMPAS.csv\")\n",
    "df.rename(columns={'recidivate-within-two-years:1': 'Y'}, inplace=True)\n",
    "\n",
    "\n"
   ]
  },
  {
   "cell_type": "code",
   "execution_count": 3,
   "metadata": {},
   "outputs": [
    {
     "name": "stdout",
     "output_type": "stream",
     "text": [
      "null\n",
      "Finding Optimal Objective...\n",
      "treefarms reported successful execution\n",
      "training completed. Number of trees in the Rashomon set: 9\n",
      "{\n",
      "  \"false\": {\n",
      "    \"false\": {\n",
      "      \"complexity\": 0.009999999776482582,\n",
      "      \"loss\": 0.021861879155039787,\n",
      "      \"name\": \"Y\",\n",
      "      \"prediction\": 1\n",
      "    },\n",
      "    \"feature\": 7,\n",
      "    \"name\": \"juvenile-crimes:=0\",\n",
      "    \"reference\": 1,\n",
      "    \"relation\": \"==\",\n",
      "    \"true\": {\n",
      "      \"complexity\": 0.009999999776482582,\n",
      "      \"loss\": 0.21644708514213562,\n",
      "      \"name\": \"Y\",\n",
      "      \"prediction\": 0\n",
      "    },\n",
      "    \"type\": \"integral\"\n",
      "  },\n",
      "  \"feature\": 11,\n",
      "  \"model_objective\": 0.3748675286769867,\n",
      "  \"name\": \"priors:>3\",\n",
      "  \"reference\": 1,\n",
      "  \"relation\": \"==\",\n",
      "  \"true\": {\n",
      "    \"complexity\": 0.009999999776482582,\n",
      "    \"loss\": 0.10655856132507324,\n",
      "    \"name\": \"Y\",\n",
      "    \"prediction\": 1\n",
      "  },\n",
      "  \"type\": \"integral\"\n",
      "}\n",
      "{\n",
      "  \"false\": {\n",
      "    \"complexity\": 0.009999999776482582,\n",
      "    \"loss\": 0.03938033804297447,\n",
      "    \"name\": \"Y\",\n",
      "    \"prediction\": 1\n",
      "  },\n",
      "  \"feature\": 7,\n",
      "  \"model_objective\": 0.3748675286769867,\n",
      "  \"name\": \"juvenile-crimes:=0\",\n",
      "  \"reference\": 1,\n",
      "  \"relation\": \"==\",\n",
      "  \"true\": {\n",
      "    \"false\": {\n",
      "      \"complexity\": 0.009999999776482582,\n",
      "      \"loss\": 0.21644708514213562,\n",
      "      \"name\": \"Y\",\n",
      "      \"prediction\": 0\n",
      "    },\n",
      "    \"feature\": 11,\n",
      "    \"name\": \"priors:>3\",\n",
      "    \"reference\": 1,\n",
      "    \"relation\": \"==\",\n",
      "    \"true\": {\n",
      "      \"complexity\": 0.009999999776482582,\n",
      "      \"loss\": 0.08904010057449341,\n",
      "      \"name\": \"Y\",\n",
      "      \"prediction\": 1\n",
      "    },\n",
      "    \"type\": \"integral\"\n",
      "  },\n",
      "  \"type\": \"integral\"\n",
      "}\n"
     ]
    }
   ],
   "source": [
    "\n",
    "### Train Test Candidate Split ###\n",
    "df_Train, df_Test, df_Candidate = TrainTestCandidateSplit(df, 0.2, 0.2)\n",
    "\n",
    "## Train TreeFarms ##\n",
    "config = {\"regularization\": 0.01, \"rashomon_bound_adder\": RashomonBoundAdder}\n",
    "TreeFarmsModel = TREEFARMS(config)\n",
    "TreeFarmsModel.fit(df.loc[:, df.columns != \"Y\"], df[\"Y\"])\n",
    "# TreeFarmsModel.fit(df_Train.loc[:, df_Train.columns != \"Y\"], df_Train[\"Y\"])\n",
    "TreeCounts = TreeFarmsModel.get_tree_count()\n"
   ]
  },
  {
   "cell_type": "code",
   "execution_count": 4,
   "metadata": {},
   "outputs": [
    {
     "name": "stdout",
     "output_type": "stream",
     "text": [
      "TreeCounts: 9\n"
     ]
    }
   ],
   "source": [
    "print(\"TreeCounts: \"  + str(TreeCounts))"
   ]
  },
  {
   "cell_type": "code",
   "execution_count": 5,
   "metadata": {},
   "outputs": [],
   "source": [
    "AllErrors = []\n",
    "for i in range(TreeCounts):\n",
    "    TreePrediction = TreeFarmsModel[i].predict(df_Test.loc[:, df_Test.columns != \"Y\"])\n",
    "    AllErrors.append(float(np.mean(TreePrediction!= df_Test[\"Y\"])))"
   ]
  },
  {
   "cell_type": "code",
   "execution_count": 6,
   "metadata": {},
   "outputs": [
    {
     "data": {
      "text/plain": [
       "[0.34876989869753977,\n",
       " 0.34876989869753977,\n",
       " 0.35238784370477566,\n",
       " 0.35238784370477566,\n",
       " 0.35238784370477566,\n",
       " 0.35238784370477566,\n",
       " 0.35238784370477566,\n",
       " 0.3465991316931983,\n",
       " 0.3465991316931983]"
      ]
     },
     "execution_count": 6,
     "metadata": {},
     "output_type": "execute_result"
    }
   ],
   "source": [
    "AllErrors"
   ]
  },
  {
   "cell_type": "code",
   "execution_count": 7,
   "metadata": {},
   "outputs": [
    {
     "data": {
      "text/plain": [
       "[0.34876989869753977, 0.35238784370477566, 0.3465991316931983]"
      ]
     },
     "execution_count": 7,
     "metadata": {},
     "output_type": "execute_result"
    }
   ],
   "source": [
    "list(set(AllErrors))"
   ]
  },
  {
   "cell_type": "code",
   "execution_count": 8,
   "metadata": {},
   "outputs": [
    {
     "data": {
      "image/png": "[encoded data removed]",
      "text/plain": [
       "<Figure size 500x500 with 1 Axes>"
      ]
     },
     "metadata": {},
     "output_type": "display_data"
    }
   ],
   "source": [
    "PlotTreeFarmsDecisionTreeErrorsWithGroups(AllErrors=AllErrors, epsilon = 0.0025)"
   ]
  },
  {
   "cell_type": "markdown",
   "metadata": {},
   "source": [
    "# Generating Classification Patterns"
   ]
  },
  {
   "cell_type": "code",
   "execution_count": null,
   "metadata": {},
   "outputs": [
    {
     "name": "stdout",
     "output_type": "stream",
     "text": [
      "0\n",
      "1\n",
      "2\n",
      "3\n",
      "4\n",
      "5\n",
      "6\n",
      "7\n",
      "8\n"
     ]
    }
   ],
   "source": [
    "# # Define groups and their associated tree indices\n",
    "# groups = {\n",
    "#     \"Group 1\": [7,8],\n",
    "#     \"Group 2\": [0,1],\n",
    "#     \"Group 3\": [2,3,4,5,6]\n",
    "# }\n",
    "\n",
    "# # Define colors for each group\n",
    "# group_colors = {\n",
    "#     \"Group 1\": 'lightgreen',\n",
    "#     \"Group 2\": 'violet',\n",
    "#     \"Group 3\": 'lightcoral'\n",
    "# }\n",
    "# ## # For loop for generating the decision trees ###\n",
    "\n",
    "# for tree in range(0, TreeFarmsModel.get_tree_count()):\n",
    "#     print(tree)\n",
    "#     G = nx.DiGraph()\n",
    "#     add_nodes_and_edges(graph = G, data = json.loads(TreeFarmsModel[tree].json()), df_columns= df.columns)\n",
    "#     draw_decision_tree(G, tree_index=tree, \n",
    "#                        groups = groups, \n",
    "#                        group_colors = group_colors, \n",
    "#                        filename=f\"/Users/simondn/Documents/RashomonActiveLearning/Images/Methods/TreesClassificationPatterns/Tree{tree}.png\")"
   ]
  }
 ],
 "metadata": {
  "kernelspec": {
   "display_name": "rashomon-3.9",
   "language": "python",
   "name": "python3"
  },
  "language_info": {
   "codemirror_mode": {
    "name": "ipython",
    "version": 3
   },
   "file_extension": ".py",
   "mimetype": "text/x-python",
   "name": "python",
   "nbconvert_exporter": "python",
   "pygments_lexer": "ipython3",
   "version": "3.9.20"
  }
 },
 "nbformat": 4,
 "nbformat_minor": 2
}
