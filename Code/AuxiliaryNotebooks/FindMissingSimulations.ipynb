{
 "cells": [
  {
   "cell_type": "markdown",
   "metadata": {},
   "source": [
    "# Packages"
   ]
  },
  {
   "cell_type": "code",
   "execution_count": 1,
   "metadata": {},
   "outputs": [],
   "source": [
    "import pandas as pd"
   ]
  },
  {
   "cell_type": "markdown",
   "metadata": {},
   "source": [
    "# Input"
   ]
  },
  {
   "cell_type": "code",
   "execution_count": 2,
   "metadata": {},
   "outputs": [],
   "source": [
    "Abbrv=\"HM\"\n",
    "Threshold = 0.11"
   ]
  },
  {
   "cell_type": "code",
   "execution_count": 3,
   "metadata": {},
   "outputs": [],
   "source": [
    "# Input text\n",
    "text = \"\"\"\n",
    "11HM_DA0.11.pkl   20HM_DA0.11.pkl   26HM_DA0.11.pkl   38HM_UA0.11.pkl   47HM_DA0.11.pkl   52HM_DA0.11.pkl   57HM_DA0.11.pkl   61HM_DA0.11.pkl   72HM_UA0.11.pkl   77HM_DA0.11.pkl   88HM_DA0.11.pkl   93HM_DA0.11.pkl    ' .foo.png'\n",
    " 11HM_UA0.11.pkl   20HM_UA0.11.pkl   26HM_UA0.11.pkl   41HM_DA0.11.pkl   47HM_UA0.11.pkl   52HM_UA0.11.pkl   57HM_UA0.11.pkl   61HM_UA0.11.pkl   74HM_DA0.11.pkl   77HM_UA0.11.pkl   88HM_UA0.11.pkl   93HM_UA0.11.pkl\n",
    " 16HM_DA0.11.pkl   21HM_UA0.11.pkl   27HM_UA0.11.pkl   41HM_UA0.11.pkl   4HM_DA0.11.pkl    54HM_DA0.11.pkl   58HM_DA0.11.pkl   6HM_UA0.11.pkl    74HM_UA0.11.pkl   7HM_DA0.11.pkl    89HM_DA0.11.pkl   95HM_UA0.11.pkl\n",
    " 16HM_UA0.11.pkl   22HM_DA0.11.pkl   35HM_DA0.11.pkl   44HM_DA0.11.pkl   4HM_UA0.11.pkl    54HM_UA0.11.pkl   58HM_UA0.11.pkl   70HM_DA0.11.pkl   75HM_DA0.11.pkl   7HM_UA0.11.pkl    89HM_UA0.11.pkl   98HM_DA0.11.pkl\n",
    " 1HM_DA0.11.pkl    22HM_UA0.11.pkl   35HM_UA0.11.pkl   45HM_DA0.11.pkl   51HM_DA0.11.pkl   55HM_DA0.11.pkl   59HM_DA0.11.pkl   70HM_UA0.11.pkl   75HM_UA0.11.pkl   85HM_DA0.11.pkl   91HM_DA0.11.pkl   98HM_UA0.11.pkl\n",
    " 1HM_UA0.11.pkl    23HM_UA0.11.pkl   38HM_DA0.11.pkl   45HM_UA0.11.pkl   51HM_UA0.11.pkl   55HM_UA0.11.pkl   59HM_UA0.11.pkl   72HM_DA0.11.pkl   76HM_UA0.11.pkl   85HM_UA0.11.pkl   91HM_UA0.11.pkl   delete_results.sh\n",
    " \"\"\""
   ]
  },
  {
   "cell_type": "code",
   "execution_count": 4,
   "metadata": {},
   "outputs": [
    {
     "data": {
      "text/plain": [
       "74"
      ]
     },
     "execution_count": 4,
     "metadata": {},
     "output_type": "execute_result"
    }
   ],
   "source": [
    "words = text.split()\n",
    "len(words)"
   ]
  },
  {
   "cell_type": "markdown",
   "metadata": {},
   "source": [
    "# Algorithm"
   ]
  },
  {
   "cell_type": "markdown",
   "metadata": {},
   "source": [
    "##Missing"
   ]
  },
  {
   "cell_type": "code",
   "execution_count": 5,
   "metadata": {},
   "outputs": [],
   "source": [
    "### Combined Analysis for Unique and Duplicate ###\n",
    "TotalCountUnique = []\n",
    "TotalCountDuplicate = []\n",
    "TotalCountDuplicateUNQ = []\n",
    "TotalCountDuplicateDPL = []\n",
    "\n",
    "for i in range(0, 100):\n",
    "    substringUNQ = str(i) + Abbrv + \"_U\"\n",
    "    substringDPL = str(i) + Abbrv + \"_D\"\n",
    "\n",
    "    # Unique occurrences\n",
    "    unique_occurrencesUNQ = {word for word in words if word.startswith(substringUNQ)}\n",
    "    unique_occurrencesDPL = {word for word in words if word.startswith(substringDPL)}\n",
    "\n",
    "    countUNQ = len(unique_occurrencesUNQ)\n",
    "    countDPL = len(unique_occurrencesDPL)\n",
    "\n",
    "    TotalCountUnique.append(countUNQ)\n",
    "    TotalCountDuplicate.append(countDPL)\n",
    "\n",
    "    # Duplicate occurrences\n",
    "    occurrencesUNQ = [word for word in words if word.startswith(substringUNQ)]\n",
    "    occurrencesDPL = [word for word in words if word.startswith(substringDPL)]\n",
    "\n",
    "    countDuplicatesUNQ = len(occurrencesUNQ)\n",
    "    countDuplicatesDPL = len(occurrencesDPL)\n",
    "\n",
    "    TotalCountDuplicateUNQ.append(countDuplicatesUNQ)\n",
    "    TotalCountDuplicateDPL.append(countDuplicatesDPL)\n",
    "\n",
    "### Convert to DataFrames ###\n",
    "TotalCountUnique = pd.DataFrame(TotalCountUnique, columns=[\"Unique\"])\n",
    "TotalCountDuplicate = pd.DataFrame(TotalCountDuplicate, columns=[\"Duplicate\"])\n",
    "TotalCountDuplicateUNQ = pd.DataFrame(TotalCountDuplicateUNQ, columns=[\"Duplicate_UNQ\"])\n",
    "TotalCountDuplicateDPL = pd.DataFrame(TotalCountDuplicateDPL, columns=[\"Duplicate_DPL\"])\n",
    "\n",
    "### Identify Missing ###\n",
    "MissingUNQ = list(TotalCountUnique[TotalCountUnique[\"Unique\"] < 1].index)\n",
    "MissingDPL = list(TotalCountDuplicate[TotalCountDuplicate[\"Duplicate\"] < 1].index)\n",
    "\n",
    "### Identify Duplicates ###\n",
    "DuplicateIndicesUNQ = list(TotalCountDuplicateUNQ[TotalCountDuplicateUNQ[\"Duplicate_UNQ\"] > 1].index)\n",
    "DuplicateIndicesDPL = list(TotalCountDuplicateDPL[TotalCountDuplicateDPL[\"Duplicate_DPL\"] > 1].index)\n",
    "\n",
    "### Have Both ###\n",
    "InBothBoolean = (TotalCountUnique[\"Unique\"] == 1) & (TotalCountDuplicate[\"Duplicate\"] == 1)\n",
    "HaveBoth = list(InBothBoolean[InBothBoolean == True].index)"
   ]
  },
  {
   "cell_type": "markdown",
   "metadata": {},
   "source": [
    "# Results"
   ]
  },
  {
   "cell_type": "code",
   "execution_count": 6,
   "metadata": {},
   "outputs": [
    {
     "name": "stdout",
     "output_type": "stream",
     "text": [
      "Missing Indices for UNQ: [0, 2, 3, 5, 8, 9, 10, 12, 13, 14, 15, 17, 18, 19, 24, 25, 28, 29, 30, 31, 32, 33, 34, 36, 37, 39, 40, 42, 43, 44, 46, 48, 49, 50, 53, 56, 60, 62, 63, 64, 65, 66, 67, 68, 69, 71, 73, 78, 79, 80, 81, 82, 83, 84, 86, 87, 90, 92, 94, 96, 97, 99]\n",
      "Missing Indices for DPL: [0, 2, 3, 5, 6, 8, 9, 10, 12, 13, 14, 15, 17, 18, 19, 21, 23, 24, 25, 27, 28, 29, 30, 31, 32, 33, 34, 36, 37, 39, 40, 42, 43, 46, 48, 49, 50, 53, 56, 60, 62, 63, 64, 65, 66, 67, 68, 69, 71, 73, 76, 78, 79, 80, 81, 82, 83, 84, 86, 87, 90, 92, 94, 95, 96, 97, 99]\n",
      "Duplicate Indices for UNQ: []\n",
      "Duplicate Indices for DPL: []\n"
     ]
    }
   ],
   "source": [
    "### Outputs ###\n",
    "print(\"Missing Indices for UNQ:\", MissingUNQ)\n",
    "print(\"Missing Indices for DPL:\", MissingDPL)\n",
    "print(\"Duplicate Indices for UNQ:\", DuplicateIndicesUNQ)\n",
    "print(\"Duplicate Indices for DPL:\", DuplicateIndicesDPL)"
   ]
  },
  {
   "cell_type": "markdown",
   "metadata": {},
   "source": [
    "# Generate Missing JobNames"
   ]
  },
  {
   "cell_type": "code",
   "execution_count": 7,
   "metadata": {},
   "outputs": [],
   "source": [
    "MissingDPL_List = [str(item) + Abbrv + \"_DA\" + str(str(Threshold)) for item in MissingDPL]\n",
    "MissingUNQ_List = [str(item) + Abbrv + \"_UA\" + str(str(Threshold)) for item in MissingUNQ]\n",
    "# HaveBothDPL_List = [str(item) + Abbrv + \"_DA\" + str(str(Threshold)) for item in HaveBoth[0:UpToNum]]\n",
    "# HaveBothUNQ_List = [str(item) + Abbrv + \"_UA\" + str(str(Threshold)) for item in HaveBoth[0:UpToNum]]\n",
    "\n",
    "HaveBothDPL_List = [str(item) + Abbrv + \"_DA\" + str(str(Threshold)) for item in HaveBoth]\n",
    "HaveBothUNQ_List = [str(item) + Abbrv + \"_UA\" + str(str(Threshold)) for item in HaveBoth]"
   ]
  },
  {
   "cell_type": "code",
   "execution_count": 8,
   "metadata": {},
   "outputs": [
    {
     "name": "stdout",
     "output_type": "stream",
     "text": [
      "Missing (combined) JobNames:\n",
      "['0HM_DA0.11', '2HM_DA0.11', '3HM_DA0.11', '5HM_DA0.11', '6HM_DA0.11', '8HM_DA0.11', '9HM_DA0.11', '10HM_DA0.11', '12HM_DA0.11', '13HM_DA0.11', '14HM_DA0.11', '15HM_DA0.11', '17HM_DA0.11', '18HM_DA0.11', '19HM_DA0.11', '21HM_DA0.11', '23HM_DA0.11', '24HM_DA0.11', '25HM_DA0.11', '27HM_DA0.11', '28HM_DA0.11', '29HM_DA0.11', '30HM_DA0.11', '31HM_DA0.11', '32HM_DA0.11', '33HM_DA0.11', '34HM_DA0.11', '36HM_DA0.11', '37HM_DA0.11', '39HM_DA0.11', '40HM_DA0.11', '42HM_DA0.11', '43HM_DA0.11', '46HM_DA0.11', '48HM_DA0.11', '49HM_DA0.11', '50HM_DA0.11', '53HM_DA0.11', '56HM_DA0.11', '60HM_DA0.11', '62HM_DA0.11', '63HM_DA0.11', '64HM_DA0.11', '65HM_DA0.11', '66HM_DA0.11', '67HM_DA0.11', '68HM_DA0.11', '69HM_DA0.11', '71HM_DA0.11', '73HM_DA0.11', '76HM_DA0.11', '78HM_DA0.11', '79HM_DA0.11', '80HM_DA0.11', '81HM_DA0.11', '82HM_DA0.11', '83HM_DA0.11', '84HM_DA0.11', '86HM_DA0.11', '87HM_DA0.11', '90HM_DA0.11', '92HM_DA0.11', '94HM_DA0.11', '95HM_DA0.11', '96HM_DA0.11', '97HM_DA0.11', '99HM_DA0.11', '0HM_UA0.11', '2HM_UA0.11', '3HM_UA0.11', '5HM_UA0.11', '8HM_UA0.11', '9HM_UA0.11', '10HM_UA0.11', '12HM_UA0.11', '13HM_UA0.11', '14HM_UA0.11', '15HM_UA0.11', '17HM_UA0.11', '18HM_UA0.11', '19HM_UA0.11', '24HM_UA0.11', '25HM_UA0.11', '28HM_UA0.11', '29HM_UA0.11', '30HM_UA0.11', '31HM_UA0.11', '32HM_UA0.11', '33HM_UA0.11', '34HM_UA0.11', '36HM_UA0.11', '37HM_UA0.11', '39HM_UA0.11', '40HM_UA0.11', '42HM_UA0.11', '43HM_UA0.11', '44HM_UA0.11', '46HM_UA0.11', '48HM_UA0.11', '49HM_UA0.11', '50HM_UA0.11', '53HM_UA0.11', '56HM_UA0.11', '60HM_UA0.11', '62HM_UA0.11', '63HM_UA0.11', '64HM_UA0.11', '65HM_UA0.11', '66HM_UA0.11', '67HM_UA0.11', '68HM_UA0.11', '69HM_UA0.11', '71HM_UA0.11', '73HM_UA0.11', '78HM_UA0.11', '79HM_UA0.11', '80HM_UA0.11', '81HM_UA0.11', '82HM_UA0.11', '83HM_UA0.11', '84HM_UA0.11', '86HM_UA0.11', '87HM_UA0.11', '90HM_UA0.11', '92HM_UA0.11', '94HM_UA0.11', '96HM_UA0.11', '97HM_UA0.11', '99HM_UA0.11']\n"
     ]
    }
   ],
   "source": [
    "# print(\"Missing JobNames for UNQ:\", MissingUNQ_List)\n",
    "# print(\"Missing JobNames for DPL:\", MissingDPL_List)\n",
    "print(\"Missing (combined) JobNames:\")\n",
    "print(MissingDPL_List + MissingUNQ_List)"
   ]
  },
  {
   "cell_type": "code",
   "execution_count": 9,
   "metadata": {},
   "outputs": [
    {
     "data": {
      "text/plain": [
       "129"
      ]
     },
     "execution_count": 9,
     "metadata": {},
     "output_type": "execute_result"
    }
   ],
   "source": [
    "len(MissingDPL_List + MissingUNQ_List)"
   ]
  },
  {
   "cell_type": "code",
   "execution_count": 10,
   "metadata": {},
   "outputs": [
    {
     "name": "stdout",
     "output_type": "stream",
     "text": [
      "Have both JobNames:\n",
      "[1, 4, 7, 11, 16, 20, 22, 26, 35, 38, 41, 45, 47, 51, 52, 54, 55, 57, 58, 59, 61, 70, 72, 74, 75, 77, 85, 88, 89, 91, 93, 98]\n",
      "['1HM_DA0.11', '4HM_DA0.11', '7HM_DA0.11', '11HM_DA0.11', '16HM_DA0.11', '20HM_DA0.11', '22HM_DA0.11', '26HM_DA0.11', '35HM_DA0.11', '38HM_DA0.11', '41HM_DA0.11', '45HM_DA0.11', '47HM_DA0.11', '51HM_DA0.11', '52HM_DA0.11', '54HM_DA0.11', '55HM_DA0.11', '57HM_DA0.11', '58HM_DA0.11', '59HM_DA0.11', '61HM_DA0.11', '70HM_DA0.11', '72HM_DA0.11', '74HM_DA0.11', '75HM_DA0.11', '77HM_DA0.11', '85HM_DA0.11', '88HM_DA0.11', '89HM_DA0.11', '91HM_DA0.11', '93HM_DA0.11', '98HM_DA0.11', '1HM_UA0.11', '4HM_UA0.11', '7HM_UA0.11', '11HM_UA0.11', '16HM_UA0.11', '20HM_UA0.11', '22HM_UA0.11', '26HM_UA0.11', '35HM_UA0.11', '38HM_UA0.11', '41HM_UA0.11', '45HM_UA0.11', '47HM_UA0.11', '51HM_UA0.11', '52HM_UA0.11', '54HM_UA0.11', '55HM_UA0.11', '57HM_UA0.11', '58HM_UA0.11', '59HM_UA0.11', '61HM_UA0.11', '70HM_UA0.11', '72HM_UA0.11', '74HM_UA0.11', '75HM_UA0.11', '77HM_UA0.11', '85HM_UA0.11', '88HM_UA0.11', '89HM_UA0.11', '91HM_UA0.11', '93HM_UA0.11', '98HM_UA0.11']\n"
     ]
    }
   ],
   "source": [
    "print(\"Have both JobNames:\")\n",
    "print(HaveBoth)\n",
    "print(HaveBothDPL_List + HaveBothUNQ_List)"
   ]
  },
  {
   "cell_type": "code",
   "execution_count": 11,
   "metadata": {},
   "outputs": [
    {
     "data": {
      "text/plain": [
       "32"
      ]
     },
     "execution_count": 11,
     "metadata": {},
     "output_type": "execute_result"
    }
   ],
   "source": [
    "len(HaveBoth)"
   ]
  },
  {
   "cell_type": "code",
   "execution_count": 12,
   "metadata": {},
   "outputs": [
    {
     "data": {
      "text/plain": [
       "Index([ 1,  4,  6,  7, 11, 16, 20, 21, 22, 23, 26, 27, 35, 38, 41, 45, 47, 51,\n",
       "       52, 54, 55, 57, 58, 59, 61, 70, 72, 74, 75, 76, 77, 85, 88, 89, 91, 93,\n",
       "       95, 98],\n",
       "      dtype='int64')"
      ]
     },
     "execution_count": 12,
     "metadata": {},
     "output_type": "execute_result"
    }
   ],
   "source": [
    "TotalCountUnique[TotalCountUnique[\"Unique\"] == 1].index"
   ]
  }
 ],
 "metadata": {
  "kernelspec": {
   "display_name": "rashomon-3.9",
   "language": "python",
   "name": "python3"
  },
  "language_info": {
   "codemirror_mode": {
    "name": "ipython",
    "version": 3
   },
   "file_extension": ".py",
   "mimetype": "text/x-python",
   "name": "python",
   "nbconvert_exporter": "python",
   "pygments_lexer": "ipython3",
   "version": "3.9.20"
  }
 },
 "nbformat": 4,
 "nbformat_minor": 2
}
