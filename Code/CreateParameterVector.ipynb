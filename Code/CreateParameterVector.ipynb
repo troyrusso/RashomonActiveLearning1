{
 "cells": [
  {
   "cell_type": "code",
   "execution_count": 1,
   "metadata": {},
   "outputs": [],
   "source": [
    "### Import packages ###\n",
    "import itertools\n",
    "import pandas as pd"
   ]
  },
  {
   "cell_type": "markdown",
   "metadata": {},
   "source": [
    "# Input"
   ]
  },
  {
   "cell_type": "code",
   "execution_count": 2,
   "metadata": {},
   "outputs": [],
   "source": [
    "# Input Data Set #\n",
    "Data =\"BreastCancer\"\n",
    "JobNameAbbrev = \"BC\"\n",
    "\n",
    "# Input directory #\n",
    "dir_path = \"/Users/simondn/Documents/RashomonActiveLearning/Code/raw\"\n",
    "\n",
    "# Input Parameters #\n",
    "ParameterDictionary = {\"Data\":[Data],\n",
    "                       \"Seed\":list([15, 24, 92]),\n",
    "                       \"TestProportion\":[0.2],\n",
    "                       \"CandidateProportion\":[0.8],\n",
    "                       \"SelectorType\":[\"TreeEnsembleQBCFunction\"],\n",
    "                       \"ModelType\":[\"TreeFarmsFunction\"],\n",
    "                       \"UniqueErrorsInput\": [1],\n",
    "                       \"n_estimators\": [100], \n",
    "                       \"regularization\": [0.01],\n",
    "                       \"rashomon_bound_adder\": [0.029],\n",
    "                       \"Type\": [\"Classification\"]}\n",
    "\n",
    "# Create Parameter Vector #\n",
    "ParameterVector = pd.DataFrame.from_records(itertools.product(*ParameterDictionary.values()), columns=ParameterDictionary.keys())"
   ]
  },
  {
   "cell_type": "markdown",
   "metadata": {},
   "source": [
    "# Include/exclude Random Forest Simulations"
   ]
  },
  {
   "cell_type": "code",
   "execution_count": 3,
   "metadata": {},
   "outputs": [],
   "source": [
    "# ### Include Random Forest ###\n",
    "# RandomForestParameterDictionary = {\"Data\":[Data],\n",
    "#                        \"Seed\":list(range(0,100)),\n",
    "#                        \"TestProportion\":[0.2],\n",
    "#                        \"CandidateProportion\":[0.8],\n",
    "#                        \"SelectorType\":[\"TreeEnsembleQBCFunction\"],\n",
    "#                        \"ModelType\":[\"RandomForestClassificationFunction\"],\n",
    "#                        \"UniqueErrorsInput\": [0],\n",
    "#                        \"n_estimators\": [100], \n",
    "#                        \"regularization\": [0.00],\n",
    "#                        \"rashomon_bound_adder\": [0],\n",
    "#                        \"Type\": [\"Classification\"]}\n",
    "# RandomForestParameterVector = pd.DataFrame.from_records(itertools.product(*RandomForestParameterDictionary.values()), columns=RandomForestParameterDictionary.keys())\n",
    "\n",
    "# # NOTE: Comment out chunk to not include random forest simulations. ###\n",
    "# ParameterVector = pd.concat([ParameterVector, RandomForestParameterVector]) # NOTE: Comment out to not include random forest baseline\n",
    "# ParameterVector = ParameterVector.sort_values(\"Seed\")\n",
    "# ParameterVector.index = range(0, ParameterVector.shape[0])"
   ]
  },
  {
   "cell_type": "markdown",
   "metadata": {},
   "source": [
    "# Job and Output Name"
   ]
  },
  {
   "cell_type": "code",
   "execution_count": 4,
   "metadata": {},
   "outputs": [],
   "source": [
    "### Remove Dictionary ###\n",
    "del ParameterDictionary\n",
    "\n",
    "# Generate JobName #\n",
    "ParameterVector[\"JobName\"] = (\n",
    "    ParameterVector[\"Seed\"].astype(str) +\n",
    "    JobNameAbbrev + \n",
    "    \"_MT\" + ParameterVector[\"ModelType\"].astype(str) +\n",
    "    \"_UEI\" + ParameterVector[\"UniqueErrorsInput\"].astype(str) +\n",
    "    \"_\" + ParameterVector[\"rashomon_bound_adder\"].astype(str))\n",
    "\n",
    "# Replace Job Name #\n",
    "ParameterVector[\"JobName\"] = (\n",
    "    ParameterVector[\"JobName\"]\n",
    "    .str.replace(r\"_MTTreeFarmsFunction_UEI0_\", \"_DPL\", regex=True)\n",
    "    .str.replace(r\"_MTTreeFarmsFunction_UEI1_\", \"_UNQ\", regex=True)\n",
    "    .str.replace(r\"_MTRandomForestClassificationFunction_UEI0_\", \"_RF\", regex=True))\n",
    "\n",
    "# Output Name #\n",
    "ParameterVector[\"Output\"] = ParameterVector[\"Data\"].astype(str) + \"/\" + ParameterVector[\"ModelType\"].astype(str) + \"/Raw/\" + ParameterVector[\"JobName\"] + \".pkl\"\n",
    "ParameterVector[\"Output\"] = ParameterVector[\"Output\"].str.replace(\"Function\", \"\", regex=False)"
   ]
  },
  {
   "cell_type": "markdown",
   "metadata": {},
   "source": [
    "# Save Parameter Vector"
   ]
  },
  {
   "cell_type": "code",
   "execution_count": 5,
   "metadata": {},
   "outputs": [
    {
     "data": {
      "text/html": [
       "<div>\n",
       "<style scoped>\n",
       "    .dataframe tbody tr th:only-of-type {\n",
       "        vertical-align: middle;\n",
       "    }\n",
       "\n",
       "    .dataframe tbody tr th {\n",
       "        vertical-align: top;\n",
       "    }\n",
       "\n",
       "    .dataframe thead th {\n",
       "        text-align: right;\n",
       "    }\n",
       "</style>\n",
       "<table border=\"1\" class=\"dataframe\">\n",
       "  <thead>\n",
       "    <tr style=\"text-align: right;\">\n",
       "      <th></th>\n",
       "      <th>Data</th>\n",
       "      <th>Seed</th>\n",
       "      <th>TestProportion</th>\n",
       "      <th>CandidateProportion</th>\n",
       "      <th>SelectorType</th>\n",
       "      <th>ModelType</th>\n",
       "      <th>UniqueErrorsInput</th>\n",
       "      <th>n_estimators</th>\n",
       "      <th>regularization</th>\n",
       "      <th>rashomon_bound_adder</th>\n",
       "      <th>Type</th>\n",
       "      <th>JobName</th>\n",
       "      <th>Output</th>\n",
       "    </tr>\n",
       "  </thead>\n",
       "  <tbody>\n",
       "    <tr>\n",
       "      <th>0</th>\n",
       "      <td>BreastCancer</td>\n",
       "      <td>15</td>\n",
       "      <td>0.2</td>\n",
       "      <td>0.8</td>\n",
       "      <td>TreeEnsembleQBCFunction</td>\n",
       "      <td>TreeFarmsFunction</td>\n",
       "      <td>1</td>\n",
       "      <td>100</td>\n",
       "      <td>0.01</td>\n",
       "      <td>0.029</td>\n",
       "      <td>Classification</td>\n",
       "      <td>15BC_UNQ0.029</td>\n",
       "      <td>BreastCancer/TreeFarms/Raw/15BC_UNQ0.029.pkl</td>\n",
       "    </tr>\n",
       "    <tr>\n",
       "      <th>1</th>\n",
       "      <td>BreastCancer</td>\n",
       "      <td>24</td>\n",
       "      <td>0.2</td>\n",
       "      <td>0.8</td>\n",
       "      <td>TreeEnsembleQBCFunction</td>\n",
       "      <td>TreeFarmsFunction</td>\n",
       "      <td>1</td>\n",
       "      <td>100</td>\n",
       "      <td>0.01</td>\n",
       "      <td>0.029</td>\n",
       "      <td>Classification</td>\n",
       "      <td>24BC_UNQ0.029</td>\n",
       "      <td>BreastCancer/TreeFarms/Raw/24BC_UNQ0.029.pkl</td>\n",
       "    </tr>\n",
       "    <tr>\n",
       "      <th>2</th>\n",
       "      <td>BreastCancer</td>\n",
       "      <td>92</td>\n",
       "      <td>0.2</td>\n",
       "      <td>0.8</td>\n",
       "      <td>TreeEnsembleQBCFunction</td>\n",
       "      <td>TreeFarmsFunction</td>\n",
       "      <td>1</td>\n",
       "      <td>100</td>\n",
       "      <td>0.01</td>\n",
       "      <td>0.029</td>\n",
       "      <td>Classification</td>\n",
       "      <td>92BC_UNQ0.029</td>\n",
       "      <td>BreastCancer/TreeFarms/Raw/92BC_UNQ0.029.pkl</td>\n",
       "    </tr>\n",
       "  </tbody>\n",
       "</table>\n",
       "</div>"
      ],
      "text/plain": [
       "           Data  Seed  TestProportion  CandidateProportion  \\\n",
       "0  BreastCancer    15             0.2                  0.8   \n",
       "1  BreastCancer    24             0.2                  0.8   \n",
       "2  BreastCancer    92             0.2                  0.8   \n",
       "\n",
       "              SelectorType          ModelType  UniqueErrorsInput  \\\n",
       "0  TreeEnsembleQBCFunction  TreeFarmsFunction                  1   \n",
       "1  TreeEnsembleQBCFunction  TreeFarmsFunction                  1   \n",
       "2  TreeEnsembleQBCFunction  TreeFarmsFunction                  1   \n",
       "\n",
       "   n_estimators  regularization  rashomon_bound_adder            Type  \\\n",
       "0           100            0.01                 0.029  Classification   \n",
       "1           100            0.01                 0.029  Classification   \n",
       "2           100            0.01                 0.029  Classification   \n",
       "\n",
       "         JobName                                        Output  \n",
       "0  15BC_UNQ0.029  BreastCancer/TreeFarms/Raw/15BC_UNQ0.029.pkl  \n",
       "1  24BC_UNQ0.029  BreastCancer/TreeFarms/Raw/24BC_UNQ0.029.pkl  \n",
       "2  92BC_UNQ0.029  BreastCancer/TreeFarms/Raw/92BC_UNQ0.029.pkl  "
      ]
     },
     "execution_count": 5,
     "metadata": {},
     "output_type": "execute_result"
    }
   ],
   "source": [
    "ParameterVector"
   ]
  },
  {
   "cell_type": "code",
   "execution_count": 6,
   "metadata": {},
   "outputs": [],
   "source": [
    "# Save \n",
    "output_path = \"/Users/simondn/Documents/RashomonActiveLearning/Data/ParameterVectors/ParameterVector\" + str(Data) + \".csv\"\n",
    "ParameterVector.to_csv(output_path, index=False)"
   ]
  },
  {
   "cell_type": "markdown",
   "metadata": {},
   "source": [
    "---"
   ]
  },
  {
   "cell_type": "code",
   "execution_count": 7,
   "metadata": {},
   "outputs": [],
   "source": [
    "# ### Simulations that failed ###\n",
    "# FilterText = ['66IS_UNQ0.041', \n",
    "# '66IS_UNQ0.043', \n",
    "# '66IS_UNQ0.045', \n",
    "# '13IS_UNQ0.045', \n",
    "# '66IS_DPL0.041', \n",
    "# '66IS_DPL0.043', \n",
    "# '66IS_DPL0.045', \n",
    "# '13IS_DPL0.045']\n",
    "\n",
    "# ### Rerun these simulations ###\n",
    "# ParameterVector = ParameterVector[ParameterVector[\"JobName\"].isin(FilterText)]\n",
    "# ParameterVector.index = range(0,len(ParameterVector))\n",
    "# ParameterVector\n",
    "# ### Resave ###\n",
    "# output_path = \"/Users/simondn/Documents/RashomonActiveLearning/Data/ParameterVectors/ParameterVector\" + str(Data) + \".csv\"\n",
    "# ParameterVector.to_csv(output_path, index=False)"
   ]
  }
 ],
 "metadata": {
  "kernelspec": {
   "display_name": "Python 3",
   "language": "python",
   "name": "python3"
  },
  "language_info": {
   "codemirror_mode": {
    "name": "ipython",
    "version": 3
   },
   "file_extension": ".py",
   "mimetype": "text/x-python",
   "name": "python",
   "nbconvert_exporter": "python",
   "pygments_lexer": "ipython3",
   "version": "3.9.6"
  }
 },
 "nbformat": 4,
 "nbformat_minor": 2
}
