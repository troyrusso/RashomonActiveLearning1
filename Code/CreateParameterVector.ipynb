{
 "cells": [
  {
   "cell_type": "code",
   "execution_count": 4,
   "metadata": {},
   "outputs": [],
   "source": [
    "### Import packages ###\n",
    "import numpy as np\n",
    "import math as math\n",
    "import pandas as pd\n",
    "import random as random\n",
    "import matplotlib.pyplot as plt\n",
    "from scipy.spatial.distance import cdist\n",
    "\n",
    "### Import functions ###\n",
    "from utils.Main import *\n",
    "from utils.Selector import *\n",
    "from utils.Auxiliary import *\n",
    "from utils.Prediction import *"
   ]
  },
  {
   "cell_type": "code",
   "execution_count": 22,
   "metadata": {},
   "outputs": [],
   "source": [
    "import itertools\n",
    "import pandas as pd\n",
    "\n",
    "# Directory\n",
    "dir_path = \"/Users/simondn/Documents/RashomonActiveLearning/Code/raw\"\n",
    "\n",
    "# Define parameters\n",
    "Seed = range(0,3)\n",
    "Data =[\"Simulate\"]\n",
    "TestProportion = [0.2]\n",
    "CandidateProportion = [0.8]\n",
    "SelectorType = [\"PassiveLearning\", \"GSxFunction\", \"GSyFunction\", \"iGSFunction\"]\n",
    "ModelType = [\"LinearRegressionFunction\", \"RidgeRegressionFunction\"]\n",
    "DataArgs = [{\"N\": 1000, \"K\": 5}]\n",
    "SelectorArgs = [{'df_Candidate' : \"df_Candidate\"}],\n",
    "ModelArgs = [{\"alpha_val\": 0.1}]\n",
    "\n",
    "Combinations = list(itertools.product(\n",
    "    Seed, Data, TestProportion, CandidateProportion, SelectorType, ModelType, DataArgs, SelectorArgs, ModelArgs\n",
    "))\n"
   ]
  },
  {
   "cell_type": "code",
   "execution_count": null,
   "metadata": {},
   "outputs": [],
   "source": [
    "df = pd.DataFrame(Combinations,\n",
    "                  columns = [\"Seed\", \"Data\", \"TestProportion\", \"CandidateProportion\", \"SelectorType\", \"ModelType\", \"DataArgs\", \"SelectorArgs\", \"ModelArgs\"])\n",
    "df[\"JobName\"] = (\"Sim_\" +\n",
    "                 \"Seed\" + df[\"Seed\"].astype(str) +\n",
    "                 \"Data\" + df[\"Data\"].astype(str) +\n",
    "                 \"TestProportion\" + df[\"TestProportion\"].astype(str) +\n",
    "                 \"CandidateProportion\" + df[\"CandidateProportion\"].astype(str) +\n",
    "                 \"SelectorType\" + df[\"SelectorType\"].astype(str) +\n",
    "                 \"ModelType\" + df[\"ModelType\"].astype(str) +\n",
    "                 \"DataArgs\" + df[\"DataArgs\"].astype(str) +\n",
    "                 \"SelectorArgs\" + df[\"SelectorArgs\"].astype(str) +\n",
    "                 \"ModelArgs\" + df[\"ModelArgs\"].astype(str)\n",
    "                 )\n",
    "df[\"Output\"] = pass"
   ]
  },
  {
   "cell_type": "code",
   "execution_count": null,
   "metadata": {},
   "outputs": [],
   "source": [
    "### Save Parameter Vector ###\n",
    "output_path = f\"{dir_path}ParameterVectorALL.csv\"\n",
    "df.to_csv(output_path, index=False)\n"
   ]
  }
 ],
 "metadata": {
  "kernelspec": {
   "display_name": "Python 3",
   "language": "python",
   "name": "python3"
  },
  "language_info": {
   "codemirror_mode": {
    "name": "ipython",
    "version": 3
   },
   "file_extension": ".py",
   "mimetype": "text/x-python",
   "name": "python",
   "nbconvert_exporter": "python",
   "pygments_lexer": "ipython3",
   "version": "3.9.6"
  }
 },
 "nbformat": 4,
 "nbformat_minor": 2
}
