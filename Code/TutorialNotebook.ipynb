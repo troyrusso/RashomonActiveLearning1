{
 "cells": [
  {
   "cell_type": "markdown",
   "metadata": {},
   "source": [
    "# Introduction"
   ]
  },
  {
   "cell_type": "markdown",
   "metadata": {},
   "source": [
    "The following tutorial will exemplify the  Active Learning for Regression Using Greedy Sampling from Dongrui Wu, Chin-Teng Lin, Jian Huang.\n"
   ]
  },
  {
   "cell_type": "markdown",
   "metadata": {},
   "source": [
    "# Set Up"
   ]
  },
  {
   "cell_type": "markdown",
   "metadata": {},
   "source": [
    "## Import Packages"
   ]
  },
  {
   "cell_type": "code",
   "execution_count": null,
   "metadata": {},
   "outputs": [],
   "source": [
    "### Import Packages ###\n",
    "import os\n",
    "import math as math\n",
    "import pandas as pd\n",
    "import random as random\n",
    "\n",
    "### Local Packages ###\n",
    "from utils.Prediction import *\n",
    "from utils.Selector import *\n",
    "from utils.Auxiliary import *\n",
    "from utils.Main import *"
   ]
  },
  {
   "cell_type": "markdown",
   "metadata": {},
   "source": [
    "## Load Data"
   ]
  },
  {
   "cell_type": "code",
   "execution_count": null,
   "metadata": {},
   "outputs": [],
   "source": [
    "### Data ###\n",
    "from sklearn.datasets import fetch_openml\n",
    "\n",
    "boston = fetch_openml(name=\"boston\", version=1, as_frame=True)\n",
    "df = pd.DataFrame(data=boston.data, columns=['CRIM', 'ZN', 'INDUS', 'CHAS', 'NOX', 'RM', 'AGE', 'DIS', 'RAD', 'TAX', 'PTRATIO', 'B', 'LSTAT'])\n",
    "df = df.drop(columns=[\"CHAS\", \"RAD\"])\n",
    "df['Y'] = boston.target"
   ]
  },
  {
   "cell_type": "markdown",
   "metadata": {},
   "source": [
    "## Input Parameters"
   ]
  },
  {
   "cell_type": "code",
   "execution_count": null,
   "metadata": {},
   "outputs": [],
   "source": [
    "### Get Directory ###\n",
    "cwd = os.getcwd()\n",
    "ParentDirectory = os.path.abspath(os.path.join(cwd, \"..\"))\n",
    "\n",
    "### Input ###\n",
    "SimulationConfigInput = {'Seed': 1,                     # Seed\n",
    "    'TestProportion': 0.2,                              # Test proportion\n",
    "    'CandidateProportion': 0.8,                         # Candidate proportion\n",
    "    'SelectorType': 'GSxFunction',                      # Options: [GSxFunction, GSyFunction, iGSFunction, PassiveLearning] (all of these are for regression)\n",
    "    'ModelType': 'RandomForestRegressorFunction',       # Options: [LinearRegressionFunction, RandomForestRegressorFunction] (all of these are for regression)\n",
    "    'UniqueErrorsInput': 0,                             # Ignore this for now (used for Rashomon)\n",
    "    'n_estimators': 100,                                # If using RandomForestRegressorFunction/RandomForestClassificationFunction, this is the number of trees\n",
    "    'regularization': 0.01,                             # Ignore this for now (used for Rashomon)\n",
    "    'RashomonThresholdType': \"Adder\",                   # Ignore this for now (used for Rashomon)\n",
    "    'RashomonThreshold': 0.05,                          # Ignore this for now (used for Rashomon)\n",
    "    'Type': 'Regression'}                               # Options: [Classification, Regression]\n",
    "\n",
    "### Seed ###\n",
    "StartTime = time.time()\n",
    "random.seed(SimulationConfigInput[\"Seed\"])\n",
    "np.random.seed(SimulationConfigInput[\"Seed\"])\n",
    "\n",
    "### Store Results ###\n",
    "ErrorVec = []\n",
    "SelectedObservationHistory = []\n",
    "TreeCount = {\"AllTreeCount\": [], \"UniqueTreeCount\": []}\n",
    "\n",
    "### Train Test Candidate Split ###\n",
    "df_Train, df_Test, df_Candidate = TrainTestCandidateSplit(df, SimulationConfigInput[\"TestProportion\"], SimulationConfigInput[\"CandidateProportion\"])\n",
    "\n",
    "### Update SimulationConfig Arguments ###\n",
    "SimulationConfigInput['df_Train'] = df_Train\n",
    "SimulationConfigInput[\"df_Test\"] = df_Test\n",
    "SimulationConfigInput[\"df_Candidate\"] = df_Candidate\n"
   ]
  },
  {
   "cell_type": "markdown",
   "metadata": {},
   "source": [
    "# For Loop"
   ]
  },
  {
   "cell_type": "markdown",
   "metadata": {},
   "source": [
    "The following is a loop that identifies parts of the active learning process. Look at each chunk and each section, and then go into the function in the directory."
   ]
  },
  {
   "cell_type": "code",
   "execution_count": null,
   "metadata": {},
   "outputs": [],
   "source": [
    "### Learning Procedure ###\n",
    "for i in range(len(df_Candidate)):\n",
    "\n",
    "    ### Prediction Model ###\n",
    "    print(\"Iteration: \" + str(i))\n",
    "    ModelType = globals().get(SimulationConfigInput[\"ModelType\"], None)                        # Extracts the right model\n",
    "    ModelArgsFiltered = FilterArguments(ModelType, SimulationConfigInput)                      # Selects the variables needed for the type of model\n",
    "    Model = ModelType(**ModelArgsFiltered)                                                     # Inputs the right variables needed for the type of model\n",
    "    SimulationConfigInput['Model'] = Model                                                     # Updates model\n",
    "\n",
    "    ### Test Error ###\n",
    "    TestErrorOutput = TestErrorFunction(InputModel = Model, df_Test = SimulationConfigInput[\"df_Test\"], Type = SimulationConfigInput[\"Type\"])\n",
    "    if('TREEFARMS' in str(type(Model))):                                                         # If Rashomon\n",
    "        CurrentError = TestErrorOutput[\"Error_Duplicate\"]\n",
    "    else: \n",
    "        CurrentError = TestErrorOutput[\"ErrorVal\"]                                               # One output for non-Rashomon\n",
    "    ErrorVec.append(CurrentError)\n",
    "\n",
    "    ### Sampling Procedure ###\n",
    "    SelectorType = globals().get(SimulationConfigInput[\"SelectorType\"], None)                      # Extracts the right selector\n",
    "    SelectorArgsFiltered = FilterArguments(SelectorType, SimulationConfigInput)                    # Selects the variables needed for the type of selector\n",
    "    SelectorFuncOutput = SelectorType(**SelectorArgsFiltered)                                      # Inputs the right variavles needed for the type of selector\n",
    "    QueryObservationIndex = SelectorFuncOutput[\"IndexRecommendation\"]                              # Extracts the index of the recommended observation\n",
    "    QueryObservation = SimulationConfigInput[\"df_Candidate\"].loc[[QueryObservationIndex]]          # Extracts the entire observation using the recommended index\n",
    "    SelectedObservationHistory.append(QueryObservationIndex)                                       # Appends to the selection history\n",
    "\n",
    "    ### Update Train and Candidate Sets ###\n",
    "    SimulationConfigInput[\"df_Train\"] = pd.concat([SimulationConfigInput[\"df_Train\"], QueryObservation])\n",
    "    SimulationConfigInput[\"df_Candidate\"] = SimulationConfigInput[\"df_Candidate\"].drop(QueryObservationIndex) \n",
    "\n",
    "    ### Store Number of (Unique) Trees ###\n",
    "    if('TREEFARMS' in str(type(Model))):\n",
    "        TreeCount[\"AllTreeCount\"].append(SelectorFuncOutput[\"AllTreeCount\"])          # Store number of trees\n",
    "        TreeCount[\"UniqueTreeCount\"].append(SelectorFuncOutput[\"UniqueTreeCount\"])    # Store number of unique/duplicate trees\n"
   ]
  },
  {
   "cell_type": "code",
   "execution_count": null,
   "metadata": {},
   "outputs": [],
   "source": [
    "plt.plot(ErrorVec)"
   ]
  },
  {
   "cell_type": "markdown",
   "metadata": {},
   "source": [
    "# Local Simulation"
   ]
  },
  {
   "cell_type": "markdown",
   "metadata": {},
   "source": [
    "The function OneIterationFunction will do all all of that above! The for loop was just written out so that you can see what is happenning internally and make the connection to the active learning procedure you've been reading in your papers. \n",
    "\n",
    "The only thing you have to change is the parameters in SimulationConfigInput."
   ]
  },
  {
   "cell_type": "markdown",
   "metadata": {},
   "source": [
    "## Linear Regression"
   ]
  },
  {
   "cell_type": "markdown",
   "metadata": {},
   "source": [
    "The following will run the active learning procedure with linear regression as the model. It will run the procedure with four different types of selectors: passive/random querying, GSx, GSy, and iGS."
   ]
  },
  {
   "cell_type": "code",
   "execution_count": null,
   "metadata": {},
   "outputs": [],
   "source": [
    "LinearRegressionActiveLearningResults = {}"
   ]
  },
  {
   "cell_type": "markdown",
   "metadata": {},
   "source": [
    "### Random/Passive Learning"
   ]
  },
  {
   "cell_type": "code",
   "execution_count": null,
   "metadata": {},
   "outputs": [],
   "source": [
    "### Input ###\n",
    "SimulationConfigInput = {\n",
    "    \"DataFileInput\" : \"BostonHousing\",                  # Data File Input\n",
    "    'Seed': 1,                                          # Seed\n",
    "    'TestProportion': 0.2,                              # Test proportion\n",
    "    'CandidateProportion': 0.8,                         # Candidate proportion\n",
    "    'SelectorType': 'PassiveLearning',                      # Options: [GSxFunction, GSyFunction, iGSFunction, PassiveLearning] (all of these are for regression)\n",
    "    'ModelType': 'LinearRegressionFunction',       # Options: [LinearRegressionFunction, RandomForestRegressorFunction] (all of these are for regression)\n",
    "    'n_estimators': 100,                                # If using RandomForestRegressorFunction/RandomForestClassificationFunction, this is the number of trees\n",
    "    'Type': 'Regression',                               # Options: [Classification, Regression]\n",
    "    'UniqueErrorsInput': 0,                             # Ignore this for now (used for Rashomon)\n",
    "    'regularization': 0.01,                             # Ignore this for now (used for Rashomon)\n",
    "    'RashomonThresholdType': \"Adder\",                   # Ignore this for now (used for Rashomon)\n",
    "    'RashomonThreshold': 0.05}                          # Ignore this for now (used for Rashomon)\n",
    "\n",
    "### Run Function\n",
    "LinearRegressionResults_Passive = OneIterationFunction(SimulationConfigInput)\n",
    "LinearRegressionActiveLearningResults[\"Passive\"] = LinearRegressionResults_Passive\n"
   ]
  },
  {
   "cell_type": "markdown",
   "metadata": {},
   "source": [
    "### Selector: GSx"
   ]
  },
  {
   "cell_type": "code",
   "execution_count": null,
   "metadata": {},
   "outputs": [],
   "source": [
    "### Input ###\n",
    "SimulationConfigInput = {\n",
    "    \"DataFileInput\" : \"BostonHousing\",                  # Data File Input\n",
    "    'Seed': 1,                                          # Seed\n",
    "    'TestProportion': 0.2,                              # Test proportion\n",
    "    'CandidateProportion': 0.8,                         # Candidate proportion\n",
    "    'SelectorType': 'GSxFunction',                      # Options: [GSxFunction, GSyFunction, iGSFunction, PassiveLearning] (all of these are for regression)\n",
    "    'ModelType': 'LinearRegressionFunction',       # Options: [LinearRegressionFunction, RandomForestRegressorFunction] (all of these are for regression)\n",
    "    'n_estimators': 100,                                # If using RandomForestRegressorFunction/RandomForestClassificationFunction, this is the number of trees\n",
    "    'Type': 'Regression',                               # Options: [Classification, Regression]\n",
    "    'UniqueErrorsInput': 0,                             # Ignore this for now (used for Rashomon)\n",
    "    'regularization': 0.01,                             # Ignore this for now (used for Rashomon)\n",
    "    'RashomonThresholdType': \"Adder\",                   # Ignore this for now (used for Rashomon)\n",
    "    'RashomonThreshold': 0.05}                          # Ignore this for now (used for Rashomon)\n",
    "\n",
    "### Run Function\n",
    "LinearRegressionResults_GSx = OneIterationFunction(SimulationConfigInput)\n",
    "LinearRegressionActiveLearningResults[\"GSx\"] = LinearRegressionResults_GSx"
   ]
  },
  {
   "cell_type": "markdown",
   "metadata": {},
   "source": [
    "### Selector: GSy"
   ]
  },
  {
   "cell_type": "code",
   "execution_count": null,
   "metadata": {},
   "outputs": [],
   "source": [
    "### Input ###\n",
    "SimulationConfigInput = {\n",
    "    \"DataFileInput\" : \"BostonHousing\",                  # Data File Input\n",
    "    'Seed': 1,                                          # Seed\n",
    "    'TestProportion': 0.2,                              # Test proportion\n",
    "    'CandidateProportion': 0.8,                         # Candidate proportion\n",
    "    'SelectorType': 'GSyFunction',                      # Options: [GSxFunction, GSyFunction, iGSFunction, PassiveLearning] (all of these are for regression)\n",
    "    'ModelType': 'LinearRegressionFunction',       # Options: [LinearRegressionFunction, RandomForestRegressorFunction] (all of these are for regression)\n",
    "    'n_estimators': 100,                                # If using RandomForestRegressorFunction/RandomForestClassificationFunction, this is the number of trees\n",
    "    'Type': 'Regression',                               # Options: [Classification, Regression]\n",
    "    'UniqueErrorsInput': 0,                             # Ignore this for now (used for Rashomon)\n",
    "    'regularization': 0.01,                             # Ignore this for now (used for Rashomon)\n",
    "    'RashomonThresholdType': \"Adder\",                   # Ignore this for now (used for Rashomon)\n",
    "    'RashomonThreshold': 0.05}                          # Ignore this for now (used for Rashomon)\n",
    "\n",
    "### Run Function\n",
    "LinearRegressionResults_GSy = OneIterationFunction(SimulationConfigInput)\n",
    "LinearRegressionActiveLearningResults[\"GSy\"] = LinearRegressionResults_GSy\n"
   ]
  },
  {
   "cell_type": "markdown",
   "metadata": {},
   "source": [
    "### Selector: iGS"
   ]
  },
  {
   "cell_type": "code",
   "execution_count": null,
   "metadata": {},
   "outputs": [],
   "source": [
    "### Input ###\n",
    "SimulationConfigInput = {\n",
    "    \"DataFileInput\" : \"BostonHousing\",                  # Data File Input\n",
    "    'Seed': 1,                                          # Seed\n",
    "    'TestProportion': 0.2,                              # Test proportion\n",
    "    'CandidateProportion': 0.8,                         # Candidate proportion\n",
    "    'SelectorType': 'iGSFunction',                      # Options: [GSxFunction, GSyFunction, iGSFunction, PassiveLearning] (all of these are for regression)\n",
    "    'ModelType': 'LinearRegressionFunction',       # Options: [LinearRegressionFunction, RandomForestRegressorFunction] (all of these are for regression)\n",
    "    'n_estimators': 100,                                # If using RandomForestRegressorFunction/RandomForestClassificationFunction, this is the number of trees\n",
    "    'Type': 'Regression',                               # Options: [Classification, Regression]\n",
    "    'UniqueErrorsInput': 0,                             # Ignore this for now (used for Rashomon)\n",
    "    'regularization': 0.01,                             # Ignore this for now (used for Rashomon)\n",
    "    'RashomonThresholdType': \"Adder\",                   # Ignore this for now (used for Rashomon)\n",
    "    'RashomonThreshold': 0.05}                          # Ignore this for now (used for Rashomon)\n",
    "\n",
    "### Run Function\n",
    "LinearRegressionResults_iGS = OneIterationFunction(SimulationConfigInput)\n",
    "LinearRegressionActiveLearningResults[\"iGS\"] = LinearRegressionResults_iGS"
   ]
  },
  {
   "cell_type": "markdown",
   "metadata": {},
   "source": [
    "### Linear Regression Active Learning Results"
   ]
  },
  {
   "cell_type": "code",
   "execution_count": null,
   "metadata": {},
   "outputs": [],
   "source": [
    "### Set Up ###\n",
    "SimulationErrorResults = {\"Passive\" : LinearRegressionActiveLearningResults[\"Passive\"][\"ErrorVec\"],\n",
    "                          \"GSx\" : LinearRegressionActiveLearningResults[\"GSx\"][\"ErrorVec\"],\n",
    "                          \"GSy\" : LinearRegressionActiveLearningResults[\"GSy\"][\"ErrorVec\"],\n",
    "                          \"iGS\" : LinearRegressionActiveLearningResults[\"iGS\"][\"ErrorVec\"],}\n",
    "\n",
    "### Aesthetics ###\n",
    "# PlotSubtitle = f\"Dataset: {SimulationConfigInput[\"DataFileInput\"]}\"\n",
    "PlotSubtitle=\"BostonHousing with Linear Regression\"\n",
    "Colors = {\n",
    "    \"Passive\": \"black\",\n",
    "    \"GSx\": \"green\",\n",
    "    \"GSy\": \"orange\",\n",
    "    \"iGS\": \"blue\"\n",
    "}\n",
    "\n",
    "Linestyles = {\n",
    "    \"Passive\": \"solid\",\n",
    "    \"GSx\": \"solid\",\n",
    "    \"GSy\": \"solid\",\n",
    "    \"iGS\": \"solid\"\n",
    "}\n",
    "\n",
    "LegendMapping = {\n",
    "    \"Passive\": \"Passive\",\n",
    "    \"GSx\": \"GSx\",\n",
    "    \"GSy\": \"GSy\",\n",
    "    \"iGS\": \"iGS\"\n",
    "}\n"
   ]
  },
  {
   "cell_type": "code",
   "execution_count": null,
   "metadata": {},
   "outputs": [],
   "source": [
    "### Mean Plot ###\n",
    "plt.figure(figsize=[10,5])\n",
    "for Label, Values in SimulationErrorResults.items():\n",
    "    x = 20 + (np.arange(len(Values)) / len(Values)) * 80  # Start at 20% and go to 100%\n",
    "    color = Colors.get(Label, None) if Colors else None \n",
    "    linestyle = Linestyles.get(Label, ':') if Linestyles else ':'\n",
    "    legend_label = LegendMapping[Label] if LegendMapping and Label in LegendMapping else Label\n",
    "    plt.plot(x, Values, label=legend_label, color=color, linestyle=linestyle)\n",
    "\n",
    "plt.suptitle(\"Active Learning Mean Error Plot\")\n",
    "plt.xlabel(\"Percent of labelled observations\")\n",
    "plt.ylabel(\"RMSE\")\n",
    "plt.title(PlotSubtitle, fontsize=9)\n",
    "plt.legend(loc='upper right')\n",
    "MeanPlot = plt.gcf()"
   ]
  },
  {
   "cell_type": "markdown",
   "metadata": {},
   "source": [
    "---"
   ]
  },
  {
   "cell_type": "markdown",
   "metadata": {},
   "source": [
    "## Random Forests"
   ]
  },
  {
   "cell_type": "markdown",
   "metadata": {},
   "source": [
    "The following will run the active learning procedure with linear regression as the model. It will run the procedure with four different types of selectors: passive/random querying, GSx, GSy, and iGS."
   ]
  },
  {
   "cell_type": "code",
   "execution_count": null,
   "metadata": {},
   "outputs": [],
   "source": [
    "RandomForestsActiveLearningResults = {}"
   ]
  },
  {
   "cell_type": "markdown",
   "metadata": {},
   "source": [
    "### Random/Passive Learning"
   ]
  },
  {
   "cell_type": "code",
   "execution_count": null,
   "metadata": {},
   "outputs": [],
   "source": [
    "### Input ###\n",
    "SimulationConfigInput = {\n",
    "    \"DataFileInput\" : \"BostonHousing\",                  # Data File Input\n",
    "    'Seed': 1,                                          # Seed\n",
    "    'TestProportion': 0.2,                              # Test proportion\n",
    "    'CandidateProportion': 0.8,                         # Candidate proportion\n",
    "    'SelectorType': 'PassiveLearning',                      # Options: [GSxFunction, GSyFunction, iGSFunction, PassiveLearning] (all of these are for regression)\n",
    "    'ModelType': 'RandomForestRegressorFunction',       # Options: [LinearRegressionFunction, RandomForestRegressorFunction] (all of these are for regression)\n",
    "    'n_estimators': 100,                                # If using RandomForestRegressorFunction/RandomForestClassificationFunction, this is the number of trees\n",
    "    'Type': 'Regression',                               # Options: [Classification, Regression]\n",
    "    'UniqueErrorsInput': 0,                             # Ignore this for now (used for Rashomon)\n",
    "    'regularization': 0.01,                             # Ignore this for now (used for Rashomon)\n",
    "    'RashomonThresholdType': \"Adder\",                   # Ignore this for now (used for Rashomon)\n",
    "    'RashomonThreshold': 0.05}                          # Ignore this for now (used for Rashomon)\n",
    "\n",
    "### Run Function\n",
    "RandomForestsResults_Passive = OneIterationFunction(SimulationConfigInput)\n",
    "RandomForestsActiveLearningResults[\"Passive\"] = RandomForestsResults_Passive\n"
   ]
  },
  {
   "cell_type": "markdown",
   "metadata": {},
   "source": [
    "### Selector: GSx"
   ]
  },
  {
   "cell_type": "code",
   "execution_count": null,
   "metadata": {},
   "outputs": [],
   "source": [
    "### Input ###\n",
    "SimulationConfigInput = {\n",
    "    \"DataFileInput\" : \"BostonHousing\",                  # Data File Input\n",
    "    'Seed': 1,                                          # Seed\n",
    "    'TestProportion': 0.2,                              # Test proportion\n",
    "    'CandidateProportion': 0.8,                         # Candidate proportion\n",
    "    'SelectorType': 'GSxFunction',                      # Options: [GSxFunction, GSyFunction, iGSFunction, PassiveLearning] (all of these are for regression)\n",
    "    'ModelType': 'RandomForestRegressorFunction',       # Options: [LinearRegressionFunction, RandomForestRegressorFunction] (all of these are for regression)\n",
    "    'n_estimators': 100,                                # If using RandomForestRegressorFunction/RandomForestClassificationFunction, this is the number of trees\n",
    "    'Type': 'Regression',                               # Options: [Classification, Regression]\n",
    "    'UniqueErrorsInput': 0,                             # Ignore this for now (used for Rashomon)\n",
    "    'regularization': 0.01,                             # Ignore this for now (used for Rashomon)\n",
    "    'RashomonThresholdType': \"Adder\",                   # Ignore this for now (used for Rashomon)\n",
    "    'RashomonThreshold': 0.05}                          # Ignore this for now (used for Rashomon)\n",
    "\n",
    "### Run Function\n",
    "RandomForestsResults_GSx = OneIterationFunction(SimulationConfigInput)\n",
    "RandomForestsActiveLearningResults[\"GSx\"] = RandomForestsResults_GSx"
   ]
  },
  {
   "cell_type": "markdown",
   "metadata": {},
   "source": [
    "### Selector: GSy"
   ]
  },
  {
   "cell_type": "code",
   "execution_count": null,
   "metadata": {},
   "outputs": [],
   "source": [
    "### Input ###\n",
    "SimulationConfigInput = {\n",
    "    \"DataFileInput\" : \"BostonHousing\",                  # Data File Input\n",
    "    'Seed': 1,                                          # Seed\n",
    "    'TestProportion': 0.2,                              # Test proportion\n",
    "    'CandidateProportion': 0.8,                         # Candidate proportion\n",
    "    'SelectorType': 'GSyFunction',                      # Options: [GSxFunction, GSyFunction, iGSFunction, PassiveLearning] (all of these are for regression)\n",
    "    'ModelType': 'RandomForestRegressorFunction',       # Options: [LinearRegressionFunction, RandomForestRegressorFunction] (all of these are for regression)\n",
    "    'n_estimators': 100,                                # If using RandomForestRegressorFunction/RandomForestClassificationFunction, this is the number of trees\n",
    "    'Type': 'Regression',                               # Options: [Classification, Regression]\n",
    "    'UniqueErrorsInput': 0,                             # Ignore this for now (used for Rashomon)\n",
    "    'regularization': 0.01,                             # Ignore this for now (used for Rashomon)\n",
    "    'RashomonThresholdType': \"Adder\",                   # Ignore this for now (used for Rashomon)\n",
    "    'RashomonThreshold': 0.05}                          # Ignore this for now (used for Rashomon)\n",
    "\n",
    "### Run Function\n",
    "RandomForestsResults_GSy = OneIterationFunction(SimulationConfigInput)\n",
    "RandomForestsActiveLearningResults[\"GSy\"] = RandomForestsResults_GSy\n"
   ]
  },
  {
   "cell_type": "markdown",
   "metadata": {},
   "source": [
    "### Selector: iGS"
   ]
  },
  {
   "cell_type": "code",
   "execution_count": null,
   "metadata": {},
   "outputs": [],
   "source": [
    "### Input ###\n",
    "SimulationConfigInput = {\n",
    "    \"DataFileInput\" : \"BostonHousing\",                  # Data File Input\n",
    "    'Seed': 1,                                          # Seed\n",
    "    'TestProportion': 0.2,                              # Test proportion\n",
    "    'CandidateProportion': 0.8,                         # Candidate proportion\n",
    "    'SelectorType': 'iGSFunction',                      # Options: [GSxFunction, GSyFunction, iGSFunction, PassiveLearning] (all of these are for regression)\n",
    "    'ModelType': 'RandomForestRegressorFunction',       # Options: [LinearRegressionFunction, RandomForestRegressorFunction] (all of these are for regression)\n",
    "    'n_estimators': 100,                                # If using RandomForestRegressorFunction/RandomForestClassificationFunction, this is the number of trees\n",
    "    'Type': 'Regression',                               # Options: [Classification, Regression]\n",
    "    'UniqueErrorsInput': 0,                             # Ignore this for now (used for Rashomon)\n",
    "    'regularization': 0.01,                             # Ignore this for now (used for Rashomon)\n",
    "    'RashomonThresholdType': \"Adder\",                   # Ignore this for now (used for Rashomon)\n",
    "    'RashomonThreshold': 0.05}                          # Ignore this for now (used for Rashomon)\n",
    "\n",
    "### Run Function\n",
    "RandomForestsResults_iGS = OneIterationFunction(SimulationConfigInput)\n",
    "RandomForestsActiveLearningResults[\"iGS\"] = RandomForestsResults_iGS"
   ]
  },
  {
   "cell_type": "markdown",
   "metadata": {},
   "source": [
    "### Linear Regression Active Learning Results"
   ]
  },
  {
   "cell_type": "code",
   "execution_count": null,
   "metadata": {},
   "outputs": [],
   "source": [
    "### Set Up ###\n",
    "SimulationErrorResults = {\"Passive\" : RandomForestsActiveLearningResults[\"Passive\"][\"ErrorVec\"],\n",
    "                          \"GSx\" : RandomForestsActiveLearningResults[\"GSx\"][\"ErrorVec\"],\n",
    "                          \"GSy\" : RandomForestsActiveLearningResults[\"GSy\"][\"ErrorVec\"],\n",
    "                          \"iGS\" : RandomForestsActiveLearningResults[\"iGS\"][\"ErrorVec\"],}\n",
    "\n",
    "### Aesthetics ###\n",
    "# PlotSubtitle = f\"Dataset: {SimulationConfigInput[\"DataFileInput\"]}\"\n",
    "PlotSubtitle= \"BostonHousing with RandomForests\"\n",
    "Colors = {\n",
    "    \"Passive\": \"black\",\n",
    "    \"GSx\": \"green\",\n",
    "    \"GSy\": \"orange\",\n",
    "    \"iGS\": \"blue\"\n",
    "}\n",
    "\n",
    "Linestyles = {\n",
    "    \"Passive\": \"solid\",\n",
    "    \"GSx\": \"solid\",\n",
    "    \"GSy\": \"solid\",\n",
    "    \"iGS\": \"solid\"\n",
    "}\n",
    "\n",
    "LegendMapping = {\n",
    "    \"Passive\": \"Passive\",\n",
    "    \"GSx\": \"GSx\",\n",
    "    \"GSy\": \"GSy\",\n",
    "    \"iGS\": \"iGS\"\n",
    "}\n"
   ]
  },
  {
   "cell_type": "code",
   "execution_count": null,
   "metadata": {},
   "outputs": [],
   "source": [
    "### Mean Plot ###\n",
    "plt.figure(figsize=[10,5])\n",
    "for Label, Values in SimulationErrorResults.items():\n",
    "    x = 20 + (np.arange(len(Values)) / len(Values)) * 80  # Start at 20% and go to 100%\n",
    "    color = Colors.get(Label, None) if Colors else None \n",
    "    linestyle = Linestyles.get(Label, ':') if Linestyles else ':'\n",
    "    legend_label = LegendMapping[Label] if LegendMapping and Label in LegendMapping else Label\n",
    "    plt.plot(x, Values, label=legend_label, color=color, linestyle=linestyle)\n",
    "\n",
    "plt.suptitle(\"Active Learning Mean Error Plot\")\n",
    "plt.xlabel(\"Percent of labelled observations\")\n",
    "plt.ylabel(\"RMSE\")\n",
    "plt.title(PlotSubtitle, fontsize=9)\n",
    "plt.legend(loc='upper right')\n",
    "MeanPlot = plt.gcf()"
   ]
  },
  {
   "cell_type": "markdown",
   "metadata": {},
   "source": [
    "# Tasks"
   ]
  },
  {
   "cell_type": "markdown",
   "metadata": {},
   "source": [
    "## 1. How to change things"
   ]
  },
  {
   "cell_type": "markdown",
   "metadata": {},
   "source": [
    "To add your own selector techinque or model technique, go to the respective directory (~/utils.Prediction for prediction models or ~/utils.Selector for the selection method) and add your own function! Then in SimulationConfigInput, change the SelectorType or ModelType input to the names of your functions. Try adding a new function (for instance, maybe a support vector machine) to the methods section and try running it!\n",
    "\n",
    "Additionally, you (Troy) had good ideas for a new selector method. Try to see if you can implement it. Make sure the output is the same as the models/selector methods listed there.\n",
    "\n",
    "Run the code below to see if it's working, and compare the results to what we've had."
   ]
  },
  {
   "cell_type": "code",
   "execution_count": null,
   "metadata": {},
   "outputs": [],
   "source": [
    "# YourNewFunctionName = \"\"\n",
    "# YourNewSelectorName = \"\"\n",
    "\n",
    "# SimulationConfigInput = {\n",
    "#     \"DataFileInput\" : \"BostonHousing\",                  # Data File Input\n",
    "#     'Seed': 1,                                          # Seed\n",
    "#     'TestProportion': 0.2,                              # Test proportion\n",
    "#     'CandidateProportion': 0.8,                         # Candidate proportion\n",
    "#     'SelectorType': YourNewFunctionName,                      # Options: [GSxFunction, GSyFunction, iGSFunction, PassiveLearning] (all of these are for regression)\n",
    "#     'ModelType': YourNewSelectorName,       # Options: [LinearRegressionFunction, RandomForestRegressorFunction] (all of these are for regression)\n",
    "#     'n_estimators': 100,                                # If using RandomForestRegressorFunction/RandomForestClassificationFunction, this is the number of trees\n",
    "#     'Type': 'Regression',                               # Options: [Classification, Regression]\n",
    "#     'UniqueErrorsInput': 0,                             # Ignore this for now (used for Rashomon)\n",
    "#     'regularization': 0.01,                             # Ignore this for now (used for Rashomon)\n",
    "#     'RashomonThresholdType': \"Adder\",                   # Ignore this for now (used for Rashomon)\n",
    "#     'RashomonThreshold': 0.05}                          # Ignore this for now (used for Rashomon)\n"
   ]
  },
  {
   "cell_type": "markdown",
   "metadata": {},
   "source": [
    "## 2. Multiple Simulations"
   ]
  },
  {
   "cell_type": "markdown",
   "metadata": {},
   "source": [
    "Ordinadily, in order to compare methods we want a wide range of simulations. In the above work, we only ran 1 simulation. Instead, we want to run 100 simulations each with diferent seeds for eah method, average the methods, then compare their results. I will walk you through this. \n",
    "\n",
    "1. Firstly, initialize a list for the four selector methods methods (one for each mehod: GSxFunction, GSyFunction, iGSFunction, PassiveLearning) to store your results.\n",
    "2. Within a for loop between 0 and 99, \n",
    "    - Set the seed to the current number of the looop\n",
    "    - Construct 4 SimulationConfigInput\n",
    "    - Run the four iteration functions for each method.\n",
    "        - OneIterationFunction(SimulationConfigInput_Passive)\n",
    "        - OneIterationFunction(SimulationConfigInput_GSx)\n",
    "        - OneIterationFunction(SimulationConfigInput_GSy)\n",
    "        - OneIterationFunction(SimulationConfigInput_iGS)\n",
    "    - Append each of the four methods to their respective results.\n",
    "3. Average the error results within the four methods.\n",
    "4. Create an active learning plot showing the time by number of labelled observations.\n",
    "5. Report the average run time of each selector method.\n",
    "\n",
    "Note this will take **a very long time!** I suspect each loop to take 2 minutes. You are essentially running 4 active learning processes 100 times (with each active learning process takeung about 30 seconds). I would recommend letting this run overnight. Next week, I will show you how can you run this on the university High-Performance Computing Cluster.\n"
   ]
  }
 ],
 "metadata": {
  "kernelspec": {
   "display_name": "rashomon-3.9",
   "language": "python",
   "name": "python3"
  },
  "language_info": {
   "codemirror_mode": {
    "name": "ipython",
    "version": 3
   },
   "file_extension": ".py",
   "mimetype": "text/x-python",
   "name": "python",
   "nbconvert_exporter": "python",
   "pygments_lexer": "ipython3",
   "version": "3.9.20"
  }
 },
 "nbformat": 4,
 "nbformat_minor": 2
}
