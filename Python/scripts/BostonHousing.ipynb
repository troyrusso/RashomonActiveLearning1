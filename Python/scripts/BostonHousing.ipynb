{
 "cells": [
  {
   "cell_type": "markdown",
   "metadata": {},
   "source": [
    "# Import Packages"
   ]
  },
  {
   "cell_type": "code",
   "execution_count": null,
   "metadata": {},
   "outputs": [],
   "source": [
    "import numpy as np\n",
    "import math as math\n",
    "import pandas as pd\n",
    "import random as random\n",
    "import matplotlib.pyplot as plt\n",
    "import scikit_posthocs as sp\n",
    "from scipy.spatial.distance import cdist\n",
    "\n",
    "from sklearn import metrics\n",
    "import random"
   ]
  },
  {
   "cell_type": "markdown",
   "metadata": {},
   "source": [
    "# Import Functions"
   ]
  },
  {
   "cell_type": "code",
   "execution_count": 2,
   "metadata": {},
   "outputs": [],
   "source": [
    "import importlib.util\n",
    "import os\n",
    "\n",
    "def source_directory(directory_path):\n",
    "    for filename in os.listdir(directory_path):\n",
    "        if filename.endswith(\".py\"):\n",
    "            # Define the module name and path\n",
    "            module_name = filename[:-3]  # Remove the .py extension\n",
    "            module_path = os.path.join(directory_path, filename)\n",
    "            \n",
    "            # Dynamically load the module\n",
    "            spec = importlib.util.spec_from_file_location(module_name, module_path)\n",
    "            module = importlib.util.module_from_spec(spec)\n",
    "            spec.loader.exec_module(module)\n",
    "            \n",
    "            # Inject all functions and variables into the global namespace\n",
    "            globals().update({name: getattr(module, name) for name in dir(module) if not name.startswith(\"__\")})\n",
    "\n",
    "# Example usage\n",
    "source_directory(\"../functions\")\n"
   ]
  },
  {
   "cell_type": "code",
   "execution_count": 3,
   "metadata": {},
   "outputs": [],
   "source": [
    "source_directory(\"/Users/simondn/Documents/RashomonActiveLearning/Python/functions/Main\")\n",
    "source_directory(\"/Users/simondn/Documents/RashomonActiveLearning/Python/functions/Prediction\")\n",
    "source_directory(\"/Users/simondn/Documents/RashomonActiveLearning/Python/functions/Selector\")"
   ]
  },
  {
   "cell_type": "code",
   "execution_count": 4,
   "metadata": {},
   "outputs": [],
   "source": [
    "def RunLearningProcedure(df_Train, df_Test, df_Candidate, \n",
    "                         SelectorType, selector_args,\n",
    "                         ModelType, model_args):\n",
    "\n",
    "    ### Set Up ###\n",
    "    ErrorVec = []\n",
    "    SelectedObservationHistory = []\n",
    "\n",
    "    ### Algorithm\n",
    "    for i in range(0, len(df_Candidate)):\n",
    "\n",
    "        ### Prediction Model ###\n",
    "        Model = ModelType(**model_args)\n",
    "        if \"Model\" in selector_args.keys(): selector_args['Model'] = Model            # NOTE: THIS IS NOT DYNAMIC\n",
    "\n",
    "        CurrentError = TestErrorFunction(Model, df_Test)\n",
    "        ErrorVec.append(CurrentError)\n",
    "\n",
    "        ### Sampling Procedure ###\n",
    "        QueryObservationIndex = SelectorType(**selector_args)\n",
    "        QueryObservation = df_Candidate.loc[[QueryObservationIndex]] # or should this be iloc\n",
    "        SelectedObservationHistory.append(QueryObservationIndex)\n",
    "\n",
    "        # print(\"Iteration: \", i, \"| QueryIndex: \", QueryObservationIndex, \"| Inclusion: \", QueryObservationIndex in df_Candidate.index)\n",
    "        # print(df_Train)\n",
    "        # print(df_Candidate)\n",
    "        # print(\"---\")\n",
    "        \n",
    "        ### Update Train and Candidate Sets ###\n",
    "        df_Train = pd.concat([df_Train, QueryObservation])\n",
    "        df_Candidate = df_Candidate.drop(QueryObservationIndex)\n",
    "\n",
    "        ### Update selector_args and model_args ###                                     # NOTE: THIS IS NOT DYNAMIC\n",
    "        if \"df_Train\" in model_args.keys(): model_args['df_Train'] = df_Train\n",
    "        if \"df_Train\" in selector_args.keys(): selector_args['df_Train'] = df_Train\n",
    "        if \"df_Candidate\" in selector_args.keys(): selector_args['df_Candidate'] = df_Candidate            \n",
    "\n",
    "    return ErrorVec, SelectedObservationHistory"
   ]
  },
  {
   "cell_type": "markdown",
   "metadata": {},
   "source": [
    "# Data "
   ]
  },
  {
   "cell_type": "code",
   "execution_count": 5,
   "metadata": {},
   "outputs": [
    {
     "name": "stdout",
     "output_type": "stream",
     "text": [
      "      CRIM    ZN  INDUS  CHAS    NOX     RM   AGE     DIS  RAD    TAX  \\\n",
      "0  0.00632  18.0   2.31     0  0.538  6.575  65.2  4.0900    1  296.0   \n",
      "1  0.02731   0.0   7.07     0  0.469  6.421  78.9  4.9671    2  242.0   \n",
      "2  0.02729   0.0   7.07     0  0.469  7.185  61.1  4.9671    2  242.0   \n",
      "3  0.03237   0.0   2.18     0  0.458  6.998  45.8  6.0622    3  222.0   \n",
      "4  0.06905   0.0   2.18     0  0.458  7.147  54.2  6.0622    3  222.0   \n",
      "\n",
      "   PTRATIO       B  LSTAT     Y  \n",
      "0     15.3  396.90   4.98  24.0  \n",
      "1     17.8  396.90   9.14  21.6  \n",
      "2     17.8  392.83   4.03  34.7  \n",
      "3     18.7  394.63   2.94  33.4  \n",
      "4     18.7  396.90   5.33  36.2  \n",
      "Data array shape: (506, 13)\n",
      "Output array shape: (506,)\n"
     ]
    }
   ],
   "source": [
    "# Define file path and column names\n",
    "datafile = \"/Users/simondn/Documents/RashomonActiveLearning/Data/BostonHousing.data\"\n",
    "column_names = [\"CRIM\", \"ZN\", \"INDUS\", \"CHAS\", \"NOX\", \"RM\", \"AGE\", \"DIS\", \"RAD\", \"TAX\", \n",
    "                \"PTRATIO\", \"B\", \"LSTAT\", \"Y\"]\n",
    "\n",
    "# Load data into DataFrame\n",
    "df = pd.read_csv(datafile, header=None, sep='\\s+', names=column_names)\n",
    "\n",
    "# Separate features and target into arrays\n",
    "dataArray = df.iloc[:, :-1].values   # All columns except the last (features)\n",
    "dataOutput = df.iloc[:, -1].values   # Only the last column (target)\n",
    "\n",
    "# Print to check if it loaded correctly\n",
    "print(df.head())\n",
    "print(\"Data array shape:\", dataArray.shape)\n",
    "print(\"Output array shape:\", dataOutput.shape)"
   ]
  },
  {
   "cell_type": "markdown",
   "metadata": {},
   "source": [
    "# Simulation"
   ]
  },
  {
   "cell_type": "markdown",
   "metadata": {},
   "source": [
    "## Set Up"
   ]
  },
  {
   "cell_type": "code",
   "execution_count": 6,
   "metadata": {},
   "outputs": [],
   "source": [
    "### Input ###\n",
    "SimulationN = 100\n",
    "TestProportion = 0.2\n",
    "CandidateProportion = 0.8\n",
    "seed = 1\n",
    "\n",
    "### Set Up ###\n",
    "SimulationErrorResultsPassive = []\n",
    "SimulationErrorResultsGSx = []\n",
    "SimulationErrorResultsGSy_Test = []\n",
    "SimulationErrorResultsGSy = []\n",
    "SimulationErrorResultsiGS = []\n",
    "SimulationErrorResultsiGS_Test = []"
   ]
  },
  {
   "cell_type": "markdown",
   "metadata": {},
   "source": [
    "## Simulation"
   ]
  },
  {
   "cell_type": "code",
   "execution_count": null,
   "metadata": {},
   "outputs": [
    {
     "name": "stdout",
     "output_type": "stream",
     "text": [
      "Simulation iter:  0\n",
      "Simulation iter:  1\n",
      "Simulation iter:  2\n",
      "Simulation iter:  3\n",
      "Simulation iter:  4\n",
      "Simulation iter:  5\n",
      "Simulation iter:  6\n",
      "Simulation iter:  7\n",
      "Simulation iter:  8\n",
      "Simulation iter:  9\n",
      "Simulation iter:  10\n",
      "Simulation iter:  11\n",
      "Simulation iter:  12\n",
      "Simulation iter:  13\n",
      "Simulation iter:  14\n",
      "Simulation iter:  15\n",
      "Simulation iter:  16\n",
      "Simulation iter:  17\n",
      "Simulation iter:  18\n",
      "Simulation iter:  19\n",
      "Simulation iter:  20\n",
      "Simulation iter:  21\n",
      "Simulation iter:  22\n",
      "Simulation iter:  23\n",
      "Simulation iter:  24\n",
      "Simulation iter:  25\n",
      "Simulation iter:  26\n",
      "Simulation iter:  27\n",
      "Simulation iter:  28\n",
      "Simulation iter:  29\n",
      "Simulation iter:  30\n",
      "Simulation iter:  31\n",
      "Simulation iter:  32\n",
      "Simulation iter:  33\n",
      "Simulation iter:  34\n",
      "Simulation iter:  35\n",
      "Simulation iter:  36\n",
      "Simulation iter:  37\n",
      "Simulation iter:  38\n",
      "Simulation iter:  39\n",
      "Simulation iter:  40\n",
      "Simulation iter:  41\n",
      "Simulation iter:  42\n",
      "Simulation iter:  43\n",
      "Simulation iter:  44\n",
      "Simulation iter:  45\n",
      "Simulation iter:  46\n",
      "Simulation iter:  47\n",
      "Simulation iter:  48\n",
      "Simulation iter:  49\n",
      "Simulation iter:  50\n",
      "Simulation iter:  51\n",
      "Simulation iter:  52\n",
      "Simulation iter:  53\n",
      "Simulation iter:  54\n",
      "Simulation iter:  55\n",
      "Simulation iter:  56\n",
      "Simulation iter:  57\n",
      "Simulation iter:  58\n",
      "Simulation iter:  59\n",
      "Simulation iter:  60\n",
      "Simulation iter:  61\n",
      "Simulation iter:  62\n",
      "Simulation iter:  63\n",
      "Simulation iter:  64\n",
      "Simulation iter:  65\n",
      "Simulation iter:  66\n",
      "Simulation iter:  67\n",
      "Simulation iter:  68\n",
      "Simulation iter:  69\n",
      "Simulation iter:  70\n",
      "Simulation iter:  71\n",
      "Simulation iter:  72\n",
      "Simulation iter:  73\n",
      "Simulation iter:  74\n",
      "Simulation iter:  75\n",
      "Simulation iter:  76\n",
      "Simulation iter:  77\n",
      "Simulation iter:  78\n",
      "Simulation iter:  79\n",
      "Simulation iter:  80\n",
      "Simulation iter:  81\n",
      "Simulation iter:  82\n",
      "Simulation iter:  83\n",
      "Simulation iter:  84\n",
      "Simulation iter:  85\n",
      "Simulation iter:  86\n",
      "Simulation iter:  87\n",
      "Simulation iter:  88\n",
      "Simulation iter:  89\n",
      "Simulation iter:  90\n",
      "Simulation iter:  91\n",
      "Simulation iter:  92\n",
      "Simulation iter:  93\n",
      "Simulation iter:  94\n",
      "Simulation iter:  95\n",
      "Simulation iter:  96\n",
      "Simulation iter:  97\n",
      "Simulation iter:  98\n",
      "Simulation iter:  99\n"
     ]
    }
   ],
   "source": [
    "for seed in range(0,SimulationN):\n",
    "\n",
    "    print(\"Simulation iter: \", seed)\n",
    "\n",
    "    ### Set Seed ###\n",
    "    random.seed(seed)\n",
    "    np.random.seed(seed)\n",
    "\n",
    "    ### Set Up ###\n",
    "    ErrorVec = []\n",
    "    SelectedObservationHistory = []\n",
    "\n",
    "    ### Train Test Candidate Split ###\n",
    "    df_Train, df_Test, df_Candidate = TrainTestCandidateSplit(df, TestProportion, CandidateProportion)\n",
    "\n",
    "    ### Learning Algorithm ###\n",
    "\n",
    "    ## Passive ##\n",
    "    ErrorVecPassive, SelectedObservationHistoryPassive = RunLearningProcedure(df_Train = df_Train, \n",
    "                     df_Test = df_Test, \n",
    "                     df_Candidate = df_Candidate, \n",
    "                     SelectorType = PassiveLearning, \n",
    "                     selector_args = {'df_Candidate' : df_Candidate},\n",
    "                     ModelType = LinearRegressionFunction, \n",
    "                     model_args = {'df_Train' : df_Train}\n",
    "                     )\n",
    "    \n",
    "    ## GSx ##\n",
    "    ErrorVecGSx, SelectedObservationHistoryGSx = RunLearningProcedure(df_Train = df_Train, \n",
    "                     df_Test = df_Test, \n",
    "                     df_Candidate = df_Candidate, \n",
    "                     SelectorType = GSxFunction, \n",
    "                     selector_args = {'df_Train' : df_Train,\n",
    "                                      'df_Candidate' : df_Candidate,\n",
    "                                      'distance' : 'euclidean'},\n",
    "                     ModelType = LinearRegressionFunction, \n",
    "                     model_args = {'df_Train' : df_Train}\n",
    "                     )\n",
    "    \n",
    "    ## GSy - Training ##\n",
    "    ErrorVecGSy, SelectedObservationHistoryGSy = RunLearningProcedure(df_Train = df_Train, \n",
    "                     df_Test = df_Test, \n",
    "                     df_Candidate = df_Candidate, \n",
    "                     SelectorType = GSyFunction, \n",
    "                     selector_args = {'df_Train' : df_Train,                  #  NOTE: or should this be df_Test\n",
    "                                      'df_Candidate' : df_Candidate,\n",
    "                                      'Model': None,\n",
    "                                      'distance' : 'euclidean'},\n",
    "                     ModelType = LinearRegressionFunction, \n",
    "                     model_args = {'df_Train' : df_Train}\n",
    "                     )\n",
    "    \n",
    "    ## iGS ##\n",
    "    ErrorVeciGS, SelectedObservationHistoryiGS = RunLearningProcedure(df_Train = df_Train, \n",
    "                     df_Test = df_Test, \n",
    "                     df_Candidate = df_Candidate, \n",
    "                     SelectorType = iGSFunction, \n",
    "                     selector_args = {'df_Train' : df_Train,                  #  NOTE: or should this be df_Test\n",
    "                                      'df_Candidate' : df_Candidate,\n",
    "                                      'Model': None,\n",
    "                                      'distance' : 'euclidean'},\n",
    "                     ModelType = LinearRegressionFunction, \n",
    "                     model_args = {'df_Train' : df_Train}\n",
    "                     )\n",
    "\n",
    "    ## GSy - Test ##\n",
    "    ErrorVecGSy_Test, SelectedObservationHistoryGSy_Test = RunLearningProcedure(df_Train = df_Train, \n",
    "                     df_Test = df_Test, \n",
    "                     df_Candidate = df_Candidate, \n",
    "                     SelectorType = GSyFunction, \n",
    "                     selector_args = {'df_Train' : df_Test,                  #  NOTE: or should this be df_Test\n",
    "                                      'df_Candidate' : df_Candidate,\n",
    "                                      'Model': None,\n",
    "                                      'distance' : 'euclidean'},\n",
    "                     ModelType = LinearRegressionFunction, \n",
    "                     model_args = {'df_Train' : df_Train}\n",
    "                     )\n",
    "    \n",
    "    ## iGS - Test ##\n",
    "    ErrorVeciGS_Test, SelectedObservationHistoryiGS_Test = RunLearningProcedure(df_Train = df_Train, \n",
    "                     df_Test = df_Test, \n",
    "                     df_Candidate = df_Candidate, \n",
    "                     SelectorType = iGSFunction, \n",
    "                     selector_args = {'df_Train' : df_Test,                  #  NOTE: or should this be df_Test\n",
    "                                      'df_Candidate' : df_Candidate,\n",
    "                                      'Model': None,\n",
    "                                      'distance' : 'euclidean'},\n",
    "                     ModelType = LinearRegressionFunction, \n",
    "                     model_args = {'df_Train' : df_Train}\n",
    "                     )\n",
    "    \n",
    "    ### Save ###\n",
    "    SimulationErrorResultsPassive.append(ErrorVecPassive)\n",
    "    SimulationErrorResultsGSx.append(ErrorVecGSx)\n",
    "    SimulationErrorResultsGSy.append(ErrorVecGSy)\n",
    "    SimulationErrorResultsGSy_Test.append(ErrorVecGSy_Test)\n",
    "    SimulationErrorResultsiGS.append(ErrorVeciGS)\n",
    "    SimulationErrorResultsiGS_Test.append(ErrorVeciGS_Test)\n"
   ]
  },
  {
   "cell_type": "code",
   "execution_count": null,
   "metadata": {},
   "outputs": [],
   "source": [
    "np.savetxt(\"/Users/simondn/Documents/RashomonActiveLearning/PythonResults/BostonHousing_Passive.csv\", \n",
    "              SimulationErrorResultsPassive, \n",
    "              delimiter=\",\")\n",
    "np.savetxt(\"/Users/simondn/Documents/RashomonActiveLearning/PythonResults/BostonHousing_GSx.csv\", \n",
    "              SimulationErrorResultsGSx, \n",
    "              delimiter=\",\")\n",
    "np.savetxt(\"/Users/simondn/Documents/RashomonActiveLearning/PythonResults/BostonHousing_GSy.csv\", \n",
    "              SimulationErrorResultsGSy,\n",
    "              delimiter=\",\")\n",
    "np.savetxt(\"/Users/simondn/Documents/RashomonActiveLearning/PythonResults/BostonHousing_iGS.csv\", \n",
    "              SimulationErrorResultsiGS, \n",
    "              delimiter=\",\")\n",
    "np.savetxt(\"/Users/simondn/Documents/RashomonActiveLearning/PythonResults/BostonHousing_GSy_Test.csv\", \n",
    "              SimulationErrorResultsGSy_Test, \n",
    "              delimiter=\",\")\n",
    "np.savetxt(\"/Users/simondn/Documents/RashomonActiveLearning/PythonResults/BostonHousing_iGS_Test.csv\", \n",
    "              SimulationErrorResultsiGS_Test, \n",
    "              delimiter=\",\")"
   ]
  },
  {
   "cell_type": "markdown",
   "metadata": {},
   "source": [
    "# Plots"
   ]
  },
  {
   "cell_type": "code",
   "execution_count": 60,
   "metadata": {},
   "outputs": [],
   "source": [
    "### Means ###\n",
    "SimulationMean_Passive = np.mean(SimulationErrorResultsPassive, axis =0)\n",
    "SimulationMean_GSx = np.mean(SimulationErrorResultsGSx, axis =0)\n",
    "SimulationMean_GSy = np.mean(SimulationErrorResultsGSy, axis =0)\n",
    "SimulationMean_iGS = np.mean(SimulationErrorResultsiGS, axis =0)\n",
    "SimulationMean_GSy_Test = np.mean(SimulationErrorResultsGSy_Test, axis =0)\n",
    "SimulationMean_iGS_Test = np.mean(SimulationErrorResultsiGS_Test, axis =0)\n",
    "\n",
    "### Standard Errors ###\n",
    "SimulationStd_Passive = np.std(SimulationErrorResultsPassive, axis=0) / np.sqrt(len(SimulationErrorResultsPassive))\n",
    "SimulationStd_GSx = np.std(SimulationErrorResultsGSx, axis=0) / np.sqrt(len(SimulationErrorResultsGSx))\n",
    "SimulationStd_GSy = np.std(SimulationErrorResultsGSy, axis=0) / np.sqrt(len(SimulationErrorResultsGSy))\n",
    "SimulationStd_iGS = np.std(SimulationErrorResultsiGS, axis=0) / np.sqrt(len(SimulationErrorResultsiGS))\n",
    "SimulationStd_GS_Test = np.std(SimulationErrorResultsGSy_Test, axis=0) / np.sqrt(len(SimulationErrorResultsGSy_Test))\n",
    "SimulationStd_iGS_Test = np.std(SimulationErrorResultsiGS_Test, axis=0) / np.sqrt(len(SimulationErrorResultsiGS_Test))"
   ]
  },
  {
   "cell_type": "code",
   "execution_count": 71,
   "metadata": {},
   "outputs": [
    {
     "data": {
      "image/png": "[encoded data removed]",
      "text/plain": [
       "<Figure size 640x480 with 1 Axes>"
      ]
     },
     "metadata": {},
     "output_type": "display_data"
    }
   ],
   "source": [
    "### Plots ###\n",
    "# Define the x-axis points\n",
    "ZScore = 1.65\n",
    "TransparencyVal = 0\n",
    "XValues = range(len(SimulationMean_Passive))\n",
    "\n",
    "# Plot each mean line with confidence bands\n",
    "plt.plot(XValues, SimulationMean_Passive, label=\"Passive\")\n",
    "plt.fill_between(XValues,\n",
    "                 SimulationMean_Passive - ZScore * SimulationStd_Passive,\n",
    "                 SimulationMean_Passive + ZScore * SimulationStd_Passive,\n",
    "                 color='blue', alpha = TransparencyVal)\n",
    "\n",
    "plt.plot(XValues, SimulationMean_GSx, label=\"GSx\")\n",
    "plt.fill_between(XValues,\n",
    "                 SimulationMean_GSx - ZScore * SimulationStd_GSx,\n",
    "                 SimulationMean_GSx + ZScore * SimulationStd_GSx,\n",
    "                 color='orange', alpha = TransparencyVal)\n",
    "\n",
    "plt.plot(XValues, SimulationMean_GSy, label=\"GSy\")\n",
    "plt.fill_between(XValues,\n",
    "                 SimulationMean_GSy - ZScore * SimulationStd_GSy,\n",
    "                 SimulationMean_GSy + ZScore * SimulationStd_GSy,\n",
    "                 color='green', alpha = TransparencyVal)\n",
    "\n",
    "plt.plot(XValues, SimulationMean_iGS, label=\"iGS\")\n",
    "plt.fill_between(XValues,\n",
    "                 SimulationMean_iGS - ZScore * SimulationStd_iGS,\n",
    "                 SimulationMean_iGS + ZScore * SimulationStd_iGS,\n",
    "                 color='red', alpha = TransparencyVal)\n",
    "\n",
    "# Add legend and labels\n",
    "plt.legend()\n",
    "plt.xlabel(\"Observation\")\n",
    "plt.ylabel(\"Error\")\n",
    "plt.title(\"Active Learning Methods with 95% Confidence Bands\")\n",
    "plt.show()"
   ]
  },
  {
   "cell_type": "code",
   "execution_count": null,
   "metadata": {},
   "outputs": [],
   "source": []
  },
  {
   "cell_type": "markdown",
   "metadata": {},
   "source": [
    "# Statistical Testing - Dunn's Procedure"
   ]
  },
  {
   "cell_type": "code",
   "execution_count": null,
   "metadata": {},
   "outputs": [],
   "source": [
    "### Set Up ###\n",
    "SimulationResults = pd.DataFrame({\"Passive\": SimulationMean_Passive,\n",
    "                                  \"GSx\": SimulationMean_GSx,\n",
    "                                  \"GSy\": SimulationMean_GSy,\n",
    "                                  \"iGS\": SimulationMean_iGS,})\n",
    "SimulationResults_Long = SimulationResults.melt(var_name=\"Algorithm\", value_name=\"RMSE\")\n"
   ]
  },
  {
   "cell_type": "code",
   "execution_count": null,
   "metadata": {},
   "outputs": [
    {
     "name": "stdout",
     "output_type": "stream",
     "text": [
      "           GSx    GSy  Passive    iGS\n",
      "GSx      False   True     True   True\n",
      "GSy       True  False     True  False\n",
      "Passive   True   True    False   True\n",
      "iGS       True  False     True  False\n"
     ]
    }
   ],
   "source": [
    "### Results ###\n",
    "DunnResults = sp.posthoc_dunn(SimulationResults_Long, val_col='RMSE', group_col='Algorithm', p_adjust='fdr_bh')\n",
    "\n",
    "print(DunnResults<0.05)"
   ]
  },
  {
   "cell_type": "code",
   "execution_count": null,
   "metadata": {},
   "outputs": [],
   "source": []
  },
  {
   "cell_type": "code",
   "execution_count": null,
   "metadata": {},
   "outputs": [],
   "source": [
    "# Reshape data to long format\n",
    "df_long = df.melt(var_name=\"Algorithm\", value_name=\"RMSE\")"
   ]
  }
 ],
 "metadata": {
  "kernelspec": {
   "display_name": "Python 3",
   "language": "python",
   "name": "python3"
  },
  "language_info": {
   "codemirror_mode": {
    "name": "ipython",
    "version": 3
   },
   "file_extension": ".py",
   "mimetype": "text/x-python",
   "name": "python",
   "nbconvert_exporter": "python",
   "pygments_lexer": "ipython3",
   "version": "3.9.6"
  }
 },
 "nbformat": 4,
 "nbformat_minor": 2
}
